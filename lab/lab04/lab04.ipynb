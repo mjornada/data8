{
 "cells": [
  {
   "cell_type": "code",
   "execution_count": null,
   "metadata": {
    "deletable": false,
    "editable": false
   },
   "outputs": [],
   "source": [
    "# Inicialize o Otter\n",
    "import otter\n",
    "grader = otter.Notebook(\"lab04.ipynb\")"
   ]
  },
  {
   "cell_type": "markdown",
   "metadata": {},
   "source": [
    "# Laboratório 4: Funções e Visualizações"
   ]
  },
  {
   "cell_type": "markdown",
   "metadata": {},
   "source": [
    "Bem-vindo ao Laboratório 4! Esta semana, aprenderemos sobre funções, métodos de tabela como `apply`, e como gerar visualizações!\n",
    "\n",
    "Leitura Recomendada:\n",
    "\n",
    "* [Aplicando uma Função a uma Coluna](https://inferentialthinking.com/chapters/08/1/Applying_a_Function_to_a_Column.html)\n",
    "* [Visualizações](https://inferentialthinking.com/chapters/07/Visualization.html)\n",
    "* [Referência Python](http://data8.org/sp22/python-reference.html)\n",
    "\n",
    "**Submissão**: Quando terminar, execute todas as células, exceto a última, selecione Arquivo > Salvar Notebook e, em seguida, execute a célula final. Em seguida, envie o arquivo zip baixado, que inclui seu notebook, de acordo com as instruções do seu professor."
   ]
  },
  {
   "cell_type": "markdown",
   "metadata": {},
   "source": [
    "Primeiro, configure o notebook executando a célula abaixo."
   ]
  },
  {
   "cell_type": "code",
   "execution_count": null,
   "metadata": {},
   "outputs": [],
   "source": [
    "import numpy as np\n",
    "from datascience import *\n",
    "\n",
    "# Essas linhas configuram as capacidades de gráficos.\n",
    "import matplotlib\n",
    "%matplotlib inline\n",
    "import matplotlib.pyplot as plt\n",
    "plt.style.use('fivethirtyeight')\n",
    "import warnings\n",
    "warnings.simplefilter('ignore', FutureWarning)\n",
    "\n",
    "from ipywidgets import interact, interactive, fixed, interact_manual\n",
    "import ipywidgets as widgets\n",
    "\n",
    "import d8error"
   ]
  },
  {
   "cell_type": "markdown",
   "metadata": {},
   "source": [
    "## 1. Definindo funções\n",
    "\n",
    "Vamos escrever uma função muito simples que converte uma proporção em uma porcentagem multiplicando-a por 100. Por exemplo, o valor de `to_percentage(.5)` deve ser o número 50 (sem o sinal de porcentagem).\n",
    "\n",
    "Uma definição de função tem algumas partes."
   ]
  },
  {
   "cell_type": "markdown",
   "metadata": {},
   "source": [
    "##### `def`\n",
    "Sempre começa com `def` (abreviação de **def**inir):\n",
    "\n",
    "    def\n"
   ]
  },
  {
   "cell_type": "markdown",
   "metadata": {},
   "source": [
    "##### Nome\n",
    "Em seguida, vem o nome da função. Como outros nomes que definimos, ele não pode começar com um número ou conter espaços. Vamos chamar nossa função de `to_percentage`:\n",
    "\n",
    "    def to_percentage\n"
   ]
  },
  {
   "cell_type": "markdown",
   "metadata": {},
   "source": [
    "##### Assinatura\n",
    "Em seguida, vem algo chamado *assinatura* da função. Isso informa ao Python quantos argumentos sua função deve ter e quais nomes você usará para se referir a esses argumentos no código da função. Uma função pode ter qualquer número de argumentos (incluindo 0!).\n",
    "\n",
    "`to_percentage` deve receber um argumento, e chamaremos esse argumento de `proportion` já que deve ser uma proporção.\n",
    "\n",
    "    def to_percentage(proportion)\n",
    "    \n",
    "Se quisermos que nossa função receba mais de um argumento, adicionamos uma vírgula entre cada nome de argumento. Note que se tivéssemos zero argumentos, ainda assim colocaríamos os parênteses () após o nome.\n",
    "\n",
    "Colocamos um **dois pontos** após a assinatura para informar ao Python que as próximas linhas indentadas são o corpo da função. Se você está recebendo um erro de sintaxe após definir uma função, verifique se você se lembrou do dois pontos!\n",
    "\n",
    "    def to_percentage(proportion):"
   ]
  },
  {
   "cell_type": "markdown",
   "metadata": {},
   "source": [
    "##### Documentação\n",
    "As funções podem fazer coisas complicadas, então você deve escrever uma explicação do que sua função faz. Para funções pequenas, isso é menos importante, mas é um bom hábito aprender desde o início. Convencionalmente, as funções Python são documentadas escrevendo uma string entre aspas triplas **indentada**:\n",
    "\n",
    "    def to_percentage(proportion):\n",
    "        \"\"\"Converte uma proporção em uma porcentagem.\"\"\""
   ]
  },
  {
   "cell_type": "markdown",
   "metadata": {},
   "source": [
    "##### Corpo\n",
    "Agora começamos a escrever o código que é executado quando a função é chamada. Isso é chamado de *corpo* da função e cada linha **deve ser indentada com um tab**. Qualquer linha que *não* seja indentada e alinhada à esquerda com a declaração def é considerada fora da função.\n",
    "\n",
    "Algumas notas sobre o corpo da função:\n",
    "- Podemos escrever o código que escreveríamos em qualquer outro lugar.\n",
    "- Usamos os argumentos definidos na assinatura da função. Podemos fazer isso porque assumimos que, quando chamamos a função, valores já estão atribuídos a esses argumentos.\n",
    "- Geralmente evitamos referenciar variáveis definidas *fora* da função. Se você quiser referenciar variáveis fora da função, passe-as como argumentos!\n",
    "\n",
    "Agora, vamos dar um nome ao número pelo qual multiplicamos uma proporção para obter uma porcentagem:\n",
    "\n",
    "    def to_percentage(proportion):\n",
    "        \"\"\"Converte uma proporção em uma porcentagem.\"\"\"\n",
    "        factor = 100\n"
   ]
  },
  {
   "cell_type": "markdown",
   "metadata": {},
   "source": [
    "##### `return`\n",
    "A instrução especial `return` faz parte do corpo da função e diz ao Python para fazer o valor da chamada da função igual ao que vem logo após `return`. Queremos que o valor de `to_percentage(.5)` seja a proporção .5 vezes o fator 100, então escrevemos:\n",
    "\n",
    "    def to_percentage(proportion):\n",
    "        \"\"\"Converte uma proporção em uma porcentagem.\"\"\"\n",
    "        factor = 100\n",
    "        return proportion * factor\n",
    "        \n",
    "`return` só faz sentido no contexto de uma função, e **nunca pode ser usado fora de uma função**. `return` é sempre a última linha da função porque Python para de executar o corpo de uma função assim que atinge uma instrução `return`. Se uma função não tem uma instrução de retorno, ela não retornará nada; se você espera um valor de volta da função, certifique-se de incluir uma instrução de retorno.\n",
    "\n",
    "*Nota:* `return` dentro de uma função diz ao Python qual valor a função avalia. No entanto, existem outras funções, como `print`, que não têm valor de `return`. Por exemplo, `print` simplesmente imprime um determinado valor no console.\n",
    "\n",
    "Em resumo, `return` é usado quando você quer dizer ao *computador* qual é o valor de alguma variável, enquanto `print` é usado para dizer a você, um *humano*, seu valor."
   ]
  },
  {
   "cell_type": "markdown",
   "metadata": {},
   "source": [
    "**Questão 1.1.** Defina `to_percentage` na célula abaixo. Chame sua função para converter a proporção .2 em uma porcentagem. Nomeie essa porcentagem `twenty_percent`."
   ]
  },
  {
   "cell_type": "code",
   "execution_count": null,
   "metadata": {
    "tags": []
   },
   "outputs": [],
   "source": [
    "def ...\n",
    "    ''' ... '''\n",
    "    ... = ...\n",
    "    return ...\n",
    "\n",
    "twenty_percent = ...\n",
    "twenty_percent"
   ]
  },
  {
   "cell_type": "code",
   "execution_count": null,
   "metadata": {
    "deletable": false,
    "editable": false
   },
   "outputs": [],
   "source": [
    "grader.check(\"q11\")"
   ]
  },
  {
   "cell_type": "markdown",
   "metadata": {},
   "source": [
    "Aqui está algo importante sobre funções: os nomes atribuídos *dentro* de um corpo de função só são acessíveis dentro do corpo da função. Uma vez que a função retornou, esses nomes se foram. Então, mesmo que você tenha criado uma variável chamada `factor` e definido `factor = 100` dentro do corpo da função `to_percentage` e então chamado `to_percentage`, `factor` não teria um valor atribuído a ele fora do corpo de `to_percentage`:\n",
    "\n",
    "**Nota**: Abaixo, você deve ver uma mensagem de erro começando com \"Uh-o\", junto com o erro oficial do Python abaixo dela. A primeira mensagem que você vê é especificamente da equipe do Data 8 para fornecer ajuda extra na depuração. Ela não aparecerá se você encontrar erros do Python fora do Data 8."
   ]
  },
  {
   "cell_type": "code",
   "execution_count": null,
   "metadata": {
    "deletable": false,
    "tags": [
     "raises-exception"
    ]
   },
   "outputs": [],
   "source": [
    "# Você deve receber um erro quando executar isso. (Se você não receber,\n",
    "# você pode ter definido 'factor' em algum lugar acima.)\n",
    "factor"
   ]
  },
  {
   "cell_type": "markdown",
   "metadata": {},
   "source": [
    "Como você fez com funções integradas em laboratórios anteriores (max, abs, etc.), você pode passar valores nomeados como argumentos para sua função.\n",
    "\n",
    "**Questão 1.2.** Use `to_percentage` novamente para converter a proporção chamada `a_proportion` (definida abaixo) para uma porcentagem chamada `a_percentage`.\n",
    "\n",
    "*Nota:* Você não precisa definir `to_percentage` novamente! Como outros valores nomeados, as funções permanecem depois de defini-las."
   ]
  },
  {
   "cell_type": "code",
   "execution_count": null,
   "metadata": {
    "tags": []
   },
   "outputs": [],
   "source": [
    "a_proportion = 2**(0.5) / 2\n",
    "a_percentage = ...\n",
    "a_percentage"
   ]
  },
  {
   "cell_type": "code",
   "execution_count": null,
   "metadata": {},
   "outputs": [],
   "source": [
    "np.isclose(a_percentage, 70.71067811865476)"
   ]
  },
  {
   "cell_type": "markdown",
   "metadata": {},
   "source": [
    "Como vimos com funções integradas, as funções também podem receber strings (ou arrays, ou tabelas) como argumentos, e também podem retornar essas coisas.\n",
    "\n",
    "Na célula a seguir, definiremos uma função chamada `disemvowel`. Ela recebe uma única string como argumento. Ela retorna uma cópia dessa string, mas com todos os caracteres que são vogais removidos. (Em inglês, as vogais são os caracteres \"a\", \"e\", \"i\", \"o\" e \"u\".)\n",
    "\n",
    "Para remover todos os \"a\"s de uma string, usamos `a_string.replace(\"a\", \"\")`. O método `.replace` para strings retorna uma nova string, então podemos chamar `replace` várias vezes, uma após a outra."
   ]
  },
  {
   "cell_type": "code",
   "execution_count": null,
   "metadata": {},
   "outputs": [],
   "source": [
    "def disemvowel(a_string):\n",
    "    \"\"\"Removes all vowels from a string.\"\"\"\n",
    "    return a_string.replace(\"a\", \"\").replace(\"e\", \"\").replace(\"i\", \"\").replace(\"o\", \"\").replace(\"u\", \"\")\n",
    "\n",
    "# Uma chamada de exemplo para a função. (Muitas vezes é útil executar\n",
    "# uma chamada de exemplo de vez em quando enquanto estamos escrevendo uma função,\n",
    "# para ver como ela funciona atualmente.)\n",
    "disemvowel(\"Can you read this without vowels?\")"
   ]
  },
  {
   "cell_type": "markdown",
   "metadata": {},
   "source": [
    "##### Chamadas sobre chamadas sobre chamadas\n",
    "Assim como você escreve uma série de linhas para construir um cálculo complexo, é útil definir uma série de pequenas funções que se baseiam umas nas outras. Como você pode escrever qualquer código dentro do corpo de uma função, você pode chamar outras funções que você escreveu.\n",
    "\n",
    "Se uma função é como uma receita, definir uma função em termos de outras funções é como ter uma receita de bolo que diz para você seguir outra receita para fazer a cobertura, e outra para fazer o recheio de geleia. Isso torna a receita do bolo mais curta e clara, e evita ter um monte de receitas de cobertura duplicadas. É a base da programação produtiva.\n",
    "\n",
    "Por exemplo, suponha que você queira contar o número de caracteres *que não são vogais* em um pedaço de texto. Uma maneira de fazer isso é remover todas as vogais e contar o tamanho da string restante.\n",
    "\n",
    "**Questão 1.3.** Escreva uma função chamada `num_non_vowels`. Ela deve receber uma string como argumento e retornar um número. Esse número deve ser o número de caracteres na string argumento que não são vogais. Você deve usar a função `disemvowel` que fornecemos acima dentro da função `num_non_vowels`.\n",
    "\n",
    "*Dica:* A função `len` recebe uma string como argumento e retorna o número de caracteres nela."
   ]
  },
  {
   "cell_type": "code",
   "execution_count": null,
   "metadata": {
    "tags": []
   },
   "outputs": [],
   "source": [
    "def num_non_vowels(a_string):\n",
    "    \"\"\"The number of characters in a string, minus the vowels.\"\"\"\n",
    "    ...\n",
    "\n",
    "# Tente chamar sua função você mesmo para garantir que a saída seja o que\n",
    "# você espera."
   ]
  },
  {
   "cell_type": "code",
   "execution_count": null,
   "metadata": {
    "deletable": false,
    "editable": false
   },
   "outputs": [],
   "source": [
    "grader.check(\"q13\")"
   ]
  },
  {
   "cell_type": "markdown",
   "metadata": {},
   "source": [
    "As funções também podem encapsular código que *exibe saída* em vez de calcular um valor. Por exemplo, se você chamar `print` dentro de uma função, e então chamar essa função, algo será impresso.\n",
    "\n",
    "O conjunto de dados `movies_by_year` no livro didático tem informações sobre as vendas de filmes em anos recentes. Suponha que você gostaria de exibir o ano com o 5º maior total de vendas brutas de filmes, impresso dentro de uma frase. Você pode fazer isso:"
   ]
  },
  {
   "cell_type": "code",
   "execution_count": null,
   "metadata": {},
   "outputs": [],
   "source": [
    "movies_by_year = Table.read_table(\"movies_by_year.csv\")\n",
    "rank = 5\n",
    "fifth_from_top_movie_year = movies_by_year.sort(\"Total Gross\", descending=True).column(\"Year\").item(rank-1)\n",
    "print(\"Year number\", rank, \"for total gross movie sales was:\", fifth_from_top_movie_year)"
   ]
  },
  {
   "cell_type": "markdown",
   "metadata": {},
   "source": [
    "Depois de escrever isso, você percebe que também queria imprimir os anos com o 2º e 3º maiores totais de vendas brutas de filmes. Em vez de copiar seu código, você decide colocá-lo em uma função. Como o ranking varia, você faz disso um argumento para sua função.\n",
    "\n",
    "**Questão 1.4.** Escreva uma função chamada `print_kth_top_movie_year`. Ela deve receber um único argumento, o ranking do ano (como 2, 3, ou 5 nos exemplos acima) e deve usar a tabela `movies_by_year`. Ela deve imprimir uma mensagem como a acima.\n",
    "\n",
    "*Nota:* Sua função não deve ter uma instrução `return`."
   ]
  },
  {
   "cell_type": "code",
   "execution_count": null,
   "metadata": {
    "tags": []
   },
   "outputs": [],
   "source": [
    "def print_kth_top_movie_year(k):\n",
    "    ...\n",
    "    ...\n",
    "    print(...)\n",
    "\n",
    "# Exemplos de chamadas para sua função:\n",
    "print_kth_top_movie_year(2)\n",
    "print_kth_top_movie_year(3)"
   ]
  },
  {
   "cell_type": "code",
   "execution_count": null,
   "metadata": {
    "deletable": false,
    "editable": false
   },
   "outputs": [],
   "source": [
    "grader.check(\"q14\")"
   ]
  },
  {
   "cell_type": "code",
   "execution_count": null,
   "metadata": {},
   "outputs": [],
   "source": [
    "# interact também permite que você passe um array para um argumento de função. Ele irá\n",
    "# então apresentar um menu suspenso de opções.\n",
    "_ = interact(print_kth_top_movie_year, k=np.arange(1, 10))"
   ]
  },
  {
   "cell_type": "markdown",
   "metadata": {},
   "source": [
    "### `print` não é o mesmo que `return`\n",
    "A função `print_kth_top_movie_year(k)` imprime o total de vendas brutas de filmes para o ano fornecido! No entanto, como não retornamos nenhum valor nesta função, não podemos usá-la depois de chamá-la. Vamos olhar um exemplo de outra função que imprime um valor, mas não o retorna."
   ]
  },
  {
   "cell_type": "code",
   "execution_count": null,
   "metadata": {},
   "outputs": [],
   "source": [
    "def print_number_five():\n",
    "    print(5)"
   ]
  },
  {
   "cell_type": "code",
   "execution_count": null,
   "metadata": {},
   "outputs": [],
   "source": [
    "print_number_five()"
   ]
  },
  {
   "cell_type": "markdown",
   "metadata": {},
   "source": [
    "No entanto, se tentarmos usar a saída de `print_number_five()`, vemos que o valor `5` é impresso, mas obtemos um TypeError quando tentamos adicionar o número 2 a ele!"
   ]
  },
  {
   "cell_type": "code",
   "execution_count": null,
   "metadata": {
    "tags": [
     "raises-exception"
    ]
   },
   "outputs": [],
   "source": [
    "print_number_five_output = print_number_five()\n",
    "print_number_five_output + 2"
   ]
  },
  {
   "cell_type": "markdown",
   "metadata": {},
   "source": [
    "Pode parecer que `print_number_five()` está retornando um valor, 5. Na realidade, ele apenas exibe o número 5 para você sem lhe dar o valor real! Se sua função imprime um valor **sem retorná-lo** e você tenta usar esse valor, você encontrará erros, então tenha cuidado!\n",
    "\n",
    "Explique para seu colega ou um membro da equipe como você poderia adicionar uma linha de código à função `print_number_five` (após `print(5)`) para que o código `print_number_five_output + 5` resultasse no valor `10`, em vez de um erro."
   ]
  },
  {
   "cell_type": "markdown",
   "metadata": {},
   "source": [
    "## 2. Funções e Rendimentos dos CEOs\n",
    "\n",
    "Nesta questão, vamos analisar a compensação de 2015 dos CEOs das 100 maiores empresas da Califórnia. Os dados foram compilados a partir de uma [análise do Los Angeles Times](http://spreadsheets.latimes.com/california-ceo-compensation/), e vieram originalmente de [arquivamentos](https://www.sec.gov/answers/proxyhtf.htm) obrigatórios pela SEC de todas as empresas de capital aberto. Duas empresas têm dois CEOs, então há 102 CEOs no conjunto de dados.\n",
    "\n",
    "Copiamos os dados brutos da página do LA Times para um arquivo chamado `raw_compensation.csv`. (A página observa que todos os valores em dólares estão em **milhões de dólares**.)"
   ]
  },
  {
   "cell_type": "code",
   "execution_count": null,
   "metadata": {},
   "outputs": [],
   "source": [
    "raw_compensation = Table.read_table('raw_compensation.csv')\n",
    "raw_compensation"
   ]
  },
  {
   "cell_type": "markdown",
   "metadata": {},
   "source": [
    "Queremos calcular a média do pagamento dos CEOs. Tente executar a célula abaixo."
   ]
  },
  {
   "cell_type": "code",
   "execution_count": null,
   "metadata": {
    "tags": [
     "raises-exception"
    ]
   },
   "outputs": [],
   "source": [
    "np.average(raw_compensation.column(\"Total Pay\"))"
   ]
  },
  {
   "cell_type": "markdown",
   "metadata": {},
   "source": [
    "Você deve ver um `TypeError`. Vamos examinar por que esse erro ocorreu, olhando os valores na coluna `Total Pay`. Para fazer isso, podemos usar a função `type`. Esta função nos diz o tipo de dados do objeto que passamos para ela. Execute a seguinte célula para ver o que acontece quando passamos `23` para a função `type`. O resultado faz sentido?"
   ]
  },
  {
   "cell_type": "code",
   "execution_count": null,
   "metadata": {},
   "outputs": [],
   "source": [
    "type(23)"
   ]
  },
  {
   "cell_type": "markdown",
   "metadata": {},
   "source": [
    "**Questão 2.1.** Use a função `type` e defina `total_pay_type` como o tipo do primeiro valor na coluna \"Total Pay\"."
   ]
  },
  {
   "cell_type": "code",
   "execution_count": null,
   "metadata": {
    "tags": []
   },
   "outputs": [],
   "source": [
    "total_pay_type = ...\n",
    "total_pay_type"
   ]
  },
  {
   "cell_type": "code",
   "execution_count": null,
   "metadata": {
    "deletable": false,
    "editable": false
   },
   "outputs": [],
   "source": [
    "grader.check(\"q21\")"
   ]
  },
  {
   "cell_type": "markdown",
   "metadata": {},
   "source": [
    "**Questão 2.2.** Você deve ter descoberto que os valores na coluna `Total Pay` são strings. Não faz sentido tirar a média de valores de string, então precisamos convertê-los em números se quisermos fazer isso. Extraia o primeiro valor em `Total Pay`. É o pagamento de Mark Hurd em 2015, em *milhões* de dólares. Chame-o de `mark_hurd_pay_string`."
   ]
  },
  {
   "cell_type": "code",
   "execution_count": null,
   "metadata": {
    "tags": []
   },
   "outputs": [],
   "source": [
    "mark_hurd_pay_string = ...\n",
    "mark_hurd_pay_string"
   ]
  },
  {
   "cell_type": "code",
   "execution_count": null,
   "metadata": {
    "deletable": false,
    "editable": false
   },
   "outputs": [],
   "source": [
    "grader.check(\"q22\")"
   ]
  },
  {
   "cell_type": "markdown",
   "metadata": {},
   "source": [
    "**Questão 2.3.** Converta `mark_hurd_pay_string` para um número de *dólares*.\n",
    "\n",
    "Algumas dicas, pois esta questão requer várias etapas:\n",
    "- O método de string `strip` será útil para remover o sinal de dólar; ele remove um caractere especificado do início ou fim de uma string. Por exemplo, o valor de `\"100%\".strip(\"%\")` é a string `\"100\"`.\n",
    "- Você também precisará da função `float`, que converte uma string que parece um número em um número real. Não se preocupe com o espaço em branco no final da string; a função `float` irá ignorar isso.\n",
    "- Finalmente, lembre-se de que a resposta deve estar em dólares, não em milhões de dólares."
   ]
  },
  {
   "cell_type": "code",
   "execution_count": null,
   "metadata": {
    "tags": []
   },
   "outputs": [],
   "source": [
    "mark_hurd_pay = ...\n",
    "mark_hurd_pay"
   ]
  },
  {
   "cell_type": "code",
   "execution_count": null,
   "metadata": {
    "deletable": false,
    "editable": false
   },
   "outputs": [],
   "source": [
    "grader.check(\"q23\")"
   ]
  },
  {
   "cell_type": "markdown",
   "metadata": {},
   "source": [
    "Para calcular a média salarial, precisamos fazer isso para cada CEO. Mas parece que isso envolveria copiar este código 102 vezes.\n",
    "\n",
    "É aqui que as funções entram. Primeiro, vamos definir uma nova função, dando um nome à expressão que converte as strings de \"salário total\" em valores numéricos. Mais adiante neste laboratório, veremos o resultado: podemos chamar essa função em cada string de pagamento no conjunto de dados de uma só vez.\n",
    "\n",
    "A próxima seção deste laboratório nos dará mais prática na definição de funções. Para esta parte, basta preencher as elipses na célula abaixo.\n",
    "\n",
    "**Questão 2.4.** Copie a expressão que você usou para calcular `mark_hurd_pay`, e use-a como a expressão de retorno da função abaixo. Mas certifique-se de substituir o específico `mark_hurd_pay_string` pelo nome genérico `pay_string` especificado na primeira linha na declaração `def`.\n",
    "\n",
    "*Dica:* Ao lidar com funções, você geralmente não deve estar referenciando nenhuma variável fora da função. Normalmente, você quer estar trabalhando com os argumentos que são passados para ela, como `pay_string` para esta função. Se você está usando `mark_hurd_pay_string` dentro de sua função, você está referenciando uma variável externa!"
   ]
  },
  {
   "cell_type": "code",
   "execution_count": null,
   "metadata": {
    "tags": []
   },
   "outputs": [],
   "source": [
    "def convert_pay_string_to_number(pay_string):\n",
    "    \"\"\"Converts a pay string like '$100' (in millions) to a number of dollars.\"\"\"\n",
    "    ..."
   ]
  },
  {
   "cell_type": "code",
   "execution_count": null,
   "metadata": {
    "deletable": false,
    "editable": false
   },
   "outputs": [],
   "source": [
    "grader.check(\"q24\")"
   ]
  },
  {
   "cell_type": "markdown",
   "metadata": {},
   "source": [
    "Executar essa célula não converte nenhuma string de pagamento específica. Em vez disso, ela cria uma função chamada `convert_pay_string_to_number` que pode converter *qualquer* string com o formato correto para um número representando milhões de dólares.\n",
    "\n",
    "Podemos chamar nossa função assim como chamamos as funções integradas que vimos. Ela recebe um argumento, *uma string*, e retorna um float."
   ]
  },
  {
   "cell_type": "code",
   "execution_count": null,
   "metadata": {},
   "outputs": [],
   "source": [
    "convert_pay_string_to_number('$42')"
   ]
  },
  {
   "cell_type": "code",
   "execution_count": null,
   "metadata": {},
   "outputs": [],
   "source": [
    "convert_pay_string_to_number(mark_hurd_pay_string)"
   ]
  },
  {
   "cell_type": "code",
   "execution_count": null,
   "metadata": {},
   "outputs": [],
   "source": [
    "# Também podemos calcular o pagamento de Safra Catz da mesma maneira:\n",
    "convert_pay_string_to_number(raw_compensation.where(\"Name\", are.containing(\"Safra\")).column(\"Total Pay\").item(0))"
   ]
  },
  {
   "cell_type": "markdown",
   "metadata": {},
   "source": [
    "Então, o que ganhamos ao definir a função `convert_pay_string_to_number`?\n",
    "Bem, sem ela, teríamos que copiar o código `10**6 * float(some_pay_string.strip(\"$\"))` cada vez que quiséssemos converter uma string de pagamento. Agora, apenas chamamos uma função cujo nome diz exatamente o que está fazendo."
   ]
  },
  {
   "cell_type": "markdown",
   "metadata": {},
   "source": [
    "## 3. Aplicando funções\n",
    "\n",
    "Definir uma função é muito parecido com dar um nome a um valor com `=`. Na verdade, uma função é um valor assim como o número 1 ou o texto \"data\"!\n",
    "\n",
    "Por exemplo, podemos dar um novo nome para a função integrada `max` se quisermos:"
   ]
  },
  {
   "cell_type": "code",
   "execution_count": null,
   "metadata": {},
   "outputs": [],
   "source": [
    "our_name_for_max = max\n",
    "our_name_for_max(2, 6)"
   ]
  },
  {
   "cell_type": "markdown",
   "metadata": {},
   "source": [
    "O antigo nome para `max` ainda está por aí:"
   ]
  },
  {
   "cell_type": "code",
   "execution_count": null,
   "metadata": {},
   "outputs": [],
   "source": [
    "max(2, 6)"
   ]
  },
  {
   "cell_type": "markdown",
   "metadata": {},
   "source": [
    "Tente apenas escrever `max` ou `our_name_for_max` (ou o nome de qualquer outra função) em uma célula e execute essa célula. O Python imprimirá uma descrição (muito breve) da função."
   ]
  },
  {
   "cell_type": "code",
   "execution_count": null,
   "metadata": {},
   "outputs": [],
   "source": [
    "max"
   ]
  },
  {
   "cell_type": "markdown",
   "metadata": {},
   "source": [
    "Agora tente escrever `max?` ou `our_name_for_max?` (ou o nome de qualquer outra função) em uma célula e execute essa célula. Uma caixa de informações deve aparecer na parte inferior da sua tela com uma descrição mais longa da função.\n",
    "\n",
    "*Nota: Você também pode pressionar Shift+Tab depois de clicar em um nome para ver informações semelhantes!*"
   ]
  },
  {
   "cell_type": "code",
   "execution_count": null,
   "metadata": {},
   "outputs": [],
   "source": [
    "our_name_for_max?"
   ]
  },
  {
   "cell_type": "markdown",
   "metadata": {},
   "source": [
    "Vamos ver o que acontece quando definimos `max` para um valor que não é uma função. Você notará que ocorrerá um TypeError quando você tentar chamar `max`. Coisas como inteiros e strings não são chamáveis como isto: `\"hello\"(2)`, que está chamando uma string e dará erro. Fique atento a qualquer função que possa ter sido renomeada quando você encontrar este tipo de erro."
   ]
  },
  {
   "cell_type": "code",
   "execution_count": null,
   "metadata": {
    "tags": [
     "raises-exception"
    ]
   },
   "outputs": [],
   "source": [
    "max = 6\n",
    "max(2, 6)"
   ]
  },
  {
   "cell_type": "code",
   "execution_count": null,
   "metadata": {},
   "outputs": [],
   "source": [
    "# Esta célula redefine max para a função integrada. Apenas execute esta célula, não altere seu conteúdo\n",
    "import builtins\n",
    "max = builtins.max"
   ]
  },
  {
   "cell_type": "markdown",
   "metadata": {},
   "source": [
    "Por que isso é útil? Como as funções são apenas valores, é possível passá-las como argumentos para outras funções. Aqui está um exemplo simples, mas não tão prático: podemos fazer um array de funções."
   ]
  },
  {
   "cell_type": "code",
   "execution_count": null,
   "metadata": {},
   "outputs": [],
   "source": [
    "make_array(max, np.average, are.equal_to)"
   ]
  },
  {
   "cell_type": "markdown",
   "metadata": {},
   "source": [
    "**Questão 3.1.** Crie um array contendo quaisquer outras 3 funções que você já viu. Chame-o de `some_functions`."
   ]
  },
  {
   "cell_type": "code",
   "execution_count": null,
   "metadata": {
    "tags": []
   },
   "outputs": [],
   "source": [
    "some_functions = ...\n",
    "some_functions"
   ]
  },
  {
   "cell_type": "code",
   "execution_count": null,
   "metadata": {
    "deletable": false,
    "editable": false
   },
   "outputs": [],
   "source": [
    "grader.check(\"q31\")"
   ]
  },
  {
   "cell_type": "markdown",
   "metadata": {},
   "source": [
    "Trabalhar com funções como valores pode levar a algum código de aparência engraçada. Por exemplo, veja se você consegue descobrir por que o seguinte código funciona. Verifique sua explicação com um colega ou um membro da equipe."
   ]
  },
  {
   "cell_type": "code",
   "execution_count": null,
   "metadata": {},
   "outputs": [],
   "source": [
    "make_array(max, np.average, are.equal_to).item(0)(4, -2, 7)"
   ]
  },
  {
   "cell_type": "markdown",
   "metadata": {},
   "source": [
    "Um exemplo mais útil de passar funções para outras funções como argumentos é o método de tabela `apply`.\n",
    "\n",
    "`apply` chama uma função muitas vezes, uma vez em *cada* elemento em uma coluna de uma tabela. Ele produz um *array* dos resultados. Aqui usamos `apply` para converter o pagamento de cada CEO em um número, usando a função que você definiu:\n",
    "\n",
    "*Nota:* Você verá um array de números como `5.325e+07`. Esta é a maneira do Python de representar **notação científica**. Interpretamos `5.325e+07` como `5.325 * 10**7`, ou `53,250,000`."
   ]
  },
  {
   "cell_type": "code",
   "execution_count": null,
   "metadata": {},
   "outputs": [],
   "source": [
    "raw_compensation.apply(convert_pay_string_to_number, \"Total Pay\")"
   ]
  },
  {
   "cell_type": "markdown",
   "metadata": {},
   "source": [
    "Aqui está uma ilustração do que isso fez:\n",
    "\n",
    "<img src=\"apply.png\"/>\n",
    "\n",
    "Observe que não escrevemos `raw_compensation.apply(convert_pay_string_to_number(), “Total Pay”)` ou `raw_compensation.apply(convert_pay_string_to_number(“Total Pay”))`. Nós apenas passamos o nome da função, sem parênteses, para `apply`, porque tudo o que queremos fazer é informar ao `apply` o nome da função que gostaríamos de usar e o nome da coluna em que gostaríamos de usá-la. `apply` então chamará a função `convert_pay_string_to_number` em cada valor na coluna para nós!\n",
    "\n",
    "**Questão 3.2.** Usando `apply`, crie uma tabela que seja uma cópia de `raw_compensation` com uma coluna adicional chamada `Total Pay ($)`. Essa coluna deve conter o resultado da aplicação de `convert_pay_string_to_number` à coluna `Total Pay` (como fizemos acima). Chame a nova tabela de `compensation`."
   ]
  },
  {
   "cell_type": "code",
   "execution_count": null,
   "metadata": {
    "tags": []
   },
   "outputs": [],
   "source": [
    "compensation = raw_compensation.with_column(\n",
    "    \"Total Pay ($)\",\n",
    "    ...\n",
    "    )\n",
    "compensation"
   ]
  },
  {
   "cell_type": "code",
   "execution_count": null,
   "metadata": {
    "deletable": false,
    "editable": false
   },
   "outputs": [],
   "source": [
    "grader.check(\"q32\")"
   ]
  },
  {
   "cell_type": "markdown",
   "metadata": {},
   "source": [
    "Agora que temos todos os pagamentos como números, podemos aprender mais sobre eles através de cálculos."
   ]
  },
  {
   "cell_type": "markdown",
   "metadata": {},
   "source": [
    "**Questão 3.3.** Calcule o pagamento total médio dos CEOs no conjunto de dados."
   ]
  },
  {
   "cell_type": "code",
   "execution_count": null,
   "metadata": {
    "tags": []
   },
   "outputs": [],
   "source": [
    "average_total_pay = ...\n",
    "average_total_pay"
   ]
  },
  {
   "cell_type": "code",
   "execution_count": null,
   "metadata": {
    "deletable": false,
    "editable": false
   },
   "outputs": [],
   "source": [
    "grader.check(\"q33\")"
   ]
  },
  {
   "cell_type": "markdown",
   "metadata": {},
   "source": [
    "**Questão 3.4** As empresas pagam aos executivos de várias maneiras: em dinheiro, concedendo ações ou outra participação na empresa, ou com benefícios auxiliares (como jatos particulares). Calcule a proporção do pagamento de cada CEO que foi em dinheiro. (Sua resposta deve ser um array de números, um para cada CEO no conjunto de dados.)\n",
    "\n",
    "*Dica:* Qual função você definiu que pode converter uma string em um número?"
   ]
  },
  {
   "cell_type": "code",
   "execution_count": null,
   "metadata": {
    "tags": []
   },
   "outputs": [],
   "source": [
    "cash_proportion = ...\n",
    "cash_proportion"
   ]
  },
  {
   "cell_type": "code",
   "execution_count": null,
   "metadata": {
    "deletable": false,
    "editable": false
   },
   "outputs": [],
   "source": [
    "grader.check(\"q34\")"
   ]
  },
  {
   "cell_type": "markdown",
   "metadata": {
    "for_assignment_type": "solution"
   },
   "source": [
    "**Por que `apply` é útil?**\n",
    "\n",
    "Para operações como aritmética, ou as funções na biblioteca NumPy, você não precisa usar `apply`, porque elas funcionam automaticamente em cada elemento de um array. Mas há muitas coisas que não funcionam. A manipulação de strings que fizemos no laboratório de hoje é um exemplo. Como você pode escrever qualquer código que quiser em uma função, `apply` lhe dá controle total sobre como você opera nos dados."
   ]
  },
  {
   "cell_type": "markdown",
   "metadata": {},
   "source": [
    "Confira a coluna `% Change` em `compensation`. Ela mostra o aumento percentual no pagamento do CEO em relação ao ano anterior. Para CEOs sem registro do ano anterior, em vez disso, diz \"(No previous year)\". Os valores nesta coluna são *strings*, não números, então, como a coluna `Total Pay`, ela não é utilizável sem um pouco de trabalho extra.\n",
    "\n",
    "Dado o seu salário atual e a porcentagem de aumento em relação ao ano anterior, você pode calcular o salário do ano anterior. Por exemplo, se o seu salário é de $\\$120$ este ano, e isso é um aumento de 50% em relação ao ano anterior, então o seu salário do ano anterior foi $\\frac{\\$120}{1 + \\frac{50}{100}}$, ou \\$80.\n",
    "\n",
    "**Questão 3.5** Crie uma nova tabela chamada `with_previous_compensation`. Ela deve ser uma cópia de `compensation`, mas com os CEOs \"(No previous year)\" filtrados, e com uma coluna extra chamada `2014 Total Pay ($)`. Essa coluna deve ter o pagamento de cada CEO em 2014.\n",
    "\n",
    "*Dica 1:* Você pode imprimir seus resultados após cada etapa para ter certeza de que está no caminho certo.\n",
    "\n",
    "*Dica 2:* Fornecemos uma estrutura que você pode usar para chegar à resposta. No entanto, se estiver confuso, sinta-se à vontade para excluir a estrutura atual e abordar o problema à sua maneira!"
   ]
  },
  {
   "cell_type": "code",
   "execution_count": null,
   "metadata": {
    "tags": []
   },
   "outputs": [],
   "source": [
    "# Definição para transformar porcentagem em número\n",
    "def percent_string_to_num(percent_string):\n",
    "    \"\"\"Converte uma string de porcentagem em um número.\"\"\"\n",
    "    return ...\n",
    "\n",
    "# Tabela de compensação onde há um ano anterior\n",
    "having_previous_year = ...\n",
    "\n",
    "# Obtenha as mudanças percentuais como números em vez de strings\n",
    "# Ainda estamos trabalhando com a tabela having_previous_year\n",
    "percent_changes = ...\n",
    "\n",
    "# Calcule o pagamento do ano anterior\n",
    "# Ainda estamos trabalhando com a tabela having_previous_year\n",
    "previous_pay = ...\n",
    "\n",
    "# Coloque a coluna de pagamento anterior na tabela having_previous_year\n",
    "with_previous_compensation = ...\n",
    "\n",
    "with_previous_compensation"
   ]
  },
  {
   "cell_type": "code",
   "execution_count": null,
   "metadata": {
    "deletable": false,
    "editable": false
   },
   "outputs": [],
   "source": [
    "grader.check(\"q35\")"
   ]
  },
  {
   "cell_type": "markdown",
   "metadata": {},
   "source": [
    "**Questão 3.6** Determine o pagamento médio em 2014 dos CEOs que aparecem na tabela `with_previous_compensation`. Atribua este valor à variável `average_pay_2014`."
   ]
  },
  {
   "cell_type": "code",
   "execution_count": null,
   "metadata": {
    "tags": []
   },
   "outputs": [],
   "source": [
    "average_pay_2014 = ...\n",
    "average_pay_2014"
   ]
  },
  {
   "cell_type": "code",
   "execution_count": null,
   "metadata": {
    "deletable": false,
    "editable": false
   },
   "outputs": [],
   "source": [
    "grader.check(\"q36\")"
   ]
  },
  {
   "cell_type": "markdown",
   "metadata": {},
   "source": [
    "## 4. Histogramas\n",
    "Anteriormente, calculamos o pagamento médio entre os CEOs em nosso conjunto de dados de 102 CEOs. A média, no entanto, não nos diz tudo sobre os valores que os CEOs recebem. Talvez apenas alguns CEOs ganhem a maior parte do dinheiro, mesmo entre esses 102.\n",
    "\n",
    "Podemos usar um método de *histograma* para exibir a *distribuição* de um conjunto de números. O método de tabela `hist` recebe um único argumento, o nome de uma coluna de números. Ele produz um histograma dos números nessa coluna.\n",
    "\n",
    "**Questão 4.1.** Faça um histograma do pagamento total dos CEOs em `compensation`. Verifique com um colega ou instrutor para ter certeza de que você tem o gráfico correto. *Se você receber um aviso, ignore-o.*\n",
    "\n",
    "*Dica:* Se você não tem certeza de como criar um histograma, consulte a [folha de referência Python](http://data8.org/fa21/python-reference.html)."
   ]
  },
  {
   "cell_type": "code",
   "execution_count": null,
   "metadata": {
    "tags": []
   },
   "outputs": [],
   "source": [
    "..."
   ]
  },
  {
   "cell_type": "markdown",
   "metadata": {},
   "source": [
    "**Questão 4.2.** Quantos CEOs ganharam mais de $30 milhões em pagamento total? Encontre o valor usando o código, depois verifique se o valor que você encontrou é consistente com o que você vê no histograma.\n",
    "\n",
    "*Dica:* Use o método de tabela `where` e a propriedade `num_rows`."
   ]
  },
  {
   "cell_type": "code",
   "execution_count": null,
   "metadata": {
    "tags": []
   },
   "outputs": [],
   "source": [
    "num_ceos_more_than_30_million_2 = ...\n",
    "num_ceos_more_than_30_million_2"
   ]
  },
  {
   "cell_type": "code",
   "execution_count": null,
   "metadata": {
    "deletable": false,
    "editable": false
   },
   "outputs": [],
   "source": [
    "grader.check(\"q42\")"
   ]
  },
  {
   "cell_type": "markdown",
   "metadata": {
    "tags": []
   },
   "source": [
    "<img src=\"bolt.jpg\" alt=\"drawing\" width=\"300\"/>\n",
    "\n",
    "Bolt quer te parabenizar por terminar o laboratório 4! Agora você pode relaxar como o Bolt!\n",
    "\n",
    "## 6. Submissão\n",
    "\n",
    "Ótimo trabalho! Você terminou o Laboratório 4!\n",
    "\n",
    "**Passos importantes para a submissão:** \n",
    "1. Execute os testes e verifique se todos passaram.\n",
    "2. Escolha **Salvar Notebook** no menu **Arquivo**, então **execute a última célula**. \n",
    "3. Clique no link para baixar o arquivo zip.\n",
    "4. Em seguida, envie o arquivo zip para a tarefa correspondente de acordo com as instruções do seu instrutor. \n",
    "\n",
    "**É sua responsabilidade garantir que seu trabalho esteja salvo antes de executar a última célula.**"
   ]
  },
  {
   "cell_type": "markdown",
   "metadata": {
    "deletable": false,
    "editable": false
   },
   "source": [
    "## Submissão\n",
    "\n",
    "Certifique-se de ter executado todas as células em seu notebook em ordem antes de executar a célula abaixo, para que todas as imagens/gráficos apareçam na saída. A célula abaixo irá gerar um arquivo zip para você enviar. **Por favor, salve antes de exportar!**"
   ]
  },
  {
   "cell_type": "code",
   "execution_count": null,
   "metadata": {
    "deletable": false,
    "editable": false
   },
   "outputs": [],
   "source": [
    "# Salve seu notebook primeiro, depois execute esta célula para exportar sua submissão.\n",
    "grader.export(pdf=False, run_tests=True)"
   ]
  },
  {
   "cell_type": "markdown",
   "metadata": {},
   "source": [
    " "
   ]
  }
 ],
 "metadata": {
  "kernelspec": {
   "display_name": "Python 3 (ipykernel)",
   "language": "python",
   "name": "python3"
  },
  "language_info": {
   "codemirror_mode": {
    "name": "ipython",
    "version": 3
   },
   "file_extension": ".py",
   "mimetype": "text/x-python",
   "name": "python",
   "nbconvert_exporter": "python",
   "pygments_lexer": "ipython3",
   "version": "3.9.9"
  },
  "otter": {
   "OK_FORMAT": true,
   "tests": {
    "q11": {
     "name": "q11",
     "points": null,
     "suites": [
      {
       "cases": [
        {
         "code": ">>> # Make sure your function has the proper syntax!\n>>> to_percentage(.35) == 35.0\nTrue",
         "hidden": false,
         "locked": false
        },
        {
         "code": ">>> # Make sure you are passing in the proper argument!\n>>> twenty_percent == 20.0\nTrue",
         "hidden": false,
         "locked": false
        }
       ],
       "scored": true,
       "setup": "",
       "teardown": "",
       "type": "doctest"
      }
     ]
    },
    "q13": {
     "name": "q13",
     "points": null,
     "suites": [
      {
       "cases": [
        {
         "code": ">>> num_non_vowels(\"Go bears!\") == 6\nTrue",
         "hidden": false,
         "locked": false
        }
       ],
       "scored": true,
       "setup": "",
       "teardown": "",
       "type": "doctest"
      }
     ]
    },
    "q14": {
     "name": "q14",
     "points": null,
     "suites": [
      {
       "cases": [
        {
         "code": ">>> print_kth_top_movie_year(4)\nYear number 4 for total gross movie sales was: 2009\n",
         "hidden": false,
         "locked": false
        }
       ],
       "scored": true,
       "setup": "",
       "teardown": "",
       "type": "doctest"
      }
     ]
    },
    "q21": {
     "name": "q21",
     "points": null,
     "suites": [
      {
       "cases": [
        {
         "code": ">>> # Make sure you are examining the values in the column, not the column itself\n>>> import numpy\n>>> total_pay_type != numpy.ndarray\nTrue",
         "hidden": false,
         "locked": false
        },
        {
         "code": ">>> 'str' in str(total_pay_type)\nTrue",
         "hidden": false,
         "locked": false
        },
        {
         "code": ">>> isinstance(total_pay_type, type)\nTrue",
         "hidden": false,
         "locked": false
        },
        {
         "code": ">>> # Make sure to call the type function on a value in the column\n>>> total_pay_type != int\nTrue",
         "hidden": false,
         "locked": false
        }
       ],
       "scored": true,
       "setup": "",
       "teardown": "",
       "type": "doctest"
      }
     ]
    },
    "q22": {
     "name": "q22",
     "points": null,
     "suites": [
      {
       "cases": [
        {
         "code": ">>> str(mark_hurd_pay_string)\n'$53.25 '",
         "hidden": false,
         "locked": false
        }
       ],
       "scored": true,
       "setup": "",
       "teardown": "",
       "type": "doctest"
      }
     ]
    },
    "q23": {
     "name": "q23",
     "points": null,
     "suites": [
      {
       "cases": [
        {
         "code": ">>> # Your answer should be a number\n>>> type(mark_hurd_pay) != str\nTrue",
         "hidden": false,
         "locked": false
        },
        {
         "code": ">>> # Don't forget to give your answer in dollars, not millions of \n>>> # Dollars! \n>>> mark_hurd_pay != 5325\nTrue",
         "hidden": false,
         "locked": false
        },
        {
         "code": ">>> # Don't forget to give your answer in dollars, not millions of \n>>> # Dollars! \n>>> mark_hurd_pay == 53250000\nTrue",
         "hidden": false,
         "locked": false
        }
       ],
       "scored": true,
       "setup": "",
       "teardown": "",
       "type": "doctest"
      }
     ]
    },
    "q24": {
     "name": "q24",
     "points": null,
     "suites": [
      {
       "cases": [
        {
         "code": ">>> convert_pay_string_to_number(\"$100 \") == 100000000.0\nTrue",
         "hidden": false,
         "locked": false
        },
        {
         "code": ">>> convert_pay_string_to_number(\"$23 \") == 23000000.0\nTrue",
         "hidden": false,
         "locked": false
        }
       ],
       "scored": true,
       "setup": "",
       "teardown": "",
       "type": "doctest"
      }
     ]
    },
    "q31": {
     "name": "q31",
     "points": null,
     "suites": [
      {
       "cases": [
        {
         "code": ">>> len(some_functions)\n3",
         "hidden": false,
         "locked": false
        },
        {
         "code": ">>> # The first thing in your array may not be a function\n>>> callable(some_functions.item(0))\nTrue",
         "hidden": false,
         "locked": false
        },
        {
         "code": ">>> # The second thing in your array may not be a function\n>>> callable(some_functions.item(1))\nTrue",
         "hidden": false,
         "locked": false
        },
        {
         "code": ">>> # The third thing in your array may not be a function\n>>> callable(some_functions.item(2))\nTrue",
         "hidden": false,
         "locked": false
        }
       ],
       "scored": true,
       "setup": "",
       "teardown": "",
       "type": "doctest"
      }
     ]
    },
    "q32": {
     "name": "q32",
     "points": null,
     "suites": [
      {
       "cases": [
        {
         "code": ">>> # You either didn't add the 'Total Pay ($)' column, \n>>> # or you mislabeled it\n>>> 'Total Pay ($)' in compensation.column_labels\nTrue",
         "hidden": false,
         "locked": false
        },
        {
         "code": ">>> # You have the column in your table, but the values may be wrong\n>>> t = compensation.sort('Total Pay ($)', descending = True)\n>>> np.isclose(t.column('Total Pay ($)').item(0), 53250000.0)\nTrue",
         "hidden": false,
         "locked": false
        }
       ],
       "scored": true,
       "setup": "",
       "teardown": "",
       "type": "doctest"
      }
     ]
    },
    "q33": {
     "name": "q33",
     "points": null,
     "suites": [
      {
       "cases": [
        {
         "code": ">>> import math\n>>> math.isclose(average_total_pay, 11558613.861386139, rel_tol = 0.1)\nTrue",
         "hidden": false,
         "locked": false
        }
       ],
       "scored": true,
       "setup": "",
       "teardown": "",
       "type": "doctest"
      }
     ]
    },
    "q34": {
     "name": "q34",
     "points": null,
     "suites": [
      {
       "cases": [
        {
         "code": ">>> len(cash_proportion) == 101\nTrue",
         "hidden": false,
         "locked": false
        },
        {
         "code": ">>> import math\n>>> math.isclose(cash_proportion.item(0), 0.01784038, rel_tol = .001)\nTrue",
         "hidden": false,
         "locked": false
        }
       ],
       "scored": true,
       "setup": "",
       "teardown": "",
       "type": "doctest"
      }
     ]
    },
    "q35": {
     "name": "q35",
     "points": null,
     "suites": [
      {
       "cases": [
        {
         "code": ">>> # Make sure to remove the \"(No previous year)\" CEOs \n>>> \"(No previous year)\" not in with_previous_compensation.column(\"% Change\")\nTrue",
         "hidden": false,
         "locked": false
        },
        {
         "code": ">>> import math\n>>> # You have the column, but some of your values may be wrong\n>>> t = with_previous_compensation.sort(\"2014 Total Pay ($)\", descending = True)\n>>> value = t.column(\"2014 Total Pay ($)\").item(0)\n>>> math.isclose(value, 67700000.0, rel_tol = 0.01)\nTrue",
         "hidden": false,
         "locked": false
        },
        {
         "code": ">>> # You have the column, but your number of rows is off\n>>> with_previous_compensation.num_rows == 80\nTrue",
         "hidden": false,
         "locked": false
        }
       ],
       "scored": true,
       "setup": "",
       "teardown": "",
       "type": "doctest"
      }
     ]
    },
    "q36": {
     "name": "q36",
     "points": null,
     "suites": [
      {
       "cases": [
        {
         "code": ">>> import math\n>>> math.isclose(average_pay_2014, 11794790.817048479, rel_tol = 0.01)\nTrue",
         "hidden": false,
         "locked": false
        }
       ],
       "scored": true,
       "setup": "",
       "teardown": "",
       "type": "doctest"
      }
     ]
    },
    "q42": {
     "name": "q42",
     "points": null,
     "suites": [
      {
       "cases": [
        {
         "code": ">>> num_ceos_more_than_30_million_2 == 5\nTrue",
         "hidden": false,
         "locked": false
        }
       ],
       "scored": true,
       "setup": "",
       "teardown": "",
       "type": "doctest"
      }
     ]
    }
   }
  }
 },
 "nbformat": 4,
 "nbformat_minor": 5
}
