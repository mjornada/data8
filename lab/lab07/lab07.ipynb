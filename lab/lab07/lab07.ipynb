{
 "cells": [
  {
   "cell_type": "code",
   "execution_count": null,
   "metadata": {
    "deletable": false,
    "editable": false
   },
   "outputs": [],
   "source": [
    "# Inicialize o Otter\n",
    "import otter\n",
    "grader = otter.Notebook(\"lab07.ipynb\")"
   ]
  },
  {
   "cell_type": "markdown",
   "metadata": {},
   "source": [
    "# Laboratório 7: O Grande Concurso Britânico de Panificação (Teste A/B)\n",
    "\n",
    "Bem-vindo ao Laboratório 7 de Data 8! O laboratório desta semana se concentrará em Testes A/B usando dados do popular programa de televisão britânico, [*The Great British Bakeoff*](https://en.wikipedia.org/wiki/The_Great_British_Bake_Off).\n",
    "\n",
    "**Submissão**: Quando terminar, execute todas as células, exceto a última, selecione Arquivo > Salvar Notebook e, em seguida, execute a célula final. Em seguida, envie o arquivo zip baixado, que inclui seu notebook, de acordo com as instruções do seu instrutor.\n",
    "\n",
    "Primeiro, configure o notebook executando a célula abaixo."
   ]
  },
  {
   "cell_type": "code",
   "execution_count": null,
   "metadata": {},
   "outputs": [],
   "source": [
    "# Execute esta célula para configurar o notebook, mas por favor não a altere.\n",
    "\n",
    "# Estas linhas importam os módulos Numpy e Datascience.\n",
    "import numpy as np\n",
    "from datascience import *\n",
    "\n",
    "# Estas linhas fazem algumas mágicas de plotagem.\n",
    "import matplotlib\n",
    "%matplotlib inline\n",
    "import matplotlib.pyplot as plots\n",
    "plots.style.use('fivethirtyeight')\n",
    "import warnings\n",
    "warnings.simplefilter('ignore', (FutureWarning, np.VisibleDeprecationWarning))\n",
    "\n",
    "import d8error"
   ]
  },
  {
   "cell_type": "markdown",
   "metadata": {},
   "source": [
    "## 1. Teste A/B\n",
    "\n",
    "O teste A/B é uma forma de teste de hipóteses que permite fazer comparações entre duas distribuições. Também podemos nos referir a um teste A/B como um teste de permutação.\n",
    "\n",
    "Quase nunca será solicitado explicitamente que você realize um teste A/B. Certifique-se de que pode identificar situações em que o teste é apropriado e saiba como implementar corretamente cada etapa. Muitas vezes, usamos um teste A/B para determinar se duas amostras vieram da mesma distribuição subjacente."
   ]
  },
  {
   "cell_type": "markdown",
   "metadata": {},
   "source": [
    "**Questão 1.1.** As seguintes afirmações são os passos de um teste de hipóteses A/B apresentados em uma *ordem aleatória*:\n",
    "\n",
    "1. Escolha uma estatística de teste (normalmente a diferença nas médias entre duas categorias)\n",
    "\n",
    "2. Embaralhe os rótulos da amostra original, encontre sua estatística de teste simulada e repita muitas vezes\n",
    "\n",
    "3. Encontre o valor da estatística de teste observada\n",
    "\n",
    "4. Calcule o valor p com base em suas estatísticas de teste observadas e simuladas\n",
    "\n",
    "5. Defina um modelo nulo e alternativo\n",
    "\n",
    "6. Use o valor p e o limite de valor p para tirar uma conclusão sobre a hipótese nula\n",
    "\n",
    "Atribua `ab_test_order` a um array de inteiros que contém a ordem correta de um teste A/B, onde o primeiro item do array é o primeiro passo de um teste A/B e o último item do array é o último passo de um teste A/B."
   ]
  },
  {
   "cell_type": "code",
   "execution_count": null,
   "metadata": {
    "tags": []
   },
   "outputs": [],
   "source": [
    "ab_test_order = ..."
   ]
  },
  {
   "cell_type": "code",
   "execution_count": null,
   "metadata": {
    "deletable": false,
    "editable": false
   },
   "outputs": [],
   "source": [
    "grader.check(\"q1_1\")"
   ]
  },
  {
   "cell_type": "markdown",
   "metadata": {},
   "source": [
    "**Questão 1.2.** Se a hipótese nula de um teste A/B estiver correta, a ordem dos rótulos deveria afetar as diferenças nas médias entre cada grupo? Por que embaralhamos os rótulos em um teste A/B? Se você estiver em uma seção de laboratório, confirme sua resposta com um colega ou membro da equipe antes de prosseguir."
   ]
  },
  {
   "cell_type": "markdown",
   "metadata": {},
   "source": [
    "_Digite sua resposta aqui, substituindo este texto._"
   ]
  },
  {
   "cell_type": "markdown",
   "metadata": {},
   "source": [
    "## 2. O Grande Concurso Britânico de Panificação\n",
    "\n",
    ">\"O Grande Concurso Britânico de Panificação (frequentemente abreviado para Bake Off ou GBBO) é uma competição britânica de panificação na televisão, produzida pela Love Productions, na qual um grupo de padeiros amadores compete entre si em uma série de rodadas, tentando impressionar um grupo de jurados com suas habilidades de panificação\" [Wikipedia](https://en.wikipedia.org/wiki/The_Great_British_Bake_Off)\n",
    "\n",
    "Para cada semana da competição, os jurados atribuem a um concorrente o título de \"Padeiro Estrela\". No final, um vencedor é coroado a cada temporada. Usando essas informações, gostaríamos de investigar como ganhar prêmios de Padeiro Estrela afeta as chances de vencer uma temporada do programa."
   ]
  },
  {
   "cell_type": "markdown",
   "metadata": {},
   "source": [
    "**Questão 2.1.** Queremos saber se ganhar mais prêmios de Padeiro Estrela *causa* uma mudança na probabilidade de vencer a temporada. Por que não é suficiente comparar as taxas de padeiro estrela para vencedores e perdedores?"
   ]
  },
  {
   "cell_type": "markdown",
   "metadata": {},
   "source": [
    "_Digite sua resposta aqui, substituindo este texto._"
   ]
  },
  {
   "cell_type": "markdown",
   "metadata": {},
   "source": [
    "### Executando um Experimento\n",
    "\n",
    "Vamos realizar o seguinte teste de hipóteses para determinar a associação entre ganhar e o número de prêmios de Padeiro Estrela. A população que estamos examinando é todos os concorrentes das temporadas 2 a 11 do GBBO. Vamos usar as seguintes hipóteses nula e alternativa:\n",
    "\n",
    "**Hipótese nula:** A distribuição de prêmios de Padeiro Estrela entre os concorrentes que ganharam sua temporada e os concorrentes que não ganharam sua temporada é a mesma.\n",
    "\n",
    "**Hipótese alternativa:** Os concorrentes que ganham sua temporada do programa ganharão mais prêmios de Padeiro Estrela em média.\n",
    "\n",
    "Nossa hipótese alternativa está relacionada à nossa suspeita de que os concorrentes que ganham mais prêmios de Padeiro Estrela são mais habilidosos, então eles têm mais chances de ganhar a temporada."
   ]
  },
  {
   "cell_type": "markdown",
   "metadata": {},
   "source": [
    "**Questão 2.2.** Devemos usar um teste A/B para testar essas hipóteses? Se sim, qual é o nosso grupo \"A\" e qual é o nosso grupo \"B\"?"
   ]
  },
  {
   "cell_type": "markdown",
   "metadata": {},
   "source": [
    "_Digite sua resposta aqui, substituindo este texto._"
   ]
  },
  {
   "cell_type": "markdown",
   "metadata": {},
   "source": [
    "Verifique suas respostas com seus colegas ou um membro da equipe antes de passar para a próxima seção."
   ]
  },
  {
   "cell_type": "markdown",
   "metadata": {},
   "source": [
    "A tabela `bakers` abaixo descreve o número de prêmios de Padeiro Estrela que cada concorrente ganhou e se eles ganharam ou não a sua temporada (`1` se ganharam, `0` se não ganharam). Os dados foram agregados manualmente da Wikipedia para as temporadas 2-11 do programa. Randomizamos a ordem das linhas para não estragar o resultado do programa."
   ]
  },
  {
   "cell_type": "code",
   "execution_count": null,
   "metadata": {},
   "outputs": [],
   "source": [
    "bakers = Table.read_table(\"star_bakers.csv\")\n",
    "bakers.show(3)"
   ]
  },
  {
   "cell_type": "markdown",
   "metadata": {},
   "source": [
    "**Questão 2.3.** Crie uma nova tabela chamada `means` que contém a média do número de prêmios de Padeiro Estrela para os padeiros que não ganharam (`won==0`) e para os padeiros que ganharam (`won==1`). A tabela deve ter os nomes das colunas `won` e `star baker awards mean`."
   ]
  },
  {
   "cell_type": "code",
   "execution_count": null,
   "metadata": {
    "tags": []
   },
   "outputs": [],
   "source": [
    "means = ...\n",
    "means"
   ]
  },
  {
   "cell_type": "code",
   "execution_count": null,
   "metadata": {
    "deletable": false,
    "editable": false
   },
   "outputs": [],
   "source": [
    "grader.check(\"q2_3\")"
   ]
  },
  {
   "cell_type": "markdown",
   "metadata": {},
   "source": [
    "**Questão 2.4.** Visualize a distribuição dos prêmios de Padeiro Estrela para vencedores e não vencedores. Você deve usar os bins que fornecemos.\n",
    "\n",
    "Dica: Você vai querer usar o argumento de grupo de `tbl.hist`. Para produzir vários histogramas sobrepostos com base em valores únicos em uma determinada coluna, podemos fazer algo como `tbl.hist(..., group=<col_name>, bins=...)`!"
   ]
  },
  {
   "cell_type": "code",
   "execution_count": null,
   "metadata": {
    "tags": []
   },
   "outputs": [],
   "source": [
    "useful_bins = np.arange(0, 7)\n",
    "..."
   ]
  },
  {
   "cell_type": "markdown",
   "metadata": {},
   "source": [
    "**Questão 2.5.** Queremos descobrir se há uma diferença na distribuição de prêmios de Padeiro Estrela entre vencedores e não vencedores.\n",
    "\n",
    "Qual deve ser a estatística de teste? Quais valores desta estatística de teste apoiam a nula, e quais valores apoiam a alternativa?\n",
    "\n",
    "Se você estiver no laboratório, confirme sua resposta com um colega ou membro da equipe antes de prosseguir.\n",
    "\n",
    "Dica: Você deve pensar sobre quais medidas usamos para descrever uma distribuição."
   ]
  },
  {
   "cell_type": "markdown",
   "metadata": {},
   "source": [
    "_Digite sua resposta aqui, substituindo este texto._"
   ]
  },
  {
   "cell_type": "markdown",
   "metadata": {},
   "source": [
    "**Questão 2.6.** Defina `observed_difference` como a estatística de teste observada usando a tabela `means`."
   ]
  },
  {
   "cell_type": "code",
   "execution_count": null,
   "metadata": {
    "tags": []
   },
   "outputs": [],
   "source": [
    "observed_difference = ...\n",
    "observed_difference"
   ]
  },
  {
   "cell_type": "code",
   "execution_count": null,
   "metadata": {
    "deletable": false,
    "editable": false
   },
   "outputs": [],
   "source": [
    "grader.check(\"q2_6\")"
   ]
  },
  {
   "cell_type": "markdown",
   "metadata": {},
   "source": [
    "**Questão 2.7.** Dada uma tabela como `bakers`, uma coluna de rótulos `label_col` e uma coluna de valores `val_col`, escreva uma função que calcule a estatística de teste apropriada.\n",
    "\n",
    "*Dica:* Certifique-se de levar em conta a direcionalidade de nossa hipótese alternativa."
   ]
  },
  {
   "cell_type": "code",
   "execution_count": null,
   "metadata": {
    "scrolled": true,
    "tags": []
   },
   "outputs": [],
   "source": [
    "def find_test_stat(tbl, label_col, val_col):\n",
    "    ...\n",
    "\n",
    "find_test_stat(bakers, \"won\", \"star baker awards\")"
   ]
  },
  {
   "cell_type": "code",
   "execution_count": null,
   "metadata": {
    "deletable": false,
    "editable": false
   },
   "outputs": [],
   "source": [
    "grader.check(\"q2_7\")"
   ]
  },
  {
   "cell_type": "markdown",
   "metadata": {},
   "source": [
    "Quando executamos uma simulação para teste A/B, reamostramos **embaralhando os rótulos** da amostra original. Se a hipótese nula for verdadeira e as distribuições de prêmios de Padeiro Estrela forem as mesmas, esperamos que a diferença na média de prêmios de Padeiro Estrela não mude quando os rótulos `\"won\"` forem alterados."
   ]
  },
  {
   "cell_type": "markdown",
   "metadata": {},
   "source": [
    "**Questão 2.8.** Escreva uma função `simulate_and_test_statistic` para calcular um teste do nosso teste A/B. Sua função deve executar uma simulação e retornar uma estatística de teste."
   ]
  },
  {
   "cell_type": "code",
   "execution_count": null,
   "metadata": {
    "tags": []
   },
   "outputs": [],
   "source": [
    "def simulate_and_test_statistic(tbl, labels_col, values_col):\n",
    "    ...\n",
    "\n",
    "simulate_and_test_statistic(bakers, \"won\", \"star baker awards\")"
   ]
  },
  {
   "cell_type": "code",
   "execution_count": null,
   "metadata": {
    "deletable": false,
    "editable": false
   },
   "outputs": [],
   "source": [
    "grader.check(\"q2_8\")"
   ]
  },
  {
   "cell_type": "markdown",
   "metadata": {},
   "source": [
    "**Questão 2.9.** Simule 5000 testes do nosso teste A/B e armazene as estatísticas de teste em um array chamado `differences`."
   ]
  },
  {
   "cell_type": "code",
   "execution_count": null,
   "metadata": {
    "tags": []
   },
   "outputs": [],
   "source": [
    "# Esta célula pode levar alguns segundos para executar\n",
    "differences = make_array()\n",
    "\n",
    "...\n",
    "                                                 \n",
    "differences"
   ]
  },
  {
   "cell_type": "code",
   "execution_count": null,
   "metadata": {
    "deletable": false,
    "editable": false
   },
   "outputs": [],
   "source": [
    "grader.check(\"q2_9\")"
   ]
  },
  {
   "cell_type": "markdown",
   "metadata": {},
   "source": [
    "Execute a célula abaixo para visualizar um histograma de suas estatísticas de teste simuladas plotadas com sua estatística de teste observada."
   ]
  },
  {
   "cell_type": "code",
   "execution_count": null,
   "metadata": {},
   "outputs": [],
   "source": [
    "Table().with_column('Difference Between Group Means', differences).hist(bins=20)\n",
    "plots.scatter(observed_difference, 0, color='red', s=30, zorder=2)\n",
    "plots.ylim(-0.1, 1.35);"
   ]
  },
  {
   "cell_type": "markdown",
   "metadata": {},
   "source": [
    "**Questão 2.10.** Encontre o valor p para o seu teste e atribua-o a `empirical_p`."
   ]
  },
  {
   "cell_type": "code",
   "execution_count": null,
   "metadata": {
    "tags": []
   },
   "outputs": [],
   "source": [
    "empirical_p = ...\n",
    "empirical_p"
   ]
  },
  {
   "cell_type": "code",
   "execution_count": null,
   "metadata": {
    "deletable": false,
    "editable": false
   },
   "outputs": [],
   "source": [
    "grader.check(\"q2_10\")"
   ]
  },
  {
   "cell_type": "markdown",
   "metadata": {},
   "source": [
    "**Questão 2.11.** Usando um limite de valor p de 5%, tire uma conclusão sobre as hipóteses nula e alternativa. Descreva suas descobertas usando uma linguagem simples e não técnica. O que sua análise lhe diz sobre a associação entre prêmios de Padeiro Estrela e vitória? O que você pode afirmar sobre a causalidade a partir de sua análise estatística? Chame seu GSI ou AI e confirme sua resposta."
   ]
  },
  {
   "cell_type": "markdown",
   "metadata": {},
   "source": [
    "_Digite sua resposta aqui, substituindo este texto._"
   ]
  },
  {
   "cell_type": "code",
   "execution_count": null,
   "metadata": {
    "deletable": false,
    "editable": false
   },
   "outputs": [],
   "source": [
    "grader.check(\"q2_10\")"
   ]
  },
  {
   "cell_type": "markdown",
   "metadata": {},
   "source": [
    "## 3. Submissão\n",
    "\n",
    "Minnie queria dizer parabéns por terminar o Laboratório 7!! Agora você pode ser como a Minnie e aproveitar suas férias de primavera!\n",
    "\n",
    "<img src=\"minnie_car.jpg\" alt=\"drawing\" width=\"300\"/>\n",
    "\n",
    "<img src=\"minnie_beach.jpg\" alt=\"drawing\" width=\"300\"/>\n",
    "\n",
    "**Passos importantes para a submissão:** \n",
    "1. Execute os testes e verifique se todos passaram.\n",
    "2. Escolha **Salvar Notebook** no menu **Arquivo**, então **execute a última célula**. \n",
    "3. Clique no link para baixar o arquivo zip.\n",
    "4. Em seguida, envie o arquivo zip para a tarefa correspondente de acordo com as instruções do seu instrutor. \n",
    "\n",
    "**É sua responsabilidade garantir que seu trabalho esteja salvo antes de executar a última célula.**"
   ]
  },
  {
   "cell_type": "markdown",
   "metadata": {
    "deletable": false,
    "editable": false
   },
   "source": [
    "## Submissão\n",
    "\n",
    "Certifique-se de ter executado todas as células em seu notebook em ordem antes de executar a célula abaixo, para que todas as imagens/gráficos apareçam na saída. A célula abaixo irá gerar um arquivo zip para você enviar. **Por favor, salve antes de exportar!**"
   ]
  },
  {
   "cell_type": "code",
   "execution_count": null,
   "metadata": {
    "deletable": false,
    "editable": false
   },
   "outputs": [],
   "source": [
    "# Primeiro salve seu notebook, depois execute esta célula para exportar sua submissão.\n",
    "grader.export(pdf=False, run_tests=True)"
   ]
  },
  {
   "cell_type": "markdown",
   "metadata": {},
   "source": [
    " "
   ]
  }
 ],
 "metadata": {
  "kernelspec": {
   "display_name": "Python 3",
   "language": "python",
   "name": "python3"
  },
  "language_info": {
   "codemirror_mode": {
    "name": "ipython",
    "version": 3
   },
   "file_extension": ".py",
   "mimetype": "text/x-python",
   "name": "python",
   "nbconvert_exporter": "python",
   "pygments_lexer": "ipython3",
   "version": "3.9.10"
  },
  "otter": {
   "OK_FORMAT": true,
   "tests": {
    "q1_1": {
     "name": "q1_1",
     "points": null,
     "suites": [
      {
       "cases": [
        {
         "code": ">>> len(ab_test_order) == 6\nTrue",
         "hidden": false,
         "locked": false
        },
        {
         "code": ">>> np.allclose(np.array(ab_test_order)[:3] % 2 == 1, True) # Check the first three elements in your array.\nTrue",
         "hidden": false,
         "locked": false
        },
        {
         "code": ">>> np.allclose(np.array(ab_test_order)[3:] % 2 == 0, True) # Check the last three elements in your array.\nTrue",
         "hidden": false,
         "locked": false
        },
        {
         "code": ">>> \n>>> # This imports a hashing library for the autograder.\n>>> import hashlib\n>>> def get_hash(num):\n...     \"\"\"Helper function for assessing correctness.\"\"\"\n...     return hashlib.md5(str(num).encode()).hexdigest()\n>>> \n>>> get_hash(np.array(ab_test_order).astype(int))\n'a7196ed0f271c873d9750cb92422d911'",
         "hidden": false,
         "locked": false
        }
       ],
       "scored": true,
       "setup": "",
       "teardown": "",
       "type": "doctest"
      }
     ]
    },
    "q2_10": {
     "name": "q2_10",
     "points": null,
     "suites": [
      {
       "cases": [
        {
         "code": ">>> 0 <= empirical_p < 0.05\nTrue",
         "hidden": false,
         "locked": false
        }
       ],
       "scored": true,
       "setup": "",
       "teardown": "",
       "type": "doctest"
      }
     ]
    },
    "q2_3": {
     "name": "q2_3",
     "points": null,
     "suites": [
      {
       "cases": [
        {
         "code": ">>> means.num_rows\n2",
         "hidden": false,
         "locked": false
        },
        {
         "code": ">>> np.round(min(means.column(\"star baker awards mean\")), 2) == 0.65\nTrue",
         "hidden": false,
         "locked": false
        },
        {
         "code": ">>> np.round(max(means.column(\"star baker awards mean\")), 2) == 1.5\nTrue",
         "hidden": false,
         "locked": false
        }
       ],
       "scored": true,
       "setup": "",
       "teardown": "",
       "type": "doctest"
      }
     ]
    },
    "q2_6": {
     "name": "q2_6",
     "points": null,
     "suites": [
      {
       "cases": [
        {
         "code": ">>> isinstance(observed_difference, float)\nTrue",
         "hidden": false,
         "locked": false
        },
        {
         "code": ">>> float(round(observed_difference, 3))\n0.848",
         "hidden": false,
         "locked": false
        }
       ],
       "scored": true,
       "setup": "",
       "teardown": "",
       "type": "doctest"
      }
     ]
    },
    "q2_7": {
     "name": "q2_7",
     "points": null,
     "suites": [
      {
       "cases": [
        {
         "code": ">>> np.isclose(round(find_test_stat(bakers, \"won\", \"star baker awards\"), 3) - 0.848, 0)\nTrue",
         "hidden": false,
         "locked": false
        }
       ],
       "scored": true,
       "setup": "",
       "teardown": "",
       "type": "doctest"
      }
     ]
    },
    "q2_8": {
     "name": "q2_8",
     "points": null,
     "suites": [
      {
       "cases": [
        {
         "code": ">>> test_stat = round(simulate_and_test_statistic(bakers, \"won\", \"star baker awards\"), 3)\n>>> -2 < test_stat < 2\nTrue",
         "hidden": false,
         "locked": false
        },
        {
         "code": ">>> np.random.seed(1)\n>>> test_stat2 = simulate_and_test_statistic(bakers, \"won\", \"star baker awards\")\n>>> np.round(test_stat2, 3) == -0.023 or np.round(test_stat2, 3) == -0.132\nTrue",
         "hidden": false,
         "locked": false
        }
       ],
       "scored": true,
       "setup": "",
       "teardown": "",
       "type": "doctest"
      }
     ]
    },
    "q2_9": {
     "name": "q2_9",
     "points": null,
     "suites": [
      {
       "cases": [
        {
         "code": ">>> len(differences)\n5000",
         "hidden": false,
         "locked": false
        },
        {
         "code": ">>> abs(np.average(differences)) < 0.05 # On average, your test statistic should be close to 0\nTrue",
         "hidden": false,
         "locked": false
        },
        {
         "code": ">>> all(differences == differences.item(0)) == False # Make sure all of the test statistics are different\nTrue",
         "hidden": false,
         "locked": false
        }
       ],
       "scored": true,
       "setup": "",
       "teardown": "",
       "type": "doctest"
      }
     ]
    }
   }
  }
 },
 "nbformat": 4,
 "nbformat_minor": 5
}
