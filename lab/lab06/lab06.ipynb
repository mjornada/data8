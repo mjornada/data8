{
 "cells": [
  {
   "cell_type": "code",
   "execution_count": null,
   "metadata": {
    "deletable": false,
    "editable": false
   },
   "outputs": [],
   "source": [
    "# Inicialize o Otter\n",
    "import otter\n",
    "grader = otter.Notebook(\"lab06.ipynb\")"
   ]
  },
  {
   "cell_type": "markdown",
   "metadata": {},
   "source": [
    "## Laboratório 6: Examinando o Toque Terapêutico\n",
    "\n",
    "Bem-vindo ao Laboratório 6!\n",
    "\n",
    "Após uma introdução tão extensa à programação para ciência de dados, finalmente estamos entrando na seção do curso onde podemos aplicar nossas novas habilidades para responder a perguntas reais.\n",
    "\n",
    "Neste laboratório, usaremos técnicas de teste que foram introduzidas na aula para testar a ideia do toque terapêutico, a ideia de que algum profissional pode sentir e massagear seu campo de energia humana.\n",
    "\n",
    "**Submissão**: Quando terminar, execute todas as células além da última, selecione Arquivo > Salvar Notebook e, em seguida, execute a célula final. Em seguida, envie o arquivo zip baixado, que inclui seu notebook, de acordo com as instruções do seu instrutor."
   ]
  },
  {
   "cell_type": "code",
   "execution_count": null,
   "metadata": {},
   "outputs": [],
   "source": [
    "# Execute esta célula, mas por favor não a altere.\n",
    "\n",
    "# Estas linhas importam os módulos Numpy e Datascience.\n",
    "import numpy as np\n",
    "from datascience import *\n",
    "\n",
    "# Estas linhas fazem algumas mágicas de plotagem\n",
    "import matplotlib\n",
    "%matplotlib inline\n",
    "import matplotlib.pyplot as plt\n",
    "plt.style.use('fivethirtyeight')\n",
    "import warnings\n",
    "warnings.simplefilter('ignore', FutureWarning)\n",
    "from matplotlib import patches\n",
    "from ipywidgets import interact, interactive, fixed\n",
    "import ipywidgets as widgets\n",
    "\n",
    "import d8error"
   ]
  },
  {
   "cell_type": "markdown",
   "metadata": {},
   "source": [
    "## 1. O que é o Toque Terapêutico\n",
    "\n",
    "O Toque Terapêutico (TT) é a ideia de que todos podem sentir o Campo de Energia Humana (HEF) ao redor dos indivíduos. Aqueles que praticam o TT descrevem os HEFs de diferentes pessoas como \"quentes como gelatina\" e \"tácteis como caramelo\".\n",
    "\n",
    "O TT foi uma técnica popular ao longo do século XX, promovida como uma excelente maneira de equilibrar a saúde de uma pessoa. Certos praticantes afirmam ter a capacidade de sentir o HEF e podem massageá-lo para promover saúde e relaxamento nos indivíduos.\n",
    "\n",
    "### Emily Rosa\n",
    "\n",
    "[Emily Rosa](https://en.wikipedia.org/wiki/Emily_Rosa) foi uma aluna da quarta série que estava muito familiarizada com o mundo do TT, graças a seus pais, que eram ambos profissionais médicos e céticos em relação ao TT.\n",
    "\n",
    "Para seu projeto de feira de ciências da quarta série, Emily decidiu testar se os praticantes de TT poderiam realmente interagir com o HEF de uma pessoa. Ela mais tarde publicou seu trabalho sobre TT, tornando-se a pessoa mais jovem a ter um artigo de pesquisa publicado em um jornal médico revisado por pares."
   ]
  },
  {
   "cell_type": "markdown",
   "metadata": {},
   "source": [
    "### O Experimento de Emily\n",
    "\n",
    "O experimento de Emily foi limpo, simples e eficaz. Devido às ocupações de seus pais na área médica, ela tinha amplo acesso a pessoas que afirmavam ser praticantes de TT.\n",
    "\n",
    "Emily pegou 21 praticantes de TT e os usou para seu experimento científico. Ela pegaria um praticante de TT e pediria para eles estenderem suas mãos através de uma tela (que eles não podem ver). Emily estaria do outro lado e jogaria uma moeda justa. Dependendo de como a moeda caísse, ela estenderia a mão esquerda ou a direita. O praticante de TT então teria que responder qual mão Emily estendeu. Se um praticante pudesse realmente interagir com o campo de energia humana de uma pessoa, seria esperado que eles respondessem corretamente.\n",
    "\n",
    "No geral, através de 210 amostras, o praticante escolheu a mão correta 44% das vezes.\n",
    "\n",
    "O principal objetivo de Emily aqui era testar se as suposições dos praticantes de TT eram aleatórias, como o lançamento de uma moeda. Na maioria dos experimentos médicos, isso é a norma. Queremos testar se o tratamento tem um efeito, *não* se o tratamento realmente funciona.\n",
    "\n",
    "Agora começaremos a formular este experimento em termos da terminologia que aprendemos neste curso."
   ]
  },
  {
   "cell_type": "markdown",
   "metadata": {},
   "source": [
    "**Questão 1.1**: Descreva o modelo de Emily para a probabilidade dos praticantes de TT escolherem a mão correta. Que modelo alternativo o modelo dela pretende desacreditar? Discuta com os alunos ao seu redor para chegar a uma conclusão. Consulte um TA ou AI se estiver preso."
   ]
  },
  {
   "cell_type": "markdown",
   "metadata": {},
   "source": [
    "_Digite sua resposta aqui, substituindo este texto._"
   ]
  },
  {
   "cell_type": "markdown",
   "metadata": {},
   "source": [
    "**Questão 1.2:** Lembre-se de que o praticante acertou a resposta 44% (0,44) das vezes. De acordo com o modelo de Emily, em média, qual proporção de vezes esperamos que o praticante adivinhe a mão correta? Certifique-se de que sua resposta seja um número entre 0 e 1."
   ]
  },
  {
   "cell_type": "code",
   "execution_count": null,
   "metadata": {
    "tags": []
   },
   "outputs": [],
   "source": [
    "expected_proportion_correct = ...\n",
    "expected_proportion_correct"
   ]
  },
  {
   "cell_type": "code",
   "execution_count": null,
   "metadata": {
    "deletable": false,
    "editable": false
   },
   "outputs": [],
   "source": [
    "grader.check(\"q1_2\")"
   ]
  },
  {
   "cell_type": "markdown",
   "metadata": {},
   "source": [
    "O objetivo agora é ver se nosso desvio desta proporção esperada de respostas corretas se deve a algo além do acaso.\n",
    "\n",
    "**Questão 1.3:** Normalmente usamos uma estatística para ajudar a determinar qual modelo a evidência aponta. Qual é uma estatística que podemos usar para comparar os resultados sob o modelo de Emily com o que foi observado? Atribua `valid_stat` a um array de inteiro(s) representando estatísticas de teste que Emily pode usar:\n",
    "\n",
    "1. A diferença entre a porcentagem correta esperada e a porcentagem correta real\n",
    "2. A diferença absoluta entre a porcentagem correta esperada e a porcentagem correta real\n",
    "3. A soma da porcentagem correta esperada e a porcentagem correta real\n",
    "\n",
    "**NOTA:** Certifique-se de usar `make_array` para criar seu array de inteiro(s)!"
   ]
  },
  {
   "cell_type": "code",
   "execution_count": null,
   "metadata": {
    "tags": []
   },
   "outputs": [],
   "source": [
    "valid_stat = ...\n",
    "valid_stat"
   ]
  },
  {
   "cell_type": "code",
   "execution_count": null,
   "metadata": {
    "deletable": false,
    "editable": false
   },
   "outputs": [],
   "source": [
    "grader.check(\"q1_3\")"
   ]
  },
  {
   "cell_type": "markdown",
   "metadata": {},
   "source": [
    "**Questão 1.4:** Por que a estatística da Questão 1.3 é a escolha apropriada para comparar os resultados no experimento de Emily? Como ela se relaciona com os modelos que você definiu na Questão 1.1?"
   ]
  },
  {
   "cell_type": "markdown",
   "metadata": {},
   "source": [
    "_Digite sua resposta aqui, substituindo este texto._"
   ]
  },
  {
   "cell_type": "markdown",
   "metadata": {},
   "source": [
    "**Questão 1.5:** Defina a função `statistic` que recebe uma proporção esperada e uma proporção real, e retorna o valor da estatística escolhida na Questão 1.3. Suponha que o argumento recebe proporções, mas retorne sua resposta como uma porcentagem.\n",
    "\n",
    "*Dica:* Lembre-se de que estamos pedindo uma **porcentagem**, não uma proporção."
   ]
  },
  {
   "cell_type": "code",
   "execution_count": null,
   "metadata": {
    "tags": []
   },
   "outputs": [],
   "source": [
    "def statistic(expected_prop, actual_prop):\n",
    "    ..."
   ]
  },
  {
   "cell_type": "code",
   "execution_count": null,
   "metadata": {
    "deletable": false,
    "editable": false
   },
   "outputs": [],
   "source": [
    "grader.check(\"q1_5\")"
   ]
  },
  {
   "cell_type": "markdown",
   "metadata": {},
   "source": [
    "**Questão 1.6:** Use sua função recém-definida para calcular a estatística observada no experimento de Emily."
   ]
  },
  {
   "cell_type": "code",
   "execution_count": null,
   "metadata": {
    "tags": []
   },
   "outputs": [],
   "source": [
    "observed_statistic = ...\n",
    "observed_statistic"
   ]
  },
  {
   "cell_type": "code",
   "execution_count": null,
   "metadata": {
    "deletable": false,
    "editable": false
   },
   "outputs": [],
   "source": [
    "grader.check(\"q1_6\")"
   ]
  },
  {
   "cell_type": "markdown",
   "metadata": {},
   "source": [
    "**Essa estatística observada é consistente com o que esperamos ver sob o modelo de Emily?**\n",
    "\n",
    "Para responder a esta pergunta, devemos simular o experimento como se o modelo de Emily estivesse correto e calcular nossa estatística para cada simulação.\n",
    "\n",
    "### `sample_proportions`\n",
    "\n",
    "`sample_proportions` pode ser usado para amostrar aleatoriamente de várias categorias quando você sabe a proporção de pontos de dados que são esperados para cair em cada categoria. `sample_proportions` leva dois argumentos: o tamanho da amostra e um array que contém a distribuição de categorias na população (deve somar 1).\n",
    "\n",
    "Considere o lançamento de uma moeda justa, onde os dois resultados (moeda cai cara e moeda cai coroa) ocorrem com uma chance igual. Esperamos que metade de todos os lançamentos de moeda caia cara, e metade de todos os lançamentos de moeda caia coroa.\n",
    "\n",
    "Execute a célula a seguir para ver a simulação de 10 lançamentos de uma moeda justa. Deixe o primeiro item de `coin_proportions` ser a proporção de caras e o segundo item de `coin_proportions` ser a proporção de coroas.\n",
    "\n",
    "*Observe o que acontece quando você executa esta célula várias vezes - a proporção de lançamentos de moeda que caem em caras e coroas parece mudar, pois você está simulando o lançamento de 10 moedas cada vez!*"
   ]
  },
  {
   "cell_type": "code",
   "execution_count": null,
   "metadata": {},
   "outputs": [],
   "source": [
    "coin_proportions = make_array(0.5, 0.5) \n",
    "ten_flips = sample_proportions(10, coin_proportions)\n",
    "ten_flips"
   ]
  },
  {
   "cell_type": "markdown",
   "metadata": {},
   "source": [
    "`sample_proportions` retorna um array que tem o mesmo comprimento que o array de proporção que é passado. Ele contém a proporção de cada categoria que aparece na amostra.\n",
    "\n",
    "Em nosso exemplo, o primeiro item de `ten_flips` é a proporção simulada de caras e o segundo item de `ten_flips` é a proporção simulada de coroas."
   ]
  },
  {
   "cell_type": "code",
   "execution_count": null,
   "metadata": {},
   "outputs": [],
   "source": [
    "simulated_proportion_heads = ten_flips.item(0)\n",
    "simulated_proportion_tails = ten_flips.item(1)\n",
    "\n",
    "print(\"In our simulation, \" + str(simulated_proportion_heads) + \" of flips were heads and \" \\\n",
    "      + str(simulated_proportion_tails) + \" of flips were tails.\")"
   ]
  },
  {
   "cell_type": "markdown",
   "metadata": {},
   "source": [
    "**Questão 1.7:** Para começar a simulação, devemos começar criando uma representação do modelo de Emily para usar em nossa simulação. Este será um array com dois itens. O primeiro item deve ser a proporção de vezes que um praticante de TT escolhe a mão correta, assumindo que o modelo de Emily estava correto. O segundo item deve ser a proporção de vezes, sob a mesma suposição, que o praticante de TT escolhe a mão incorreta. Atribua `model_proportions` a este array.\n",
    "\n",
    "Depois disso, podemos simular 210 escolhas de mãos, como Emily avaliou na vida real, e encontrar uma única estatística para resumir esta instância da simulação. Use a função `sample_proportions` e atribua a **proporção de escolhas corretas de mãos** (de 210) a `simulation_proportion_correct`. Por último, use sua função de estatística para atribuir `one_statistic` ao valor da estatística para esta única simulação.\n",
    "\n",
    "*Dica:* o uso de `sample_proportions` pode ser encontrado na [Referência Python](http://data8.org/fa21/python-reference.html)."
   ]
  },
  {
   "cell_type": "code",
   "execution_count": null,
   "metadata": {
    "tags": []
   },
   "outputs": [],
   "source": [
    "# Isso salva o estado aleatório do nosso código para que possamos \n",
    "# gerar os mesmos números toda vez que executamos o código.\n",
    "# Por favor, não altere esta linha. \n",
    "np.random.seed(16)\n",
    "\n",
    "model_proportions = ...\n",
    "simulation_proportion_correct = ...\n",
    "one_statistic = ...\n",
    "one_statistic"
   ]
  },
  {
   "cell_type": "code",
   "execution_count": null,
   "metadata": {
    "deletable": false,
    "editable": false
   },
   "outputs": [],
   "source": [
    "grader.check(\"q1_7\")"
   ]
  },
  {
   "cell_type": "markdown",
   "metadata": {},
   "source": [
    "**Questão 1.8:** Vamos agora ver como é a distribuição das estatísticas sob o modelo de Emily.\n",
    "\n",
    "Defina a função `simulation_and_statistic` para receber o array `model_proportions` e a proporção esperada de vezes que um praticante de TT adivinharia corretamente uma mão sob o modelo de Emily. A função deve simular Emily passando pelo experimento 210 vezes e retornar a estatística desta única simulação.\n",
    "\n",
    "*Dica:* Isso deve seguir o mesmo padrão do código que você fez no problema anterior."
   ]
  },
  {
   "cell_type": "markdown",
   "metadata": {},
   "source": [
    "_Digite sua resposta aqui, substituindo este texto._"
   ]
  },
  {
   "cell_type": "code",
   "execution_count": null,
   "metadata": {
    "for_assignment_type": "solution",
    "tags": []
   },
   "outputs": [],
   "source": [
    "def simulation_and_statistic(model_proportions, expected_proportion_correct):\n",
    "    '''Simulates 210 TT hand choices under Emily’s model. \n",
    "    Returns one statistic from the simulation.'''\n",
    "    ..."
   ]
  },
  {
   "cell_type": "code",
   "execution_count": null,
   "metadata": {
    "tags": []
   },
   "outputs": [],
   "source": [
    "num_repetitions = 1000\n",
    "\n",
    "simulated_statistics = ...\n",
    "\n",
    "for ... in ...:\n",
    "    ..."
   ]
  },
  {
   "cell_type": "code",
   "execution_count": null,
   "metadata": {
    "deletable": false,
    "editable": false
   },
   "outputs": [],
   "source": [
    "grader.check(\"q1_8\")"
   ]
  },
  {
   "cell_type": "markdown",
   "metadata": {},
   "source": [
    "Vamos visualizar a distribuição das estatísticas simuladas sob o modelo de Emily e comparar visualmente onde a estatística observada se encontra em relação às estatísticas simuladas."
   ]
  },
  {
   "cell_type": "code",
   "execution_count": null,
   "metadata": {},
   "outputs": [],
   "source": [
    "t = Table().with_column('Simulated Statistics', simulated_statistics)\n",
    "t.hist()\n",
    "plt.scatter(observed_statistic, 0, color='red', s=100, zorder=2);"
   ]
  },
  {
   "cell_type": "markdown",
   "metadata": {},
   "source": [
    "Podemos fazer um argumento visual para determinar se acreditamos que a estatística observada é consistente com o modelo de Emily. Aqui, como valores maiores da estatística de teste sugerem o modelo alternativo (onde a chance de adivinhar a mão correta é algo diferente de 50%), podemos formalizar nossa análise encontrando qual proporção de estatísticas simuladas foram tão grandes ou maiores do que nossa estatística de teste observada (a área em ou à direita da estatística de teste observada). Se esta área for pequena o suficiente, declararemos que os dados observados são inconsistentes com nosso modelo simulado. Aqui está o [link](https://inferentialthinking.com/chapters/11/1/Assessing_a_Model.html) para a seção no livro didático."
   ]
  },
  {
   "cell_type": "markdown",
   "metadata": {},
   "source": [
    "**Questão 1.9:** Calcule a proporção de estatísticas simuladas que são maiores ou iguais à estatística observada.\n",
    "\n",
    "*Dica:* O uso de `np.count_nonzero` pode ser encontrado [aqui](http://data8.org/fa21/python-reference.html)."
   ]
  },
  {
   "cell_type": "code",
   "execution_count": null,
   "metadata": {
    "scrolled": true,
    "tags": []
   },
   "outputs": [],
   "source": [
    "proportion_greater_or_equal = ...\n",
    "proportion_greater_or_equal"
   ]
  },
  {
   "cell_type": "code",
   "execution_count": null,
   "metadata": {
    "deletable": false,
    "editable": false
   },
   "outputs": [],
   "source": [
    "grader.check(\"q1_9\")"
   ]
  },
  {
   "cell_type": "markdown",
   "metadata": {},
   "source": [
    "Por convenção, geralmente comparamos a proporção que acabamos de calcular com 0,05. Se a proporção de estatísticas simuladas que são maiores ou iguais à estatística observada for suficientemente pequena (menor ou igual a 0,05), então isso é uma evidência contra o modelo de Emily. Conceitualmente, você pode pensar nisso como o caso em que menos de 5% dos valores simulados estão tão distantes ou mais distantes do que esperávamos. Se este não for o caso, não temos motivos para duvidar do modelo de Emily.\n",
    "\n",
    "Isso deve ajudá-lo a tirar suas próprias conclusões sobre o experimento de Emily Rosa.\n",
    "\n",
    "O toque terapêutico caiu em desuso após este experimento, que foi eventualmente aceito em uma das principais revistas médicas. Praticantes de TT reagiram e acusaram Emily e sua família de manipular os resultados, enquanto alguns alegaram que o mau humor espiritual de Emily em relação ao toque terapêutico dificultava a leitura de seu HEF. Seja como for, o experimento de Emily é um exemplo clássico de como qualquer pessoa, com os recursos certos, pode testar qualquer coisa que quiser!"
   ]
  },
  {
   "cell_type": "markdown",
   "metadata": {},
   "source": [
    "**Questão 1.10:** Agora, reserve um tempo para pensar e discutir com seus colegas:\n",
    "\n",
    "1. Os dados são mais consistentes com o modelo de Emily (os praticantes estavam adivinhando aleatoriamente)?\n",
    "2. O que isso significa em termos do experimento de Emily? As respostas dos praticantes de TT seguem um modelo de chance igual ou há algo mais em jogo?\n",
    "\n",
    "Você conversou com seus colegas? (V/F)"
   ]
  },
  {
   "cell_type": "code",
   "execution_count": null,
   "metadata": {
    "tags": []
   },
   "outputs": [],
   "source": [
    "peer_talk = ...\n",
    "peer_talk"
   ]
  },
  {
   "cell_type": "code",
   "execution_count": null,
   "metadata": {},
   "outputs": [],
   "source": [
    "peer_talk == True"
   ]
  },
  {
   "cell_type": "markdown",
   "metadata": {},
   "source": [
    "## 2. Submissão\n",
    "\n",
    "<img src=\"appa_momo.jpg\" alt=\"drawing\" width=\"300\"/>\n",
    "\n",
    "Appa e Momo querem parabenizá-lo por completar o laboratório!! Agora você pode relaxar como eles!\n",
    "\n",
    "**Passos importantes para a submissão:** \n",
    "1. Execute os testes e verifique se todos passaram.\n",
    "2. Escolha **Salvar Notebook** no menu **Arquivo**, então **execute a última célula**. \n",
    "3. Clique no link para baixar o arquivo zip.\n",
    "4. Em seguida, envie o arquivo zip para a tarefa correspondente de acordo com as instruções do seu instrutor.\n",
    "\n",
    "**É sua responsabilidade garantir que seu trabalho esteja salvo antes de executar a última célula.**"
   ]
  },
  {
   "cell_type": "markdown",
   "metadata": {
    "deletable": false,
    "editable": false
   },
   "source": [
    "## Submissão\n",
    "\n",
    "Certifique-se de ter executado todas as células em seu notebook em ordem antes de executar a célula abaixo, para que todas as imagens/gráficos apareçam na saída. A célula abaixo irá gerar um arquivo zip para você enviar. **Por favor, salve antes de exportar!**"
   ]
  },
  {
   "cell_type": "code",
   "execution_count": null,
   "metadata": {
    "deletable": false,
    "editable": false
   },
   "outputs": [],
   "source": [
    "# Primeiro salve seu notebook, depois execute esta célula para exportar sua submissão.\n",
    "grader.export(pdf=False, run_tests=True)"
   ]
  },
  {
   "cell_type": "markdown",
   "metadata": {},
   "source": [
    " "
   ]
  }
 ],
 "metadata": {
  "kernelspec": {
   "display_name": "Python 3",
   "language": "python",
   "name": "python3"
  },
  "language_info": {
   "codemirror_mode": {
    "name": "ipython",
    "version": 3
   },
   "file_extension": ".py",
   "mimetype": "text/x-python",
   "name": "python",
   "nbconvert_exporter": "python",
   "pygments_lexer": "ipython3",
   "version": "3.9.9"
  },
  "otter": {
   "OK_FORMAT": true,
   "tests": {
    "q1_2": {
     "name": "q1_2",
     "points": null,
     "suites": [
      {
       "cases": [
        {
         "code": ">>> 0 <= expected_proportion_correct <= 1\nTrue",
         "hidden": false,
         "locked": false
        },
        {
         "code": ">>> expected_proportion_correct == 0.5\nTrue",
         "hidden": false,
         "locked": false
        }
       ],
       "scored": true,
       "setup": "",
       "teardown": "",
       "type": "doctest"
      }
     ]
    },
    "q1_3": {
     "name": "q1_3",
     "points": null,
     "suites": [
      {
       "cases": [
        {
         "code": ">>> type(valid_stat) == np.ndarray\nTrue",
         "hidden": false,
         "locked": false
        },
        {
         "code": ">>> int(sum(valid_stat))\n2",
         "hidden": false,
         "locked": false
        }
       ],
       "scored": true,
       "setup": "",
       "teardown": "",
       "type": "doctest"
      }
     ]
    },
    "q1_5": {
     "name": "q1_5",
     "points": null,
     "suites": [
      {
       "cases": [
        {
         "code": ">>> int(round(statistic(.5,.5) + statistic(.4,.1),1))\n30",
         "hidden": false,
         "locked": false
        },
        {
         "code": ">>> int(statistic(.4,.1) - statistic(.1,.4))\n0",
         "hidden": false,
         "locked": false
        }
       ],
       "scored": true,
       "setup": "",
       "teardown": "",
       "type": "doctest"
      }
     ]
    },
    "q1_6": {
     "name": "q1_6",
     "points": null,
     "suites": [
      {
       "cases": [
        {
         "code": ">>> int(round(observed_statistic,2))\n6",
         "hidden": false,
         "locked": false
        }
       ],
       "scored": true,
       "setup": "",
       "teardown": "",
       "type": "doctest"
      }
     ]
    },
    "q1_7": {
     "name": "q1_7",
     "points": null,
     "suites": [
      {
       "cases": [
        {
         "code": ">>> len(model_proportions) % 2 == 0\nTrue",
         "hidden": false,
         "locked": false
        },
        {
         "code": ">>> len(np.unique(model_proportions))\n1",
         "hidden": false,
         "locked": false
        },
        {
         "code": ">>> sum(model_proportions) == 1\nTrue",
         "hidden": false,
         "locked": false
        },
        {
         "code": ">>> type(simulation_proportion_correct) == float\nTrue",
         "hidden": false,
         "locked": false
        },
        {
         "code": ">>> round(simulation_proportion_correct, 2)\n0.49",
         "hidden": false,
         "locked": false
        },
        {
         "code": ">>> round(one_statistic, 2)\n0.95",
         "hidden": false,
         "locked": false
        }
       ],
       "scored": true,
       "setup": "",
       "teardown": "",
       "type": "doctest"
      }
     ]
    },
    "q1_8": {
     "name": "q1_8",
     "points": null,
     "suites": [
      {
       "cases": [
        {
         "code": ">>> len(simulated_statistics) == 1000\nTrue",
         "hidden": false,
         "locked": false
        },
        {
         "code": ">>> np.all(simulated_statistics <= 30)\nTrue",
         "hidden": false,
         "locked": false
        },
        {
         "code": ">>> np.all(simulated_statistics >= 0)\nTrue",
         "hidden": false,
         "locked": false
        },
        {
         "code": ">>> 0 <= simulation_and_statistic(model_proportions, expected_proportion_correct) <= 25\nTrue",
         "hidden": false,
         "locked": false
        }
       ],
       "scored": true,
       "setup": "",
       "teardown": "",
       "type": "doctest"
      }
     ]
    },
    "q1_9": {
     "name": "q1_9",
     "points": null,
     "suites": [
      {
       "cases": [
        {
         "code": ">>> 0 <= proportion_greater_or_equal <= 1\nTrue",
         "hidden": false,
         "locked": false
        },
        {
         "code": ">>> proportion_greater_or_equal*1000 == np.count_nonzero(simulated_statistics >= observed_statistic)\nTrue",
         "hidden": false,
         "locked": false
        }
       ],
       "scored": true,
       "setup": "",
       "teardown": "",
       "type": "doctest"
      }
     ]
    }
   }
  }
 },
 "nbformat": 4,
 "nbformat_minor": 5
}
