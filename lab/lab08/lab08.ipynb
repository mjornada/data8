{
 "cells": [
  {
   "cell_type": "code",
   "execution_count": null,
   "metadata": {
    "deletable": false,
    "editable": false
   },
   "outputs": [],
   "source": [
    "# Inicialize o Otter\n",
    "import otter\n",
    "grader = otter.Notebook(\"lab08.ipynb\")"
   ]
  },
  {
   "cell_type": "markdown",
   "metadata": {},
   "source": [
    "# Laboratório 8: Distribuição Normal e Variabilidade das Médias Amostrais\n",
    "\n",
    "Bem-vindo ao Laboratório 8!\n",
    "\n",
    "No laboratório de hoje, aprenderemos sobre [a variabilidade das médias amostrais](https://inferentialthinking.com/chapters/14/5/Variability_of_the_Sample_Mean.html) bem como [a distribuição normal](https://www.inferentialthinking.com/chapters/14/3/SD_and_the_Normal_Curve.html).\n",
    "\n",
    "**Submissão**: Quando terminar, execute todas as células, exceto a última, selecione Arquivo > Salvar Notebook e, em seguida, execute a célula final. Em seguida, envie o arquivo zip baixado, que inclui seu notebook, de acordo com as instruções do seu professor.\n",
    "\n",
    "Primeiro, configure o notebook executando a célula abaixo."
   ]
  },
  {
   "cell_type": "code",
   "execution_count": null,
   "metadata": {},
   "outputs": [],
   "source": [
    "# Execute esta célula para configurar o notebook, mas por favor não a altere.\n",
    "\n",
    "# Estas linhas importam os módulos Numpy e Datascience.\n",
    "import numpy as np\n",
    "from datascience import *\n",
    "\n",
    "# Estas linhas fazem algumas mágicas de plotagem.\n",
    "import matplotlib\n",
    "%matplotlib inline\n",
    "import matplotlib.pyplot as plots\n",
    "plots.style.use('fivethirtyeight')\n",
    "import warnings\n",
    "warnings.simplefilter('ignore')\n",
    "\n",
    "import d8error"
   ]
  },
  {
   "cell_type": "markdown",
   "metadata": {},
   "source": [
    "# 1. Distribuições Normais\n",
    "\n",
    "Quando visualizamos a distribuição de uma amostra, geralmente estamos interessados na média e no desvio padrão da amostra (pelo resto deste laboratório, abreviaremos \"desvio padrão\" como \"DP\"). Essas duas estatísticas de amostra podem nos dar uma visão geral da distribuição - informando-nos onde a distribuição se situa na linha numérica e quão dispersa ela está, respectivamente."
   ]
  },
  {
   "cell_type": "markdown",
   "metadata": {},
   "source": [
    "Queremos verificar se os dados estão relacionados linearmente, então devemos olhar para os dados."
   ]
  },
  {
   "cell_type": "markdown",
   "metadata": {},
   "source": [
    "**Questão 1.1.** A próxima célula carrega a tabela `births` da aula, que é uma grande amostra aleatória de nascimentos nos EUA e inclui informações sobre pares mãe-filho.\n",
    "\n",
    "Trace a distribuição das idades das mães a partir da tabela. Não altere a última linha, que irá plotar a média da amostra na própria distribuição."
   ]
  },
  {
   "cell_type": "code",
   "execution_count": null,
   "metadata": {
    "deletable": false,
    "tags": []
   },
   "outputs": [],
   "source": [
    "births = Table.read_table('baby.csv')\n",
    "...\n",
    "\n",
    "# Não altere nada abaixo desta linha.\n",
    "plots.scatter(np.mean(births.column(\"Maternal Age\")), 0, color='red', zorder=2, s=50);\n",
    "plots.ylim(-0.005, 0.07);"
   ]
  },
  {
   "cell_type": "markdown",
   "metadata": {},
   "source": [
    "Pelo gráfico acima, podemos ver que a média é o centro de gravidade ou ponto de equilíbrio da distribuição. Se você recortar a distribuição de um pedaço de papelão e, em seguida, colocar o dedo na média, a distribuição se equilibraria perfeitamente no seu dedo. Como a distribuição acima é assimétrica à direita (o que significa que tem uma longa cauda à direita), sabemos que a média da distribuição é maior que a mediana, que é o ponto \"intermediário\" dos dados. Por outro lado, se a distribuição fosse assimétrica à esquerda, saberíamos que a média seria menor que a mediana."
   ]
  },
  {
   "cell_type": "markdown",
   "metadata": {},
   "source": [
    "**Questão 1.2.** Execute a célula a seguir para comparar a média (vermelho) e a mediana (azul) da distribuição das idades das mães."
   ]
  },
  {
   "cell_type": "code",
   "execution_count": null,
   "metadata": {
    "tags": []
   },
   "outputs": [],
   "source": [
    "births.hist(\"Maternal Age\")\n",
    "plots.scatter(np.mean(births.column(\"Maternal Age\")), 0, color='red', zorder=2, s=50, label=\"Mean\")\n",
    "plots.scatter(np.median(births.column(\"Maternal Age\")), 0, color='blue', zorder=2, s=50, label=\"Median\")\n",
    "plots.legend()\n",
    "plots.ylim(-0.005, 0.07);"
   ]
  },
  {
   "cell_type": "markdown",
   "metadata": {},
   "source": [
    "Também estamos interessados no desvio padrão das idades das mães. O DP nos dá uma noção de quão variáveis são as idades das mães em torno da idade média das mães. Se o DP é grande, então as idades das mães devem se espalhar por uma grande faixa a partir da média. Se o DP é pequeno, então as idades das mães devem estar fortemente agrupadas em torno da idade média da mãe.\n",
    "\n",
    "**O DP de um array é definido como a raiz quadrada média dos desvios, onde os desvios são a diferença entre os elementos originais e sua média.**\n",
    "\n",
    "Você pode ler mais sobre Variabilidade e DP no [Capítulo 14.2](https://inferentialthinking.com/chapters/14/2/Variability.html). Curiosidade! $\\sigma$ (letra grega sigma) é usada para representar o DP e $\\mu$ (letra grega mu) é usada para a média."
   ]
  },
  {
   "cell_type": "markdown",
   "metadata": {},
   "source": [
    "**Question 1.3.** Assign `age_mean` to the mean of the maternal ages and `age_sd` to the SD of the maternal ages. Then run the cell below to see the width of one SD (blue) from the sample mean (red) plotted on the histogram of maternal ages.\n"
   ]
  },
  {
   "cell_type": "code",
   "execution_count": null,
   "metadata": {
    "for_assignment_type": "solution",
    "scrolled": true,
    "tags": []
   },
   "outputs": [],
   "source": [
    "age_mean = ...\n",
    "age_sd = ...\n",
    "births.hist(\"Maternal Age\")\n",
    "\n",
    "plots.scatter(age_mean, 0, color='red', zorder=2, s=50);\n",
    "plots.scatter(age_mean+age_sd, 0, marker='^', color='blue', zorder=2, s=50);\n",
    "plots.scatter(age_mean-age_sd, 0, marker='^', color='blue', zorder=2, s=50);\n",
    "plots.ylim(-0.005, 0.07);"
   ]
  },
  {
   "cell_type": "code",
   "execution_count": null,
   "metadata": {
    "deletable": false,
    "editable": false
   },
   "outputs": [],
   "source": [
    "grader.check(\"q1_3\")"
   ]
  },
  {
   "cell_type": "markdown",
   "metadata": {},
   "source": [
    "Neste histograma, o desvio padrão não é fácil de identificar apenas olhando para o gráfico.\n",
    "\n",
    "No entanto, as distribuições de algumas variáveis nos permitem identificar facilmente o desvio padrão no gráfico. Por exemplo, se uma amostra segue uma *distribuição normal*, o desvio padrão é facilmente identificado no ponto de inflexão (o ponto onde a curva começa a mudar a direção de sua curvatura) da distribuição."
   ]
  },
  {
   "cell_type": "markdown",
   "metadata": {},
   "source": [
    "**Questão 1.4.** Preencha o seguinte código para examinar a distribuição das alturas maternas, que é aproximadamente normalmente distribuída. Vamos plotar o desvio padrão no histograma, como antes - observe onde um desvio padrão (azul) longe da média (vermelho) cai no gráfico."
   ]
  },
  {
   "cell_type": "code",
   "execution_count": null,
   "metadata": {
    "scrolled": true,
    "tags": []
   },
   "outputs": [],
   "source": [
    "height_mean = ...\n",
    "height_sd = ...\n",
    "births.hist(\"Maternal Height\", bins=np.arange(55,75,1))\n",
    "\n",
    "plots.scatter((height_mean), 0, color='red', zorder=2, s=50);\n",
    "plots.scatter(height_mean+height_sd, 0, marker='^', color='blue', zorder=2, s=50);\n",
    "plots.scatter(height_mean-height_sd, 0, marker='^', color='blue', zorder=2, s=50);\n",
    "plots.ylim(-0.01, 0.16);"
   ]
  },
  {
   "cell_type": "code",
   "execution_count": null,
   "metadata": {
    "deletable": false,
    "editable": false
   },
   "outputs": [],
   "source": [
    "grader.check(\"q1_4\")"
   ]
  },
  {
   "cell_type": "markdown",
   "metadata": {},
   "source": [
    "Nem sempre sabemos como uma variável será distribuída, e fazer suposições sobre se uma variável seguirá ou não uma distribuição normal é perigoso. No entanto, o **Teorema do Limite Central** define uma distribuição que sempre segue uma distribuição normal. **A distribuição das *somas* e *médias* de todas as grandes amostras aleatórias retiradas com reposição de uma única distribuição (independentemente da forma original da distribuição) será normalmente distribuída.** Lembre-se de que o Teorema do Limite Central se refere à distribuição de uma *estatística* calculada a partir de uma distribuição, não à distribuição da amostra original ou da população. Se isso for confuso, pergunte a um membro da equipe!\n",
    "\n",
    "A próxima seção explorará as distribuições das médias amostrais, e você verá como o desvio padrão dessas distribuições depende dos tamanhos das amostras."
   ]
  },
  {
   "cell_type": "markdown",
   "metadata": {},
   "source": [
    "# 2. Variabilidade da Média Amostral\n",
    "\n",
    "Pelo [Teorema do Limite Central](https://www.inferentialthinking.com/chapters/14/4/Central_Limit_Theorem.html), a distribuição de probabilidade da média ou soma de uma grande amostra aleatória é aproximadamente normal. A curva em forma de sino é centrada na média da população. Algumas das médias amostrais são maiores e algumas são menores, mas os desvios da média da população são aproximadamente simétricos de ambos os lados, como vimos repetidamente.\n",
    "\n",
    "Em nossas simulações, também notamos que as médias de amostras maiores tendem a ser mais agrupadas em torno da média da população do que as médias de amostras menores. Nesta seção, quantificaremos a [variabilidade da média amostral](https://www.inferentialthinking.com/chapters/14/5/Variability_of_the_Sample_Mean.html) e desenvolveremos uma relação entre a variabilidade e o tamanho da amostra.\n",
    "\n",
    "Vamos dar uma olhada nos salários dos funcionários da cidade de São Francisco em 2014. O salário médio relatado pelo governo da cidade era de cerca de $75,463.92.\n",
    "\n",
    "*Nota: Se você ficar preso em qualquer parte deste laboratório, por favor, consulte o [Capítulo 14 do livro didático](https://www.inferentialthinking.com/chapters/14/Why_the_Mean_Matters.html).*"
   ]
  },
  {
   "cell_type": "code",
   "execution_count": null,
   "metadata": {},
   "outputs": [],
   "source": [
    "salaries = Table.read_table('sf_salaries_2014.csv').select(\"salary\")\n",
    "salaries.show(5)"
   ]
  },
  {
   "cell_type": "code",
   "execution_count": null,
   "metadata": {},
   "outputs": [],
   "source": [
    "salary_mean = np.mean(salaries.column('salary'))\n",
    "print('Mean salary of San Francisco city employees in 2014: ', salary_mean.round(2))"
   ]
  },
  {
   "cell_type": "code",
   "execution_count": null,
   "metadata": {},
   "outputs": [],
   "source": [
    "salaries.hist('salary', bins=np.arange(0, 250000+10000*2, 10000))\n",
    "plots.scatter(salary_mean, 0, color='red', zorder=2, s=50)\n",
    "plots.title('2014 salaries of city of SF employees')\n",
    "plots.ylim(-0.0000005, 0.000014);"
   ]
  },
  {
   "cell_type": "markdown",
   "metadata": {},
   "source": [
    "Claramente, a população *não* segue uma distribuição normal. Tenha isso em mente à medida que avançamos nestes exercícios.\n",
    "\n",
    "Vamos pegar amostras aleatórias **com reposição** e olhar para a distribuição de probabilidade da média da amostra. Como de costume, usaremos simulação para obter uma aproximação empírica desta distribuição."
   ]
  },
  {
   "cell_type": "markdown",
   "metadata": {},
   "source": [
    "**Questão 2.1.** Defina uma função `one_sample_mean`. Seus argumentos devem ser `table` (o nome de uma tabela), `label` (o rótulo da coluna contendo a variável) e `sample_size` (o número de funcionários na amostra). Ela deve amostrar com reposição da tabela e retornar a média da coluna `label` da amostra."
   ]
  },
  {
   "cell_type": "code",
   "execution_count": null,
   "metadata": {
    "tags": []
   },
   "outputs": [],
   "source": [
    "def one_sample_mean(table, label, sample_size):\n",
    "    new_sample = ...\n",
    "    new_sample_mean = ...\n",
    "    ..."
   ]
  },
  {
   "cell_type": "code",
   "execution_count": null,
   "metadata": {
    "deletable": false,
    "editable": false
   },
   "outputs": [],
   "source": [
    "grader.check(\"q2_1\")"
   ]
  },
  {
   "cell_type": "markdown",
   "metadata": {},
   "source": [
    "**Questão 2.2.** Use `one_sample_mean` para definir uma função `simulate_sample_mean`. Os argumentos são o nome da `table`, o `label` da coluna contendo a variável, o `sample_size`, e o número de simulações (`repetitions`).\n",
    "\n",
    "A função deve amostrar com reposição da tabela e calcular a média de cada amostra. Ela deve salvar as médias da amostra em um array chamado `means`. O código restante na função exibe um histograma empírico das médias da amostra.\n",
    "\n",
    "*Nota: Arredondamos todos os valores para 2 casas decimais porque estamos trabalhando com salários.*"
   ]
  },
  {
   "cell_type": "code",
   "execution_count": null,
   "metadata": {
    "deletable": false,
    "tags": []
   },
   "outputs": [],
   "source": [
    "\"\"\"Empirical distribution of random sample means\"\"\"\n",
    "\n",
    "def simulate_sample_mean(table, label, sample_size, repetitions):\n",
    "    \n",
    "    means = make_array()\n",
    "\n",
    "    for i in np.arange(repetitions):\n",
    "        new_sample_mean = ...\n",
    "        means = ...\n",
    "\n",
    "    sample_means = Table().with_column('Sample Means', means)\n",
    "    \n",
    "    # Exibir histograma empírico e imprimir todas as quantidades relevantes - não altere isso!\n",
    "    sample_means.hist(bins=20)\n",
    "    plots.xlabel('Sample Means')\n",
    "    plots.title('Sample Size {sample_size}; {repetitions} Resamples'.format(sample_size=sample_size, repetitions=repetitions))\n",
    "    print(\"Sample size: \", sample_size)\n",
    "    print(\"Population mean:\", np.mean(table.column(label)).round(2))\n",
    "    print(\"Average of sample means: \", np.mean(means).round(2))\n",
    "    print(\"Population SD:\", np.std(table.column(label)).round(2))\n",
    "    print(\"SD of sample means:\", np.std(means).round(2))\n",
    "    return np.std(means)"
   ]
  },
  {
   "cell_type": "markdown",
   "metadata": {},
   "source": [
    "Verifique com um colega ou TA se você implementou a função acima corretamente. Se você não a implementou corretamente, o restante do laboratório não funcionará adequadamente, então esta etapa é crucial."
   ]
  },
  {
   "cell_type": "markdown",
   "metadata": {},
   "source": [
    "Na célula a seguir, criaremos uma amostra de tamanho 100 de `salaries` e a representaremos graficamente usando nossa nova função `simulate_sample_mean`.\n",
    "\n",
    "*Dica: Você deve ver uma distribuição semelhante a algo que temos discutido. Se não, verifique sua função.*"
   ]
  },
  {
   "cell_type": "code",
   "execution_count": null,
   "metadata": {},
   "outputs": [],
   "source": [
    "simulate_sample_mean(salaries, 'salary', 100, 10000) \n",
    "plots.xlim(50000, 100000);"
   ]
  },
  {
   "cell_type": "markdown",
   "metadata": {},
   "source": [
    "Observe que nossa distribuição de *médias amostrais* parece aproximadamente normal! Importa se nossa distribuição original era normalmente distribuída?"
   ]
  },
  {
   "cell_type": "markdown",
   "metadata": {},
   "source": [
    "**Questão 2.3.** Simule duas médias de amostras, uma para uma amostra de 400 salários e outra para uma amostra de 625 salários. Em cada caso, realize 10.000 repetições. Não se preocupe com as linhas `plots.xlim` ou `plots.ylim` - elas apenas garantem que todos os gráficos tenham o mesmo eixo x e eixo y, respectivamente."
   ]
  },
  {
   "cell_type": "code",
   "execution_count": null,
   "metadata": {
    "for_assignment_type": "solution",
    "tags": []
   },
   "outputs": [],
   "source": [
    "simulate_sample_mean(..., ..., ..., ...)\n",
    "plots.xlim(50000, 100000)\n",
    "plots.ylim(0, 0.0002)\n",
    "plots.show();\n",
    "print('\\n')\n",
    "simulate_sample_mean(..., ..., ..., ...)\n",
    "plots.xlim(50000, 100000)\n",
    "plots.ylim(0, 0.0002)\n",
    "plots.show();"
   ]
  },
  {
   "cell_type": "markdown",
   "metadata": {},
   "source": [
    "**Questão 2.4.** Atribua `q2_4` a um array de números correspondentes às afirmações verdadeiras sobre os gráficos da questão 2.3.\n",
    "\n",
    "*Dica*: Se uma distribuição tem forma de sino, que tipo de curva ela segue?\n",
    "\n",
    "1. Vemos o Teorema do Limite Central (TLC) em ação porque as distribuições das médias amostrais têm forma de sino.\n",
    "2. Vemos a Lei dos Grandes Números em ação porque as distribuições das médias amostrais se parecem com a distribuição da população.\n",
    "3. Uma das condições para o TLC é que temos que tirar uma pequena amostra aleatória com reposição da população.\n",
    "4. Uma das condições para o TLC é que temos que tirar uma grande amostra aleatória com reposição da população.\n",
    "5. Uma das condições para o TLC é que a população deve ser normalmente distribuída."
   ]
  },
  {
   "cell_type": "code",
   "execution_count": null,
   "metadata": {
    "for_assignment_type": "solution",
    "tags": []
   },
   "outputs": [],
   "source": [
    "q2_4 = ..."
   ]
  },
  {
   "cell_type": "code",
   "execution_count": null,
   "metadata": {
    "deletable": false,
    "editable": false
   },
   "outputs": [],
   "source": [
    "grader.check(\"q2_4\")"
   ]
  },
  {
   "cell_type": "markdown",
   "metadata": {},
   "source": [
    "**Questão 2.5.** Atribua `q2_5` a um array de números correspondentes às afirmações verdadeiras sobre os gráficos da questão 2.3.\n",
    "\n",
    "1. Ambos os gráficos em 2.3 estão aproximadamente centrados na média da população.\n",
    "2. Ambos os gráficos em 2.3 estão aproximadamente centrados na média de uma amostra específica.\n",
    "3. A distribuição das médias amostrais para o tamanho da amostra 625 tem menos variabilidade do que a distribuição das médias amostrais para o tamanho da amostra 400.\n",
    "4. A distribuição das médias amostrais para o tamanho da amostra 625 tem mais variabilidade do que a distribuição das médias amostrais para o tamanho da amostra 400."
   ]
  },
  {
   "cell_type": "code",
   "execution_count": null,
   "metadata": {
    "tags": []
   },
   "outputs": [],
   "source": [
    "q2_5 = ..."
   ]
  },
  {
   "cell_type": "code",
   "execution_count": null,
   "metadata": {
    "deletable": false,
    "editable": false
   },
   "outputs": [],
   "source": [
    "grader.check(\"q2_5\")"
   ]
  },
  {
   "cell_type": "markdown",
   "metadata": {},
   "source": [
    "A seguir, veremos o que acontece quando pegamos um **número crescente de reamostras de um tamanho de amostra fixo.** Observe qual número no código muda e o que permanece o mesmo. Como a distribuição das médias reamostradas muda?"
   ]
  },
  {
   "cell_type": "code",
   "execution_count": null,
   "metadata": {},
   "outputs": [],
   "source": [
    "simulate_sample_mean(salaries, 'salary', 100, 500)\n",
    "plots.xlim(50000, 100000)\n",
    "plots.ylim(0, 0.00009);"
   ]
  },
  {
   "cell_type": "code",
   "execution_count": null,
   "metadata": {},
   "outputs": [],
   "source": [
    "simulate_sample_mean(salaries, 'salary', 100, 1000)\n",
    "plots.xlim(50000, 100000);\n",
    "plots.ylim(0, 0.00009);"
   ]
  },
  {
   "cell_type": "code",
   "execution_count": null,
   "metadata": {},
   "outputs": [],
   "source": [
    "simulate_sample_mean(salaries, 'salary', 100, 5000)\n",
    "plots.xlim(50000, 100000);\n",
    "plots.ylim(0, 0.00009);"
   ]
  },
  {
   "cell_type": "code",
   "execution_count": null,
   "metadata": {},
   "outputs": [],
   "source": [
    "simulate_sample_mean(salaries, 'salary', 100, 10000)\n",
    "plots.xlim(50000, 100000);\n",
    "plots.ylim(0, 0.00009);"
   ]
  },
  {
   "cell_type": "markdown",
   "metadata": {},
   "source": [
    "O que você notou sobre as distribuições das médias amostrais nos quatro histogramas acima? Discuta com seus colegas ou pergunte a um membro da equipe."
   ]
  },
  {
   "cell_type": "markdown",
   "metadata": {},
   "source": [
    "**Pergunta 2.6.** Atribua à variável `SD_of_sample_means` o número inteiro correspondente à sua resposta para a seguinte pergunta:\n",
    "\n",
    "Quando eu aumento o número de *re-amostras* que faço, para um tamanho de amostra *fixo*, o desvio padrão das médias das minhas amostras...\n",
    "\n",
    "1. Aumentará\n",
    "2. Diminuirá\n",
    "3. Permanecerá aproximadamente o mesmo\n",
    "4. Variará amplamente"
   ]
  },
  {
   "cell_type": "code",
   "execution_count": null,
   "metadata": {
    "deletable": false,
    "tags": []
   },
   "outputs": [],
   "source": [
    "SD_of_sample_means = ..."
   ]
  },
  {
   "cell_type": "code",
   "execution_count": null,
   "metadata": {
    "deletable": false,
    "editable": false
   },
   "outputs": [],
   "source": [
    "grader.check(\"q2_6\")"
   ]
  },
  {
   "cell_type": "markdown",
   "metadata": {},
   "source": [
    "**Questão 2.7.** Vamos pensar sobre como as relações entre o desvio padrão da população, o desvio padrão da amostra e o desvio padrão das médias das amostras mudam com o tamanho da amostra variável. Qual das seguintes afirmações é verdadeira? Atribua a variável `pop_vs_sample` a um array de número(s) inteiro(s) que corresponda(m) a afirmação(ões) verdadeira(s).\n",
    "\n",
    "*Dica 1:* O desvio padrão da amostra é diferente do desvio padrão das médias das amostras.\n",
    "\n",
    "1. O desvio padrão da amostra diminui com o aumento do tamanho da amostra.\n",
    "2. O desvio padrão da amostra aumenta com o aumento do tamanho da amostra.\n",
    "3. O desvio padrão da amostra se torna mais consistente com o desvio padrão da população com o aumento do tamanho da amostra.\n",
    "4. O desvio padrão das médias das amostras diminui com o aumento do tamanho da amostra.\n",
    "5. O desvio padrão das médias das amostras aumenta com o aumento do tamanho da amostra.\n",
    "6. O desvio padrão das médias das amostras permanece o mesmo com o aumento do tamanho da amostra."
   ]
  },
  {
   "cell_type": "code",
   "execution_count": null,
   "metadata": {
    "deletable": false,
    "tags": []
   },
   "outputs": [],
   "source": [
    "pop_vs_sample = ..."
   ]
  },
  {
   "cell_type": "code",
   "execution_count": null,
   "metadata": {
    "deletable": false,
    "editable": false
   },
   "outputs": [],
   "source": [
    "grader.check(\"q2_7\")"
   ]
  },
  {
   "cell_type": "markdown",
   "metadata": {},
   "source": [
    "**Questão 2.8.** Existe uma relação entre o tamanho da amostra e o desvio padrão das médias das amostras? Atribua `q2_8` ao número correspondente à afirmação que responde a esta pergunta.\n",
    "\n",
    "*Dica:* O [Capítulo 14.5](https://inferentialthinking.com/chapters/14/5/Variability_of_the_Sample_Mean.html) do livro didático pode ser útil.\n",
    "\n",
    "1. O desvio padrão das médias das amostras é inversamente proporcional à raiz quadrada do tamanho da amostra.\n",
    "2. O desvio padrão das médias das amostras é diretamente proporcional à raiz quadrada do tamanho da amostra."
   ]
  },
  {
   "cell_type": "code",
   "execution_count": null,
   "metadata": {
    "tags": []
   },
   "outputs": [],
   "source": [
    "q2_8 = ..."
   ]
  },
  {
   "cell_type": "code",
   "execution_count": null,
   "metadata": {
    "deletable": false,
    "editable": false
   },
   "outputs": [],
   "source": [
    "grader.check(\"q2_8\")"
   ]
  },
  {
   "cell_type": "markdown",
   "metadata": {},
   "source": [
    "Ao longo deste laboratório, temos tirado muitas amostras aleatórias de uma população. No entanto, todos esses princípios são válidos para re-amostras bootstrap de uma única amostra. Se sua amostra original for relativamente grande, todas as suas re-amostras também serão relativamente grandes, e, assim, o desvio padrão das médias das re-amostras será relativamente pequeno.\n",
    "\n",
    "Para mudar a variabilidade da média da sua amostra, você precisaria mudar o tamanho da amostra original da qual você está tirando as re-amostras bootstrap."
   ]
  },
  {
   "cell_type": "markdown",
   "metadata": {},
   "source": [
    "## 3. Submissão\n",
    "\n",
    "<img src=\"jim.jpg\" alt=\"drawing\" width=\"300\"/>\n",
    "\n",
    "Jim realmente queria parabenizá-lo por completar o Laboratório 8!\n",
    "\n",
    "**Passos importantes para a submissão:** \n",
    "1. Execute os testes e verifique se todos passaram.\n",
    "2. Escolha **Salvar Notebook** no menu **Arquivo**, então **execute a última célula**. \n",
    "3. Clique no link para baixar o arquivo zip.\n",
    "4. Em seguida, envie o arquivo zip para a tarefa correspondente de acordo com as instruções do seu professor. \n",
    "\n",
    "**É sua responsabilidade garantir que seu trabalho esteja salvo antes de executar a última célula.**"
   ]
  },
  {
   "cell_type": "markdown",
   "metadata": {
    "deletable": false,
    "editable": false
   },
   "source": [
    "## Submissão\n",
    "\n",
    "Certifique-se de ter executado todas as células em seu notebook em ordem antes de executar a célula abaixo, para que todas as imagens/gráficos apareçam na saída. A célula abaixo gerará um arquivo zip para você enviar. **Por favor, salve antes de exportar!**"
   ]
  },
  {
   "cell_type": "code",
   "execution_count": null,
   "metadata": {
    "deletable": false,
    "editable": false
   },
   "outputs": [],
   "source": [
    "# Primeiro salve seu notebook, depois execute esta célula para exportar sua submissão.\n",
    "grader.export(pdf=False, run_tests=True)"
   ]
  },
  {
   "cell_type": "markdown",
   "metadata": {},
   "source": [
    " "
   ]
  }
 ],
 "metadata": {
  "kernelspec": {
   "display_name": "Python 3",
   "language": "python",
   "name": "python3"
  },
  "language_info": {
   "codemirror_mode": {
    "name": "ipython",
    "version": 3
   },
   "file_extension": ".py",
   "mimetype": "text/x-python",
   "name": "python",
   "nbconvert_exporter": "python",
   "pygments_lexer": "ipython3",
   "version": "3.9.10"
  },
  "otter": {
   "OK_FORMAT": true,
   "tests": {
    "q1_3": {
     "name": "q1_3",
     "points": null,
     "suites": [
      {
       "cases": [
        {
         "code": ">>> round(age_mean, 3) == 27.228\nTrue",
         "hidden": false,
         "locked": false
        },
        {
         "code": ">>> round(age_sd, 3) == 5.815\nTrue",
         "hidden": false,
         "locked": false
        }
       ],
       "scored": true,
       "setup": "",
       "teardown": "",
       "type": "doctest"
      }
     ]
    },
    "q1_4": {
     "name": "q1_4",
     "points": null,
     "suites": [
      {
       "cases": [
        {
         "code": ">>> round(height_mean, 3) == 64.049\nTrue",
         "hidden": false,
         "locked": false
        },
        {
         "code": ">>> round(height_sd, 3) == 2.525\nTrue",
         "hidden": false,
         "locked": false
        }
       ],
       "scored": true,
       "setup": "",
       "teardown": "",
       "type": "doctest"
      }
     ]
    },
    "q2_1": {
     "name": "q2_1",
     "points": null,
     "suites": [
      {
       "cases": [
        {
         "code": ">>> np.random.seed(8)\n>>> np.round(one_sample_mean(salaries, 'salary', 100), 3) == 76699.829\nTrue",
         "hidden": false,
         "locked": false
        }
       ],
       "scored": true,
       "setup": "",
       "teardown": "",
       "type": "doctest"
      }
     ]
    },
    "q2_4": {
     "name": "q2_4",
     "points": null,
     "suites": [
      {
       "cases": [
        {
         "code": ">>> \n>>> import hashlib # This imports a hashing library for the autograder.\n>>> def get_hash(num):\n...     \"\"\"Helper function for assessing correctness.\"\"\"\n...     return hashlib.md5(str(num).encode()).hexdigest()\n>>> \n>>> get_hash(set(np.array(q2_4).astype(int))) \n'3649655f87d3a44afa82f25eced24944'",
         "hidden": false,
         "locked": false
        }
       ],
       "scored": true,
       "setup": "",
       "teardown": "",
       "type": "doctest"
      }
     ]
    },
    "q2_5": {
     "name": "q2_5",
     "points": null,
     "suites": [
      {
       "cases": [
        {
         "code": ">>> \n>>> import hashlib # This imports a hashing library for the autograder.\n>>> def get_hash(num):\n...     \"\"\"Helper function for assessing correctness.\"\"\"\n...     return hashlib.md5(str(num).encode()).hexdigest()\n>>> \n>>> get_hash(set(np.array(q2_5).astype(int)))\n'b793dd27381f7b63cada88b749c0e023'",
         "hidden": false,
         "locked": false
        }
       ],
       "scored": true,
       "setup": "",
       "teardown": "",
       "type": "doctest"
      }
     ]
    },
    "q2_6": {
     "name": "q2_6",
     "points": null,
     "suites": [
      {
       "cases": [
        {
         "code": ">>> import hashlib # This imports a hashing library for the autograder.\n>>> def get_hash(num):\n...     \"\"\"Helper function for assessing correctness.\"\"\"\n...     return hashlib.md5(str(num).encode()).hexdigest()\n>>> \n>>> get_hash(int(SD_of_sample_means))\n'eccbc87e4b5ce2fe28308fd9f2a7baf3'",
         "hidden": false,
         "locked": false
        }
       ],
       "scored": true,
       "setup": "",
       "teardown": "",
       "type": "doctest"
      }
     ]
    },
    "q2_7": {
     "name": "q2_7",
     "points": null,
     "suites": [
      {
       "cases": [
        {
         "code": ">>> import hashlib # This imports a hashing library for the autograder.\n>>> def get_hash(num):\n...     \"\"\"Helper function for assessing correctness.\"\"\"\n...     return hashlib.md5(str(num).encode()).hexdigest()\n>>> \n>>> get_hash(set(np.array(pop_vs_sample).astype(int)))\n'1d919a653870c713cf8bd17b9c9c65ee'",
         "hidden": false,
         "locked": false
        }
       ],
       "scored": true,
       "setup": "",
       "teardown": "",
       "type": "doctest"
      }
     ]
    },
    "q2_8": {
     "name": "q2_8",
     "points": null,
     "suites": [
      {
       "cases": [
        {
         "code": ">>> \n>>> import hashlib # This imports a hashing library for the autograder.\n>>> def get_hash(num):\n...     \"\"\"Helper function for assessing correctness.\"\"\"\n...     return hashlib.md5(str(num).encode()).hexdigest()\n>>> \n>>> get_hash(int(q2_8))\n'c4ca4238a0b923820dcc509a6f75849b'",
         "hidden": false,
         "locked": false
        }
       ],
       "scored": true,
       "setup": "",
       "teardown": "",
       "type": "doctest"
      }
     ]
    }
   }
  }
 },
 "nbformat": 4,
 "nbformat_minor": 5
}
