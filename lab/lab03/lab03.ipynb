{
 "cells": [
  {
   "cell_type": "code",
   "execution_count": null,
   "metadata": {
    "deletable": false,
    "editable": false
   },
   "outputs": [],
   "source": [
    "# Inicialize o Otter\n",
    "import otter\n",
    "grader = otter.Notebook(\"lab03.ipynb\")"
   ]
  },
  {
   "cell_type": "markdown",
   "metadata": {},
   "source": [
    "# Laboratório 3: Tipos de Dados e Arrays\n",
    "Bem-vindo ao Laboratório 3!\n",
    "\n",
    "Até agora, usamos Python para manipular números e trabalhar com tabelas. Mas precisamos discutir tipos de dados para aprofundar nosso entendimento de como trabalhar com dados em Python.\n",
    "\n",
    "Neste laboratório, você verá primeiro como representar e manipular outro tipo fundamental de dados: texto. Um pedaço de texto é chamado de *string* em Python. Você também verá como trabalhar com *arrays* de dados. Um array pode conter todos os números entre 0 e 100 ou todas as palavras em um capítulo de um livro. Por último, você criará tabelas e praticará a análise delas com seu conhecimento de operações de tabela. A [Referência Python](http://data8.org/sp22/python-reference.html) tem informações que serão úteis para este laboratório.\n",
    "\n",
    "**Submissão**: Quando terminar, execute todas as células além da última, selecione Arquivo > Salvar Notebook e, em seguida, execute a célula final. Em seguida, envie o arquivo zip baixado, que inclui seu notebook, de acordo com as instruções do seu professor."
   ]
  },
  {
   "cell_type": "markdown",
   "metadata": {},
   "source": [
    "Set up the tests and imports by running the cell below."
   ]
  },
  {
   "cell_type": "code",
   "execution_count": null,
   "metadata": {
    "deletable": false
   },
   "outputs": [],
   "source": [
    "# Apenas execute esta célula\n",
    "import numpy as np\n",
    "import math\n",
    "from datascience import *\n",
    "import d8error"
   ]
  },
  {
   "cell_type": "markdown",
   "metadata": {},
   "source": [
    "# 1. Texto\n",
    "A programação não se limita apenas a números. O texto é um dos tipos de dados mais comuns usados em programas.\n",
    "\n",
    "O texto é representado por um **valor string** em Python. A palavra \"string\" é um termo de programação para uma sequência de caracteres. Uma string pode conter um único caractere, uma palavra, uma frase ou um livro inteiro.\n",
    "\n",
    "Para distinguir os dados de texto do código real, demarcamos as strings colocando aspas ao redor delas. Aspas simples (`'`) e aspas duplas (`\"`) são ambas válidas, mas os tipos de aspas de abertura e fechamento devem corresponder. O conteúdo pode ser qualquer sequência de caracteres, incluindo números e símbolos.\n",
    "\n",
    "Já vimos strings antes em declarações `print`. Abaixo, duas strings diferentes são passadas como argumentos para a função `print`."
   ]
  },
  {
   "cell_type": "code",
   "execution_count": null,
   "metadata": {},
   "outputs": [],
   "source": [
    "print(\"I <3\", 'Data Science')"
   ]
  },
  {
   "cell_type": "markdown",
   "metadata": {},
   "source": [
    "Assim como os nomes podem ser atribuídos a números, os nomes podem ser atribuídos a valores de string. Os nomes e as strings não precisam ser semelhantes de forma alguma. Qualquer nome pode ser atribuído a qualquer string."
   ]
  },
  {
   "cell_type": "code",
   "execution_count": null,
   "metadata": {},
   "outputs": [],
   "source": [
    "one = 'two'\n",
    "plus = '*'\n",
    "print(one, plus, one)"
   ]
  },
  {
   "cell_type": "markdown",
   "metadata": {},
   "source": [
    "**Questão 1.1.** Yuri Gagarin foi a primeira pessoa a viajar pelo espaço sideral. Quando ele emergiu de sua cápsula ao pousar na Terra, ele [supostamente](https://en.wikiquote.org/wiki/Yuri_Gagarin) teve a seguinte conversa com uma mulher e uma menina que viram o pouso:\n",
    "\n",
    "    A mulher perguntou: \"Can it be that you have come from outer space?\"\n",
    "    Gagarin respondeu: \"As a matter of fact, I have!\"\n",
    "\n",
    "A célula abaixo contém código inacabado. Preencha os `...`s para que ela imprima esta conversa *exatamente* como aparece acima.\n"
   ]
  },
  {
   "cell_type": "code",
   "execution_count": null,
   "metadata": {
    "deletable": false,
    "tags": []
   },
   "outputs": [],
   "source": [
    "woman_asking = ...\n",
    "woman_quote = '\"Can it be that you have come from outer space?\"'\n",
    "gagarin_reply = 'Gagarin replied:'\n",
    "gagarin_quote = ...\n",
    "\n",
    "print(woman_asking, woman_quote)\n",
    "print(gagarin_reply, gagarin_quote)"
   ]
  },
  {
   "cell_type": "code",
   "execution_count": null,
   "metadata": {
    "deletable": false,
    "editable": false
   },
   "outputs": [],
   "source": [
    "grader.check(\"q11\")"
   ]
  },
  {
   "cell_type": "markdown",
   "metadata": {},
   "source": [
    "## 1.1. Métodos de String"
   ]
  },
  {
   "cell_type": "markdown",
   "metadata": {},
   "source": [
    "As strings podem ser transformadas usando **métodos**. Lembre-se de que métodos e funções não são a mesma coisa. Aqui está a seção do livro didático sobre métodos de string: [4.2.1 Métodos de String](https://inferentialthinking.com/chapters/04/2/1/String_Methods.html?highlight=methods).\n",
    "\n",
    "Aqui está um esboço de como chamar métodos em uma string:\n",
    "\n",
    "    <expressão que avalia para uma string>.<nome do método>(<argumento>, <argumento>, ...)\n",
    "    \n",
    "Um exemplo de um método de string é `replace`, que substitui todas as instâncias de alguma parte da string original (ou uma *substring*) por uma nova string.\n",
    "\n",
    "    <string original>.replace(<substring antiga>, <nova substring>)\n",
    "    \n",
    "`replace` retorna (avalia para) uma nova string, deixando a string original inalterada.\n",
    "    \n",
    "Tente prever a saída deste exemplo, depois execute a célula!"
   ]
  },
  {
   "cell_type": "code",
   "execution_count": null,
   "metadata": {},
   "outputs": [],
   "source": [
    "# Substitua uma letra\n",
    "bag = 'bag'\n",
    "print(bag.replace('g', 't'), bag)"
   ]
  },
  {
   "cell_type": "markdown",
   "metadata": {},
   "source": [
    "Você pode chamar funções nos resultados de outras funções. Por exemplo, `max(abs(-5), abs(3))` avalia para 5. Da mesma forma, você pode chamar métodos nos resultados de outras chamadas de método ou função.\n",
    "\n",
    "Você já deve ter notado uma diferença entre funções e métodos - uma função como `max` não requer um `.` antes de ser chamada, mas um método de string como `replace` sim. Aqui está uma útil [Referência Python](http://data8.org/fa21/python-reference.html) no site do Data 8. É uma boa ideia consultar isso sempre que você não tiver certeza de como chamar uma função ou método."
   ]
  },
  {
   "cell_type": "code",
   "execution_count": null,
   "metadata": {
    "scrolled": true
   },
   "outputs": [],
   "source": [
    "# Chamando replace no resultado de outra chamada para replace\n",
    "'train'.replace('t', 'ing').replace('in', 'de')"
   ]
  },
  {
   "cell_type": "markdown",
   "metadata": {},
   "source": [
    "Aqui está uma imagem de como o Python avalia uma chamada de método \"encadeada\" como essa:\n",
    "\n",
    "<img src=\"chaining_method_calls.png\"/>"
   ]
  },
  {
   "cell_type": "markdown",
   "metadata": {},
   "source": [
    "**Questão 1.1.1.** Use `replace` para transformar a string `'hitchhiker'` em `'matchmaker'`. Atribua seu resultado a `new_word`."
   ]
  },
  {
   "cell_type": "code",
   "execution_count": null,
   "metadata": {
    "deletable": false,
    "tags": []
   },
   "outputs": [],
   "source": [
    "new_word = ...\n",
    "new_word"
   ]
  },
  {
   "cell_type": "code",
   "execution_count": null,
   "metadata": {
    "deletable": false,
    "editable": false
   },
   "outputs": [],
   "source": [
    "grader.check(\"q111\")"
   ]
  },
  {
   "cell_type": "markdown",
   "metadata": {},
   "source": [
    "Existem muitos mais métodos de string em Python, mas a maioria dos programadores não memoriza seus nomes ou como usá-los. No \"mundo real\", as pessoas geralmente apenas pesquisam na internet por documentação e exemplos. Uma lista completa de [métodos de string](https://docs.python.org/3/library/stdtypes.html#string-methods) aparece na documentação da linguagem Python. O [Stack Overflow](http://stackoverflow.com) tem um enorme banco de dados de perguntas respondidas que muitas vezes demonstram como usar esses métodos para alcançar vários fins. Material abordado nesses recursos que ainda não foram introduzidos nesta aula estarão fora do escopo."
   ]
  },
  {
   "cell_type": "markdown",
   "metadata": {},
   "source": [
    "## 1.2. Convertendo para e de Strings"
   ]
  },
  {
   "cell_type": "markdown",
   "metadata": {},
   "source": [
    "Strings e números são diferentes *tipos* de valores, mesmo quando uma string contém os dígitos de um número. Por exemplo, avaliar a seguinte célula causa um erro porque um inteiro não pode ser adicionado a uma string."
   ]
  },
  {
   "cell_type": "code",
   "execution_count": null,
   "metadata": {
    "tags": [
     "raises-exception"
    ]
   },
   "outputs": [],
   "source": [
    "8 + \"8\""
   ]
  },
  {
   "cell_type": "markdown",
   "metadata": {},
   "source": [
    "No entanto, existem funções integradas para converter números em strings e strings em números. Algumas dessas funções integradas têm restrições sobre o tipo de argumento que aceitam:\n",
    "\n",
    "|Função |Descrição|\n",
    "|-|-|\n",
    "|`int`|Converte uma string de dígitos ou um float para um valor inteiro (\"int\")|\n",
    "|`float`|Converte uma string de dígitos (talvez com um ponto decimal) ou um int para um valor decimal (\"float\")|\n",
    "|`str`|Converte qualquer valor para uma string|"
   ]
  },
  {
   "cell_type": "markdown",
   "metadata": {},
   "source": [
    "Tente prever qual tipo de dado e valor `example` avalia, depois execute a célula."
   ]
  },
  {
   "cell_type": "code",
   "execution_count": null,
   "metadata": {},
   "outputs": [],
   "source": [
    "example = 8 + int(\"10\") + float(\"8\")\n",
    "\n",
    "print(example)\n",
    "print(\"This example returned a \" + str(type(example)) + \"!\")"
   ]
  },
  {
   "cell_type": "markdown",
   "metadata": {},
   "source": [
    "Suponha que você está escrevendo um programa que procura por datas em um texto, e você quer que seu programa encontre a quantidade de tempo que passou entre dois anos que ele identificou. Não faz sentido subtrair dois textos, mas você pode primeiro converter o texto contendo os anos em números.\n",
    "\n",
    "**Questão 1.2.1.** Complete o código abaixo para calcular o número de anos que se passaram entre `one_year` e `another_year`. Não escreva apenas os números `1618` e `1648` (ou `30`); use uma função de conversão para transformar os dados de texto fornecidos em números."
   ]
  },
  {
   "cell_type": "code",
   "execution_count": null,
   "metadata": {
    "deletable": false,
    "tags": []
   },
   "outputs": [],
   "source": [
    "# Alguns dados de texto:\n",
    "one_year = \"1618\"\n",
    "another_year = \"1648\"\n",
    "\n",
    "# Complete a próxima linha. Note que não podemos simplesmente escrever:\n",
    "#   another_year - one_year\n",
    "# Se você não entende por que, tente ver o que acontece quando você\n",
    "# escreve isso aqui.\n",
    "difference = ...\n",
    "difference"
   ]
  },
  {
   "cell_type": "code",
   "execution_count": null,
   "metadata": {
    "deletable": false,
    "editable": false
   },
   "outputs": [],
   "source": [
    "grader.check(\"q121\")"
   ]
  },
  {
   "cell_type": "markdown",
   "metadata": {},
   "source": [
    "## 1.3. Passando strings para funções\n",
    "\n",
    "Valores de string, como números, podem ser argumentos para funções e podem ser retornados por funções.\n",
    "\n",
    "A função `len` (derivada da palavra \"comprimento\") recebe uma única string como argumento e retorna o número de caracteres (incluindo espaços) na string.\n",
    "\n",
    "Note que ela não conta *palavras*. `len(\"one small step for man\")` avalia para 22 caracteres, não 5 palavras.\n",
    "\n",
    "**Questão 1.3.1.** Use `len` para encontrar o número de caracteres na longa string na próxima célula. Caracteres incluem coisas como espaços e pontuação. Atribua `sentence_length` a esse número.\n",
    "\n",
    "(A string é a primeira frase da tradução em inglês da Declaração Francesa dos Direitos do Homem [Declaração dos Direitos do Homem](http://avalon.law.yale.edu/18th_century/rightsof.asp).)"
   ]
  },
  {
   "cell_type": "code",
   "execution_count": null,
   "metadata": {
    "deletable": false,
    "tags": []
   },
   "outputs": [],
   "source": [
    "a_very_long_sentence = \"The representatives of the French people, organized as a National Assembly, believing that the ignorance, neglect, or contempt of the rights of man are the sole cause of public calamities and of the corruption of governments, have determined to set forth in a solemn declaration the natural, unalienable, and sacred rights of man, in order that this declaration, being constantly before all the members of the Social body, shall remind them continually of their rights and duties; in order that the acts of the legislative power, as well as those of the executive power, may be compared at any moment with the objects and purposes of all political institutions and may thus be more respected, and, lastly, in order that the grievances of the citizens, based hereafter upon simple and incontestable principles, shall tend to the maintenance of the constitution and redound to the happiness of all.\"\n",
    "sentence_length = ...\n",
    "sentence_length"
   ]
  },
  {
   "cell_type": "code",
   "execution_count": null,
   "metadata": {
    "deletable": false,
    "editable": false
   },
   "outputs": [],
   "source": [
    "grader.check(\"q131\")"
   ]
  },
  {
   "cell_type": "markdown",
   "metadata": {},
   "source": [
    "# 2. Arrays\n",
    "\n",
    "Computadores são mais úteis quando você pode usar uma pequena quantidade de código para *realizar a mesma ação* em *muitas coisas diferentes*.\n",
    "\n",
    "Por exemplo, no tempo que leva para você calcular a gorjeta de 18% em uma conta de restaurante, um laptop pode calcular gorjetas de 18% para todas as contas de restaurante pagas por todos os humanos na Terra naquele dia. (Isso se você for bastante rápido em fazer cálculos de cabeça!)\n",
    "\n",
    "**Arrays** são como colocamos muitos valores em um lugar para que possamos operá-los como um grupo. Por exemplo, se `billions_of_numbers` é um array de números, a expressão\n",
    "\n",
    "    .18 * bilhoes_de_numeros\n",
    "\n",
    "fornece um novo array de números que contém o resultado de multiplicar **cada número** em `billions_of_numbers` por .18. Arrays não se limitam a números; também podemos colocar todas as palavras de um livro em um array de strings.\n",
    "\n",
    "Concretamente, um array é uma **coleção de valores do mesmo tipo**."
   ]
  },
  {
   "cell_type": "markdown",
   "metadata": {},
   "source": [
    "## 2.1. Criando arrays\n",
    "\n",
    "Primeiro, vamos aprender como inserir valores manualmente em um array. Normalmente, isso não é como os programas funcionam. Normalmente, criamos arrays carregando-os de uma fonte externa, como um arquivo de dados.\n",
    "\n",
    "Para criar um array manualmente, chame a função `make_array`. Cada argumento que você passa para `make_array` estará no array que ela retorna. Execute esta célula para ver um exemplo:"
   ]
  },
  {
   "cell_type": "code",
   "execution_count": null,
   "metadata": {
    "scrolled": true
   },
   "outputs": [],
   "source": [
    "make_array(0.125, 4.75, -1.3)"
   ]
  },
  {
   "cell_type": "markdown",
   "metadata": {},
   "source": [
    "Cada valor em um array (no caso acima, os números 0.125, 4.75 e -1.3) é chamado de *elemento* desse array.\n",
    "\n",
    "Os próprios arrays também são valores, assim como números e strings. Isso significa que você pode atribuí-los a nomes ou usá-los como argumentos para funções. Por exemplo, `len(<algum_array>)` retorna o número de elementos em `algum_array`."
   ]
  },
  {
   "cell_type": "markdown",
   "metadata": {},
   "source": [
    "**Questão 2.1.1.** Crie um array contendo os números 0, 1, -1 e $\\pi$, nessa ordem. Nomeie-o `interesting_numbers`.\n",
    "\n",
    "*Dica:* Como você obteve o valor de $\\pi$ no laboratório 2? Você pode se referir a ele da mesma maneira aqui. O módulo `math` foi importado no topo deste notebook."
   ]
  },
  {
   "cell_type": "code",
   "execution_count": null,
   "metadata": {
    "deletable": false,
    "tags": []
   },
   "outputs": [],
   "source": [
    "interesting_numbers = ...\n",
    "interesting_numbers"
   ]
  },
  {
   "cell_type": "code",
   "execution_count": null,
   "metadata": {
    "deletable": false,
    "editable": false
   },
   "outputs": [],
   "source": [
    "grader.check(\"q211\")"
   ]
  },
  {
   "cell_type": "markdown",
   "metadata": {},
   "source": [
    "**Questão 2.1.2.** Crie um array contendo as cinco strings `\"Hello\"`, `\",\"`, `\" \"`, `\"world\"`, e `\"!\"`. (A terceira é um espaço único entre aspas.) Nomeie-o `hello_world_components`.\n",
    "\n",
    "*Nota:* Se você avaliar `hello_world_components`, você notará algumas informações extras além de seu conteúdo: `dtype='<U5'`. Isso é apenas a maneira extremamente críptica do NumPy de dizer que os tipos de dados no array são strings."
   ]
  },
  {
   "cell_type": "code",
   "execution_count": null,
   "metadata": {
    "deletable": false,
    "tags": []
   },
   "outputs": [],
   "source": [
    "hello_world_components = ...\n",
    "hello_world_components"
   ]
  },
  {
   "cell_type": "code",
   "execution_count": null,
   "metadata": {
    "deletable": false,
    "editable": false
   },
   "outputs": [],
   "source": [
    "grader.check(\"q212\")"
   ]
  },
  {
   "cell_type": "markdown",
   "metadata": {},
   "source": [
    "### `np.arange`\n",
    "Os arrays são fornecidos por um pacote chamado [NumPy](http://www.numpy.org/) (pronunciado \"NUM-pie\"). O pacote é chamado `numpy`, mas é padrão renomeá-lo para `np` por brevidade. Você pode fazer isso com:\n",
    "\n",
    "    import numpy as np\n",
    "\n",
    "Muito frequentemente em ciência de dados, queremos trabalhar com muitos números que estão uniformemente espaçados dentro de algum intervalo. NumPy fornece uma função especial para isso chamada `arange`. A linha de código `np.arange(start, stop, step)` avalia para um array com todos os números começando em `start` e contando por `step`, parando **antes** que `stop` seja alcançado.\n",
    "\n",
    "Execute as células a seguir para ver alguns exemplos!"
   ]
  },
  {
   "cell_type": "code",
   "execution_count": null,
   "metadata": {},
   "outputs": [],
   "source": [
    "# Este array começa em 1 e conta de 2 em 2\n",
    "# e então para antes do 6\n",
    "np.arange(1, 6, 2)"
   ]
  },
  {
   "cell_type": "code",
   "execution_count": null,
   "metadata": {},
   "outputs": [],
   "source": [
    "# Este array não contém o 9\n",
    "# porque np.arange para *antes* de atingir o valor de parada\n",
    "np.arange(4, 9, 1)"
   ]
  },
  {
   "cell_type": "markdown",
   "metadata": {},
   "source": [
    "**Questão 2.1.3.** Importe `numpy` como `np` e então use `np.arange` para criar um array com os múltiplos de 99 de 0 até (**e incluindo**) 9999. (Então seus elementos são 0, 99, 198, 297, etc.)"
   ]
  },
  {
   "cell_type": "code",
   "execution_count": null,
   "metadata": {
    "deletable": false,
    "tags": []
   },
   "outputs": [],
   "source": [
    "...\n",
    "multiples_of_99 = ...\n",
    "multiples_of_99"
   ]
  },
  {
   "cell_type": "code",
   "execution_count": null,
   "metadata": {
    "deletable": false,
    "editable": false
   },
   "outputs": [],
   "source": [
    "grader.check(\"q213\")"
   ]
  },
  {
   "cell_type": "markdown",
   "metadata": {
    "deletable": false
   },
   "source": [
    "## 2.2. Trabalhando com elementos individuais de arrays (\"indexação\")\n",
    "Vamos trabalhar com um conjunto de dados mais interessante. A próxima célula cria um array chamado `population_amounts` que inclui estimativas da população mundial de cada ano de **1950** até aproximadamente o presente. (As estimativas vêm do site do US Census Bureau).\n",
    "\n",
    "Em vez de digitar os dados manualmente, carregamos eles de um arquivo no seu computador chamado `world_population.csv`. Você aprenderá como fazer isso mais tarde neste laboratório!"
   ]
  },
  {
   "cell_type": "code",
   "execution_count": null,
   "metadata": {
    "deletable": false
   },
   "outputs": [],
   "source": [
    "population_amounts = Table.read_table(\"world_population.csv\").column(\"Population\")\n",
    "population_amounts"
   ]
  },
  {
   "cell_type": "markdown",
   "metadata": {},
   "source": [
    "Aqui está como obtemos o primeiro elemento de `population_amounts`, que é a população mundial no primeiro ano do conjunto de dados, 1950."
   ]
  },
  {
   "cell_type": "code",
   "execution_count": null,
   "metadata": {},
   "outputs": [],
   "source": [
    "population_amounts.item(0)"
   ]
  },
  {
   "cell_type": "markdown",
   "metadata": {},
   "source": [
    "O valor dessa expressão é o número 2,557,628,654 (cerca de 2,5 bilhões), porque essa é a primeira coisa no array `population_amounts`.\n",
    "\n",
    "Observe que escrevemos `.item(0)`, não `.item(1)`, para obter o primeiro elemento. Esta é uma convenção estranha em ciência da computação. **0 é chamado de *índice* do primeiro item.** É o número de elementos que aparecem *antes* desse item. Então, 3 é o índice do 4º item.\n",
    "\n",
    "Aqui estão mais alguns exemplos. Nos exemplos, demos nomes às coisas que tiramos de `population_amounts`. Leia e execute cada célula."
   ]
  },
  {
   "cell_type": "code",
   "execution_count": null,
   "metadata": {},
   "outputs": [],
   "source": [
    "# O 13º elemento no array é a população\n",
    "# em 1962 (que é 1950 + 12).\n",
    "population_1962 = population_amounts.item(12)\n",
    "population_1962"
   ]
  },
  {
   "cell_type": "code",
   "execution_count": null,
   "metadata": {},
   "outputs": [],
   "source": [
    "# O 66º elemento é a população em 2015.\n",
    "population_2015 = population_amounts.item(65)\n",
    "population_2015"
   ]
  },
  {
   "cell_type": "code",
   "execution_count": null,
   "metadata": {
    "tags": [
     "raises-exception"
    ]
   },
   "outputs": [],
   "source": [
    "# O array tem apenas 66 elementos, então isso não funciona.\n",
    "# (Não há elemento com 66 outros elementos antes dele.)\n",
    "population_2016 = population_amounts.item(66)\n",
    "population_2016"
   ]
  },
  {
   "cell_type": "markdown",
   "metadata": {},
   "source": [
    "Como `make_array` retorna um array, podemos chamar `.item(3)` em sua saída para obter seu 4º elemento, assim como \"encadeamos\" chamadas ao método `replace` anteriormente."
   ]
  },
  {
   "cell_type": "code",
   "execution_count": null,
   "metadata": {},
   "outputs": [],
   "source": [
    "make_array(-1, -3, 4, -2).item(3)"
   ]
  },
  {
   "cell_type": "markdown",
   "metadata": {},
   "source": [
    "**Questão 2.2.1.** Defina `population_1973` como a população mundial em 1973, obtendo o elemento apropriado de `population_amounts` usando `item`."
   ]
  },
  {
   "cell_type": "code",
   "execution_count": null,
   "metadata": {
    "deletable": false,
    "tags": []
   },
   "outputs": [],
   "source": [
    "population_1973 = ...\n",
    "population_1973"
   ]
  },
  {
   "cell_type": "code",
   "execution_count": null,
   "metadata": {
    "deletable": false,
    "editable": false
   },
   "outputs": [],
   "source": [
    "grader.check(\"q221\")"
   ]
  },
  {
   "cell_type": "markdown",
   "metadata": {},
   "source": [
    "## 2.3. Fazendo algo com cada elemento de um array\n",
    "Arrays são principalmente úteis para realizar a mesma operação muitas vezes, então não costumamos usar `.item` e trabalhar com elementos individuais.\n",
    "\n",
    "##### Arredondamento\n",
    "Aqui está uma pergunta simples que podemos fazer sobre a população mundial:\n",
    "\n",
    "> Qual era a população em cada ano, arredondada para o milhão mais próximo?\n",
    "\n",
    "O arredondamento é frequentemente usado com números grandes quando não precisamos de tanta precisão em nossos números. Um exemplo disso é quando apresentamos dados em tabelas e visualizações.\n",
    "\n",
    "Poderíamos tentar responder à nossa pergunta usando a função `round` que está integrada no Python e o método `item` que você acabou de ver.\n",
    "\n",
    "**Nota:** a função `round` recebe dois argumentos: o número a ser arredondado e o número de casas decimais para arredondar. O segundo argumento pode ser pensado como quantos passos à direita ou à esquerda você move a partir do ponto decimal. Números negativos nos dizem para mover para a esquerda, e números positivos nos dizem para mover para a direita. Então, se temos `round(1234.5, -2)`, significa que devemos mover dois lugares para a esquerda e, em seguida, fazer todos os números à direita deste lugar serem zeros. Isso resultaria no número 1200.0. Por outro lado, se temos `round(6.789, 1)`, devemos mover um lugar para a direita e, em seguida, fazer todos os números à direita deste lugar serem zeros. Isso resultaria no número 6.8."
   ]
  },
  {
   "cell_type": "code",
   "execution_count": null,
   "metadata": {
    "scrolled": true
   },
   "outputs": [],
   "source": [
    "population_1950_magnitude = round(population_amounts.item(0), -6)\n",
    "population_1951_magnitude = round(population_amounts.item(1), -6)\n",
    "population_1952_magnitude = round(population_amounts.item(2), -6)\n",
    "population_1953_magnitude = round(population_amounts.item(3), -6)"
   ]
  },
  {
   "cell_type": "markdown",
   "metadata": {},
   "source": [
    "Mas isso é tedioso e não aproveita realmente o fato de estarmos usando um computador.\n",
    "\n",
    "Em vez disso, o NumPy fornece sua própria versão de `round` que arredonda cada elemento de um array. Ele recebe dois argumentos: um único array de números e o número de casas decimais para arredondar. Ele retorna um array do mesmo comprimento, onde o primeiro elemento do resultado é o primeiro elemento do argumento arredondado, e assim por diante.\n",
    "\n",
    "**Questão 2.3.1.** Use `np.round` para calcular a população mundial em todos os anos, arredondada para o milhão mais próximo (6 zeros). Dê o resultado (um array de 66 números) o nome `population_rounded`. Seu código deve ser muito curto."
   ]
  },
  {
   "cell_type": "code",
   "execution_count": null,
   "metadata": {
    "deletable": false,
    "tags": []
   },
   "outputs": [],
   "source": [
    "population_rounded = ...\n",
    "population_rounded"
   ]
  },
  {
   "cell_type": "code",
   "execution_count": null,
   "metadata": {
    "deletable": false,
    "editable": false
   },
   "outputs": [],
   "source": [
    "grader.check(\"q231\")"
   ]
  },
  {
   "cell_type": "markdown",
   "metadata": {},
   "source": [
    "O que você acabou de fazer é chamado de aplicação **elementwise** de `np.round`, uma vez que `np.round` opera separadamente em cada elemento do array em que é chamado. Aqui está uma imagem do que está acontecendo:"
   ]
  },
  {
   "cell_type": "markdown",
   "metadata": {},
   "source": [
    "<img src=\"array_round.jpg\">\n",
    "\n",
    "A [seção](https://www.inferentialthinking.com/chapters/05/1/Arrays) do livro didático sobre arrays tem uma lista útil de funções NumPy que são projetadas para funcionar elemento por elemento, como `np.round`."
   ]
  },
  {
   "cell_type": "markdown",
   "metadata": {},
   "source": [
    "##### Aritmética\n",
    "A aritmética também funciona elemento por elemento em arrays, o que significa que se você realizar uma operação aritmética (como subtração, divisão, etc) em um array, o Python fará a operação em cada elemento do array individualmente e retornará um array com todos os resultados. Por exemplo, você pode dividir todos os números da população por 1 bilhão para obter números em bilhões:"
   ]
  },
  {
   "cell_type": "code",
   "execution_count": null,
   "metadata": {},
   "outputs": [],
   "source": [
    "population_in_billions = population_amounts / 1000000000\n",
    "population_in_billions"
   ]
  },
  {
   "cell_type": "markdown",
   "metadata": {},
   "source": [
    "Você pode fazer o mesmo com adição, subtração, multiplicação e exponenciação (`**`)."
   ]
  },
  {
   "cell_type": "markdown",
   "metadata": {
    "deletable": false
   },
   "source": [
    "## 3. Criando Tabelas\n",
    "\n",
    "Um array é útil para descrever um único atributo de cada elemento em uma coleção. Por exemplo, digamos que nossa coleção são todos os estados dos EUA. Então, um array poderia descrever a área de terra de cada estado.\n",
    "\n",
    "As tabelas estendem essa ideia contendo várias colunas armazenadas e representadas como arrays, cada uma descrevendo um atributo diferente para cada elemento de uma coleção. Desta forma, as tabelas nos permitem não apenas armazenar dados sobre muitas entidades, mas também conter vários tipos de dados sobre cada entidade.\n",
    "\n",
    "Por exemplo, na célula abaixo temos dois arrays. O primeiro, `population_amounts`, foi definido acima na seção 2.2 e contém a população mundial em cada ano (estimada pelo US Census Bureau). O segundo array, `years`, contém os próprios anos. Esses elementos estão em ordem, então o ano e a população mundial para aquele ano têm o mesmo índice em seus respectivos arrays."
   ]
  },
  {
   "cell_type": "code",
   "execution_count": null,
   "metadata": {
    "deletable": false,
    "scrolled": true
   },
   "outputs": [],
   "source": [
    "# Apenas execute esta célula\n",
    "\n",
    "years = np.arange(1950, 2015+1)\n",
    "print(\"Population column:\", population_amounts)\n",
    "print(\"Years column:\", years)"
   ]
  },
  {
   "cell_type": "markdown",
   "metadata": {
    "deletable": false
   },
   "source": [
    "Suponha que queremos responder a esta pergunta:\n",
    "\n",
    "> Em que ano a população mundial ultrapassou 6 bilhões?\n",
    "\n",
    "Tecnicamente, você poderia responder a esta pergunta apenas olhando para os arrays, mas é um pouco complicado, pois você teria que contar a posição onde a população ultrapassou pela primeira vez 6 bilhões, e então encontrar o elemento correspondente no array de anos. Em casos como esses, pode ser mais fácil colocar os dados em uma *`Table`*, um tipo de conjunto de dados bidimensional.\n",
    "\n",
    "A expressão abaixo:\n",
    "\n",
    "- cria uma tabela vazia usando a expressão `Table()`,\n",
    "- adiciona duas colunas chamando `with_columns` com quatro argumentos,\n",
    "- atribui o resultado ao nome `population`, e finalmente\n",
    "- avalia `population` para que possamos ver a tabela.\n",
    "\n",
    "As strings `\"Year\"` e `\"Population\"` são rótulos de colunas que escolhemos. Os nomes `population_amounts` e `years` foram atribuídos acima a dois arrays do **mesmo comprimento**. A função `with_columns` (você pode encontrar a documentação [aqui](http://data8.org/fa21/python-reference.html)) recebe strings alternadas (para representar rótulos de colunas) e arrays (representando os dados nessas colunas). As strings e os arrays são separados por vírgulas."
   ]
  },
  {
   "cell_type": "code",
   "execution_count": null,
   "metadata": {
    "deletable": false
   },
   "outputs": [],
   "source": [
    "population = Table().with_columns(\n",
    "    \"Population\", population_amounts,\n",
    "    \"Year\", years\n",
    ")\n",
    "population"
   ]
  },
  {
   "cell_type": "markdown",
   "metadata": {
    "deletable": false
   },
   "source": [
    "Agora os dados estão combinados em uma única tabela! É muito mais fácil analisar esses dados. Se você precisar saber qual era a população em 1959, por exemplo, você pode dizer com uma única olhada."
   ]
  },
  {
   "cell_type": "markdown",
   "metadata": {},
   "source": [
    "**Questão 3.1.** Na célula abaixo, criamos 2 arrays. Usando os passos acima, atribua `top_10_movies` a uma tabela que tem duas colunas chamadas \"Name\" e \"Rating\", que contêm `top_10_movie_names` e `top_10_movie_ratings` respectivamente."
   ]
  },
  {
   "cell_type": "code",
   "execution_count": null,
   "metadata": {
    "deletable": false,
    "tags": []
   },
   "outputs": [],
   "source": [
    "top_10_movie_names = make_array(\n",
    "        'The Shawshank Redemption (1994)',\n",
    "        'The Godfather (1972)',\n",
    "        'The Godfather: Part II (1974)',\n",
    "        'Pulp Fiction (1994)',\n",
    "        \"Schindler's List (1993)\",\n",
    "        'The Lord of the Rings: The Return of the King (2003)',\n",
    "        '12 Angry Men (1957)',\n",
    "        'The Dark Knight (2008)',\n",
    "        'Il buono, il brutto, il cattivo (1966)',\n",
    "        'The Lord of the Rings: The Fellowship of the Ring (2001)')\n",
    "top_10_movie_ratings = make_array(9.2, 9.2, 9., 8.9, 8.9, 8.9, 8.9, 8.9, 8.9, 8.8)\n",
    "\n",
    "top_10_movies = ...\n",
    "\n",
    "# Colocamos a próxima linha aqui \n",
    "# para que sua tabela seja impressa \n",
    "# quando você executar esta célula.\n",
    "top_10_movies"
   ]
  },
  {
   "cell_type": "code",
   "execution_count": null,
   "metadata": {
    "deletable": false,
    "editable": false
   },
   "outputs": [],
   "source": [
    "grader.check(\"q31\")"
   ]
  },
  {
   "cell_type": "markdown",
   "metadata": {},
   "source": [
    "#### Carregando uma tabela a partir de um arquivo\n",
    "\n",
    "Na maioria dos casos, não vamos passar pelo trabalho de digitar todos os dados manualmente. Em vez disso, carregamos eles de uma fonte externa, como um arquivo de dados. Existem muitos formatos para arquivos de dados, mas CSV (\"valores separados por vírgula\") é o mais comum.\n",
    "\n",
    "`Table.read_table(...)` recebe um argumento (um caminho para um arquivo de dados em formato **string**) e retorna uma tabela.\n",
    "\n",
    "**Questão 3.2.** `imdb.csv` contém uma tabela de informações sobre os 250 filmes mais bem avaliados no IMDb. Carregue-o como uma tabela chamada `imdb`.\n",
    "\n",
    "(Você pode se lembrar de trabalhar com esta tabela no Laboratório 2!)"
   ]
  },
  {
   "cell_type": "code",
   "execution_count": null,
   "metadata": {
    "deletable": false,
    "tags": []
   },
   "outputs": [],
   "source": [
    "imdb = ...\n",
    "imdb"
   ]
  },
  {
   "cell_type": "code",
   "execution_count": null,
   "metadata": {
    "deletable": false,
    "editable": false
   },
   "outputs": [],
   "source": [
    "grader.check(\"q32\")"
   ]
  },
  {
   "cell_type": "markdown",
   "metadata": {},
   "source": [
    "De onde veio o `imdb.csv`? Dê uma olhada na [pasta deste laboratório](./). Você deve ver um arquivo chamado `imdb.csv`.\n",
    "\n",
    "Abra o arquivo `imdb.csv` nessa pasta e observe o formato. O que você percebe? A extensão do arquivo `.csv` indica que este arquivo está no [formato CSV (valores separados por vírgula)](http://edoceo.com/utilitas/csv-file-format)."
   ]
  },
  {
   "cell_type": "markdown",
   "metadata": {},
   "source": [
    "## 4. Mais Operações com Tabelas!\n",
    "\n",
    "Agora que você trabalhou com arrays, vamos adicionar mais alguns métodos à lista de operações de tabelas que você viu no Laboratório 2.\n",
    "\n",
    "### `column`\n",
    "\n",
    "`column` recebe o nome da coluna de uma tabela (no formato de string) como seu argumento e retorna os valores dessa coluna como um **array**."
   ]
  },
  {
   "cell_type": "code",
   "execution_count": null,
   "metadata": {
    "scrolled": true
   },
   "outputs": [],
   "source": [
    "# Retorna um array de nomes de filmes\n",
    "top_10_movies.column('Name')"
   ]
  },
  {
   "cell_type": "markdown",
   "metadata": {},
   "source": [
    "### `take`\n",
    "O método `take` da tabela recebe como argumento um array de números. Cada número deve ser o índice de uma linha na tabela. Ele retorna uma **nova tabela** com apenas essas linhas.\n",
    "\n",
    "Você geralmente vai querer usar `take` em conjunto com `np.arange` para pegar as primeiras linhas de uma tabela."
   ]
  },
  {
   "cell_type": "code",
   "execution_count": null,
   "metadata": {
    "scrolled": true
   },
   "outputs": [],
   "source": [
    "# Pegue os primeiros 5 filmes de top_10_movies\n",
    "top_10_movies.take(np.arange(0, 5, 1))"
   ]
  },
  {
   "cell_type": "markdown",
   "metadata": {},
   "source": [
    "As próximas três perguntas lhe darão prática em combinar as operações que você aprendeu neste laboratório e no anterior para responder perguntas sobre as tabelas `population` e `imdb`. Primeiro, confira a tabela `population` da seção 2."
   ]
  },
  {
   "cell_type": "code",
   "execution_count": null,
   "metadata": {},
   "outputs": [],
   "source": [
    "# Execute esta célula para exibir a tabela de população.\n",
    "population"
   ]
  },
  {
   "cell_type": "markdown",
   "metadata": {},
   "source": [
    "**Questão 4.1.** Confira a tabela `population` da seção 2 deste laboratório. Calcule o ano em que a população mundial ultrapassou pela primeira vez 6 bilhões. Atribua o ano a `year_population_crossed_6_billion`."
   ]
  },
  {
   "cell_type": "code",
   "execution_count": null,
   "metadata": {
    "deletable": false,
    "tags": []
   },
   "outputs": [],
   "source": [
    "year_population_crossed_6_billion = ...\n",
    "year_population_crossed_6_billion"
   ]
  },
  {
   "cell_type": "code",
   "execution_count": null,
   "metadata": {
    "deletable": false,
    "editable": false
   },
   "outputs": [],
   "source": [
    "grader.check(\"q41\")"
   ]
  },
  {
   "cell_type": "markdown",
   "metadata": {},
   "source": [
    "**Questão 4.2.** Encontre a classificação média para filmes lançados antes do ano 2000 e a classificação média para filmes lançados no ano 2000 ou depois para os filmes em `imdb`.\n",
    "\n",
    "*Dica*: Pense nas etapas que você precisa fazer (calcular a média, encontrar as classificações, encontrar filmes lançados nos séculos 20/21), e tente colocá-las em uma ordem que faça sentido."
   ]
  },
  {
   "cell_type": "code",
   "execution_count": null,
   "metadata": {
    "deletable": false,
    "tags": []
   },
   "outputs": [],
   "source": [
    "before_2000 = ...\n",
    "after_or_in_2000 = ...\n",
    "print(\"Average before 2000 rating:\", before_2000)\n",
    "print(\"Average after or in 2000 rating:\", after_or_in_2000)"
   ]
  },
  {
   "cell_type": "code",
   "execution_count": null,
   "metadata": {
    "deletable": false,
    "editable": false
   },
   "outputs": [],
   "source": [
    "grader.check(\"q42\")"
   ]
  },
  {
   "cell_type": "markdown",
   "metadata": {},
   "source": [
    "**Questão 4.3.** Aqui está um desafio: Encontre o número de filmes que foram lançados em anos *pares*.\n",
    "\n",
    "*Dica:* O operador `%` calcula o resto da divisão por um número. Então `5 % 2` é 1 e `6 % 2` é 0. Um número é par se o resto for 0 quando você divide por 2.\n",
    "\n",
    "*Dica 2:* `%` pode ser usado em arrays, operando elemento por elemento como `+` ou `*`. Então `make_array(5, 6, 7) % 2` é `array([1, 0, 1])`.\n",
    "\n",
    "*Dica 3:* Adicione uma nova coluna chamada \"Year Remainder\" que é o resto quando o ano de lançamento de cada filme é dividido por 2. Para fazer isso, você pode usar `tbl.with_column(col_name, col_values)`: um método de tabela que recebe o nome da nova coluna e um array de valores e retorna uma cópia da `tbl` original com a nova coluna. Então, use `where` para encontrar as linhas onde essa nova coluna é igual a 0. Finalmente, use `num_rows` para contar o número de tais linhas.\n",
    "\n",
    "*Nota:* Essas etapas podem ser encadeadas em uma única declaração, ou divididas em várias linhas com nomes intermediários atribuídos. Você sempre é bem-vindo para dividir os problemas como quiser!"
   ]
  },
  {
   "cell_type": "code",
   "execution_count": null,
   "metadata": {
    "deletable": false,
    "tags": []
   },
   "outputs": [],
   "source": [
    "num_even_year_movies = ...\n",
    "num_even_year_movies"
   ]
  },
  {
   "cell_type": "code",
   "execution_count": null,
   "metadata": {
    "deletable": false,
    "editable": false
   },
   "outputs": [],
   "source": [
    "grader.check(\"q43\")"
   ]
  },
  {
   "cell_type": "markdown",
   "metadata": {},
   "source": [
    "## 5. Mais Prática com Arrays\n",
    "\n",
    "As seguintes questões serão ótimas para praticar como gerar arrays de diferentes maneiras, bem como executar diferentes métodos de aritmética de arrays!"
   ]
  },
  {
   "cell_type": "markdown",
   "metadata": {},
   "source": [
    "###  5.1 `np.arange` (cont.)"
   ]
  },
  {
   "cell_type": "markdown",
   "metadata": {},
   "source": [
    "##### Leituras de temperatura\n",
    "A NOAA (Administração Nacional Oceânica e Atmosférica dos EUA) opera estações meteorológicas que medem as temperaturas da superfície em diferentes locais dos Estados Unidos. As leituras horárias estão [disponíveis ao público](http://www.ncdc.noaa.gov/qclcd/QCLCD?prior=N).\n",
    "\n",
    "Suponha que baixamos todos os dados horários do local de Oakland, Califórnia, para o mês de dezembro de 2015. Para analisar os dados, queremos saber quando cada leitura foi feita, mas descobrimos que os dados não incluem os carimbos de data/hora das leituras (o momento em que cada uma foi feita).\n",
    "\n",
    "No entanto, sabemos que a primeira leitura foi feita no primeiro instante de dezembro de 2015 (meia-noite de 1º de dezembro) e cada leitura subsequente foi feita exatamente 1 hora após a última.\n",
    "\n",
    "**Questão 5.1.1.** Crie um array do *tempo, em segundos, desde o início do mês* em que **cada leitura horária** foi feita. Nomeie-o `collection_times`.\n",
    "\n",
    "*Dica 1:* Havia 31 dias em dezembro, o que equivale a ($31 \\times 24$) horas ou ($31 \\times 24 \\times 60 \\times 60$) segundos. Portanto, seu array deve ter $31 \\times 24$ elementos.\n",
    "\n",
    "*Dica 2:* A função `len` também funciona em arrays! Se o seu `collection_times` não está passando nos testes, verifique seu comprimento e certifique-se de que tem $31 \\times 24$ elementos."
   ]
  },
  {
   "cell_type": "code",
   "execution_count": null,
   "metadata": {
    "tags": []
   },
   "outputs": [],
   "source": [
    "collection_times = ...\n",
    "collection_times"
   ]
  },
  {
   "cell_type": "code",
   "execution_count": null,
   "metadata": {
    "deletable": false,
    "editable": false
   },
   "outputs": [],
   "source": [
    "grader.check(\"q511\")"
   ]
  },
  {
   "cell_type": "markdown",
   "metadata": {},
   "source": [
    "### 5.2 Fazendo algo com cada elemento de um array (cont.)\n",
    "\n",
    "Calcule uma gorjeta em várias contas de restaurante de uma vez (neste caso, apenas 3):"
   ]
  },
  {
   "cell_type": "code",
   "execution_count": null,
   "metadata": {},
   "outputs": [],
   "source": [
    "restaurant_bills = make_array(20.12, 39.90, 31.01)\n",
    "print(\"Restaurant bills:\\t\", restaurant_bills)\n",
    "\n",
    "# Multiplicação de array\n",
    "tips = .2 * restaurant_bills\n",
    "print(\"Tips:\\t\\t\\t\", tips)"
   ]
  },
  {
   "cell_type": "markdown",
   "metadata": {},
   "source": [
    "**Questão 5.2.1** Suponha que a cobrança total em um restaurante seja a conta original mais a gorjeta. Se a gorjeta for de 20%, isso significa que podemos multiplicar a conta original por 1,2 para obter a cobrança total. Calcule a cobrança total para cada conta em `restaurant_bills` e atribua o array resultante a `total_charges`."
   ]
  },
  {
   "cell_type": "code",
   "execution_count": null,
   "metadata": {
    "tags": []
   },
   "outputs": [],
   "source": [
    "total_charges = ...\n",
    "total_charges"
   ]
  },
  {
   "cell_type": "code",
   "execution_count": null,
   "metadata": {
    "deletable": false,
    "editable": false
   },
   "outputs": [],
   "source": [
    "grader.check(\"q521\")"
   ]
  },
  {
   "cell_type": "markdown",
   "metadata": {},
   "source": [
    "**Questão 5.2.2.** O array `more_restaurant_bills` contém 100.000 contas! Calcule a cobrança total para cada uma em `more_restaurant_bills`. Como o seu código é diferente?"
   ]
  },
  {
   "cell_type": "code",
   "execution_count": null,
   "metadata": {
    "tags": []
   },
   "outputs": [],
   "source": [
    "more_restaurant_bills = Table.read_table(\"more_restaurant_bills.csv\").column(\"Bill\")\n",
    "more_total_charges = ...\n",
    "more_total_charges"
   ]
  },
  {
   "cell_type": "code",
   "execution_count": null,
   "metadata": {
    "deletable": false,
    "editable": false
   },
   "outputs": [],
   "source": [
    "grader.check(\"q522\")"
   ]
  },
  {
   "cell_type": "markdown",
   "metadata": {},
   "source": [
    "A função `sum` recebe um único array de números como argumento. Ela retorna a soma de todos os números nesse array (portanto, retorna um único número, não um array).\n",
    "\n",
    "**Questão 5.2.3.** Qual foi a soma de todas as contas em `more_restaurant_bills`, *incluindo gorjetas*?"
   ]
  },
  {
   "cell_type": "code",
   "execution_count": null,
   "metadata": {
    "tags": []
   },
   "outputs": [],
   "source": [
    "sum_of_bills = ...\n",
    "sum_of_bills"
   ]
  },
  {
   "cell_type": "code",
   "execution_count": null,
   "metadata": {
    "deletable": false,
    "editable": false
   },
   "outputs": [],
   "source": [
    "grader.check(\"q523\")"
   ]
  },
  {
   "cell_type": "markdown",
   "metadata": {},
   "source": [
    "**Questão 5.2.4.** As potências de 2 ($2^0 = 1$, $2^1 = 2$, $2^2 = 4$, etc) surgem frequentemente na ciência da computação. (Por exemplo, você pode ter notado que o armazenamento em smartphones ou USBs vem em potências de 2, como 16 GB, 32 GB ou 64 GB.) Use `np.arange` e o operador de exponenciação `**` para calcular as primeiras 30 potências de 2, começando por `2^0`.\n",
    "\n",
    "*Dica 1:* `np.arange(1, 2**30, 1)` cria um array com $2^{30}$ elementos e **vai travar seu kernel**.\n",
    "\n",
    "*Dica 2:* Parte da sua solução envolverá `np.arange`, mas seu array não deve ter mais de 30 elementos."
   ]
  },
  {
   "cell_type": "code",
   "execution_count": null,
   "metadata": {
    "tags": []
   },
   "outputs": [],
   "source": [
    "powers_of_2 = ...\n",
    "powers_of_2"
   ]
  },
  {
   "cell_type": "code",
   "execution_count": null,
   "metadata": {
    "deletable": false,
    "editable": false
   },
   "outputs": [],
   "source": [
    "grader.check(\"q524\")"
   ]
  },
  {
   "cell_type": "markdown",
   "metadata": {},
   "source": [
    "---\n",
    "\n",
    "<img src=\"maple_syrup.jpeg\" alt=\"drawing\" width=\"300\"/>\n",
    "\n",
    "Maple Syrup quer te parabenizar por terminar o Laboratório 3!!\n",
    "\n",
    "Para verificar novamente o seu trabalho, a célula abaixo irá executar novamente todos os testes do autograder.\n",
    "\n"
   ]
  },
  {
   "cell_type": "markdown",
   "metadata": {},
   "source": [
    "## 6. Submissão\n",
    "\n",
    "**Passos importantes para a submissão:**\n",
    "1. Execute os testes e verifique se todos passaram.\n",
    "2. Escolha **Salvar Notebook** no menu **Arquivo**, então **execute a última célula**.\n",
    "3. Clique no link para baixar o arquivo zip.\n",
    "4. Em seguida, envie o arquivo zip para a tarefa correspondente de acordo com as instruções do seu professor.\n",
    "\n",
    "**É sua responsabilidade garantir que seu trabalho esteja salvo antes de executar a última célula.**"
   ]
  },
  {
   "cell_type": "markdown",
   "metadata": {
    "deletable": false,
    "editable": false
   },
   "source": [
    "## Submissão\n",
    "\n",
    "Certifique-se de ter executado todas as células do seu notebook em ordem antes de executar a célula abaixo, para que todas as imagens/gráficos apareçam na saída. A célula abaixo irá gerar um arquivo zip para você enviar. **Por favor, salve antes de exportar!**"
   ]
  },
  {
   "cell_type": "code",
   "execution_count": null,
   "metadata": {
    "deletable": false,
    "editable": false
   },
   "outputs": [],
   "source": [
    "# Salve seu notebook primeiro, depois execute esta célula para exportar sua submissão.\n",
    "grader.export(pdf=False, run_tests=True)"
   ]
  },
  {
   "cell_type": "markdown",
   "metadata": {},
   "source": [
    " "
   ]
  }
 ],
 "metadata": {
  "kernelspec": {
   "display_name": "Python 3 (ipykernel)",
   "language": "python",
   "name": "python3"
  },
  "language_info": {
   "codemirror_mode": {
    "name": "ipython",
    "version": 3
   },
   "file_extension": ".py",
   "mimetype": "text/x-python",
   "name": "python",
   "nbconvert_exporter": "python",
   "pygments_lexer": "ipython3",
   "version": "3.9.9"
  },
  "otter": {
   "OK_FORMAT": true,
   "tests": {
    "q11": {
     "name": "q11",
     "points": null,
     "suites": [
      {
       "cases": [
        {
         "code": ">>> woman_asking\n'The woman asked:'",
         "hidden": false,
         "locked": false
        },
        {
         "code": ">>> gagarin_quote\n'\"As a matter of fact, I have!\"'",
         "hidden": false,
         "locked": false
        }
       ],
       "scored": true,
       "setup": "",
       "teardown": "",
       "type": "doctest"
      }
     ]
    },
    "q111": {
     "name": "q111",
     "points": null,
     "suites": [
      {
       "cases": [
        {
         "code": ">>> new_word\n'matchmaker'",
         "hidden": false,
         "locked": false
        }
       ],
       "scored": true,
       "setup": "",
       "teardown": "",
       "type": "doctest"
      }
     ]
    },
    "q121": {
     "name": "q121",
     "points": null,
     "suites": [
      {
       "cases": [
        {
         "code": ">>> abs(difference) == 30 or abs(difference) == 30.0\nTrue",
         "hidden": false,
         "locked": false
        }
       ],
       "scored": true,
       "setup": "",
       "teardown": "",
       "type": "doctest"
      }
     ]
    },
    "q131": {
     "name": "q131",
     "points": null,
     "suites": [
      {
       "cases": [
        {
         "code": ">>> sentence_length\n896",
         "hidden": false,
         "locked": false
        }
       ],
       "scored": true,
       "setup": "",
       "teardown": "",
       "type": "doctest"
      }
     ]
    },
    "q211": {
     "name": "q211",
     "points": null,
     "suites": [
      {
       "cases": [
        {
         "code": ">>> import numpy as np\n>>> type(interesting_numbers) == np.ndarray\nTrue",
         "hidden": false,
         "locked": false
        },
        {
         "code": ">>> len(interesting_numbers)\n4",
         "hidden": false,
         "locked": false
        },
        {
         "code": ">>> import numpy as np\n>>> all(interesting_numbers == np.array([0, 1, -1, math.pi]))\nTrue",
         "hidden": false,
         "locked": false
        }
       ],
       "scored": true,
       "setup": "",
       "teardown": "",
       "type": "doctest"
      }
     ]
    },
    "q212": {
     "name": "q212",
     "points": null,
     "suites": [
      {
       "cases": [
        {
         "code": ">>> import numpy as np\n>>> type(hello_world_components) == np.ndarray\nTrue",
         "hidden": false,
         "locked": false
        },
        {
         "code": ">>> len(hello_world_components)\n5",
         "hidden": false,
         "locked": false
        },
        {
         "code": ">>> import numpy as np\n>>> all(hello_world_components == np.array([\"Hello\", \",\", \" \", \"world\", \"!\"]))\nTrue",
         "hidden": false,
         "locked": false
        }
       ],
       "scored": true,
       "setup": "",
       "teardown": "",
       "type": "doctest"
      }
     ]
    },
    "q213": {
     "name": "q213",
     "points": null,
     "suites": [
      {
       "cases": [
        {
         "code": ">>> type(multiples_of_99) == np.ndarray\nTrue",
         "hidden": false,
         "locked": false
        },
        {
         "code": ">>> len(multiples_of_99)\n102",
         "hidden": false,
         "locked": false
        },
        {
         "code": ">>> all(multiples_of_99 == np.arange(0, 9999+99, 99))\nTrue",
         "hidden": false,
         "locked": false
        }
       ],
       "scored": true,
       "setup": "",
       "teardown": "",
       "type": "doctest"
      }
     ]
    },
    "q221": {
     "name": "q221",
     "points": null,
     "suites": [
      {
       "cases": [
        {
         "code": ">>> population_1973\n3942096442",
         "hidden": false,
         "locked": false
        }
       ],
       "scored": true,
       "setup": "",
       "teardown": "",
       "type": "doctest"
      }
     ]
    },
    "q231": {
     "name": "q231",
     "points": null,
     "suites": [
      {
       "cases": [
        {
         "code": ">>> # It looks like you're not making an array.  You shouldn't need to\n>>> # use .item anywhere in your solution.\n>>> import numpy as np\n>>> type(population_rounded) == np.ndarray\nTrue",
         "hidden": false,
         "locked": false
        },
        {
         "code": ">>> # You made an array, but it doesn't have the right numbers in it.\n>>> import numpy as np\n>>> sum(population_rounded) == 312868000000\nTrue",
         "hidden": false,
         "locked": false
        }
       ],
       "scored": true,
       "setup": "",
       "teardown": "",
       "type": "doctest"
      }
     ]
    },
    "q31": {
     "name": "q31",
     "points": null,
     "suites": [
      {
       "cases": [
        {
         "code": ">>> type(top_10_movies) == tables.Table\nTrue",
         "hidden": false,
         "locked": false
        },
        {
         "code": ">>> top_10_movies.select('Name', 'Rating')\nName                                                     | Rating\nThe Shawshank Redemption (1994)                          | 9.2\nThe Godfather (1972)                                     | 9.2\nThe Godfather: Part II (1974)                            | 9\nPulp Fiction (1994)                                      | 8.9\nSchindler's List (1993)                                  | 8.9\nThe Lord of the Rings: The Return of the King (2003)     | 8.9\n12 Angry Men (1957)                                      | 8.9\nThe Dark Knight (2008)                                   | 8.9\nIl buono, il brutto, il cattivo (1966)                   | 8.9\nThe Lord of the Rings: The Fellowship of the Ring (2001) | 8.8",
         "hidden": false,
         "locked": false
        }
       ],
       "scored": true,
       "setup": "",
       "teardown": "",
       "type": "doctest"
      }
     ]
    },
    "q32": {
     "name": "q32",
     "points": null,
     "suites": [
      {
       "cases": [
        {
         "code": ">>> type(imdb) == tables.Table\nTrue",
         "hidden": false,
         "locked": false
        },
        {
         "code": ">>> imdb.num_rows == 250\nTrue",
         "hidden": false,
         "locked": false
        },
        {
         "code": ">>> imdb.select('Votes', 'Rating', 'Title', 'Year', 'Decade').sort(0).take(range(2,5))\nVotes | Rating | Title                       | Year | Decade\n31003 | 8.1    | Le salaire de la peur       | 1953 | 1950\n32385 | 8      | La battaglia di Algeri      | 1966 | 1960\n35983 | 8.1    | The Best Years of Our Lives | 1946 | 1940",
         "hidden": false,
         "locked": false
        }
       ],
       "scored": true,
       "setup": "",
       "teardown": "",
       "type": "doctest"
      }
     ]
    },
    "q41": {
     "name": "q41",
     "points": null,
     "suites": [
      {
       "cases": [
        {
         "code": ">>> # Oops, your name is assigned to the wrong data type!\n>>> import numpy as np\n>>> type(year_population_crossed_6_billion) == int or type(year_population_crossed_6_billion) == np.int64\nTrue",
         "hidden": false,
         "locked": false
        },
        {
         "code": ">>> year_population_crossed_6_billion == 1999\nTrue",
         "hidden": false,
         "locked": false
        }
       ],
       "scored": true,
       "setup": "",
       "teardown": "",
       "type": "doctest"
      }
     ]
    },
    "q42": {
     "name": "q42",
     "points": null,
     "suites": [
      {
       "cases": [
        {
         "code": ">>> abs(before_2000 - 8.2783625730994146) < 1e-5\nTrue",
         "hidden": false,
         "locked": false
        },
        {
         "code": ">>> abs(after_or_in_2000 - 8.2379746835443033) < 1e-5\nTrue",
         "hidden": false,
         "locked": false
        }
       ],
       "scored": true,
       "setup": "",
       "teardown": "",
       "type": "doctest"
      }
     ]
    },
    "q43": {
     "name": "q43",
     "points": null,
     "suites": [
      {
       "cases": [
        {
         "code": ">>> num_even_year_movies == 127\nTrue",
         "hidden": false,
         "locked": false
        }
       ],
       "scored": true,
       "setup": "",
       "teardown": "",
       "type": "doctest"
      }
     ]
    },
    "q511": {
     "name": "q511",
     "points": null,
     "suites": [
      {
       "cases": [
        {
         "code": ">>> type(collection_times) == np.ndarray\nTrue",
         "hidden": false,
         "locked": false
        },
        {
         "code": ">>> len(collection_times)\n744",
         "hidden": false,
         "locked": false
        },
        {
         "code": ">>> collection_times.item(12) == 43200\nTrue",
         "hidden": false,
         "locked": false
        },
        {
         "code": ">>> collection_times.item(37) == 133200\nTrue",
         "hidden": false,
         "locked": false
        }
       ],
       "scored": true,
       "setup": "",
       "teardown": "",
       "type": "doctest"
      }
     ]
    },
    "q521": {
     "name": "q521",
     "points": null,
     "suites": [
      {
       "cases": [
        {
         "code": ">>> # It looks like you're not making an array.  You shouldn't need to\n>>> # use .item anywhere in your solution.\n>>> import numpy as np\n>>> type(total_charges) == np.ndarray\nTrue",
         "hidden": false,
         "locked": false
        },
        {
         "code": ">>> # You made an array, but it doesn't have the right numbers in it.\n>>> import numpy as np\n>>> sum(abs(total_charges - np.array([24.144, 47.88, 37.212]))) < 1e-6\nTrue",
         "hidden": false,
         "locked": false
        }
       ],
       "scored": true,
       "setup": "",
       "teardown": "",
       "type": "doctest"
      }
     ]
    },
    "q522": {
     "name": "q522",
     "points": null,
     "suites": [
      {
       "cases": [
        {
         "code": ">>> # It looks like you're not making an array.  You shouldn't need to\n>>> # use .item anywhere in your solution.\n>>> import numpy as np\n>>> type(more_total_charges) == np.ndarray\nTrue",
         "hidden": false,
         "locked": false
        },
        {
         "code": ">>> # You made an array, but it doesn't have the right numbers in it.\n>>> import numpy as np\n>>> sum(abs(more_total_charges - 1.2 * more_restaurant_bills)) < 1e-6\nTrue",
         "hidden": false,
         "locked": false
        }
       ],
       "scored": true,
       "setup": "",
       "teardown": "",
       "type": "doctest"
      }
     ]
    },
    "q523": {
     "name": "q523",
     "points": null,
     "suites": [
      {
       "cases": [
        {
         "code": ">>> round(sum_of_bills, 2) == 1795730.06\nTrue",
         "hidden": false,
         "locked": false
        }
       ],
       "scored": true,
       "setup": "",
       "teardown": "",
       "type": "doctest"
      }
     ]
    },
    "q524": {
     "name": "q524",
     "points": null,
     "suites": [
      {
       "cases": [
        {
         "code": ">>> all(powers_of_2 == 2 ** np.arange(30))\nTrue",
         "hidden": false,
         "locked": false
        }
       ],
       "scored": true,
       "setup": "",
       "teardown": "",
       "type": "doctest"
      }
     ]
    }
   }
  }
 },
 "nbformat": 4,
 "nbformat_minor": 5
}
