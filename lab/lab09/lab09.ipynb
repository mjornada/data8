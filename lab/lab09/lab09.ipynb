{
 "cells": [
  {
   "cell_type": "code",
   "execution_count": null,
   "metadata": {
    "deletable": false,
    "editable": false
   },
   "outputs": [],
   "source": [
    "# Inicialize o Otter\n",
    "import otter\n",
    "grader = otter.Notebook(\"lab09.ipynb\")"
   ]
  },
  {
   "cell_type": "markdown",
   "metadata": {},
   "source": [
    "# Laboratório 9: Regressão\n",
    "\n",
    "Bem-vindo ao Laboratório 9!\n",
    "\n",
    "Hoje vamos praticar regressão linear na prática. Você pode encontrar mais informações sobre este tópico no\n",
    "[Capítulo 15.2](https://www.inferentialthinking.com/chapters/15/2/Regression_Line.html#the-regression-line).\n",
    "\n",
    "**Submissão**: Uma vez que você tenha terminado, execute todas as células exceto a última, selecione Arquivo > Salvar Caderno, e então execute a célula final. Depois, submeta o arquivo zip baixado, que inclui seu caderno, de acordo com as instruções do seu instrutor."
   ]
  },
  {
   "cell_type": "code",
   "execution_count": null,
   "metadata": {},
   "outputs": [],
   "source": [
    "# Execute esta célula, mas por favor não a altere.\n",
    "\n",
    "# Estas linhas importam os módulos Numpy e Datascience.\n",
    "import numpy as np\n",
    "from datascience import *\n",
    "\n",
    "# Estas linhas fazem alguma mágica de plotagem sofisticada.\n",
    "import matplotlib\n",
    "%matplotlib inline\n",
    "import matplotlib.pyplot as plots\n",
    "plots.style.use('fivethirtyeight')\n",
    "import warnings\n",
    "warnings.simplefilter('ignore', FutureWarning)\n",
    "\n",
    "import d8error"
   ]
  },
  {
   "cell_type": "markdown",
   "metadata": {},
   "source": [
    "# 1. Quão Fiel é o Old Faithful?\n",
    "\n",
    "Old Faithful é um gêiser no Parque Nacional de Yellowstone que é famoso por entrar em erupção em um cronograma relativamente regular. Execute a célula abaixo para ver o Old Faithful em ação!"
   ]
  },
  {
   "cell_type": "code",
   "execution_count": null,
   "metadata": {},
   "outputs": [],
   "source": [
    "# Para os curiosos: esta é a forma de exibir um vídeo do YouTube em um\n",
    "# caderno Jupyter. O argumento para YouTubeVideo é a parte\n",
    "# da URL (chamada de \"parâmetro de consulta\") que identifica o\n",
    "# vídeo. Por exemplo, a URL completa para este vídeo é:\n",
    "#   https://www.youtube.com/watch?v=wE8NDuzt8eg\n",
    "from IPython.display import YouTubeVideo\n",
    "YouTubeVideo(\"wE8NDuzt8eg\")"
   ]
  },
  {
   "cell_type": "markdown",
   "metadata": {},
   "source": [
    "Algumas erupções do Old Faithful duram mais do que outras. Sempre que ocorre uma erupção longa, geralmente é seguida por uma espera ainda mais longa antes da próxima erupção. Se você visitar Yellowstone, talvez queira prever quando a próxima erupção acontecerá, para que possa ver o resto do parque em vez de esperar pelo gêiser.\n",
    "\n",
    "Hoje, usaremos um conjunto de dados sobre durações de erupções e tempos de espera para ver se podemos fazer tais previsões com precisão usando regressão linear.\n",
    "\n",
    "O conjunto de dados tem uma linha para cada erupção observada. Inclui as seguintes colunas:\n",
    "- `duration`: Duração da erupção, em minutos\n",
    "- `wait`: Tempo entre esta erupção e a próxima, também em minutos\n",
    "\n",
    "Execute a próxima célula para carregar o conjunto de dados."
   ]
  },
  {
   "cell_type": "code",
   "execution_count": null,
   "metadata": {},
   "outputs": [],
   "source": [
    "faithful = Table.read_table(\"faithful.csv\")\n",
    "faithful"
   ]
  },
  {
   "cell_type": "markdown",
   "metadata": {},
   "source": [
    "**Questão 1.0.** As seguintes afirmações são os passos desordenados da regressão linear.\n",
    "\n",
    "1. Calcule os parâmetros da linha de regressão: a inclinação e a interseção.\n",
    "2. Avalie a linha de regressão calculando o RMSE da linha e analisando o gráfico de resíduos.\n",
    "3. Use a linha de regressão para gerar previsões para cada valor de x.\n",
    "4. Determine se a regressão linear é um método razoável visualizando seus dados e calculando o coeficiente de correlação.\n",
    "\n",
    "Faça um array chamado `least_squares_order` que contém a ordem correta de uma análise de regressão linear, onde o primeiro item do array é o primeiro passo de uma análise de regressão linear e o último item do array é o último passo de uma análise de regressão linear."
   ]
  },
  {
   "cell_type": "code",
   "execution_count": null,
   "metadata": {
    "tags": []
   },
   "outputs": [],
   "source": [
    "least_squares_order = ..."
   ]
  },
  {
   "cell_type": "code",
   "execution_count": null,
   "metadata": {
    "deletable": false,
    "editable": false
   },
   "outputs": [],
   "source": [
    "grader.check(\"q1_0\")"
   ]
  },
  {
   "cell_type": "markdown",
   "metadata": {},
   "source": [
    "Gostaríamos de usar a regressão linear para fazer previsões, mas isso não funcionará bem se os dados não estiverem aproximadamente relacionados de forma linear. Para verificar isso, devemos observar os dados."
   ]
  },
  {
   "cell_type": "markdown",
   "metadata": {},
   "source": [
    "**Questão 1.1.** Faça um gráfico de dispersão dos dados. É convencional colocar a coluna que queremos prever no eixo vertical e a outra coluna no eixo horizontal."
   ]
  },
  {
   "cell_type": "code",
   "execution_count": null,
   "metadata": {
    "tags": []
   },
   "outputs": [],
   "source": [
    "..."
   ]
  },
  {
   "cell_type": "markdown",
   "metadata": {},
   "source": [
    "**Questão 1.2.** A duração da erupção e o tempo de espera estão aproximadamente relacionados de forma linear com base no gráfico de dispersão acima? Essa relação é positiva?"
   ]
  },
  {
   "cell_type": "markdown",
   "metadata": {},
   "source": [
    "_Digite sua resposta aqui, substituindo este texto._"
   ]
  },
  {
   "cell_type": "markdown",
   "metadata": {},
   "source": [
    "Vamos continuar com a suposição de que eles estão relacionados de forma linear, então é razoável usar a regressão linear para analisar esses dados.\n",
    "\n",
    "Em seguida, gostaríamos de plotar os dados em unidades padrão. Se você não se lembra da definição de unidades padrão, a seção do livro didático [14.2](https://www.inferentialthinking.com/chapters/14/2/Variability.html#standard-units) pode ajudar!"
   ]
  },
  {
   "cell_type": "markdown",
   "metadata": {},
   "source": [
    "**Questão 1.3.** Calcule a média e o desvio padrão das durações das erupções e dos tempos de espera. **Em seguida**, crie uma tabela chamada `faithful_standard` contendo as durações das erupções e os tempos de espera em unidades padrão. As colunas devem ser nomeadas `duration (standard units)` e `wait (standard units)`."
   ]
  },
  {
   "cell_type": "code",
   "execution_count": null,
   "metadata": {
    "for_assignment_type": "solution",
    "tags": []
   },
   "outputs": [],
   "source": [
    "duration_mean = ...\n",
    "duration_std = ...\n",
    "wait_mean = ...\n",
    "wait_std = ...\n",
    "\n",
    "faithful_standard = Table().with_columns(\n",
    "    \"duration (standard units)\", ...,\n",
    "    \"wait (standard units)\", ...)\n",
    "faithful_standard"
   ]
  },
  {
   "cell_type": "code",
   "execution_count": null,
   "metadata": {
    "deletable": false,
    "editable": false
   },
   "outputs": [],
   "source": [
    "grader.check(\"q1_3\")"
   ]
  },
  {
   "cell_type": "markdown",
   "metadata": {},
   "source": [
    "**Questão 1.4.** Plote os dados novamente, mas desta vez em unidades padrão."
   ]
  },
  {
   "cell_type": "code",
   "execution_count": null,
   "metadata": {
    "tags": []
   },
   "outputs": [],
   "source": [
    "..."
   ]
  },
  {
   "cell_type": "markdown",
   "metadata": {},
   "source": [
    "Você notará que este gráfico parece o mesmo que o anterior! No entanto, os dados e os eixos estão escalados de forma diferente. Portanto, é importante ler as marcações nos eixos."
   ]
  },
  {
   "cell_type": "markdown",
   "metadata": {},
   "source": [
    "**Questão 1.5.** Entre os seguintes números, qual você acha que está mais próximo da correlação entre a duração da erupção e o tempo de espera neste conjunto de dados?\n",
    "\n",
    "1. -1\n",
    "2. 0\n",
    "3. 1\n",
    "\n",
    "Atribua `correlation` ao número correspondente ao seu palpite (1, 2 ou 3)."
   ]
  },
  {
   "cell_type": "code",
   "execution_count": null,
   "metadata": {
    "tags": []
   },
   "outputs": [],
   "source": [
    "correlation = ..."
   ]
  },
  {
   "cell_type": "code",
   "execution_count": null,
   "metadata": {
    "deletable": false,
    "editable": false
   },
   "outputs": [],
   "source": [
    "grader.check(\"q1_5\")"
   ]
  },
  {
   "cell_type": "markdown",
   "metadata": {},
   "source": [
    "**Questão 1.6.** Calcule o coeficiente de correlação: `r`.\n",
    "\n",
    "*Dica:* Use `faithful_standard`. A seção [15.1](https://www.inferentialthinking.com/chapters/15/1/Correlation.html#calculating-r) explica como fazer isso."
   ]
  },
  {
   "cell_type": "code",
   "execution_count": null,
   "metadata": {
    "tags": []
   },
   "outputs": [],
   "source": [
    "r = ...\n",
    "r"
   ]
  },
  {
   "cell_type": "code",
   "execution_count": null,
   "metadata": {
    "deletable": false,
    "editable": false
   },
   "outputs": [],
   "source": [
    "grader.check(\"q1_6\")"
   ]
  },
  {
   "cell_type": "markdown",
   "metadata": {},
   "source": [
    "## 2. A linha de regressão\n",
    "Lembre-se de que a **correlação** é a **inclinação da linha de regressão quando os dados são colocados em unidades padrão**.\n",
    "\n",
    "A próxima célula plota a linha de regressão em unidades padrão:\n",
    "\n",
    "$$\\text{tempo de espera em unidades padrão} = r \\times \\text{duração da erupção em unidades padrão}$$\n",
    "\n",
    "Em seguida, plota os dados em unidades padrão novamente, para comparação."
   ]
  },
  {
   "cell_type": "code",
   "execution_count": null,
   "metadata": {},
   "outputs": [],
   "source": [
    "def plot_data_and_line(dataset, x, y, point_0, point_1):\n",
    "    \"\"\"Faz um gráfico de dispersão do conjunto de dados, junto com uma linha passando por dois pontos.\"\"\"\n",
    "    dataset.scatter(x, y, label=\"data\")\n",
    "    xs, ys = zip(point_0, point_1)\n",
    "    plots.plot(xs, ys, label=\"regression line\")\n",
    "    plots.legend(bbox_to_anchor=(1.5,.8))\n",
    "\n",
    "plot_data_and_line(faithful_standard, \n",
    "                   \"duration (standard units)\", \n",
    "                   \"wait (standard units)\", \n",
    "                   [-2, -2*r], \n",
    "                   [2, 2*r])"
   ]
  },
  {
   "cell_type": "markdown",
   "metadata": {},
   "source": [
    "Como você converteria um ponto em unidades padrão de volta para as unidades originais? Teríamos que \"esticar\" sua posição horizontal por `duration_std` e sua posição vertical por `wait_std`. Isso significa que o mesmo aconteceria com a inclinação da linha.\n",
    "\n",
    "Esticar uma linha horizontalmente a torna menos íngreme, então dividimos a inclinação pelo fator de esticamento. Esticar uma linha verticalmente a torna mais íngreme, então multiplicamos a inclinação pelo fator de esticamento.\n",
    "\n",
    "**Questão 2.1.** Calcule a inclinação da linha de regressão em unidades originais e atribua-a a `slope`.\n",
    "\n",
    "(Se a explicação de \"esticamento\" não for intuitiva, consulte a seção [15.2](https://www.inferentialthinking.com/chapters/15/2/Regression_Line.html#the-equation-of-the-regression-line) no livro didático.)"
   ]
  },
  {
   "cell_type": "code",
   "execution_count": null,
   "metadata": {
    "tags": []
   },
   "outputs": [],
   "source": [
    "slope = ...\n",
    "slope"
   ]
  },
  {
   "cell_type": "code",
   "execution_count": null,
   "metadata": {
    "deletable": false,
    "editable": false
   },
   "outputs": [],
   "source": [
    "grader.check(\"q2_1\")"
   ]
  },
  {
   "cell_type": "markdown",
   "metadata": {},
   "source": [
    "Sabemos que a linha de regressão passa pelo ponto `(duration_mean, wait_mean)`. Lembre-se de que a equação da linha de regressão nas unidades originais é:\n",
    "\n",
    "$$\\text{tempo de espera} = \\text{inclinação} \\times \\text{duração da erupção} + (- \\text{inclinação} \\times \\text{duration\\_mean} + \\text{wait\\_mean})$$\n",
    "\n",
    "**Questão 2.2.** Calcule a interseção nas unidades originais e atribua-a a `intercept`. [Seção 15.2.5](https://inferentialthinking.com/chapters/15/2/Regression_Line.html#the-regression-line-in-standard-units) pode ser útil."
   ]
  },
  {
   "cell_type": "code",
   "execution_count": null,
   "metadata": {
    "tags": []
   },
   "outputs": [],
   "source": [
    "intercept = ...\n",
    "intercept"
   ]
  },
  {
   "cell_type": "code",
   "execution_count": null,
   "metadata": {
    "deletable": false,
    "editable": false
   },
   "outputs": [],
   "source": [
    "grader.check(\"q2_2\")"
   ]
  },
  {
   "cell_type": "markdown",
   "metadata": {},
   "source": [
    "## 3. Investigando a linha de regressão\n",
    "A inclinação e a interseção informam exatamente como a linha de regressão se parece. Para prever o tempo de espera para uma erupção, multiplique a duração da erupção por `slope` e depois some `intercept`.\n",
    "\n",
    "**Questão 3.1.** Calcule o tempo de espera previsto para uma erupção que dura 2 minutos, e para uma erupção que dura 5 minutos."
   ]
  },
  {
   "cell_type": "code",
   "execution_count": null,
   "metadata": {
    "tags": []
   },
   "outputs": [],
   "source": [
    "two_minute_predicted_waiting_time = ...\n",
    "five_minute_predicted_waiting_time = ...\n",
    "\n",
    "# Aqui está uma função auxiliar para imprimir suas previsões.\n",
    "# Não modifique o código abaixo.\n",
    "def print_prediction(duration, predicted_waiting_time):\n",
    "    print(\"After an eruption lasting\", duration,\n",
    "          \"minutes, we predict you'll wait\", predicted_waiting_time,\n",
    "          \"minutes until the next eruption.\")\n",
    "\n",
    "print_prediction(2, two_minute_predicted_waiting_time)\n",
    "print_prediction(5, five_minute_predicted_waiting_time)"
   ]
  },
  {
   "cell_type": "code",
   "execution_count": null,
   "metadata": {
    "deletable": false,
    "editable": false
   },
   "outputs": [],
   "source": [
    "grader.check(\"q3_1\")"
   ]
  },
  {
   "cell_type": "markdown",
   "metadata": {},
   "source": [
    "A próxima célula plota a linha que passa entre esses dois pontos, que é (um segmento da) linha de regressão."
   ]
  },
  {
   "cell_type": "code",
   "execution_count": null,
   "metadata": {
    "scrolled": true
   },
   "outputs": [],
   "source": [
    "plot_data_and_line(faithful, \"duration\", \"wait\", \n",
    "                   [2, two_minute_predicted_waiting_time], \n",
    "                   [5, five_minute_predicted_waiting_time])"
   ]
  },
  {
   "cell_type": "markdown",
   "metadata": {},
   "source": [
    "**Questão 3.2.** Faça previsões para o tempo de espera após cada erupção na tabela `faithful`. (Claro, nós sabemos exatamente quais foram os tempos de espera! Estamos fazendo isso para podermos ver quão precisas são nossas previsões.) Coloque esses números em uma coluna em uma nova tabela chamada `faithful_predictions`. Sua primeira linha deve parecer com isso:\n",
    "\n",
    "|duration|wait|predicted wait|\n",
    "|-|-|-|\n",
    "|3.6|79|72.1011|\n",
    "\n",
    "*Dica:* Sua resposta pode ser apenas uma linha, embora você não esteja limitado a uma linha. Não há necessidade de um loop `for`; use aritmética de arrays em vez disso."
   ]
  },
  {
   "cell_type": "code",
   "execution_count": null,
   "metadata": {
    "tags": []
   },
   "outputs": [],
   "source": [
    "faithful_predictions = ...\n",
    "faithful_predictions"
   ]
  },
  {
   "cell_type": "code",
   "execution_count": null,
   "metadata": {
    "deletable": false,
    "editable": false
   },
   "outputs": [],
   "source": [
    "grader.check(\"q3_2\")"
   ]
  },
  {
   "cell_type": "markdown",
   "metadata": {},
   "source": [
    "**Questão 3.3.** Quão próximos estávamos? Calcule o *resíduo* para cada erupção no conjunto de dados. O resíduo é o tempo de espera real menos o tempo de espera previsto. Adicione os resíduos a `faithful_predictions` como uma nova coluna chamada `residual` e nomeie a tabela resultante `faithful_residuals`.\n",
    "\n",
    "*Dica:* Novamente, seu código será muito mais simples se você não usar um loop `for`."
   ]
  },
  {
   "cell_type": "code",
   "execution_count": null,
   "metadata": {
    "tags": []
   },
   "outputs": [],
   "source": [
    "faithful_residuals = ...\n",
    "faithful_residuals"
   ]
  },
  {
   "cell_type": "code",
   "execution_count": null,
   "metadata": {
    "deletable": false,
    "editable": false
   },
   "outputs": [],
   "source": [
    "grader.check(\"q3_3\")"
   ]
  },
  {
   "cell_type": "markdown",
   "metadata": {},
   "source": [
    "Aqui está um gráfico dos resíduos que você calculou. Cada ponto corresponde a uma erupção. Ele mostra quanto nossa previsão superestimou ou subestimou o tempo de espera."
   ]
  },
  {
   "cell_type": "code",
   "execution_count": null,
   "metadata": {},
   "outputs": [],
   "source": [
    "faithful_residuals.scatter(\"duration\", \"residual\", color=\"r\")"
   ]
  },
  {
   "cell_type": "markdown",
   "metadata": {},
   "source": [
    "Não há realmente um padrão nos resíduos, o que confirma que foi razoável tentar a regressão linear. É verdade que existem duas nuvens separadas; as durações das erupções pareciam cair em dois clusters distintos. Mas isso é apenas um padrão nas durações das erupções, não um padrão na relação entre as durações das erupções e os tempos de espera."
   ]
  },
  {
   "cell_type": "markdown",
   "metadata": {},
   "source": [
    "## 4. Quão precisas são as diferentes previsões?\n",
    "Anteriormente, você deve ter descoberto que a correlação é bastante próxima de 1, então a linha se ajusta razoavelmente bem aos dados de treinamento. Isso significa que os resíduos são, em geral, pequenos (próximos de 0) em comparação com os tempos de espera.\n",
    "\n",
    "Podemos ver isso visualmente ao plotar os tempos de espera e os resíduos juntos:"
   ]
  },
  {
   "cell_type": "code",
   "execution_count": null,
   "metadata": {},
   "outputs": [],
   "source": [
    "# Apenas execute esta célula.\n",
    "faithful_residuals.scatter(\"duration\", \"wait\", label=\"actual waiting time\", color=\"blue\")\n",
    "plots.scatter(faithful_residuals.column(\"duration\"), faithful_residuals.column(\"residual\"), label=\"residual\", color=\"r\")\n",
    "plots.plot([2, 5], [two_minute_predicted_waiting_time, five_minute_predicted_waiting_time], label=\"regression line\")\n",
    "plots.legend(bbox_to_anchor=(1.7,.8));"
   ]
  },
  {
   "cell_type": "markdown",
   "metadata": {},
   "source": [
    "No entanto, a menos que você tenha uma forte razão para acreditar que o modelo de regressão linear é verdadeiro, você deve ter cautela ao aplicar seu modelo de previsão a dados que são muito diferentes dos dados de treinamento."
   ]
  },
  {
   "cell_type": "markdown",
   "metadata": {},
   "source": [
    "**Questão 4.1.** Em `faithful`, nenhuma erupção durou exatamente 0, 2,5 ou 60 minutos. Usando essa linha, qual é o tempo de espera previsto para uma erupção que dura 0 minutos? 2,5 minutos? Uma hora?"
   ]
  },
  {
   "cell_type": "code",
   "execution_count": null,
   "metadata": {
    "tags": []
   },
   "outputs": [],
   "source": [
    "zero_minute_predicted_waiting_time = ...\n",
    "two_point_five_minute_predicted_waiting_time = ...\n",
    "hour_predicted_waiting_time = ...\n",
    "\n",
    "print_prediction(0, zero_minute_predicted_waiting_time)\n",
    "print_prediction(2.5, two_point_five_minute_predicted_waiting_time)\n",
    "print_prediction(60, hour_predicted_waiting_time)"
   ]
  },
  {
   "cell_type": "code",
   "execution_count": null,
   "metadata": {
    "deletable": false,
    "editable": false
   },
   "outputs": [],
   "source": [
    "grader.check(\"q4_1\")"
   ]
  },
  {
   "cell_type": "markdown",
   "metadata": {},
   "source": [
    "**Questão 4.2.** Para cada previsão, indique se você acha que é confiável e explique seu raciocínio."
   ]
  },
  {
   "cell_type": "markdown",
   "metadata": {},
   "source": [
    "_Digite sua resposta aqui, substituindo este texto._"
   ]
  },
  {
   "cell_type": "markdown",
   "metadata": {},
   "source": [
    "## 5. Dividir e Conquistar"
   ]
  },
  {
   "cell_type": "markdown",
   "metadata": {},
   "source": [
    "Parece, a partir do diagrama de dispersão, que existem dois grupos de pontos: um para durações em torno de 2 e outro para durações entre 3,5 e 5. Uma linha vertical em 3 divide os dois grupos."
   ]
  },
  {
   "cell_type": "code",
   "execution_count": null,
   "metadata": {
    "scrolled": true
   },
   "outputs": [],
   "source": [
    "faithful.scatter(\"duration\", \"wait\", label=\"actual waiting time\", color=\"blue\")\n",
    "plots.plot([3, 3], [40, 100]);"
   ]
  },
  {
   "cell_type": "markdown",
   "metadata": {},
   "source": [
    "A função `standardize` da aula aparece abaixo, que recebe uma tabela com colunas numéricas e retorna a mesma tabela com cada coluna convertida em unidades padrão."
   ]
  },
  {
   "cell_type": "code",
   "execution_count": null,
   "metadata": {},
   "outputs": [],
   "source": [
    "# Apenas execute esta célula.\n",
    "\n",
    "def standard_units(any_numbers):\n",
    "    \"\"\"Converte qualquer array de números para unidades padrão.\"\"\"\n",
    "    return (any_numbers - np.mean(any_numbers)) / np.std(any_numbers)  \n",
    "\n",
    "def standardize(t):\n",
    "    \"\"\"Retorna uma tabela na qual todas as colunas de t são convertidas para unidades padrão.\"\"\"\n",
    "    t_su = Table()\n",
    "    for label in t.labels:\n",
    "        t_su = t_su.with_column(label + ' (su)', standard_units(t.column(label)))\n",
    "    return t_su"
   ]
  },
  {
   "cell_type": "markdown",
   "metadata": {},
   "source": [
    "**Questão 5.1.** Calcule separadamente o coeficiente de correlação *r* para todos os pontos com duração abaixo de 3 **e depois** para todos os pontos com duração acima de 3. Para fazer isso, crie uma função que calcula `r` a partir de uma tabela, e então passe para ela duas tabelas diferentes de pontos, chamadas `below_3` e `above_3`.\n",
    "\n",
    "*Dica:* Você pode assumir que a tabela não tem nenhum valor de duração que seja exatamente 3."
   ]
  },
  {
   "cell_type": "code",
   "execution_count": null,
   "metadata": {
    "tags": []
   },
   "outputs": [],
   "source": [
    "def corr_coeff(t):\n",
    "    \"\"\"Retorna o coeficiente de regressão para as colunas 0 e 1.\"\"\"\n",
    "    t_su = standardize(t)\n",
    "    ...\n",
    "\n",
    "below_3 = ...\n",
    "above_3 = ...\n",
    "below_3_r = corr_coeff(below_3)\n",
    "above_3_r = corr_coeff(above_3)\n",
    "print(\"For points below 3, r is\", below_3_r, \"; for points above 3, r is\", above_3_r)"
   ]
  },
  {
   "cell_type": "code",
   "execution_count": null,
   "metadata": {
    "deletable": false,
    "editable": false
   },
   "outputs": [],
   "source": [
    "grader.check(\"q5_1\")"
   ]
  },
  {
   "cell_type": "markdown",
   "metadata": {},
   "source": [
    "**Questão 5.2.** Complete as funções `slope_of` e `intercept_of` abaixo.\n",
    "\n",
    "Quando terminar, as funções `wait_below_3` e `wait_above_3` devem usar cada uma uma linha de regressão diferente para prever um tempo de espera para uma duração. A primeira função deve usar a linha de regressão para todos os pontos com duração abaixo de 3. A segunda função deve usar a linha de regressão para todos os pontos com duração acima de 3."
   ]
  },
  {
   "cell_type": "code",
   "execution_count": null,
   "metadata": {
    "tags": []
   },
   "outputs": [],
   "source": [
    "def slope_of(table, r):\n",
    "    \"\"\"Retorna a inclinação da linha de regressão para a tabela em unidades originais.\n",
    "    \n",
    "    Assume que a coluna 0 contém os valores de x e a coluna 1 contém os valores de y.\n",
    "    r é o coeficiente de regressão para x e y.\n",
    "    \"\"\"\n",
    "    ...\n",
    "\n",
    "def intercept_of(table, r):\n",
    "    \"\"\"Retorna o intercepto da linha de regressão para a tabela em unidades originais.\"\"\"\n",
    "    slope = slope_of(table, r)\n",
    "    ...\n",
    "    \n",
    "below_3_slope = slope_of(below_3, below_3_r)\n",
    "below_3_intercept = intercept_of(below_3, below_3_r)\n",
    "above_3_slope = slope_of(above_3, above_3_r)\n",
    "above_3_intercept = intercept_of(above_3, above_3_r)\n",
    "\n",
    "def wait_below_3(duration):\n",
    "    return below_3_slope * duration + below_3_intercept\n",
    "\n",
    "def wait_above_3(duration):\n",
    "    return above_3_slope * duration + above_3_intercept"
   ]
  },
  {
   "cell_type": "code",
   "execution_count": null,
   "metadata": {
    "deletable": false,
    "editable": false
   },
   "outputs": [],
   "source": [
    "grader.check(\"q5_2\")"
   ]
  },
  {
   "cell_type": "markdown",
   "metadata": {},
   "source": [
    "O gráfico abaixo mostra as duas diferentes linhas de regressão, uma para cada grupo, junto com a linha de regressão original!"
   ]
  },
  {
   "cell_type": "code",
   "execution_count": null,
   "metadata": {},
   "outputs": [],
   "source": [
    "faithful.scatter(0, 1)\n",
    "plots.plot([2, 5], [two_minute_predicted_waiting_time, five_minute_predicted_waiting_time])\n",
    "plots.plot([1, 3], [wait_below_3(1), wait_below_3(3)])\n",
    "plots.plot([3, 6], [wait_above_3(3), wait_above_3(6)]);"
   ]
  },
  {
   "cell_type": "markdown",
   "metadata": {},
   "source": [
    "**Questão 5.3.** Escreva uma função `predict_wait` que recebe uma `duration` (duração) e retorna o tempo de espera previsto usando a linha de regressão apropriada, dependendo se a duração é abaixo de 3 ou maior que (ou igual a) 3."
   ]
  },
  {
   "cell_type": "code",
   "execution_count": null,
   "metadata": {
    "for_assignment_type": "student",
    "tags": []
   },
   "outputs": [],
   "source": [
    "def predict_wait(duration):\n",
    "    ..."
   ]
  },
  {
   "cell_type": "code",
   "execution_count": null,
   "metadata": {
    "deletable": false,
    "editable": false
   },
   "outputs": [],
   "source": [
    "grader.check(\"q5_3\")"
   ]
  },
  {
   "cell_type": "markdown",
   "metadata": {},
   "source": [
    "Os tempos de espera previstos para cada ponto aparecem abaixo."
   ]
  },
  {
   "cell_type": "code",
   "execution_count": null,
   "metadata": {},
   "outputs": [],
   "source": [
    "faithful_pred_split = faithful.with_column('predicted', faithful.apply(predict_wait, 'duration'))\n",
    "faithful_pred_split.scatter(0)"
   ]
  },
  {
   "cell_type": "markdown",
   "metadata": {},
   "source": [
    "<!-- BEGIN QUESTION -->\n",
    "\n",
    "**Questão 5.4.** Você acha que as previsões produzidas por `predict_wait` seriam mais ou menos precisas do que as previsões da linha de regressão que você criou na seção 2? Como você poderia dizer?\n"
   ]
  },
  {
   "cell_type": "markdown",
   "metadata": {},
   "source": [
    "_Digite sua resposta aqui, substituindo este texto._"
   ]
  },
  {
   "cell_type": "markdown",
   "metadata": {},
   "source": [
    "<!-- END QUESTION -->\n",
    "\n",
    "A célula a seguir irá plotar os resíduos para cada erupção no conjunto de dados quando temos uma linha de regressão e duas linhas de regressão. Também veremos a magnitude média dos valores residuais."
   ]
  },
  {
   "cell_type": "code",
   "execution_count": null,
   "metadata": {
    "scrolled": true
   },
   "outputs": [],
   "source": [
    "# Apenas execute esta célula.\n",
    "faithful_pred_split_residuals = faithful_pred_split.with_column('residual', faithful_pred_split.column(1) - faithful_pred_split.column(2))\n",
    "plots.scatter(faithful_residuals.column('duration'), faithful_residuals.column('residual'), label='one regression line')\n",
    "plots.scatter(faithful_pred_split_residuals.column('duration'), faithful_pred_split_residuals.column('residual'), label='two regression lines');\n",
    "plots.axis([1, 6, -15, 15])\n",
    "plots.legend(bbox_to_anchor=(1.5,.8));\n",
    "print(\"Average Magnitude of Residual Values for One Regression Line: \", np.mean(abs(faithful_residuals.column('residual'))))\n",
    "print(\"Average Magnitude of Residual Values for Two Regression Lines: \", np.mean(abs(faithful_pred_split_residuals.column('residual'))))"
   ]
  },
  {
   "cell_type": "markdown",
   "metadata": {},
   "source": [
    "O gráfico de resíduos para os tempos de espera quando são previstos por duas linhas de regressão (vermelho) realmente não apresenta um padrão, o que confirma que também foi apropriado usar regressão linear no nosso cenário \"Dividir para Conquistar\". Como os dois gráficos de resíduos se comparam?"
   ]
  },
  {
   "cell_type": "markdown",
   "metadata": {},
   "source": [
    "## 6. Submissão\n",
    "\n",
    "<img src=\"lab09_pets.jpg\" alt=\"desenho\" width=\"500\"/>\n",
    "\n",
    "Parabéns, você concluiu o Laboratório 9!\n",
    "\n",
    "**Passos importantes para a submissão:** \n",
    "1. Execute os testes e verifique se todos passaram.\n",
    "2. Escolha **Salvar Caderno** no menu **Arquivo**, depois **execute a última célula**. \n",
    "3. Clique no link para baixar o arquivo zip.\n",
    "4. Depois, submeta o arquivo zip para a tarefa correspondente de acordo com as instruções do seu instrutor. \n",
    "\n",
    "**É sua responsabilidade garantir que seu trabalho esteja salvo antes de executar a última célula.**"
   ]
  },
  {
   "cell_type": "markdown",
   "metadata": {
    "deletable": false,
    "editable": false
   },
   "source": [
    "## Submissão\n",
    "\n",
    "Certifique-se de ter executado todas as células no seu caderno em ordem antes de executar a célula abaixo, para que todas as imagens/gráficos apareçam na saída. A célula abaixo irá gerar um arquivo zip para você submeter. **Por favor, salve antes de exportar!**"
   ]
  },
  {
   "cell_type": "code",
   "execution_count": null,
   "metadata": {
    "deletable": false,
    "editable": false
   },
   "outputs": [],
   "source": [
    "# Salve seu caderno primeiro, depois execute esta célula para exportar sua submissão.\n",
    "grader.export(pdf=False, run_tests=True)"
   ]
  },
  {
   "cell_type": "markdown",
   "metadata": {},
   "source": [
    " "
   ]
  }
 ],
 "metadata": {
  "kernelspec": {
   "display_name": "Python 3 (ipykernel)",
   "language": "python",
   "name": "python3"
  },
  "language_info": {
   "codemirror_mode": {
    "name": "ipython",
    "version": 3
   },
   "file_extension": ".py",
   "mimetype": "text/x-python",
   "name": "python",
   "nbconvert_exporter": "python",
   "pygments_lexer": "ipython3",
   "version": "3.9.10"
  },
  "otter": {
   "OK_FORMAT": true,
   "tests": {
    "q1_0": {
     "name": "q1_0",
     "points": null,
     "suites": [
      {
       "cases": [
        {
         "code": ">>> len(least_squares_order) == 4\nTrue",
         "hidden": false,
         "locked": false
        },
        {
         "code": ">>> \n>>> import hashlib # This imports a hashing library for the autograder.\n>>> def get_hash(num):\n...     \"\"\"Helper function for assessing correctness.\"\"\"\n...     return hashlib.md5(str(num).encode()).hexdigest()\n>>> \n>>> get_hash(np.array(least_squares_order).astype(int)) # Your ordering is incorrect.\n'cd29f2d730e11535cef30ecc78640daa'",
         "hidden": false,
         "locked": false
        }
       ],
       "scored": true,
       "setup": "",
       "teardown": "",
       "type": "doctest"
      }
     ]
    },
    "q1_3": {
     "name": "q1_3",
     "points": null,
     "suites": [
      {
       "cases": [
        {
         "code": ">>> abs(sum(faithful_standard.column(0))) <= 1e-8\nTrue",
         "hidden": false,
         "locked": false
        },
        {
         "code": ">>> round(duration_std, 2) == 1.14\nTrue",
         "hidden": false,
         "locked": false
        },
        {
         "code": ">>> round(wait_std, 2) == 13.57 \nTrue",
         "hidden": false,
         "locked": false
        }
       ],
       "scored": true,
       "setup": "",
       "teardown": "",
       "type": "doctest"
      }
     ]
    },
    "q1_5": {
     "name": "q1_5",
     "points": null,
     "suites": [
      {
       "cases": [
        {
         "code": ">>> \n>>> import hashlib # This imports a hashing library for the autograder.\n>>> def get_hash(num):\n...     \"\"\"Helper function for assessing correctness.\"\"\"\n...     return hashlib.md5(str(num).encode()).hexdigest()\n>>> \n>>> get_hash(int(correlation)) # Your choice is incorrect.\n'eccbc87e4b5ce2fe28308fd9f2a7baf3'",
         "hidden": false,
         "locked": false
        }
       ],
       "scored": true,
       "setup": "",
       "teardown": "",
       "type": "doctest"
      }
     ]
    },
    "q1_6": {
     "name": "q1_6",
     "points": null,
     "suites": [
      {
       "cases": [
        {
         "code": ">>> -1 <= r <= 1\nTrue",
         "hidden": false,
         "locked": false
        },
        {
         "code": ">>> round(r,3) == 0.901\nTrue",
         "hidden": false,
         "locked": false
        }
       ],
       "scored": true,
       "setup": "",
       "teardown": "",
       "type": "doctest"
      }
     ]
    },
    "q2_1": {
     "name": "q2_1",
     "points": null,
     "suites": [
      {
       "cases": [
        {
         "code": ">>> (slope*13 - 100)/98 <= 0.5\nTrue",
         "hidden": false,
         "locked": false
        },
        {
         "code": ">>> np.round(slope, 4) == 10.7296 # Make sure you are plugging in the SD_x and SD_y in the correct spots!\nTrue",
         "hidden": false,
         "locked": false
        }
       ],
       "scored": true,
       "setup": "",
       "teardown": "",
       "type": "doctest"
      }
     ]
    },
    "q2_2": {
     "name": "q2_2",
     "points": null,
     "suites": [
      {
       "cases": [
        {
         "code": ">>> 33 < intercept < 34\nTrue",
         "hidden": false,
         "locked": false
        },
        {
         "code": ">>> np.round(intercept, 3) == 33.474\nTrue",
         "hidden": false,
         "locked": false
        }
       ],
       "scored": true,
       "setup": "",
       "teardown": "",
       "type": "doctest"
      }
     ]
    },
    "q3_1": {
     "name": "q3_1",
     "points": null,
     "suites": [
      {
       "cases": [
        {
         "code": ">>> round(two_minute_predicted_waiting_time, 3) == 54.934\nTrue",
         "hidden": false,
         "locked": false
        },
        {
         "code": ">>> round(five_minute_predicted_waiting_time, 3) == 87.123\nTrue",
         "hidden": false,
         "locked": false
        }
       ],
       "scored": true,
       "setup": "",
       "teardown": "",
       "type": "doctest"
      }
     ]
    },
    "q3_2": {
     "name": "q3_2",
     "points": null,
     "suites": [
      {
       "cases": [
        {
         "code": ">>> set(faithful_predictions.labels) == set(['duration', 'wait', 'predicted wait']) # Make sure your column labels are correct.\nTrue",
         "hidden": false,
         "locked": false
        },
        {
         "code": ">>> abs(1 - np.mean(faithful_predictions.column(2))/100) <= 0.35\nTrue",
         "hidden": false,
         "locked": false
        }
       ],
       "scored": true,
       "setup": "",
       "teardown": "",
       "type": "doctest"
      }
     ]
    },
    "q3_3": {
     "name": "q3_3",
     "points": null,
     "suites": [
      {
       "cases": [
        {
         "code": ">>> set(faithful_residuals.labels) == set(['duration', 'wait', 'predicted wait', 'residual']) # Make sure your column labels are correct.\nTrue",
         "hidden": false,
         "locked": false
        },
        {
         "code": ">>> abs(sum(faithful_residuals.column('residual'))) <= 1e-8\nTrue",
         "hidden": false,
         "locked": false
        }
       ],
       "scored": true,
       "setup": "",
       "teardown": "",
       "type": "doctest"
      }
     ]
    },
    "q4_1": {
     "name": "q4_1",
     "points": null,
     "suites": [
      {
       "cases": [
        {
         "code": ">>> 12 - zero_minute_predicted_waiting_time*1.4/4 <= 0.35\nTrue",
         "hidden": false,
         "locked": false
        },
        {
         "code": ">>> zero_minute_predicted_waiting_time - intercept <= 1e5\nTrue",
         "hidden": false,
         "locked": false
        },
        {
         "code": ">>> 2 - two_point_five_minute_predicted_waiting_time/35 <= 0.4\nTrue",
         "hidden": false,
         "locked": false
        },
        {
         "code": ">>> (26 - hour_predicted_waiting_time/30)/10 <= 0.43\nTrue",
         "hidden": false,
         "locked": false
        }
       ],
       "scored": true,
       "setup": "",
       "teardown": "",
       "type": "doctest"
      }
     ]
    },
    "q5_1": {
     "name": "q5_1",
     "points": null,
     "suites": [
      {
       "cases": [
        {
         "code": ">>> [below_3.num_rows, above_3.num_rows]\n[97, 175]",
         "hidden": false,
         "locked": false
        },
        {
         "code": ">>> np.allclose([below_3_r, above_3_r], [0.290189526493, 0.372782225571])\nTrue",
         "hidden": false,
         "locked": false
        }
       ],
       "scored": true,
       "setup": "",
       "teardown": "",
       "type": "doctest"
      }
     ]
    },
    "q5_2": {
     "name": "q5_2",
     "points": null,
     "suites": [
      {
       "cases": [
        {
         "code": ">>> np.allclose([wait_below_3(1), wait_below_3(3), wait_above_3(3), wait_above_3(6)], \n...             [47.902151605742517, 60.603197182023813, 72.965413990538366, 89.281859197449506])\nTrue",
         "hidden": false,
         "locked": false
        }
       ],
       "scored": true,
       "setup": "",
       "teardown": "",
       "type": "doctest"
      }
     ]
    },
    "q5_3": {
     "name": "q5_3",
     "points": null,
     "suites": [
      {
       "cases": [
        {
         "code": ">>> np.allclose([predict_wait(x) for x in [1.5, 2.5]], \n...             [51.077412999812836, 57.427935787953487])\nTrue",
         "hidden": false,
         "locked": false
        },
        {
         "code": ">>> np.allclose([predict_wait(x) for x in [3.5, 4.5]], \n...             [75.684821525023551, 81.123636593993922])\nTrue",
         "hidden": false,
         "locked": false
        }
       ],
       "scored": true,
       "setup": "",
       "teardown": "",
       "type": "doctest"
      }
     ]
    }
   }
  }
 },
 "nbformat": 4,
 "nbformat_minor": 5
}
