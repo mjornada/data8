{
 "cells": [
  {
   "cell_type": "code",
   "execution_count": null,
   "metadata": {
    "deletable": false,
    "editable": false
   },
   "outputs": [],
   "source": [
    "# Inicialize o otter\n",
    "import otter\n",
    "grader = otter.Notebook(\"lab01.ipynb\")"
   ]
  },
  {
   "cell_type": "markdown",
   "metadata": {
    "deletable": false,
    "jp-MarkdownHeadingCollapsed": true,
    "tags": []
   },
   "source": [
    "# Laboratório 1: Expressões\n",
    "\n",
    "Bem-vindo ao Data 8: *Fundamentos da Ciência de Dados*! Você não pode aprender assuntos técnicos sem prática prática, então os laboratórios são uma parte importante do curso.\n",
    "\n",
    "Colaborar nos laboratórios não é apenas aceitável - é encorajado! Você raramente deve ficar preso por mais do que alguns minutos em perguntas nos laboratórios, então peça ajuda a um instrutor ou colega. (Explicar as coisas também é benéfico - a melhor maneira de solidificar seu conhecimento sobre um assunto é explicá-lo.) Por favor, não apenas compartilhe respostas, porém.\n",
    "\n",
    "\n",
    "#### Laboratório de hoje\n",
    "\n",
    "No laboratório de hoje, você aprenderá como:\n",
    "\n",
    "1. navegar pelos notebooks Jupyter (como este);\n",
    "2. escrever e avaliar algumas *expressões* básicas em Python, a linguagem de computador do curso;\n",
    "3. chamar *funções* para usar código escrito por outras pessoas; e\n",
    "4. decompor o código Python em partes menores para entendê-lo.\n",
    "\n",
    "Este laboratório cobre partes do [Capítulo 3](http://www.inferentialthinking.com/chapters/03/programming-in-python.html) do livro online. Você deve ler os exemplos no livro, mas não agora. Em vez disso, vamos começar!"
   ]
  },
  {
   "cell_type": "markdown",
   "metadata": {},
   "source": [
    "# 1. Notebooks Jupyter\n",
    "Esta página da web é chamada de Jupyter Notebook. Um notebook é um lugar para escrever programas e visualizar seus resultados, e também para escrever texto.\n",
    "\n",
    "## 1.1. Células de texto\n",
    "Em um notebook, cada retângulo contendo texto ou código é chamado de *célula*.\n",
    "\n",
    "Células de texto (como esta) podem ser editadas clicando duas vezes nelas. Elas são escritas em um formato simples chamado [Markdown](http://daringfireball.net/projects/markdown/syntax) para adicionar formatação e cabeçalhos de seção. Você não precisa aprender Markdown, mas pode querer.\n",
    "\n",
    "Depois de editar uma célula de texto, clique no botão \"executar célula\" no topo que se parece com ▶| ou segure `shift` + `enter` para confirmar quaisquer alterações. (Tente não excluir as instruções do laboratório.)"
   ]
  },
  {
   "cell_type": "markdown",
   "metadata": {
    "deletable": false
   },
   "source": [
    "**Pergunta 1.1.1.** Este parágrafo está em sua própria célula de texto. Tente editá-lo para que esta frase seja a última frase do parágrafo, e então clique no botão \"executar célula\" ▶| ou segure `shift` + `enter`. Esta frase, por exemplo, deve ser excluída. Assim como esta."
   ]
  },
  {
   "cell_type": "markdown",
   "metadata": {},
   "source": [
    "## 1.2. Células de código\n",
    "Outras células contêm código na linguagem Python 3. Executar uma célula de código executará todo o código que ela contém.\n",
    "\n",
    "Para executar o código em uma célula de código, primeiro clique nela para ativá-la. Ela será destacada com um pequeno retângulo verde ou azul. Em seguida, pressione ▶| ou segure `shift` + `enter`.\n",
    "\n",
    "Tente executar esta célula:"
   ]
  },
  {
   "cell_type": "code",
   "execution_count": null,
   "metadata": {},
   "outputs": [],
   "source": [
    "print(\"Hello, World!\")"
   ]
  },
  {
   "cell_type": "markdown",
   "metadata": {},
   "source": [
    "E esta:"
   ]
  },
  {
   "cell_type": "code",
   "execution_count": null,
   "metadata": {},
   "outputs": [],
   "source": [
    "print(\"\\N{WAVING HAND SIGN}, \\N{EARTH GLOBE ASIA-AUSTRALIA}!\")"
   ]
  },
  {
   "cell_type": "markdown",
   "metadata": {},
   "source": [
    "O bloco fundamental de construção do código Python é uma expressão. As células podem conter várias linhas com múltiplas expressões. Quando você executa uma célula, as linhas de código são executadas na ordem em que aparecem. Cada expressão `print` imprime uma linha. Execute a próxima célula e observe a ordem da saída."
   ]
  },
  {
   "cell_type": "code",
   "execution_count": null,
   "metadata": {
    "deletable": false
   },
   "outputs": [],
   "source": [
    "print(\"First this line is printed,\")\n",
    "print(\"and then this one.\")"
   ]
  },
  {
   "cell_type": "markdown",
   "metadata": {},
   "source": [
    "**Pergunta 1.2.1.** Altere a célula acima para que ela imprima:\n",
    "\n",
    "    Primeiro esta linha,\n",
    "    depois o mundo inteiro 🌏,\n",
    "    e então esta.\n",
    "\n",
    "*Dica:* Se você estiver preso no símbolo da Terra por mais do que alguns minutos, tente conversar com um colega ou um membro da equipe. Essa é uma boa ideia para qualquer problema de laboratório."
   ]
  },
  {
   "cell_type": "markdown",
   "metadata": {},
   "source": [
    "## 1.3. Escrevendo notebooks Jupyter\n",
    "Você pode usar notebooks Jupyter para seus próprios projetos ou documentos. Ao criar seu próprio notebook, você precisará criar suas próprias células para texto e código.\n",
    "\n",
    "Para adicionar uma célula, clique no botão + na barra de menu. Ela começará como uma célula de texto. Você pode alterá-la para uma célula de código clicando dentro dela para que seja destacada, clicando na caixa suspensa ao lado do botão de reinicialização (⟳) na barra de menu e escolhendo \"Código\".\n",
    "\n",
    "**Pergunta 1.3.1.** Adicione uma célula de código abaixo desta. Escreva código nela que imprima:\n",
    "\n",
    "    Uma célula totalmente nova! ♪🌏♪\n",
    "\n",
    "(Aquele símbolo musical é como o símbolo do mundo. Seu nome longo é `\\N{EIGHTH NOTE}`.)\n",
    "\n",
    "Execute sua célula para verificar se funciona."
   ]
  },
  {
   "cell_type": "markdown",
   "metadata": {},
   "source": [
    "## 1.4. Erros\n",
    "Python é uma linguagem, e como as linguagens naturais humanas, ela possui regras. Difere da linguagem natural em dois aspectos importantes:\n",
    "1. As regras são *simples*. Você pode aprender a maioria delas em algumas semanas e ganhar proficiência razoável com a linguagem em um semestre.\n",
    "2. As regras são *rígidas*. Se você é proficiente em uma linguagem natural, pode entender um falante não proficiente, ignorando pequenos erros. Um computador executando código Python não é inteligente o suficiente para fazer isso.\n",
    "\n",
    "Sempre que você escreve código, cometerá erros. Quando você executa uma célula de código que contém erros, o Python às vezes produz mensagens de erro para informar o que você fez de errado.\n",
    "\n",
    "Erros estão tudo bem; até mesmo programadores experientes cometem muitos erros. Quando você comete um erro, só precisa encontrar a origem do problema, corrigi-lo e seguir em frente.\n",
    "\n",
    "Desenvolvemos um software de feedback de erro personalizado para ajudá-lo a entender melhor as mensagens de erro. Execute a próxima célula para importar o pacote; nada deve ser exibido."
   ]
  },
  {
   "cell_type": "code",
   "execution_count": null,
   "metadata": {},
   "outputs": [],
   "source": [
    "import d8error"
   ]
  },
  {
   "cell_type": "markdown",
   "metadata": {},
   "source": [
    "Temos um erro na próxima célula. Execute-a e veja o que acontece."
   ]
  },
  {
   "cell_type": "code",
   "execution_count": null,
   "metadata": {
    "deletable": false,
    "tags": [
     "raises-exception"
    ]
   },
   "outputs": [],
   "source": [
    "print(\"This line is missing something.\""
   ]
  },
  {
   "cell_type": "markdown",
   "metadata": {},
   "source": [
    "**Nota:** Na barra de ferramentas, há a opção de clicar em `Célula > Executar tudo`, que executará todas as células de código neste notebook em ordem. No entanto, o notebook para de executar células de código se encontrar um erro, como o da célula acima."
   ]
  },
  {
   "cell_type": "markdown",
   "metadata": {},
   "source": [
    "Você deve ver algo parecido com isto (sem nossas anotações):\n",
    "\n",
    "<img src=\"error.jpg\"/>\n",
    "\n",
    "A última linha da saída de erro tenta lhe dizer o que deu errado. A *sintaxe* de uma linguagem é sua estrutura, e este `SyntaxError` diz que você criou uma estrutura ilegal. \"`EOF`\" significa \"fim do arquivo\", então a mensagem está dizendo que o Python esperava que você escrevesse algo mais (neste caso, um parêntese direito) antes de terminar a célula.\n",
    "\n",
    "Há muitos termos na linguagem de programação, mas você não precisa saber todos eles para programar de forma eficaz. Se você ver uma mensagem críptica como esta, muitas vezes pode seguir em frente sem decifrá-la. (Claro, se estiver frustrado, peça ajuda a um colega ou a um membro da equipe.) No entanto, nosso pacote de erros D8 ajuda a explicar quaisquer erros e exceções do Python e suas causas comuns, bem como recursos para consultar para obter ajuda adicional. No exemplo acima, vemos que uma fonte de um `SyntaxError` tem a ver com parênteses.\n",
    "\n",
    "Tente corrigir o código acima para que você possa executar a célula e ver a mensagem pretendida em vez de um erro."
   ]
  },
  {
   "cell_type": "markdown",
   "metadata": {},
   "source": [
    "## 1.5. O Kernel\n",
    "O kernel é um programa que executa o código dentro do seu notebook e produz os resultados. No canto superior direito da sua janela, você pode ver um círculo que indica o status do seu kernel. Se o círculo estiver vazio (⚪), o kernel está ocioso e pronto para executar código. Se o círculo estiver preenchido (⚫), o kernel está ocupado executando algum código.\n",
    "\n",
    "Ao lado de cada célula de código, você verá um texto que diz `[ ]`. Antes de executar a célula, você verá `[ ]`. Quando a célula está sendo executada, você verá `[*]`. Se você ver um asterisco (\\*) ao lado de uma célula que não desaparece, é provável que o código dentro da célula esteja demorando muito para ser executado e pode ser um bom momento para interromper o kernel (discutido abaixo). Quando uma célula termina de ser executada, você verá um número dentro dos colchetes, assim: `[1]`. O número corresponde à ordem em que você executou as células; portanto, a primeira célula que você executar mostrará um 1 quando terminar de ser executada, a segunda mostrará um 2 e assim por diante.\n",
    "\n",
    "Você pode encontrar problemas em que seu kernel fica preso por um tempo excessivo, seu notebook fica muito lento e sem resposta ou seu kernel perde a conexão. Se isso acontecer, tente os seguintes passos:\n",
    "1. No topo da sua tela, clique em **Kernel**, depois em **Interromper**.\n",
    "2. Se isso não ajudar, clique em **Kernel**, depois em **Reiniciar**. Se você fizer isso, precisará executar as células de código novamente desde o início do seu notebook até onde você pausou seu trabalho.\n",
    "3. Se isso não ajudar, reinicie seu servidor. Primeiro, salve seu trabalho clicando em **Arquivo** no canto superior esquerdo da sua tela e depois em **Salvar e Registrar Pontos de Controle**. Em seguida, clique em **Painel de Controle** no canto superior direito. Escolha **Parar Meu Servidor** para desligá-lo e depois **Iniciar Meu Servidor** para ligá-lo novamente. Em seguida, volte para o notebook em que estava trabalhando. Você ainda terá que executar suas células de código novamente."
   ]
  },
  {
   "cell_type": "markdown",
   "metadata": {},
   "source": [
    "## 1.6. Enviando Seu Trabalho\n",
    "Todas as tarefas do curso serão distribuídas como notebooks como este, e você enviará seu trabalho a partir do notebook. Usaremos um sistema chamado Otter Grader para verificar seu trabalho e ajudá-lo a enviar. Se você ainda não o fez, certifique-se de executar a célula no topo deste notebook para inicializar o OtterGrader."
   ]
  },
  {
   "cell_type": "markdown",
   "metadata": {},
   "source": [
    "# 2. Números\n",
    "\n",
    "Informações quantitativas surgem em todos os lugares na ciência de dados. Além de representar comandos para imprimir linhas, as expressões podem representar números e métodos de combinar números. A expressão `3.2500` avalia para o número 3.25. (Execute a célula e veja.)"
   ]
  },
  {
   "cell_type": "code",
   "execution_count": null,
   "metadata": {},
   "outputs": [],
   "source": [
    "3.2500"
   ]
  },
  {
   "cell_type": "markdown",
   "metadata": {},
   "source": [
    "Observe que não precisamos usar `print`. Quando você executa uma célula do notebook, se a última linha tiver um valor, o Jupyter imprime esse valor para você automaticamente. No entanto, ele não imprimirá automaticamente linhas anteriores."
   ]
  },
  {
   "cell_type": "code",
   "execution_count": null,
   "metadata": {
    "tags": []
   },
   "outputs": [],
   "source": [
    "print(2)\n",
    "3\n",
    "4"
   ]
  },
  {
   "cell_type": "markdown",
   "metadata": {},
   "source": [
    "Acima, você deve ver que 4 é o valor da última expressão, 2 é impresso, mas 3 está perdido para sempre porque não foi impresso nem foi a última.\n",
    "\n",
    "Você não quer imprimir tudo o tempo todo de qualquer maneira. Mas se você sentir pena do 3, mude a célula acima para imprimi-lo."
   ]
  },
  {
   "cell_type": "markdown",
   "metadata": {},
   "source": [
    "## 2.1. Aritmética\n",
    "A linha na próxima célula subtrai. Seu valor é o que você esperaria. Execute-a."
   ]
  },
  {
   "cell_type": "code",
   "execution_count": null,
   "metadata": {},
   "outputs": [],
   "source": [
    "3.25 - 1.5"
   ]
  },
  {
   "cell_type": "markdown",
   "metadata": {},
   "source": [
    "Muitas operações aritméticas básicas estão incorporadas no Python. A seção do livro-texto sobre [Expressões](http://www.inferentialthinking.com/chapters/03/1/Expressions.html) descreve todos os operadores aritméticos usados no curso. O operador comum que difere da notação matemática típica é `**`, que eleva um número à potência do outro. Portanto, `2**3` representa $2^3$ e avalia para 8.\n",
    "\n",
    "A ordem das operações é a mesma que você aprendeu na escola primária, e o Python também tem parênteses. Por exemplo, compare as saídas das células abaixo. A segunda célula usa parênteses para um feliz ano novo!"
   ]
  },
  {
   "cell_type": "code",
   "execution_count": null,
   "metadata": {},
   "outputs": [],
   "source": [
    "6+6*5-6*3**2*2**3/4*7"
   ]
  },
  {
   "cell_type": "code",
   "execution_count": null,
   "metadata": {},
   "outputs": [],
   "source": [
    "6+(6*5-(6*3))**2*((2**3)/4*7)"
   ]
  },
  {
   "cell_type": "markdown",
   "metadata": {},
   "source": [
    "Na notação matemática padrão, a primeira expressão é\n",
    "\n",
    "$$6 + 6 \\times 5 - 6 \\times 3^2 \\times \\frac{2^3}{4} \\times 7,$$\n",
    "\n",
    "enquanto a segunda expressão é\n",
    "\n",
    "$$6 + (6 \\times 5 - (6 \\times 3))^2 \\times \\left(\\frac{\\left(2^3\\right)}{4} \\times 7\\right).$$\n",
    "\n",
    "**Pergunta 2.1.1.** Escreva uma expressão Python na próxima célula que seja igual a $\\displaystyle 5 \\times \\left(3 \\frac{10}{11}\\right) - 50 \\frac{1}{3} + 2^{.5 \\times 22} - \\frac{7}{33} + 5$. Isso é cinco vezes três e dez onze avos, menos cinquenta e um terço, mais dois elevado à potência de meio vezes vinte e dois, menos sete trinta terços mais cinco. Por \"$\\displaystyle 3 \\frac{10}{11}$\" queremos dizer $\\displaystyle 3+\\frac{10}{11}$, não $\\displaystyle 3 \\times \\frac{10}{11}$.\n",
    "\n",
    "Substitua os reticências (`...`) pela sua expressão. Tente usar parênteses apenas quando necessário.\n",
    "\n",
    "*Dica:* A saída correta deve começar com um número familiar."
   ]
  },
  {
   "cell_type": "code",
   "execution_count": null,
   "metadata": {
    "deletable": false,
    "tags": []
   },
   "outputs": [],
   "source": [
    "..."
   ]
  },
  {
   "cell_type": "markdown",
   "metadata": {},
   "source": [
    "# 3. Nomes\n",
    "Na linguagem natural, temos terminologia que nos permite fazer referência rapidamente a conceitos muito complicados. Não dizemos: \"Isso é um mamífero grande com pelos marrons e dentes afiados!\" Em vez disso, apenas dizemos: \"Urso!\"\n",
    "\n",
    "No Python, fazemos isso com *declarações de atribuição*. Uma declaração de atribuição tem um nome no lado esquerdo de um sinal de `=` e uma expressão a ser avaliada no lado direito."
   ]
  },
  {
   "cell_type": "code",
   "execution_count": null,
   "metadata": {},
   "outputs": [],
   "source": [
    "ten = 3 * 2 + 4"
   ]
  },
  {
   "cell_type": "markdown",
   "metadata": {},
   "source": [
    "Quando você executa essa célula, o Python primeiro calcula o valor da expressão no lado direito, `3 * 2 + 4`, que é o número 10. Em seguida, ele atribui esse valor ao nome `ten`. Nesse ponto, o código na célula termina de ser executado.\n",
    "\n",
    "Após você executar essa célula, o valor 10 está associado ao nome `ten`:"
   ]
  },
  {
   "cell_type": "code",
   "execution_count": null,
   "metadata": {},
   "outputs": [],
   "source": [
    "ten"
   ]
  },
  {
   "cell_type": "markdown",
   "metadata": {},
   "source": [
    "A declaração `ten = 3 * 2 + 4` não está afirmando que `ten` já é igual a `3 * 2 + 4`, como poderíamos esperar por analogia com a notação matemática. Em vez disso, essa linha de código altera o que `ten` significa; agora ela se refere ao valor 10, enquanto antes não significava nada.\n",
    "\n",
    "Se os designers do Python fossem rigorosamente pedantes, eles poderiam nos fazer escrever\n",
    "\n",
    "    definir o nome ten para doravante ter o valor de 3 * 2 + 4 \n",
    "\n",
    "em vez disso. Você provavelmente apreciará a brevidade de \"`=`\"! Mas tenha em mente que este é o verdadeiro significado.\n",
    "\n",
    "**Pergunta 3.1.** Execute a próxima célula que usa um nome de variável `eleven` que ainda não foi atribuído a nada. Você verá um erro!"
   ]
  },
  {
   "cell_type": "code",
   "execution_count": null,
   "metadata": {
    "tags": [
     "raises-exception"
    ]
   },
   "outputs": [],
   "source": [
    "eleven + 8"
   ]
  },
  {
   "cell_type": "markdown",
   "metadata": {},
   "source": [
    "Um padrão comum em notebooks Jupyter é atribuir um valor a um nome e depois imediatamente avaliar o nome na última linha da célula para que o valor seja exibido como saída."
   ]
  },
  {
   "cell_type": "code",
   "execution_count": null,
   "metadata": {},
   "outputs": [],
   "source": [
    "close_to_pi = 355/113\n",
    "close_to_pi"
   ]
  },
  {
   "cell_type": "markdown",
   "metadata": {},
   "source": [
    "Outro padrão comum é que uma série de linhas em uma única célula construirá uma computação complexa em etapas, nomeando os resultados intermediários."
   ]
  },
  {
   "cell_type": "code",
   "execution_count": null,
   "metadata": {},
   "outputs": [],
   "source": [
    "semimonthly_salary = 842.5\n",
    "monthly_salary = 2 * semimonthly_salary\n",
    "number_of_months_in_a_year = 12\n",
    "yearly_salary = number_of_months_in_a_year * monthly_salary\n",
    "yearly_salary"
   ]
  },
  {
   "cell_type": "markdown",
   "metadata": {},
   "source": [
    "Nomes em Python podem ter letras (letras maiúsculas e minúsculas são ambas aceitáveis e contam como letras diferentes), sublinhados e números. O primeiro caractere não pode ser um número (caso contrário, um nome pode parecer um número). E os nomes não podem conter espaços, pois os espaços são usados para separar partes do código umas das outras.\n",
    "\n",
    "Além dessas regras, o que você nomeia não importa *para o Python*. Por exemplo, esta célula faz a mesma coisa que a célula acima, exceto que tudo tem um nome diferente:"
   ]
  },
  {
   "cell_type": "code",
   "execution_count": null,
   "metadata": {},
   "outputs": [],
   "source": [
    "a = 842.5\n",
    "b = 2 * a\n",
    "c = 12\n",
    "d = c * b\n",
    "d"
   ]
  },
  {
   "cell_type": "markdown",
   "metadata": {},
   "source": [
    "**No entanto**, os nomes são muito importantes para tornar seu código *legível* para você e para os outros. A célula acima é mais curta, mas é totalmente inútil sem uma explicação do que faz."
   ]
  },
  {
   "cell_type": "markdown",
   "metadata": {},
   "source": [
    "## 3.1. Verificando Seu Código\n",
    "Agora que você sabe como nomear as coisas, pode começar a usar os *testes* integrados para verificar se seu trabalho está correto. Às vezes, há vários testes para uma única pergunta, e passar por todos eles é necessário para receber crédito pela pergunta. Por favor, não altere o conteúdo das células de teste.\n",
    "\n",
    "Vá em frente e tente a Questão 3.1.2. Executar a célula diretamente após ela testará se você atribuiu `seconds_in_a_decade` corretamente na Questão 3.1.2. Se você não o fez, este teste informará a resposta correta. Resista à tentação de apenas copiá-la e, em vez disso, tente ajustar sua expressão. (Às vezes, os testes darão dicas sobre o que deu errado...)"
   ]
  },
  {
   "cell_type": "markdown",
   "metadata": {},
   "source": [
    "**Questão 3.1.2.** Atribua o nome `seconds_in_a_decade` ao número de segundos entre meia-noite de 1º de janeiro de 2010 e meia-noite de 1º de janeiro de 2020. Observe que há dois anos bissextos neste período de uma década. Um ano não bissexto tem 365 dias e um ano bissexto tem 366 dias.\n",
    "\n",
    "*Dica:* Se você estiver preso, a próxima seção mostra como obter dicas."
   ]
  },
  {
   "cell_type": "code",
   "execution_count": null,
   "metadata": {
    "deletable": false,
    "tags": []
   },
   "outputs": [],
   "source": [
    "# Mude a próxima linha\n",
    "# para que ela calcule o número de segundos em uma década\n",
    "# e atribua esse número ao nome, seconds_in_a_decade.\n",
    "\n",
    "seconds_in_a_decade = ...\n",
    "\n",
    "# Colocamos esta linha nesta célula\n",
    "# para que imprima o valor que você atribuiu a seconds_in_a_decade quando você a executar.\n",
    "# Você não precisa mudar isso.\n",
    "seconds_in_a_decade"
   ]
  },
  {
   "cell_type": "code",
   "execution_count": null,
   "metadata": {
    "deletable": false,
    "editable": false
   },
   "outputs": [],
   "source": [
    "grader.check(\"q3_1_2\")"
   ]
  },
  {
   "cell_type": "markdown",
   "metadata": {},
   "source": [
    "# 3.2. Comentários\n",
    "Você pode ter notado estas linhas na célula na qual você respondeu à Questão 3.2:\n",
    "\n",
    "    # Mude a próxima linha \n",
    "    # para que ela calcule o número de segundos em uma década \n",
    "    # e atribua esse número ao nome, seconds_in_a_decade.\n",
    "    \n",
    "Isso é chamado de *comentário*. Ele não faz nada acontecer no Python; o Python ignora qualquer coisa em uma linha após um `#`. Em vez disso, está lá para comunicar algo sobre o código para você, o leitor humano. Comentários são extremamente úteis. \n",
    "\n",
    "<img src=\"http://imgs.xkcd.com/comics/future_self.png\">\n",
    "Fonte: http://imgs.xkcd.com/comics/future_self.png"
   ]
  },
  {
   "cell_type": "markdown",
   "metadata": {},
   "source": [
    "## 3.3. Aplicação: Um Experimento de Física\n",
    "\n",
    "Na missão Apollo 15 à Lua, o astronauta David Scott reproduziu famosamente o experimento de física de Galileu, no qual ele mostrou que a gravidade acelera objetos de massas diferentes à mesma taxa. Por não haver resistência do ar para um objeto em queda na superfície da Lua, mesmo dois objetos com massas e densidades muito diferentes devem cair à mesma taxa. David Scott comparou uma pena e um martelo.\n",
    "\n",
    "Você pode executar a célula a seguir para assistir a um vídeo do experimento."
   ]
  },
  {
   "cell_type": "code",
   "execution_count": null,
   "metadata": {},
   "outputs": [],
   "source": [
    "from IPython.display import YouTubeVideo\n",
    "# The original URL is: \n",
    "# https://www.youtube.com/watch?v=U7db6ZeLR5s\n",
    "\n",
    "YouTubeVideo(\"U7db6ZeLR5s\")"
   ]
  },
  {
   "cell_type": "markdown",
   "metadata": {},
   "source": [
    "Aqui está a transcrição do vídeo:\n",
    "\n",
    "**167:22:06 Scott**: Bem, em minha mão esquerda, tenho uma pena; em minha mão direita, um martelo. E acho que uma das razões pelas quais chegamos aqui hoje foi por causa de um cavalheiro chamado Galileu, há muito tempo, que fez uma descoberta bastante significativa sobre objetos em queda em campos gravitacionais. E pensamos onde seria um lugar melhor para confirmar suas descobertas do que na Lua. Então, pensamos em tentar aqui para vocês. A pena acontece de ser, apropriadamente, uma pena de falcão para nosso Falcon. E vou soltar os dois aqui e, esperançosamente, eles atingirão o chão ao mesmo tempo.\n",
    "\n",
    "**167:22:43 Scott**: Que tal isso!\n",
    "\n",
    "**167:22:45 Allen**: Que tal isso! (Aplausos em Houston)\n",
    "\n",
    "**167:22:46 Scott**: O que prova que o Sr. Galileu estava correto em suas descobertas."
   ]
  },
  {
   "cell_type": "markdown",
   "metadata": {},
   "source": [
    "**Lei de Newton.** Usando essa filmagem, também podemos tentar confirmar outro famoso conceito da física: a lei da gravitação universal de Newton. As leis de Newton preveem que qualquer objeto solto perto da superfície da Lua deve cair\n",
    "\n",
    "$$\\frac{1}{2} G \\frac{M}{R^2} t^2 \\text{ metros}$$\n",
    "\n",
    "após $t$ segundos, onde $G$ é uma constante universal, $M$ é a massa da Lua em quilogramas, e $R$ é o raio da Lua em metros. Portanto, se conhecemos $G$, $M$ e $R$, então as leis de Newton nos permitem prever até que ponto um objeto cairá ao longo de qualquer período de tempo.\n",
    "\n",
    "Para verificar a precisão dessa lei, calcularemos a diferença entre a distância prevista que o martelo cai e a distância real. (Se forem diferentes, pode ser porque as leis de Newton estão erradas, ou porque nossas medidas são imprecisas, ou porque há outros fatores afetando o martelo para os quais não contabilizamos.)\n",
    "\n",
    "Alguém estudou o vídeo e estimou que o martelo foi solto a 113 cm da superfície. Contando os quadros no vídeo, o martelo cai por 1,2 segundos (36 quadros)."
   ]
  },
  {
   "cell_type": "markdown",
   "metadata": {},
   "source": [
    "**Questão 3.3.1.** Complete o código na próxima célula para preencher os dados do experimento.\n",
    "\n",
    "*Dica:* Nenhuma computação necessária; apenas preencha os dados do parágrafo acima."
   ]
  },
  {
   "cell_type": "code",
   "execution_count": null,
   "metadata": {
    "deletable": false,
    "tags": []
   },
   "outputs": [],
   "source": [
    "# t, a duração da queda no experimento, em segundos.\n",
    "# Preencha isso.\n",
    "time = ...\n",
    "\n",
    "# A distância estimada que o martelo realmente caiu, em metros.\n",
    "# Preencha isso.\n",
    "estimated_distance_m = ..."
   ]
  },
  {
   "cell_type": "code",
   "execution_count": null,
   "metadata": {
    "deletable": false,
    "editable": false
   },
   "outputs": [],
   "source": [
    "grader.check(\"q3_3_1\")"
   ]
  },
  {
   "cell_type": "markdown",
   "metadata": {},
   "source": [
    "**Questão 3.3.2.** Agora, complete o código na próxima célula para calcular a diferença entre as distâncias prevista e estimada (em metros) que o martelo caiu neste experimento.\n",
    "\n",
    "Isso significa apenas traduzir a fórmula acima ($\\frac{1}{2}G\\frac{M}{R^2}t^2$) em código Python. Você terá que substituir cada variável na fórmula matemática pelo nome que atribuímos a esse número no código Python.\n",
    "\n",
    "*Dica:* Tente usar variáveis que você já definiu na questão 3.3.1."
   ]
  },
  {
   "cell_type": "code",
   "execution_count": null,
   "metadata": {
    "deletable": false,
    "tags": []
   },
   "outputs": [],
   "source": [
    "# Primeiro, escrevemos os valores das 3 constantes universais que aparecem na fórmula de Newton.\n",
    "\n",
    "# G, a constante universal que mede a força da gravidade.\n",
    "gravity_constant = 6.674 * 10**-11\n",
    "\n",
    "# M, a massa da lua, em quilogramas.\n",
    "moon_mass_kg = 7.34767309 * 10**22\n",
    "\n",
    "# R, o raio da lua, em metros.\n",
    "moon_radius_m = 1.737 * 10**6\n",
    "\n",
    "# A distância que o martelo deveria ter caído durante a duração da queda, em metros, de acordo com a lei da gravidade de Newton. \n",
    "# O texto acima descreve a fórmula para esta distância dada pela lei de Newton.\n",
    "# **VOCÊ PREENCHE ESTA PARTE.**\n",
    "predicted_distance_m = ...\n",
    "\n",
    "# Aqui calculamos a diferença entre a distância prevista da queda e a distância que realmente medimos.\n",
    "# Se você preencheu o código acima, isso deveria funcionar corretamente.\n",
    "difference = predicted_distance_m - estimated_distance_m\n",
    "difference"
   ]
  },
  {
   "cell_type": "code",
   "execution_count": null,
   "metadata": {
    "deletable": false,
    "editable": false
   },
   "outputs": [],
   "source": [
    "grader.check(\"q3_3_2\")"
   ]
  },
  {
   "cell_type": "markdown",
   "metadata": {},
   "source": [
    "## 4. Chamando Funções\n",
    "\n",
    "A maneira mais comum de combinar ou manipular valores em Python é chamando funções. Python vem com muitas funções embutidas que realizam operações comuns.\n",
    "\n",
    "Por exemplo, a função `abs` recebe um único número como argumento e retorna o valor absoluto desse número. Execute as duas células a seguir e veja se você entende a saída."
   ]
  },
  {
   "cell_type": "code",
   "execution_count": null,
   "metadata": {},
   "outputs": [],
   "source": [
    "abs(5)"
   ]
  },
  {
   "cell_type": "code",
   "execution_count": null,
   "metadata": {},
   "outputs": [],
   "source": [
    "abs(-5)"
   ]
  },
  {
   "cell_type": "markdown",
   "metadata": {},
   "source": [
    "## 4.1. Aplicação: Calculando Distâncias a Pé\n",
    "Chunhua está na esquina da 7ª Avenida com a Rua 42, em Midtown Manhattan, e ela quer saber o quanto ela teria que andar para chegar à Escola Gramercy na esquina da 10ª Avenida com a Rua 34.\n",
    "\n",
    "Ela não pode atravessar quarteirões diagonalmente, pois há prédios no caminho. Ela tem que andar ao longo das calçadas. Usando o mapa abaixo, ela vê que teria que andar 3 avenidas (quarteirões longos) e 8 ruas (quarteirões curtos). Em termos dos números dados, ela calculou 3 como a diferença entre 7 e 10, *em valor absoluto*, e 8 da mesma forma.\n",
    "\n",
    "Chunhua também sabe que os quarteirões em Manhattan têm aproximadamente 80m por 274m (as avenidas estão mais distantes do que as ruas). Então, no total, ela teria que andar $(80 \\times |42 - 34| + 274 \\times |7 - 10|)$ metros para chegar à escola.\n",
    "\n",
    "<img src=\"map.jpg\"/>\n",
    "\n",
    "**Questão 4.1.1.** Preencha a linha `num_avenues_away = ...` na próxima célula para que a célula calcule a distância que Chunhua deve percorrer e dê a ela o nome `manhattan_distance`. Tudo o mais já foi preenchido para você. **Use a função `abs`**. Além disso, certifique-se de executar a célula de teste depois de testar seu código."
   ]
  },
  {
   "cell_type": "code",
   "execution_count": null,
   "metadata": {
    "deletable": false,
    "tags": []
   },
   "outputs": [],
   "source": [
    "# Aqui está o número de quarteirões de distância:\n",
    "num_streets_away = abs(42-34)\n",
    "\n",
    "# Calcule o número de avenidas de distância de maneira semelhante:\n",
    "num_avenues_away = ...\n",
    "\n",
    "street_length_m = 80\n",
    "avenue_length_m = 274\n",
    "\n",
    "# Agora calculamos a distância total que Chunhua deve percorrer.\n",
    "manhattan_distance = street_length_m*num_streets_away + avenue_length_m*num_avenues_away\n",
    "\n",
    "# Incluímos esta linha para que você veja a distância que calculou\n",
    "# quando executar esta célula.\n",
    "# Você não precisa alterá-lo, mas pode se quiser.\n",
    "manhattan_distance"
   ]
  },
  {
   "cell_type": "code",
   "execution_count": null,
   "metadata": {
    "deletable": false,
    "editable": false
   },
   "outputs": [],
   "source": [
    "grader.check(\"q4_1_1\")"
   ]
  },
  {
   "cell_type": "markdown",
   "metadata": {},
   "source": [
    "##### Múltiplos argumentos\n",
    "Algumas funções recebem múltiplos argumentos, separados por vírgulas. Por exemplo, a função embutida `max` retorna o argumento máximo passado para ela."
   ]
  },
  {
   "cell_type": "code",
   "execution_count": null,
   "metadata": {},
   "outputs": [],
   "source": [
    "max(2, -3, 4, -5)"
   ]
  },
  {
   "cell_type": "markdown",
   "metadata": {},
   "source": [
    "# 5. Compreendendo Expressões Aninhadas\n",
    "Chamadas de função e expressões aritméticas podem conter expressões por si só. Você viu um exemplo na última pergunta:\n",
    "\n",
    "    abs(42-34)\n",
    "\n",
    "tem 2 expressões numéricas em uma expressão de subtração em uma chamada de função. E você provavelmente escreveu algo como `abs(7-10)` para calcular `num_avenues_away`.\n",
    "\n",
    "Expressões aninhadas podem se tornar código com aparência complicada. No entanto, a maneira como as expressões complicadas se desdobram é muito regular.\n",
    "\n",
    "Suponha que estamos interessados nos comprimentos de gatos que são muito incomuns. Diremos que um comprimento é incomum na medida em que está longe na reta numérica do comprimento médio do gato. [Uma estimativa](http://press.endocrine.org/doi/full/10.1210/jcem.86.9.7875?ck=nck&) do comprimento médio do gato (esperamos, considerando todos os gatos na Terra hoje) é de 18,2 polegadas.\n",
    "\n",
    "Portanto, se Ravioli tem 21,7 polegadas de comprimento, então seu comprimento é $|21,7 - 18,2|$, ou $3,5$, polegadas longe da média. Aqui está uma imagem disso:\n",
    "\n",
    "<img src=\"cat_lengths.png\">\n",
    "\n",
    "E aqui está como escreveríamos isso em uma linha de código Python:\n",
    "\n",
    "**Detalhes do Conjunto de Dados:**\n",
    "- Origem: A fonte para o comprimento médio do gato é a [Wikipedia](https://en.wikipedia.org/wiki/Cat#:~:text=The%20domestic%20cat%20has%20a,(9%20and%2011%20lb).). Os comprimentos listados para os gatos não são reais e podem não ser plausíveis (mas os nomes são de gatos reais!)\n",
    "- Contexto Extra: Nenhum."
   ]
  },
  {
   "cell_type": "code",
   "execution_count": null,
   "metadata": {},
   "outputs": [],
   "source": [
    "abs(21.7 - 18.2)"
   ]
  },
  {
   "cell_type": "markdown",
   "metadata": {},
   "source": [
    "O que está acontecendo aqui? `abs` recebe apenas um argumento, então o conteúdo dentro dos parênteses é todo parte desse *único argumento*. Especificamente, o argumento é o valor da expressão `21.7 - 18.2`. O valor dessa expressão é `3.5`. Esse valor é o argumento para `abs`. O valor absoluto disso é `3.5`, então `3.5` é o valor da expressão completa `abs(21.7 - 18.2)`.\n",
    "\n",
    "Imagine simplificar a expressão em vários passos:\n",
    "\n",
    "1. `abs(21.7 - 18.2)`\n",
    "2. `abs(3.5)`\n",
    "3. `3.5`\n",
    "\n",
    "Na verdade, é basicamente isso que o Python faz para calcular o valor da expressão."
   ]
  },
  {
   "cell_type": "markdown",
   "metadata": {},
   "source": [
    "**Questão 5.1.** Suponha que o comprimento de Genghis seja de 16.7 polegadas. Na próxima célula, use `abs` para calcular o valor absoluto da diferença entre o comprimento de Genghis e o comprimento médio dos gatos. Dê a esse valor o nome `genghis_distance_from_average_in`."
   ]
  },
  {
   "cell_type": "code",
   "execution_count": null,
   "metadata": {
    "deletable": false,
    "tags": []
   },
   "outputs": [],
   "source": [
    "# Substitua os ... por uma expressão\n",
    "# para calcular o valor absoluto\n",
    "# da diferença entre o comprimento de Genghis (16.7 pol) e o comprimento médio dos gatos.\n",
    "genghis_distance_from_average_in = ...\n",
    "\n",
    "# Novamente, escrevemos isso aqui\n",
    "# para que a distância que você calcular seja impressa\n",
    "# quando você executar esta célula.\n",
    "genghis_distance_from_average_in\n"
   ]
  },
  {
   "cell_type": "code",
   "execution_count": null,
   "metadata": {
    "deletable": false,
    "editable": false
   },
   "outputs": [],
   "source": [
    "grader.check(\"q51\")"
   ]
  },
  {
   "cell_type": "markdown",
   "metadata": {},
   "source": [
    "## 5.1. Mais Aninhamento\n",
    "Agora digamos que queremos calcular o mais incomum dos dois comprimentos de gatos. Vamos usar a função `max`, que (novamente) recebe dois números como argumentos e retorna o maior dos dois argumentos. Combinando isso com a função `abs`, podemos calcular a maior distância da média entre os dois comprimentos:"
   ]
  },
  {
   "cell_type": "code",
   "execution_count": null,
   "metadata": {},
   "outputs": [],
   "source": [
    "# Apenas leia e execute esta célula.\n",
    "\n",
    "ravioli_length_in = 21.7\n",
    "genghis_length_in = 16.7\n",
    "average_cat_length = 18.2\n",
    "\n",
    "# A maior distância a partir do comprimento médio do gato, entre os dois comprimentos:\n",
    "larger_distance_in = max(abs(ravioli_length_in - average_cat_length), abs(genghis_length_in - average_cat_length))\n",
    "\n",
    "# Imprima nossos resultados em um formato legível:\n",
    "print(\"A maior distância do comprimento médio entre esses dois gatos é\", larger_distance_in, \"polegadas.\")"
   ]
  },
  {
   "cell_type": "markdown",
   "metadata": {},
   "source": [
    "A linha onde `larger_distance_in` é calculado parece complicada, mas podemos dividir em componentes mais simples, assim como fizemos antes.\n",
    "\n",
    "A receita básica é simplificar repetidamente partes pequenas da expressão:\n",
    "* **Expressões básicas:** Comece com expressões cujos valores conhecemos, como nomes ou números.\n",
    "    - Exemplos: `genghis_length_in` ou `16.7`.\n",
    "* **Encontre o próximo grupo mais simples de expressões:** Procure por expressões básicas que estão diretamente conectadas umas às outras. Isso pode ser feito por meio de aritmética ou como argumentos para uma chamada de função.\n",
    "    - Exemplo: `genghis_length_in - average_cat_length`.\n",
    "* **Avalie esse grupo:** Avalie a expressão aritmética ou chamada de função. Use o valor computado para substituir o grupo de expressões.\n",
    "    - Exemplo: `genghis_length_in - average_cat_length` se torna `-1.3`.\n",
    "* **Repita:** Continue esse processo, usando o valor da expressão previamente avaliada como uma nova expressão básica. Pare quando tivermos avaliado toda a expressão.\n",
    "    - Exemplo: `abs(-1.3)` se torna `1.3`, e `max(3.5, 1.3)` se torna `3.5`.\n",
    "\n",
    "Você pode executar a próxima célula para ver uma apresentação desse processo."
   ]
  },
  {
   "cell_type": "code",
   "execution_count": null,
   "metadata": {},
   "outputs": [],
   "source": [
    "from IPython.display import IFrame\n",
    "IFrame('https://docs.google.com/presentation/d/1g2J9ZkB2Tr_jUw45kiAgOPeC8QAE9thHFCEhqm6mHnM/embed?start=false&loop=false&delayms=3000', 800, 600)"
   ]
  },
  {
   "cell_type": "markdown",
   "metadata": {},
   "source": [
    "Ok, sua vez!\n",
    "\n",
    "**Questão 5.1.1.** Dados os comprimentos dos gatos de Yanay, Hummus, Gatkes e Zeepty, escreva uma expressão que calcule a menor diferença entre qualquer um dos três comprimentos. Sua expressão não deve ter nenhum número nela, apenas chamadas de função e os nomes `hummus`, `gatkes` e `zeepty`. Dê o valor da sua expressão o nome `min_length_difference`."
   ]
  },
  {
   "cell_type": "code",
   "execution_count": null,
   "metadata": {
    "deletable": false,
    "tags": []
   },
   "outputs": [],
   "source": [
    "# Os comprimentos dos três gatos, em metros:\n",
    "hummus =  24.5 # Hummus tem 24.5 polegadas de comprimento\n",
    "gatkes = 19.7 # Gatkes tem 19.7 polegadas de comprimento\n",
    "zeepty = 15.8 # Zeepty tem 15.8 polegadas de comprimento\n",
    "             \n",
    "# Gostaríamos de analisar todos os 3 pares de comprimentos, \n",
    "# calcular a diferença absoluta entre cada par, \n",
    "# e então encontrar a menor dessas 3 diferenças absolutas.  \n",
    "# Isso fica para você!  \n",
    "# Se estiver com dificuldades, tente calcular o valor para cada etapa do processo \n",
    "# (como a diferença entre o comprimento de Hummus e o comprimento de Gatkes) \n",
    "# em uma linha separada e dê a ela um nome (como hummus_gatkes_length_diff)\n",
    "min_length_difference = ..."
   ]
  },
  {
   "cell_type": "code",
   "execution_count": null,
   "metadata": {
    "deletable": false,
    "editable": false
   },
   "outputs": [],
   "source": [
    "grader.check(\"q5_1_1\")"
   ]
  },
  {
   "cell_type": "markdown",
   "metadata": {},
   "source": [
    "Você terminou o Lab01!\n",
    "\n",
    "**Etapas importantes de envio:**\n",
    "1. Execute os testes e verifique se todos passam.\n",
    "2. Escolha **Salvar Notebook** no menu **Arquivo**, em seguida, **execute a última célula**.\n",
    "3. Clique no link para baixar o arquivo zip.\n",
    "4. Em seguida, envie o arquivo zip para a tarefa correspondente de acordo com as instruções do seu instrutor.\n",
    "\n",
    "**É sua responsabilidade garantir que seu trabalho seja salvo antes de executar a última célula.**\n",
    "\n",
    "Harley quer parabenizá-lo e dar as boas-vindas ao Data 8!\n",
    "\n",
    "<img src=\"harley.png\" alt=\"drawing\" width=\"300\"/>\n"
   ]
  },
  {
   "cell_type": "markdown",
   "metadata": {
    "deletable": false,
    "editable": false
   },
   "source": [
    "## Submissão\n",
    "\n",
    "Certifique-se de executar todas as células do seu notebook na ordem antes de executar a célula abaixo, para que todas as imagens/gráficos apareçam na saída. A célula abaixo irá gerar um arquivo zip para você enviar. **Por favor, salve antes de exportar!**"
   ]
  },
  {
   "cell_type": "code",
   "execution_count": null,
   "metadata": {
    "deletable": false,
    "editable": false
   },
   "outputs": [],
   "source": [
    "# Salve seu notebook primeiro e depois execute esta célula para exportar sua submissão.\n",
    "grader.export(pdf=False, run_tests=True)"
   ]
  },
  {
   "cell_type": "markdown",
   "metadata": {},
   "source": [
    " "
   ]
  }
 ],
 "metadata": {
  "kernelspec": {
   "display_name": "Python 3",
   "language": "python",
   "name": "python3"
  },
  "language_info": {
   "codemirror_mode": {
    "name": "ipython",
    "version": 3
   },
   "file_extension": ".py",
   "mimetype": "text/x-python",
   "name": "python",
   "nbconvert_exporter": "python",
   "pygments_lexer": "ipython3",
   "version": "3.9.12"
  },
  "otter": {
   "OK_FORMAT": true,
   "tests": {
    "q3_1_2": {
     "name": "q3_1_2",
     "points": null,
     "suites": [
      {
       "cases": [
        {
         "code": ">>> # It looks like you didn't give anything the name\n>>> # seconds_in_a_decade.  Maybe there's a typo, or maybe you\n>>> # just need to run the cell below Question 3.2 where you defined\n>>> # seconds_in_a_decade.  (Click that cell and then click the \"run\n>>> # cell\" button in the menu bar above.)\n>>> 'seconds_in_a_decade' in vars()\nTrue",
         "hidden": false,
         "locked": false
        },
        {
         "code": ">>> # It looks like you didn't change the cell to define\n>>> # seconds_in_a_decade appropriately.  It should be a number,\n>>> # computed using Python's arithmetic.  For example, this is\n>>> # almost right:\n>>> #   seconds_in_a_decade = 10*365*24*60*60\n>>> seconds_in_a_decade != ...\nTrue",
         "hidden": false,
         "locked": false
        },
        {
         "code": ">>> # It looks like you didn't account for leap years.\n>>> # There were 2 leap years and 8 non-leap years in this period.\n>>> # Leap years have 366 days instead of 365.\n>>> seconds_in_a_decade != 315360000\nTrue",
         "hidden": false,
         "locked": false
        },
        {
         "code": ">>> seconds_in_a_decade == 315532800\nTrue",
         "hidden": false,
         "locked": false
        }
       ],
       "scored": true,
       "setup": "",
       "teardown": "",
       "type": "doctest"
      }
     ]
    },
    "q3_3_1": {
     "name": "q3_3_1",
     "points": null,
     "suites": [
      {
       "cases": [
        {
         "code": ">>> # Fill in the row\n>>> #   time = ...\n>>> # with something like:\n>>> #   time = 4.567\n>>> # (except with the right number).\n>>> time != ...\nTrue",
         "hidden": false,
         "locked": false
        },
        {
         "code": ">>> # Read the text above the question to see what\n>>> # time should be. \n>>> round(time, 5)\n1.2",
         "hidden": false,
         "locked": false
        },
        {
         "code": ">>> # Fill in the row\n>>> #   estimated_distance_m = ...\n>>> # with something like:\n>>> #   estimated_distance_m = 4.567\n>>> # (except with the right number). \n>>> estimated_distance_m != ...\nTrue",
         "hidden": false,
         "locked": false
        },
        {
         "code": ">>> # Note that the units are meters, but the text used\n>>> # centimeters.\n>>> estimated_distance_m != 113\nTrue",
         "hidden": false,
         "locked": false
        },
        {
         "code": ">>> # Read the text above the question to see what\n>>> # estimated_distance_m should be.\n>>> round(estimated_distance_m, 5)\n1.13",
         "hidden": false,
         "locked": false
        }
       ],
       "scored": true,
       "setup": "",
       "teardown": "",
       "type": "doctest"
      }
     ]
    },
    "q3_3_2": {
     "name": "q3_3_2",
     "points": null,
     "suites": [
      {
       "cases": [
        {
         "code": ">>> # Fill in the line that currently says\n>>> #   predicted_distance_m = ...\n>>> # in the cell above.\n>>> predicted_distance_m != ...\nTrue",
         "hidden": false,
         "locked": false
        },
        {
         "code": ">>> # Compute predicted_distance_m using the formula in the text\n>>> # above.  Hint: it should start with something like this:\n>>> #   predicted_distance_m = (1/2) * gravity_constant ...\n>>> round(predicted_distance_m, 5)\n1.17022",
         "hidden": false,
         "locked": false
        },
        {
         "code": ">>> round(difference, 5)\n0.04022",
         "hidden": false,
         "locked": false
        }
       ],
       "scored": true,
       "setup": "",
       "teardown": "",
       "type": "doctest"
      }
     ]
    },
    "q4_1_1": {
     "name": "q4_1_1",
     "points": null,
     "suites": [
      {
       "cases": [
        {
         "code": ">>> # Fill in the line\n>>> #   num_avenues_away = ...\n>>> # in the cell above. \n>>> num_avenues_away != ...\nTrue",
         "hidden": false,
         "locked": false
        },
        {
         "code": ">>> # Remember to compute the absolute value of 7-10.  Traveling \n>>> # \"-3 blocks\" doesn't really make sense!\n>>> num_avenues_away != -3\nTrue",
         "hidden": false,
         "locked": false
        },
        {
         "code": ">>> num_avenues_away\n3",
         "hidden": false,
         "locked": false
        },
        {
         "code": ">>> manhattan_distance\n1462",
         "hidden": false,
         "locked": false
        }
       ],
       "scored": true,
       "setup": "",
       "teardown": "",
       "type": "doctest"
      }
     ]
    },
    "q51": {
     "name": "q51",
     "points": null,
     "suites": [
      {
       "cases": [
        {
         "code": ">>> round(genghis_distance_from_average_in, 3)\n1.5",
         "hidden": false,
         "locked": false
        }
       ],
       "scored": true,
       "setup": "",
       "teardown": "",
       "type": "doctest"
      }
     ]
    },
    "q5_1_1": {
     "name": "q5_1_1",
     "points": null,
     "suites": [
      {
       "cases": [
        {
         "code": ">>> round(min_length_difference, 5)\n3.9",
         "hidden": false,
         "locked": false
        }
       ],
       "scored": true,
       "setup": "",
       "teardown": "",
       "type": "doctest"
      }
     ]
    }
   }
  }
 },
 "nbformat": 4,
 "nbformat_minor": 5
}
