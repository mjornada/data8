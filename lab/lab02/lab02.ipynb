{
 "cells": [
  {
   "cell_type": "code",
   "execution_count": null,
   "metadata": {
    "deletable": false,
    "editable": false
   },
   "outputs": [],
   "source": [
    "# Inicialize o Otter\n",
    "import otter\n",
    "grader = otter.Notebook(\"lab02.ipynb\")"
   ]
  },
  {
   "cell_type": "markdown",
   "metadata": {},
   "source": [
    "# Laboratório 2: Operações com Tabelas\n",
    "\n",
    "Bem-vindo ao Laboratório 2! Esta semana, vamos aprender como importar um módulo e praticar operações com tabelas. O [Python Reference](http://data8.org/sp22/python-reference.html) tem informações que serão úteis para este laboratório.\n",
    "\n",
    "**Leitura Recomendada**:\n",
    " * [Introdução às Tabelas](https://www.inferentialthinking.com/chapters/03/4/Introduction_to_Tables)\n",
    "\n",
    "**Envio**: Quando terminar, execute todas as células exceto a última, selecione Arquivo > Salvar Notebook e, em seguida, execute a célula final. Depois, envie o arquivo zip baixado, que inclui o seu notebook, de acordo com as instruções do seu instrutor.\n",
    "\n",
    "Vamos começar configurando os testes e as importações executando a célula abaixo."
   ]
  },
  {
   "cell_type": "code",
   "execution_count": null,
   "metadata": {},
   "outputs": [],
   "source": [
    "# Não altere esta célula; apenas execute-a.\n",
    "\n",
    "import numpy as np\n",
    "from datascience import *\n",
    "import d8error"
   ]
  },
  {
   "cell_type": "markdown",
   "metadata": {},
   "source": [
    "# 1. Revisão: Os Blocos de Construção do Código Python\n",
    "\n",
    "Os dois blocos de construção do código Python são *expressões* e *instruções*. Uma **expressão** é um trecho de código que\n",
    "\n",
    "* é autocontido, o que significa que faria sentido escrevê-lo em uma linha própria, e\n",
    "* geralmente avalia para um valor.\n",
    "\n",
    "Aqui estão duas expressões que ambas avaliam para 3:\n",
    "\n",
    "    3\n",
    "    5 - 2\n",
    "    \n",
    "Um tipo importante de expressão é a **expressão de chamada**. Uma expressão de chamada começa com o nome de uma função e é seguida pelo(s) argumento(s) dessa função entre parênteses. A função retorna algum valor, com base em seus argumentos. Algumas funções matemáticas importantes estão listadas abaixo.\n",
    "\n",
    "| Função   | Descrição                                                      |\n",
    "|----------|-----------------------------------------------------------------|\n",
    "| `abs`    | Retorna o valor absoluto de seu argumento                      |\n",
    "| `max`    | Retorna o máximo de todos os seus argumentos                   |\n",
    "| `min`    | Retorna o mínimo de todos os seus argumentos                   |\n",
    "| `pow`    | Eleva seu primeiro argumento à potência do segundo argumento   |\n",
    "| `round`  | Arredonda seu argumento para o inteiro mais próximo            |\n",
    "\n",
    "Aqui estão duas expressões de chamada que ambas avaliam para 3:\n",
    "\n",
    "    abs(2 - 5)\n",
    "    max(round(2.8), min(pow(2, 10), -1 * pow(2, 10)))\n",
    "\n",
    "A expressão `2 - 5` e as duas expressões de chamada dadas acima são exemplos de **expressões compostas**, o que significa que são realmente combinações de várias expressões menores. `2 - 5` combina as expressões `2` e `5` por subtração. Neste caso, `2` e `5` são chamados de **subexpressões** porque são expressões que fazem parte de uma expressão maior.\n",
    "\n",
    "Uma **instrução** é uma linha inteira de código. Algumas instruções são apenas expressões. As expressões listadas acima são exemplos.\n",
    "\n",
    "Outras instruções *fazem algo acontecer* em vez de *ter um valor*. Por exemplo, uma **instrução de atribuição** atribui um valor a um nome.\n",
    "\n",
    "Uma boa maneira de pensar sobre isso é que estamos **avaliando o lado direito** do sinal de igual e **atribuindo-o ao lado esquerdo**. Aqui estão algumas instruções de atribuição:\n",
    "\n",
    "    altura = 1.3\n",
    "    o_numero_cinco = abs(-5)\n",
    "    diferenca_de_altura_absoluta = abs(altura - 1.688)\n",
    "\n",
    "Uma ideia importante na programação é que coisas grandes e interessantes podem ser construídas combinando muitas coisas simples e sem importância. A chave para entender um código complicado é dividi-lo em seus componentes simples.\n",
    "\n",
    "Por exemplo, muito está acontecendo na última instrução acima, mas na verdade é apenas uma combinação de algumas coisas. Esta imagem descreve o que está acontecendo.\n",
    "\n",
    "![statement](statement.png)\n"
   ]
  },
  {
   "cell_type": "markdown",
   "metadata": {},
   "source": [
    "**Questão 1.1.** Na próxima célula, atribua o nome `new_year` ao número maior entre os dois números a seguir:\n",
    "\n",
    "* o **valor absoluto** de $2^{5}-2^{11}-2^1 + 1$, e \n",
    "* $5 \\times 13 \\times 31 + 7$.\n",
    "\n",
    "Tente usar apenas uma instrução (uma linha de código). Certifique-se de verificar seu trabalho executando a célula de teste posteriormente."
   ]
  },
  {
   "cell_type": "code",
   "execution_count": null,
   "metadata": {
    "deletable": false,
    "tags": []
   },
   "outputs": [],
   "source": [
    "new_year = ...\n",
    "new_year"
   ]
  },
  {
   "cell_type": "code",
   "execution_count": null,
   "metadata": {
    "deletable": false,
    "editable": false
   },
   "outputs": [],
   "source": [
    "grader.check(\"q11\")"
   ]
  },
  {
   "cell_type": "markdown",
   "metadata": {},
   "source": [
    "Pedimos que você use uma linha de código na pergunta acima porque ela envolve apenas operações matemáticas. No entanto, perguntas de programação mais complicadas exigirão mais etapas. Nem sempre é uma boa ideia encaixar essas etapas em uma única linha, pois pode tornar o código mais difícil de ler e de depurar.\n",
    "\n",
    "Uma boa prática de programação envolve dividir seu código em etapas menores e usar nomes apropriados. Você terá muita prática no resto deste curso!"
   ]
  },
  {
   "cell_type": "markdown",
   "metadata": {},
   "source": [
    "# 2. Importando Código\n",
    "\n",
    "A maioria da programação envolve trabalho muito semelhante ao que já foi feito antes. Como escrever código consome tempo, é bom contar com o código publicado por outros quando você pode. Em vez de copiar e colar, o Python nos permite **importar módulos**. Um módulo é um arquivo com código Python que definiu variáveis e funções. Ao importar um módulo, somos capazes de usar seu código em nosso próprio notebook.\n",
    "\n",
    "Python inclui muitos módulos úteis que estão a apenas um `import` de distância. Vamos olhar para o módulo `math` como um primeiro exemplo. O módulo `math` é extremamente útil para calcular expressões matemáticas em Python.\n",
    "\n",
    "Suponha que queremos calcular com muita precisão a área de um círculo com um raio de 5 metros. Para isso, precisamos da constante $\\pi$, que é aproximadamente 3,14. Convenientemente, o módulo `math` tem `pi` definido para nós. Execute a célula seguinte para importar o módulo math:"
   ]
  },
  {
   "cell_type": "code",
   "execution_count": null,
   "metadata": {},
   "outputs": [],
   "source": [
    "import math\n",
    "radius = 5\n",
    "area_of_circle = radius**2 * math.pi\n",
    "area_of_circle"
   ]
  },
  {
   "cell_type": "markdown",
   "metadata": {},
   "source": [
    "No código acima, a linha `import math` importa o módulo math. Esta instrução cria um módulo e, em seguida, atribui o nome `math` a esse módulo. Agora somos capazes de acessar quaisquer variáveis ou funções definidas dentro de `math` digitando o nome do módulo seguido por um ponto, e então seguido pelo nome da variável ou função que queremos.\n",
    "\n",
    "    <nome do módulo>.<nome>"
   ]
  },
  {
   "cell_type": "markdown",
   "metadata": {},
   "source": [
    "**Questão 2.1.** O módulo `math` também fornece o nome `e` para a base do logaritmo natural, que é aproximadamente 2,71. Calcule $e^{\\pi}-\\pi$, dando a ele o nome `near_twenty`.\n",
    "\n",
    "*Lembre-se: Você também pode acessar `pi` a partir do módulo `math`!*"
   ]
  },
  {
   "cell_type": "code",
   "execution_count": null,
   "metadata": {
    "deletable": false,
    "tags": []
   },
   "outputs": [],
   "source": [
    "near_twenty = ...\n",
    "near_twenty"
   ]
  },
  {
   "cell_type": "code",
   "execution_count": null,
   "metadata": {
    "deletable": false,
    "editable": false
   },
   "outputs": [],
   "source": [
    "grader.check(\"q21\")"
   ]
  },
  {
   "cell_type": "markdown",
   "metadata": {},
   "source": [
    "## 2.1. Acessando Funções\n",
    "\n",
    "Na questão acima, você acessou variáveis dentro do módulo `math`.\n",
    "\n",
    "**Módulos** também definem **funções**. Por exemplo, `math` fornece o nome `floor` para a função piso. Tendo importado `math` já, podemos escrever `math.floor(7.5)` para calcular o piso de 7.5. (Note que a função piso retorna o maior inteiro menor ou igual a um determinado número.)\n",
    "\n",
    "**Questão 2.1.1.** Calcule o piso de pi usando `floor` e `pi` do módulo `math`. Dê o resultado o nome `floor_of_pi`.\n"
   ]
  },
  {
   "cell_type": "code",
   "execution_count": null,
   "metadata": {
    "deletable": false,
    "tags": []
   },
   "outputs": [],
   "source": [
    "floor_of_pi = ...\n",
    "floor_of_pi"
   ]
  },
  {
   "cell_type": "code",
   "execution_count": null,
   "metadata": {
    "deletable": false,
    "editable": false
   },
   "outputs": [],
   "source": [
    "grader.check(\"q211\")"
   ]
  },
  {
   "cell_type": "markdown",
   "metadata": {},
   "source": [
    "Para sua referência, abaixo estão alguns exemplos adicionais de funções do módulo `math`.\n",
    "\n",
    "Observe como diferentes funções recebem diferentes números de argumentos. Muitas vezes, a [documentação](https://docs.python.org/3/library/math.html) do módulo fornecerá informações sobre quantos argumentos são necessários para cada função.\n",
    "\n",
    "*Dica: Se você pressionar `shift+tab` ao lado da chamada da função, a documentação dessa função aparecerá.*"
   ]
  },
  {
   "cell_type": "code",
   "execution_count": null,
   "metadata": {},
   "outputs": [],
   "source": [
    "# Calculando logaritmos (o logaritmo de 8 na base 2).\n",
    "# O resultado é 3 porque 2 elevado à potência de 3 é 8.\n",
    "math.log(8, 2)"
   ]
  },
  {
   "cell_type": "code",
   "execution_count": null,
   "metadata": {},
   "outputs": [],
   "source": [
    "# Calculando raízes quadradas.\n",
    "math.sqrt(5)"
   ]
  },
  {
   "cell_type": "markdown",
   "metadata": {},
   "source": [
    "Existem várias maneiras de importar e acessar código de fontes externas. O método que usamos acima - `import <nome_do_módulo>` - importa todo o módulo e requer que usemos `<nome_do_módulo>.<nome>` para acessar seu código.\n",
    "\n",
    "Também podemos importar uma constante específica ou função em vez de todo o módulo. Observe que você não precisa usar o nome do módulo antes para referenciar aquele valor particular. No entanto, você precisa ter cuidado ao reatribuir os nomes das constantes ou funções para outros valores!"
   ]
  },
  {
   "cell_type": "code",
   "execution_count": null,
   "metadata": {},
   "outputs": [],
   "source": [
    "# Importando apenas cos e pi de math.\n",
    "# Não precisamos usar `math.` na frente de cos ou pi\n",
    "from math import cos, pi\n",
    "print(cos(pi))\n",
    "\n",
    "# Mas precisamos usar na frente de outras funções de math\n",
    "math.log(pi)"
   ]
  },
  {
   "cell_type": "markdown",
   "metadata": {},
   "source": [
    "Ou podemos importar todas as funções e valores de todo o módulo."
   ]
  },
  {
   "cell_type": "code",
   "execution_count": null,
   "metadata": {},
   "outputs": [],
   "source": [
    "# Por último, podemos importar tudo de math usando o *\n",
    "# Mais uma vez, não precisamos usar 'math.' antes\n",
    "from math import *\n",
    "log(pi)"
   ]
  },
  {
   "cell_type": "markdown",
   "metadata": {},
   "source": [
    "Não se preocupe muito sobre qual tipo de importação usar. Muitas vezes, é uma escolha de estilo de codificação deixada a critério de cada programador. Neste curso, você sempre importará os módulos necessários quando executar a célula de configuração (como a primeira célula de código neste laboratório).\n",
    "\n",
    "Vamos seguir em frente e praticar algumas das operações de tabela que você aprendeu na aula!"
   ]
  },
  {
   "cell_type": "markdown",
   "metadata": {},
   "source": [
    "# 3. Operações com Tabelas\n",
    "\n",
    "A tabela `farmers_markets.csv` contém dados sobre mercados de agricultores nos Estados Unidos (dados associados com [o USDA](https://apps.ams.usda.gov/FarmersMarketsExport/ExcelExport.aspx)). Cada linha representa um desses mercados.\n",
    "\n",
    "Execute a próxima célula para carregar a tabela `farmers_markets`. Não haverá saída -- nenhuma saída é esperada, pois a célula contém uma instrução de atribuição. Uma instrução de atribuição não produz nenhuma saída (não gera nenhum valor)."
   ]
  },
  {
   "cell_type": "code",
   "execution_count": null,
   "metadata": {
    "deletable": false
   },
   "outputs": [],
   "source": [
    "# Apenas execute esta célula\n",
    "\n",
    "farmers_markets = Table.read_table('farmers_markets.csv')"
   ]
  },
  {
   "cell_type": "markdown",
   "metadata": {},
   "source": [
    "**Questão 3.1.** Use o método `show` para exibir as primeiras 5 linhas de `farmers_markets`.\n",
    "\n",
    "*Nota:* Os termos \"método\" e \"função\" tecnicamente não são a mesma coisa, mas para os propósitos deste curso, usaremos os termos de forma intercambiável.\n",
    "\n",
    "**Dica:** `tbl.show(3)` mostrará as primeiras 3 linhas da tabela chamada `tbl`. Além disso, certifique-se de não chamar `.show()` sem um argumento, pois isso fará com que seu kernel trave!"
   ]
  },
  {
   "cell_type": "code",
   "execution_count": null,
   "metadata": {
    "deletable": false,
    "tags": []
   },
   "outputs": [],
   "source": [
    "..."
   ]
  },
  {
   "cell_type": "markdown",
   "metadata": {},
   "source": [
    "Observe que alguns dos valores nesta tabela estão faltando, conforme indicado por \"nan\". Isso significa que o valor não está disponível (por exemplo, se não soubermos o endereço da rua do mercado) ou não é aplicável (por exemplo, se o mercado não tiver um endereço de rua). Você também notará que a tabela tem um grande número de colunas!\n",
    "\n",
    "### `num_columns`\n",
    "\n",
    "A propriedade da tabela `num_columns` retorna o número de colunas em uma tabela. (Uma \"propriedade\" é apenas um método que não precisa ser chamado adicionando parênteses.)\n",
    "\n",
    "Exemplo de chamada: `tbl.num_columns` retornará o número de colunas em uma tabela chamada `tbl`\n",
    "\n",
    "**Questão 3.2.** Use `num_columns` para encontrar o número de colunas em nosso conjunto de dados de mercados de agricultores.\n",
    "\n",
    "Atribua o número de colunas a `num_farmers_markets_columns`.\n"
   ]
  },
  {
   "cell_type": "code",
   "execution_count": null,
   "metadata": {
    "deletable": false,
    "tags": []
   },
   "outputs": [],
   "source": [
    "num_farmers_markets_columns = ...\n",
    "print(\"The table has\", num_farmers_markets_columns, \"columns in it!\")"
   ]
  },
  {
   "cell_type": "code",
   "execution_count": null,
   "metadata": {
    "deletable": false,
    "editable": false
   },
   "outputs": [],
   "source": [
    "grader.check(\"q32\")"
   ]
  },
  {
   "cell_type": "markdown",
   "metadata": {},
   "source": [
    "### `num_rows`\n",
    "\n",
    "Da mesma forma, a propriedade `num_rows` informa quantas linhas estão em uma tabela."
   ]
  },
  {
   "cell_type": "code",
   "execution_count": null,
   "metadata": {
    "deletable": false
   },
   "outputs": [],
   "source": [
    "# Apenas execute esta célula\n",
    "\n",
    "num_farmers_markets_rows = farmers_markets.num_rows\n",
    "print(\"A tabela tem\", num_farmers_markets_rows, \"linhas!\")"
   ]
  },
  {
   "cell_type": "markdown",
   "metadata": {},
   "source": [
    "### `select`\n",
    "\n",
    "A maioria das colunas é sobre produtos específicos - se o mercado vende tofu, comida para animais de estimação, etc. Se não estamos interessados nessa informação, ela apenas torna a tabela difícil de ler. Isso ocorre mais do que você imagina, porque as pessoas que coletam e publicam dados podem não saber antecipadamente o que as pessoas vão querer fazer com eles.\n",
    "\n",
    "Em tais situações, podemos usar o método `select` da tabela para escolher apenas as colunas que queremos em uma tabela específica. Ele aceita qualquer número de argumentos. Cada um deve ser o nome de uma coluna na tabela. Ele retorna uma nova tabela com apenas essas colunas. As colunas estão na ordem *em que foram listadas como argumentos*.\n",
    "\n",
    "Por exemplo, o valor de `farmers_markets.select(\"MarketName\", \"State\")` é uma tabela com apenas o nome e o estado de cada mercado de agricultores em `farmers_markets`.\n",
    "\n",
    "**Questão 3.3.** Use `select` para criar uma tabela com apenas o nome, cidade, estado, latitude (`y`) e longitude (`x`) de cada mercado. Chame essa nova tabela de `farmers_markets_locations`.\n",
    "\n",
    "*Dica:* Certifique-se de ser exato ao usar nomes de colunas com `select`; verifique novamente a capitalização!\n"
   ]
  },
  {
   "cell_type": "code",
   "execution_count": null,
   "metadata": {
    "deletable": false,
    "tags": []
   },
   "outputs": [],
   "source": [
    "farmers_markets_locations = ...\n",
    "farmers_markets_locations"
   ]
  },
  {
   "cell_type": "code",
   "execution_count": null,
   "metadata": {
    "deletable": false,
    "editable": false
   },
   "outputs": [],
   "source": [
    "grader.check(\"q33\")"
   ]
  },
  {
   "cell_type": "markdown",
   "metadata": {},
   "source": [
    "### `drop`\n",
    "\n",
    "`drop` serve ao mesmo propósito que `select`, mas remove as colunas que você fornece em vez das que você não fornece. Como `select`, `drop` retorna uma nova tabela.\n",
    "\n",
    "**Questão 3.4.** Suponha que você simplesmente não queira as colunas `FMID` e `updateTime` em `farmers_markets`. Crie uma tabela que seja uma cópia de `farmers_markets`, mas que não inclua essas colunas. Chame essa tabela de `farmers_markets_without_fmid`."
   ]
  },
  {
   "cell_type": "code",
   "execution_count": null,
   "metadata": {
    "deletable": false,
    "tags": []
   },
   "outputs": [],
   "source": [
    "farmers_markets_without_fmid = ...\n",
    "farmers_markets_without_fmid"
   ]
  },
  {
   "cell_type": "code",
   "execution_count": null,
   "metadata": {
    "deletable": false,
    "editable": false
   },
   "outputs": [],
   "source": [
    "grader.check(\"q34\")"
   ]
  },
  {
   "cell_type": "markdown",
   "metadata": {},
   "source": [
    "Agora, suponha que queremos responder a algumas perguntas sobre os mercados de agricultores nos EUA. Por exemplo, qual(is) mercado(s) tem a maior longitude (dada pela coluna `x`)?\n",
    "\n",
    "Para responder a isso, vamos ordenar `farmers_markets_locations` por longitude."
   ]
  },
  {
   "cell_type": "code",
   "execution_count": null,
   "metadata": {},
   "outputs": [],
   "source": [
    "farmers_markets_locations.sort('x')"
   ]
  },
  {
   "cell_type": "markdown",
   "metadata": {},
   "source": [
    "Ops, isso não respondeu à nossa pergunta porque ordenamos da menor para a maior longitude. Para olhar as maiores longitudes, teremos que ordenar em ordem inversa."
   ]
  },
  {
   "cell_type": "code",
   "execution_count": null,
   "metadata": {},
   "outputs": [],
   "source": [
    "farmers_markets_locations.sort('x', descending=True)"
   ]
  },
  {
   "cell_type": "markdown",
   "metadata": {},
   "source": [
    "(O pedaço `descending=True` é chamado de *argumento opcional*. Ele tem um valor padrão de `False`, então quando você explicitamente diz à função `descending=True`, a função irá ordenar em ordem decrescente.)\n",
    "\n",
    "### `sort`\n",
    "\n",
    "Alguns detalhes sobre a ordenação:\n",
    "\n",
    "1. O primeiro argumento para `sort` é o nome de uma coluna para ordenar.\n",
    "2. Se a coluna contém texto, `sort` irá ordenar alfabeticamente; se a coluna contém números, ela irá ordenar numericamente - ambos em ordem crescente por padrão.\n",
    "3. O valor de `farmers_markets_locations.sort(\"x\")` é uma *cópia* de `farmers_markets_locations`; a tabela `farmers_markets_locations` não é modificada. Por exemplo, se chamássemos `farmers_markets_locations.sort(\"x\")`, então executar `farmers_markets_locations` por si só ainda retornaria a tabela não ordenada.\n",
    "4. As linhas sempre permanecem juntas quando uma tabela é ordenada. Não faria sentido ordenar apenas uma coluna e deixar as outras colunas sozinhas. Por exemplo, neste caso, se ordenássemos apenas a coluna `x`, os mercados de agricultores acabariam com as longitudes erradas.\n",
    "\n",
    "**Questão 3.5.** Crie uma versão de `farmers_markets_locations` que seja ordenada por **latitude (`y`)**, com as maiores latitudes primeiro. Chame-a de `farmers_markets_locations_by_latitude`.\n"
   ]
  },
  {
   "cell_type": "code",
   "execution_count": null,
   "metadata": {
    "deletable": false,
    "scrolled": true,
    "tags": []
   },
   "outputs": [],
   "source": [
    "farmers_markets_locations_by_latitude = ...\n",
    "farmers_markets_locations_by_latitude"
   ]
  },
  {
   "cell_type": "code",
   "execution_count": null,
   "metadata": {
    "deletable": false,
    "editable": false
   },
   "outputs": [],
   "source": [
    "grader.check(\"q35\")"
   ]
  },
  {
   "cell_type": "markdown",
   "metadata": {},
   "source": [
    "Agora vamos dizer que queremos uma tabela de todos os mercados de agricultores na Califórnia. A ordenação não nos ajudará muito aqui porque a Califórnia está mais próxima do meio do conjunto de dados.\n",
    "\n",
    "Em vez disso, usamos o método de tabela `where`."
   ]
  },
  {
   "cell_type": "code",
   "execution_count": null,
   "metadata": {
    "deletable": false
   },
   "outputs": [],
   "source": [
    "california_farmers_markets = farmers_markets_locations.where('State', are.equal_to('California'))\n",
    "california_farmers_markets"
   ]
  },
  {
   "cell_type": "markdown",
   "metadata": {},
   "source": [
    "Ignore a sintaxe por um momento. Em vez disso, tente ler essa linha assim:\n",
    "\n",
    "> Atribua o nome **`california_farmers_markets`** a uma tabela cujas linhas são as linhas na tabela **`farmers_markets_locations`** **`onde`** o **`\"State\"`** **`é igual a` `\"California\"`**."
   ]
  },
  {
   "cell_type": "markdown",
   "metadata": {},
   "source": [
    "### `where`\n",
    "\n",
    "Agora vamos nos aprofundar um pouco mais nos detalhes. `where` recebe 2 argumentos:\n",
    "\n",
    "1. O nome de uma coluna. `where` encontra linhas onde os valores dessa coluna atendem a algum critério.\n",
    "2. Um predicado que descreve o critério que a coluna precisa atender.\n",
    "\n",
    "O predicado no exemplo acima chamou a função `are.equal_to` com o valor desejado, 'California'. Veremos outros predicados em breve.\n",
    "\n",
    "`where` retorna uma tabela que é uma cópia da tabela original, mas **apenas com as linhas que atendem ao predicado dado**."
   ]
  },
  {
   "cell_type": "markdown",
   "metadata": {},
   "source": [
    "**Questão 3.6.** Use `california_farmers_markets` para criar uma tabela chamada `berkeley_markets` contendo mercados de agricultores em Berkeley, Califórnia."
   ]
  },
  {
   "cell_type": "code",
   "execution_count": null,
   "metadata": {
    "deletable": false,
    "tags": []
   },
   "outputs": [],
   "source": [
    "berkeley_markets = ...\n",
    "berkeley_markets"
   ]
  },
  {
   "cell_type": "code",
   "execution_count": null,
   "metadata": {
    "deletable": false,
    "editable": false
   },
   "outputs": [],
   "source": [
    "grader.check(\"q36\")"
   ]
  },
  {
   "cell_type": "markdown",
   "metadata": {},
   "source": [
    "Até agora, só usamos `where` com o predicado que requer encontrar os valores em uma coluna para serem *exatamente* iguais a um determinado valor. No entanto, existem muitos outros predicados. Aqui estão alguns:\n",
    "\n",
    "|Predicado|Exemplo|Resultado|\n",
    "|-|-|-|\n",
    "|`are.equal_to`|`are.equal_to(50)`|Encontra linhas com valores iguais a 50|\n",
    "|`are.not_equal_to`|`are.not_equal_to(50)`|Encontra linhas com valores não iguais a 50|\n",
    "|`are.above`|`are.above(50)`|Encontra linhas com valores acima (e não iguais a) 50|\n",
    "|`are.above_or_equal_to`|`are.above_or_equal_to(50)`|Encontra linhas com valores acima de 50 ou iguais a 50|\n",
    "|`are.below`|`are.below(50)`|Encontra linhas com valores abaixo de 50|\n",
    "|`are.between`|`are.between(2, 10)`|Encontra linhas com valores acima ou iguais a 2 e abaixo de 10|\n",
    "|`are.between_or_equal_to`|`are.between_or_equal_to(2, 10)`|Encontra linhas com valores acima ou iguais a 2 e abaixo ou iguais a 10|"
   ]
  },
  {
   "cell_type": "markdown",
   "metadata": {},
   "source": [
    "## 4. Analisando um conjunto de dados\n",
    "\n",
    "Agora que você está familiarizado com as operações de tabela, vamos responder a uma pergunta interessante sobre um conjunto de dados!\n",
    "\n",
    "Execute a célula abaixo para carregar a tabela `imdb`. Ela contém informações sobre os 250 filmes mais bem avaliados no IMDb."
   ]
  },
  {
   "cell_type": "code",
   "execution_count": null,
   "metadata": {
    "deletable": false,
    "scrolled": true
   },
   "outputs": [],
   "source": [
    "# Apenas execute esta célula\n",
    "\n",
    "imdb = Table.read_table('imdb.csv')\n",
    "imdb"
   ]
  },
  {
   "cell_type": "markdown",
   "metadata": {},
   "source": [
    "Frequentemente, queremos realizar várias operações - ordenação, filtragem, entre outras - para transformar uma tabela que temos em algo mais útil. Você pode fazer essas operações uma de cada vez, por exemplo:\n",
    "\n",
    "```\n",
    "primeiro_passo = tabela_original.where(\"col1\", are.equal_to(12))\n",
    "segundo_passo = primeiro_passo.sort('col2', descending=True)\n",
    "```\n",
    "\n",
    "No entanto, como o valor da expressão `tabela_original.where(\"col1\", are.equal_to(12))` é em si uma tabela, você pode simplesmente chamar um método de tabela nela:\n",
    "\n",
    "```\n",
    "tabela_original.where(\"col1\", are.equal_to(12)).sort('col2', descending=True)\n",
    "```\n",
    "Você deve organizar seu trabalho da maneira que faça mais sentido para você, usando nomes informativos para quaisquer tabelas intermediárias que você criar."
   ]
  },
  {
   "cell_type": "markdown",
   "metadata": {},
   "source": [
    "**Questão 4.1.** Crie uma tabela de filmes lançados entre 2010 e 2015 (inclusive) com classificações acima de 8. A tabela deve conter apenas as colunas `Title` e `Rating`, **nessa ordem**.\n",
    "\n",
    "Atribua a tabela ao nome `above_eight`.\n",
    "\n",
    "*Dica:* Pense nas etapas que você precisa realizar e tente colocá-las em uma ordem que faça sentido. Sinta-se à vontade para criar tabelas intermediárias para cada etapa, mas certifique-se de atribuir à sua tabela final o nome `above_eight`!\n"
   ]
  },
  {
   "cell_type": "code",
   "execution_count": null,
   "metadata": {
    "deletable": false,
    "tags": []
   },
   "outputs": [],
   "source": [
    "above_eight = ...\n",
    "above_eight"
   ]
  },
  {
   "cell_type": "code",
   "execution_count": null,
   "metadata": {
    "deletable": false,
    "editable": false
   },
   "outputs": [],
   "source": [
    "grader.check(\"q41\")"
   ]
  },
  {
   "cell_type": "markdown",
   "metadata": {},
   "source": [
    "**Questão 4.2.** Use `num_rows` (e aritmética) para encontrar a *proporção* de filmes no conjunto de dados que foram lançados entre 1900-1999, e a *proporção* de filmes no conjunto de dados que foram lançados no ano 2000 ou posterior.\n",
    "\n",
    "Atribua `proportion_in_20th_century` à proporção de filmes no conjunto de dados que foram lançados entre 1900-1999, e `proportion_in_21st_century` à proporção de filmes no conjunto de dados que foram lançados no ano 2000 ou posterior.\n",
    "\n",
    "*Dica:* A *proporção* de filmes lançados nos anos 1900 é o *número* de filmes lançados nos anos 1900, dividido pelo *número total* de filmes.\n"
   ]
  },
  {
   "cell_type": "code",
   "execution_count": null,
   "metadata": {
    "deletable": false,
    "tags": []
   },
   "outputs": [],
   "source": [
    "num_movies_in_dataset = ...\n",
    "num_in_20th_century = ...\n",
    "num_in_21st_century = ...\n",
    "proportion_in_20th_century = ...\n",
    "proportion_in_21st_century = ...\n",
    "print(\"Proportion in 20th century:\", proportion_in_20th_century)\n",
    "print(\"Proportion in 21st century:\", proportion_in_21st_century)"
   ]
  },
  {
   "cell_type": "code",
   "execution_count": null,
   "metadata": {
    "deletable": false,
    "editable": false
   },
   "outputs": [],
   "source": [
    "grader.check(\"q42\")"
   ]
  },
  {
   "cell_type": "markdown",
   "metadata": {},
   "source": [
    "## 5. Resumo\n",
    "\n",
    "Para sua referência, aqui está uma tabela de todas as funções e métodos que vimos neste laboratório. Aprenderemos mais métodos para adicionar a esta tabela na próxima semana!\n",
    "\n",
    "|Nome|Exemplo|Propósito|\n",
    "|-|-|-|\n",
    "|`sort`|`tbl.sort(\"N\")`|Cria uma cópia de uma tabela ordenada pelos valores em uma coluna|\n",
    "|`where`|`tbl.where(\"N\", are.above(2))`|Cria uma cópia de uma tabela apenas com as linhas que correspondem a algum *predicado*|\n",
    "|`num_rows`|`tbl.num_rows`|Calcula o número de linhas em uma tabela|\n",
    "|`num_columns`|`tbl.num_columns`|Calcula o número de colunas em uma tabela|\n",
    "|`select`|`tbl.select(\"N\")`|Cria uma cópia de uma tabela apenas com algumas das colunas|\n",
    "|`drop`|`tbl.drop(\"N\")`|Cria uma cópia de uma tabela sem algumas das colunas|"
   ]
  },
  {
   "cell_type": "markdown",
   "metadata": {},
   "source": [
    "## 6. Submissão\n",
    "\n",
    "Você terminou o Laboratório 2! Para verificar novamente seu trabalho, a célula abaixo executará novamente todos os testes do corretor automático."
   ]
  },
  {
   "cell_type": "markdown",
   "metadata": {},
   "source": [
    "**Passos importantes para a submissão:** \n",
    "1. Execute os testes e verifique se todos passaram.\n",
    "2. Escolha **Salvar Notebook** no menu **Arquivo**, então **execute a última célula**. \n",
    "3. Clique no link para baixar o arquivo zip.\n",
    "4. Em seguida, envie o arquivo zip para a tarefa correspondente de acordo com as instruções do seu professor. \n",
    "\n",
    "**É sua responsabilidade garantir que seu trabalho esteja salvo antes de executar a última célula.**\n",
    "\n",
    "Shah e Katsu queriam parabenizá-lo por terminar o laboratório 2! \n",
    "\n",
    "![Katsu_Shah](shah_katsu.png)"
   ]
  },
  {
   "cell_type": "markdown",
   "metadata": {
    "deletable": false,
    "editable": false
   },
   "source": [
    "## Submissão\n",
    "\n",
    "Certifique-se de ter executado todas as células em seu notebook em ordem antes de executar a célula abaixo, para que todas as imagens/gráficos apareçam na saída. A célula abaixo irá gerar um arquivo zip para você enviar. **Por favor, salve antes de exportar!**"
   ]
  },
  {
   "cell_type": "code",
   "execution_count": null,
   "metadata": {
    "deletable": false,
    "editable": false
   },
   "outputs": [],
   "source": [
    "# Primeiro salve seu notebook, depois execute esta célula para exportar sua submissão.\n",
    "\n",
    "grader.export(pdf=False, run_tests=True)"
   ]
  },
  {
   "cell_type": "markdown",
   "metadata": {},
   "source": [
    " "
   ]
  }
 ],
 "metadata": {
  "kernelspec": {
   "display_name": "Python 3",
   "language": "python",
   "name": "python3"
  },
  "language_info": {
   "codemirror_mode": {
    "name": "ipython",
    "version": 3
   },
   "file_extension": ".py",
   "mimetype": "text/x-python",
   "name": "python",
   "nbconvert_exporter": "python",
   "pygments_lexer": "ipython3",
   "version": "3.9.9"
  },
  "otter": {
   "OK_FORMAT": true,
   "tests": {
    "q11": {
     "name": "q11",
     "points": null,
     "suites": [
      {
       "cases": [
        {
         "code": ">>> new_year\n2022",
         "hidden": false,
         "locked": false
        }
       ],
       "scored": true,
       "setup": "",
       "teardown": "",
       "type": "doctest"
      }
     ]
    },
    "q21": {
     "name": "q21",
     "points": null,
     "suites": [
      {
       "cases": [
        {
         "code": ">>> round(near_twenty, 8)\n19.99909998",
         "hidden": false,
         "locked": false
        }
       ],
       "scored": true,
       "setup": "",
       "teardown": "",
       "type": "doctest"
      }
     ]
    },
    "q211": {
     "name": "q211",
     "points": null,
     "suites": [
      {
       "cases": [
        {
         "code": ">>> import math\n>>> floor_of_pi == 3\nTrue",
         "hidden": false,
         "locked": false
        }
       ],
       "scored": true,
       "setup": "",
       "teardown": "",
       "type": "doctest"
      }
     ]
    },
    "q32": {
     "name": "q32",
     "points": null,
     "suites": [
      {
       "cases": [
        {
         "code": ">>> num_farmers_markets_columns == 59\nTrue",
         "hidden": false,
         "locked": false
        }
       ],
       "scored": true,
       "setup": "",
       "teardown": "",
       "type": "doctest"
      }
     ]
    },
    "q33": {
     "name": "q33",
     "points": null,
     "suites": [
      {
       "cases": [
        {
         "code": ">>> sorted(farmers_markets_locations.labels)\n['MarketName', 'State', 'city', 'x', 'y']",
         "hidden": false,
         "locked": false
        },
        {
         "code": ">>> farmers_markets_locations.num_rows == 8546\nTrue",
         "hidden": false,
         "locked": false
        }
       ],
       "scored": true,
       "setup": "",
       "teardown": "",
       "type": "doctest"
      }
     ]
    },
    "q34": {
     "name": "q34",
     "points": null,
     "suites": [
      {
       "cases": [
        {
         "code": ">>> farmers_markets_without_fmid.num_columns\n57",
         "hidden": false,
         "locked": false
        },
        {
         "code": ">>> print(sorted(farmers_markets_without_fmid.labels))\n['Bakedgoods', 'Beans', 'Cheese', 'Coffee', 'County', 'Crafts', 'Credit', 'Eggs', 'Facebook', 'Flowers', 'Fruits', 'Grains', 'Herbs', 'Honey', 'Jams', 'Juices', 'Location', 'Maple', 'MarketName', 'Meat', 'Mushrooms', 'Nursery', 'Nuts', 'Organic', 'OtherMedia', 'PetFood', 'Plants', 'Poultry', 'Prepared', 'SFMNP', 'SNAP', 'Seafood', 'Season1Date', 'Season1Time', 'Season2Date', 'Season2Time', 'Season3Date', 'Season3Time', 'Season4Date', 'Season4Time', 'Soap', 'State', 'Tofu', 'Trees', 'Twitter', 'Vegetables', 'WIC', 'WICcash', 'Website', 'WildHarvested', 'Wine', 'Youtube', 'city', 'street', 'x', 'y', 'zip']\n",
         "hidden": false,
         "locked": false
        }
       ],
       "scored": true,
       "setup": "",
       "teardown": "",
       "type": "doctest"
      }
     ]
    },
    "q35": {
     "name": "q35",
     "points": null,
     "suites": [
      {
       "cases": [
        {
         "code": ">>> type(farmers_markets_locations_by_latitude) == tables.Table\nTrue",
         "hidden": false,
         "locked": false
        },
        {
         "code": ">>> # HINT: Check the order of your table. \n>>> list(np.round(list(farmers_markets_locations_by_latitude.column('y').take(range(3))),6)) == [64.86275, 64.8459, 64.844414]\nTrue",
         "hidden": false,
         "locked": false
        }
       ],
       "scored": true,
       "setup": "",
       "teardown": "",
       "type": "doctest"
      }
     ]
    },
    "q36": {
     "name": "q36",
     "points": null,
     "suites": [
      {
       "cases": [
        {
         "code": ">>> berkeley_markets.num_rows == 3\nTrue",
         "hidden": false,
         "locked": false
        },
        {
         "code": ">>> list(berkeley_markets.column('city')) == ['Berkeley', 'Berkeley', 'Berkeley']\nTrue",
         "hidden": false,
         "locked": false
        }
       ],
       "scored": true,
       "setup": "",
       "teardown": "",
       "type": "doctest"
      }
     ]
    },
    "q41": {
     "name": "q41",
     "points": null,
     "suites": [
      {
       "cases": [
        {
         "code": ">>> type(above_eight) == tables.Table\nTrue",
         "hidden": false,
         "locked": false
        },
        {
         "code": ">>> above_eight.num_rows == 20\nTrue",
         "hidden": false,
         "locked": false
        },
        {
         "code": ">>> # Make sure your columns are in the right order!\n>>> # First column should be 'Title', second column should be 'Rating'\n>>> print(above_eight.sort(0).take([17]))\nTitle       | Rating\nToy Story 3 | 8.3\n",
         "hidden": false,
         "locked": false
        }
       ],
       "scored": true,
       "setup": "",
       "teardown": "",
       "type": "doctest"
      }
     ]
    },
    "q42": {
     "name": "q42",
     "points": null,
     "suites": [
      {
       "cases": [
        {
         "code": ">>> proportion_in_20th_century == 0.684\nTrue",
         "hidden": false,
         "locked": false
        },
        {
         "code": ">>> proportion_in_21st_century == 0.316\nTrue",
         "hidden": false,
         "locked": false
        }
       ],
       "scored": true,
       "setup": "",
       "teardown": "",
       "type": "doctest"
      }
     ]
    }
   }
  }
 },
 "nbformat": 4,
 "nbformat_minor": 5
}
