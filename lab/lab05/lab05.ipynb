{
 "cells": [
  {
   "cell_type": "code",
   "execution_count": null,
   "metadata": {
    "deletable": false,
    "editable": false
   },
   "outputs": [],
   "source": [
    "# Inicialize o Otter\n",
    "import otter\n",
    "grader = otter.Notebook(\"lab05.ipynb\")"
   ]
  },
  {
   "cell_type": "markdown",
   "metadata": {},
   "source": [
    "# Laboratório 5: Simulações\n",
    "\n",
    "Bem-vindo ao Laboratório 5!\n",
    "\n",
    "Vamos revisar [iteração](https://www.inferentialthinking.com/chapters/09/2/Iteration.html) e [simulações](https://www.inferentialthinking.com/chapters/09/3/Simulation.html), além de introduzir o conceito de [aleatoriedade](https://www.inferentialthinking.com/chapters/09/Randomness.html).\n",
    "\n",
    "Os dados usados neste laboratório conterão dados de salário e outras estatísticas para jogadores de basquete da temporada 2014-2015 da NBA. Esses dados foram coletados nos seguintes sites de análise esportiva: [Basketball Reference](http://www.basketball-reference.com) e [Spotrac](http://www.spotrac.com).\n",
    "\n",
    "**Submissão**: Quando terminar, execute todas as células, exceto a última, selecione Arquivo > Salvar Notebook e, em seguida, execute a célula final. Em seguida, envie o arquivo zip baixado, que inclui seu notebook, de acordo com as instruções do seu instrutor.\n",
    "\n",
    "Primeiro, configure o notebook executando a célula abaixo."
   ]
  },
  {
   "cell_type": "code",
   "execution_count": null,
   "metadata": {},
   "outputs": [],
   "source": [
    "# Execute esta célula, mas por favor não a altere.\n",
    "\n",
    "# Essas linhas importam os módulos Numpy e Datascience.\n",
    "import numpy as np\n",
    "from datascience import *\n",
    "\n",
    "# Essas linhas fazem alguma mágica de plotagem sofisticada\n",
    "import matplotlib\n",
    "%matplotlib inline\n",
    "import matplotlib.pyplot as plt\n",
    "plt.style.use('fivethirtyeight')\n",
    "\n",
    "import d8error"
   ]
  },
  {
   "cell_type": "markdown",
   "metadata": {},
   "source": [
    "## 1. Nachos e Condicionais"
   ]
  },
  {
   "cell_type": "markdown",
   "metadata": {},
   "source": [
    "Em Python, o tipo de dados booleano contém apenas dois valores únicos: `True` e `False`. Expressões contendo operadores de comparação como `<` (menor que), `>` (maior que) e `==` (igual a) avaliam para valores Booleanos. Uma lista de operadores de comparação comuns pode ser encontrada abaixo!\n",
    "\n",
    "<img src=\"comparisons.png\">"
   ]
  },
  {
   "cell_type": "markdown",
   "metadata": {},
   "source": [
    "Execute a célula abaixo para ver um exemplo de um operador de comparação em ação."
   ]
  },
  {
   "cell_type": "code",
   "execution_count": null,
   "metadata": {},
   "outputs": [],
   "source": [
    "3 > (1 + 1)"
   ]
  },
  {
   "cell_type": "markdown",
   "metadata": {},
   "source": [
    "Podemos até atribuir o resultado de uma operação de comparação a uma variável."
   ]
  },
  {
   "cell_type": "code",
   "execution_count": null,
   "metadata": {},
   "outputs": [],
   "source": [
    "result = 10 / 2 == 5\n",
    "result"
   ]
  },
  {
   "cell_type": "markdown",
   "metadata": {},
   "source": [
    "Arrays são compatíveis com operadores de comparação. A saída é um array de valores booleanos."
   ]
  },
  {
   "cell_type": "code",
   "execution_count": null,
   "metadata": {},
   "outputs": [],
   "source": [
    "make_array(1, 5, 7, 8, 3, -1) > 3"
   ]
  },
  {
   "cell_type": "markdown",
   "metadata": {},
   "source": [
    "Um dia, quando você chega em casa após uma longa semana, você vê uma tigela quente de nachos esperando na mesa de jantar! Vamos dizer que sempre que você pega um nacho da tigela, ele terá apenas **queijo**, apenas **salsa**, **ambos** queijo e salsa, ou **nem** queijo nem salsa (um triste nacho de tortilla, de fato).\n",
    "\n",
    "Vamos tentar simular pegar nachos da tigela aleatoriamente usando a função, `np.random.choice(...)`."
   ]
  },
  {
   "cell_type": "markdown",
   "metadata": {},
   "source": [
    "### `np.random.choice`\n",
    "\n",
    "`np.random.choice` escolhe um item aleatoriamente do array fornecido. É igualmente provável escolher qualquer um dos itens. Execute a célula abaixo várias vezes e observe como os resultados mudam."
   ]
  },
  {
   "cell_type": "code",
   "execution_count": null,
   "metadata": {},
   "outputs": [],
   "source": [
    "nachos = make_array('cheese', 'salsa', 'both', 'neither')\n",
    "np.random.choice(nachos)"
   ]
  },
  {
   "cell_type": "markdown",
   "metadata": {},
   "source": [
    "Para repetir este processo várias vezes, passe um inteiro `n` como o segundo argumento para retornar `n` escolhas aleatórias diferentes. Por padrão, `np.random.choice` amostra **com reposição** e retorna um *array* de itens. Amostragem **com reposição** significa que se amostrarmos `n` vezes, cada vez, cada elemento tem uma chance igual de ser selecionado.\n",
    "\n",
    "Execute a próxima célula para ver um exemplo de amostragem com reposição 10 vezes a partir do array `nachos`."
   ]
  },
  {
   "cell_type": "code",
   "execution_count": null,
   "metadata": {},
   "outputs": [],
   "source": [
    "np.random.choice(nachos, 10)"
   ]
  },
  {
   "cell_type": "markdown",
   "metadata": {},
   "source": [
    "Para contar o número de vezes que um certo tipo de nacho é escolhido aleatoriamente, podemos usar `np.count_nonzero`."
   ]
  },
  {
   "cell_type": "markdown",
   "metadata": {},
   "source": [
    "### `np.count_nonzero`\n",
    "\n",
    "`np.count_nonzero` conta o número de valores não zero que aparecem em um array. Quando um array de valores booleanos é passado pela função, ele contará o número de valores `True` (lembre-se de que em Python, `True` é codificado como 1 e `False` é codificado como 0.)\n",
    "\n",
    "Execute a próxima célula para ver um exemplo que usa `np.count_nonzero`."
   ]
  },
  {
   "cell_type": "code",
   "execution_count": null,
   "metadata": {},
   "outputs": [],
   "source": [
    "np.count_nonzero(make_array(True, False, False, True, True))"
   ]
  },
  {
   "cell_type": "markdown",
   "metadata": {},
   "source": [
    "**Questão 1.1** Suponha que pegamos dez nachos aleatoriamente e armazenamos os resultados em um array chamado `ten_nachos`, conforme feito abaixo. Encontre o número de nachos com apenas queijo usando código (não codifique a resposta diretamente).\n",
    "\n",
    "*Dica:* Nossa solução envolve um operador de comparação (por exemplo, `==`, `<`, ...) e o método `np.count_nonzero`.\n"
   ]
  },
  {
   "cell_type": "code",
   "execution_count": null,
   "metadata": {
    "tags": []
   },
   "outputs": [],
   "source": [
    "ten_nachos = make_array('neither', 'cheese', 'both', 'both', 'cheese', 'salsa', 'both', 'neither', 'cheese', 'both')\n",
    "number_cheese = ...\n",
    "number_cheese"
   ]
  },
  {
   "cell_type": "code",
   "execution_count": null,
   "metadata": {
    "deletable": false,
    "editable": false
   },
   "outputs": [],
   "source": [
    "grader.check(\"q11\")"
   ]
  },
  {
   "cell_type": "markdown",
   "metadata": {},
   "source": [
    "**Declarações Condicionais**\n",
    "\n",
    "Uma declaração condicional é uma declaração de várias linhas que permite ao Python escolher entre diferentes alternativas com base no valor verdade de uma expressão.\n",
    "\n",
    "Aqui está um exemplo básico.\n",
    "\n",
    "```\n",
    "def sign(x):\n",
    "    if x > 0:\n",
    "        return 'Positivo'\n",
    "    else:\n",
    "        return 'Negativo'\n",
    "```\n",
    "\n",
    "Se a entrada `x` for maior que `0`, retornamos a string `'Positivo'`. Caso contrário, retornamos `'Negativo'`.\n",
    "\n",
    "Se quisermos testar várias condições de uma vez, usamos o seguinte formato geral.\n",
    "\n",
    "```\n",
    "if <expressão if>:\n",
    "    <corpo if>\n",
    "elif <expressão elif 0>:\n",
    "    <corpo elif 0>\n",
    "elif <expressão elif 1>:\n",
    "    <corpo elif 1>\n",
    "...\n",
    "else:\n",
    "    <corpo else>\n",
    "```\n",
    "\n",
    "Apenas o corpo da primeira expressão condicional que é verdadeira será avaliada. Cada expressão `if` e `elif` é avaliada e considerada em ordem, começando do topo. `elif` só pode ser usado se uma cláusula `if` a preceder. Assim que um valor verdadeiro é encontrado, o corpo correspondente é executado, e o resto da declaração condicional é ignorado. Se nenhuma das expressões `if` ou `elif` for verdadeira, então o `corpo else` é executado.\n",
    "\n",
    "Para mais exemplos e explicações, consulte a seção sobre declarações condicionais [aqui](https://inferentialthinking.com/chapters/09/1/Conditional_Statements.html)."
   ]
  },
  {
   "cell_type": "markdown",
   "metadata": {},
   "source": [
    "**Questão 1.2** Complete a seguinte declaração condicional para que a string `'More please'` seja atribuída à variável `say_please` se o número de nachos com queijo em `ten_nachos` for menor que `5`. Use a declaração if para fazer isso (não reatribua diretamente a variável `say_please`).\n",
    "\n",
    "*Dica*: Você deve usar `number_cheese` da Questão 1.\n"
   ]
  },
  {
   "cell_type": "code",
   "execution_count": null,
   "metadata": {
    "for_assignment_type": "student",
    "tags": []
   },
   "outputs": [],
   "source": [
    "say_please = '?'\n",
    "\n",
    "if ...:\n",
    "    say_please = 'More please'\n",
    "say_please"
   ]
  },
  {
   "cell_type": "code",
   "execution_count": null,
   "metadata": {
    "deletable": false,
    "editable": false
   },
   "outputs": [],
   "source": [
    "grader.check(\"q12\")"
   ]
  },
  {
   "cell_type": "markdown",
   "metadata": {},
   "source": [
    "**Questão 1.3** Escreva uma função chamada `nacho_reaction` que retorna uma reação (como uma string) com base no tipo de nacho passado como argumento. Use a tabela abaixo para combinar o tipo de nacho com a reação apropriada.\n",
    "\n",
    "<img src=\"nacho_reactions.png\">\n",
    "\n",
    "*Dica:* Se você está falhando no teste, verifique novamente a ortografia de suas reações.\n"
   ]
  },
  {
   "cell_type": "code",
   "execution_count": null,
   "metadata": {
    "for_assignment_type": "student",
    "tags": []
   },
   "outputs": [],
   "source": [
    "def nacho_reaction(nacho):\n",
    "    if nacho == \"cheese\":\n",
    "        return ...\n",
    "    ... :\n",
    "        ...\n",
    "    ... :\n",
    "        ...\n",
    "    ... :\n",
    "        ...\n",
    "\n",
    "spicy_nacho = nacho_reaction('salsa')\n",
    "spicy_nacho"
   ]
  },
  {
   "cell_type": "code",
   "execution_count": null,
   "metadata": {
    "deletable": false,
    "editable": false
   },
   "outputs": [],
   "source": [
    "grader.check(\"q13\")"
   ]
  },
  {
   "cell_type": "markdown",
   "metadata": {},
   "source": [
    "**Questão 1.4** Crie uma tabela `ten_nachos_reactions` que consiste nos nachos em `ten_nachos` bem como as reações para cada um desses nachos. As colunas devem ser chamadas `Nachos` e `Reactions`.\n",
    "\n",
    "*Dica:* Use o método `apply`.\n"
   ]
  },
  {
   "cell_type": "code",
   "execution_count": null,
   "metadata": {
    "for_assignment_type": "student",
    "tags": []
   },
   "outputs": [],
   "source": [
    "ten_nachos_tbl = Table().with_column('Nachos', ten_nachos)\n",
    "ten_nachos_reactions = ...\n",
    "ten_nachos_reactions"
   ]
  },
  {
   "cell_type": "code",
   "execution_count": null,
   "metadata": {
    "deletable": false,
    "editable": false
   },
   "outputs": [],
   "source": [
    "grader.check(\"q14\")"
   ]
  },
  {
   "cell_type": "markdown",
   "metadata": {},
   "source": [
    "**Questão 1.5** Usando código, encontre o número de reações 'Wow!' para os nachos em `ten_nachos_reactions`."
   ]
  },
  {
   "cell_type": "code",
   "execution_count": null,
   "metadata": {
    "tags": []
   },
   "outputs": [],
   "source": [
    "number_wow_reactions = ...\n",
    "number_wow_reactions"
   ]
  },
  {
   "cell_type": "code",
   "execution_count": null,
   "metadata": {
    "deletable": false,
    "editable": false
   },
   "outputs": [],
   "source": [
    "grader.check(\"q15\")"
   ]
  },
  {
   "cell_type": "markdown",
   "metadata": {},
   "source": [
    "## 2. Simulações e Laços For\n",
    "Usando uma instrução `for`, podemos realizar uma tarefa várias vezes. Isso é conhecido como iteração. A estrutura geral de um laço for é:\n",
    "\n",
    "`for <placeholder> in <array>:` seguido por linhas de código indentadas que são repetidas para cada elemento do `array` sendo iterado. Você pode ler mais sobre laços for [aqui](https://www.inferentialthinking.com/chapters/09/2/Iteration.html).\n",
    "\n",
    "**NOTA:** Muitas vezes usamos `i` como o `placeholder` em nossos exemplos de classe, mas você pode nomeá-lo como quiser! Alguns exemplos podem ser encontrados abaixo."
   ]
  },
  {
   "cell_type": "markdown",
   "metadata": {},
   "source": [
    "Um uso da iteração é percorrer um conjunto de valores. Por exemplo, podemos imprimir todas as cores do arco-íris."
   ]
  },
  {
   "cell_type": "code",
   "execution_count": null,
   "metadata": {},
   "outputs": [],
   "source": [
    "rainbow = make_array(\"red\", \"orange\", \"yellow\", \"green\", \"blue\", \"indigo\", \"violet\")\n",
    "\n",
    "for color in rainbow:\n",
    "    print(color)"
   ]
  },
  {
   "cell_type": "markdown",
   "metadata": {},
   "source": [
    "Podemos ver que a parte indentada do loop `for`, conhecida como corpo, é executada uma vez para cada item em `rainbow`. O nome `color` é atribuído ao próximo valor em `rainbow` no início de cada iteração. Note que o nome `color` é arbitrário; poderíamos facilmente ter nomeado algo diferente. O importante é que sejamos consistentes em todo o loop `for`."
   ]
  },
  {
   "cell_type": "code",
   "execution_count": null,
   "metadata": {},
   "outputs": [],
   "source": [
    "for another_name in rainbow:\n",
    "    print(another_name)"
   ]
  },
  {
   "cell_type": "markdown",
   "metadata": {},
   "source": [
    "Em geral, no entanto, gostaríamos que o nome da variável fosse um pouco informativo."
   ]
  },
  {
   "cell_type": "markdown",
   "metadata": {},
   "source": [
    "**Questão 2.1** Na célula a seguir, carregamos o texto de _Orgulho e Preconceito_ de Jane Austen, dividimos em palavras individuais e armazenamos essas palavras em um array `p_and_p_words`. Usando um loop `for`, atribua a `longer_than_five` o número de palavras no romance que têm mais de 5 letras.\n",
    "\n",
    "*Dica*: Você pode encontrar o número de letras em uma palavra com a função `len`.\n",
    "\n",
    "*Dica*: Como você pode usar `longer_than_five` para acompanhar o número de palavras que têm mais de cinco letras?"
   ]
  },
  {
   "cell_type": "code",
   "execution_count": null,
   "metadata": {
    "for_assignment_type": "student",
    "tags": []
   },
   "outputs": [],
   "source": [
    "austen_string = open('Austen_PrideAndPrejudice.txt', encoding='utf-8').read()\n",
    "p_and_p_words = np.array(austen_string.split())\n",
    "\n",
    "longer_than_five = ...\n",
    "\n",
    "for ... in ...:\n",
    "    ...\n",
    "longer_than_five"
   ]
  },
  {
   "cell_type": "code",
   "execution_count": null,
   "metadata": {
    "deletable": false,
    "editable": false
   },
   "outputs": [],
   "source": [
    "grader.check(\"q21\")"
   ]
  },
  {
   "cell_type": "markdown",
   "metadata": {},
   "source": [
    "Outra maneira de usarmos loops `for` é repetir linhas de código muitas vezes. Lembre-se da estrutura de um loop `for`:\n",
    "\n",
    "`for <placeholder> in <array>:` seguido por linhas de código indentadas que são repetidas para cada elemento do array sendo iterado.\n",
    "\n",
    "Às vezes, não nos importamos com o valor do placeholder. Em vez disso, aproveitamos o fato de que o loop `for` se repetirá tantas vezes quanto o comprimento do nosso array. Na célula a seguir, iteramos através de um array de comprimento 5 e imprimimos \"Hello, world!\" em cada iteração."
   ]
  },
  {
   "cell_type": "code",
   "execution_count": null,
   "metadata": {},
   "outputs": [],
   "source": [
    "for i in np.arange(5):\n",
    "    print(\"Hello, world!\")"
   ]
  },
  {
   "cell_type": "markdown",
   "metadata": {},
   "source": [
    "**Questão 2.2** Usando uma simulação com 10.000 testes, atribua `num_different` ao número de vezes, em 10.000 testes, que duas palavras escolhidas uniformemente ao acaso (com reposição) de Orgulho e Preconceito têm comprimentos diferentes.\n",
    "\n",
    "*Dica 1*: Que função usamos na seção 1 para amostrar aleatoriamente com reposição de um array?\n",
    "\n",
    "*Dica 2*: Lembre-se de que `!=` verifica a não igualdade entre dois itens."
   ]
  },
  {
   "cell_type": "code",
   "execution_count": null,
   "metadata": {
    "for_assignment_type": "student",
    "tags": []
   },
   "outputs": [],
   "source": [
    "trials = 10000\n",
    "num_different = ...\n",
    "\n",
    "for ... in ...:\n",
    "    ...\n",
    "num_different"
   ]
  },
  {
   "cell_type": "code",
   "execution_count": null,
   "metadata": {
    "deletable": false,
    "editable": false
   },
   "outputs": [],
   "source": [
    "grader.check(\"q22\")"
   ]
  },
  {
   "cell_type": "markdown",
   "metadata": {},
   "source": [
    "## 3. Amostragem de Dados de Basquete\n",
    "\n",
    "Agora vamos introduzir o tópico de amostragem, que discutiremos com mais profundidade nas palestras desta semana. Vamos orientá-lo através deste código, mas se você deseja ler mais sobre diferentes tipos de amostras antes de tentar esta questão, você pode conferir [a seção 10 do livro didático](https://www.inferentialthinking.com/chapters/10/Sampling_and_Empirical_Distributions.html).\n",
    "\n",
    "Execute a célula abaixo para carregar os dados do jogador e do salário que usaremos para nossa amostragem."
   ]
  },
  {
   "cell_type": "code",
   "execution_count": null,
   "metadata": {},
   "outputs": [],
   "source": [
    "player_data = Table().read_table(\"player_data.csv\")\n",
    "salary_data = Table().read_table(\"salary_data.csv\")\n",
    "full_data = salary_data.join(\"PlayerName\", player_data, \"Name\")\n",
    "\n",
    "# O método show exibe imediatamente o conteúdo de uma tabela.\n",
    "# Desta forma, podemos exibir o topo de duas tabelas usando uma única célula.\n",
    "player_data.show(3)\n",
    "salary_data.show(3)\n",
    "full_data.show(3)"
   ]
  },
  {
   "cell_type": "markdown",
   "metadata": {},
   "source": [
    "Em vez de obter dados sobre todos os jogadores (como nas tabelas carregadas acima), imagine que tivéssemos obtido dados apenas de um subconjunto menor de jogadores. Para 492 jogadores, não é tão irracional esperar ver todos os dados, mas geralmente não temos tanta sorte.\n",
    "\n",
    "Se quisermos fazer estimativas sobre uma certa propriedade numérica da população, podemos ter que elaborar essas estimativas com base apenas em uma amostra menor. A propriedade numérica da população é conhecida como um parâmetro, e a estimativa é conhecida como uma estatística (por exemplo, a média ou mediana). Se essas estimativas são úteis ou não, muitas vezes depende de como a amostra foi coletada. Preparamos alguns conjuntos de dados de amostra de exemplo para ver como eles se comparam ao conjunto de dados completo da NBA. Mais tarde, pediremos que você crie suas próprias amostras para ver como elas se comportam."
   ]
  },
  {
   "cell_type": "markdown",
   "metadata": {},
   "source": [
    "Para economizar digitação e aumentar a clareza do seu código, vamos empacotar o código de análise em algumas funções. Isso será útil no restante do laboratório, pois precisaremos repetidamente criar histogramas e coletar estatísticas resumidas a partir desses dados."
   ]
  },
  {
   "cell_type": "markdown",
   "metadata": {},
   "source": [
    "Definimos a função `histograms` abaixo, que recebe uma tabela com colunas `Age` e `Salary` e desenha um histograma para cada uma. Ela usa larguras de bin de 1 ano para `Age` e $1.000.000 para `Salary`."
   ]
  },
  {
   "cell_type": "code",
   "execution_count": null,
   "metadata": {
    "scrolled": true
   },
   "outputs": [],
   "source": [
    "def histograms(t):\n",
    "    ages = t.column('Age')\n",
    "    salaries = t.column('Salary')/1000000\n",
    "    t1 = t.drop('Salary').with_column('Salary', salaries)\n",
    "    age_bins = np.arange(min(ages), max(ages) + 2, 1) \n",
    "    salary_bins = np.arange(min(salaries), max(salaries) + 1, 1)\n",
    "    t1.hist('Age', bins=age_bins, unit='year')\n",
    "    plt.title('Age distribution')\n",
    "    t1.hist('Salary', bins=salary_bins, unit='million dollars')\n",
    "    plt.title('Salary distribution') \n",
    "    \n",
    "histograms(full_data)\n",
    "print('Two histograms should be displayed below')"
   ]
  },
  {
   "cell_type": "markdown",
   "metadata": {},
   "source": [
    "**Questão 3.1**. Crie uma função chamada `compute_statistics` que recebe uma tabela contendo uma coluna \"Age\" e uma coluna \"Salary\" e:\n",
    "- Desenha um histograma de idades\n",
    "- Desenha um histograma de salários\n",
    "- Retorna um array de dois elementos contendo a idade média e o salário médio (nessa ordem)\n",
    "\n",
    "Você pode chamar a função `histograms` para desenhar os histogramas!\n",
    "\n",
    "*Nota:* Mais gráficos serão exibidos ao executar a célula de teste. Sinta-se à vontade para ignorar os gráficos."
   ]
  },
  {
   "cell_type": "code",
   "execution_count": null,
   "metadata": {
    "tags": []
   },
   "outputs": [],
   "source": [
    "def compute_statistics(age_and_salary_data):\n",
    "    ...\n",
    "    age = ...\n",
    "    salary = ...\n",
    "    ...\n",
    "    \n",
    "\n",
    "full_stats = compute_statistics(full_data)\n",
    "full_stats"
   ]
  },
  {
   "cell_type": "code",
   "execution_count": null,
   "metadata": {
    "deletable": false,
    "editable": false
   },
   "outputs": [],
   "source": [
    "grader.check(\"q31\")"
   ]
  },
  {
   "cell_type": "markdown",
   "metadata": {},
   "source": [
    "### Amostragem aleatória simples\n",
    "Uma abordagem mais justificável é amostrar uniformemente ao acaso dos jogadores. Em uma **amostra aleatória simples (SRS) sem reposição**, garantimos que cada jogador seja selecionado no máximo uma vez. Imagine escrever o nome de cada jogador em um cartão, colocar os cartões em uma caixa e embaralhar a caixa. Em seguida, retire os cartões um a um e reserve-os, parando quando o tamanho da amostra especificado for atingido."
   ]
  },
  {
   "cell_type": "markdown",
   "metadata": {},
   "source": [
    "### Produzindo amostras aleatórias simples\n",
    "Às vezes, é útil tirar amostras aleatórias mesmo quando temos os dados de toda a população. Isso nos ajuda a entender a precisão da amostragem.\n",
    "\n",
    "### `sample`\n",
    "\n",
    "O método de tabela `sample` produz uma amostra aleatória da tabela. Por padrão, ele seleciona aleatoriamente **com reposição** das linhas de uma tabela. A amostragem com reposição significa que para qualquer linha selecionada aleatoriamente, há uma chance de que ela possa ser selecionada novamente se amostrarmos várias vezes. `Sample` recebe o tamanho da amostra como argumento e retorna uma **tabela** apenas com as linhas que foram selecionadas.\n",
    "\n",
    "Execute a célula abaixo para ver um exemplo de chamada para `sample()` com um tamanho de amostra de 5, com reposição."
   ]
  },
  {
   "cell_type": "code",
   "execution_count": null,
   "metadata": {},
   "outputs": [],
   "source": [
    "# Apenas execute esta célula\n",
    "\n",
    "salary_data.sample(5)"
   ]
  },
  {
   "cell_type": "markdown",
   "metadata": {},
   "source": [
    "O argumento opcional `with_replacement=False` pode ser passado para `sample()` para especificar que a amostra deve ser retirada sem reposição.\n",
    "\n",
    "Execute a célula abaixo para ver um exemplo de chamada para `sample()` com um tamanho de amostra de 5, sem reposição."
   ]
  },
  {
   "cell_type": "code",
   "execution_count": null,
   "metadata": {},
   "outputs": [],
   "source": [
    "# Apenas execute esta célula\n",
    "\n",
    "salary_data.sample(5, with_replacement=False)"
   ]
  },
  {
   "cell_type": "markdown",
   "metadata": {},
   "source": [
    "**Questão 3.2** Produza uma amostra aleatória simples **sem** reposição de tamanho **44** a partir de `full_data`. Em seguida, execute novamente sua análise usando a função `compute_statistics`. Execute a célula algumas vezes para ver como os histogramas e as estatísticas mudam entre diferentes amostras.\n",
    "\n",
    "- Quanto a idade média muda entre as amostras?\n",
    "- E quanto ao salário médio?\n",
    "\n",
    "(FYI: srs = amostra aleatória simples, wor = sem reposição)"
   ]
  },
  {
   "cell_type": "markdown",
   "metadata": {},
   "source": [
    "_Digite sua resposta aqui, substituindo este texto._"
   ]
  },
  {
   "cell_type": "markdown",
   "metadata": {},
   "source": [
    "<!-- BEGIN QUESTION -->\n",
    "\n"
   ]
  },
  {
   "cell_type": "code",
   "execution_count": null,
   "metadata": {
    "tags": []
   },
   "outputs": [],
   "source": [
    "my_small_srswor_data = ...\n",
    "my_small_stats = ...\n",
    "my_small_stats"
   ]
  },
  {
   "cell_type": "markdown",
   "metadata": {},
   "source": [
    "<!-- END QUESTION -->\n",
    "\n",
    "## 4. Mais prática de amostragem aleatória\n",
    "\n",
    "Mais prática para amostragem aleatória usando `np.random.choice`."
   ]
  },
  {
   "cell_type": "markdown",
   "metadata": {},
   "source": [
    "### Simulações e Laços For (continuação)"
   ]
  },
  {
   "cell_type": "markdown",
   "metadata": {},
   "source": [
    "**Questão 4.1** Podemos usar `np.random.choice` para simular vários testes.\n",
    "\n",
    "Após terminar o projeto de Data 8, Stephanie decide passar o resto da noite jogando um dado padrão de seis lados. Ela quer saber qual seria sua pontuação total se jogasse o dado 1000 vezes. Escreva um código que simule sua pontuação total após 1000 jogadas.\n",
    "\n",
    "*Dica:* Primeiro decida os possíveis valores que você pode obter no experimento (valores de pontos neste caso). Em seguida, use `np.random.choice` para simular as jogadas de Stephanie. Finalmente, some as jogadas para obter a pontuação total de Stephanie."
   ]
  },
  {
   "cell_type": "code",
   "execution_count": null,
   "metadata": {
    "tags": []
   },
   "outputs": [],
   "source": [
    "possible_point_values = ...\n",
    "num_tosses = 1000\n",
    "simulated_tosses = ...\n",
    "total_score = ...\n",
    "total_score"
   ]
  },
  {
   "cell_type": "code",
   "execution_count": null,
   "metadata": {
    "deletable": false,
    "editable": false
   },
   "outputs": [],
   "source": [
    "grader.check(\"q41\")"
   ]
  },
  {
   "cell_type": "markdown",
   "metadata": {},
   "source": [
    "### Amostragem aleatória simples (continuação)"
   ]
  },
  {
   "cell_type": "markdown",
   "metadata": {},
   "source": [
    "**Questão 4.2** Como na questão anterior, analise várias amostras aleatórias simples de tamanho 100 de `full_data` usando a função `compute_statistics`.\n",
    "- As formas do histograma parecem mudar mais ou menos entre amostras de 100 do que entre amostras de tamanho 44?\n",
    "- As médias da amostra e os histogramas estão mais próximos de seus valores/forma verdadeiros para idade ou para salário? O que você esperava ver?"
   ]
  },
  {
   "cell_type": "markdown",
   "metadata": {},
   "source": [
    "_Digite sua resposta aqui, substituindo este texto._"
   ]
  },
  {
   "cell_type": "markdown",
   "metadata": {},
   "source": [
    "<!-- BEGIN QUESTION -->\n",
    "\n"
   ]
  },
  {
   "cell_type": "code",
   "execution_count": null,
   "metadata": {
    "tags": []
   },
   "outputs": [],
   "source": [
    "my_large_srswor_data = ...\n",
    "my_large_stats = ...\n",
    "my_large_stats"
   ]
  },
  {
   "cell_type": "markdown",
   "metadata": {},
   "source": [
    "## 5. Submissão\n",
    "<img src=\"luke_leia.jpg\" alt=\"drawing\" width=\"300\"/>\n",
    "\n",
    "Luke & Leia querem parabenizá-lo por terminar o laboratório 5!\n",
    "\n",
    "<img src=\"luke.jpg\" alt=\"drawing\" width=\"300\"/>\n",
    "\n",
    "**Passos importantes para a submissão:** \n",
    "1. Execute os testes e verifique se todos passaram.\n",
    "2. Escolha **Salvar Notebook** no menu **Arquivo**, então **execute a última célula**. \n",
    "3. Clique no link para baixar o arquivo zip.\n",
    "4. Em seguida, envie o arquivo zip para a tarefa correspondente de acordo com as instruções do seu professor. \n",
    "\n",
    "**É sua responsabilidade garantir que seu trabalho esteja salvo antes de executar a última célula.**"
   ]
  },
  {
   "cell_type": "markdown",
   "metadata": {
    "deletable": false,
    "editable": false
   },
   "source": [
    "## Submissão\n",
    "\n",
    "Certifique-se de ter executado todas as células em seu notebook em ordem antes de executar a célula abaixo, para que todas as imagens/gráficos apareçam na saída. A célula abaixo irá gerar um arquivo zip para você enviar. **Por favor, salve antes de exportar!**"
   ]
  },
  {
   "cell_type": "code",
   "execution_count": null,
   "metadata": {
    "deletable": false,
    "editable": false
   },
   "outputs": [],
   "source": [
    "# Primeiro salve seu notebook, depois execute esta célula para exportar sua submissão.\n",
    "grader.export(pdf=False, run_tests=True)"
   ]
  },
  {
   "cell_type": "markdown",
   "metadata": {},
   "source": [
    " "
   ]
  }
 ],
 "metadata": {
  "kernelspec": {
   "display_name": "Python 3 (ipykernel)",
   "language": "python",
   "name": "python3"
  },
  "language_info": {
   "codemirror_mode": {
    "name": "ipython",
    "version": 3
   },
   "file_extension": ".py",
   "mimetype": "text/x-python",
   "name": "python",
   "nbconvert_exporter": "python",
   "pygments_lexer": "ipython3",
   "version": "3.9.13"
  },
  "otter": {
   "OK_FORMAT": true,
   "tests": {
    "q11": {
     "name": "q11",
     "points": null,
     "suites": [
      {
       "cases": [
        {
         "code": ">>> number_cheese == 3\nTrue",
         "hidden": false,
         "locked": false
        }
       ],
       "scored": true,
       "setup": "",
       "teardown": "",
       "type": "doctest"
      }
     ]
    },
    "q12": {
     "name": "q12",
     "points": null,
     "suites": [
      {
       "cases": [
        {
         "code": ">>> say_please == 'More please'\nTrue",
         "hidden": false,
         "locked": false
        }
       ],
       "scored": true,
       "setup": "",
       "teardown": "",
       "type": "doctest"
      }
     ]
    },
    "q13": {
     "name": "q13",
     "points": null,
     "suites": [
      {
       "cases": [
        {
         "code": ">>> nacho_reaction('salsa')\n'Spicy!'",
         "hidden": false,
         "locked": false
        },
        {
         "code": ">>> nacho_reaction('cheese')\n'Cheesy!'",
         "hidden": false,
         "locked": false
        },
        {
         "code": ">>> nacho_reaction('both')\n'Wow!'",
         "hidden": false,
         "locked": false
        },
        {
         "code": ">>> nacho_reaction('neither')\n'Meh.'",
         "hidden": false,
         "locked": false
        }
       ],
       "scored": true,
       "setup": "",
       "teardown": "",
       "type": "doctest"
      }
     ]
    },
    "q14": {
     "name": "q14",
     "points": null,
     "suites": [
      {
       "cases": [
        {
         "code": ">>> # One or more of the reaction results could be incorrect\n>>> np.count_nonzero(ten_nachos_reactions.column('Reactions') == make_array('Meh.', 'Cheesy!', 'Wow!', 'Wow!', 'Cheesy!', 'Spicy!', 'Wow!', 'Meh.', 'Cheesy!', 'Wow!')) == 10\nTrue",
         "hidden": false,
         "locked": false
        }
       ],
       "scored": true,
       "setup": "",
       "teardown": "",
       "type": "doctest"
      }
     ]
    },
    "q15": {
     "name": "q15",
     "points": null,
     "suites": [
      {
       "cases": [
        {
         "code": ">>> 2 < number_wow_reactions < 6\nTrue",
         "hidden": false,
         "locked": false
        },
        {
         "code": ">>> # Incorrect value for number_wow_reactions\n>>> number_wow_reactions == 4\nTrue",
         "hidden": false,
         "locked": false
        }
       ],
       "scored": true,
       "setup": "",
       "teardown": "",
       "type": "doctest"
      }
     ]
    },
    "q21": {
     "name": "q21",
     "points": null,
     "suites": [
      {
       "cases": [
        {
         "code": ">>> longer_than_five == 35453\nTrue",
         "hidden": false,
         "locked": false
        }
       ],
       "scored": true,
       "setup": "",
       "teardown": "",
       "type": "doctest"
      }
     ]
    },
    "q22": {
     "name": "q22",
     "points": null,
     "suites": [
      {
       "cases": [
        {
         "code": ">>> 8100 <= num_different <= 9100\nTrue",
         "hidden": false,
         "locked": false
        }
       ],
       "scored": true,
       "setup": "",
       "teardown": "",
       "type": "doctest"
      }
     ]
    },
    "q31": {
     "name": "q31",
     "points": null,
     "suites": [
      {
       "cases": [
        {
         "code": ">>> stats = compute_statistics(full_data)\n>>> plt.close()\n>>> plt.close()\n>>> round(float(stats[0]), 2) == 26.54\nTrue",
         "hidden": false,
         "locked": false
        },
        {
         "code": ">>> stats = compute_statistics(full_data)\n>>> plt.close()\n>>> plt.close()\n>>> round(float(stats[1]), 2) == 4269775.77\nTrue",
         "hidden": false,
         "locked": false
        }
       ],
       "scored": true,
       "setup": "",
       "teardown": "",
       "type": "doctest"
      }
     ]
    },
    "q41": {
     "name": "q41",
     "points": null,
     "suites": [
      {
       "cases": [
        {
         "code": ">>> 3000 <= total_score <= 4000\nTrue",
         "hidden": false,
         "locked": false
        }
       ],
       "scored": true,
       "setup": "",
       "teardown": "",
       "type": "doctest"
      }
     ]
    }
   }
  }
 },
 "nbformat": 4,
 "nbformat_minor": 5
}
