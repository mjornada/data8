{
 "cells": [
  {
   "cell_type": "code",
   "execution_count": null,
   "metadata": {
    "deletable": false,
    "editable": false
   },
   "outputs": [],
   "source": [
    "# Inicialize o Otter\n",
    "import otter\n",
    "grader = otter.Notebook(\"lab10.ipynb\")"
   ]
  },
  {
   "cell_type": "markdown",
   "metadata": {},
   "source": [
    "# Laboratório 10: Probabilidade Condicional\n",
    "Bem-vindo ao Laboratório 10!\n",
    "\n",
    "Este laboratório é uma introdução às probabilidades condicionais.\n",
    "\n",
    "O laboratório inclui uma visualização chamada *array de ícones*. Ela é destinada a ser uma parte instrucional do laboratório para ajudar a construir intuições sobre a probabilidade condicional. Essas visualizações não aparecem no livro didático e não aparecerão em nenhum exame.\n",
    "\n",
    "**Submissão**: Uma vez que você tenha terminado, execute todas as células exceto a última, selecione Arquivo > Salvar Caderno, e então execute a célula final. Depois, submeta o arquivo zip baixado, que inclui seu caderno, de acordo com as instruções do seu instrutor.\n",
    "\n",
    "*Este conteúdo é protegido e não pode ser compartilhado, carregado ou distribuído.*"
   ]
  },
  {
   "cell_type": "code",
   "execution_count": null,
   "metadata": {},
   "outputs": [],
   "source": [
    "# Execute esta célula para configurar o caderno, mas por favor, não a altere.\n",
    "\n",
    "# Estas linhas importam os módulos Numpy e Datascience.\n",
    "import numpy as np\n",
    "from datascience import *\n",
    "\n",
    "# Estas linhas fazem alguma mágica de plotagem sofisticada.\n",
    "import matplotlib\n",
    "%matplotlib inline\n",
    "import matplotlib.pyplot as plt\n",
    "plt.style.use('fivethirtyeight')\n",
    "import warnings\n",
    "warnings.simplefilter('ignore')\n",
    "\n",
    "# Esta linha carrega o código de visualização para este laboratório.\n",
    "import visualizations\n",
    "\n",
    "import d8error"
   ]
  },
  {
   "cell_type": "markdown",
   "metadata": {},
   "source": [
    "# 1. Para que serve a probabilidade condicional?\n",
    "\n",
    "Suponha que temos uma população conhecida, como todos os cães na Califórnia. Até agora, vimos três maneiras de *prever* algo sobre um indivíduo dessa população, dado um conhecimento incompleto sobre a identidade do indivíduo:\n",
    "\n",
    "* Se não sabemos nada sobre o cão individual, poderíamos prever que sua velocidade é a *média* ou *mediana* de todas as velocidades na população.\n",
    "* Se conhecemos a altura do cão, mas não sua velocidade, poderíamos usar *regressão linear* para prever sua velocidade a partir de sua altura. A previsão resultante ainda é imperfeita, mas pode ser mais precisa do que a média da população.\n",
    "* Se conhecemos a raça, altura e idade do cão, poderíamos usar *classificação de vizinho mais próximo* para prever sua velocidade comparando-o a uma coleção de cães com velocidades conhecidas.\n",
    "\n",
    "Também podemos calcular probabilidades condicionais para fazer previsões sobre indivíduos ou eventos. Esta técnica é diferente dos métodos anteriores que examinamos porque\n",
    "\n",
    "1. nossa previsão para cada resultado é descrita por uma probabilidade, e \n",
    "2. cada probabilidade pode ser exatamente calculada a partir de suposições, ao invés de estimada a partir de dados."
   ]
  },
  {
   "cell_type": "markdown",
   "metadata": {},
   "source": [
    "# 2. Arrays de ícones\n",
    "As partes 3 e 4 deste laboratório trabalham com um exemplo mais complexo sobre doenças, mas primeiro, vamos começar com um exemplo simples.\n",
    "\n",
    "Imagine que você e Samantha estão jogando um jogo no qual você recebe uma bolinha e tem a tarefa de determinar a textura e o tamanho da bolinha. Você não sabe nada sobre a bolinha que recebeu, mas sabe que Samantha a retirou **uniformemente ao acaso** de uma sacola que continha as seguintes bolinhas:\n",
    "* 4 bolinhas grandes e brilhantes,\n",
    "* 1 bolinha grande e opaca,\n",
    "* 6 bolinhas pequenas e brilhantes,\n",
    "* 2 bolinhas pequenas e opacas."
   ]
  },
  {
   "cell_type": "markdown",
   "metadata": {},
   "source": [
    "**Questão 2.0.1.** Sabendo apenas o que lhe dissemos até agora, qual é a probabilidade de que a bolinha que você recebeu seja uma bolinha grande e brilhante?"
   ]
  },
  {
   "cell_type": "code",
   "execution_count": null,
   "metadata": {
    "deletable": false,
    "tags": []
   },
   "outputs": [],
   "source": [
    "probability_large_shiny = ..."
   ]
  },
  {
   "cell_type": "code",
   "execution_count": null,
   "metadata": {
    "deletable": false,
    "editable": false
   },
   "outputs": [],
   "source": [
    "grader.check(\"q2_0_1\")"
   ]
  },
  {
   "cell_type": "markdown",
   "metadata": {},
   "source": [
    "Aqui está uma tabela com essas bolinhas:"
   ]
  },
  {
   "cell_type": "code",
   "execution_count": null,
   "metadata": {},
   "outputs": [],
   "source": [
    "marbles = Table.read_table(\"marbles.csv\")\n",
    "marbles.show()"
   ]
  },
  {
   "cell_type": "markdown",
   "metadata": {},
   "source": [
    "Aqui estão as contagens de cada tipo de bolinha em uma tabela dinâmica."
   ]
  },
  {
   "cell_type": "code",
   "execution_count": null,
   "metadata": {},
   "outputs": [],
   "source": [
    "marbles.pivot('surface', 'size')"
   ]
  },
  {
   "cell_type": "markdown",
   "metadata": {},
   "source": [
    "Aqui estão todas as diferentes combinações de superfície e tamanho, com a contagem para cada combinação de superfície e tamanho. Cada tipo de bolinha aparece em sua própria linha."
   ]
  },
  {
   "cell_type": "code",
   "execution_count": null,
   "metadata": {},
   "outputs": [],
   "source": [
    "marbles.group(['surface', 'size'])"
   ]
  },
  {
   "cell_type": "markdown",
   "metadata": {},
   "source": [
    "Incluímos algum código para exibir algo chamado *array de ícones*. As funções na célula abaixo criam arrays de ícones a partir de vários tipos de tabelas. Não se preocupe em entender o código; apenas execute esta célula.\n",
    "\n",
    "**NOTA:** Você pode ignorar os rótulos do eixo y. Apenas lembre-se de que cada caixa representa 1 bolinha."
   ]
  },
  {
   "cell_type": "code",
   "execution_count": null,
   "metadata": {},
   "outputs": [],
   "source": [
    "# Execute esta célula.\n",
    "\n",
    "#######################################################################\n",
    "# As funções que você realmente precisará usar estão aqui. Cada uma é\n",
    "# uma maneira de criar um array de ícones a partir de uma tabela formatada de maneira diferente.\n",
    "#######################################################################\n",
    "\n",
    "def display_icon_array(table, groups, individuals_name):\n",
    "    \"\"\"\n",
    "    Dada uma tabela e algumas colunas para agrupá-la, exibe um array de ícones\n",
    "    dos grupos.\n",
    "    \n",
    "    groups deve ser um array de rótulos de colunas na tabela.\n",
    "    \n",
    "    individuals_name é o seu nome para as linhas individuais da tabela.\n",
    "    Por exemplo, se estamos falando sobre uma população de pessoas,\n",
    "    individuals_name deve ser \"pessoas\".\n",
    "    \n",
    "    Por exemplo:\n",
    "    \n",
    "    display_icon_array(marbles, [\"surface\", \"size\"], \"marbles\")\n",
    "    \"\"\"\n",
    "    display_grouped_icon_array(table.group(groups), individuals_name)\n",
    "\n",
    "def display_grouped_icon_array(grouped_data, individuals_name):\n",
    "    \"\"\"\n",
    "    Dada uma tabela com contagens para dados agrupados por uma ou mais categorias,\n",
    "    exibe um array de ícones dos grupos representados na tabela.\n",
    "    \n",
    "    grouped_data deve ser uma tabela de frequências ou contagens, como\n",
    "    uma tabela criada ao chamar o método groups em alguma tabela.\n",
    "    \n",
    "    individuals_name é o seu nome para os membros individuais do\n",
    "    conjunto de dados. Por exemplo, se estamos falando sobre uma população de\n",
    "    pessoas, individuals_name deve ser \"pessoas\".\n",
    "    \n",
    "    Por exemplo:\n",
    "    \n",
    "    display_grouped_icon_array(marbles.group([\"surface\", \"size\"]), \"marbles\")\n",
    "    \"\"\"\n",
    "    visualizations.display_combinations(grouped_data, individuals_name=individuals_name)\n",
    "\n",
    "def display_crosstab_icon_array(crosstabulation, x_label, individuals_name):\n",
    "    \"\"\"\n",
    "    Dada uma tabela de crosstabulação, exibe um array de ícones dos grupos\n",
    "    representados na tabela.\n",
    "    \n",
    "    crosstabulation deve ser uma tabela de frequências ou contagens criada ao\n",
    "    chamar pivot em alguma tabela.\n",
    "    \n",
    "    x_label deve ser o rótulo das categorias listadas como colunas (no\n",
    "    \"eixo x\" quando a tabela de crosstabulação é impressa).\n",
    "    \n",
    "    individuals_name é o seu nome para os membros individuais do\n",
    "    conjunto de dados. Por exemplo, se estamos falando sobre uma população de\n",
    "    pessoas, individuals_name deve ser \"pessoas\".\n",
    "    \n",
    "    Por exemplo:\n",
    "    \n",
    "    display_crosstab_icon_array(marbles.pivot(\"surface\", \"size\"), \"surface\", \"marbles\")\n",
    "    \"\"\"\n",
    "    display_grouped_icon_array(visualizations.pivot_table_to_groups(crosstabulation, x_label), individuals_name)"
   ]
  },
  {
   "cell_type": "markdown",
   "metadata": {},
   "source": [
    "Aqui está um array de ícones de todas as bolinhas, agrupadas por superfície e tamanho:"
   ]
  },
  {
   "cell_type": "code",
   "execution_count": null,
   "metadata": {
    "scrolled": true
   },
   "outputs": [],
   "source": [
    "# Execute esta célula.\n",
    "display_grouped_icon_array(marbles.group([\"surface\", \"size\"]), \"marble(s)\")"
   ]
  },
  {
   "cell_type": "markdown",
   "metadata": {},
   "source": [
    "Você deve imaginar que a bolinha que lhe foi dada foi selecionada por um sorteio aleatório desses 13 ícones.\n",
    "\n",
    "A seguir está um array de ícones das bolinhas, agrupadas **apenas pela superfície (brilhante/opaca)**."
   ]
  },
  {
   "cell_type": "code",
   "execution_count": null,
   "metadata": {},
   "outputs": [],
   "source": [
    "display_grouped_icon_array(marbles.group(\"surface\"), \"marble(s)\")"
   ]
  },
  {
   "cell_type": "markdown",
   "metadata": {},
   "source": [
    "Sabendo nada mais sobre a bolinha, é igualmente provável que seja qualquer uma das bolinhas representadas acima; isso porque assumimos que a bolinha foi selecionada **uniformemente ao acaso** da sacola.\n",
    "\n",
    "**Questão 2.0.2.** Qual é a probabilidade de que você tenha recebido uma bolinha brilhante? Calcule isso manualmente (usando Python para aritmética) olhando para o seu array de ícones."
   ]
  },
  {
   "cell_type": "code",
   "execution_count": null,
   "metadata": {
    "deletable": false,
    "tags": []
   },
   "outputs": [],
   "source": [
    "probability_shiny = ..."
   ]
  },
  {
   "cell_type": "code",
   "execution_count": null,
   "metadata": {
    "deletable": false,
    "editable": false
   },
   "outputs": [],
   "source": [
    "grader.check(\"q2_0_2\")"
   ]
  },
  {
   "cell_type": "markdown",
   "metadata": {},
   "source": [
    "## 2.1. Probabilidade Condicional\n",
    "\n",
    "Suponha que você ouça Samantha dizer que você recebeu uma bolinha grande. Isso de alguma forma muda a chance de sua bolinha ser brilhante? Vamos descobrir.\n",
    "\n",
    "Volte ao array completo de ícones, exibido abaixo para sua conveniência."
   ]
  },
  {
   "cell_type": "code",
   "execution_count": null,
   "metadata": {},
   "outputs": [],
   "source": [
    "display_grouped_icon_array(marbles.group([\"surface\", \"size\"]), \"marble(s)\")"
   ]
  },
  {
   "cell_type": "markdown",
   "metadata": {},
   "source": [
    "Na questão 2.0.2, assumimos que a bolinha que você recebeu tinha a mesma probabilidade de ser qualquer uma das bolinhas, simplesmente porque não sabíamos de nada melhor. É por isso que olhamos para todas as bolinhas para calcular a probabilidade de sua bolinha ser brilhante.\n",
    "\n",
    "Mas assumindo que você recebeu uma bolinha grande, podemos eliminar algumas dessas possibilidades. Em particular, você não poderia ter recebido uma bolinha pequena brilhante ou uma bolinha pequena opaca.\n",
    "\n",
    "Você ainda tem a mesma probabilidade de ter recebido qualquer uma das bolinhas restantes, porque você não sabe nenhuma outra informação. Então, aqui está um array de ícones dessas possibilidades restantes:"
   ]
  },
  {
   "cell_type": "code",
   "execution_count": null,
   "metadata": {},
   "outputs": [],
   "source": [
    "# Apenas execute esta célula.\n",
    "display_grouped_icon_array(marbles.where(\"size\", \"large\").group(\"surface\"), \"large marble(s)\")"
   ]
  },
  {
   "cell_type": "markdown",
   "metadata": {},
   "source": [
    "**Questão 2.1.1.** Qual é a probabilidade de Samantha lhe dar uma bolinha brilhante, sabendo que ela lhe deu uma bolinha grande?\n",
    "\n",
    "*Dica: Use o array de ícones.*"
   ]
  },
  {
   "cell_type": "code",
   "execution_count": null,
   "metadata": {
    "deletable": false,
    "tags": []
   },
   "outputs": [],
   "source": [
    "probability_shiny_given_large = ..."
   ]
  },
  {
   "cell_type": "code",
   "execution_count": null,
   "metadata": {
    "deletable": false,
    "editable": false
   },
   "outputs": [],
   "source": [
    "grader.check(\"q2_1_1\")"
   ]
  },
  {
   "cell_type": "markdown",
   "metadata": {},
   "source": [
    "Você deve ter descoberto que isso é diferente da probabilidade de Samantha lhe dar uma bolinha brilhante, sem nenhuma informação sobre o tamanho, que você calculou anteriormente. A distribuição de superfícies entre as bolinhas grandes é um pouco diferente da distribuição de superfícies entre todas as bolinhas."
   ]
  },
  {
   "cell_type": "code",
   "execution_count": null,
   "metadata": {},
   "outputs": [],
   "source": [
    "# Execute esta célula para exibir o array de ícones. Em seguida, preencha e responda à próxima questão.\n",
    "display_grouped_icon_array(marbles.where(\"surface\", \"shiny\").group(\"size\"), \"shiny marble(s)\")"
   ]
  },
  {
   "cell_type": "markdown",
   "metadata": {},
   "source": [
    "**Questão 2.1.2.** Suponha, em vez disso, que Samantha disse que lhe deu uma bolinha **brilhante** (oba!). Qual é a probabilidade de que a bolinha que lhe foi dada seja grande?\n",
    "\n",
    "Execute a célula de código acima para exibir o array de ícones, depois atribua `probability_large_given_shiny` ao valor apropriado."
   ]
  },
  {
   "cell_type": "code",
   "execution_count": null,
   "metadata": {
    "tags": []
   },
   "outputs": [],
   "source": [
    "probability_large_given_shiny = ..."
   ]
  },
  {
   "cell_type": "code",
   "execution_count": null,
   "metadata": {
    "deletable": false,
    "editable": false
   },
   "outputs": [],
   "source": [
    "grader.check(\"q2_1_2\")"
   ]
  },
  {
   "cell_type": "markdown",
   "metadata": {},
   "source": [
    "**Questão 2.1.3.** Você pode responder às duas questões anteriores apenas olhando para o array completo de ícones? (Você pode executar a célula abaixo para vê-lo novamente.)\n",
    "\n",
    "*Dica:* Confira o [Capítulo 18.2](https://inferentialthinking.com/chapters/18/2/Making_Decisions.html) para uma revisão sobre como usar a Regra de Bayes."
   ]
  },
  {
   "cell_type": "code",
   "execution_count": null,
   "metadata": {},
   "outputs": [],
   "source": [
    "# Apenas execute esta célula. A próxima célula é onde você deve escrever sua resposta.\n",
    "display_grouped_icon_array(marbles.group([\"surface\", \"size\"]), \"marble(s)\")"
   ]
  },
  {
   "cell_type": "markdown",
   "metadata": {},
   "source": [
    "Se você pode, como? Se não, por quê? Verifique com seus colegas de laboratório ou um membro da equipe para ver se você está no caminho certo."
   ]
  },
  {
   "cell_type": "markdown",
   "metadata": {},
   "source": [
    "_Digite sua resposta aqui, substituindo este texto._"
   ]
  },
  {
   "cell_type": "markdown",
   "metadata": {},
   "source": [
    "# 3. Rastreamento de Câncer\n",
    "Esperamos que os arrays de ícones da parte anterior tenham ajudado a construir intuição sobre por que as probabilidades condicionais podem ser úteis. Agora, vamos olhar para uma aplicação na vida real.\n",
    "\n",
    "### Contexto\n",
    "O teste médico é muito importante, especialmente para o câncer. Um rastreamento básico de câncer envolve procurar por câncer antes que a pessoa apresente quaisquer sintomas.\n",
    "\n",
    "O rastreamento de câncer não é 100% confiável e pode ter erros. Há casos em que alguém sem câncer ou com um tumor benigno vê um resultado de teste positivo. Também há casos em que alguém com câncer pode receber um resultado negativo. (“Positivo” implica uma indicação de câncer neste contexto.) O primeiro caso, chamado de falso positivo, pode causar ansiedade para um paciente e levar a mais testes que podem ser arriscados e envolver radiação desnecessária. No segundo caso, chamado de falso negativo, uma pessoa não receberia as informações necessárias e o possível tratamento para sua condição.\n",
    "\n",
    "A probabilidade condicional pode fornecer insights sobre a precisão dos testes iniciais de câncer. Por exemplo, você pode calcular a chance de uma pessoa ter câncer dado os resultados de um teste diagnóstico combinando informações de diferentes distribuições de probabilidade. Você verá que a chance de a Pessoa X ter câncer, mesmo se receber um resultado positivo, não é necessariamente 100%.\n",
    "\n",
    "É importante notar que as probabilidades condicionais oferecem apenas uma linha de insight para entender um resultado de teste e que essa abordagem estatística não leva em conta fatores importantes como hereditariedade ou ambiente que afetam a saúde e diagnósticos de uma pessoa. O [Centros de Controle e Prevenção de Doenças](https://www.cdc.gov/cancer/dcpc/prevention/screening.htm) (CDC) recomenda a realização de rastreamentos preventivos de câncer, e deve-se sempre consultar um médico se estiver preocupado com sua saúde."
   ]
  },
  {
   "cell_type": "markdown",
   "metadata": {},
   "source": [
    "## 3.1. Estatísticas básicas sobre câncer\n",
    "\n",
    "Nota: Todas as estatísticas a seguir são inventadas e não refletem necessariamente o estado real do mundo.\n",
    "\n",
    "Suponha que, em um grupo representativo de 10.000 pessoas testadas para câncer (\"representativo\" no sentido de que as frequências de diferentes eventos são as mesmas que as frequências na população inteira):\n",
    "1. 100 pessoas têm câncer.\n",
    "2. Entre as 100 pessoas que têm câncer, 90 têm resultados positivos em um teste de câncer e 10 têm resultados negativos. (Então, 10 pessoas recebem resultados falsos negativos.)\n",
    "3. As outras 9.900 pessoas não têm câncer.\n",
    "4. Entre essas 9.900 pessoas, 198 têm resultados positivos em um teste de câncer e as outras 9.702 têm resultados negativos. (Então, 198 veem resultados \"falsos positivos\".)\n",
    "\n",
    "Abaixo, geramos uma tabela com dados dessas 10.000 pessoas hipotéticas.\n",
    "\n",
    "*Nota: Essas estatísticas são inventadas e não refletem necessariamente o estado real do mundo.*"
   ]
  },
  {
   "cell_type": "code",
   "execution_count": null,
   "metadata": {},
   "outputs": [],
   "source": [
    "people = Table().with_columns(\n",
    "    \"status\", [\"cancer\", \"cancer\", \"no cancer\", \"no cancer\"],\n",
    "    \"test status\", [\"positive\", \"negative\", \"positive\", \"negative\"],\n",
    "    \"count\", [90, 10, 198, 9702])\n",
    "people"
   ]
  },
  {
   "cell_type": "markdown",
   "metadata": {},
   "source": [
    "Uma maneira de visualizar este conjunto de dados é com uma tabela de contingência, que você já viu antes.\n",
    "\n",
    "**Questão 3.1.1.** Usando a tabela `people` definida acima, crie uma tabela de contingência que se pareça com esta:\n",
    "\n",
    "|status|negativo|positivo|\n",
    "|-|-|-|\n",
    "|câncer|||\n",
    "|sem câncer||||\n",
    "\n",
    "...com a **contagem** de cada grupo preenchida, de acordo com o que lhe dissemos acima. As contagens nas 4 caixas devem somar 10.000."
   ]
  },
  {
   "cell_type": "code",
   "execution_count": null,
   "metadata": {
    "deletable": false,
    "scrolled": true,
    "tags": []
   },
   "outputs": [],
   "source": [
    "cancer = ...\n",
    "cancer"
   ]
  },
  {
   "cell_type": "code",
   "execution_count": null,
   "metadata": {
    "deletable": false,
    "editable": false
   },
   "outputs": [],
   "source": [
    "grader.check(\"q3_1_1\")"
   ]
  },
  {
   "cell_type": "markdown",
   "metadata": {},
   "source": [
    "Aqui estão os dados das `pessoas` em um array de ícones."
   ]
  },
  {
   "cell_type": "code",
   "execution_count": null,
   "metadata": {},
   "outputs": [],
   "source": [
    "display_grouped_icon_array(people, \"people who've taken a cancer test\")"
   ]
  },
  {
   "cell_type": "markdown",
   "metadata": {},
   "source": [
    "Agora, vamos pensar em como você pode usar esse tipo de informação quando a Pessoa X é testada para câncer.\n",
    "\n",
    "Antes de saber qualquer informação sobre a Pessoa X, você poderia imaginar a Pessoa X como uma **amostra aleatória uniforme** de uma das 10.000 pessoas nesta população imaginária de pessoas que foram testadas.\n",
    "\n",
    "Qual é a chance de que a Pessoa X tenha câncer, sem saber mais nada sobre ela? É $\\frac{100}{10000}$, ou 1%. Podemos ver isso mais diretamente com este array de ícones:"
   ]
  },
  {
   "cell_type": "code",
   "execution_count": null,
   "metadata": {},
   "outputs": [],
   "source": [
    "by_health = people.select(0, 2).group(0, sum).relabeled(1, 'count')\n",
    "display_grouped_icon_array(by_health, \"people who've taken a cancer test\")"
   ]
  },
  {
   "cell_type": "markdown",
   "metadata": {},
   "source": [
    "**Questão 3.1.2.** Qual é a chance de que a Pessoa X tenha um resultado de teste positivo, sem saber mais nada sobre ela?\n",
    "Execute a próxima célula de código para exibir um array de ícones, depois atribua `probability_positive_test` a este valor."
   ]
  },
  {
   "cell_type": "code",
   "execution_count": null,
   "metadata": {
    "deletable": false,
    "tags": []
   },
   "outputs": [],
   "source": [
    "# Execute esta célula primeiro para exibir um array de ícones. Depois, preencha a probabilidade de um resultado de teste positivo na última linha.\n",
    "by_test = people.select(1, 2).group(0, sum).relabeled(1, 'count')\n",
    "display_grouped_icon_array(by_test, \"people who've taken a cancer test\")\n",
    "\n",
    "# Agora preencha a probabilidade de um resultado de teste positivo\n",
    "probability_positive_test = ..."
   ]
  },
  {
   "cell_type": "markdown",
   "metadata": {},
   "source": [
    "## 3.2. Interpretando os resultados dos testes\n",
    "Suponha que a Pessoa X tenha um resultado de teste positivo. Isso significa que agora você pode restringi-la a fazer parte de apenas um dos dois seguintes grupos:\n",
    "1. As pessoas com câncer que têm um resultado de teste positivo.\n",
    "2. As pessoas sem câncer que têm um resultado de teste positivo.\n",
    "\n",
    "Aqui está um array de ícones para esses dois grupos:"
   ]
  },
  {
   "cell_type": "code",
   "execution_count": null,
   "metadata": {},
   "outputs": [],
   "source": [
    "# Apenas execute esta célula.\n",
    "display_grouped_icon_array(people.where(\"test status\", are.equal_to(\"positive\")).drop(1), \"people who have a positive test result\")"
   ]
  },
  {
   "cell_type": "markdown",
   "metadata": {},
   "source": [
    "A *probabilidade condicional* de que a Pessoa X **tenha câncer dado o seu resultado positivo no teste** é a chance de que ela esteja no primeiro grupo (câncer), assumindo que ela tenha um resultado positivo no teste.\n",
    "\n",
    "**Questão 3.2.1.** Observando o array de ícones acima, a probabilidade condicional de que a Pessoa X tenha câncer **dado o seu resultado positivo no teste** está mais próxima de:\n",
    "\n",
    "1. $\\displaystyle\\frac{9}{10}$\n",
    "\n",
    "2. $\\displaystyle\\frac{2}{3}$\n",
    "\n",
    "3. $\\displaystyle\\frac{1}{2}$\n",
    "\n",
    "4. $\\displaystyle\\frac{1}{3}$\n",
    "\n",
    "5. $\\displaystyle\\frac{1}{100}$\n",
    "\n",
    "\n",
    "Atribua `rough_prob_cancer_given_positive` a um inteiro correspondente à sua resposta."
   ]
  },
  {
   "cell_type": "code",
   "execution_count": null,
   "metadata": {
    "deletable": false,
    "tags": []
   },
   "outputs": [],
   "source": [
    "# Defina isso para 1, 2, 3, 4 ou 5, correspondendo à probabilidade correta.\n",
    "rough_prob_cancer_given_positive = ..."
   ]
  },
  {
   "cell_type": "code",
   "execution_count": null,
   "metadata": {
    "deletable": false,
    "editable": false
   },
   "outputs": [],
   "source": [
    "grader.check(\"q3_2_1\")"
   ]
  },
  {
   "cell_type": "markdown",
   "metadata": {},
   "source": [
    "**Questão 3.2.2.** Agora escreva código para calcular essa probabilidade exatamente, usando a tabela de contingência original que você escreveu (a tabela `cancer`).\n",
    "\n",
    "Execute a próxima célula de código para ver a tabela `cancer`, depois preencha `prob_cancer_given_positive` com seu código."
   ]
  },
  {
   "cell_type": "code",
   "execution_count": null,
   "metadata": {
    "deletable": false,
    "tags": []
   },
   "outputs": [],
   "source": [
    "# Execute esta célula primeiro para ver a tabela de câncer. Depois, preencha a próxima linha desta célula.\n",
    "cancer.show()\n",
    "\n",
    "prob_cancer_given_positive = ...\n",
    "\n",
    "print('Probability of cancer given positive test result: {}'.format(prob_cancer_given_positive))"
   ]
  },
  {
   "cell_type": "code",
   "execution_count": null,
   "metadata": {
    "deletable": false,
    "editable": false
   },
   "outputs": [],
   "source": [
    "grader.check(\"q3_2_2\")"
   ]
  },
  {
   "cell_type": "markdown",
   "metadata": {},
   "source": [
    "**Questão 3.2.3.** Olhe para o array completo de ícones novamente. Usando isso, como você calcularia a probabilidade condicional de ter câncer dado um resultado positivo no teste?\n",
    "\n",
    "Execute a próxima célula de código para ver o array completo de ícones."
   ]
  },
  {
   "cell_type": "markdown",
   "metadata": {},
   "source": [
    "_Digite sua resposta aqui, substituindo este texto._"
   ]
  },
  {
   "cell_type": "code",
   "execution_count": null,
   "metadata": {},
   "outputs": [],
   "source": [
    "# O array completo de ícones é fornecido aqui para sua conveniência.\n",
    "# Escreva sua resposta na célula anterior.\n",
    "display_grouped_icon_array(people, \"people who've taken a cancer test\")"
   ]
  },
  {
   "cell_type": "markdown",
   "metadata": {},
   "source": [
    "**Questão 3.2.4.** Sua resposta para a questão 3.2.2 é maior do que a proporção geral de pessoas na população que têm câncer (dada como 1% na 3.1.1)? Isso faz sentido? Verifique com seus colegas ou um membro da equipe para ver se você está no caminho certo."
   ]
  },
  {
   "cell_type": "markdown",
   "metadata": {},
   "source": [
    "_Digite sua resposta aqui, substituindo este texto._"
   ]
  },
  {
   "cell_type": "markdown",
   "metadata": {},
   "source": [
    "# 4. Uma Prioridade Subjetiva\n",
    "\n",
    "Estar certo nem sempre é satisfatório. Classificar um paciente Positivo como não tendo câncer ainda parece de alguma forma errado, para um teste tão preciso. Nesta seção, vamos examinar mais a fundo a base do nosso cálculo de probabilidade: a suposição de aleatoriedade.\n",
    "\n",
    "Nossa suposição era que uma pessoa escolhida aleatoriamente foi testada de nossa população de 10.000 indivíduos. Isso não acontece na realidade. As pessoas vão fazer o teste porque pensam que podem ter a doença, ou porque seu médico acha que elas podem ter a doença. As pessoas que fazem o teste não são membros escolhidos aleatoriamente da população.\n",
    "\n",
    "É por isso que nossa intuição sobre as pessoas sendo testadas não estava se encaixando bem com a resposta que obtivemos. Na **Questão 3.2.2**, calculamos que a probabilidade de ter câncer dado um resultado positivo no teste era de **0,3125**, ou **31,25%**. Isso parece incomumente baixo, especialmente dado o que sabemos sobre a eficácia dos rastreamentos de câncer. Estávamos imaginando uma situação realista de um paciente indo fazer o teste porque havia algum motivo para isso, enquanto o cálculo foi baseado em uma pessoa escolhida aleatoriamente sendo testada.\n",
    "\n",
    "Então, vamos refazer nosso cálculo sob a suposição mais realista de que o paciente está fazendo o teste porque o médico acha que há uma chance de o paciente ter a doença e comparar as duas probabilidades.\n",
    "\n",
    "**Observação:** Para mais informações sobre a Parte 4 deste laboratório, confira a [Seção 18.2.2](https://inferentialthinking.com/chapters/18/2/Making_Decisions.html#a-subjective-prior) do livro didático."
   ]
  },
  {
   "cell_type": "markdown",
   "metadata": {},
   "source": [
    "## 4.1. Uma Nova Visão sobre a População\n",
    "Suponha agora que nossa população de 10.000 indivíduos leva em conta o fato de que escolher fazer um teste médico não é feito ao acaso; deve haver algum motivo para um indivíduo fazer um. Assim, nossa população modificada tem as seguintes propriedades:\n",
    "1. 1.000 pessoas têm câncer.\n",
    "2. Entre as 1.000 pessoas que têm câncer, 900 têm resultados positivos em um teste de câncer e 100 têm resultados negativos.\n",
    "3. As outras 9.000 pessoas não têm câncer.\n",
    "4. Entre essas 9.000 pessoas, 180 têm resultados positivos em um teste de câncer e as outras 8.820 têm resultados negativos. (Então, 180 veem resultados \"falsos positivos\".)\n",
    "\n",
    "Abaixo, geramos uma tabela da população chamada `people_new` e uma tabela de contingência com dados dessas 10.000 pessoas hipotéticas chamada `cancer_new`."
   ]
  },
  {
   "cell_type": "code",
   "execution_count": null,
   "metadata": {},
   "outputs": [],
   "source": [
    "# Apenas execute esta célula para carregar a tabela\n",
    "people_new = Table().with_columns(\n",
    "    \"status\", [\"cancer\", \"cancer\", \"no cancer\", \"no cancer\"],\n",
    "    \"test status\", [\"positive\", \"negative\", \"positive\", \"negative\"],\n",
    "    \"count\", [900, 100, 180, 8820])\n",
    "people_new"
   ]
  },
  {
   "cell_type": "code",
   "execution_count": null,
   "metadata": {},
   "outputs": [],
   "source": [
    "# Apenas execute esta célula para carregar a tabela\n",
    "cancer_new = Table().with_columns(\n",
    "    \"status\", [\"cancer\", \"no cancer\"],\n",
    "    \"negative\", [100, 8820],\n",
    "    \"positive\", [900, 180])\n",
    "cancer_new"
   ]
  },
  {
   "cell_type": "markdown",
   "metadata": {},
   "source": [
    "Como antes, podemos apresentar os dados acima em um array de ícones. Aqui estão os dados de `people_new` nesse formato."
   ]
  },
  {
   "cell_type": "code",
   "execution_count": null,
   "metadata": {},
   "outputs": [],
   "source": [
    "display_grouped_icon_array(people_new, \"people who've taken a cancer test\")"
   ]
  },
  {
   "cell_type": "markdown",
   "metadata": {},
   "source": [
    "## 4.2. Interpretação e Comparação\n",
    "Como na Parte 3, vamos supor que a Pessoa X tenha um resultado de teste positivo. Isso significa que agora você pode restringi-la a fazer parte de apenas um dos dois seguintes grupos:\n",
    "1. As pessoas com câncer que têm um resultado de teste positivo.\n",
    "2. As pessoas sem câncer que têm um resultado de teste positivo.\n",
    "\n",
    "Assim como fizemos na Parte 3 deste laboratório, aqui está um array de ícones para esses dois grupos:"
   ]
  },
  {
   "cell_type": "code",
   "execution_count": null,
   "metadata": {},
   "outputs": [],
   "source": [
    "# Apenas execute esta célula.\n",
    "display_grouped_icon_array(people_new.where(\"test status\", are.equal_to(\"positive\")).drop(1), \"people who have a positive test result\")"
   ]
  },
  {
   "cell_type": "markdown",
   "metadata": {},
   "source": [
    "**Questão 4.2.1.** Usando a nova tabela de contingência, `cancer_new`, que foi fornecida no início desta seção, escreva código para calcular a probabilidade exata de um indivíduo ter câncer dado que ele recebeu um resultado positivo no teste.\n",
    "\n",
    "Execute a próxima célula de código para ver a tabela `cancer_new`, depois preencha `prob_cancer_given_positive_new` com seu código."
   ]
  },
  {
   "cell_type": "code",
   "execution_count": null,
   "metadata": {
    "deletable": false,
    "tags": []
   },
   "outputs": [],
   "source": [
    "# Execute esta célula primeiro para ver a tabela cancer_new. Depois, preencha a próxima linha desta célula.\n",
    "cancer_new.show()\n",
    "\n",
    "prob_cancer_given_positive_new = ...\n",
    "\n",
    "print(f'Probability of cancer given positive test result: {prob_cancer_given_positive_new}')"
   ]
  },
  {
   "cell_type": "code",
   "execution_count": null,
   "metadata": {
    "deletable": false,
    "editable": false
   },
   "outputs": [],
   "source": [
    "grader.check(\"q4_2_1\")"
   ]
  },
  {
   "cell_type": "markdown",
   "metadata": {},
   "source": [
    "**Questão 4.2.2.** Como a sua probabilidade na questão 3.2.2 se compara com a sua resposta da 4.2.1? Isso faz sentido? Verifique com seus colegas ou um membro da equipe para ver se você está no caminho certo."
   ]
  },
  {
   "cell_type": "markdown",
   "metadata": {},
   "source": [
    "_Digite sua resposta aqui, substituindo este texto._"
   ]
  },
  {
   "cell_type": "markdown",
   "metadata": {},
   "source": [
    "## 5. Submissão\n",
    "\n",
    "<img src=\"harley.jpeg\" alt=\"desenho\" width=\"300\"/>\n",
    "\n",
    "Voltamos ao início! Harley te deu as boas-vindas ao Data 8, e ele está aqui novamente para te despedir. Au!\n",
    "\n",
    "Parabéns, você terminou o laboratório final!\n",
    "\n",
    "**Passos importantes para a submissão:** \n",
    "1. Execute os testes e verifique se todos passaram.\n",
    "2. Escolha **Salvar Notebook** no menu **Arquivo**, depois **execute a célula final**. \n",
    "3. Clique no link para baixar o arquivo zip.\n",
    "4. Então, submeta o arquivo zip para a tarefa correspondente de acordo com as instruções do seu instrutor. \n",
    "\n",
    "**É sua responsabilidade garantir que seu trabalho esteja salvo antes de executar a última célula.**"
   ]
  },
  {
   "cell_type": "markdown",
   "metadata": {
    "deletable": false,
    "editable": false
   },
   "source": [
    "## Submissão\n",
    "\n",
    "Certifique-se de ter executado todas as células no seu caderno em ordem antes de executar a célula abaixo, para que todas as imagens/gráficos apareçam na saída. A célula abaixo irá gerar um arquivo zip para você submeter. **Por favor, salve antes de exportar!**"
   ]
  },
  {
   "cell_type": "code",
   "execution_count": null,
   "metadata": {
    "deletable": false,
    "editable": false
   },
   "outputs": [],
   "source": [
    "# Salve seu caderno primeiro, depois execute esta célula para exportar sua submissão.\n",
    "grader.export(pdf=False, run_tests=True)"
   ]
  },
  {
   "cell_type": "markdown",
   "metadata": {},
   "source": [
    " "
   ]
  }
 ],
 "metadata": {
  "kernelspec": {
   "display_name": "Python 3",
   "language": "python",
   "name": "python3"
  },
  "language_info": {
   "codemirror_mode": {
    "name": "ipython",
    "version": 3
   },
   "file_extension": ".py",
   "mimetype": "text/x-python",
   "name": "python",
   "nbconvert_exporter": "python",
   "pygments_lexer": "ipython3",
   "version": "3.9.10"
  },
  "otter": {
   "OK_FORMAT": true,
   "tests": {
    "q2_0_1": {
     "name": "q2_0_1",
     "points": null,
     "suites": [
      {
       "cases": [
        {
         "code": ">>> 0 < probability_large_shiny < 1 \nTrue",
         "hidden": false,
         "locked": false
        },
        {
         "code": ">>> \n>>> import hashlib \n>>> def get_hash(num):\n...     \"\"\"Helper function for assessing correctness.\"\"\"\n...     return hashlib.md5(str(num).encode()).hexdigest()\n>>> \n>>> get_hash(np.round(probability_large_shiny, 3))\n'8404599d79837400f000c64a4fa1cc0e'",
         "hidden": false,
         "locked": false
        }
       ],
       "scored": true,
       "setup": "",
       "teardown": "",
       "type": "doctest"
      }
     ]
    },
    "q2_0_2": {
     "name": "q2_0_2",
     "points": null,
     "suites": [
      {
       "cases": [
        {
         "code": ">>> import hashlib \n>>> def get_hash(num):\n...     \"\"\"Helper function for assessing correctness.\"\"\"\n...     return hashlib.md5(str(num).encode()).hexdigest()\n>>> \n>>> get_hash(np.round(probability_shiny, 3))\n'a83a7d5356406fb9bdbb4d93697cee38'",
         "hidden": false,
         "locked": false
        }
       ],
       "scored": true,
       "setup": "",
       "teardown": "",
       "type": "doctest"
      }
     ]
    },
    "q2_1_1": {
     "name": "q2_1_1",
     "points": null,
     "suites": [
      {
       "cases": [
        {
         "code": ">>> \n>>> import hashlib \n>>> def get_hash(num):\n...     \"\"\"Helper function for assessing correctness.\"\"\"\n...     return hashlib.md5(str(num).encode()).hexdigest()\n>>> \n>>> get_hash(np.round(probability_shiny_given_large, 3))\n'57eeec0a6974ecb4e9fcf68fab052f7b'",
         "hidden": false,
         "locked": false
        }
       ],
       "scored": true,
       "setup": "",
       "teardown": "",
       "type": "doctest"
      }
     ]
    },
    "q2_1_2": {
     "name": "q2_1_2",
     "points": null,
     "suites": [
      {
       "cases": [
        {
         "code": ">>> \n>>> import hashlib \n>>> def get_hash(num):\n...     \"\"\"Helper function for assessing correctness.\"\"\"\n...     return hashlib.md5(str(num).encode()).hexdigest()\n>>> \n>>> get_hash(np.round(probability_large_given_shiny, 3))\n'54fbf38cf649866815e0fefc46a1f6c7'",
         "hidden": false,
         "locked": false
        }
       ],
       "scored": true,
       "setup": "",
       "teardown": "",
       "type": "doctest"
      }
     ]
    },
    "q3_1_1": {
     "name": "q3_1_1",
     "points": null,
     "suites": [
      {
       "cases": [
        {
         "code": ">>> sum(cancer.column(1)) == 9712\nTrue",
         "hidden": false,
         "locked": false
        },
        {
         "code": ">>> sum(cancer.column(2)) == 288\nTrue",
         "hidden": false,
         "locked": false
        },
        {
         "code": ">>> cancer\nstatus    | negative | positive\ncancer    | 10       | 90\nno cancer | 9702     | 198",
         "hidden": false,
         "locked": false
        }
       ],
       "scored": true,
       "setup": "",
       "teardown": "",
       "type": "doctest"
      }
     ]
    },
    "q3_2_1": {
     "name": "q3_2_1",
     "points": null,
     "suites": [
      {
       "cases": [
        {
         "code": ">>> \n>>> import hashlib \n>>> def get_hash(num):\n...     \"\"\"Helper function for assessing correctness.\"\"\"\n...     return hashlib.md5(str(num).encode()).hexdigest()\n>>> \n>>> get_hash(int(rough_prob_cancer_given_positive))\n'a87ff679a2f3e71d9181a67b7542122c'",
         "hidden": false,
         "locked": false
        }
       ],
       "scored": true,
       "setup": "",
       "teardown": "",
       "type": "doctest"
      }
     ]
    },
    "q3_2_2": {
     "name": "q3_2_2",
     "points": null,
     "suites": [
      {
       "cases": [
        {
         "code": ">>> \n>>> import hashlib \n>>> def get_hash(num):\n...     \"\"\"Helper function for assessing correctness.\"\"\"\n...     return hashlib.md5(str(num).encode()).hexdigest()\n>>> \n>>> get_hash(np.round(prob_cancer_given_positive, 4))\n'15432ad172f7f319fe502e6337b3f549'",
         "hidden": false,
         "locked": false
        }
       ],
       "scored": true,
       "setup": "",
       "teardown": "",
       "type": "doctest"
      }
     ]
    },
    "q4_2_1": {
     "name": "q4_2_1",
     "points": null,
     "suites": [
      {
       "cases": [
        {
         "code": ">>> \n>>> import hashlib \n>>> def get_hash(num):\n...     \"\"\"Helper function for assessing correctness.\"\"\"\n...     return hashlib.md5(str(num).encode()).hexdigest()\n>>> \n>>> get_hash(np.round(prob_cancer_given_positive_new, 4))\n'4f59b3fd6f5001542919c239391a3278'",
         "hidden": false,
         "locked": false
        }
       ],
       "scored": true,
       "setup": "",
       "teardown": "",
       "type": "doctest"
      }
     ]
    }
   }
  }
 },
 "nbformat": 4,
 "nbformat_minor": 5
}
