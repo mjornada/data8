{
 "cells": [
  {
   "cell_type": "code",
   "execution_count": null,
   "metadata": {
    "deletable": false,
    "editable": false
   },
   "outputs": [],
   "source": [
    "# Inicialize o Otter\n",
    "import otter\n",
    "grader = otter.Notebook(\"project3.ipynb\")"
   ]
  },
  {
   "cell_type": "markdown",
   "metadata": {},
   "source": [
    "# Projeto 3: Classificação de Filmes\n",
    "\n",
    "Bem-vindo ao terceiro projeto do Data 8! Você construirá um modelo de classificação que adivinha se um filme é uma comédia ou um thriller usando apenas o número de vezes que palavras escolhidas aparecem no roteiro do filme. Ao final do projeto, você deverá saber como:\n",
    "\n",
    "1. Construir um classificador k-vizinhos mais próximos.\n",
    "2. Testar um classificador em dados."
   ]
  },
  {
   "cell_type": "markdown",
   "metadata": {},
   "source": [
    "### Logística\n",
    "\n",
    "**Regras.** Não compartilhe seu código com ninguém além do seu parceiro, se você tiver um. Você pode discutir as questões com outros alunos, mas não compartilhe as respostas. A experiência de resolver os problemas neste projeto irá prepará-lo para os exames (e para a vida). Se alguém lhe pedir a resposta, resista! Em vez disso, você pode demonstrar como resolveria um problema semelhante.\n",
    "\n",
    "**Suporte.** Você não está sozinho! Venha para as horas de atendimento e converse com seus colegas. Se você estiver se sentindo sobrecarregado ou não souber como progredir, envie um e-mail para obter ajuda.\n",
    "\n",
    "**Testes.** Os testes fornecidos **não são abrangentes** e passar nos testes de uma questão **não significa** que você respondeu à questão corretamente. Os testes geralmente verificam apenas se sua tabela tem os rótulos de coluna corretos. No entanto, mais testes serão aplicados para verificar a correção da sua submissão para atribuir sua pontuação final, então seja cuidadoso e verifique seu trabalho! Você pode querer criar suas próprias verificações ao longo do caminho para ver se suas respostas fazem sentido. Além disso, antes de enviar, certifique-se de que nenhuma de suas células demore muito tempo para ser executada (vários minutos).\n",
    "\n",
    "**Perguntas de Resposta Livre.** Certifique-se de colocar as respostas às perguntas escritas na célula indicada que fornecemos. **Toda pergunta de resposta livre deve incluir uma explicação** que responda adequadamente à pergunta. Seu trabalho escrito será carregado automaticamente no Gradescope após o prazo do projeto; não é necessária nenhuma ação da sua parte para isso.\n",
    "\n",
    "**Conselho.** Desenvolva suas respostas de forma incremental. Para realizar uma tarefa complicada, divida-a em etapas, execute cada etapa em uma linha diferente, dê um novo nome a cada resultado e verifique se cada resultado intermediário é o que você espera. Você pode adicionar quaisquer nomes ou funções adicionais que desejar nas células fornecidas. Certifique-se de que está usando nomes de variáveis distintos e significativos ao longo do notebook. Nesse sentido, **NÃO** reutilize os nomes de variáveis que usamos ao avaliar suas respostas.\n",
    "\n",
    "Você **nunca** precisa usar apenas uma linha neste projeto ou em qualquer outro. Use variáveis intermediárias e várias linhas tanto quanto desejar!\n",
    "\n",
    "Todos os conceitos necessários para este projeto estão no livro didático. Se você estiver preso em um problema específico, ler a seção relevante do livro didático muitas vezes ajudará a esclarecer o conceito.\n",
    "\n",
    "---\n",
    "\n",
    "Para começar, carregue `datascience`, `numpy`, `plots` e `d8error`. Certifique-se também de executar a primeira célula deste notebook para carregar `otter`."
   ]
  },
  {
   "cell_type": "code",
   "execution_count": null,
   "metadata": {
    "scrolled": true
   },
   "outputs": [],
   "source": [
    "# Execute esta célula para configurar o notebook, mas por favor, não a altere.\n",
    "import numpy as np\n",
    "import math\n",
    "import datascience\n",
    "from datascience import *\n",
    "\n",
    "# Estas linhas configuram a funcionalidade e formatação de plotagem.\n",
    "import matplotlib\n",
    "%matplotlib inline\n",
    "import matplotlib.pyplot as plots\n",
    "plots.style.use('fivethirtyeight')\n",
    "import warnings\n",
    "warnings.simplefilter(\"ignore\")\n",
    "\n",
    "import d8error"
   ]
  },
  {
   "cell_type": "markdown",
   "metadata": {},
   "source": [
    "# Parte 1: O Conjunto de Dados\n",
    "\n",
    "Neste projeto, estamos explorando roteiros de filmes. Tentaremos prever o gênero de cada filme a partir do texto do seu roteiro. Em particular, compilamos uma lista de 5.000 palavras que ocorrem em conversas entre personagens de filmes. Para cada filme, nosso conjunto de dados nos informa a frequência com que cada uma dessas palavras ocorre em certas conversas no seu roteiro. Todas as palavras foram convertidas para minúsculas.\n",
    "\n",
    "Execute a célula abaixo para ler a tabela `movies`. **Pode levar até um minuto para carregar.**"
   ]
  },
  {
   "cell_type": "code",
   "execution_count": null,
   "metadata": {},
   "outputs": [],
   "source": [
    "movies = Table.read_table('movies.csv')"
   ]
  },
  {
   "cell_type": "markdown",
   "metadata": {},
   "source": [
    "Aqui está uma linha da tabela e algumas das frequências das palavras que foram ditas no filme."
   ]
  },
  {
   "cell_type": "code",
   "execution_count": null,
   "metadata": {},
   "outputs": [],
   "source": [
    "movies.where(\"Title\", \"runaway bride\").select(0, 1, 2, 3, 4, 14, 49, 1042, 4004)"
   ]
  },
  {
   "cell_type": "markdown",
   "metadata": {},
   "source": [
    "A célula acima imprime algumas colunas da linha do filme de comédia *Runaway Bride*. O filme contém 4895 palavras. A palavra \"it\" aparece 115 vezes, o que representa $\\frac{115}{4895} \\approx 0.0234092$ das palavras no filme. A palavra \"england\" não aparece.\n",
    "\n",
    "Contexto adicional: Esta representação numérica de um corpo de texto, que descreve apenas as frequências de palavras individuais, é chamada de representação de saco de palavras (bag-of-words). Este é um modelo frequentemente usado em [NLP](https://en.wikipedia.org/wiki/Natural_language_processing). Muita informação é descartada nesta representação: a ordem das palavras, o contexto de cada palavra, quem disse o quê, o elenco de personagens e atores, etc. No entanto, uma representação de saco de palavras é frequentemente usada para aplicações de aprendizado de máquina como um ponto de partida razoável, porque uma grande quantidade de informação também é retida e expressa em um formato conveniente e compacto.\n",
    "\n",
    "Neste projeto, investigaremos se essa representação é suficiente para construir um classificador de gênero preciso."
   ]
  },
  {
   "cell_type": "markdown",
   "metadata": {},
   "source": [
    "Todos os títulos de filmes são únicos. A função `row_for_title` fornece acesso rápido à única linha para cada título.\n",
    "\n",
    "*Nota: Todos os filmes em nosso conjunto de dados têm seus títulos em letras minúsculas.*"
   ]
  },
  {
   "cell_type": "code",
   "execution_count": null,
   "metadata": {},
   "outputs": [],
   "source": [
    "title_index = movies.index_by('Title')\n",
    "def row_for_title(title):\n",
    "    \"\"\"Retorna a linha para um título, semelhante à expressão a seguir (mas mais rápido)\n",
    "    \n",
    "    movies.where('Title', title).row(0)\n",
    "    \"\"\"\n",
    "    return title_index.get(title)[0]\n",
    "\n",
    "row_for_title('toy story')"
   ]
  },
  {
   "cell_type": "markdown",
   "metadata": {},
   "source": [
    "Por exemplo, a maneira mais rápida de encontrar a frequência de \"fun\" no filme *Toy Story* é acessar o item `'fun'` da sua linha. Verifique a tabela original para ver se isso funcionou para você!"
   ]
  },
  {
   "cell_type": "code",
   "execution_count": null,
   "metadata": {},
   "outputs": [],
   "source": [
    "row_for_title('toy story').item('fun') "
   ]
  },
  {
   "cell_type": "markdown",
   "metadata": {},
   "source": [
    "#### Questão 1.0\n",
    "Defina `expected_row_sum` para o número que você __espera__ que resulte da soma de todas as proporções em cada linha, excluindo as primeiras cinco colunas. Pense no que qualquer uma das linhas soma."
   ]
  },
  {
   "cell_type": "code",
   "execution_count": null,
   "metadata": {
    "deletable": false,
    "tags": []
   },
   "outputs": [],
   "source": [
    "# Defina row_sum como um número que é a soma (aproximada) de cada linha de proporções de palavras.\n",
    "expected_row_sum = ..."
   ]
  },
  {
   "cell_type": "code",
   "execution_count": null,
   "metadata": {
    "deletable": false,
    "editable": false
   },
   "outputs": [],
   "source": [
    "grader.check(\"q1_0\")"
   ]
  },
  {
   "cell_type": "markdown",
   "metadata": {},
   "source": [
    "Este conjunto de dados foi extraído de [um conjunto de dados da Universidade Cornell](http://www.cs.cornell.edu/~cristian/Cornell_Movie-Dialogs_Corpus.html). Após transformar o conjunto de dados (por exemplo, convertendo as palavras para minúsculas, removendo palavras impróprias e convertendo as contagens em frequências), criamos este novo conjunto de dados contendo a frequência de 5000 palavras comuns em cada filme."
   ]
  },
  {
   "cell_type": "code",
   "execution_count": null,
   "metadata": {},
   "outputs": [],
   "source": [
    "print('Words with frequencies:', movies.drop(np.arange(5)).num_columns) \n",
    "print('Movies with genres:', movies.num_rows)"
   ]
  },
  {
   "cell_type": "markdown",
   "metadata": {},
   "source": [
    "## 1.1. Radicalização de Palavras\n",
    "As colunas, exceto \"Title\" (Título), \"Year\" (Ano), \"Rating\" (Classificação), \"Genre\" (Gênero) e \"# Words\" (Número de Palavras) na tabela `movies` são todas palavras que aparecem em alguns dos filmes do nosso conjunto de dados. Essas palavras foram *radicalizadas*, ou abreviadas heuristicamente, na tentativa de transformar diferentes formas [flexionadas](https://en.wikipedia.org/wiki/Inflection) da mesma palavra base na mesma string. Por exemplo, a coluna \"manag\" é a soma das proporções das palavras \"manage\" (gerenciar), \"manager\" (gerente), \"managed\" (gerenciado) e \"managerial\" (gerencial) (e talvez outras) em cada filme. Esta é uma técnica comum usada em aprendizado de máquina e processamento de linguagem natural.\n",
    "\n",
    "A radicalização torna um pouco complicado procurar as palavras que você deseja usar, então fornecemos outra tabela chamada `vocab_table` que permitirá que você veja exemplos de versões não radicalizadas de cada palavra radicalizada. Execute o código abaixo para carregá-la.\n",
    "\n",
    "**Nota:** Você deve usar `vocab_table` para o restante da Seção 1.1, não `vocab_mapping`."
   ]
  },
  {
   "cell_type": "code",
   "execution_count": null,
   "metadata": {},
   "outputs": [],
   "source": [
    "# Apenas execute esta célula\n",
    "vocab_mapping = Table.read_table('stem.csv')\n",
    "stemmed = np.take(movies.labels, np.arange(3, len(movies.labels)))\n",
    "vocab_table = Table().with_column('Stem', stemmed).join('Stem', vocab_mapping)\n",
    "vocab_table.take(np.arange(1100, 1110))"
   ]
  },
  {
   "cell_type": "markdown",
   "metadata": {},
   "source": [
    "#### Questão 1.1.1\n",
    "Usando `vocab_table`, encontre a versão radicalizada da palavra \"elements\" e atribua o valor a `stemmed_message`."
   ]
  },
  {
   "cell_type": "code",
   "execution_count": null,
   "metadata": {
    "tags": []
   },
   "outputs": [],
   "source": [
    "stemmed_message = ...\n",
    "stemmed_message"
   ]
  },
  {
   "cell_type": "code",
   "execution_count": null,
   "metadata": {
    "deletable": false,
    "editable": false
   },
   "outputs": [],
   "source": [
    "grader.check(\"q1_1_1\")"
   ]
  },
  {
   "cell_type": "markdown",
   "metadata": {},
   "source": [
    "#### Questão 1.1.2\n",
    "Qual radical no conjunto de dados tem mais palavras que são abreviadas para ele? Atribua `most_stem` a esse radical."
   ]
  },
  {
   "cell_type": "code",
   "execution_count": null,
   "metadata": {
    "tags": []
   },
   "outputs": [],
   "source": [
    "most_stem = ...\n",
    "most_stem"
   ]
  },
  {
   "cell_type": "code",
   "execution_count": null,
   "metadata": {
    "deletable": false,
    "editable": false
   },
   "outputs": [],
   "source": [
    "grader.check(\"q1_1_2\")"
   ]
  },
  {
   "cell_type": "markdown",
   "metadata": {},
   "source": [
    "#### Questão 1.1.3\n",
    "Qual é a palavra mais longa no conjunto de dados cujo radical não foi encurtado? Atribua isso a `longest_uncut`. Em caso de empate, ordene alfabeticamente de Z a A (então, se suas opções forem \"gato\" ou \"rato\", você deve escolher \"rato\"). Note que ao ordenar letras, a letra `a` é menor que a letra `z`.\n",
    "\n",
    "*Dica 1:* `vocab_table` tem 2 colunas: uma para radicais e outra para a palavra não radicalizada (normal). Encontre a palavra mais longa que não foi cortada (mesmo comprimento que o radical).\n",
    "\n",
    "*Dica 2:* Há uma função de tabela que permite calcular uma função em cada elemento de uma coluna. Verifique a [Referência Python](http://data8.org/sp22/python-reference.html) se não tiver certeza de qual usar.\n",
    "\n",
    "*Dica 3:* Verifique os comentários na célula abaixo se estiver com dificuldades."
   ]
  },
  {
   "cell_type": "code",
   "execution_count": null,
   "metadata": {
    "for_assignment_type": "student",
    "tags": []
   },
   "outputs": [],
   "source": [
    "# Em nossa solução, achamos útil primeiro adicionar colunas com\n",
    "# o comprimento da palavra e o comprimento da raiz,\n",
    "# e depois adicionar uma coluna com a diferença entre esses comprimentos.\n",
    "# Qual será a diferença se a palavra não for encurtada?\n",
    "\n",
    "tbl_with_lens = ...\n",
    "tbl_with_diff = ...\n",
    "\n",
    "longest_uncut = ...\n",
    "longest_uncut"
   ]
  },
  {
   "cell_type": "code",
   "execution_count": null,
   "metadata": {
    "deletable": false,
    "editable": false
   },
   "outputs": [],
   "source": [
    "grader.check(\"q1_1_3\")"
   ]
  },
  {
   "cell_type": "markdown",
   "metadata": {},
   "source": [
    "#### Questão 1.1.4\n",
    "Quantos radicais têm apenas uma palavra que é abreviada para eles? Por exemplo, se o radical \"book\" (livro) mapeia apenas para a palavra \"books\" (livros) e se o radical \"a\" mapeia apenas para a palavra \"a\", ambos devem ser contados como radicais que mapeiam apenas para uma única palavra.\n",
    "\n",
    "Atribua `count_single_stems` à contagem de radicais que mapeiam para apenas uma palavra."
   ]
  },
  {
   "cell_type": "code",
   "execution_count": null,
   "metadata": {
    "tags": []
   },
   "outputs": [],
   "source": [
    "count_single_stems = ...\n",
    "count_single_stems"
   ]
  },
  {
   "cell_type": "code",
   "execution_count": null,
   "metadata": {
    "deletable": false,
    "editable": false
   },
   "outputs": [],
   "source": [
    "grader.check(\"q1_1_4\")"
   ]
  },
  {
   "cell_type": "markdown",
   "metadata": {},
   "source": [
    "## 1.2. Análise Exploratória de Dados: Regressão Linear"
   ]
  },
  {
   "cell_type": "markdown",
   "metadata": {},
   "source": [
    "Vamos explorar nosso conjunto de dados antes de tentar construir um classificador. Para começar, usaremos as proporções associadas para investigar a relação entre diferentes palavras.\n",
    "\n",
    "A primeira associação que investigaremos é a associação entre a proporção de palavras que são \"outer\" (externas) e a proporção de palavras que são \"space\" (espaço).\n",
    "\n",
    "Como de costume, investigaremos nossos dados visualmente antes de realizar qualquer análise numérica.\n",
    "\n",
    "Execute a célula abaixo para plotar um diagrama de dispersão das proporções de \"space\" (espaço) vs proporções de \"outer\" (externas) e para criar a tabela `outer_space`. Cada ponto no gráfico de dispersão representa um filme."
   ]
  },
  {
   "cell_type": "code",
   "execution_count": null,
   "metadata": {},
   "outputs": [],
   "source": [
    "# Apenas execute esta célula\n",
    "outer_space = movies.select(\"outer\", \"space\")\n",
    "outer_space.scatter(\"outer\", \"space\")\n",
    "plots.axis([-0.0005, 0.001, -0.0005, 0.003]);\n",
    "plots.xticks(rotation=45);"
   ]
  },
  {
   "cell_type": "markdown",
   "metadata": {},
   "source": [
    "#### Questão 1.2.1\n",
    "Olhando para esse gráfico, é difícil ver se há uma associação. Calcule o coeficiente de correlação para a possível associação linear entre a proporção de palavras que são \"outer\" (externas) e a proporção de palavras que são \"space\" (espaço) para cada filme no conjunto de dados, e atribua-o a `outer_space_r`.\n",
    "\n",
    "*Dica:* Se você precisar de uma revisão sobre como calcular o coeficiente de correlação, confira [Capítulo 15.1](https://inferentialthinking.com/chapters/15/1/Correlation.html#calculating-r)."
   ]
  },
  {
   "cell_type": "code",
   "execution_count": null,
   "metadata": {
    "tags": []
   },
   "outputs": [],
   "source": [
    "# Esses dois arrays devem deixar seu código mais limpo!\n",
    "outer = movies.column(\"outer\")\n",
    "space = movies.column(\"space\")\n",
    "\n",
    "outer_su = ...\n",
    "space_su = ...\n",
    "\n",
    "outer_space_r = ...\n",
    "outer_space_r"
   ]
  },
  {
   "cell_type": "code",
   "execution_count": null,
   "metadata": {
    "deletable": false,
    "editable": false
   },
   "outputs": [],
   "source": [
    "grader.check(\"q1_2_1\")"
   ]
  },
  {
   "cell_type": "markdown",
   "metadata": {},
   "source": [
    "<!-- BEGIN QUESTION -->\n",
    "\n",
    "#### Questão 1.2.2\n",
    "Escolha duas palavras *diferentes* no conjunto de dados com uma magnitude (valor absoluto) de correlação maior que 0.2 e plote um gráfico de dispersão com uma linha de melhor ajuste para elas. Por favor, não escolha \"outer\" e \"space\" ou \"san\" e \"francisco\". O código para plotar o gráfico de dispersão e a linha de melhor ajuste é fornecido para você, você só precisa calcular os valores corretos para `r`, `slope` e `intercept`.\n",
    "\n",
    "*Dica 1:* É mais fácil pensar em palavras com correlação positiva, ou seja, palavras que são frequentemente mencionadas juntas. Tente pensar em frases comuns ou expressões idiomáticas.\n",
    "\n",
    "*Dica 2:* Consulte a [Seção 15.2](https://inferentialthinking.com/chapters/15/2/Regression_Line.html#units-of-measurement-of-the-slope) do livro didático para as fórmulas."
   ]
  },
  {
   "cell_type": "code",
   "execution_count": null,
   "metadata": {
    "tags": []
   },
   "outputs": [],
   "source": [
    "word_x = ...\n",
    "word_y = ...\n",
    "\n",
    "# Esses arrays devem deixar seu código mais limpo!\n",
    "arr_x = movies.column(word_x)\n",
    "arr_y = movies.column(word_y)\n",
    "\n",
    "x_su = ...\n",
    "y_su = ...\n",
    "\n",
    "r = ...\n",
    "\n",
    "slope = ...\n",
    "intercept = ...\n",
    "\n",
    "# NÃO ALTERE ESTA LINHA DE CÓDIGO\n",
    "movies.scatter(word_x, word_y)\n",
    "max_x = max(movies.column(word_x))\n",
    "plots.title(f\"Correlation: {r}, magnitude greater than .2: {abs(r) >= 0.2}\")\n",
    "plots.plot([0, max_x * 1.3], [intercept, intercept + slope * (max_x*1.3)], color='gold');"
   ]
  },
  {
   "cell_type": "markdown",
   "metadata": {},
   "source": [
    "<!-- END QUESTION -->\n",
    "\n",
    "#### Questão 1.2.3\n",
    "Imagine que você escolheu as palavras \"san\" e \"francisco\" como as duas palavras que você esperaria que estivessem correlacionadas porque elas compõem o nome da cidade San Francisco. Atribua `san_francisco` ao número 1 ou ao número 2 de acordo com qual afirmação é verdadeira em relação à correlação entre \"san\" e \"francisco\".\n",
    "\n",
    "1. \"san\" também pode preceder outros nomes de cidades como San Diego e San Jose. Isso pode levar a \"san\" aparecer em filmes sem \"francisco\" e reduzir a correlação entre \"san\" e \"francisco.\"\n",
    "2. \"san\" também pode preceder outros nomes de cidades como San Diego e San Jose. O fato de que \"san\" poderia aparecer mais frequentemente na frente de diferentes cidades e sem \"francisco\" aumentaria a correlação entre \"san\" e \"francisco.\"\n",
    "\n",
    "\n"
   ]
  },
  {
   "cell_type": "code",
   "execution_count": null,
   "metadata": {
    "tags": []
   },
   "outputs": [],
   "source": [
    "san_francisco = ..."
   ]
  },
  {
   "cell_type": "code",
   "execution_count": null,
   "metadata": {
    "deletable": false,
    "editable": false
   },
   "outputs": [],
   "source": [
    "grader.check(\"q1_2_3\")"
   ]
  },
  {
   "cell_type": "markdown",
   "metadata": {},
   "source": [
    "## 1.3. Dividindo o conjunto de dados\n",
    "Agora, vamos usar nosso conjunto de dados `movies` para dois propósitos.\n",
    "\n",
    "1. Primeiro, queremos *treinar* classificadores de gênero de filmes.\n",
    "2. Segundo, queremos *testar* o desempenho de nossos classificadores.\n",
    "\n",
    "Portanto, precisamos de dois conjuntos de dados diferentes: *treinamento* e *teste*.\n",
    "\n",
    "O objetivo de um classificador é classificar dados não vistos que são semelhantes aos dados de treinamento. O conjunto de dados de teste nos ajudará a determinar a precisão de nossas previsões comparando os gêneros reais dos filmes com os gêneros que nosso classificador prevê. Portanto, devemos garantir que não haja filmes que apareçam em ambos os conjuntos. Fazemos isso dividindo o conjunto de dados aleatoriamente. O conjunto de dados já foi permutado aleatoriamente, então é fácil dividir. Basta pegar os primeiros 85% do conjunto de dados para treinamento e o restante para teste.\n",
    "\n",
    "Execute o código abaixo (sem alterá-lo) para separar os conjuntos de dados em duas tabelas."
   ]
  },
  {
   "cell_type": "code",
   "execution_count": null,
   "metadata": {},
   "outputs": [],
   "source": [
    "# Aqui temos a proporção de nossos dados\n",
    "# que queremos designar para treinamento como 17/20\n",
    "# do nosso conjunto de dados total. 3/20 dos dados são\n",
    "# reservados para teste.\n",
    "\n",
    "training_proportion = 17/20\n",
    "\n",
    "num_movies = movies.num_rows\n",
    "num_train = int(num_movies * training_proportion)\n",
    "num_test = num_movies - num_train\n",
    "\n",
    "train_movies = movies.take(np.arange(num_train))\n",
    "test_movies = movies.take(np.arange(num_train, num_movies))\n",
    "\n",
    "print(\"Training: \",   train_movies.num_rows, \";\",\n",
    "      \"Test: \",       test_movies.num_rows)"
   ]
  },
  {
   "cell_type": "markdown",
   "metadata": {},
   "source": [
    "<!-- BEGIN QUESTION -->\n",
    "\n",
    "#### Questão 1.3.1\n",
    "Desenhe um gráfico de barras horizontal com duas barras que mostram a proporção de filmes de comédia em cada conjunto de dados (`train_movies` e `test_movies`). As duas barras devem ser rotuladas como \"Treinamento\" e \"Teste\". Complete a função `comedy_proportion` primeiro; ela deve ajudá-lo a criar o gráfico de barras.\n",
    "\n",
    "*Dica*: Consulte a [Seção 7.1](https://inferentialthinking.com/chapters/07/1/Visualizing_Categorical_Distributions.html#bar-chart) do livro didático se precisar de uma revisão sobre gráficos de barras.\n",
    "\n",
    "\n"
   ]
  },
  {
   "cell_type": "code",
   "execution_count": null,
   "metadata": {
    "for_assignment_type": "solution",
    "tags": []
   },
   "outputs": [],
   "source": [
    "def comedy_proportion(table):\n",
    "    # Retorna a proporção de filmes em uma tabela que têm o gênero comédia.\n",
    "    ...\n",
    "    return ...\n",
    "\n",
    "# A solução da equipe levou várias linhas. Comece criando uma tabela.\n",
    "# Se você ficar preso, pense sobre que tipo de tabela você precisa para o barh funcionar\n",
    "..."
   ]
  },
  {
   "cell_type": "markdown",
   "metadata": {},
   "source": [
    "<!-- END QUESTION -->\n",
    "\n",
    "# Parte 2: K-Nearest Neighbors - Um Exemplo Guiado\n",
    "\n",
    "[K-Nearest Neighbors (k-NN)](https://inferentialthinking.com/chapters/17/1/Nearest_Neighbors.html) é um algoritmo de classificação. Dadas algumas *atribuições* numéricas (também chamadas de *características*) de um exemplo não visto, ele decide a qual categoria esse exemplo pertence com base em sua similaridade com exemplos previamente vistos. Prever a categoria de um exemplo é chamado de *rotulagem*, e a categoria prevista também é chamada de *rótulo*.\n",
    "\n",
    "Uma característica (atributo) que temos sobre cada filme é *a proporção de vezes que uma determinada palavra aparece no filme*, e os rótulos são dois gêneros de filmes: comédia e thriller. O algoritmo requer muitos exemplos previamente vistos para os quais tanto as características quanto os rótulos são conhecidos: essa é a tabela `train_movies`.\n",
    "\n",
    "Para construir o entendimento, vamos visualizar o algoritmo em vez de apenas descrevê-lo."
   ]
  },
  {
   "cell_type": "markdown",
   "metadata": {},
   "source": [
    "## 2.1. Classificando um filme\n",
    "\n",
    "No k-NN, classificamos um filme encontrando os `k` filmes no *conjunto de treinamento* que são mais semelhantes de acordo com as características que escolhemos. Chamamos esses filmes com características semelhantes de *vizinhos mais próximos*. O algoritmo k-NN atribui o filme à categoria mais comum entre seus `k` vizinhos mais próximos.\n",
    "\n",
    "Vamos nos limitar a apenas 2 características por enquanto, para que possamos plotar cada filme. As características que usaremos são as proporções das palavras \"water\" (água) e \"feel\" (sentir) no filme. Pegando o filme *Monty Python and the Holy Grail* (no conjunto de teste), 0.000804074 de suas palavras são \"water\" e 0.0010721 são \"feel\". Este filme aparece no conjunto de teste, então vamos imaginar que ainda não sabemos seu gênero.\n",
    "\n",
    "Primeiro, precisamos tornar nossa noção de similaridade mais precisa. Diremos que a *distância* entre dois filmes é a distância em linha reta entre eles quando plotamos suas características em um diagrama de dispersão.\n",
    "\n",
    "**Essa distância é chamada de distância Euclidiana, cuja fórmula é $\\sqrt{(x_1 - x_2)^2 + (y_1 - y_2)^2}$.**\n",
    "\n",
    "Por exemplo, no filme *Clerks.* (no conjunto de treinamento), 0.00016293 de todas as palavras no filme são \"water\" e 0.00154786 são \"feel\". Sua distância de *Monty Python and the Holy Grail* neste conjunto de características de 2 palavras é $\\sqrt{(0.000804074 - 0.000162933)^2 + (0.0010721 - 0.00154786)^2} \\approx 0.000798379$. (Se incluíssemos mais ou diferentes características, a distância poderia ser diferente.)\n",
    "\n",
    "Um terceiro filme, *The Godfather* (no conjunto de treinamento), tem 0 \"water\" e 0.00015122 \"feel\".\n",
    "\n",
    "A função abaixo cria um gráfico para exibir as características \"water\" e \"feel\" de um filme de teste e alguns filmes de treinamento. Como você pode ver no resultado, *Monty Python and the Holy Grail* é mais semelhante a *Clerks.* do que a *The Godfather* com base nessas características, o que faz sentido, pois ambos os filmes são comédias, enquanto *The Godfather* é um thriller."
   ]
  },
  {
   "cell_type": "code",
   "execution_count": null,
   "metadata": {},
   "outputs": [],
   "source": [
    "# Apenas execute esta célula\n",
    "def plot_with_two_features(test_movie, training_movies, x_feature, y_feature):\n",
    "    \"\"\"Plot um filme de teste e filmes de treinamento usando duas features.\"\"\"\n",
    "    test_row = row_for_title(test_movie)\n",
    "    distances = Table().with_columns(\n",
    "            x_feature, [test_row.item(x_feature)],\n",
    "            y_feature, [test_row.item(y_feature)],\n",
    "            'Color',   ['unknown'],\n",
    "            'Title',   [test_movie]\n",
    "        )\n",
    "    for movie in training_movies:\n",
    "        row = row_for_title(movie)\n",
    "        distances.append([row.item(x_feature), row.item(y_feature), row.item('Genre'), movie])\n",
    "    distances.scatter(x_feature, y_feature, group='Color', labels='Title', s=50)\n",
    "    \n",
    "training = [\"clerks.\", \"the godfather\"] \n",
    "plot_with_two_features(\"monty python and the holy grail\", training, \"water\", \"feel\")\n",
    "plots.axis([-0.0008, 0.001, -0.004, 0.007]);"
   ]
  },
  {
   "cell_type": "markdown",
   "metadata": {},
   "source": [
    "#### Questão 2.1.1\n",
    "\n",
    "Calcule a distância Euclidiana (definida na seção acima) entre os dois filmes, *Monty Python and the Holy Grail* e *The Godfather*, usando apenas as características `water` e `feel`. Atribua o nome `one_distance` a essa distância.\n",
    "\n",
    "*Dica 1:* Se você tiver uma linha, pode usar `item` para obter um valor de uma coluna pelo seu nome. Por exemplo, se `r` é uma linha, então `r.item(\"Genre\")` é o valor na coluna `\"Genre\"` na linha `r`.\n",
    "\n",
    "*Dica 2:* Consulte o início da Parte 1 se não se lembrar do que `row_for_title` faz.\n",
    "\n",
    "*Dica 3:* Na fórmula para a distância Euclidiana, pense cuidadosamente sobre o que `x` e `y` representam. Consulte o exemplo no texto acima se estiver em dúvida."
   ]
  },
  {
   "cell_type": "code",
   "execution_count": null,
   "metadata": {
    "deletable": false,
    "tags": []
   },
   "outputs": [],
   "source": [
    "python = row_for_title(\"monty python and the holy grail\") \n",
    "godfather = row_for_title(\"the godfather\") \n",
    "\n",
    "one_distance = ...\n",
    "one_distance"
   ]
  },
  {
   "cell_type": "code",
   "execution_count": null,
   "metadata": {
    "deletable": false,
    "editable": false
   },
   "outputs": [],
   "source": [
    "grader.check(\"q2_1_1\")"
   ]
  },
  {
   "cell_type": "markdown",
   "metadata": {},
   "source": [
    "Abaixo, adicionamos um terceiro filme de treinamento, *The Silence of the Lambs* (O Silêncio dos Inocentes). Antes, o ponto mais próximo de *Monty Python and the Holy Grail* era *Clerks.*, um filme de comédia. No entanto, agora o ponto mais próximo é *The Silence of the Lambs*, um filme de suspense."
   ]
  },
  {
   "cell_type": "code",
   "execution_count": null,
   "metadata": {},
   "outputs": [],
   "source": [
    "training = [\"clerks.\", \"the godfather\", \"the silence of the lambs\"] \n",
    "plot_with_two_features(\"monty python and the holy grail\", training, \"water\", \"feel\") \n",
    "plots.axis([-0.0008, 0.001, -0.004, 0.007]);"
   ]
  },
  {
   "cell_type": "markdown",
   "metadata": {},
   "source": [
    "#### Questão 2.1.2\n",
    "Complete a função `distance_two_features` que calcula a distância Euclidiana entre quaisquer dois filmes, usando duas características. As duas últimas linhas chamam sua função para mostrar que *Monty Python and the Holy Grail* está mais próximo de *The Silence of the Lambs* do que de *Clerks*."
   ]
  },
  {
   "cell_type": "code",
   "execution_count": null,
   "metadata": {
    "deletable": false,
    "tags": []
   },
   "outputs": [],
   "source": [
    "def distance_two_features(title0, title1, x_feature, y_feature):\n",
    "    \"\"\"Calcula a distância entre dois filmes com títulos title0 e title1.\n",
    "    \n",
    "    Apenas as características nomeadas x_feature e y_feature são usadas ao calcular a distância.\n",
    "    \"\"\"\n",
    "\n",
    "    row0 = ...\n",
    "    row1 = ...\n",
    "    ...\n",
    "\n",
    "for movie in make_array(\"clerks.\", \"the silence of the lambs\"):\n",
    "    movie_distance = distance_two_features(movie, \"monty python and the holy grail\", \"water\", \"feel\")\n",
    "    print(movie, 'distance:\\t', movie_distance)"
   ]
  },
  {
   "cell_type": "code",
   "execution_count": null,
   "metadata": {
    "deletable": false,
    "editable": false
   },
   "outputs": [],
   "source": [
    "grader.check(\"q2_1_2\")"
   ]
  },
  {
   "cell_type": "markdown",
   "metadata": {},
   "source": [
    "#### Questão 2.1.3\n",
    "Defina a função `distance_from_python` para que funcione conforme descrito em sua documentação.\n",
    "\n",
    "**Nota:** Sua solução não deve usar operações aritméticas diretamente. Em vez disso, deve fazer uso da funcionalidade existente acima!"
   ]
  },
  {
   "cell_type": "code",
   "execution_count": null,
   "metadata": {
    "deletable": false,
    "tags": []
   },
   "outputs": [],
   "source": [
    "def distance_from_python(title):\n",
    "    \"\"\"A distância entre o filme dado e \"monty python and the holy grail\", \n",
    "    com base nas características \"water\" e \"feel\".\n",
    "    \n",
    "    Esta função recebe um único argumento:\n",
    "      title: Uma string, o nome de um filme.\n",
    "    \"\"\"\n",
    "    \n",
    "    ...\n",
    "\n",
    "# Calcule a distância entre \"Clerks.\" e \"Monty Python and the Holy Grail\"\n",
    "distance_from_python('clerks.')"
   ]
  },
  {
   "cell_type": "code",
   "execution_count": null,
   "metadata": {
    "deletable": false,
    "editable": false
   },
   "outputs": [],
   "source": [
    "grader.check(\"q2_1_3\")"
   ]
  },
  {
   "cell_type": "markdown",
   "metadata": {},
   "source": [
    "#### Questão 2.1.4\n",
    "\n",
    "Usando as características `\"water\"` e `\"feel\"`, quais são os nomes e gêneros dos 5 filmes no **conjunto de treinamento** mais próximos de *Monty Python and the Holy Grail*? Para responder a esta pergunta, faça uma **tabela** chamada `close_movies` contendo esses 5 filmes com as colunas `\"Title\"`, `\"Genre\"`, `\"water\"`, e `\"feel\"`, assim como uma coluna chamada `\"distance from python\"` que contém a distância de *Monty Python and the Holy Grail*. A tabela deve estar **ordenada em ordem crescente por `\"distance from python\"`**.\n",
    "\n",
    "*Nota:* Por que distâncias menores de *Monty Python and the Holy Grail* são mais úteis para nos ajudar a classificar o filme?\n",
    "\n",
    "*Dica:* Sua tabela final deve ter apenas 5 linhas. Como você pode obter as primeiras cinco linhas de uma tabela?"
   ]
  },
  {
   "cell_type": "code",
   "execution_count": null,
   "metadata": {
    "for_assignment_type": "solution",
    "tags": []
   },
   "outputs": [],
   "source": [
    "\n",
    "# A solução da equipe levou várias linhas.\n",
    "...\n",
    "close_movies = ...\n",
    "close_movies"
   ]
  },
  {
   "cell_type": "code",
   "execution_count": null,
   "metadata": {
    "deletable": false,
    "editable": false
   },
   "outputs": [],
   "source": [
    "grader.check(\"q2_1_4\")"
   ]
  },
  {
   "cell_type": "markdown",
   "metadata": {},
   "source": [
    "#### Questão 2.1.5\n",
    "Em seguida, classificaremos *Monty Python and the Holy Grail* com base nos gêneros dos filmes mais próximos.\n",
    "\n",
    "Para isso, defina a função `most_common` para que funcione conforme descrito em sua documentação abaixo."
   ]
  },
  {
   "cell_type": "code",
   "execution_count": null,
   "metadata": {
    "deletable": false,
    "scrolled": true,
    "tags": []
   },
   "outputs": [],
   "source": [
    "def most_common(label, table):\n",
    "    \"\"\"O elemento mais comum em uma coluna de uma tabela.\n",
    "    \n",
    "    Esta função recebe dois argumentos:\n",
    "      label: O rótulo de uma coluna, uma string.\n",
    "      table: Uma tabela.\n",
    "     \n",
    "    Ela retorna o valor mais comum na coluna label da tabela.\n",
    "    Em caso de empate, ela retorna qualquer um dos valores mais comuns.    \n",
    "    \"\"\"\n",
    "    ...\n",
    "\n",
    "# Chamar most_common na sua tabela dos 5 vizinhos mais próximos classifica\n",
    "# \"monty python and the holy grail\" como um filme de suspense, 3 votos a 2.\n",
    "most_common('Genre', close_movies)"
   ]
  },
  {
   "cell_type": "code",
   "execution_count": null,
   "metadata": {
    "deletable": false,
    "editable": false
   },
   "outputs": [],
   "source": [
    "grader.check(\"q2_1_5\")"
   ]
  },
  {
   "cell_type": "markdown",
   "metadata": {},
   "source": [
    "Parabéns são merecidos -- você classificou seu primeiro filme! No entanto, podemos ver que o classificador não funciona muito bem, pois categorizou *Monty Python and the Holy Grail* como um filme de suspense (a menos que você considere a cena emocionante da granada sagrada). Vamos ver se podemos fazer melhor!"
   ]
  },
  {
   "cell_type": "markdown",
   "metadata": {},
   "source": [
    "# Parabéns\n",
    "\n",
    "<img src=\"opo1.jpeg\" alt=\"drawing\" width=\"300\"/>\n",
    "\n",
    "Opo quer parabenizá-lo por alcançar o ponto de verificação!\n",
    "\n",
    "Seu instrutor pode querer que você envie seu trabalho na Parte 1 como um ponto de verificação do seu progresso.\n",
    "\n",
    "Execute as células que Opo está olhando.\n",
    "\n",
    "<img src=\"opo.jpeg\" alt=\"drawing\" width=\"300\"/>"
   ]
  },
  {
   "cell_type": "code",
   "execution_count": null,
   "metadata": {},
   "outputs": [],
   "source": [
    "checkpoint_tests = [\"q1_0\", \"q1_1_1\",\"q1_1_2\",\"q1_1_3\",\"q1_1_4\",\"q1_2_1\",\"q1_2_3\",\n",
    "                    \"q2_1_1\",\"q2_1_2\",\"q2_1_3\",\"q2_1_4\",\"q2_1_5\"]\n",
    "for test in checkpoint_tests:\n",
    "    display(grader.check(test))"
   ]
  },
  {
   "cell_type": "markdown",
   "metadata": {},
   "source": [
    "## Submissão\n",
    "Se o seu instrutor gostaria que você enviasse o trabalho na parte um como um ponto de verificação do projeto, siga as instruções abaixo.\n",
    "\n",
    "Certifique-se de ter executado todas as células no seu notebook em ordem antes de executar a célula abaixo, para que todas as imagens/gráficos apareçam na saída. Você pode fazer isso indo em `Cell > Run All`. A célula abaixo gerará um arquivo zip para você enviar. **Por favor, salve antes de exportar!**\n",
    "\n",
    "**Lembretes:**\n",
    "- Certifique-se de esperar até que o autograder termine de rodar para garantir que sua submissão foi processada corretamente e que você enviou para a tarefa correta."
   ]
  },
  {
   "cell_type": "code",
   "execution_count": null,
   "metadata": {},
   "outputs": [],
   "source": [
    "# Salve seu notebook primeiro, depois execute esta célula para exportar sua submissão.\n",
    "grader.export(pdf=False, force_save=True)"
   ]
  },
  {
   "cell_type": "markdown",
   "metadata": {},
   "source": [
    "# Parte 3: Características"
   ]
  },
  {
   "cell_type": "markdown",
   "metadata": {},
   "source": [
    "Agora, vamos estender nosso classificador para considerar mais de duas características ao mesmo tempo.\n",
    "\n",
    "A distância Euclidiana ainda faz sentido com mais de duas características. Para `n` características diferentes, calculamos a diferença entre os valores correspondentes das características de dois filmes, elevamos ao quadrado cada uma das `n` diferenças, somamos os números resultantes e tiramos a raiz quadrada da soma."
   ]
  },
  {
   "cell_type": "markdown",
   "metadata": {},
   "source": [
    "#### Questão 3.0\n",
    "Escreva uma função chamada `distance` para calcular a distância Euclidiana entre dois **arrays** de características **numéricas** (por exemplo, arrays das proporções de vezes que diferentes palavras aparecem). A função deve ser capaz de calcular a distância Euclidiana entre dois arrays de comprimento arbitrário (mas igual).\n",
    "\n",
    "Em seguida, use a função que você acabou de definir para calcular a distância **entre o primeiro e o segundo filme** no **conjunto de treinamento** *usando todas as características*. (Lembre-se de que as primeiras cinco colunas das suas tabelas não são características.)\n",
    "\n",
    "*Dica 1:* Para converter linhas em arrays, use `np.array`. Por exemplo, se `t` fosse uma tabela, `np.array(t.row(0))` converte a linha 0 de `t` em um array.\n",
    "\n",
    "*Dica 2:* Certifique-se de remover as primeiras cinco colunas da tabela antes de calcular `distance_first_to_second`, pois essas colunas não contêm nenhuma característica (as proporções das palavras)."
   ]
  },
  {
   "cell_type": "code",
   "execution_count": null,
   "metadata": {
    "deletable": false,
    "tags": []
   },
   "outputs": [],
   "source": [
    "def distance(features_array1, features_array2):\n",
    "    \"\"\"A distância Euclidiana entre dois arrays de valores de características.\"\"\"\n",
    "    ...\n",
    "\n",
    "distance_first_to_second = ...\n",
    "distance_first_to_second"
   ]
  },
  {
   "cell_type": "code",
   "execution_count": null,
   "metadata": {
    "deletable": false,
    "editable": false
   },
   "outputs": [],
   "source": [
    "grader.check(\"q3_0\")"
   ]
  },
  {
   "cell_type": "markdown",
   "metadata": {},
   "source": [
    "## 3.1. Criando seu próprio conjunto de características\n",
    "\n",
    "Infelizmente, usar todas as características tem algumas desvantagens. Uma desvantagem clara é a falta de *eficiência computacional* -- calcular distâncias Euclidianas leva muito tempo quando temos muitas características. Você pode ter notado isso na última questão!\n",
    "\n",
    "Então, vamos selecionar apenas 20. Gostaríamos de escolher características que sejam muito *discriminativas*. Ou seja, características que nos levem a classificar corretamente a maior parte do conjunto de teste possível. Esse processo de escolher características que farão um classificador funcionar bem às vezes é chamado de *seleção de características*, ou, mais amplamente, *engenharia de características*."
   ]
  },
  {
   "cell_type": "markdown",
   "metadata": {},
   "source": [
    "Nesta questão, vamos ajudá-lo a começar a selecionar características mais eficazes para distinguir filmes de comédia de filmes de suspense. O gráfico abaixo (gerado para você) mostra o número médio de vezes que cada palavra ocorre em um filme de comédia no eixo horizontal e o número médio de vezes que ocorre em um filme de suspense no eixo vertical.\n",
    "\n",
    "*Nota: A linha traçada é a linha de melhor ajuste, NÃO a linha y=x.*"
   ]
  },
  {
   "cell_type": "markdown",
   "metadata": {},
   "source": [
    "![alt text](word_plot.png \"Title\")"
   ]
  },
  {
   "cell_type": "markdown",
   "metadata": {},
   "source": [
    "As questões 3.1.1 a 3.1.4 pedirão que você interprete o gráfico acima. Para cada questão, selecione uma das seguintes opções e atribua seu número ao nome fornecido.\n",
    "1. A palavra é comum tanto em filmes de comédia quanto em filmes de suspense.\n",
    "2. A palavra é incomum em filmes de comédia e comum em filmes de suspense.\n",
    "3. A palavra é comum em filmes de comédia e incomum em filmes de suspense.\n",
    "4. A palavra é incomum tanto em filmes de comédia quanto em filmes de suspense.\n",
    "5. Não é possível dizer a partir do gráfico.\n",
    "\n",
    "**Questão 3.1.1**\n",
    "\n",
    "Quais propriedades as palavras no canto inferior esquerdo do gráfico possuem? Sua resposta deve ser um único número de 1 a 5, correspondente à afirmação correta das opções acima."
   ]
  },
  {
   "cell_type": "code",
   "execution_count": null,
   "metadata": {
    "deletable": false,
    "tags": []
   },
   "outputs": [],
   "source": [
    "bottom_left = ..."
   ]
  },
  {
   "cell_type": "code",
   "execution_count": null,
   "metadata": {
    "deletable": false,
    "editable": false
   },
   "outputs": [],
   "source": [
    "grader.check(\"q3_1_1\")"
   ]
  },
  {
   "cell_type": "markdown",
   "metadata": {},
   "source": [
    "**Questão 3.1.2**\n",
    "\n",
    "Quais propriedades as palavras no canto inferior direito possuem?"
   ]
  },
  {
   "cell_type": "code",
   "execution_count": null,
   "metadata": {
    "deletable": false,
    "tags": []
   },
   "outputs": [],
   "source": [
    "bottom_right = ..."
   ]
  },
  {
   "cell_type": "code",
   "execution_count": null,
   "metadata": {
    "deletable": false,
    "editable": false
   },
   "outputs": [],
   "source": [
    "grader.check(\"q3_1_2\")"
   ]
  },
  {
   "cell_type": "markdown",
   "metadata": {},
   "source": [
    "**Questão 3.1.3**\n",
    "\n",
    "Quais propriedades as palavras no canto superior direito possuem?"
   ]
  },
  {
   "cell_type": "code",
   "execution_count": null,
   "metadata": {
    "deletable": false,
    "tags": []
   },
   "outputs": [],
   "source": [
    "top_right = ..."
   ]
  },
  {
   "cell_type": "code",
   "execution_count": null,
   "metadata": {
    "deletable": false,
    "editable": false
   },
   "outputs": [],
   "source": [
    "grader.check(\"q3_1_3\")"
   ]
  },
  {
   "cell_type": "markdown",
   "metadata": {},
   "source": [
    "**Questão 3.1.4**\n",
    "\n",
    "Quais propriedades as palavras no canto superior esquerdo possuem?"
   ]
  },
  {
   "cell_type": "code",
   "execution_count": null,
   "metadata": {
    "deletable": false,
    "tags": []
   },
   "outputs": [],
   "source": [
    "top_left = ..."
   ]
  },
  {
   "cell_type": "code",
   "execution_count": null,
   "metadata": {
    "deletable": false,
    "editable": false
   },
   "outputs": [],
   "source": [
    "grader.check(\"q3_1_4\")"
   ]
  },
  {
   "cell_type": "markdown",
   "metadata": {},
   "source": [
    "**Questão 3.1.5**\n",
    "\n",
    "Se virmos um filme com muitas palavras que são comuns em filmes de comédia, mas incomuns em filmes de suspense, qual seria um palpite razoável sobre o gênero do filme? Atribua `movie_genre` ao número inteiro correspondente à sua resposta:\n",
    "1. É um filme de suspense.\n",
    "2. É um filme de comédia."
   ]
  },
  {
   "cell_type": "code",
   "execution_count": null,
   "metadata": {
    "deletable": false,
    "tags": []
   },
   "outputs": [],
   "source": [
    "movie_genre_guess = ..."
   ]
  },
  {
   "cell_type": "code",
   "execution_count": null,
   "metadata": {
    "deletable": false,
    "editable": false
   },
   "outputs": [],
   "source": [
    "grader.check(\"q3_1_5\")"
   ]
  },
  {
   "cell_type": "markdown",
   "metadata": {},
   "source": [
    "#### Questão 3.1.6\n",
    "Usando o gráfico acima, faça um array de pelo menos 10 palavras comuns que você acha que podem permitir que você **distinga** entre filmes de comédia e suspense. Certifique-se de escolher palavras que sejam **frequentes o suficiente** para que cada filme contenha pelo menos uma delas. Não escolha apenas as palavras mais frequentes -- você pode fazer muito melhor."
   ]
  },
  {
   "cell_type": "code",
   "execution_count": null,
   "metadata": {
    "deletable": false,
    "tags": []
   },
   "outputs": [],
   "source": [
    "# Defina my_features como um array de pelo menos 10 características (strings que são rótulos de colunas)\n",
    "\n",
    "my_features = ...\n",
    "\n",
    "# Selecione as 10 características de interesse tanto do conjunto de treino quanto do conjunto de teste\n",
    "train_my_features = train_movies.select(my_features)\n",
    "test_my_features = test_movies.select(my_features)"
   ]
  },
  {
   "cell_type": "code",
   "execution_count": null,
   "metadata": {
    "deletable": false,
    "editable": false
   },
   "outputs": [],
   "source": [
    "grader.check(\"q3_1_6\")"
   ]
  },
  {
   "cell_type": "markdown",
   "metadata": {},
   "source": [
    "Este teste garante que você escolheu palavras de modo que pelo menos uma apareça em cada filme. Se você não conseguir encontrar palavras que satisfaçam este teste apenas pela intuição, tente escrever um código para imprimir os títulos dos filmes que não contêm nenhuma palavra da sua lista e, em seguida, veja as palavras que eles contêm."
   ]
  },
  {
   "cell_type": "markdown",
   "metadata": {},
   "source": [
    "<!-- BEGIN QUESTION -->\n",
    "\n",
    "#### Questão 3.1.7\n",
    "Em duas frases ou menos, descreva como você selecionou suas características."
   ]
  },
  {
   "cell_type": "markdown",
   "metadata": {},
   "source": [
    "_Digite sua resposta aqui, substituindo este texto._"
   ]
  },
  {
   "cell_type": "markdown",
   "metadata": {},
   "source": [
    "<!-- END QUESTION -->\n",
    "\n",
    "Em seguida, vamos classificar o primeiro filme do nosso conjunto de teste usando essas características. Você pode examinar o filme executando as células abaixo. Você acha que ele será classificado corretamente?"
   ]
  },
  {
   "cell_type": "code",
   "execution_count": null,
   "metadata": {},
   "outputs": [],
   "source": [
    "print(\"Movie:\")\n",
    "test_movies.take(0).select('Title', 'Genre').show()\n",
    "print(\"Features:\")\n",
    "test_my_features.take(0).show()"
   ]
  },
  {
   "cell_type": "markdown",
   "metadata": {},
   "source": [
    "Como antes, queremos procurar os filmes no conjunto de treinamento que são mais parecidos com nosso filme de teste. Calcularemos as distâncias Euclidianas do filme de teste (usando `my_features`) para todos os filmes no conjunto de treinamento. Você poderia fazer isso com um `for` loop, mas para tornar isso computacionalmente mais rápido, fornecemos uma função, `fast_distances`, para fazer isso por você. Leia sua documentação para garantir que você entenda o que ela faz. (Você não precisa entender o código em seu corpo, a menos que queira.)"
   ]
  },
  {
   "cell_type": "code",
   "execution_count": null,
   "metadata": {},
   "outputs": [],
   "source": [
    "# Just run this cell to define fast_distances.\n",
    "\n",
    "def fast_distances(test_row, train_table):\n",
    "    \"\"\"Retorna um array das distâncias entre test_row e cada linha em train_table.\n",
    "\n",
    "    Recebe 2 argumentos:\n",
    "      test_row: Uma linha de uma tabela contendo características de um\n",
    "        filme de teste (por exemplo, test_my_features.row(0)).\n",
    "      train_table: Uma tabela de características (por exemplo, a tabela inteira\n",
    "        train_my_features).\"\"\"\n",
    "\n",
    "    assert train_table.num_columns < 50, \"Certifique-se de que você não está usando todas as características da tabela de filmes.\"\n",
    "    assert type(test_row) != datascience.tables.Table, \"Certifique-se de que você está passando um objeto de linha para fast_distances.\"\n",
    "    assert len(test_row) == len(train_table.row(0)), \"Certifique-se de que o comprimento da linha de teste é o mesmo que o comprimento de uma linha em train_table.\"\n",
    "\n",
    "    counts_matrix = np.asmatrix(train_table.columns).transpose()\n",
    "    diff = np.tile(np.array(list(test_row)), [counts_matrix.shape[0], 1]) - counts_matrix\n",
    "    np.random.seed(0) # Para fins de desempate\n",
    "    distances = np.squeeze(np.asarray(np.sqrt(np.square(diff).sum(1))))\n",
    "    eps = np.random.uniform(size=distances.shape)*1e-10 # Ruído para desempate\n",
    "    distances = distances + eps\n",
    "    return distances"
   ]
  },
  {
   "cell_type": "markdown",
   "metadata": {},
   "source": [
    "#### Questão 3.1.8\n",
    "Use a função `fast_distances` fornecida acima para calcular a distância do primeiro filme no seu conjunto de teste para todos os filmes no conjunto de treinamento, **usando seu conjunto de características**. Crie uma nova tabela chamada `genre_and_distances` com uma linha para cada filme no conjunto de treinamento e duas colunas:\n",
    "* O `\"Genre\"` do filme de treinamento\n",
    "* A `\"Distance\"` do primeiro filme no conjunto de teste\n",
    "\n",
    "Certifique-se de que `genre_and_distances` esteja **ordenada em ordem crescente pela distância até o primeiro filme de teste**.\n",
    "\n",
    "*Dica:* Pense em como você pode usar as variáveis que definiu na questão 3.1.6."
   ]
  },
  {
   "cell_type": "code",
   "execution_count": null,
   "metadata": {
    "for_assignment_type": "solution",
    "tags": []
   },
   "outputs": [],
   "source": [
    "# A solução da equipe levou várias linhas de código.\n",
    "genre_and_distances = ...\n",
    "genre_and_distances"
   ]
  },
  {
   "cell_type": "code",
   "execution_count": null,
   "metadata": {
    "deletable": false,
    "editable": false
   },
   "outputs": [],
   "source": [
    "grader.check(\"q3_1_8\")"
   ]
  },
  {
   "cell_type": "markdown",
   "metadata": {},
   "source": [
    "#### Questão 3.1.9\n",
    "Agora, calcule a classificação dos 7 vizinhos mais próximos do primeiro filme no conjunto de teste. Ou seja, decida seu gênero encontrando o gênero mais comum entre seus 7 vizinhos mais próximos no conjunto de treinamento, de acordo com as distâncias que você calculou. Em seguida, verifique se o seu classificador escolheu o gênero correto. (Dependendo das características que você escolheu, seu classificador pode não acertar este filme, e tudo bem.)\n",
    "\n",
    "*Dica:* Você deve usar a função `most_common` que foi definida anteriormente."
   ]
  },
  {
   "cell_type": "code",
   "execution_count": null,
   "metadata": {
    "deletable": false,
    "tags": []
   },
   "outputs": [],
   "source": [
    "# Defina my_assigned_genre como o gênero mais comum entre estes.\n",
    "my_assigned_genre = ...\n",
    "\n",
    "# Defina my_assigned_genre_was_correct como True se my_assigned_genre\n",
    "# corresponder ao gênero real do primeiro filme no conjunto de teste, False caso contrário.\n",
    "my_assigned_genre_was_correct = ...\n",
    "\n",
    "print(\"The assigned genre, {}, was{}correct.\".format(my_assigned_genre, \" \" if my_assigned_genre_was_correct else \" not \"))"
   ]
  },
  {
   "cell_type": "code",
   "execution_count": null,
   "metadata": {
    "deletable": false,
    "editable": false
   },
   "outputs": [],
   "source": [
    "grader.check(\"q3_1_9\")"
   ]
  },
  {
   "cell_type": "markdown",
   "metadata": {},
   "source": [
    "## 3.2. Uma função de classificador\n",
    "\n",
    "Agora podemos escrever uma única função que encapsula todo o processo de classificação."
   ]
  },
  {
   "cell_type": "markdown",
   "metadata": {},
   "source": [
    "#### Questão 3.2.1\n",
    "Escreva uma função chamada `classify`. Ela deve receber os seguintes quatro argumentos:\n",
    "* Uma linha de características para um filme a ser classificado (por exemplo, `test_my_features.row(0)`).\n",
    "* Uma tabela com uma coluna para cada característica (por exemplo, `train_my_features`).\n",
    "* Um array de classes (por exemplo, os rótulos \"comédia\" ou \"suspense\") que tenha tantos itens quanto a tabela anterior tem linhas, e na mesma ordem. *Dica:* Quais são os rótulos de cada linha no conjunto de treinamento?\n",
    "* `k`, o número de vizinhos a serem usados na classificação.\n",
    "\n",
    "Ela deve retornar a classe que um classificador de `k`-vizinhos mais próximos escolhe para a linha de características fornecida (a string `'comedy'` ou a string `'thriller'`)."
   ]
  },
  {
   "cell_type": "code",
   "execution_count": null,
   "metadata": {
    "deletable": false,
    "tags": []
   },
   "outputs": [],
   "source": [
    "def classify(test_row, train_features, train_labels, k):\n",
    "    \"\"\"Retorna a classe mais comum entre os k vizinhos mais próximos de test_row.\"\"\"\n",
    "    distances = fast_distances(test_row, train_features)\n",
    "    genre_and_distances = ...\n",
    "    ..."
   ]
  },
  {
   "cell_type": "code",
   "execution_count": null,
   "metadata": {
    "deletable": false,
    "editable": false
   },
   "outputs": [],
   "source": [
    "grader.check(\"q3_2_1\")"
   ]
  },
  {
   "cell_type": "markdown",
   "metadata": {},
   "source": [
    "#### Questão 3.2.2\n",
    "\n",
    "Atribua `godzilla_genre` ao gênero previsto pelo seu classificador para o filme \"godzilla\" no conjunto de teste, usando **15 vizinhos** e usando suas 10 características.\n",
    "\n",
    "*Dica:* A função `row_for_title` não funcionará aqui."
   ]
  },
  {
   "cell_type": "code",
   "execution_count": null,
   "metadata": {
    "deletable": false,
    "tags": []
   },
   "outputs": [],
   "source": [
    "# A solução da equipe primeiro definiu uma linha chamada godzilla_features.\n",
    "godzilla_features = ...\n",
    "godzilla_genre = ...\n",
    "godzilla_genre"
   ]
  },
  {
   "cell_type": "code",
   "execution_count": null,
   "metadata": {
    "deletable": false,
    "editable": false
   },
   "outputs": [],
   "source": [
    "grader.check(\"q3_2_2\")"
   ]
  },
  {
   "cell_type": "markdown",
   "metadata": {},
   "source": [
    "Finalmente, quando avaliarmos nosso classificador, será útil ter uma função de classificação especializada para usar um conjunto de treinamento fixo e um valor fixo de `k`."
   ]
  },
  {
   "cell_type": "markdown",
   "metadata": {},
   "source": [
    "#### Questão 3.2.3\n",
    "Crie uma função de classificação que receba como argumento uma linha contendo suas 10 características e classifique essa linha usando o algoritmo dos 15 vizinhos mais próximos com `train_my_features` como seu conjunto de treinamento."
   ]
  },
  {
   "cell_type": "code",
   "execution_count": null,
   "metadata": {
    "deletable": false,
    "tags": []
   },
   "outputs": [],
   "source": [
    "def classify_feature_row(row):\n",
    "    ...\n",
    "\n",
    "# Quando você terminar, isso deve produzir 'thriller' ou 'comedy'.\n",
    "classify_feature_row(test_my_features.row(0))"
   ]
  },
  {
   "cell_type": "code",
   "execution_count": null,
   "metadata": {
    "deletable": false,
    "editable": false
   },
   "outputs": [],
   "source": [
    "grader.check(\"q3_2_3\")"
   ]
  },
  {
   "cell_type": "markdown",
   "metadata": {},
   "source": [
    "## 3.3. Avaliando seu classificador"
   ]
  },
  {
   "cell_type": "markdown",
   "metadata": {},
   "source": [
    "Agora que é fácil usar o classificador, vamos ver quão preciso ele é em todo o conjunto de teste.\n",
    "\n",
    "**Questão 3.3.1**\n",
    "\n",
    "Use `classify_feature_row` e `apply` para classificar todos os filmes no conjunto de teste. Atribua essas previsões como um array a `test_guesses`. Em seguida, calcule a proporção de classificações corretas.\n",
    "\n",
    "*Dica 1*: Se você não especificar nenhuma coluna em `tbl.apply(...)`, sua função será aplicada a cada objeto de linha em `tbl`.\n",
    "\n",
    "*Dica 2*: Em qual conjunto de dados você quer aplicar essa função?"
   ]
  },
  {
   "cell_type": "code",
   "execution_count": null,
   "metadata": {
    "deletable": false,
    "tags": []
   },
   "outputs": [],
   "source": [
    "test_guesses = ...\n",
    "proportion_correct = ...\n",
    "proportion_correct"
   ]
  },
  {
   "cell_type": "code",
   "execution_count": null,
   "metadata": {
    "deletable": false,
    "editable": false
   },
   "outputs": [],
   "source": [
    "grader.check(\"q3_3_1\")"
   ]
  },
  {
   "cell_type": "markdown",
   "metadata": {},
   "source": [
    "**Questão 3.3.2**\n",
    "\n",
    "Uma parte importante da avaliação dos seus classificadores é descobrir onde eles cometem erros. Atribua o nome `test_movie_correctness` a uma tabela com três colunas: `'Title'`, `'Genre'` e `'Was correct'`.\n",
    "\n",
    "- A coluna `'Genre'` deve conter os gêneros originais, não os que você previu.\n",
    "- A coluna `'Was correct'` deve conter `True` ou `False`, dependendo se o filme foi classificado corretamente ou não."
   ]
  },
  {
   "cell_type": "code",
   "execution_count": null,
   "metadata": {
    "deletable": false,
    "for_assignment_type": "student",
    "manual_problem_id": "test_movie_correctness",
    "tags": []
   },
   "outputs": [],
   "source": [
    "# Sinta-se à vontade para usar várias linhas de código\n",
    "# mas certifique-se de atribuir test_movie_correctness à tabela correta!\n",
    "test_movie_correctness = ...\n",
    "test_movie_correctness.sort('Was correct', descending = True).show(5)"
   ]
  },
  {
   "cell_type": "code",
   "execution_count": null,
   "metadata": {
    "deletable": false,
    "editable": false
   },
   "outputs": [],
   "source": [
    "grader.check(\"q3_3_2\")"
   ]
  },
  {
   "cell_type": "markdown",
   "metadata": {},
   "source": [
    "<!-- BEGIN QUESTION -->\n",
    "\n",
    "**Questão 3.3.3**\n",
    "\n",
    "Você vê um padrão nos tipos de filmes que seu classificador classifica incorretamente? Em duas frases ou menos, descreva quaisquer padrões que você veja nos resultados ou quaisquer outras descobertas interessantes da tabela acima. Se precisar de ajuda, tente procurar os filmes que seu classificador errou na Wikipedia."
   ]
  },
  {
   "cell_type": "markdown",
   "metadata": {},
   "source": [
    "_Digite sua resposta aqui, substituindo este texto._"
   ]
  },
  {
   "cell_type": "markdown",
   "metadata": {},
   "source": [
    "<!-- END QUESTION -->\n",
    "\n",
    "Neste ponto, você passou por um ciclo de design de classificador. Vamos resumir os passos:\n",
    "1. A partir dos dados disponíveis, selecione conjuntos de teste e treinamento.\n",
    "2. Escolha um algoritmo que você vai usar para a classificação k-NN.\n",
    "3. Identifique algumas características.\n",
    "4. Defina uma função de classificador usando suas características e o conjunto de treinamento.\n",
    "5. Avalie seu desempenho (a proporção de classificações corretas) no conjunto de teste."
   ]
  },
  {
   "cell_type": "markdown",
   "metadata": {},
   "source": [
    "# Parte 4: Explorações\n",
    "Agora que você sabe como avaliar um classificador, é hora de construir outro.\n",
    "\n",
    "Seus amigos são grandes fãs de filmes de comédia e suspense. Eles criaram seu próprio conjunto de dados de filmes que querem assistir, mas precisam da sua ajuda para determinar o gênero de cada filme em seu conjunto de dados (comédia ou suspense). Você nunca viu nenhum dos filmes no conjunto de dados dos seus amigos, então nenhum dos filmes dos seus amigos está presente no seu conjunto de treinamento ou teste anterior. Em outras palavras, este novo conjunto de dados de filmes pode funcionar como outro conjunto de teste no qual faremos previsões com base em nossos dados de treinamento originais.\n",
    "\n",
    "Execute a célula a seguir para carregar os dados dos filmes dos seus amigos."
   ]
  },
  {
   "cell_type": "code",
   "execution_count": null,
   "metadata": {},
   "outputs": [],
   "source": [
    "friend_movies = Table.read_table('friend_movies.csv')\n",
    "friend_movies.show(5)"
   ]
  },
  {
   "cell_type": "markdown",
   "metadata": {},
   "source": [
    "**Questão 4.1**\n",
    "\n",
    "O computador do seu amigo não é tão poderoso quanto o seu, então ele diz que o classificador que você criar para ele pode ter no máximo 5 palavras como características. Desenvolva um novo classificador com a restrição de **usar no máximo 5 características.** Atribua `new_features` a um array com suas características.\n",
    "\n",
    "Sua nova função deve ter os mesmos argumentos que `classify_feature_row` e retornar uma classificação. Nomeie-a `another_classifier`. Em seguida, exiba sua precisão usando o código anterior para comparar o novo classificador com o antigo.\n",
    "\n",
    "Algumas maneiras de você mudar seu classificador são usando diferentes características ou tentando diferentes valores de `k`. (Claro, você ainda tem que usar `train_movies` como seu conjunto de treinamento!)\n",
    "\n",
    "**Certifique-se de não reatribuir nenhuma variável usada anteriormente aqui**, como `proportion_correct` da questão anterior.\n",
    "\n",
    "*Nota:* Não há uma única maneira correta de fazer isso! Apenas certifique-se de que você pode explicar seu raciocínio por trás das novas escolhas."
   ]
  },
  {
   "cell_type": "code",
   "execution_count": null,
   "metadata": {
    "deletable": false,
    "tags": []
   },
   "outputs": [],
   "source": [
    "new_features = ...\n",
    "\n",
    "train_new = train_movies.select(new_features)\n",
    "test_new = friend_movies.select(new_features)\n",
    "\n",
    "def another_classifier(row):\n",
    "    ..."
   ]
  },
  {
   "cell_type": "code",
   "execution_count": null,
   "metadata": {
    "deletable": false,
    "editable": false
   },
   "outputs": [],
   "source": [
    "grader.check(\"q4_1\")"
   ]
  },
  {
   "cell_type": "markdown",
   "metadata": {},
   "source": [
    "<!-- BEGIN QUESTION -->\n",
    "\n",
    "**Questão 4.2**\n",
    "\n",
    "Você vê um padrão nos erros que seu novo classificador comete? Qual foi a precisão que você conseguiu obter com seu classificador limitado? Você notou uma melhoria do seu primeiro classificador para o segundo? Descreva em duas frases ou menos.\n",
    "\n",
    "*Dica:* Pode ser que você não consiga ver um padrão.\n"
   ]
  },
  {
   "cell_type": "markdown",
   "metadata": {},
   "source": [
    "_Digite sua resposta aqui, substituindo este texto._"
   ]
  },
  {
   "cell_type": "markdown",
   "metadata": {},
   "source": [
    "<!-- END QUESTION -->\n",
    "\n",
    "<!-- BEGIN QUESTION -->\n",
    "\n",
    "**Questão 4.3**\n",
    "\n",
    "Dada a restrição de cinco palavras, como você selecionou essas cinco? Descreva em duas frases ou menos.\n"
   ]
  },
  {
   "cell_type": "markdown",
   "metadata": {},
   "source": [
    "_Digite sua resposta aqui, substituindo este texto._"
   ]
  },
  {
   "cell_type": "markdown",
   "metadata": {},
   "source": [
    "<!-- END QUESTION -->\n",
    "\n",
    "# Parte 5: Outros Métodos de Classificação (OPCIONAL)"
   ]
  },
  {
   "cell_type": "markdown",
   "metadata": {},
   "source": [
    "**Nota**: Tudo abaixo é **OPCIONAL**. Por favor, trabalhe nesta parte apenas depois de ter terminado e enviado o projeto. Se você criar novas células abaixo, NÃO reatribua variáveis definidas em partes anteriores do projeto.\n",
    "\n",
    "Agora que você terminou seu classificador k-NN, pode estar se perguntando o que mais poderia fazer para melhorar sua precisão no conjunto de teste. A classificação é uma das muitas tarefas de aprendizado de máquina, e há muitos outros algoritmos de classificação! Se você se sentir inclinado, encorajamos você a tentar qualquer método que possa ajudar a melhorar seu classificador.\n",
    "\n",
    "Compilamos uma lista de postagens de blog com mais informações sobre classificação e aprendizado de máquina. Crie quantas células quiser abaixo -- você pode usá-las para importar novos módulos ou implementar novos algoritmos.\n",
    "\n",
    "Postagens de blog:\n",
    "\n",
    "* [Algoritmos/métodos de classificação](https://medium.com/@sifium/machine-learning-types-of-classification-9497bd4f2e14)\n",
    "* [Divisão de treino/teste e validação cruzada](https://towardsdatascience.com/train-test-split-and-cross-validation-in-python-80b61beca4b6)\n",
    "* [Mais informações sobre k-vizinhos mais próximos](https://medium.com/@adi.bronshtein/a-quick-introduction-to-k-nearest-neighbors-algorithm-62214cea29c7)\n",
    "* [Overfitting](https://elitedatascience.com/overfitting-in-machine-learning)\n",
    "\n",
    "Em futuras aulas de ciência de dados, como Ciência de Dados 100, você aprenderá sobre alguns dos algoritmos nas postagens de blog acima, incluindo regressão logística. Você também aprenderá mais sobre overfitting, validação cruzada e abordagens para diferentes tipos de problemas de aprendizado de máquina.\n",
    "\n",
    "Um módulo que você pode considerar usar é o [Scikit-learn](http://scikit-learn.org/stable/tutorial/basic/tutorial.html). Há muito a considerar, então encorajamos você a encontrar mais informações por conta própria!"
   ]
  },
  {
   "cell_type": "code",
   "execution_count": null,
   "metadata": {},
   "outputs": [],
   "source": [
    "..."
   ]
  },
  {
   "cell_type": "markdown",
   "metadata": {},
   "source": [
    "# Yoshi quer dizer: Parabéns! Você terminou o Projeto 3.\n",
    "\n",
    "<img src=\"yoshi.jpeg\" alt=\"desenho\" width=\"300\"/>\n",
    "\n",
    "Usando suas habilidades em estatística e aprendizado de máquina, você:\n",
    "- Investigou um conjunto de dados de roteiros de filmes\n",
    "- Identificou associações de palavras\n",
    "- Construiu um modelo de aprendizado de máquina para classificar filmes pelos seus roteiros"
   ]
  },
  {
   "cell_type": "markdown",
   "metadata": {},
   "source": [
    "Você terminou! Hora de enviar.\n",
    "\n",
    "**Passos importantes para a submissão:**\n",
    "1. Execute os testes e verifique se todos passam.\n",
    "2. Escolha **Salvar Notebook** no menu **Arquivo**, depois **execute a célula final**.\n",
    "3. Clique no link para baixar o arquivo zip.\n",
    "4. Em seguida, envie o arquivo zip para a tarefa correspondente de acordo com as instruções do seu instrutor.\n",
    "\n",
    "**É sua responsabilidade garantir que seu trabalho esteja salvo antes de executar a última célula.**"
   ]
  },
  {
   "cell_type": "markdown",
   "metadata": {
    "deletable": false,
    "editable": false
   },
   "source": [
    "## Submissão\n",
    "\n",
    "Certifique-se de ter executado todas as células no seu notebook em ordem antes de executar a célula abaixo, para que todas as imagens/gráficos apareçam na saída. A célula abaixo gerará um arquivo zip para você enviar. **Por favor, salve antes de exportar!**"
   ]
  },
  {
   "cell_type": "code",
   "execution_count": null,
   "metadata": {
    "deletable": false,
    "editable": false
   },
   "outputs": [],
   "source": [
    "# Salve seu notebook primeiro, depois execute esta célula para exportar sua submissão.\n",
    "grader.export(pdf=False, run_tests=True)"
   ]
  },
  {
   "cell_type": "markdown",
   "metadata": {},
   "source": [
    " "
   ]
  }
 ],
 "metadata": {
  "kernelspec": {
   "display_name": "Python 3 (ipykernel)",
   "language": "python",
   "name": "python3"
  },
  "language_info": {
   "codemirror_mode": {
    "name": "ipython",
    "version": 3
   },
   "file_extension": ".py",
   "mimetype": "text/x-python",
   "name": "python",
   "nbconvert_exporter": "python",
   "pygments_lexer": "ipython3",
   "version": "3.9.10"
  },
  "otter": {
   "OK_FORMAT": true,
   "tests": {
    "q1_0": {
     "name": "q1_0",
     "points": [
      0
     ],
     "suites": [
      {
       "cases": [
        {
         "code": ">>> 0 < expected_row_sum\nTrue",
         "hidden": false,
         "locked": false
        }
       ],
       "scored": true,
       "setup": "",
       "teardown": "",
       "type": "doctest"
      }
     ]
    },
    "q1_1_1": {
     "name": "q1_1_1",
     "points": [
      0,
      0
     ],
     "suites": [
      {
       "cases": [
        {
         "code": ">>> type(stemmed_message) == str\nTrue",
         "hidden": false,
         "locked": false
        },
        {
         "code": ">>> len(stemmed_message) < len('elements')\nTrue",
         "hidden": false,
         "locked": false
        }
       ],
       "scored": true,
       "setup": "",
       "teardown": "",
       "type": "doctest"
      }
     ]
    },
    "q1_1_2": {
     "name": "q1_1_2",
     "points": [
      0
     ],
     "suites": [
      {
       "cases": [
        {
         "code": ">>> type(most_stem) == str\nTrue",
         "hidden": false,
         "locked": false
        }
       ],
       "scored": true,
       "setup": "",
       "teardown": "",
       "type": "doctest"
      }
     ]
    },
    "q1_1_3": {
     "name": "q1_1_3",
     "points": [
      0
     ],
     "suites": [
      {
       "cases": [
        {
         "code": ">>> type(longest_uncut) == str\nTrue",
         "hidden": false,
         "locked": false
        }
       ],
       "scored": true,
       "setup": "",
       "teardown": "",
       "type": "doctest"
      }
     ]
    },
    "q1_1_4": {
     "name": "q1_1_4",
     "points": [
      0
     ],
     "suites": [
      {
       "cases": [
        {
         "code": ">>> type(count_single_stems) == int\nTrue",
         "hidden": false,
         "locked": false
        }
       ],
       "scored": true,
       "setup": "",
       "teardown": "",
       "type": "doctest"
      }
     ]
    },
    "q1_2_1": {
     "name": "q1_2_1",
     "points": [
      0
     ],
     "suites": [
      {
       "cases": [
        {
         "code": ">>> 0.2 < outer_space_r < 0.4\nTrue",
         "hidden": false,
         "locked": false
        }
       ],
       "scored": true,
       "setup": "",
       "teardown": "",
       "type": "doctest"
      }
     ]
    },
    "q1_2_3": {
     "name": "q1_2_3",
     "points": [
      0
     ],
     "suites": [
      {
       "cases": [
        {
         "code": ">>> type(san_francisco) == int\nTrue",
         "hidden": false,
         "locked": false
        }
       ],
       "scored": true,
       "setup": "",
       "teardown": "",
       "type": "doctest"
      }
     ]
    },
    "q2_1_1": {
     "name": "q2_1_1",
     "points": [
      0
     ],
     "suites": [
      {
       "cases": [
        {
         "code": ">>> 0 < one_distance < .01\nTrue",
         "hidden": false,
         "locked": false
        }
       ],
       "scored": true,
       "setup": "",
       "teardown": "",
       "type": "doctest"
      }
     ]
    },
    "q2_1_2": {
     "name": "q2_1_2",
     "points": [
      1,
      2
     ],
     "suites": [
      {
       "cases": [
        {
         "code": ">>> correct_dis = 0.001406116\n>>> dis = distance_two_features(\"clerks.\", \"the godfather\", \"water\", \"feel\")\n>>> np.isclose(np.round(dis, 9), correct_dis) # Make sure you can use any two movies\nTrue",
         "hidden": false,
         "locked": false
        },
        {
         "code": ">>> correct_dis = 0.005647119\n>>> dis = distance_two_features(\"clerks.\", \"the godfather\", \"your\", \"that\")\n>>> np.isclose(np.round(dis, 9), correct_dis) # Make sure you can use any two features\nTrue",
         "hidden": false,
         "locked": false
        }
       ],
       "scored": true,
       "setup": "",
       "teardown": "",
       "type": "doctest"
      }
     ]
    },
    "q2_1_3": {
     "name": "q2_1_3",
     "points": [
      0
     ],
     "suites": [
      {
       "cases": [
        {
         "code": ">>> np.isclose(distance_from_python('clerks.'), 0.00079838)\nTrue",
         "hidden": false,
         "locked": false
        }
       ],
       "scored": true,
       "setup": "",
       "teardown": "",
       "type": "doctest"
      }
     ]
    },
    "q2_1_4": {
     "name": "q2_1_4",
     "points": [
      0,
      0,
      0
     ],
     "suites": [
      {
       "cases": [
        {
         "code": ">>> set(close_movies.labels) >= {'Genre', 'Title', 'feel', 'water'}\nTrue",
         "hidden": false,
         "locked": false
        },
        {
         "code": ">>> close_movies.num_rows == 5\nTrue",
         "hidden": false,
         "locked": false
        },
        {
         "code": ">>> close_movies.column(\"Title\").item(0) != \"monty python and the holy grail\" # Make sure that you are using the training set.\nTrue",
         "hidden": false,
         "locked": false
        }
       ],
       "scored": true,
       "setup": "",
       "teardown": "",
       "type": "doctest"
      }
     ]
    },
    "q2_1_5": {
     "name": "q2_1_5",
     "points": [
      3
     ],
     "suites": [
      {
       "cases": [
        {
         "code": ">>> [most_common('Genre', close_movies.take(range(k))) for k in range(1, 6, 2)]\n['thriller', 'thriller', 'thriller']",
         "hidden": false,
         "locked": false
        }
       ],
       "scored": true,
       "setup": "",
       "teardown": "",
       "type": "doctest"
      }
     ]
    },
    "q3_0": {
     "name": "q3_0",
     "points": [
      0,
      0,
      0
     ],
     "suites": [
      {
       "cases": [
        {
         "code": ">>> 0.0 <= distance_first_to_second <= 0.1\nTrue",
         "hidden": false,
         "locked": false
        },
        {
         "code": ">>> np.isclose(distance(make_array(1, 2), make_array(1, 2)), 0)\nTrue",
         "hidden": false,
         "locked": false
        },
        {
         "code": ">>> np.isclose(distance(make_array(1, 2, 3), make_array(2, 4, 5)), 3)\nTrue",
         "hidden": false,
         "locked": false
        }
       ],
       "scored": true,
       "setup": "",
       "teardown": "",
       "type": "doctest"
      }
     ]
    },
    "q3_1_1": {
     "name": "q3_1_1",
     "points": [
      0
     ],
     "suites": [
      {
       "cases": [
        {
         "code": ">>> bottom_left >= 1 and bottom_left <= 5 # It looks like you've chosen an illegal option (not within 1-5)\nTrue",
         "hidden": false,
         "locked": false
        }
       ],
       "scored": true,
       "setup": "",
       "teardown": "",
       "type": "doctest"
      }
     ]
    },
    "q3_1_2": {
     "name": "q3_1_2",
     "points": [
      0
     ],
     "suites": [
      {
       "cases": [
        {
         "code": ">>> bottom_right >= 1 and bottom_right <= 5 # It looks like you've chosen an illegal option (not within 1-5)\nTrue",
         "hidden": false,
         "locked": false
        }
       ],
       "scored": true,
       "setup": "",
       "teardown": "",
       "type": "doctest"
      }
     ]
    },
    "q3_1_3": {
     "name": "q3_1_3",
     "points": [
      0
     ],
     "suites": [
      {
       "cases": [
        {
         "code": ">>> top_right >= 1 and top_right <= 5 # It looks like you've chosen an illegal option (not within 1-5)\nTrue",
         "hidden": false,
         "locked": false
        }
       ],
       "scored": true,
       "setup": "",
       "teardown": "",
       "type": "doctest"
      }
     ]
    },
    "q3_1_4": {
     "name": "q3_1_4",
     "points": [
      0
     ],
     "suites": [
      {
       "cases": [
        {
         "code": ">>> top_left >= 1 and top_left <= 5 # It looks like you've chosen an illegal option (not within 1-5)\nTrue",
         "hidden": false,
         "locked": false
        }
       ],
       "scored": true,
       "setup": "",
       "teardown": "",
       "type": "doctest"
      }
     ]
    },
    "q3_1_5": {
     "name": "q3_1_5",
     "points": [
      0
     ],
     "suites": [
      {
       "cases": [
        {
         "code": ">>> movie_genre_guess >= 1 and movie_genre_guess <= 2\nTrue",
         "hidden": false,
         "locked": false
        }
       ],
       "scored": true,
       "setup": "",
       "teardown": "",
       "type": "doctest"
      }
     ]
    },
    "q3_1_6": {
     "name": "q3_1_6",
     "points": [
      0,
      0,
      0,
      1.5,
      1.5
     ],
     "suites": [
      {
       "cases": [
        {
         "code": ">>> len(my_features) >= 10\nTrue",
         "hidden": false,
         "locked": false
        },
        {
         "code": ">>> np.all([f in test_movies.labels for f in my_features])\nTrue",
         "hidden": false,
         "locked": false
        },
        {
         "code": ">>> len(set(my_features)) >= 10 # It looks like you may have duplicate words! Make sure not to!\nTrue",
         "hidden": false,
         "locked": false
        },
        {
         "code": ">>> help_message = \"\"\"It looks like there are many movies in the training set that \n...                   don't have any of your chosen words.  That will make your\n...                   classifier perform very poorly in some cases.  Try choosing\n...                   at least 1 common word.\n...                   \"\"\"\n>>> train_f = train_movies.select(my_features)\n>>> np.count_nonzero(train_f.apply(lambda r: np.sum(np.abs(np.array(list(r)))) == 0)) < len(my_features)\nTrue",
         "hidden": false,
         "locked": false
        },
        {
         "code": ">>> help_message = \"\"\"It looks like there are many movies in the test set that \n...                   don't have any of your chosen words.  That will make your\n...                   classifier perform very poorly in some cases.  Try choosing\n...                   at least 1 common word.\n...                   \"\"\"\n>>> test_f = test_movies.select(my_features)\n>>> np.count_nonzero(test_f.apply(lambda r: np.sum(np.abs(np.array(list(r)))) == 0)) < 5\nTrue",
         "hidden": false,
         "locked": false
        }
       ],
       "scored": true,
       "setup": "",
       "teardown": "",
       "type": "doctest"
      }
     ]
    },
    "q3_1_8": {
     "name": "q3_1_8",
     "points": [
      0,
      1,
      1,
      1
     ],
     "suites": [
      {
       "cases": [
        {
         "code": ">>> genre_and_distances.labels == ('Genre', 'Distance')\nTrue",
         "hidden": false,
         "locked": false
        },
        {
         "code": ">>> genre_and_distances.num_rows == train_movies.num_rows\nTrue",
         "hidden": false,
         "locked": false
        },
        {
         "code": ">>> print(genre_and_distances.group('Genre'))\nGenre    | count\ncomedy   | 102\nthriller | 181\n",
         "hidden": false,
         "locked": false
        },
        {
         "code": ">>> np.allclose(genre_and_distances.column('Distance'), sorted(fast_distances(test_my_features.row(0), train_my_features)))\nTrue",
         "hidden": false,
         "locked": false
        }
       ],
       "scored": true,
       "setup": "",
       "teardown": "",
       "type": "doctest"
      }
     ]
    },
    "q3_1_9": {
     "name": "q3_1_9",
     "points": [
      1,
      1
     ],
     "suites": [
      {
       "cases": [
        {
         "code": ">>> genre_and_distances.take(np.arange(7)).group('Genre').index_by('Genre')[my_assigned_genre][0].item('count') >= 4\nTrue",
         "hidden": false,
         "locked": false
        },
        {
         "code": ">>> my_assigned_genre_was_correct == (my_assigned_genre == 'thriller')\nFalse",
         "hidden": false,
         "locked": false
        }
       ],
       "scored": true,
       "setup": "",
       "teardown": "",
       "type": "doctest"
      }
     ]
    },
    "q3_2_1": {
     "name": "q3_2_1",
     "points": [
      1.5,
      1.5
     ],
     "suites": [
      {
       "cases": [
        {
         "code": ">>> # This test just checks to see if your classify function works correctly \n>>> # with k=5 nearest neighbors.\n>>> from collections import Counter\n>>> g = train_movies.column('Genre')\n>>> def check(r, k):\n...     t = test_my_features.row(r)\n...     return classify(t, train_my_features, g, k) == Counter(np.take(g, np.argsort(fast_distances(t, train_my_features))[:k])).most_common(1)[0][0]\n>>> check_5_nn = [check(i, 5) for i in np.arange(11)]\n>>> all(check_5_nn)\nTrue",
         "hidden": false,
         "locked": false
        },
        {
         "code": ">>> # This test just checks to see if your classify function works correctly \n>>> # with k=11 nearest neighbors.\n>>> from collections import Counter\n>>> g = train_movies.column('Genre')\n>>> def check(r, k):\n...     t = test_my_features.row(r)\n...     return classify(t, train_my_features, g, k) == Counter(np.take(g, np.argsort(fast_distances(t, train_my_features))[:k])).most_common(1)[0][0]\n>>> check_11_nn = [check(i, 11) for i in np.arange(11)]\n>>> all(check_11_nn)\nTrue",
         "hidden": false,
         "locked": false
        }
       ],
       "scored": true,
       "setup": "",
       "teardown": "",
       "type": "doctest"
      }
     ]
    },
    "q3_2_2": {
     "name": "q3_2_2",
     "points": [
      3
     ],
     "suites": [
      {
       "cases": [
        {
         "code": ">>> from collections import Counter\n>>> g = train_movies.column('Genre')\n>>> r = np.where(test_movies['Title'] == \"godzilla\")[0][0]\n>>> t = test_my_features.row(r)\n>>> godzilla_expected_genre = Counter(np.take(g, np.argsort(fast_distances(t, train_my_features))[:15])).most_common(1)[0][0]\n>>> godzilla_genre == godzilla_expected_genre\nTrue",
         "hidden": false,
         "locked": false
        }
       ],
       "scored": true,
       "setup": "",
       "teardown": "",
       "type": "doctest"
      }
     ]
    },
    "q3_2_3": {
     "name": "q3_2_3",
     "points": [
      3
     ],
     "suites": [
      {
       "cases": [
        {
         "code": ">>> # This test just checks that your classify_feature_row works correctly.\n>>> def check(r):\n...     t = test_my_features.row(r)\n...     return classify(t, train_my_features, train_movies.column('Genre'), 15) == classify_feature_row(t)\n>>> all([check(i) for i in np.arange(15)])\nTrue",
         "hidden": false,
         "locked": false
        }
       ],
       "scored": true,
       "setup": "",
       "teardown": "",
       "type": "doctest"
      }
     ]
    },
    "q3_3_1": {
     "name": "q3_3_1",
     "points": [
      0
     ],
     "suites": [
      {
       "cases": [
        {
         "code": ">>> 0 <= proportion_correct <= 1\nTrue",
         "hidden": false,
         "locked": false
        }
       ],
       "scored": true,
       "setup": "",
       "teardown": "",
       "type": "doctest"
      }
     ]
    },
    "q3_3_2": {
     "name": "q3_3_2",
     "points": [
      0,
      0,
      3
     ],
     "suites": [
      {
       "cases": [
        {
         "code": ">>> test_movie_correctness.labels == ('Title', 'Genre', 'Was correct')\nTrue",
         "hidden": false,
         "locked": false
        },
        {
         "code": ">>> test_movie_correctness.num_rows == test_movies.num_rows\nTrue",
         "hidden": false,
         "locked": false
        },
        {
         "code": ">>> # Make sure that test_movie_correctness does not modify the original\n>>> # test_movies table.\n>>> print(test_movie_correctness.group('Genre'))\nGenre    | count\ncomedy   | 17\nthriller | 33\n",
         "hidden": false,
         "locked": false
        }
       ],
       "scored": true,
       "setup": "",
       "teardown": "",
       "type": "doctest"
      }
     ]
    },
    "q4_1": {
     "name": "q4_1",
     "points": [
      0,
      3
     ],
     "suites": [
      {
       "cases": [
        {
         "code": ">>> len(new_features) <= 5 # You have too many features\nTrue",
         "hidden": false,
         "locked": false
        },
        {
         "code": ">>> another_classifier(test_new.row(0)) in [\"comedy\", \"thriller\"] \nTrue",
         "hidden": false,
         "locked": false
        }
       ],
       "scored": true,
       "setup": "",
       "teardown": "",
       "type": "doctest"
      }
     ]
    }
   }
  }
 },
 "nbformat": 4,
 "nbformat_minor": 5
}
