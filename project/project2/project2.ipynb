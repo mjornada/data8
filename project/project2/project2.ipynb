{
 "cells": [
  {
   "cell_type": "code",
   "execution_count": null,
   "metadata": {
    "deletable": false,
    "editable": false
   },
   "outputs": [],
   "source": [
    "# Inicialize o Otter\n",
    "import otter\n",
    "grader = otter.Notebook(\"project2.ipynb\")"
   ]
  },
  {
   "cell_type": "markdown",
   "metadata": {},
   "source": [
    "# Projeto 2: Mudança Climática—Temperaturas e Precipitação\n",
    "\n",
    "Neste projeto, você investigará dados sobre mudança climática, ou as mudanças de longo prazo em temperaturas e padrões climáticos!"
   ]
  },
  {
   "cell_type": "markdown",
   "metadata": {},
   "source": [
    "### Logística\n",
    "\n",
    "**Regras.** Não compartilhe seu código com ninguém além do seu parceiro, se você tiver um. Você pode discutir questões com outros estudantes, mas não compartilhe as respostas. A experiência de resolver os problemas deste projeto irá prepará-lo para exames (e para a vida). Se alguém pedir a resposta, resista! Em vez disso, você pode demonstrar como resolveria um problema semelhante.\n",
    "\n",
    "**Suporte.** Você não está sozinho! Venha ao horário de atendimento e converse com seus colegas de classe. Se você estiver se sentindo sobrecarregado ou não souber como progredir, envie um e-mail pedindo ajuda.\n",
    "\n",
    "**Testes.** Os testes fornecidos **não são abrangentes** e passar nos testes de uma questão **não** significa que você respondeu à questão corretamente. Os testes geralmente apenas verificam se sua tabela tem os rótulos de coluna corretos. No entanto, mais testes serão aplicados para verificar a correção da sua submissão a fim de atribuir sua nota final, então tenha cuidado e verifique seu trabalho! Você pode querer criar suas próprias verificações ao longo do caminho para ver se suas respostas fazem sentido. Além disso, antes de enviar, certifique-se de que nenhuma das suas células demore muito para ser executada (vários minutos).\n",
    "\n",
    "**Questões de Resposta Livre:** Certifique-se de colocar as respostas das questões escritas na célula indicada que fornecemos. **Toda questão de resposta livre deve incluir uma explicação** que responda adequadamente à questão. Seu trabalho escrito será carregado automaticamente no Gradescope após o prazo do projeto; não é necessária nenhuma ação da sua parte para isso.\n",
    "\n",
    "**Conselho.** Desenvolva suas respostas incrementalmente. Para realizar uma tarefa complicada, divida-a em etapas, execute cada etapa em uma linha diferente, dê um novo nome a cada resultado e verifique se cada resultado intermediário é o que você espera. Você pode adicionar quaisquer nomes ou funções adicionais que desejar às células fornecidas. Certifique-se de que está usando nomes de variáveis distintos e significativos em todo o caderno. Nesse sentido, **NÃO** reutilize os nomes de variáveis que usamos quando corrigimos suas respostas.\n",
    "\n",
    "Você **nunca** precisa usar apenas uma linha neste projeto ou em outros. Use variáveis intermediárias e várias linhas tanto quanto desejar!\n",
    "\n",
    "Todos os conceitos necessários para este projeto estão no livro didático. Se você estiver preso em um problema específico, ler a seção relevante do livro didático muitas vezes ajudará a esclarecer o conceito.\n",
    "\n",
    "---\n",
    "\n",
    "Para começar, carregue `datascience`, `numpy`, `matplotlib` e `d8error`. Certifique-se de também executar a primeira célula deste caderno para carregar `otter`."
   ]
  },
  {
   "cell_type": "code",
   "execution_count": null,
   "metadata": {},
   "outputs": [],
   "source": [
    "# Execute esta célula para configurar o notebook, mas por favor, não a altere.\n",
    "from datascience import *\n",
    "import numpy as np\n",
    "\n",
    "%matplotlib inline\n",
    "import matplotlib.pyplot as plt\n",
    "plt.style.use('fivethirtyeight')\n",
    "np.set_printoptions(legacy='1.13')\n",
    "\n",
    "import warnings\n",
    "warnings.simplefilter('ignore')\n",
    "import d8error"
   ]
  },
  {
   "cell_type": "markdown",
   "metadata": {},
   "source": [
    "## Parte 1: Temperaturas"
   ]
  },
  {
   "cell_type": "markdown",
   "metadata": {},
   "source": [
    "Na análise a seguir, investigaremos um dos problemas mais proeminentes do século 21: a mudança climática. Embora os detalhes da ciência climática estejam além do escopo deste curso, podemos começar a aprender sobre a mudança climática apenas analisando registros públicos de temperatura e precipitação ao longo do tempo em diferentes cidades.\n",
    "\n",
    "Analisaremos uma coleção de medições históricas diárias de temperatura e precipitação de estações meteorológicas em 210 cidades dos EUA. O conjunto de dados foi compilado por Yuchuan Lai e David Dzombak [1]; uma descrição dos dados pelos autores originais e os próprios dados estão disponíveis [aqui](https://kilthub.cmu.edu/articles/dataset/Compiled_daily_temperature_and_precipitation_data_for_the_U_S_cities/7890488).\n",
    "\n",
    "[1] Lai, Yuchuan; Dzombak, David (2019): Dados históricos diários compilados de temperatura e precipitação para 210 cidades selecionadas dos EUA. Universidade Carnegie Mellon. Conjunto de Dados."
   ]
  },
  {
   "cell_type": "markdown",
   "metadata": {
    "tags": []
   },
   "source": [
    "### Parte 1, Seção 1: Cidades"
   ]
  },
  {
   "cell_type": "markdown",
   "metadata": {},
   "source": [
    "Execute a célula a seguir para carregar informações sobre as `cities` e visualizar as primeiras linhas."
   ]
  },
  {
   "cell_type": "code",
   "execution_count": null,
   "metadata": {},
   "outputs": [],
   "source": [
    "cities = Table.read_table('city_info.csv', index_col=0)\n",
    "cities.show(3)"
   ]
  },
  {
   "cell_type": "markdown",
   "metadata": {},
   "source": [
    "A tabela `cities` tem uma linha por estação meteorológica e as seguintes colunas:\n",
    "\n",
    "1. `\"Name\"`: O nome da cidade dos EUA\n",
    "2. `\"ID\"`: O identificador único para a cidade dos EUA\n",
    "3. `\"Lat\"`: A latitude da cidade dos EUA (medida em graus de latitude)\n",
    "4. `\"Lon\"`: A longitude da cidade dos EUA (medida em graus de longitude)\n",
    "5. `\"Stn.Name\"`: O nome da estação meteorológica na qual os dados foram coletados\n",
    "6. `\"Stn.stDate\"`: Uma string representando a data da primeira gravação naquela estação específica\n",
    "7. `\"Stn.edDate\"`: Uma string representando a data da última gravação naquela estação específica\n",
    "\n",
    "Os dados listam as estações meteorológicas nas quais os dados de temperatura e precipitação foram coletados. Note que, embora algumas cidades tenham várias estações meteorológicas, apenas uma está coletando dados para aquela cidade em qualquer momento dado. Assim, somos capazes de focar apenas nas próprias cidades."
   ]
  },
  {
   "cell_type": "markdown",
   "metadata": {},
   "source": [
    "<!-- BEGIN QUESTION -->\n",
    "\n",
    "**Questão 1.1.1:** Na célula abaixo, produza um gráfico de dispersão que plote a latitude e longitude de cada cidade na tabela `cities` de forma que o resultado posicione as cidades do norte no topo e as cidades do oeste à esquerda.\n",
    "\n",
    "*Nota*: Não tem problema plotar o mesmo ponto várias vezes!"
   ]
  },
  {
   "cell_type": "code",
   "execution_count": null,
   "metadata": {
    "tags": []
   },
   "outputs": [],
   "source": [
    "..."
   ]
  },
  {
   "cell_type": "markdown",
   "metadata": {},
   "source": [
    "<!-- END QUESTION -->\n",
    "\n",
    "Essas cidades estão todas dentro do território continental dos EUA, e assim a forma geral dos EUA deve ser visível no seu gráfico. A forma aparecerá distorcida em comparação com a maioria dos mapas por dois motivos: o gráfico de dispersão é quadrado mesmo que os EUA sejam mais largos do que altos, e este gráfico de dispersão é uma [projeção equiretangular](https://en.wikipedia.org/wiki/Equirectangular_projection) da Terra esférica. Um mapa geográfico dos mesmos dados usa a comum [projeção Pseudo-Mercator](https://en.wikipedia.org/wiki/Web_Mercator_projection)."
   ]
  },
  {
   "cell_type": "code",
   "execution_count": null,
   "metadata": {},
   "outputs": [],
   "source": [
    "# Apenas execute esta célula\n",
    "Marker.map_table(cities.select('Lat', 'Lon', 'Name').relabeled('Name', 'labels'))"
   ]
  },
  {
   "cell_type": "markdown",
   "metadata": {},
   "source": [
    "<!-- BEGIN QUESTION -->\n",
    "\n",
    "**Questão 1.1.2** Parece que essas localizações de cidades foram amostradas uniformemente ao acaso de todas as localizações nos EUA? Por que sim ou por que não?"
   ]
  },
  {
   "cell_type": "markdown",
   "metadata": {},
   "source": [
    "_Digite sua resposta aqui, substituindo este texto._"
   ]
  },
  {
   "cell_type": "markdown",
   "metadata": {},
   "source": [
    "<!-- END QUESTION -->\n",
    "\n",
    "**Questão 1.1.3:** Atribua a `num_unique_cities` o número de cidades únicas que aparecem na tabela `cities`.\n"
   ]
  },
  {
   "cell_type": "code",
   "execution_count": null,
   "metadata": {
    "tags": []
   },
   "outputs": [],
   "source": [
    "num_unique_cites = ...\n",
    "\n",
    "# Não altere essa linha\n",
    "print(f\"There are {num_unique_cites} unique cities that appear within our dataset.\")"
   ]
  },
  {
   "cell_type": "code",
   "execution_count": null,
   "metadata": {
    "deletable": false,
    "editable": false
   },
   "outputs": [],
   "source": [
    "grader.check(\"q1_1_3\")"
   ]
  },
  {
   "cell_type": "markdown",
   "metadata": {},
   "source": [
    "Para investigar mais a fundo, será útil determinar em qual região dos Estados Unidos cada cidade está localizada: Nordeste, Noroeste, Sudeste ou Sudoeste. Para nossos propósitos, usaremos as seguintes fronteiras geográficas:\n",
    "\n",
    "<img src= \"usa_coordinates.png\" alt=\"Mapa de Coordenadas dos EUA\" width=\"600\"/>\n",
    "\n",
    "1. Uma estação está localizada na região `\"Northeast\"` se sua latitude for igual ou superior a 40 graus e sua longitude for maior ou igual a -100 graus.\n",
    "2. Uma estação está localizada na região `\"Northwest\"` se sua latitude for igual ou superior a 40 graus e sua longitude for menor que -100 graus.\n",
    "3. Uma estação está localizada na região `\"Southeast\"` se sua latitude for inferior a 40 graus e sua longitude for maior ou igual a -100 graus.\n",
    "4. Uma estação está localizada na região `\"Southwest\"` se sua latitude for inferior a 40 graus e sua longitude for menor que -100 graus."
   ]
  },
  {
   "cell_type": "markdown",
   "metadata": {},
   "source": [
    "**Questão 1.1.4**: Defina a função `coordinates_to_region` abaixo. Ela deve receber dois argumentos, as coordenadas de latitude (`lat`) e longitude (`lon`) de uma cidade, e produzir uma string representando a região em que ela está localizada."
   ]
  },
  {
   "cell_type": "code",
   "execution_count": null,
   "metadata": {
    "tags": []
   },
   "outputs": [],
   "source": [
    "def coordinates_to_region(...):\n",
    "    ..."
   ]
  },
  {
   "cell_type": "code",
   "execution_count": null,
   "metadata": {
    "deletable": false,
    "editable": false
   },
   "outputs": [],
   "source": [
    "grader.check(\"q1_1_4\")"
   ]
  },
  {
   "cell_type": "markdown",
   "metadata": {},
   "source": [
    "**Questão 1.1.5**: Adicione uma nova coluna em `cities` rotulada `Region` que contém a região na qual a cidade está localizada. Para receber o crédito completo, você deve usar a função `coordinates_to_region` que definiu, em vez de reimplementar sua lógica."
   ]
  },
  {
   "cell_type": "code",
   "execution_count": null,
   "metadata": {
    "tags": []
   },
   "outputs": [],
   "source": [
    "regions_array = ...\n",
    "cities = ...\n",
    "cities.show(5)"
   ]
  },
  {
   "cell_type": "code",
   "execution_count": null,
   "metadata": {
    "deletable": false,
    "editable": false
   },
   "outputs": [],
   "source": [
    "grader.check(\"q1_1_5\")"
   ]
  },
  {
   "cell_type": "markdown",
   "metadata": {},
   "source": [
    "Para confirmar que você definiu sua função `coordinates_to_region` corretamente e adicionou com sucesso a coluna `Region` à tabela `cities`, execute a célula a seguir. Cada região deve ter uma cor diferente no resultado."
   ]
  },
  {
   "cell_type": "code",
   "execution_count": null,
   "metadata": {},
   "outputs": [],
   "source": [
    "# Apenas execute esta célula\n",
    "cities.scatter(\"Lon\", \"Lat\", group=\"Region\")"
   ]
  },
  {
   "cell_type": "markdown",
   "metadata": {},
   "source": [
    "**Questão Desafio 1.1.6 (OPCIONAL, não avaliada)**: Crie uma nova tabela chamada `cities_nearest`. Ela deve conter as mesmas colunas que a tabela `cities` e uma coluna adicional chamada `\"Nearest\"` que contém o **nome da cidade mais próxima** que está em uma região diferente da cidade descrita pela linha.\n",
    "\n",
    "Para aproximar a distância entre duas cidades, pegue a raiz quadrada da soma do quadrado da diferença entre suas latitudes e o quadrado da diferença entre suas longitudes. Não use uma declaração `for`; em vez disso, use o método `apply` e aritmética de arrays.\n",
    "\n",
    "*Dica*: Definimos uma função `distance` para você, que pode ser chamada com números `lat0` e `lon0` e arrays `lat1` e `lon1`."
   ]
  },
  {
   "cell_type": "code",
   "execution_count": null,
   "metadata": {
    "tags": []
   },
   "outputs": [],
   "source": [
    "def distance(lat0, lon0, lat1, lon1):\n",
    "    \"Approximate the distance between point (lat0, lon0) and (lat1, lon1) pairs in the arrays.\"\n",
    "    return np.sqrt((lat0 - lat1) * (lat0 - lat1) + (lon0 - lon1) * (lon0 - lon1))\n",
    "\n",
    "def nearest(name):\n",
    "    row = ...\n",
    "    others = ...\n",
    "    distances = ...\n",
    "    return others.with_column('dist', distances).sort('dist').row(0).item('Name')\n",
    "\n",
    "nearest_array = cities.apply(nearest, \"Name\")\n",
    "\n",
    "cities_nearest = ...\n",
    "cities_nearest.show(5)"
   ]
  },
  {
   "cell_type": "markdown",
   "metadata": {},
   "source": [
    "### Parte 1, Seção 2: Bem-vindo a Phoenix, Arizona"
   ]
  },
  {
   "cell_type": "markdown",
   "metadata": {},
   "source": [
    "Cada cidade tem um arquivo CSV diferente cheio de medições diárias de temperatura e precipitação. O arquivo para Phoenix, Arizona está incluído neste projeto como `phoenix.csv`. Os arquivos para outras cidades podem ser baixados [aqui](https://kilthub.cmu.edu/articles/dataset/Compiled_daily_temperature_and_precipitation_data_for_the_U_S_cities/7890488) correspondendo-os ao ID da cidade na tabela `cities`.\n",
    "\n",
    "Como Phoenix está localizada na borda superior do Deserto de Sonora, possui algumas temperaturas impressionantes.\n",
    "\n",
    "Execute a célula a seguir para carregar a tabela `phoenix`. Ela tem uma linha por dia e as seguintes colunas:\n",
    "\n",
    "1. `\"Date\"`: A data (uma string) representando a data da gravação no formato **AAAA-MM-DD**\n",
    "2. `\"tmax\"`: A temperatura máxima para o dia (°F)\n",
    "3. `\"tmin\"`: A temperatura mínima para o dia (°F)\n",
    "4. `\"prcp\"`: A precipitação registrada para o dia (polegadas)"
   ]
  },
  {
   "cell_type": "code",
   "execution_count": null,
   "metadata": {},
   "outputs": [],
   "source": [
    "phoenix = Table.read_table(\"phoenix.csv\", index_col=0)\n",
    "phoenix.show(3)"
   ]
  },
  {
   "cell_type": "markdown",
   "metadata": {},
   "source": [
    "**Questão 1.2.1:** Atribua a variável `largest_2010_range_date` à data do **maior intervalo de temperatura** em Phoenix, Arizona, para qualquer dia entre 1º de janeiro de 2010 e 31 de dezembro de 2010. Sua resposta deve ser uma string no formato \"AAAA-MM-DD\". Sinta-se à vontade para usar quantas linhas precisar. Um intervalo de temperatura é calculado como a diferença entre as temperaturas máxima e mínima do dia.\n",
    "\n",
    "*Dica*: Para limitar os valores em uma coluna apenas àqueles que *contêm* uma determinada string, escolha o predicado `are.` correto da [Folha de Referência Python](http://data8.org/sp22/python-reference.html).\n",
    "\n",
    "*Nota:* Não reatribua a variável `phoenix`; use a variável `phoenix_with_ranges_2010` em vez disso."
   ]
  },
  {
   "cell_type": "code",
   "execution_count": null,
   "metadata": {
    "tags": []
   },
   "outputs": [],
   "source": [
    "...\n",
    "phoenix_with_ranges_2010 = ...\n",
    "largest_2010_range_date = ...\n",
    "largest_2010_range_date"
   ]
  },
  {
   "cell_type": "code",
   "execution_count": null,
   "metadata": {
    "deletable": false,
    "editable": false
   },
   "outputs": [],
   "source": [
    "grader.check(\"q1_2_1\")"
   ]
  },
  {
   "cell_type": "markdown",
   "metadata": {},
   "source": [
    "Podemos voltar à nossa tabela `phoenix` para verificar as leituras de temperatura para nossa `largest_2010_range_date` e ver se algo especial está acontecendo. Execute a célula abaixo para encontrar a linha da tabela `phoenix` que corresponde à data que encontramos acima."
   ]
  },
  {
   "cell_type": "code",
   "execution_count": null,
   "metadata": {},
   "outputs": [],
   "source": [
    "# Apenas execute esta célula\n",
    "phoenix.where(\"Date\", largest_2010_range_date)"
   ]
  },
  {
   "cell_type": "markdown",
   "metadata": {},
   "source": [
    "ZOO WEE MAMA! Olhe para a temperatura máxima daquele dia. Isso é quente."
   ]
  },
  {
   "cell_type": "markdown",
   "metadata": {},
   "source": [
    "A função `extract_year_from_date` recebe uma string de data no formato **AAAA-MM-DD** e retorna um inteiro representando o **ano**. A função `extract_month_from_date` recebe uma string de data e retorna uma string descrevendo o mês. Execute esta célula, mas você não precisa entender como este código funciona ou editá-lo."
   ]
  },
  {
   "cell_type": "code",
   "execution_count": null,
   "metadata": {},
   "outputs": [],
   "source": [
    "# Apenas execute esta célula\n",
    "import calendar\n",
    "\n",
    "def extract_year_from_date(date):\n",
    "    \"\"\"Returns an integer corresponding to the year of the input string's date.\"\"\"\n",
    "    return int(date[:4])\n",
    "\n",
    "def extract_month_from_date(date):\n",
    "    \"Return an abbreviation of the name of the month for a string's date.\"\n",
    "    month = date[5:7]\n",
    "    return f'{month} ({calendar.month_abbr[int(date[5:7])]})'\n",
    "\n",
    "\n",
    "# Exemplo\n",
    "print('2022-04-01 has year', extract_year_from_date('2022-04-01'),\n",
    "      'and month', extract_month_from_date('2022-04-01'))"
   ]
  },
  {
   "cell_type": "markdown",
   "metadata": {},
   "source": [
    "**Questão 1.2.2:** Adicione duas novas colunas chamadas `Year` e `Month` à tabela `phoenix` que contenham o ano como um **inteiro** e o mês como uma **string** (como `\"04 (Apr)\"`) para cada dia, respectivamente.\n",
    "\n",
    "*Nota*: As funções acima podem ser úteis!"
   ]
  },
  {
   "cell_type": "code",
   "execution_count": null,
   "metadata": {
    "tags": []
   },
   "outputs": [],
   "source": [
    "years_array = ...\n",
    "months_array = ...\n",
    "...\n",
    "phoenix.show(5)"
   ]
  },
  {
   "cell_type": "code",
   "execution_count": null,
   "metadata": {
    "deletable": false,
    "editable": false
   },
   "outputs": [],
   "source": [
    "grader.check(\"q1_2_2\")"
   ]
  },
  {
   "cell_type": "markdown",
   "metadata": {},
   "source": [
    "<!-- BEGIN QUESTION -->\n",
    "\n",
    "**Questão 1.2.3:** Usando a tabela `phoenix`, crie um gráfico de linhas sobreposto da **temperatura máxima média** e **temperatura mínima média** para cada ano entre 1900 e 2020 (inclusive).\n",
    "\n",
    "*Dica:* Para desenhar um gráfico de linhas com mais de uma linha, chame `plot` no rótulo da coluna dos valores do eixo x e todas as outras colunas serão tratadas como valores do eixo y."
   ]
  },
  {
   "cell_type": "code",
   "execution_count": null,
   "metadata": {
    "tags": []
   },
   "outputs": [],
   "source": [
    "..."
   ]
  },
  {
   "cell_type": "markdown",
   "metadata": {},
   "source": [
    "<!-- END QUESTION -->\n",
    "\n",
    "<!-- BEGIN QUESTION -->\n",
    "\n",
    "**Questão 1.2.4:** Embora ainda seja um tema muito debatido (trocadilho intencional), muitos cientistas do clima concordam que os efeitos da mudança climática começaram a surgir no início dos anos 1960 como resultado dos níveis elevados de emissões de gases de efeito estufa. Como o gráfico que você produziu na Questão 1.2.3 apoia a afirmação de que o aquecimento global moderno começou no início dos anos 1960?"
   ]
  },
  {
   "cell_type": "markdown",
   "id": "097803fa",
   "metadata": {},
   "source": []
  },
  {
   "cell_type": "markdown",
   "metadata": {},
   "source": []
  },
  {
   "cell_type": "markdown",
   "metadata": {},
   "source": [
    "_Digite sua resposta aqui, substituindo este texto._"
   ]
  },
  {
   "cell_type": "markdown",
   "metadata": {},
   "source": [
    "<!-- END QUESTION -->\n",
    "\n",
    "A média das temperaturas ao longo de um ano inteiro pode obscurecer alguns efeitos da mudança climática. Por exemplo, se os verões ficarem mais quentes, mas os invernos ficarem mais frios, a média anual pode não mudar muito. Vamos investigar como as temperaturas máximas **mensais** médias mudaram ao longo do tempo em Phoenix."
   ]
  },
  {
   "cell_type": "markdown",
   "metadata": {},
   "source": [
    "**Questão 1.2.5:** Crie uma tabela `monthly_increases` com uma linha por mês e as seguintes quatro colunas na ordem:\n",
    "1. `\"Month\"`: O mês (como `\"02 (Feb)\"`)\n",
    "2. `\"Past\"`: A temperatura máxima média nesse mês de 1900-1960 (inclusive)\n",
    "3. `\"Present\"`: A temperatura máxima média nesse mês de 2019-2021 (inclusive)\n",
    "4. `\"Increase\"`: A diferença entre as temperaturas máximas médias presentes e passadas nesse mês\n",
    "\n",
    "Primeiro, faça uma cópia da tabela `phoenix` e adicione uma nova coluna contendo o **período** correspondente para cada linha. Você pode achar a função `period` útil. Em seguida, use essa nova tabela para construir `monthly_increases`. Sinta-se à vontade para usar quantas linhas precisar.\n",
    "\n",
    "*Dica*: Qual método de tabela podemos usar para obter cada **valor único** como sua própria coluna?\n",
    "\n",
    "*Nota*: Por favor, **não** reatribua a variável `phoenix`!"
   ]
  },
  {
   "cell_type": "code",
   "execution_count": null,
   "metadata": {
    "tags": []
   },
   "outputs": [],
   "source": [
    "def period(year):\n",
    "    \"Output if a year is in the Past, Present, or Other.\"\n",
    "    if 1900 <= year <= 1960:\n",
    "        return \"Past\"\n",
    "    elif 2019 <= year <= 2021:\n",
    "        return \"Present\"\n",
    "    else:\n",
    "        return \"Other\"\n",
    "    \n",
    "...\n",
    "monthly_increases = ...\n",
    "monthly_increases.show()"
   ]
  },
  {
   "cell_type": "code",
   "execution_count": null,
   "metadata": {
    "deletable": false,
    "editable": false
   },
   "outputs": [],
   "source": [
    "grader.check(\"q1_2_5\")"
   ]
  },
  {
   "cell_type": "markdown",
   "metadata": {},
   "source": [
    "### Fevereiro em Phoenix"
   ]
  },
  {
   "cell_type": "markdown",
   "metadata": {},
   "source": [
    "Os valores da coluna `\"Past\"` são médias de muitas décadas e, portanto, são estimativas confiáveis das temperaturas máximas médias nesses meses antes dos efeitos da mudança climática moderna. No entanto, a coluna `\"Present\"` é baseada em apenas três anos de observações. Fevereiro, o mês mais curto, tem o menor número total de observações: apenas 85 dias. Execute a célula a seguir para ver isso."
   ]
  },
  {
   "cell_type": "code",
   "execution_count": null,
   "metadata": {},
   "outputs": [],
   "source": [
    "# Apenas execute esta célula\n",
    "feb_present = phoenix.where('Year', are.between_or_equal_to(2019, 2021)).where('Month', '02 (Feb)')\n",
    "feb_present.num_rows"
   ]
  },
  {
   "cell_type": "markdown",
   "metadata": {},
   "source": [
    "Olhe para a sua tabela `monthly_increases`. Comparado aos outros meses, o aumento para o mês de fevereiro é bastante pequeno; a diferença de fevereiro é muito próxima de zero. Execute a célula a seguir para imprimir nossa diferença observada."
   ]
  },
  {
   "cell_type": "code",
   "execution_count": null,
   "metadata": {},
   "outputs": [],
   "source": [
    "# Apenas execute esta célula\n",
    "print(f\"February Difference: {monthly_increases.row(1).item('Increase')}\")"
   ]
  },
  {
   "cell_type": "markdown",
   "metadata": {},
   "source": [
    "Talvez essa pequena diferença seja de alguma forma devido ao acaso! Investigar essa ideia requer um experimento mental.\n",
    "\n",
    "Podemos observar todas as temperaturas máximas de fevereiro de 2019 a 2021 (o período presente), então temos acesso ao censo; não há amostragem aleatória envolvida. Mas, podemos imaginar que se mais anos passarem com o mesmo clima atual, haveria temperaturas máximas diferentes, mas semelhantes, em futuros dias de fevereiro. A partir dos dados que observamos, podemos tentar estimar a **temperatura máxima média de fevereiro** nesta coleção imaginária de todos os futuros dias de fevereiro que ocorreriam em nosso clima moderno, assumindo que o clima não mude mais e muitos anos passem.\n",
    "\n",
    "Também podemos imaginar que a temperatura máxima de cada dia é como um **sorteio aleatório de uma distribuição de temperaturas para aquele mês**. Tratar observações reais de eventos naturais como se fossem cada uma *amostrada aleatoriamente* de alguma distribuição desconhecida é uma suposição simplificadora. Essas temperaturas não foram realmente amostradas ao acaso - em vez disso, ocorreram devido às interações complexas do clima da Terra - mas tratá-las como se fossem aleatórias abstrai os detalhes desse processo natural e nos permite realizar inferência estatística. As conclusões são válidas apenas na medida em que as suposições em que se baseiam são válidas, mas, neste caso, pensar nas temperaturas diárias como amostras aleatórias de alguma distribuição climática desconhecida parece pelo menos plausível.\n",
    "\n",
    "Se assumirmos que as **temperaturas reais foram sorteadas aleatoriamente de alguma grande população de possíveis dias de fevereiro** em nosso clima moderno, então podemos não apenas estimar a média populacional dessa distribuição, mas também quantificar nossa incerteza sobre essa estimativa usando um intervalo de confiança.\n",
    "\n",
    "**Vamos apenas calcular o limite inferior deste intervalo de confiança.** O limite superior de um intervalo de confiança para uma média populacional com base em uma amostra é sempre maior que a média da amostra. Pretendemos comparar nosso intervalo de confiança com a média histórica (ou seja, o valor `Past` em nossa tabela `monthly_increases`). Em todos os meses, a média da amostra que consideraremos (ou seja, o valor `Present` em nossa tabela `monthly_increases`) é maior que a média histórica. Como resultado, sabemos de antemão que o limite superior do intervalo de confiança também será maior, e não há necessidade de calcular explicitamente o limite superior. (Mas você pode se desejar!)"
   ]
  },
  {
   "cell_type": "markdown",
   "metadata": {},
   "source": [
    "**Questão 1.2.6.** Complete a implementação da função `ci_lower`, que recebe uma tabela `t` de uma coluna contendo observações da amostra e um percentual de confiança `level`, como 95 ou 99. Ela retorna o limite inferior de um intervalo de confiança para a média populacional construído usando 5.000 reamostragens bootstrap.\n",
    "\n",
    "Após definir `ci_lower`, fornecemos uma linha de código que chama `ci_lower` nas temperaturas máximas de fevereiro dos dias atuais para obter o limite inferior de um intervalo de confiança de 99% para a temperatura máxima média de fevereiro. O resultado deve ser em torno de 67 graus."
   ]
  },
  {
   "cell_type": "code",
   "execution_count": null,
   "metadata": {
    "tags": []
   },
   "outputs": [],
   "source": [
    "def ci_lower(t, level):\n",
    "    \"\"\"Calcula um limite inferior de um intervalo de confiança de level% \n",
    "    da média da população para a qual a coluna 0 da Tabela t contém uma amostra.\n",
    "    \"\"\"\n",
    "    stats = make_array()\n",
    "    for k in np.arange(5000):\n",
    "        stat = ...\n",
    "        stats = ...\n",
    "    ...\n",
    "\n",
    "# Chame ci_lower nas temperaturas máximas de fevereiro nos dias atuais para encontrar o limite inferior de um intervalo de confiança de 99%.\n",
    "feb_present_ci = ci_lower(feb_present.select('tmax'), 99)\n",
    "feb_present_ci"
   ]
  },
  {
   "cell_type": "code",
   "execution_count": null,
   "metadata": {
    "deletable": false,
    "editable": false
   },
   "outputs": [],
   "source": [
    "grader.check(\"q1_2_6\")"
   ]
  },
  {
   "cell_type": "markdown",
   "metadata": {},
   "source": [
    "<!-- BEGIN QUESTION -->\n",
    "\n",
    "**Questão 1.2.7** O limite inferior do intervalo de confiança de 99% `feb_present_ci` está abaixo da temperatura máxima média observada de fevereiro no passado, que é 68.8485 (da tabela `monthly_increases`). Que conclusão você pode tirar sobre o efeito da mudança climática nas temperaturas máximas de fevereiro em Phoenix a partir dessa informação? Use um valor de p de 1%.\n",
    "\n",
    "*Nota*: Se você estiver com dificuldades nesta questão, reler os parágrafos sob o título *Fevereiro* (particularmente os primeiros) pode ser útil."
   ]
  },
  {
   "cell_type": "markdown",
   "metadata": {},
   "source": [
    "_Digite sua resposta aqui, substituindo este texto._"
   ]
  },
  {
   "cell_type": "markdown",
   "metadata": {},
   "source": [
    "<!-- END QUESTION -->\n",
    "\n",
    "### Todos os Meses"
   ]
  },
  {
   "cell_type": "markdown",
   "metadata": {},
   "source": [
    "**Questão 1.2.8.** Repita o processo de comparar o **limite inferior de um intervalo de confiança de 99%** com a **média passada** para cada mês. Para cada mês, imprima o nome do mês (por exemplo, `02 (Feb)`), a média passada observada e o limite inferior de um intervalo de confiança para a média presente.\n",
    "\n",
    "Use a chamada fornecida para `print` a fim de formatar o resultado como uma linha por mês.\n",
    "\n",
    "*Dica*: Seu código deve seguir o mesmo formato do nosso código acima (ou seja, a seção *Fevereiro*)."
   ]
  },
  {
   "cell_type": "code",
   "execution_count": null,
   "metadata": {
    "tags": []
   },
   "outputs": [],
   "source": [
    "comparisons = make_array()\n",
    "months = ...\n",
    "for month in months:\n",
    "    past_average = ...\n",
    "    present_observations = ...\n",
    "    present_lower_bound = ...\n",
    "    \n",
    "    # Não altere o código abaixo desta linha\n",
    "    below = past_average < present_lower_bound\n",
    "    if below:\n",
    "        comparison = '**below**'\n",
    "    else:\n",
    "        comparison = '*above*'\n",
    "    comparisons = np.append(comparisons, comparison)\n",
    "    \n",
    "    print('For', month, 'the past avg', round(past_average, 1), \n",
    "          'is', comparison, \n",
    "          'the lower bound', round(present_lower_bound, 1),\n",
    "          'of the 99% CI of the present avg. \\n')"
   ]
  },
  {
   "cell_type": "code",
   "execution_count": null,
   "metadata": {
    "deletable": false,
    "editable": false
   },
   "outputs": [],
   "source": [
    "grader.check(\"q1_2_8\")"
   ]
  },
  {
   "cell_type": "markdown",
   "metadata": {},
   "source": [
    "<!-- BEGIN QUESTION -->\n",
    "\n",
    "**Questão 1.2.9.** Resuma suas descobertas. Após comparar a média passada com o limite inferior do intervalo de confiança de 99% para cada mês, que conclusões podemos tirar sobre a temperatura máxima média mensal nos tempos históricos (1900-1960) vs. modernos (2019-2021) nos doze meses? Em outras palavras, qual hipótese nula você deve considerar, e para quais meses você rejeitaria ou não rejeitaria a hipótese nula? Use um valor de p de 1%.\n",
    "\n",
    "*Dica*: Você percebe algum padrão sazonal?"
   ]
  },
  {
   "cell_type": "markdown",
   "metadata": {},
   "source": [
    "_Digite sua resposta aqui, substituindo este texto._"
   ]
  },
  {
   "cell_type": "markdown",
   "metadata": {
    "tags": []
   },
   "source": [
    "<!-- END QUESTION -->\n",
    "\n",
    "### Parabéns\n",
    "\n",
    "Parabéns, você chegou até aqui!"
   ]
  },
  {
   "cell_type": "markdown",
   "metadata": {},
   "source": [
    "---\n",
    "A célula abaixo irá reexecutar todos os testes do autograder para a Parte 1 para verificar seu trabalho novamente."
   ]
  },
  {
   "cell_type": "code",
   "execution_count": null,
   "metadata": {},
   "outputs": [],
   "source": [
    "checkpoint_tests = [\"q1_1_3\", \"q1_1_4\", \"q1_1_5\",\n",
    "                    \"q1_2_1\", \"q1_2_2\", \"q1_2_5\", \"q1_2_6\", \"q1_2_8\"]\n",
    "\n",
    "for test in checkpoint_tests:\n",
    "    display(grader.check(test))"
   ]
  },
  {
   "cell_type": "markdown",
   "metadata": {},
   "source": [
    "## Submissão\n",
    "Se o seu instrutor quiser que você envie o trabalho da parte um como um ponto de verificação do projeto, siga as instruções abaixo.\n",
    "\n",
    "Certifique-se de ter executado todas as células no seu caderno em ordem antes de executar a célula abaixo, para que todas as imagens/gráficos apareçam na saída. A célula abaixo gerará um arquivo zip para você enviar. **Por favor, salve antes de exportar!**\n",
    "\n",
    "Seu instrutor pode querer que você envie seu trabalho até agora como um ponto de verificação.\n",
    "\n",
    "**Lembretes**:\n",
    "- Certifique-se de esperar até que o autograder termine de rodar para garantir que sua submissão foi processada corretamente e que você enviou para a tarefa correta."
   ]
  },
  {
   "cell_type": "code",
   "execution_count": null,
   "metadata": {},
   "outputs": [],
   "source": [
    "# Salve seu notebook primeiro, depois execute esta célula para exportar sua submissão.\n",
    "grader.export(pdf=False)"
   ]
  },
  {
   "cell_type": "markdown",
   "metadata": {
    "tags": []
   },
   "source": [
    "# Parte 2: Seca"
   ]
  },
  {
   "cell_type": "markdown",
   "metadata": {},
   "source": [
    "De acordo com a [Agência de Proteção Ambiental dos Estados Unidos](https://www.epa.gov/climate-indicators/southwest), \"Grandes porções do Sudoeste têm experimentado condições de seca desde que os registros semanais do Monitor de Seca começaram em 2000. Por períodos prolongados de 2002 a 2005 e de 2012 a 2020, quase toda a região estava anormalmente seca ou ainda mais seca.\"\n",
    "\n",
    "Avaliar o impacto da seca é desafiador apenas com dados em nível de cidade, porque grande parte da água que as pessoas usam é transportada de outros lugares, mas vamos explorar os dados que temos e ver o que podemos aprender.\n",
    "\n",
    "Primeiro, vamos dar uma olhada nos dados de precipitação na região sudoeste. O arquivo `southwest.csv` contém a precipitação anual total para 13 cidades no sudoeste dos Estados Unidos para cada ano de 1960 a 2021. Este conjunto de dados é agregado a partir dos dados diários e inclui apenas as cidades do Sudoeste do conjunto de dados original que têm registros consistentes de precipitação desde 1960."
   ]
  },
  {
   "cell_type": "code",
   "execution_count": null,
   "metadata": {},
   "outputs": [],
   "source": [
    "southwest = Table.read_table('southwest.csv')\n",
    "southwest.show(5)"
   ]
  },
  {
   "cell_type": "markdown",
   "metadata": {},
   "source": [
    "**Questão 2.1.** Crie uma tabela `totals` que tenha uma linha para cada ano em ordem cronológica. Ela deve conter as seguintes colunas:\n",
    "1. `\"Year\"`: O ano (um número)\n",
    "2. `\"Precipitation\"`: A precipitação total em todas as 13 cidades do sudoeste naquele ano"
   ]
  },
  {
   "cell_type": "code",
   "execution_count": null,
   "metadata": {
    "tags": []
   },
   "outputs": [],
   "source": [
    "totals = ...\n",
    "totals"
   ]
  },
  {
   "cell_type": "code",
   "execution_count": null,
   "metadata": {
    "deletable": false,
    "editable": false
   },
   "outputs": [],
   "source": [
    "grader.check(\"q2_1\")"
   ]
  },
  {
   "cell_type": "markdown",
   "metadata": {},
   "source": [
    "Execute a célula abaixo para plotar a precipitação total nessas cidades ao longo do tempo, para que possamos tentar identificar a seca visualmente. Como lembrete, os anos de seca dados pela EPA foram (2002-2005) e (2012-2020)."
   ]
  },
  {
   "cell_type": "code",
   "execution_count": null,
   "metadata": {},
   "outputs": [],
   "source": [
    "# Apenas execute esta célula\n",
    "totals.plot(\"Year\", \"Precipitation\")"
   ]
  },
  {
   "cell_type": "markdown",
   "metadata": {},
   "source": [
    "Este gráfico não é muito revelador. Cada ano tem uma quantidade diferente de precipitação, e há bastante variabilidade entre os anos, como se a precipitação anual fosse um sorteio aleatório de uma distribuição de possíveis resultados.\n",
    "\n",
    "Será que essas chamadas \"condições de seca\" de 2002-2005 e 2012-2020 podem ser explicadas pelo acaso? Em outras palavras, será que as quantidades de precipitação anual no Sudoeste durante esses anos de seca são como **sorteios aleatórios da mesma distribuição subjacente** que para outros anos? Talvez nada sobre os padrões de precipitação da Terra tenha realmente mudado, e o sudoeste dos EUA apenas tenha experimentado alguns anos secos próximos uns dos outros.\n",
    "\n",
    "Para avaliar essa ideia, vamos conduzir um teste A/B no qual **a precipitação total de cada ano** é um resultado, e a condição é **se o ano está ou não no período de seca da EPA**."
   ]
  },
  {
   "cell_type": "markdown",
   "metadata": {},
   "source": [
    "Esta função `drought_label` distingue entre anos de seca, conforme descrito na declaração da EPA dos EUA acima (2002-2005 e 2012-2020), e outros anos. Note que o rótulo \"outros\" é talvez enganoso, já que houve outras secas antes de 2000, como a massiva [seca de 1988](https://en.wikipedia.org/wiki/1988%E2%80%9390_North_American_drought) que afetou grande parte dos EUA. No entanto, se estamos interessados em saber se esses períodos de seca modernos (2002-2005 e 2012-2020) são *normais* ou *anormais*, faz sentido distinguir os anos dessa forma."
   ]
  },
  {
   "cell_type": "code",
   "execution_count": null,
   "metadata": {},
   "outputs": [],
   "source": [
    "def drought_label(n):\n",
    "    \"\"\"Retorna o rótulo para um ano de entrada n.\"\"\"\n",
    "    if 2002 <= n <= 2005 or 2012 <= n <= 2020:\n",
    "        return 'drought'\n",
    "    else:\n",
    "        return 'other'"
   ]
  },
  {
   "cell_type": "markdown",
   "metadata": {},
   "source": [
    "<!-- BEGIN QUESTION -->\n",
    "\n",
    "**Questão 2.2.** Defina hipóteses nula e alternativa para um teste A/B que investiga se os anos de seca são mais secos (têm menos precipitação) do que outros anos.\n",
    "\n",
    "*Nota:* Por favor, formate sua resposta usando a seguinte estrutura.\n",
    "\n",
    "- *Hipótese nula:* ...\n",
    "- *Hipótese alternativa:* ..."
   ]
  },
  {
   "cell_type": "markdown",
   "metadata": {},
   "source": [
    "_Digite sua resposta aqui, substituindo este texto._"
   ]
  },
  {
   "cell_type": "markdown",
   "metadata": {},
   "source": [
    "<!-- END QUESTION -->\n",
    "\n",
    "<!-- BEGIN QUESTION -->\n",
    "\n",
    "**Questão 2.3.** Primeiro, defina a tabela `drought`. Ela deve conter uma linha por ano e as seguintes duas colunas:\n",
    "- `\"Label\"`: Indica se um ano faz parte de um ano de `\"drought\"` (seca) ou um ano `\"other\"` (outro)\n",
    "- `\"Precipitation\"`: A soma da precipitação total em 13 cidades do sudoeste naquele ano\n",
    "\n",
    "Em seguida, construa um histograma sobreposto de duas distribuições observadas: a precipitação total em anos de seca e a precipitação total em outros anos.\n",
    "\n",
    "*Nota*: Use os `bins` fornecidos ao criar seu histograma e não reatribua a tabela `southwest`. Sinta-se à vontade para usar quantas linhas precisar!\n",
    "\n",
    "*Dica*: O argumento opcional `group` em uma certa função pode ser útil!"
   ]
  },
  {
   "cell_type": "code",
   "execution_count": null,
   "metadata": {
    "tags": []
   },
   "outputs": [],
   "source": [
    "bins = np.arange(85, 215+1, 13)\n",
    "drought = ...\n",
    "..."
   ]
  },
  {
   "cell_type": "markdown",
   "metadata": {},
   "source": [
    "<!-- END QUESTION -->\n",
    "\n",
    "Antes de continuar, inspecione o histograma que você acabou de criar e tente adivinhar a conclusão do teste A/B. Construir intuição sobre o resultado de testes de hipóteses a partir de visualizações é bastante útil para aplicações de ciência de dados."
   ]
  },
  {
   "cell_type": "markdown",
   "metadata": {},
   "source": [
    "**Questão 2.4.** Nosso próximo passo é escolher uma estatística de teste com base em nossa hipótese alternativa na Questão 2.2. Quais das seguintes opções são escolhas válidas para a estatística de teste? Atribua `ab_test_stat` a um array de inteiros correspondentes às escolhas válidas. Suponha que médias e totais sejam calculados sobre as somas totais de precipitação para cada ano.\n",
    "\n",
    "1. A diferença entre a precipitação **total** nos anos de **seca** e a precipitação **total** nos anos **outros**.\n",
    "2. A diferença entre a precipitação **total** nos anos **outros** e a precipitação **total** nos anos de **seca**.\n",
    "3. A diferença **absoluta** entre a precipitação **total** nos anos outros e a precipitação **total** nos anos de seca.\n",
    "4. A diferença entre a precipitação **média** nos anos de **seca** e a precipitação **média** nos anos **outros**.\n",
    "5. A diferença entre a precipitação **média** nos anos **outros** e a precipitação **média** nos anos de **seca**.\n",
    "6. A diferença **absoluta** entre a precipitação **média** nos anos outros e a precipitação **média** nos anos de seca."
   ]
  },
  {
   "cell_type": "code",
   "execution_count": null,
   "metadata": {
    "tags": []
   },
   "outputs": [],
   "source": [
    "ab_test_stat = ..."
   ]
  },
  {
   "cell_type": "code",
   "execution_count": null,
   "metadata": {
    "deletable": false,
    "editable": false
   },
   "outputs": [],
   "source": [
    "grader.check(\"q2_4\")"
   ]
  },
  {
   "cell_type": "markdown",
   "metadata": {},
   "source": [
    "<!-- BEGIN QUESTION -->\n",
    "\n",
    "**Questão 2.5.** Os colegas cientistas do clima Olivia e Will apontam que há mais anos **outros** do que anos de **seca**, e assim medir a diferença entre a precipitação total sempre favorecerá os anos **outros**. Eles concluem que todas as opções acima envolvendo precipitação **total** são escolhas inválidas para a estatística de teste. Você concorda com eles? Por que ou por que não?"
   ]
  },
  {
   "cell_type": "markdown",
   "metadata": {},
   "source": [
    "_Digite sua resposta aqui, substituindo este texto._"
   ]
  },
  {
   "cell_type": "markdown",
   "metadata": {},
   "source": [
    "<!-- END QUESTION -->\n",
    "\n",
    "Antes de continuar, verifique sua tabela `drought`. Ela deve ter duas colunas `Label` e `Precipitation` com 61 linhas, 13 das quais são para anos de `\"drought\"` (seca).\n"
   ]
  },
  {
   "cell_type": "code",
   "execution_count": null,
   "metadata": {},
   "outputs": [],
   "source": [
    "drought.show(3)"
   ]
  },
  {
   "cell_type": "code",
   "execution_count": null,
   "metadata": {},
   "outputs": [],
   "source": [
    "drought.group('Label')"
   ]
  },
  {
   "cell_type": "markdown",
   "metadata": {},
   "source": [
    "**Questão 2.6.** Para nosso teste A/B, usaremos a diferença entre a precipitação média nos anos de seca e a precipitação média nos outros anos como nossa estatística de teste:\n",
    "\n",
    "$$\\text{precipitação média nos anos de \"seca\"} - \\text{precipitação média nos anos \"outros\"}$$\n",
    "\n",
    "Primeiro, complete a função `test_statistic`. Ela deve receber uma tabela `t` com duas colunas e uma linha por ano:\n",
    "- `Label`: o rótulo para aquele ano (ou `'drought'` ou `'other'`)\n",
    "- `Precipitation`: a precipitação total nas 13 cidades do sudoeste naquele ano.\n",
    "\n",
    "Em seguida, use a função que você definiu para atribuir `observed_statistic` à estatística de teste observada."
   ]
  },
  {
   "cell_type": "code",
   "execution_count": null,
   "metadata": {
    "tags": []
   },
   "outputs": [],
   "source": [
    "def test_statistic(t):\n",
    "    ...\n",
    "\n",
    "observed_statistic = ...\n",
    "observed_statistic"
   ]
  },
  {
   "cell_type": "code",
   "execution_count": null,
   "metadata": {
    "deletable": false,
    "editable": false
   },
   "outputs": [],
   "source": [
    "grader.check(\"q2_6\")"
   ]
  },
  {
   "cell_type": "markdown",
   "metadata": {},
   "source": [
    "Agora que definimos nossas hipóteses e a estatística de teste, estamos prontos para conduzir nosso teste de hipótese. Começaremos definindo uma função para simular a estatística de teste sob a hipótese nula e, em seguida, chamaremos essa função 5.000 vezes para construir uma distribuição empírica sob a hipótese nula."
   ]
  },
  {
   "cell_type": "markdown",
   "metadata": {},
   "source": [
    "**Questão 2.7.** Escreva uma função para simular a estatística de teste sob a hipótese nula. A função `simulate_precipitation_null` deve simular a hipótese nula uma vez (não 5.000 vezes) e retornar o valor da estatística de teste para essa amostra simulada.\n",
    "\n",
    "*Dica*: Usar `t.with_column(...)` com um nome de coluna que já existe em uma tabela `t` substituirá essa coluna pelos valores recém-especificados."
   ]
  },
  {
   "cell_type": "code",
   "execution_count": null,
   "metadata": {
    "tags": []
   },
   "outputs": [],
   "source": [
    "def simulate_precipitation_null():\n",
    "    ...\n",
    "\n",
    "# Execute sua função algumas vezes para garantir que ela funcione\n",
    "simulate_precipitation_null()"
   ]
  },
  {
   "cell_type": "code",
   "execution_count": null,
   "metadata": {
    "deletable": false,
    "editable": false
   },
   "outputs": [],
   "source": [
    "grader.check(\"q2_7\")"
   ]
  },
  {
   "cell_type": "markdown",
   "metadata": {},
   "source": [
    "**Questão 2.8.** Preencha os espaços em branco abaixo para completar a simulação para o teste de hipótese. Sua simulação deve calcular 5.000 valores da estatística de teste sob a hipótese nula e armazenar o resultado no array `sampled_stats`.\n",
    "\n",
    "*Dica:* Você deve usar a função `simulate_precipitation_null` que escreveu na questão anterior!\n",
    "\n",
    "*Nota:* Executar esta célula pode levar alguns segundos. Se levar mais de um minuto, tente encontrar uma maneira mais rápida de implementar sua função `simulate_precipitation_null`."
   ]
  },
  {
   "cell_type": "code",
   "execution_count": null,
   "metadata": {
    "tags": []
   },
   "outputs": [],
   "source": [
    "sampled_stats = ...\n",
    "\n",
    "repetitions = ...\n",
    "for i in np.arange(repetitions):\n",
    "    ...\n",
    "\n",
    "# Não altere estas linhas\n",
    "Table().with_column('Difference Between Means', sampled_stats).hist()\n",
    "plt.scatter(observed_statistic, 0, c=\"r\", s=50);\n",
    "plt.ylim(-0.01);"
   ]
  },
  {
   "cell_type": "code",
   "execution_count": null,
   "metadata": {
    "deletable": false,
    "editable": false
   },
   "outputs": [],
   "source": [
    "grader.check(\"q2_8\")"
   ]
  },
  {
   "cell_type": "markdown",
   "metadata": {},
   "source": [
    "**Questão 2.9.** Calcule o valor p para este teste de hipótese e atribua-o à variável `precipitation_p_val`."
   ]
  },
  {
   "cell_type": "code",
   "execution_count": null,
   "metadata": {
    "tags": []
   },
   "outputs": [],
   "source": [
    "precipitation_p_val = ...\n",
    "precipitation_p_val"
   ]
  },
  {
   "cell_type": "code",
   "execution_count": null,
   "metadata": {
    "deletable": false,
    "editable": false
   },
   "outputs": [],
   "source": [
    "grader.check(\"q2_9\")"
   ]
  },
  {
   "cell_type": "markdown",
   "metadata": {},
   "source": [
    "<!-- BEGIN QUESTION -->\n",
    "\n",
    "**Questão 2.10.** Declare uma conclusão deste teste usando um valor de p de 5%. O que você aprendeu sobre a declaração da EPA sobre a seca?"
   ]
  },
  {
   "cell_type": "markdown",
   "metadata": {},
   "source": [
    "_Digite sua resposta aqui, substituindo este texto._"
   ]
  },
  {
   "cell_type": "markdown",
   "metadata": {},
   "source": [
    "<!-- END QUESTION -->\n",
    "\n",
    "<!-- BEGIN QUESTION -->\n",
    "\n",
    "**Questão 2.11.** Sua conclusão da Questão 2.10 se aplica a toda a região sudoeste dos EUA? Por que ou por que não?\n"
   ]
  },
  {
   "cell_type": "markdown",
   "metadata": {},
   "source": [
    "_Digite sua resposta aqui, substituindo este texto._"
   ]
  },
  {
   "cell_type": "markdown",
   "metadata": {},
   "source": [
    "<!-- END QUESTION -->\n",
    "\n",
    "# Conclusão"
   ]
  },
  {
   "cell_type": "markdown",
   "metadata": {},
   "source": [
    "A ciência de dados desempenha um papel central na pesquisa sobre mudanças climáticas porque simulações massivas do clima da Terra são necessárias para avaliar as implicações dos dados climáticos registrados por estações meteorológicas, satélites e outros sensores. [Berkeley Earth](http://berkeleyearth.org/data/) é uma fonte comum de dados para esses tipos de projetos.\n",
    "\n",
    "Neste projeto, encontramos maneiras de aplicar nossas técnicas de inferência estatística que dependem de amostragem aleatória, mesmo em situações onde os dados não foram gerados aleatoriamente, mas sim por algum processo natural complicado que parecia aleatório. Fizemos suposições sobre aleatoriedade e, em seguida, chegamos a conclusões com base nessas suposições. É necessário ter muito cuidado ao escolher suposições que sejam realistas, para que as conclusões resultantes não sejam enganosas. No entanto, fazer suposições sobre dados pode ser produtivo quando isso permite que técnicas de inferência se apliquem a situações novas."
   ]
  },
  {
   "cell_type": "markdown",
   "metadata": {},
   "source": [
    "**Parabéns por terminar o Projeto 2! Hora de enviar.**\n",
    "\n",
    "**Passos importantes para a submissão:** \n",
    "1. Execute os testes e verifique se todos passam.\n",
    "2. Escolha **Salvar Notebook** no menu **Arquivo**, depois **execute a célula final**. \n",
    "3. Clique no link para baixar o arquivo zip.\n",
    "4. Em seguida, envie o arquivo zip para a tarefa correspondente de acordo com as instruções do seu instrutor. \n",
    "\n",
    "**É sua responsabilidade garantir que seu trabalho esteja salvo antes de executar a última célula.**"
   ]
  },
  {
   "cell_type": "markdown",
   "metadata": {
    "deletable": false,
    "editable": false
   },
   "source": [
    "## Submissão\n",
    "\n",
    "Certifique-se de ter executado todas as células no seu caderno em ordem antes de executar a célula abaixo, para que todas as imagens/gráficos apareçam na saída. A célula abaixo gerará um arquivo zip para você enviar. **Por favor, salve antes de exportar!**"
   ]
  },
  {
   "cell_type": "code",
   "execution_count": null,
   "metadata": {
    "deletable": false,
    "editable": false
   },
   "outputs": [],
   "source": [
    "# Salve seu notebook primeiro, depois execute esta célula para exportar sua submissão.\n",
    "grader.export(pdf=False, run_tests=True)"
   ]
  },
  {
   "cell_type": "markdown",
   "metadata": {},
   "source": [
    " "
   ]
  }
 ],
 "metadata": {
  "kernelspec": {
   "display_name": "Python 3 (ipykernel)",
   "language": "python",
   "name": "python3"
  },
  "language_info": {
   "codemirror_mode": {
    "name": "ipython",
    "version": 3
   },
   "file_extension": ".py",
   "mimetype": "text/x-python",
   "name": "python",
   "nbconvert_exporter": "python",
   "pygments_lexer": "ipython3",
   "version": "3.9.10"
  },
  "otter": {
   "OK_FORMAT": true,
   "tests": {
    "q1_1_3": {
     "name": "q1_1_3",
     "points": [
      0,
      0
     ],
     "suites": [
      {
       "cases": [
        {
         "code": ">>> type(num_unique_cites) in set([int, np.int32, np.int64])\nTrue",
         "hidden": false,
         "locked": false
        },
        {
         "code": ">>> # Make sure that num_unique_cities is greater than zero!\n>>> num_unique_cites > 0\nTrue",
         "hidden": false,
         "locked": false
        }
       ],
       "scored": true,
       "setup": "",
       "teardown": "",
       "type": "doctest"
      }
     ]
    },
    "q1_1_4": {
     "name": "q1_1_4",
     "points": [
      1
     ],
     "suites": [
      {
       "cases": [
        {
         "code": ">>> # Make sure the function outputs a string!\n>>> type(coordinates_to_region(50, 100)) == str\nTrue",
         "hidden": false,
         "locked": false
        }
       ],
       "scored": true,
       "setup": "",
       "teardown": "",
       "type": "doctest"
      }
     ]
    },
    "q1_1_5": {
     "name": "q1_1_5",
     "points": [
      0,
      0,
      1
     ],
     "suites": [
      {
       "cases": [
        {
         "code": ">>> len(cities.labels) == 8\nTrue",
         "hidden": false,
         "locked": false
        },
        {
         "code": ">>> cities.labels[-1] == \"Region\"\nTrue",
         "hidden": false,
         "locked": false
        },
        {
         "code": ">>> cities.row(0).item('Region') == 'Northwest'\nTrue",
         "hidden": false,
         "locked": false
        }
       ],
       "scored": true,
       "setup": "",
       "teardown": "",
       "type": "doctest"
      }
     ]
    },
    "q1_2_1": {
     "name": "q1_2_1",
     "points": [
      0
     ],
     "suites": [
      {
       "cases": [
        {
         "code": ">>> type(largest_2010_range_date) == str\nTrue",
         "hidden": false,
         "locked": false
        }
       ],
       "scored": true,
       "setup": "",
       "teardown": "",
       "type": "doctest"
      }
     ]
    },
    "q1_2_2": {
     "name": "q1_2_2",
     "points": [
      0,
      0,
      1
     ],
     "suites": [
      {
       "cases": [
        {
         "code": ">>> phoenix.num_rows == 46021\nTrue",
         "hidden": false,
         "locked": false
        },
        {
         "code": ">>> len(phoenix.labels) == 6\nTrue",
         "hidden": false,
         "locked": false
        },
        {
         "code": ">>> phoenix.labels == ('Date', 'tmax', 'tmin', 'prcp', 'Year', 'Month')\nTrue",
         "hidden": false,
         "locked": false
        }
       ],
       "scored": true,
       "setup": "",
       "teardown": "",
       "type": "doctest"
      }
     ]
    },
    "q1_2_5": {
     "name": "q1_2_5",
     "points": [
      0,
      1,
      1
     ],
     "suites": [
      {
       "cases": [
        {
         "code": ">>> monthly_increases.num_rows == 12\nTrue",
         "hidden": false,
         "locked": false
        },
        {
         "code": ">>> monthly_increases.labels == ('Month', 'Past', 'Present', 'Increase')\nTrue",
         "hidden": false,
         "locked": false
        },
        {
         "code": ">>> # Make sure your table is sorted from January to December.\n>>> monthly_increases.row(2).item('Month') == '03 (Mar)'\nTrue",
         "hidden": false,
         "locked": false
        }
       ],
       "scored": true,
       "setup": "",
       "teardown": "",
       "type": "doctest"
      }
     ]
    },
    "q1_2_6": {
     "name": "q1_2_6",
     "points": [
      5
     ],
     "suites": [
      {
       "cases": [
        {
         "code": ">>> 66.6 <= feb_present_ci <= 67.3\nTrue",
         "hidden": false,
         "locked": false
        }
       ],
       "scored": true,
       "setup": "",
       "teardown": "",
       "type": "doctest"
      }
     ]
    },
    "q1_2_8": {
     "name": "q1_2_8",
     "points": [
      1
     ],
     "suites": [
      {
       "cases": [
        {
         "code": ">>> type(months) == np.ndarray\nTrue",
         "hidden": false,
         "locked": false
        }
       ],
       "scored": true,
       "setup": "",
       "teardown": "",
       "type": "doctest"
      }
     ]
    },
    "q2_1": {
     "name": "q2_1",
     "points": [
      0,
      1
     ],
     "suites": [
      {
       "cases": [
        {
         "code": ">>> totals.num_rows == 61\nTrue",
         "hidden": false,
         "locked": false
        },
        {
         "code": ">>> totals.labels == ('Year', 'Precipitation')\nTrue",
         "hidden": false,
         "locked": false
        }
       ],
       "scored": true,
       "setup": "",
       "teardown": "",
       "type": "doctest"
      }
     ]
    },
    "q2_4": {
     "name": "q2_4",
     "points": [
      0,
      0,
      2
     ],
     "suites": [
      {
       "cases": [
        {
         "code": ">>> type(ab_test_stat) == np.ndarray\nTrue",
         "hidden": false,
         "locked": false
        },
        {
         "code": ">>> all([1 <= option <= 6 for option in ab_test_stat])\nTrue",
         "hidden": false,
         "locked": false
        },
        {
         "code": ">>> all([type(option) in set([np.int64, np.int32, int]) for option in list(ab_test_stat)])\nTrue",
         "hidden": false,
         "locked": false
        }
       ],
       "scored": true,
       "setup": "",
       "teardown": "",
       "type": "doctest"
      }
     ]
    },
    "q2_6": {
     "name": "q2_6",
     "points": [
      1
     ],
     "suites": [
      {
       "cases": [
        {
         "code": ">>> observed_statistic < 0\nTrue",
         "hidden": false,
         "locked": false
        }
       ],
       "scored": true,
       "setup": "",
       "teardown": "",
       "type": "doctest"
      }
     ]
    },
    "q2_7": {
     "name": "q2_7",
     "points": [
      1
     ],
     "suites": [
      {
       "cases": [
        {
         "code": ">>> -50 < simulate_precipitation_null() < 50\nTrue",
         "hidden": false,
         "locked": false
        }
       ],
       "scored": true,
       "setup": "",
       "teardown": "",
       "type": "doctest"
      }
     ]
    },
    "q2_8": {
     "name": "q2_8",
     "points": [
      0,
      0
     ],
     "suites": [
      {
       "cases": [
        {
         "code": ">>> len(sampled_stats) == 5000\nTrue",
         "hidden": false,
         "locked": false
        },
        {
         "code": ">>> np.std(sampled_stats) > 0\nTrue",
         "hidden": false,
         "locked": false
        }
       ],
       "scored": true,
       "setup": "",
       "teardown": "",
       "type": "doctest"
      }
     ]
    },
    "q2_9": {
     "name": "q2_9",
     "points": [
      0,
      1
     ],
     "suites": [
      {
       "cases": [
        {
         "code": ">>> type(precipitation_p_val) in set([float, np.float32, np.float64])\nTrue",
         "hidden": false,
         "locked": false
        },
        {
         "code": ">>> 0 <= precipitation_p_val <= 1\nTrue",
         "hidden": false,
         "locked": false
        }
       ],
       "scored": true,
       "setup": "",
       "teardown": "",
       "type": "doctest"
      }
     ]
    }
   }
  }
 },
 "nbformat": 4,
 "nbformat_minor": 5
}
