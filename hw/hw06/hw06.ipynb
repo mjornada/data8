{
 "cells": [
  {
   "cell_type": "code",
   "execution_count": null,
   "metadata": {
    "deletable": false,
    "editable": false
   },
   "outputs": [],
   "source": [
    "# Inicialize o Otter\n",
    "import otter\n",
    "grader = otter.Notebook(\"hw06.ipynb\")"
   ]
  },
  {
   "cell_type": "markdown",
   "metadata": {},
   "source": [
    "# Trabalho de Casa 6: Probabilidade, Simulação, Estimação e Avaliação de Modelos\n",
    "\n",
    "Por favor, complete este notebook preenchendo as células fornecidas. Antes de começar, execute a célula anterior para carregar os testes fornecidos."
   ]
  },
  {
   "cell_type": "markdown",
   "metadata": {},
   "source": [
    "**Recurso útil:**\n",
    "- [Referência Python](http://data8.org/sp22/python-reference.html): Folha de dicas de métodos úteis de array e tabela usados no Data 8!\n",
    "\n",
    "**Leituras recomendadas**: \n",
    "* [Aleatoriedade](https://www.inferentialthinking.com/chapters/09/Randomness.html)\n",
    "* [Amostragem e Distribuições Empíricas](https://www.inferentialthinking.com/chapters/10/Sampling_and_Empirical_Distributions.html)\n",
    "* [Testando Hipóteses](https://www.inferentialthinking.com/chapters/11/Testing_Hypotheses.html)"
   ]
  },
  {
   "cell_type": "markdown",
   "metadata": {},
   "source": [
    "Por favor, complete este notebook preenchendo as células fornecidas. Antes de começar, execute a célula seguinte para configurar o notebook importando algumas bibliotecas úteis. Toda vez que você iniciar seu servidor, precisará executar esta célula novamente.\n",
    "\n",
    "Para todos os problemas que você deve escrever explicações e frases, você **deve** fornecer sua resposta no espaço designado. **Além disso, durante este trabalho de casa e todos os futuros, certifique-se de não reatribuir variáveis ao longo do notebook!** Por exemplo, se você usar `max_temperature` em sua resposta para uma pergunta, não a reatribua mais tarde. Caso contrário, você falhará nos testes que pensou que estava passando anteriormente!\n",
    "\n",
    "**Nota: Este trabalho de casa tem testes ocultos. Isso significa que mesmo que os testes digam que 100% passaram, isso não significa que sua nota final será 100%. Estaremos executando mais testes de correção depois que todos entregarem o trabalho de casa.**\n",
    "\n",
    "Compartilhar respostas diretamente não é permitido, mas discutir problemas com a equipe do curso ou com outros alunos é incentivado.\n",
    "\n",
    "Você deve começar cedo para ter tempo de obter ajuda se estiver preso."
   ]
  },
  {
   "cell_type": "markdown",
   "metadata": {},
   "source": [
    "## 1. Roleta"
   ]
  },
  {
   "cell_type": "code",
   "execution_count": null,
   "metadata": {},
   "outputs": [],
   "source": [
    "# Execute esta célula para configurar o notebook, mas por favor não altere.\n",
    "\n",
    "# Estas linhas importam os módulos Numpy e Datascience.\n",
    "import numpy as np\n",
    "from datascience import *\n",
    "import d8error\n",
    "\n",
    "# Estas linhas fazem algumas mágicas de plotagem.\n",
    "import matplotlib\n",
    "%matplotlib inline\n",
    "import matplotlib.pyplot as plt\n",
    "plt.style.use('fivethirtyeight')\n",
    "import warnings\n",
    "warnings.simplefilter('ignore', FutureWarning)"
   ]
  },
  {
   "cell_type": "markdown",
   "metadata": {},
   "source": [
    "Uma roleta de Nevada tem 38 bolsos e uma pequena bola que repousa na roda. Quando a roda é girada, a bola repousa em um dos 38 bolsos. Esse bolso é declarado o vencedor.\n",
    "\n",
    "Os bolsos são rotulados 0, 00, 1, 2, 3, 4, ..., 36. Os bolsos 0 e 00 são verdes, e os outros bolsos são alternadamente vermelhos e pretos. A tabela `wheel` é uma representação de uma roleta de Nevada. **Note que *ambas* as colunas consistem em strings.** Abaixo está um exemplo de uma roleta!"
   ]
  },
  {
   "cell_type": "markdown",
   "metadata": {},
   "source": [
    "<img src=\"roulette_wheel.jpeg\" width=\"330px\">"
   ]
  },
  {
   "cell_type": "markdown",
   "metadata": {},
   "source": [
    "Execute a célula abaixo para carregar a tabela `wheel`."
   ]
  },
  {
   "cell_type": "code",
   "execution_count": null,
   "metadata": {},
   "outputs": [],
   "source": [
    "wheel = Table.read_table('roulette_wheel.csv', dtype=str)\n",
    "wheel"
   ]
  },
  {
   "cell_type": "markdown",
   "metadata": {},
   "source": [
    "### Apostando no Vermelho ###\n",
    "Se você apostar no *vermelho*, está apostando que o bolso vencedor será vermelho. Esta aposta *paga 1 para 1*. Isso significa que se você fizer uma aposta de um dólar no vermelho, então:\n",
    "\n",
    "- Se o bolso vencedor for vermelho, você ganha 1 dólar. Ou seja, você recebe seu dólar original de volta, mais um dólar.\n",
    "- Se o bolso vencedor não for vermelho, você perde seu dólar. Em outras palavras, você ganha -1 dólares.\n",
    "\n",
    "Vamos ver se você pode ganhar dinheiro apostando no vermelho na roleta."
   ]
  },
  {
   "cell_type": "markdown",
   "metadata": {},
   "source": [
    "**Questão 1.** Defina uma função `dollar_bet_on_red` que recebe o nome de uma cor e retorna seu ganho em dólares se essa cor tivesse vencido e você tivesse feito uma aposta de um dólar no vermelho. Lembre-se de que o ganho pode ser negativo. Certifique-se de que sua função retorna um inteiro. **(4 pontos)**\n",
    "\n",
    "*Nota:* Você pode assumir que as únicas cores que serão passadas como argumentos são vermelho, preto e verde. Sua função não precisa verificar isso."
   ]
  },
  {
   "cell_type": "code",
   "execution_count": null,
   "metadata": {
    "tags": []
   },
   "outputs": [],
   "source": [
    "def dollar_bet_on_red(...):\n",
    "    ..."
   ]
  },
  {
   "cell_type": "code",
   "execution_count": null,
   "metadata": {
    "deletable": false,
    "editable": false
   },
   "outputs": [],
   "source": [
    "grader.check(\"q1_1\")"
   ]
  },
  {
   "cell_type": "markdown",
   "metadata": {},
   "source": [
    "Execute a célula abaixo para garantir que sua função está funcionando."
   ]
  },
  {
   "cell_type": "code",
   "execution_count": null,
   "metadata": {},
   "outputs": [],
   "source": [
    "print(dollar_bet_on_red('green'))\n",
    "print(dollar_bet_on_red('black'))\n",
    "print(dollar_bet_on_red('red'))"
   ]
  },
  {
   "cell_type": "markdown",
   "metadata": {},
   "source": [
    "**Questão 2.** Adicione uma coluna chamada `Winnings: Red` à tabela `wheel`. Para cada bolso, a coluna deve conter seu ganho em dólares se aquele bolso ganhasse e você tivesse apostado um dólar no vermelho. Seu código deve usar a função `dollar_bet_on_red`. **(4 pontos)**"
   ]
  },
  {
   "cell_type": "code",
   "execution_count": null,
   "metadata": {
    "scrolled": true,
    "tags": []
   },
   "outputs": [],
   "source": [
    "red_winnings = ...\n",
    "wheel = ...\n",
    "wheel"
   ]
  },
  {
   "cell_type": "code",
   "execution_count": null,
   "metadata": {
    "deletable": false,
    "editable": false
   },
   "outputs": [],
   "source": [
    "grader.check(\"q1_2\")"
   ]
  },
  {
   "cell_type": "markdown",
   "metadata": {},
   "source": [
    "### Simulando 10 Apostas no Vermelho\n",
    "As roletas são configuradas de forma que cada vez que são giradas, o bolso vencedor é igualmente provável de ser qualquer um dos 38 bolsos, independentemente dos resultados de todas as outras rodadas. Vamos ver o que aconteceria se decidíssemos apostar um dólar no vermelho em cada rodada.\n",
    "\n",
    "**Questão 3.** Crie uma tabela `ten_bets` amostrando a tabela `wheel` para simular 10 rodadas da roleta. Sua tabela deve ter os mesmos três rótulos de coluna que na `wheel`. Depois de criar essa tabela, defina `sum_bets` para o seu ganho líquido em todas as 10 apostas, supondo que você apostou um dólar no vermelho cada vez. **(4 pontos)**\n",
    "\n",
    "*Dica:* Pode ser útil imprimir `ten_bets` depois de criá-la!\n"
   ]
  },
  {
   "cell_type": "code",
   "execution_count": null,
   "metadata": {
    "tags": []
   },
   "outputs": [],
   "source": [
    "ten_bets = ...\n",
    "sum_bets = ...(ten_bets.column('Winnings: Red'))\n",
    "sum_bets"
   ]
  },
  {
   "cell_type": "code",
   "execution_count": null,
   "metadata": {
    "deletable": false,
    "editable": false
   },
   "outputs": [],
   "source": [
    "grader.check(\"q1_3\")"
   ]
  },
  {
   "cell_type": "markdown",
   "metadata": {},
   "source": [
    "Execute as células acima algumas vezes para ver quanto dinheiro você ganharia se fizesse 10 apostas de um dólar no vermelho. Ganhar uma quantidade negativa de dinheiro não é bom, mas é uma realidade no jogo. Os cassinos são um negócio, e eles ganham dinheiro quando os jogadores perdem."
   ]
  },
  {
   "cell_type": "markdown",
   "metadata": {},
   "source": [
    "**Questão 4.** Vamos ver o que aconteceria se você fizesse mais apostas. Defina uma função `net_gain_red` que recebe o número de apostas e retorna o ganho líquido nesse número de apostas de um dólar no vermelho. **(4 pontos)**\n",
    "\n",
    "*Dica:* Você deve usar sua tabela `wheel` dentro da sua função.\n"
   ]
  },
  {
   "cell_type": "code",
   "execution_count": null,
   "metadata": {
    "tags": []
   },
   "outputs": [],
   "source": [
    "def net_gain_red(...):\n",
    "    ..."
   ]
  },
  {
   "cell_type": "code",
   "execution_count": null,
   "metadata": {
    "deletable": false,
    "editable": false
   },
   "outputs": [],
   "source": [
    "grader.check(\"q1_4\")"
   ]
  },
  {
   "cell_type": "markdown",
   "metadata": {},
   "source": [
    "Execute a célula abaixo algumas vezes para garantir que os resultados são semelhantes aos que você observou no exercício anterior."
   ]
  },
  {
   "cell_type": "code",
   "execution_count": null,
   "metadata": {},
   "outputs": [],
   "source": [
    "net_gain_red(10)"
   ]
  },
  {
   "cell_type": "markdown",
   "metadata": {},
   "source": [
    "**Questão 5.** Complete a célula abaixo para simular o ganho líquido em 200 apostas de um dólar no vermelho, repetindo o processo 10.000 vezes. Depois de executar a célula, `all_gains_red` deve ser um array com 10.000 entradas, cada uma das quais é o ganho líquido em 200 apostas de um dólar no vermelho. **(4 pontos)**\n",
    "\n",
    "*Dica:* Pense em qual ferramenta computacional pode ser útil para simular um processo várias vezes. O Laboratório 5 pode ser um bom recurso para consultar!\n",
    "\n",
    "*Nota:* Esta célula pode levar alguns segundos para ser executada."
   ]
  },
  {
   "cell_type": "code",
   "execution_count": null,
   "metadata": {
    "tags": []
   },
   "outputs": [],
   "source": [
    "num_bets = ...\n",
    "repetitions = ...\n",
    "\n",
    "all_gains_red = ...\n",
    "...\n",
    "\n",
    "len(all_gains_red) # Não altere esta linha! Verifique se all_gains_red tem comprimento 10000."
   ]
  },
  {
   "cell_type": "code",
   "execution_count": null,
   "metadata": {
    "deletable": false,
    "editable": false
   },
   "outputs": [],
   "source": [
    "grader.check(\"q1_5\")"
   ]
  },
  {
   "cell_type": "markdown",
   "metadata": {},
   "source": [
    "Execute a célula abaixo para visualizar os resultados da sua simulação."
   ]
  },
  {
   "cell_type": "code",
   "execution_count": null,
   "metadata": {},
   "outputs": [],
   "source": [
    "gains = Table().with_columns('Net Gain on Red', all_gains_red)\n",
    "gains.hist(bins = np.arange(-80, 41, 4))"
   ]
  },
  {
   "cell_type": "markdown",
   "metadata": {},
   "source": [
    "**Questão 6:** Usando o histograma acima, decida se a seguinte afirmação é verdadeira ou falsa:\n",
    "\n",
    "> Se você fizer 200 apostas de um dólar no vermelho, sua chance de perder dinheiro é maior que 50%.\n",
    "\n",
    "Atribua `loss_more_than_50` a `True` ou `False` dependendo da sua resposta à pergunta. **(4 pontos)**"
   ]
  },
  {
   "cell_type": "code",
   "execution_count": null,
   "metadata": {
    "tags": []
   },
   "outputs": [],
   "source": [
    "loss_more_than_50 = ..."
   ]
  },
  {
   "cell_type": "code",
   "execution_count": null,
   "metadata": {
    "deletable": false,
    "editable": false
   },
   "outputs": [],
   "source": [
    "grader.check(\"q1_6\")"
   ]
  },
  {
   "cell_type": "markdown",
   "metadata": {},
   "source": [
    "### Apostando em um Split ###\n",
    "Se apostar no vermelho não parece uma boa ideia, talvez um jogador queira tentar uma aposta diferente. Uma aposta em um *split* é uma aposta em dois números consecutivos, como 5 e 6. Esta aposta paga 17 para 1. Isso significa que se você fizer uma aposta de um dólar no split 5 e 6, então:\n",
    "\n",
    "- Se o bolso vencedor for 5 ou 6, seu ganho é de 17 dólares.\n",
    "- Se qualquer outro bolso ganhar, você perde seu dólar, então seu ganho é de -1 dólares.\n",
    "\n",
    "**Questão 7.** Defina uma função `dollar_bet_on_split` que recebe um número de bolso e retorna seu ganho em dólares se aquele bolso ganhasse e você tivesse apostado um dólar no split 5-6. **(4 pontos)**\n",
    "\n",
    "*Dica:* Lembre-se de que os bolsos são representados como strings.\n"
   ]
  },
  {
   "cell_type": "code",
   "execution_count": null,
   "metadata": {
    "tags": []
   },
   "outputs": [],
   "source": [
    "def dollar_bet_on_split(...):\n",
    "    ..."
   ]
  },
  {
   "cell_type": "code",
   "execution_count": null,
   "metadata": {
    "deletable": false,
    "editable": false
   },
   "outputs": [],
   "source": [
    "grader.check(\"q1_7\")"
   ]
  },
  {
   "cell_type": "markdown",
   "metadata": {},
   "source": [
    "Execute a célula abaixo para verificar se sua função está fazendo o que deveria."
   ]
  },
  {
   "cell_type": "code",
   "execution_count": null,
   "metadata": {
    "scrolled": true
   },
   "outputs": [],
   "source": [
    "print(dollar_bet_on_split('5'))\n",
    "print(dollar_bet_on_split('6'))\n",
    "print(dollar_bet_on_split('00'))\n",
    "print(dollar_bet_on_split('23'))"
   ]
  },
  {
   "cell_type": "markdown",
   "metadata": {},
   "source": [
    "**Questão 8.** Adicione uma coluna `Winnings: Split` à tabela `wheel`. Para cada bolso, a coluna deve conter seu ganho em dólares se aquele bolso ganhasse e você tivesse apostado um dólar no split 5-6. **(4 pontos)**\n"
   ]
  },
  {
   "cell_type": "code",
   "execution_count": null,
   "metadata": {
    "scrolled": true,
    "tags": []
   },
   "outputs": [],
   "source": [
    "split_winnings = ...\n",
    "wheel = ...\n",
    "wheel.show(5) # Não altere esta linha!"
   ]
  },
  {
   "cell_type": "code",
   "execution_count": null,
   "metadata": {
    "deletable": false,
    "editable": false
   },
   "outputs": [],
   "source": [
    "grader.check(\"q1_8\")"
   ]
  },
  {
   "cell_type": "markdown",
   "metadata": {},
   "source": [
    "**Questão 9.** Simule o ganho líquido em 200 apostas de um dólar no split 5-6, repetindo o processo 10.000 vezes e salvando seus ganhos no array `all_gains_split`. **(4 pontos)**\n",
    "\n",
    "*Dica:* Seu código nas Questões 4 e 5 pode ser útil aqui!"
   ]
  },
  {
   "cell_type": "code",
   "execution_count": null,
   "metadata": {
    "scrolled": true,
    "tags": []
   },
   "outputs": [],
   "source": [
    "all_gains_split = ...\n",
    "\n",
    "...\n",
    "\n",
    "# Não altere as duas linhas abaixo!\n",
    "gains = gains.with_columns('Net Gain on Split', all_gains_split)\n",
    "gains.hist(bins = np.arange(-200, 150, 20))"
   ]
  },
  {
   "cell_type": "code",
   "execution_count": null,
   "metadata": {
    "deletable": false,
    "editable": false
   },
   "outputs": [],
   "source": [
    "grader.check(\"q1_9\")"
   ]
  },
  {
   "cell_type": "markdown",
   "metadata": {},
   "source": [
    "**Questão 10.** Olhe atentamente para a visualização acima e atribua `histogram_statements` a um array com os números de cada afirmação abaixo que podem ser corretamente inferidos a partir do histograma sobreposto. **(4 pontos)**\n",
    "\n",
    "1. Se você apostar um dólar 200 vezes em um split, sua chance de perder dinheiro é maior que 50%.\n",
    "2. Se você apostar um dólar 200 vezes na roleta, sua chance de ganhar mais de 50 dólares é maior se você apostar em um split cada vez do que se apostar no vermelho cada vez.\n",
    "3. Se você apostar um dólar 200 vezes na roleta, sua chance de perder mais de 50 dólares é maior se você apostar em um split cada vez do que se apostar no vermelho cada vez.\n",
    "\n",
    "*Dica:* Já vimos uma dessas afirmações em uma questão anterior.\n"
   ]
  },
  {
   "cell_type": "code",
   "execution_count": null,
   "metadata": {
    "tags": []
   },
   "outputs": [],
   "source": [
    "histogram_statements = ..."
   ]
  },
  {
   "cell_type": "code",
   "execution_count": null,
   "metadata": {
    "deletable": false,
    "editable": false
   },
   "outputs": [],
   "source": [
    "grader.check(\"q1_10\")"
   ]
  },
  {
   "cell_type": "markdown",
   "metadata": {},
   "source": [
    "Se este exercício fez você desistir de jogar roleta, ele cumpriu seu objetivo. Se você ainda está curioso sobre outras apostas, [aqui](https://en.wikipedia.org/wiki/Roulette#Bet_odds_table) estão todas elas, e [aqui](https://en.wikipedia.org/wiki/Roulette#House_edge) está a má notícia. A casa - isto é, o cassino - sempre tem uma vantagem sobre o jogador."
   ]
  },
  {
   "cell_type": "markdown",
   "metadata": {},
   "source": [
    "## 2. Probabilidades"
   ]
  },
  {
   "cell_type": "markdown",
   "metadata": {},
   "source": [
    "Antes de fazer este exercício, certifique-se de que você entende a lógica por trás de todos os exemplos na [Seção 9.5](https://inferentialthinking.com/chapters/09/5/Finding_Probabilities.html).\n",
    "\n",
    "Boas maneiras de abordar cálculos de probabilidade incluem:\n",
    "\n",
    "- Pensar uma tentativa de cada vez: Como deve ser a primeira? E a próxima?\n",
    "- Dividir o evento em maneiras distintas pelas quais ele pode acontecer.\n",
    "- Verificar se é mais fácil encontrar a chance de o evento não acontecer."
   ]
  },
  {
   "cell_type": "markdown",
   "metadata": {},
   "source": [
    "### Encontrando Chances\n",
    "\n",
    "Em cada giro de uma roleta, todos os 38 bolsos têm a mesma probabilidade de serem os vencedores, independentemente dos resultados de outros giros. Entre os 38 bolsos, 18 são vermelhos, 18 são pretos e 2 são verdes. Em cada parte abaixo, escreva uma expressão que avalie a chance do evento descrito."
   ]
  },
  {
   "cell_type": "markdown",
   "metadata": {},
   "source": [
    "**Questão 1.** O bolso vencedor é preto nas três primeiras rodadas. **(4 pontos)**"
   ]
  },
  {
   "cell_type": "code",
   "execution_count": null,
   "metadata": {
    "tags": []
   },
   "outputs": [],
   "source": [
    "first_three_black = ..."
   ]
  },
  {
   "cell_type": "code",
   "execution_count": null,
   "metadata": {
    "deletable": false,
    "editable": false
   },
   "outputs": [],
   "source": [
    "grader.check(\"q2_1\")"
   ]
  },
  {
   "cell_type": "markdown",
   "metadata": {},
   "source": [
    "**Questão 2.** A cor verde nunca vence nas primeiras 10 rodadas. **(4 pontos)**"
   ]
  },
  {
   "cell_type": "code",
   "execution_count": null,
   "metadata": {
    "tags": []
   },
   "outputs": [],
   "source": [
    "no_green = ..."
   ]
  },
  {
   "cell_type": "code",
   "execution_count": null,
   "metadata": {
    "deletable": false,
    "editable": false
   },
   "outputs": [],
   "source": [
    "grader.check(\"q2_2\")"
   ]
  },
  {
   "cell_type": "markdown",
   "metadata": {},
   "source": [
    "**Questão 3.** A cor verde vence pelo menos uma vez nas primeiras 10 rodadas. **(4 pontos)**"
   ]
  },
  {
   "cell_type": "code",
   "execution_count": null,
   "metadata": {
    "tags": []
   },
   "outputs": [],
   "source": [
    "at_least_one_green = ..."
   ]
  },
  {
   "cell_type": "code",
   "execution_count": null,
   "metadata": {
    "deletable": false,
    "editable": false
   },
   "outputs": [],
   "source": [
    "grader.check(\"q2_3\")"
   ]
  },
  {
   "cell_type": "markdown",
   "metadata": {},
   "source": [
    "**Questão 4.** Duas das três cores nunca vencem nas primeiras 10 rodadas. **(4 pontos)**\n",
    "\n",
    "*Dica:* Imagine o evento com as cores vermelho, amarelo e laranja. Que situação(ões) levam a duas das três cores nunca vencerem nas primeiras 10 rodadas?"
   ]
  },
  {
   "cell_type": "code",
   "execution_count": null,
   "metadata": {
    "tags": []
   },
   "outputs": [],
   "source": [
    "lone_winners = ..."
   ]
  },
  {
   "cell_type": "code",
   "execution_count": null,
   "metadata": {
    "deletable": false,
    "editable": false
   },
   "outputs": [],
   "source": [
    "grader.check(\"q2_4\")"
   ]
  },
  {
   "cell_type": "markdown",
   "metadata": {},
   "source": [
    "### Comparando Chances\n",
    "Em cada uma das Questões 5-7, dois eventos A e B são descritos. Escolha uma das três opções a seguir e defina cada variável de resposta para um único inteiro:\n",
    "\n",
    "1. O evento A é mais provável do que o evento B\n",
    "2. O evento B é mais provável do que o evento A\n",
    "3. Os dois eventos têm a mesma chance.\n",
    "\n",
    "Você deve ser capaz de fazer as escolhas **sem cálculo**. Boas maneiras de abordar este exercício incluem imaginar a realização dos experimentos de chance você mesmo, um teste de cada vez, e pensando na [lei das médias](https://inferentialthinking.com/chapters/10/1/Empirical_Distributions.html#the-law-of-averages)."
   ]
  },
  {
   "cell_type": "markdown",
   "metadata": {},
   "source": [
    "**Questão 5.** Uma criança escolhe aleatoriamente quatro vezes de uma caixa que contém quatro animais de brinquedo: um urso, um elefante, uma girafa e um canguru. **(4 pontos)**\n",
    "\n",
    "- Evento A: todos os quatro animais diferentes são escolhidos (assumindo que a criança escolhe sem reposição)\n",
    "- Evento B: todos os quatro animais diferentes são escolhidos (assumindo que a criança escolhe com reposição)"
   ]
  },
  {
   "cell_type": "code",
   "execution_count": null,
   "metadata": {
    "tags": []
   },
   "outputs": [],
   "source": [
    "toys_option = ..."
   ]
  },
  {
   "cell_type": "code",
   "execution_count": null,
   "metadata": {
    "deletable": false,
    "editable": false
   },
   "outputs": [],
   "source": [
    "grader.check(\"q2_5\")"
   ]
  },
  {
   "cell_type": "markdown",
   "metadata": {},
   "source": [
    "**Questão 6.** Em uma loteria, dois números são sorteados aleatoriamente com reposição entre os inteiros de 1 a 1000. **(4 pontos)**\n",
    "\n",
    "- Evento A: O número 8 é escolhido em ambos os sorteios\n",
    "- Evento B: O mesmo número é escolhido em ambos os sorteios"
   ]
  },
  {
   "cell_type": "code",
   "execution_count": null,
   "metadata": {
    "tags": []
   },
   "outputs": [],
   "source": [
    "lottery_option = ..."
   ]
  },
  {
   "cell_type": "code",
   "execution_count": null,
   "metadata": {
    "deletable": false,
    "editable": false
   },
   "outputs": [],
   "source": [
    "grader.check(\"q2_6\")"
   ]
  },
  {
   "cell_type": "markdown",
   "metadata": {},
   "source": [
    "**Questão 7.** Uma moeda justa é lançada repetidamente. **(4 pontos)**\n",
    "\n",
    "- Evento A: Há 60 ou mais caras em 100 lançamentos\n",
    "- Evento B: Há 600 ou mais caras em 1000 lançamentos\n",
    "\n",
    "*Dica*: Pense na lei das médias!"
   ]
  },
  {
   "cell_type": "code",
   "execution_count": null,
   "metadata": {
    "tags": []
   },
   "outputs": [],
   "source": [
    "coin_option = ..."
   ]
  },
  {
   "cell_type": "code",
   "execution_count": null,
   "metadata": {
    "deletable": false,
    "editable": false
   },
   "outputs": [],
   "source": [
    "grader.check(\"q2_7\")"
   ]
  },
  {
   "cell_type": "markdown",
   "metadata": {},
   "source": [
    "## 3. Três Maneiras de Python Sortear Amostras Aleatórias"
   ]
  },
  {
   "cell_type": "markdown",
   "metadata": {},
   "source": [
    "Você aprendeu três maneiras de sortear amostras aleatórias usando Python:\n",
    "\n",
    "- `tbl.sample` sorteia uma amostra aleatória de linhas da tabela `tbl`. A saída é uma tabela composta pelas linhas amostradas.\n",
    "\n",
    "- `np.random.choice` sorteia uma amostra aleatória de uma população cujos elementos estão em um array. A saída é um array composto pelos elementos amostrados.\n",
    "\n",
    "- `sample_proportions` sorteia de uma distribuição categórica cujas proporções estão em um array. A saída é um array composto pelas proporções amostradas em todas as categorias."
   ]
  },
  {
   "cell_type": "code",
   "execution_count": null,
   "metadata": {},
   "outputs": [],
   "source": [
    "# Olhe através deste código e execute esta célula para as questões 1 e 2\n",
    "top = Table.read_table('top_movies_2017.csv').select(0, 1)\n",
    "top.show(3)"
   ]
  },
  {
   "cell_type": "code",
   "execution_count": null,
   "metadata": {},
   "outputs": [],
   "source": [
    "# Olhe através deste código e execute esta célula para as questões 1 e 2\n",
    "studios_with_counts = top.group('Studio').sort('count', descending=True)\n",
    "studios_with_counts.show(3)"
   ]
  },
  {
   "cell_type": "code",
   "execution_count": null,
   "metadata": {},
   "outputs": [],
   "source": [
    "# Olhe através deste código e execute esta célula para as questões 1 e 2\n",
    "studios_of_all_movies = top.column('Studio')\n",
    "distinct_studios = studios_with_counts.column('Studio')\n",
    "\n",
    "print(\"studios_of_all_movies:\", studios_of_all_movies[:10], \"...\")\n",
    "print(\"\\n distinct_studios:\", distinct_studios)"
   ]
  },
  {
   "cell_type": "code",
   "execution_count": null,
   "metadata": {},
   "outputs": [],
   "source": [
    "# Olhe através deste código e execute esta célula para as questões 1 e 2\n",
    "studio_counts_only = studios_with_counts.column('count')\n",
    "studio_proportions_only = studio_counts_only / sum(studio_counts_only)\n",
    "\n",
    "print(\"studio_counts_only:\", studio_counts_only)\n",
    "print(\"\\n studio_proportions_only:\", studio_proportions_only)"
   ]
  },
  {
   "cell_type": "markdown",
   "metadata": {},
   "source": [
    "Nas Questões 1 e 2, apresentaremos um cenário. Determine quais três das seis opções a seguir são verdadeiras em relação ao que a questão está perguntando, e liste-as na célula de resposta a seguir. Se sua resposta incluir qualquer uma das opções (i)-(iii), indique o que você preencheria no espaço em branco para torná-la verdadeira: `top`, `studios_with_counts`, `studios_of_all_movies`, `distinct_studios`, `studio_counts_only` ou `studio_proportions_only`.\n",
    "\n",
    "(i) Isso pode ser feito usando `sample` e a tabela _________.\n",
    "\n",
    "(ii) Isso pode ser feito usando `np.random.choice` e o array ________.\n",
    "\n",
    "(iii) Isso pode ser feito usando `sample_proportions` e o array _______.\n",
    "\n",
    "(iv) Isso não pode ser feito usando `sample` e os dados fornecidos.\n",
    "\n",
    "(v) Isso não pode ser feito usando `np.random.choice` e os dados fornecidos.\n",
    "\n",
    "(vi) Isso não pode ser feito usando `sample_proportions` e os dados fornecidos."
   ]
  },
  {
   "cell_type": "markdown",
   "metadata": {},
   "source": [
    "<!-- BEGIN QUESTION -->\n",
    "\n",
    "**Questão 1.** Simule uma amostra de 10 filmes sorteados aleatoriamente com reposição dos 200 filmes. Retorna True se a Paramount aparecer mais vezes do que a Warner Brothers entre os estúdios que lançaram os filmes amostrados, e False caso contrário. **(4 pontos)**\n",
    "\n",
    "*Exemplo de Resposta:* (i) studios_of_all_movies, (iii) top, (v)\n",
    "\n",
    "***Nota***: Não explique sua resposta para qualquer uma das opções que você escolheu; por favor, siga a estrutura da resposta de exemplo fornecida."
   ]
  },
  {
   "cell_type": "markdown",
   "metadata": {},
   "source": [
    "_Digite sua resposta aqui, substituindo este texto._"
   ]
  },
  {
   "cell_type": "markdown",
   "metadata": {},
   "source": [
    "<!-- END QUESTION -->\n",
    "\n",
    "<!-- BEGIN QUESTION -->\n",
    "\n",
    "**Questão 2.** Simule uma amostra de 10 filmes sorteados aleatoriamente com reposição dos 200 filmes. Retorna True se o primeiro filme amostrado foi lançado pelo mesmo estúdio que o último filme amostrado. **(4 pontos)**\n",
    "\n",
    "*Exemplo de Resposta:* (i) studios_of_all_movies, (iii) top, (v)\n",
    "\n",
    "***Nota***: Não explique sua resposta para qualquer uma das opções que você escolheu; por favor, siga a estrutura da resposta de exemplo fornecida."
   ]
  },
  {
   "cell_type": "markdown",
   "metadata": {},
   "source": [
    "_Digite sua resposta aqui, substituindo este texto._"
   ]
  },
  {
   "cell_type": "markdown",
   "metadata": {
    "tags": []
   },
   "source": [
    "<!-- END QUESTION -->\n",
    "\n",
    "## 4. Avaliando os Modelos de Jade\n",
    "\n",
    "Antes de começar, a [Seção 10.4](https://inferentialthinking.com/chapters/10/4/Random_Sampling_in_Python.html) do livro-texto é uma referência útil para esta parte."
   ]
  },
  {
   "cell_type": "markdown",
   "metadata": {},
   "source": [
    "### Jogos com Jade\n",
    "Nossa amiga Jade vem até nós e nos convida para jogar um jogo com ela. O jogo funciona assim:\n",
    "\n",
    "> Vamos sortear aleatoriamente com reposição de um baralho simplificado de 13 cartas com 4 cartas de face (A, J, Q, K) e 9 cartas numeradas (2, 3, 4, 5, 6, 7, 8, 9, 10). Se sortearmos cartas com reposição 13 vezes, e se o número de cartas de face for maior ou igual a 4, nós perdemos.\n",
    "> \n",
    "> Caso contrário, Jade perde.\n",
    "\n",
    "Jogamos o jogo uma vez e perdemos, observando um total de 8 cartas de face. Ficamos irritados e acusamos Jade de trapacear! Jade, no entanto, insiste que o baralho é justo.\n",
    "\n",
    "O modelo de Jade afirma que há uma chance igual de obter qualquer uma das cartas (A, 2, 3, 4, 5, 6, 7, 8, 9, 10, J, Q, K), mas não acreditamos nela. Acreditamos que o baralho está claramente manipulado, com as cartas de face (A, J, Q, K) sendo mais prováveis do que as cartas numeradas (2, 3, 4, 5, 6, 7, 8, 9, 10)."
   ]
  },
  {
   "cell_type": "markdown",
   "metadata": {},
   "source": [
    "**Questão 1.** Atribua `deck_model_probabilities` a um array de dois itens contendo a chance de tirar uma carta de face como o primeiro elemento, e a chance de tirar uma carta numerada como o segundo elemento sob o modelo de Jade. Como estamos trabalhando com probabilidades, certifique-se de que seus valores estão entre 0 e 1. **(4 Pontos)**"
   ]
  },
  {
   "cell_type": "code",
   "execution_count": null,
   "metadata": {
    "tags": []
   },
   "outputs": [],
   "source": [
    "deck_model_probabilities = ...\n",
    "deck_model_probabilities"
   ]
  },
  {
   "cell_type": "code",
   "execution_count": null,
   "metadata": {
    "deletable": false,
    "editable": false
   },
   "outputs": [],
   "source": [
    "grader.check(\"q4_1\")"
   ]
  },
  {
   "cell_type": "markdown",
   "metadata": {},
   "source": [
    "**Questão 2.** Acreditamos que o modelo de Jade está incorreto. Em particular, acreditamos que há uma *maior* chance de obter uma carta de face. Qual das seguintes estatísticas podemos usar durante nossa simulação para testar entre o modelo e nossa alternativa? Atribua `statistic_choice` à resposta correta. **(5 Pontos)**\n",
    "\n",
    "1. A distância (valor absoluto) entre o número real de cartas de face em 13 sorteios e 4, o número esperado de cartas de face em 13 sorteios\n",
    "2. O número esperado de cartas de face em 13 sorteios, 4\n",
    "3. O número de cartas de face que obtemos em 13 sorteios"
   ]
  },
  {
   "cell_type": "code",
   "execution_count": null,
   "metadata": {
    "tags": []
   },
   "outputs": [],
   "source": [
    "statistic_choice = ...\n",
    "statistic_choice"
   ]
  },
  {
   "cell_type": "code",
   "execution_count": null,
   "metadata": {
    "deletable": false,
    "editable": false
   },
   "outputs": [],
   "source": [
    "grader.check(\"q4_2\")"
   ]
  },
  {
   "cell_type": "markdown",
   "metadata": {},
   "source": [
    "**Questão 3.** Defina a função `deck_simulation_and_statistic`, que, dado um tamanho de amostra e um array de proporções do modelo (como o que você criou na Questão 1), retorna o número de cartas de face em uma simulação de sorteio de cartas sob o modelo especificado em `model_proportions`. **(5 Pontos)**\n",
    "\n",
    "*Dica:* Pense em como você pode usar a função `sample_proportions`."
   ]
  },
  {
   "cell_type": "code",
   "execution_count": null,
   "metadata": {
    "tags": []
   },
   "outputs": [],
   "source": [
    "def deck_simulation_and_statistic(sample_size, model_proportions):\n",
    "    ...\n",
    "\n",
    "deck_simulation_and_statistic(13, deck_model_probabilities)"
   ]
  },
  {
   "cell_type": "code",
   "execution_count": null,
   "metadata": {
    "deletable": false,
    "editable": false
   },
   "outputs": [],
   "source": [
    "grader.check(\"q4_3\")"
   ]
  },
  {
   "cell_type": "markdown",
   "metadata": {},
   "source": [
    "**Questão 4.** Use sua função acima para simular o sorteio de 13 cartas 5000 vezes sob as proporções que você especificou na Questão 1. Mantenha o controle de todas as suas estatísticas em `deck_statistics`. **(5 Pontos)**"
   ]
  },
  {
   "cell_type": "code",
   "execution_count": null,
   "metadata": {
    "tags": []
   },
   "outputs": [],
   "source": [
    "repetitions = 5000 \n",
    "...\n",
    "\n",
    "deck_statistics"
   ]
  },
  {
   "cell_type": "code",
   "execution_count": null,
   "metadata": {
    "deletable": false,
    "editable": false
   },
   "outputs": [],
   "source": [
    "grader.check(\"q4_4\")"
   ]
  },
  {
   "cell_type": "markdown",
   "metadata": {},
   "source": [
    "Vamos dar uma olhada na distribuição das estatísticas simuladas."
   ]
  },
  {
   "cell_type": "code",
   "execution_count": null,
   "metadata": {},
   "outputs": [],
   "source": [
    "# Desenhe uma distribuição de estatísticas\n",
    "Table().with_column('Deck Statistics', deck_statistics).hist()"
   ]
  },
  {
   "cell_type": "markdown",
   "metadata": {},
   "source": [
    "<!-- BEGIN QUESTION -->\n",
    "\n",
    "**Questão 5.** Dado o seu valor observado, você acredita que o modelo de Jade é razoável, ou é mais provável a nossa alternativa (que nosso baralho está manipulado)? Explique sua resposta usando o histograma produzido acima. **(5 Pontos)**\n"
   ]
  },
  {
   "cell_type": "markdown",
   "metadata": {},
   "source": [
    "_Digite sua resposta aqui, substituindo este texto._"
   ]
  },
  {
   "cell_type": "markdown",
   "metadata": {},
   "source": [
    "<!-- END QUESTION -->\n",
    "\n",
    "**Passos importantes para a submissão:** \n",
    "1. Execute os testes e verifique se todos passaram.\n",
    "2. Escolha **Salvar Notebook** no menu **Arquivo**, então **execute a última célula**. \n",
    "3. Clique no link para baixar o arquivo zip.\n",
    "4. Em seguida, envie o arquivo zip para a tarefa correspondente de acordo com as instruções do seu instrutor. \n",
    "\n",
    "**É sua responsabilidade garantir que seu trabalho esteja salvo antes de executar a última célula.**"
   ]
  },
  {
   "cell_type": "markdown",
   "metadata": {
    "deletable": false,
    "editable": false
   },
   "source": [
    "## Submissão\n",
    "\n",
    "Certifique-se de ter executado todas as células em seu notebook em ordem antes de executar a célula abaixo, para que todas as imagens/gráficos apareçam na saída. A célula abaixo irá gerar um arquivo zip para você enviar. **Por favor, salve antes de exportar!**"
   ]
  },
  {
   "cell_type": "code",
   "execution_count": null,
   "metadata": {
    "deletable": false,
    "editable": false
   },
   "outputs": [],
   "source": [
    "# Salve seu notebook primeiro, depois execute esta célula para exportar sua submissão.\n",
    "grader.export(pdf=False, run_tests=True)"
   ]
  },
  {
   "cell_type": "markdown",
   "metadata": {},
   "source": [
    " "
   ]
  }
 ],
 "metadata": {
  "kernelspec": {
   "display_name": "Python 3 (ipykernel)",
   "language": "python",
   "name": "python3"
  },
  "language_info": {
   "codemirror_mode": {
    "name": "ipython",
    "version": 3
   },
   "file_extension": ".py",
   "mimetype": "text/x-python",
   "name": "python",
   "nbconvert_exporter": "python",
   "pygments_lexer": "ipython3",
   "version": "3.9.13"
  },
  "otter": {
   "OK_FORMAT": true,
   "tests": {
    "q1_1": {
     "name": "q1_1",
     "points": [
      2
     ],
     "suites": [
      {
       "cases": [
        {
         "code": ">>> dollar_bet_on_red('red') == 1\nTrue",
         "hidden": false,
         "locked": false
        }
       ],
       "scored": true,
       "setup": "",
       "teardown": "",
       "type": "doctest"
      }
     ]
    },
    "q1_10": {
     "name": "q1_10",
     "points": [
      0,
      0
     ],
     "suites": [
      {
       "cases": [
        {
         "code": ">>> # Make sure histogram_statements is an array.\n>>> import numpy as np\n>>> type(histogram_statements) == np.ndarray\nTrue",
         "hidden": false,
         "locked": false
        },
        {
         "code": ">>> # Make sure you have set histogram_statements to an array with at least 1 number\n>>> 1 <= histogram_statements.item(0) <= 3\nTrue",
         "hidden": false,
         "locked": false
        }
       ],
       "scored": true,
       "setup": "",
       "teardown": "",
       "type": "doctest"
      }
     ]
    },
    "q1_2": {
     "name": "q1_2",
     "points": [
      0
     ],
     "suites": [
      {
       "cases": [
        {
         "code": ">>> # Make sure your column names are correct\n>>> wheel.labels[2] == \"Winnings: Red\"\nTrue",
         "hidden": false,
         "locked": false
        }
       ],
       "scored": true,
       "setup": "",
       "teardown": "",
       "type": "doctest"
      }
     ]
    },
    "q1_3": {
     "name": "q1_3",
     "points": [
      0
     ],
     "suites": [
      {
       "cases": [
        {
         "code": ">>> # If this test isn't passing, try running the cells from the top.\n>>> set([\"Pocket\", \"Color\", \"Winnings: Red\"]) == set(ten_bets.labels)\nTrue",
         "hidden": false,
         "locked": false
        }
       ],
       "scored": true,
       "setup": "",
       "teardown": "",
       "type": "doctest"
      }
     ]
    },
    "q1_4": {
     "name": "q1_4",
     "points": [
      0
     ],
     "suites": [
      {
       "cases": [
        {
         "code": ">>> net_gain_red(10000) != net_gain_red(10000)\nTrue",
         "hidden": false,
         "locked": false
        }
       ],
       "scored": true,
       "setup": "",
       "teardown": "",
       "type": "doctest"
      }
     ]
    },
    "q1_5": {
     "name": "q1_5",
     "points": [
      0
     ],
     "suites": [
      {
       "cases": [
        {
         "code": ">>> len(all_gains_red) == 10000\nTrue",
         "hidden": false,
         "locked": false
        }
       ],
       "scored": true,
       "setup": "",
       "teardown": "",
       "type": "doctest"
      }
     ]
    },
    "q1_6": {
     "name": "q1_6",
     "points": [
      0
     ],
     "suites": [
      {
       "cases": [
        {
         "code": ">>> type(loss_more_than_50) == bool\nTrue",
         "hidden": false,
         "locked": false
        }
       ],
       "scored": true,
       "setup": "",
       "teardown": "",
       "type": "doctest"
      }
     ]
    },
    "q1_7": {
     "name": "q1_7",
     "points": [
      2
     ],
     "suites": [
      {
       "cases": [
        {
         "code": ">>> dollar_bet_on_split('5') == 17\nTrue",
         "hidden": false,
         "locked": false
        }
       ],
       "scored": true,
       "setup": "",
       "teardown": "",
       "type": "doctest"
      }
     ]
    },
    "q1_8": {
     "name": "q1_8",
     "points": [
      0
     ],
     "suites": [
      {
       "cases": [
        {
         "code": ">>> # Make sure your column names are correct\n>>> wheel.labels[3] == \"Winnings: Split\"\nTrue",
         "hidden": false,
         "locked": false
        }
       ],
       "scored": true,
       "setup": "",
       "teardown": "",
       "type": "doctest"
      }
     ]
    },
    "q1_9": {
     "name": "q1_9",
     "points": [
      0
     ],
     "suites": [
      {
       "cases": [
        {
         "code": ">>> len(all_gains_split) == 10000\nTrue",
         "hidden": false,
         "locked": false
        }
       ],
       "scored": true,
       "setup": "",
       "teardown": "",
       "type": "doctest"
      }
     ]
    },
    "q2_1": {
     "name": "q2_1",
     "points": [
      0
     ],
     "suites": [
      {
       "cases": [
        {
         "code": ">>> # Your probability output should be a value between 0 and 1.\n>>> 0 < first_three_black < 1\nTrue",
         "hidden": false,
         "locked": false
        }
       ],
       "scored": true,
       "setup": "",
       "teardown": "",
       "type": "doctest"
      }
     ]
    },
    "q2_2": {
     "name": "q2_2",
     "points": [
      0
     ],
     "suites": [
      {
       "cases": [
        {
         "code": ">>> # Your probability output should be a value between 0 and 1.\n>>> 0 < no_green < 1\nTrue",
         "hidden": false,
         "locked": false
        }
       ],
       "scored": true,
       "setup": "",
       "teardown": "",
       "type": "doctest"
      }
     ]
    },
    "q2_3": {
     "name": "q2_3",
     "points": [
      0
     ],
     "suites": [
      {
       "cases": [
        {
         "code": ">>> # Your probability output should be a value between 0 and 1.\n>>> 0 < at_least_one_green < 1\nTrue",
         "hidden": false,
         "locked": false
        }
       ],
       "scored": true,
       "setup": "",
       "teardown": "",
       "type": "doctest"
      }
     ]
    },
    "q2_4": {
     "name": "q2_4",
     "points": [
      0
     ],
     "suites": [
      {
       "cases": [
        {
         "code": ">>> # Your probability output should be a value between 0 and 1.\n>>> 0 < lone_winners < 1\nTrue",
         "hidden": false,
         "locked": false
        }
       ],
       "scored": true,
       "setup": "",
       "teardown": "",
       "type": "doctest"
      }
     ]
    },
    "q2_5": {
     "name": "q2_5",
     "points": [
      0,
      0
     ],
     "suites": [
      {
       "cases": [
        {
         "code": ">>> # Make sure you are setting toys_option to an int\n>>> type(toys_option) == int\nTrue",
         "hidden": false,
         "locked": false
        },
        {
         "code": ">>> # toys_option should be assigned to either 1, 2 or 3.\n>>> 1 <= toys_option <= 3\nTrue",
         "hidden": false,
         "locked": false
        }
       ],
       "scored": true,
       "setup": "",
       "teardown": "",
       "type": "doctest"
      }
     ]
    },
    "q2_6": {
     "name": "q2_6",
     "points": [
      0,
      0
     ],
     "suites": [
      {
       "cases": [
        {
         "code": ">>> # Make sure you are setting lottery_option to an int\n>>> type(lottery_option) == int\nTrue",
         "hidden": false,
         "locked": false
        },
        {
         "code": ">>> # toys_option should be assigned to either 1, 2 or 3.\n>>> 1 <= lottery_option <= 3\nTrue",
         "hidden": false,
         "locked": false
        }
       ],
       "scored": true,
       "setup": "",
       "teardown": "",
       "type": "doctest"
      }
     ]
    },
    "q2_7": {
     "name": "q2_7",
     "points": [
      0,
      0
     ],
     "suites": [
      {
       "cases": [
        {
         "code": ">>> # Make sure you are setting coin_option to an int\n>>> type(coin_option) == int\nTrue",
         "hidden": false,
         "locked": false
        },
        {
         "code": ">>> 1 <= coin_option <= 3\nTrue",
         "hidden": false,
         "locked": false
        }
       ],
       "scored": true,
       "setup": "",
       "teardown": "",
       "type": "doctest"
      }
     ]
    },
    "q4_1": {
     "name": "q4_1",
     "points": [
      0,
      0
     ],
     "suites": [
      {
       "cases": [
        {
         "code": ">>> # The array should have length 2\n>>> len(deck_model_probabilities) == 2\nTrue",
         "hidden": false,
         "locked": false
        },
        {
         "code": ">>> # The elements in the array should add up to 1.\n>>> sum(deck_model_probabilities) == 1\nTrue",
         "hidden": false,
         "locked": false
        }
       ],
       "scored": true,
       "setup": "",
       "teardown": "",
       "type": "doctest"
      }
     ]
    },
    "q4_2": {
     "name": "q4_2",
     "points": [
      0,
      0
     ],
     "suites": [
      {
       "cases": [
        {
         "code": ">>> # Make sure you are setting statistic_choice to an int\n>>> type(statistic_choice) == int\nTrue",
         "hidden": false,
         "locked": false
        },
        {
         "code": ">>> # statistic_choice should be assigned to either 1, 2 or 3.\n>>> 1 <= statistic_choice <= 3\nTrue",
         "hidden": false,
         "locked": false
        }
       ],
       "scored": true,
       "setup": "",
       "teardown": "",
       "type": "doctest"
      }
     ]
    },
    "q4_3": {
     "name": "q4_3",
     "points": [
      5
     ],
     "suites": [
      {
       "cases": [
        {
         "code": ">>> # The statistic should be between 0 and 13 face cards for\n>>> # a sample size of 13\n>>> num_face = deck_simulation_and_statistic(13, deck_model_probabilities)\n>>> 0 <= num_face <= 13\nTrue",
         "hidden": false,
         "locked": false
        }
       ],
       "scored": true,
       "setup": "",
       "teardown": "",
       "type": "doctest"
      }
     ]
    },
    "q4_4": {
     "name": "q4_4",
     "points": [
      2,
      3
     ],
     "suites": [
      {
       "cases": [
        {
         "code": ">>> # There should be exactly as many elements in deck_statistics\n>>> # as the number 'repetitions'\n>>> len(deck_statistics) == repetitions\nTrue",
         "hidden": false,
         "locked": false
        },
        {
         "code": ">>> # Each element of deck_statistics should be between 0\n>>> # and 13 inclusive\n>>> all([0 <= k <= 13 for k in deck_statistics])\nTrue",
         "hidden": false,
         "locked": false
        }
       ],
       "scored": true,
       "setup": "",
       "teardown": "",
       "type": "doctest"
      }
     ]
    }
   }
  }
 },
 "nbformat": 4,
 "nbformat_minor": 5
}
