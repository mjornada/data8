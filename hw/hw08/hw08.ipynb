{
 "cells": [
  {
   "cell_type": "code",
   "execution_count": null,
   "metadata": {
    "deletable": false,
    "editable": false
   },
   "outputs": [],
   "source": [
    "# Inicialize o Otter\n",
    "import otter\n",
    "grader = otter.Notebook(\"hw08.ipynb\")"
   ]
  },
  {
   "cell_type": "markdown",
   "metadata": {},
   "source": [
    "# Tarefa 8: Intervalos de Confiança"
   ]
  },
  {
   "cell_type": "markdown",
   "metadata": {},
   "source": [
    "**Recurso Útil:**\n",
    "\n",
    "- [Referência Python](http://data8.org/sp22/python-reference.html): Folha de consulta de métodos úteis para arrays e tabelas usados em Data 8!\n",
    "\n",
    "**Leitura Recomendada**: \n",
    "\n",
    "* [Estimação](https://www.inferentialthinking.com/chapters/13/Estimation)"
   ]
  },
  {
   "cell_type": "markdown",
   "metadata": {},
   "source": [
    "Por favor, complete este caderno preenchendo as células fornecidas. Antes de começar, execute a célula a seguir para configurar o caderno importando algumas bibliotecas úteis. Cada vez que você iniciar seu servidor, precisará executar esta célula novamente.\n",
    "\n",
    "Para todos os problemas em que você deve escrever explicações e frases, você **deve** fornecer sua resposta no espaço designado. **Além disso, ao longo desta tarefa e de todas as futuras, certifique-se de não reatribuir variáveis ao longo do caderno!** Por exemplo, se você usar `max_temperature` em sua resposta para uma questão, não o reatribua mais tarde. Caso contrário, você falhará em testes que pensou ter passado anteriormente!\n",
    "\n",
    "**Nota: Esta tarefa tem testes ocultos. Isso significa que, embora os testes possam indicar 100% de aprovação, não significa que sua nota final será 100%. Nós executaremos mais testes para correção uma vez que todos entregarem a tarefa.**\n",
    "\n",
    "Compartilhar diretamente as respostas não é permitido, mas discutir problemas com a equipe do curso ou com outros estudantes é incentivado.\n",
    "\n",
    "Você deve começar cedo para que tenha tempo de obter ajuda se estiver com dificuldades."
   ]
  },
  {
   "cell_type": "code",
   "execution_count": null,
   "metadata": {},
   "outputs": [],
   "source": [
    "# Não altere esta célula; apenas execute-a.\n",
    "import numpy as np\n",
    "from datascience import *\n",
    "import d8error\n",
    "\n",
    "# Essas linhas fazem alguma mágica de plotagem sofisticada.\n",
    "import matplotlib\n",
    "%matplotlib inline\n",
    "import matplotlib.pyplot as plt\n",
    "plt.style.use('fivethirtyeight')\n",
    "import warnings\n",
    "warnings.simplefilter('ignore', FutureWarning)"
   ]
  },
  {
   "cell_type": "markdown",
   "metadata": {},
   "source": [
    "## 1. Restaurantes Tailandeses em Berkeley"
   ]
  },
  {
   "cell_type": "markdown",
   "metadata": {},
   "source": [
    "Oswaldo e Varun estão tentando descobrir qual é o melhor restaurante tailandês em Berkeley. Eles fazem uma pesquisa com 1.500 estudantes da UC Berkeley selecionados uniformemente ao acaso e perguntam a cada estudante qual restaurante tailandês é o melhor. (*Nota: Esses dados são fabricados para os propósitos desta tarefa.*) As opções de restaurantes tailandeses são [Lucky House](https://www.google.com/maps/place/Lucky+House+Thai+Cuisine/@37.8707428,-122.270045,15.32z/data=!4m5!3m4!1s0x80857e9e69a8c921:0x7b6d80f58406fb26!8m2!3d37.8721393!4d-122.2672699), [Imm Thai](https://www.google.com/maps/place/Imm+Thai+Street+Food/@37.8704926,-122.2687372,15.51z/data=!4m5!3m4!1s0x80857e9eec4f1e63:0x5f54d96f0dccdb72!8m2!3d37.8719079!4d-122.2691186), [Thai Temple](https://www.google.com/maps/place/Wat+Mongkolratanaram/@37.8689514,-122.2698649,14.75z/data=!4m5!3m4!1s0x80857e886e39daf1:0xe309caa1b5710fc0!8m2!3d37.8563633!4d-122.2707584), e [Thai Basil](https://www.google.com/maps/place/Thai+Basil/@37.8691911,-122.266539,15.37z/data=!4m5!3m4!1s0x80857c2f6ae0e2f1:0x6978b6e8a72d58d4!8m2!3d37.868327!4d-122.258081). Após compilar os resultados, Oswaldo e Varun divulgam as seguintes porcentagens de sua amostra:\n",
    "\n",
    "|Restaurante Tailandês  | Porcentagem|\n",
    "|:------------:|:------------:|\n",
    "|Lucky House | 8% |\n",
    "|Imm Thai | 53% |\n",
    "|Thai Temple | 25% |\n",
    "|Thai Basil | 14% |\n",
    "\n",
    "Essas porcentagens representam uma amostra aleatória uniforme da população de estudantes da UC Berkeley. Tentaremos estimar os *parâmetros* correspondentes, ou a porcentagem dos votos que cada restaurante receberá da população (ou seja, todos os estudantes da UC Berkeley). Usaremos intervalos de confiança para calcular uma faixa de valores que reflete a incerteza de nossas estimativas.\n",
    "\n",
    "A tabela `votes` contém os resultados da pesquisa de Oswaldo e Varun."
   ]
  },
  {
   "cell_type": "code",
   "execution_count": null,
   "metadata": {
    "deletable": false,
    "editable": false
   },
   "outputs": [],
   "source": [
    "# Apenas execute esta célula\n",
    "votes = Table.read_table('votes.csv')\n",
    "votes"
   ]
  },
  {
   "cell_type": "markdown",
   "metadata": {},
   "source": [
    "**Questão 1.1.** Complete a função `one_resampled_percentage` abaixo. Ela deve retornar a ***porcentagem*** de votos para o Imm Thai após pegar a tabela original (`tbl`) e realizar uma amostra de bootstrap dela. Lembre-se de que uma porcentagem está entre 0 e 100. **(9 Pontos)**\n",
    "\n",
    "*Nota:* `tbl` sempre estará no mesmo formato que `votes`.\n",
    "\n",
    "*Dica:* Dada uma tabela de votos, como você pode descobrir qual porcentagem dos votos é para um determinado restaurante? **Certifique-se de usar porcentagens, não proporções, para esta questão!**"
   ]
  },
  {
   "cell_type": "code",
   "execution_count": null,
   "metadata": {
    "tags": []
   },
   "outputs": [],
   "source": [
    "def one_resampled_percentage(tbl):\n",
    "    ...\n",
    "\n",
    "one_resampled_percentage(votes)"
   ]
  },
  {
   "cell_type": "code",
   "execution_count": null,
   "metadata": {
    "deletable": false,
    "editable": false
   },
   "outputs": [],
   "source": [
    "grader.check(\"q1_1\")"
   ]
  },
  {
   "cell_type": "markdown",
   "metadata": {},
   "source": [
    "**Questão 1.2.** Complete a função `percentages_in_resamples` de forma que ela simule e retorne um array de 2022 elementos, onde cada elemento representa uma estimativa bootstrap da porcentagem de eleitores que votarão no Imm Thai. Você deve usar a função `one_resampled_percentage` que escreveu anteriormente. **(9 Pontos)**"
   ]
  },
  {
   "cell_type": "code",
   "execution_count": null,
   "metadata": {
    "for_assignment_type": "solution",
    "tags": []
   },
   "outputs": [],
   "source": [
    "def percentages_in_resamples():\n",
    "    percentage_imm = make_array()\n",
    "    ..."
   ]
  },
  {
   "cell_type": "code",
   "execution_count": null,
   "metadata": {
    "deletable": false,
    "editable": false
   },
   "outputs": [],
   "source": [
    "grader.check(\"q1_2\")"
   ]
  },
  {
   "cell_type": "markdown",
   "metadata": {},
   "source": [
    "Na célula a seguir, executamos a função que você acabou de definir, `percentages_in_resamples`, e criamos um histograma da estatística calculada para as 2022 estimativas bootstrap da porcentagem de eleitores que votaram no Imm Thai.\n",
    "\n",
    "*Nota:* Isso pode levar alguns segundos para executar."
   ]
  },
  {
   "cell_type": "code",
   "execution_count": null,
   "metadata": {},
   "outputs": [],
   "source": [
    "resampled_percentages = percentages_in_resamples()\n",
    "Table().with_column('Estimated Percentage', resampled_percentages).hist(\"Estimated Percentage\")"
   ]
  },
  {
   "cell_type": "markdown",
   "metadata": {},
   "source": [
    "**Questão 1.3.** Usando o array `resampled_percentages`, encontre os valores nas duas extremidades dos 95% centrais das estimativas de porcentagem obtidas por bootstrap. Calcule os limites inferior e superior do intervalo, nomeados `imm_lower_bound` e `imm_upper_bound`, respectivamente. **(9 Pontos)**\n",
    "\n",
    "*Dica:* Se você está com dificuldades nesta questão, tente revisar o [Capítulo 13](https://inferentialthinking.com/chapters/13/Estimation.html) do livro didático."
   ]
  },
  {
   "cell_type": "code",
   "execution_count": null,
   "metadata": {
    "deletable": false,
    "tags": []
   },
   "outputs": [],
   "source": [
    "imm_lower_bound = ...\n",
    "imm_upper_bound = ...\n",
    "print(f\"Bootstrapped 95% confidence interval for the percentage of Imm Thai voters in the population: [{imm_lower_bound:.2f}, {imm_upper_bound:.2f}]\")"
   ]
  },
  {
   "cell_type": "code",
   "execution_count": null,
   "metadata": {
    "deletable": false,
    "editable": false
   },
   "outputs": [],
   "source": [
    "grader.check(\"q1_3\")"
   ]
  },
  {
   "cell_type": "markdown",
   "metadata": {},
   "source": [
    "**Questão 1.4.** Os resultados da pesquisa parecem indicar que o Imm Thai está superando todos os outros restaurantes tailandeses entre os eleitores. Gostaríamos de usar intervalos de confiança para determinar uma faixa de valores prováveis para a verdadeira liderança do Imm Thai sobre todos os outros restaurantes combinados. O cálculo para a liderança do Imm Thai sobre o Lucky House, Thai Temple e Thai Basil combinados é:\n",
    "\n",
    "$$\\text{Percentual de votos do Imm Thai} - (\\text{100 por cento} - \\text{Percentual de votos do Imm Thai})$$\n",
    "\n",
    "Defina a função `one_resampled_difference` que retorna **exatamente um valor** da liderança percentual do Imm Thai sobre o Lucky House, Thai Temple e Thai Basil combinados a partir de uma amostra de bootstrap de `tbl`. **(9 Pontos)**\n",
    "\n",
    "*Dica 1:* A liderança do Imm Thai pode ser negativa.\n",
    "\n",
    "*Dica 2:* Dada uma tabela de votos, como você pode descobrir qual porcentagem dos votos é para um determinado restaurante? **Certifique-se de usar porcentagens, não proporções, para esta questão!**\n",
    "\n",
    "*Nota:* Se o código esqueleto fornecido dentro da função não for útil para você, sinta-se à vontade para abordar a questão usando suas próprias variáveis."
   ]
  },
  {
   "cell_type": "code",
   "execution_count": null,
   "metadata": {
    "tags": []
   },
   "outputs": [],
   "source": [
    "def one_resampled_difference(tbl):\n",
    "    bootstrap = ...\n",
    "    imm_percentage = ...\n",
    "    ..."
   ]
  },
  {
   "cell_type": "code",
   "execution_count": null,
   "metadata": {
    "deletable": false,
    "editable": false
   },
   "outputs": [],
   "source": [
    "grader.check(\"q1_4\")"
   ]
  },
  {
   "cell_type": "markdown",
   "metadata": {},
   "source": [
    "<!-- BEGIN QUESTION -->\n",
    "\n",
    "**Questão 1.5.** Escreva uma função chamada `leads_in_resamples` que retorna um array de 2022 elementos representando as estimativas bootstrap (o resultado de chamar `one_resampled_difference`) da liderança do Imm Thai sobre Lucky House, Thai Temple e Thai Basil combinados. Depois, execute a célula para plotar um histograma das amostras resultantes. **(9 Pontos)**\n",
    "\n",
    "*Dica:* Se você encontrar um erro envolvendo `NoneType`, considere quais componentes uma função precisa ter!\n"
   ]
  },
  {
   "cell_type": "code",
   "execution_count": null,
   "metadata": {
    "for_assignment_type": "solution",
    "tags": []
   },
   "outputs": [],
   "source": [
    "def leads_in_resamples():\n",
    "    ...\n",
    "\n",
    "sampled_leads = leads_in_resamples()\n",
    "Table().with_column('Estimated Lead', sampled_leads).hist(\"Estimated Lead\")"
   ]
  },
  {
   "cell_type": "markdown",
   "metadata": {},
   "source": [
    "<!-- END QUESTION -->\n",
    "\n",
    "**Questão 1.6.** Use os dados simulados em `sampled_leads` da Questão 1.5 para calcular um intervalo de confiança aproximado de 95% para a verdadeira liderança do Imm Thai sobre Lucky House, Thai Temple e Thai Basil combinados. **(9 Pontos)**\n"
   ]
  },
  {
   "cell_type": "code",
   "execution_count": null,
   "metadata": {
    "deletable": false,
    "tags": []
   },
   "outputs": [],
   "source": [
    "diff_lower_bound = ...\n",
    "diff_upper_bound = ...\n",
    "print(\"Bootstrapped 95% confidence interval for Imm Thai's true lead over Lucky House, Thai Temple, and Thai Basil combined: [{:f}%, {:f}%]\".format(diff_lower_bound, diff_upper_bound))"
   ]
  },
  {
   "cell_type": "code",
   "execution_count": null,
   "metadata": {
    "deletable": false,
    "editable": false
   },
   "outputs": [],
   "source": [
    "grader.check(\"q1_6\")"
   ]
  },
  {
   "cell_type": "markdown",
   "metadata": {},
   "source": [
    "## 2. Interpretando Intervalos de Confiança"
   ]
  },
  {
   "cell_type": "markdown",
   "metadata": {},
   "source": [
    "A equipe calculou o seguinte intervalo de confiança de 95% para a porcentagem de eleitores do Imm Thai:\n",
    "\n",
    "$$[50.53, 55.53]$$\n",
    "\n",
    "(Sua resposta pode ter sido um pouco diferente devido à aleatoriedade; isso não significa que estava errada!)"
   ]
  },
  {
   "cell_type": "markdown",
   "metadata": {},
   "source": [
    "<!-- BEGIN QUESTION -->\n",
    "\n",
    "**Questão 2.1.** A equipe também criou intervalos de confiança de 70%, 90% e 99% a partir da mesma amostra, mas esquecemos de rotular qual intervalo de confiança representava quais porcentagens! **Primeiro**, associe cada nível de confiança (70%, 90%, 99%) com seu intervalo correspondente na célula abaixo (por exemplo, __ % IC: [52.1, 54] $\\rightarrow$ substitua o espaço em branco por um dos três níveis de confiança). **Então**, explique seu raciocínio e como você chegou às suas respostas. **(10 Pontos)**\n",
    "\n",
    "Os intervalos estão abaixo:\n",
    "\n",
    "* [50.03, 55.94]\n",
    "* [52.1, 54]\n",
    "* [50.97, 54.99]\n",
    "\n"
   ]
  },
  {
   "cell_type": "markdown",
   "metadata": {},
   "source": [
    "_Digite sua resposta aqui, substituindo este texto._"
   ]
  },
  {
   "cell_type": "markdown",
   "metadata": {},
   "source": [
    "<!-- END QUESTION -->\n",
    "\n",
    "**Questão 2.2.** Suponha que produzimos 6.000 novas amostras (cada uma uma nova amostra aleatória uniforme distinta de 1.500 estudantes) da população e criamos um intervalo de confiança de 95% a partir de cada uma. Aproximadamente quantos desses 6.000 intervalos você espera que realmente contenham a verdadeira porcentagem da população? **(9 Pontos)**\n",
    "\n",
    "Atribua sua resposta a `true_percentage_intervals`.\n"
   ]
  },
  {
   "cell_type": "code",
   "execution_count": null,
   "metadata": {
    "deletable": false,
    "tags": []
   },
   "outputs": [],
   "source": [
    "true_percentage_intervals = ..."
   ]
  },
  {
   "cell_type": "code",
   "execution_count": null,
   "metadata": {
    "deletable": false,
    "editable": false
   },
   "outputs": [],
   "source": [
    "grader.check(\"q2_2\")"
   ]
  },
  {
   "cell_type": "markdown",
   "metadata": {},
   "source": [
    "Lembre-se do segundo intervalo de confiança bootstrap que você criou, que estimou a liderança do Imm Thai sobre Lucky House, Thai Temple e Thai Basil combinados. Entre os eleitores na amostra, a liderança do Imm Thai foi de 6%. O intervalo de confiança de 95% da equipe para a verdadeira liderança (na população de todos os eleitores) foi:\n",
    "\n",
    "$$[1.2, 11.2]$$\n",
    "\n",
    "Suponha que estamos interessados em testar uma simples questão de sim ou não:\n",
    "\n",
    "> \"A porcentagem de votos para o Imm Thai é igual à porcentagem de votos para Lucky House, Thai Temple e Thai Basil combinados?\"\n",
    "\n",
    "Nossa hipótese nula é que as porcentagens são iguais, ou equivalentemente, que a liderança do Imm Thai é exatamente 0. Nossa hipótese alternativa é que a liderança do Imm Thai não é igual a 0. Nas questões abaixo, não calcule nenhum intervalo de confiança por conta própria — use apenas o intervalo de confiança de 95% da equipe."
   ]
  },
  {
   "cell_type": "markdown",
   "metadata": {},
   "source": [
    "**Questão 2.3.** Digamos que usamos um corte de p-valor de 5%. Nós rejeitamos a hipótese nula, falhamos em rejeitar a hipótese nula, ou somos incapazes de dizer usando o intervalo de confiança da equipe? **(9 Pontos)**\n",
    "\n",
    "Atribua `cutoff_five_percent` ao número correspondente à resposta correta.\n",
    "\n",
    "1. Rejeitar a hipótese nula / Dados são consistentes com a hipótese alternativa\n",
    "2. Falhar em rejeitar a hipótese nula / Dados são consistentes com a hipótese nula\n",
    "3. Incapaz de dizer usando nosso intervalo de confiança da equipe\n",
    "\n",
    "*Dica:* Considere a relação entre o corte de p-valor e confiança. Se você está confuso, dê uma olhada [neste capítulo](https://inferentialthinking.com/chapters/13/4/Using_Confidence_Intervals.html) do livro didático."
   ]
  },
  {
   "cell_type": "code",
   "execution_count": null,
   "metadata": {
    "deletable": false,
    "tags": []
   },
   "outputs": [],
   "source": [
    "cutoff_five_percent = ..."
   ]
  },
  {
   "cell_type": "code",
   "execution_count": null,
   "metadata": {
    "deletable": false,
    "editable": false
   },
   "outputs": [],
   "source": [
    "grader.check(\"q2_3\")"
   ]
  },
  {
   "cell_type": "markdown",
   "metadata": {},
   "source": [
    "**Questão 2.4.** E se, em vez disso, usarmos um corte de p-valor de 1%? Nós rejeitamos a hipótese nula, falhamos em rejeitar a hipótese nula, ou somos incapazes de dizer usando o intervalo de confiança da equipe? **(9 Pontos)**\n",
    "\n",
    "Atribua `cutoff_one_percent` ao número correspondente à resposta correta.\n",
    "\n",
    "1. Rejeitar a hipótese nula / Dados são consistentes com a hipótese alternativa\n",
    "2. Falhar em rejeitar a hipótese nula / Dados são consistentes com a hipótese nula\n",
    "3. Incapaz de dizer usando nosso intervalo de confiança da equipe"
   ]
  },
  {
   "cell_type": "code",
   "execution_count": null,
   "metadata": {
    "deletable": false,
    "tags": []
   },
   "outputs": [],
   "source": [
    "cutoff_one_percent = ..."
   ]
  },
  {
   "cell_type": "code",
   "execution_count": null,
   "metadata": {
    "deletable": false,
    "editable": false
   },
   "outputs": [],
   "source": [
    "grader.check(\"q2_4\")"
   ]
  },
  {
   "cell_type": "markdown",
   "metadata": {},
   "source": [
    "**Questão 2.5.** E se usarmos um corte de p-valor de 10%? Nós rejeitamos a hipótese nula, falhamos em rejeitar a hipótese nula, ou somos incapazes de dizer usando o intervalo de confiança da equipe? **(9 Pontos)**\n",
    "\n",
    "Atribua `cutoff_ten_percent` ao número correspondente à resposta correta.\n",
    "\n",
    "1. Rejeitar a hipótese nula / Dados são consistentes com a hipótese alternativa\n",
    "2. Falhar em rejeitar a hipótese nula / Dados são consistentes com a hipótese nula\n",
    "3. Incapaz de dizer usando nosso intervalo de confiança da equipe"
   ]
  },
  {
   "cell_type": "code",
   "execution_count": null,
   "metadata": {
    "deletable": false,
    "tags": []
   },
   "outputs": [],
   "source": [
    "cutoff_ten_percent = ..."
   ]
  },
  {
   "cell_type": "code",
   "execution_count": null,
   "metadata": {
    "deletable": false,
    "editable": false
   },
   "outputs": [],
   "source": [
    "grader.check(\"q2_5\")"
   ]
  },
  {
   "cell_type": "markdown",
   "metadata": {},
   "source": [
    "Você concluiu a Lição de Casa 8!\n",
    "\n",
    "**Passos importantes para a submissão:**\n",
    "1. Execute os testes e verifique se todos passaram.\n",
    "2. Escolha **Salvar Caderno** no menu **Arquivo**, depois **execute a última célula**.\n",
    "3. Clique no link para baixar o arquivo zip.\n",
    "4. Então, submeta o arquivo zip para a tarefa correspondente de acordo com as instruções do seu instrutor.\n",
    "\n",
    "**É sua responsabilidade garantir que seu trabalho esteja salvo antes de executar a última célula.**"
   ]
  },
  {
   "cell_type": "markdown",
   "metadata": {
    "deletable": false,
    "editable": false
   },
   "source": [
    "## Submissão\n",
    "\n",
    "Certifique-se de ter executado todas as células no seu caderno em ordem antes de executar a célula abaixo, para que todas as imagens/gráficos apareçam na saída. A célula abaixo irá gerar um arquivo zip para você submeter. **Por favor, salve antes de exportar!**"
   ]
  },
  {
   "cell_type": "code",
   "execution_count": null,
   "metadata": {
    "deletable": false,
    "editable": false
   },
   "outputs": [],
   "source": [
    "# Salve seu caderno primeiro, depois execute esta célula para exportar sua submissão.\n",
    "grader.export(pdf=False, run_tests=True)"
   ]
  },
  {
   "cell_type": "markdown",
   "metadata": {},
   "source": [
    " "
   ]
  }
 ],
 "metadata": {
  "kernelspec": {
   "display_name": "Python 3 (ipykernel)",
   "language": "python",
   "name": "python3"
  },
  "language_info": {
   "codemirror_mode": {
    "name": "ipython",
    "version": 3
   },
   "file_extension": ".py",
   "mimetype": "text/x-python",
   "name": "python",
   "nbconvert_exporter": "python",
   "pygments_lexer": "ipython3",
   "version": "3.9.12"
  },
  "otter": {
   "OK_FORMAT": true,
   "tests": {
    "q1_1": {
     "name": "q1_1",
     "points": [
      0,
      0,
      2
     ],
     "suites": [
      {
       "cases": [
        {
         "code": ">>> type(one_resampled_percentage(votes)) in set([float, np.float64]) \nTrue",
         "hidden": false,
         "locked": false
        },
        {
         "code": ">>> # Remember, the question asks for a percentage, not a proportion. \n>>> one_resampled_percentage(votes) <= 0\nFalse",
         "hidden": false,
         "locked": false
        },
        {
         "code": ">>> 35 <= one_resampled_percentage(votes) <= 65\nTrue",
         "hidden": false,
         "locked": false
        }
       ],
       "scored": true,
       "setup": "",
       "teardown": "",
       "type": "doctest"
      }
     ]
    },
    "q1_2": {
     "name": "q1_2",
     "points": [
      0
     ],
     "suites": [
      {
       "cases": [
        {
         "code": ">>> len(percentages_in_resamples()) == 2022\nTrue",
         "hidden": false,
         "locked": false
        }
       ],
       "scored": true,
       "setup": "",
       "teardown": "",
       "type": "doctest"
      }
     ]
    },
    "q1_3": {
     "name": "q1_3",
     "points": [
      0
     ],
     "suites": [
      {
       "cases": [
        {
         "code": ">>> 45 <= imm_lower_bound <= imm_upper_bound <= 65\nTrue",
         "hidden": false,
         "locked": false
        }
       ],
       "scored": true,
       "setup": "",
       "teardown": "",
       "type": "doctest"
      }
     ]
    },
    "q1_4": {
     "name": "q1_4",
     "points": [
      0
     ],
     "suites": [
      {
       "cases": [
        {
         "code": ">>> type(one_resampled_difference(votes)) in set([float, np.float64]) \nTrue",
         "hidden": false,
         "locked": false
        }
       ],
       "scored": true,
       "setup": "",
       "teardown": "",
       "type": "doctest"
      }
     ]
    },
    "q1_6": {
     "name": "q1_6",
     "points": [
      0
     ],
     "suites": [
      {
       "cases": [
        {
         "code": ">>> -5 <= diff_lower_bound <= diff_upper_bound <= 20\nTrue",
         "hidden": false,
         "locked": false
        }
       ],
       "scored": true,
       "setup": "",
       "teardown": "",
       "type": "doctest"
      }
     ]
    },
    "q2_2": {
     "name": "q2_2",
     "points": [
      0
     ],
     "suites": [
      {
       "cases": [
        {
         "code": ">>> 1000 <= true_percentage_intervals <= 10000\nTrue",
         "hidden": false,
         "locked": false
        }
       ],
       "scored": true,
       "setup": "",
       "teardown": "",
       "type": "doctest"
      }
     ]
    },
    "q2_3": {
     "name": "q2_3",
     "points": [
      0,
      0,
      0
     ],
     "suites": [
      {
       "cases": [
        {
         "code": ">>> 1 <= cutoff_five_percent <= 3\nTrue",
         "hidden": false,
         "locked": false
        },
        {
         "code": ">>> # Remember, we are using a 95% confidence interval of [1.2, 11.2].\n>>> # Our null hypothesis claims that Imm Thai's lead is 0.\n>>> # This falls outside of our 95% confidence interval.\n>>> # What can we conclude if we use a 5% p-value cutoff? \n>>> cutoff_five_percent == 3\nFalse",
         "hidden": false,
         "locked": false
        },
        {
         "code": ">>> # We are using a 95% confidence interval of [1.2, 11.2].\n>>> # Our null hypothesis claims that Imm Thai's lead is 0.\n>>> # This falls outside of our 95% confidence interval. \n>>> # 100% - 95% = 5%, which is our p-value cutoff.\n>>> # At the 5% level of significance, 0 doesn't seem like a plausible value\n>>> # for Imm Thai's lead. We would reject the null.\n>>> # Remember, there is a duality between confidence intervals and tests:\n>>> # if you are testing whether or not the true lead is a particular value x,\n>>> # and you use the 5% cutoff for the p-value, then you will reject the null\n>>> # if x is not in your 95% confidence interval for the lead.\n>>> cutoff_five_percent == 2\nFalse",
         "hidden": false,
         "locked": false
        }
       ],
       "scored": true,
       "setup": "",
       "teardown": "",
       "type": "doctest"
      }
     ]
    },
    "q2_4": {
     "name": "q2_4",
     "points": [
      0
     ],
     "suites": [
      {
       "cases": [
        {
         "code": ">>> 1 <= cutoff_one_percent <= 3\nTrue",
         "hidden": false,
         "locked": false
        }
       ],
       "scored": true,
       "setup": "",
       "teardown": "",
       "type": "doctest"
      }
     ]
    },
    "q2_5": {
     "name": "q2_5",
     "points": [
      0
     ],
     "suites": [
      {
       "cases": [
        {
         "code": ">>> 1 <= cutoff_ten_percent <= 3\nTrue",
         "hidden": false,
         "locked": false
        }
       ],
       "scored": true,
       "setup": "",
       "teardown": "",
       "type": "doctest"
      }
     ]
    }
   }
  }
 },
 "nbformat": 4,
 "nbformat_minor": 5
}
