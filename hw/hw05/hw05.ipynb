{
 "cells": [
  {
   "cell_type": "code",
   "execution_count": null,
   "metadata": {
    "deletable": false,
    "editable": false
   },
   "outputs": [],
   "source": [
    "# Inicialize o Otter\n",
    "import otter\n",
    "grader = otter.Notebook(\"hw05.ipynb\")"
   ]
  },
  {
   "cell_type": "markdown",
   "metadata": {},
   "source": [
    "# Trabalho de Casa 5: Aplicando Funções e Iteração\n",
    "\n",
    "Por favor, complete este notebook preenchendo as células fornecidas. Antes de começar, execute a célula anterior para carregar os testes fornecidos."
   ]
  },
  {
   "cell_type": "markdown",
   "metadata": {},
   "source": [
    "**Recurso útil:**\n",
    "- [Referência Python](http://data8.org/sp22/python-reference.html): Folha de dicas de métodos úteis de array e tabela usados em Data 8!\n",
    "\n",
    "**Leituras recomendadas**: \n",
    "\n",
    "* [Guia de Pensamento Tabular](https://drive.google.com/file/d/13HaWu4rrjeowEOs6S_vaQGM3GremzXQ3/view?usp=sharing)\n",
    "* [Aplicando Funções](https://www.inferentialthinking.com/chapters/08/1/Applying_a_Function_to_a_Column.html)\n",
    "* [Condicionais](https://www.inferentialthinking.com/chapters/09/1/Conditional_Statements.html)\n",
    "* [Iteração](https://www.inferentialthinking.com/chapters/09/2/Iteration.html)"
   ]
  },
  {
   "cell_type": "markdown",
   "metadata": {},
   "source": [
    "Por favor, complete este notebook preenchendo as células fornecidas. Antes de começar, execute a célula seguinte para configurar o notebook importando algumas bibliotecas úteis. Cada vez que você iniciar seu servidor, precisará executar esta célula novamente.\n",
    "\n",
    "Para todos os problemas em que você deve escrever explicações e frases, você **deve** fornecer sua resposta no espaço designado. **Além disso, durante este trabalho de casa e todos os futuros, certifique-se de não reatribuir variáveis ao longo do notebook!** Por exemplo, se você usar `max_temperature` em sua resposta para uma pergunta, não a reatribua mais tarde. Caso contrário, você falhará nos testes que pensou que estava passando anteriormente!\n",
    "\n",
    "**Nota: Este trabalho de casa tem testes ocultos. Isso significa que mesmo que os testes digam que 100% passaram, isso não significa que sua nota final será 100%. Estaremos executando mais testes de correção depois que todos entregarem o trabalho de casa.**\n",
    "\n",
    "Compartilhar respostas diretamente não é permitido, mas discutir problemas com a equipe do curso ou com outros alunos é incentivado.\n",
    "\n",
    "Você deve começar cedo para ter tempo de obter ajuda se estiver preso."
   ]
  },
  {
   "cell_type": "markdown",
   "metadata": {},
   "source": [
    "## 1. Temporada de Futebol Cal 2021"
   ]
  },
  {
   "cell_type": "code",
   "execution_count": null,
   "metadata": {},
   "outputs": [],
   "source": [
    "# Execute esta célula para configurar o notebook, mas por favor não a altere.\n",
    "\n",
    "# Estas linhas importam os módulos numpy e datascience.\n",
    "import numpy as np\n",
    "from datascience import *\n",
    "import d8error\n",
    "import warnings\n",
    "warnings.simplefilter('ignore', FutureWarning)"
   ]
  },
  {
   "cell_type": "markdown",
   "metadata": {},
   "source": [
    "James está tentando analisar o desempenho da equipe de futebol Cal na temporada de 2021. Uma partida de futebol é dividida em quatro períodos, chamados quartos. O número de pontos que Cal marcou em cada quarto e o número de pontos que seu oponente marcou em cada quarto são armazenados em uma tabela chamada `cal_fb.csv`."
   ]
  },
  {
   "cell_type": "code",
   "execution_count": null,
   "metadata": {
    "deletable": false,
    "editable": false
   },
   "outputs": [],
   "source": [
    "# Apenas execute esta célula\n",
    "# Leia o arquivo csv cal_fb\n",
    "games = Table().read_table(\"cal_fb.csv\")\n",
    "games.show()"
   ]
  },
  {
   "cell_type": "markdown",
   "metadata": {},
   "source": [
    "Vamos começar encontrando o total de pontos que cada equipe marcou em um jogo.\n",
    "\n",
    "**Questão 1.** Escreva uma função chamada `sum_scores`. Ela deve receber quatro argumentos, onde cada argumento representa inteiros correspondentes à pontuação da equipe para cada quarto. Ela deve retornar a pontuação total da equipe para aquele jogo. **(20 Pontos)**\n",
    "\n",
    "*Nota:* Não complique demais esta questão!"
   ]
  },
  {
   "cell_type": "code",
   "execution_count": null,
   "metadata": {
    "tags": []
   },
   "outputs": [],
   "source": [
    "def sum_scores(...):\n",
    "    '''Returns the total score calculated by adding up the score of each quarter'''\n",
    "    ...\n",
    "\n",
    "sum_scores(14, 7, 3, 0) #NÃO ALTERE ESTA LINHA"
   ]
  },
  {
   "cell_type": "code",
   "execution_count": null,
   "metadata": {
    "deletable": false,
    "editable": false
   },
   "outputs": [],
   "source": [
    "grader.check(\"q1_1\")"
   ]
  },
  {
   "cell_type": "markdown",
   "metadata": {},
   "source": [
    "**Questão 2.** Crie uma nova tabela `final_scores` com três colunas nesta *ordem específica*: `Opponent`, `Cal Score`, `Opponent Score`. Você terá que criar as colunas `Cal Score` e `Opponent Score`. Use a função `sum_scores` que você acabou de definir na questão anterior para este problema. **(20 Pontos)**\n",
    "\n",
    "*Dica:* Se você quiser aplicar uma função que recebe vários argumentos, você pode passar vários nomes de colunas como argumentos em `tbl.apply()`. Os valores das colunas serão passados para os argumentos correspondentes da função. Dê uma olhada na Folha de Referência Python e na demonstração da Aula 13 para a sintaxe.\n",
    "\n",
    "*Nota:* Se você estiver tendo problemas para criar `final_scores`, verifique se `cal_scores` e `opponent_scores` produzem o que você deseja."
   ]
  },
  {
   "cell_type": "code",
   "execution_count": null,
   "metadata": {
    "tags": []
   },
   "outputs": [],
   "source": [
    "cal_scores = ...\n",
    "opponent_scores = ...\n",
    "final_scores = ...\n",
    "final_scores"
   ]
  },
  {
   "cell_type": "code",
   "execution_count": null,
   "metadata": {
    "deletable": false,
    "editable": false
   },
   "outputs": [],
   "source": [
    "grader.check(\"q1_2\")"
   ]
  },
  {
   "cell_type": "markdown",
   "metadata": {},
   "source": [
    "Podemos obter objetos de linha específicos de uma tabela. Você pode usar `tbl.row(n)` para obter a `n`ª linha de uma tabela. `row.item(\"column_name\")` permitirá que você selecione o elemento que corresponde a `column_name` em uma linha específica. Aqui está um exemplo:"
   ]
  },
  {
   "cell_type": "code",
   "execution_count": null,
   "metadata": {
    "deletable": false,
    "editable": false
   },
   "outputs": [],
   "source": [
    "# Apenas execute esta célula\n",
    "# Nós conseguimos o Machado!\n",
    "games.row(9)"
   ]
  },
  {
   "cell_type": "code",
   "execution_count": null,
   "metadata": {
    "deletable": false,
    "editable": false
   },
   "outputs": [],
   "source": [
    "# Apenas execute esta célula\n",
    "games.row(9).item(\"Cal 4Q\")"
   ]
  },
  {
   "cell_type": "markdown",
   "metadata": {},
   "source": [
    "**Questão 3.** Queremos ver para um jogo específico se Cal perdeu ou não. Escreva uma função chamada `did_cal_lose`. Ela deve receber um argumento: um **objeto de linha** da tabela `final_scores`. Ela deve retornar `True` se a pontuação de Cal foi menor que a pontuação do Oponente, e `False` caso contrário. **(20 Pontos)**\n",
    "\n",
    "*Nota 1*: \"Objeto de linha\" significa uma linha da tabela que contém todos os dados para essa linha específica. Não é o índice de uma linha. Não tente chamar `final_scores.row(row)` dentro da função.\n",
    "\n",
    "*Nota 2*: Se você ainda está confuso com os objetos de linha, tente imprimir `final_scores.row(1)` em uma nova célula para ver visualmente como é! Este pedaço de código está puxando o objeto de linha localizado no índice 1 da tabela `final_scores` e retornando-o. Quando você o exibe em uma célula, verá que ele não está localizado dentro de uma tabela, mas é, em vez disso, um objeto de linha independente!"
   ]
  },
  {
   "cell_type": "code",
   "execution_count": null,
   "metadata": {
    "tags": []
   },
   "outputs": [],
   "source": [
    "def did_cal_lose(row):\n",
    "    ...\n",
    "\n",
    "did_cal_lose(final_scores.row(1)) #NÃO ALTERE ESTA LINHA"
   ]
  },
  {
   "cell_type": "code",
   "execution_count": null,
   "metadata": {
    "deletable": false,
    "editable": false
   },
   "outputs": [],
   "source": [
    "grader.check(\"q1_3\")"
   ]
  },
  {
   "cell_type": "markdown",
   "metadata": {},
   "source": [
    "**Questão 4.** James quer ver como Cal se saiu contra cada adversário durante a temporada de 2021. Usando a tabela `final_scores`:\n",
    "\n",
    "1. Atribua `results` a um array de valores `True` e `False` que correspondem a se Cal perdeu ou não.\n",
    "2. Adicione o array `results` à tabela `final_scores` em uma coluna chamada `Results`, e atribua isso a `final_scores_with_results`.\n",
    "3. Em seguida, atribua respectivamente o número de vitórias e derrotas que Cal teve a `cal_wins` e `cal_losses`.\n",
    "\n",
    "**(20 Pontos)**\n",
    "\n",
    "*Dica 1*: `True` e `False` **não** são strings. Qual é o tipo de dados deles?\n",
    "\n",
    "*Dica 2*: `tbl.num_rows` também pode ser útil.\n",
    "\n",
    "*Dica 3*: Quando você passa apenas um nome de função e nenhum rótulo de coluna através de `tbl.apply()`, a função é aplicada a cada linha em `tbl`."
   ]
  },
  {
   "cell_type": "code",
   "execution_count": null,
   "metadata": {
    "tags": []
   },
   "outputs": [],
   "source": [
    "results = ...\n",
    "final_scores_with_results = ...\n",
    "cal_losses = ...\n",
    "cal_wins = ...\n",
    "\n",
    "# Não delete ou edite a linha seguinte:\n",
    "print(f\"In the 2021 Season, Cal Football won {cal_wins} games and lost {cal_losses} games. Go Bears! 🐻\")"
   ]
  },
  {
   "cell_type": "code",
   "execution_count": null,
   "metadata": {
    "deletable": false,
    "editable": false
   },
   "outputs": [],
   "source": [
    "grader.check(\"q1_4\")"
   ]
  },
  {
   "cell_type": "markdown",
   "metadata": {},
   "source": [
    "**Questão 5:** Às vezes, no futebol, as duas equipes são igualmente combinadas e o jogo é bastante acirrado. Outras vezes, é uma vitória esmagadora, onde a equipe vencedora vence por uma grande margem de vitória. Vamos definir uma **grande vitória** como um jogo em que a equipe vencedora venceu por mais de 10 pontos.\n",
    "\n",
    "Use sua tabela `final_scores` para atribuir `big_wins` a um array de nomes de equipes contra as quais Cal teve grandes vitórias durante a temporada de futebol de 2021. Você pode achar a função `is_big_win` definida abaixo útil para você! **(20 Pontos)**"
   ]
  },
  {
   "cell_type": "code",
   "execution_count": null,
   "metadata": {
    "tags": []
   },
   "outputs": [],
   "source": [
    "def is_big_win(row):\n",
    "    '''Return a boolean to describe whether or not a game (row) is a big win'''\n",
    "    score_diff = row.item(\"Cal Score\") - row.item(\"Opponent Score\")\n",
    "    \n",
    "    if score_diff > 10:\n",
    "        return True\n",
    "    else:\n",
    "        return False\n",
    "\n",
    "big_wins = make_array()\n",
    "\n",
    "for row in final_scores.rows: # Isso nos ajudará a iterar pelas linhas da tabela final_scores\n",
    "    opponent = ...\n",
    "    if ...: # Você deve usar a função definida acima!\n",
    "        big_wins = np.append(big_wins, opponent) # Não altere esta linha - Adiciona caractere ao final de some_string\n",
    "big_wins"
   ]
  },
  {
   "cell_type": "code",
   "execution_count": null,
   "metadata": {
    "deletable": false,
    "editable": false
   },
   "outputs": [],
   "source": [
    "grader.check(\"q1_5\")"
   ]
  },
  {
   "cell_type": "markdown",
   "metadata": {},
   "source": [
    "Você terminou a seção obrigatória do Trabalho de Casa 5! Continue para a seção opcional para mais prática com iterações e loops for.\n",
    "\n",
    "Certifique-se de **executar a célula de submissão localizada na parte inferior deste notebook.**"
   ]
  },
  {
   "cell_type": "markdown",
   "metadata": {},
   "source": [
    "## 2. Desenrolando Loops (Opcional)"
   ]
  },
  {
   "cell_type": "markdown",
   "metadata": {},
   "source": [
    "**Esta seção do Trabalho de Casa 5 é opcional. Faça-a para sua própria prática, mas ela não será incorporada na nota final!**\n",
    "\n",
    "\"Desenrolar\" um loop `for` significa escrever manualmente todo o código que ele executa. O resultado é um código que faz a mesma coisa que o loop, mas sem a estrutura do loop. Por exemplo, para o seguinte loop:\n",
    "\n",
    "    for num in np.arange(3):\n",
    "        print(\"O número é\", num)\n",
    "\n",
    "A versão desenrolada seria assim:\n",
    "\n",
    "    print(\"O número é\", 0)\n",
    "    print(\"O número é\", 1)\n",
    "    print(\"O número é\", 2)\n",
    "\n",
    "\n",
    "Desenrolar um loop `for` é uma ótima maneira de entender o que o loop está fazendo em cada etapa. Neste exercício, você vai praticar desenrolar um loop `for`.\n",
    "\n",
    "Na questão abaixo, escreva um código que faça a mesma coisa que o código dado, mas com todos os loops `for` desenrolados. É uma boa ideia executar tanto a sua resposta quanto o código original para verificar se eles fazem a mesma coisa. (Claro, se o código fizer algo aleatório, você obterá um resultado aleatório diferente do código original!)"
   ]
  },
  {
   "cell_type": "markdown",
   "metadata": {},
   "source": [
    "**Questão Opcional 1.** Desenrole o código abaixo."
   ]
  },
  {
   "cell_type": "code",
   "execution_count": null,
   "metadata": {},
   "outputs": [],
   "source": [
    "for joke_iteration in np.arange(3):\n",
    "    print(\"Knock, knock.\")\n",
    "    print(\"Who's there?\")\n",
    "    print(\"Banana.\")\n",
    "    print(\"Banana who?\")\n",
    "print(\"Knock, knock.\")\n",
    "print(\"Who's there?\")\n",
    "print(\"Orange.\")\n",
    "print(\"Orange who?\")\n",
    "print(\"Orange you glad I didn't say banana?\")"
   ]
  },
  {
   "cell_type": "code",
   "execution_count": null,
   "metadata": {
    "for_assignment_type": "solution",
    "tags": []
   },
   "outputs": [],
   "source": [
    "..."
   ]
  },
  {
   "cell_type": "markdown",
   "metadata": {},
   "source": [
    "Parabéns, você terminou o Trabalho de Casa 5!\n",
    "\n",
    "**Passos importantes para a submissão:** \n",
    "1. Execute os testes e verifique se todos passaram.\n",
    "2. Escolha **Salvar Notebook** no menu **Arquivo**, então **execute a última célula**. \n",
    "3. Clique no link para baixar o arquivo zip.\n",
    "4. Em seguida, envie o arquivo zip para a tarefa correspondente de acordo com as instruções do seu professor. \n",
    "\n",
    "**É sua responsabilidade garantir que seu trabalho esteja salvo antes de executar a última célula.**"
   ]
  },
  {
   "cell_type": "markdown",
   "metadata": {
    "deletable": false,
    "editable": false
   },
   "source": [
    "## Submissão\n",
    "\n",
    "Certifique-se de ter executado todas as células em seu notebook em ordem antes de executar a célula abaixo, para que todas as imagens/gráficos apareçam na saída. A célula abaixo irá gerar um arquivo zip para você enviar. **Por favor, salve antes de exportar!**"
   ]
  },
  {
   "cell_type": "code",
   "execution_count": null,
   "metadata": {
    "deletable": false,
    "editable": false
   },
   "outputs": [],
   "source": [
    "# Salve o notebook antes de enviar, e então execute esta célula para exportar sua submissão.\n",
    "grader.export(pdf=False, run_tests=True)"
   ]
  },
  {
   "cell_type": "markdown",
   "metadata": {},
   "source": [
    " "
   ]
  }
 ],
 "metadata": {
  "kernelspec": {
   "display_name": "Python 3 (ipykernel)",
   "language": "python",
   "name": "python3"
  },
  "language_info": {
   "codemirror_mode": {
    "name": "ipython",
    "version": 3
   },
   "file_extension": ".py",
   "mimetype": "text/x-python",
   "name": "python",
   "nbconvert_exporter": "python",
   "pygments_lexer": "ipython3",
   "version": "3.9.9"
  },
  "otter": {
   "OK_FORMAT": true,
   "tests": {
    "q1_1": {
     "name": "q1_1",
     "points": [
      10,
      10
     ],
     "suites": [
      {
       "cases": [
        {
         "code": ">>> sum_scores(2, 3, 6, 1)\n12",
         "hidden": false,
         "locked": false
        },
        {
         "code": ">>> sum_scores(-2,3,5,-10)\n-4",
         "hidden": false,
         "locked": false
        }
       ],
       "scored": true,
       "setup": "",
       "teardown": "",
       "type": "doctest"
      }
     ]
    },
    "q1_2": {
     "name": "q1_2",
     "points": [
      0,
      0
     ],
     "suites": [
      {
       "cases": [
        {
         "code": ">>> final_scores.num_columns\n3",
         "hidden": false,
         "locked": false
        },
        {
         "code": ">>> set(['Opponent', 'Cal Score', 'Opponent Score']) == set(final_scores.labels)\nTrue",
         "hidden": false,
         "locked": false
        }
       ],
       "scored": true,
       "setup": "",
       "teardown": "",
       "type": "doctest"
      }
     ]
    },
    "q1_3": {
     "name": "q1_3",
     "points": [
      0,
      10
     ],
     "suites": [
      {
       "cases": [
        {
         "code": ">>> 'did_cal_lose' in globals()\nTrue",
         "hidden": false,
         "locked": false
        },
        {
         "code": ">>> did_cal_lose(final_scores.row(1))\nTrue",
         "hidden": false,
         "locked": false
        }
       ],
       "scored": true,
       "setup": "",
       "teardown": "",
       "type": "doctest"
      }
     ]
    },
    "q1_4": {
     "name": "q1_4",
     "points": [
      0,
      0
     ],
     "suites": [
      {
       "cases": [
        {
         "code": ">>> 0 <= cal_wins <= 10\nTrue",
         "hidden": false,
         "locked": false
        },
        {
         "code": ">>> 0 <= cal_losses <= 10\nTrue",
         "hidden": false,
         "locked": false
        }
       ],
       "scored": true,
       "setup": "",
       "teardown": "",
       "type": "doctest"
      }
     ]
    },
    "q1_5": {
     "name": "q1_5",
     "points": [
      5,
      5
     ],
     "suites": [
      {
       "cases": [
        {
         "code": ">>> is_big_win(final_scores.row(2)) is True\nTrue",
         "hidden": false,
         "locked": false
        },
        {
         "code": ">>> # Make sure big_wins is an array.\n>>> import numpy as np\n>>> type(big_wins) == np.ndarray\nTrue",
         "hidden": false,
         "locked": false
        }
       ],
       "scored": true,
       "setup": "",
       "teardown": "",
       "type": "doctest"
      }
     ]
    }
   }
  }
 },
 "nbformat": 4,
 "nbformat_minor": 5
}
