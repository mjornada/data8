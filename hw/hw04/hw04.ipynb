{
 "cells": [
  {
   "cell_type": "markdown",
   "id": "4d7d1cdd",
   "metadata": {},
   "source": [
    "!pip install otter"
   ]
  },
  {
   "cell_type": "code",
   "execution_count": null,
   "metadata": {
    "deletable": false,
    "editable": false
   },
   "outputs": [],
   "source": [
    "# Inicialize o Otter\n",
    "import otter\n",
    "grader = otter.Notebook(\"hw04.ipynb\")"
   ]
  },
  {
   "cell_type": "markdown",
   "metadata": {},
   "source": [
    "# Trabalho de Casa 4: Funções, Tabelas e Grupos\n",
    "\n",
    "Por favor, complete este notebook preenchendo as células fornecidas. Antes de começar, execute a célula anterior para carregar os testes fornecidos."
   ]
  },
  {
   "cell_type": "markdown",
   "metadata": {},
   "source": [
    "**Recurso útil:**\n",
    "- [Referência Python](http://data8.org/sp22/python-reference.html): Folha de dicas de métodos úteis de array e tabela usados em Data 8!\n",
    "\n",
    "**Leituras recomendadas**: \n",
    "\n",
    "* [Visualizando Distribuições Numéricas](https://www.inferentialthinking.com/chapters/07/2/Visualizing_Numerical_Distributions.html)\n",
    "* [Funções e Tabelas](https://www.inferentialthinking.com/chapters/08/Functions_and_Tables.html)"
   ]
  },
  {
   "cell_type": "markdown",
   "metadata": {},
   "source": [
    "Por favor, complete este notebook preenchendo as células fornecidas. Antes de começar, execute a célula a seguir para configurar o notebook importando algumas bibliotecas úteis. Toda vez que você iniciar seu servidor, precisará executar esta célula novamente.\n",
    "\n",
    "Para todos os problemas que você deve escrever explicações e frases, você **deve** fornecer sua resposta no espaço designado. **Além disso, durante este trabalho de casa e todos os futuros, certifique-se de não reatribuir variáveis ao longo do notebook!** Por exemplo, se você usar `max_temperature` em sua resposta para uma pergunta, não a reatribua mais tarde. Caso contrário, você falhará em testes que pensou que estava passando anteriormente!\n",
    "\n",
    "**Nota: Este trabalho de casa tem testes ocultos. Isso significa que mesmo que os testes digam que 100% passaram, isso não significa que sua nota final será 100%. Estaremos executando mais testes de correção depois que todos entregarem o trabalho de casa.**\n",
    "\n",
    "Compartilhar respostas diretamente não é permitido, mas discutir problemas com a equipe do curso ou com outros alunos é incentivado.\n",
    "\n",
    "Você deve começar cedo para ter tempo de obter ajuda se estiver preso."
   ]
  },
  {
   "cell_type": "markdown",
   "metadata": {},
   "source": [
    "## 1. San Diego cheio de Burritos"
   ]
  },
  {
   "cell_type": "code",
   "execution_count": null,
   "metadata": {},
   "outputs": [],
   "source": [
    "# Execute esta célula para configurar o notebook, mas por favor não a altere.\n",
    "\n",
    "# Estas linhas importam os módulos Numpy e Datascience.\n",
    "import numpy as np\n",
    "from datascience import *\n",
    "import d8error\n",
    "\n",
    "# Estas linhas fazem algumas mágicas de plotagem.\n",
    "import matplotlib\n",
    "%matplotlib inline\n",
    "import matplotlib.pyplot as plt\n",
    "plt.style.use('fivethirtyeight')\n",
    "\n",
    "import warnings\n",
    "warnings.simplefilter('ignore', FutureWarning)\n",
    "warnings.filterwarnings(\"ignore\")"
   ]
  },
  {
   "cell_type": "markdown",
   "metadata": {},
   "source": [
    "Mira, Sofia e Sara estão tentando usar a Ciência de Dados para encontrar os melhores burritos em San Diego! Suas amigas Jessica e Sonya forneceram-lhes dois conjuntos de dados abrangentes sobre muitos estabelecimentos de burritos na área de San Diego, obtidos e limpos de: https://www.kaggle.com/srcole/burritos-in-san-diego/data"
   ]
  },
  {
   "cell_type": "markdown",
   "metadata": {},
   "source": [
    "A célula a seguir lê uma tabela chamada `ratings` que contém nomes de restaurantes de burritos, sua classificação no Yelp, classificação no Google, bem como sua classificação geral. A classificação `Overall` não é uma média das classificações `Yelp` e `Google`, mas sim a classificação geral dos clientes que foram pesquisados no estudo acima.\n",
    "\n",
    "Também lê uma tabela chamada `burritos_types` que contém nomes de restaurantes de burritos, seus itens de menu, e o custo do respectivo item de menu no restaurante."
   ]
  },
  {
   "cell_type": "code",
   "execution_count": null,
   "metadata": {
    "deletable": false,
    "editable": false
   },
   "outputs": [],
   "source": [
    "# Apenas execute esta célula\n",
    "ratings = Table.read_table(\"ratings.csv\")\n",
    "ratings.show(5)\n",
    "burritos_types = Table.read_table(\"burritos_types.csv\").drop(0)\n",
    "burritos_types.show(5)"
   ]
  },
  {
   "cell_type": "markdown",
   "metadata": {},
   "source": [
    "**Questão 1.** Seria mais fácil se pudéssemos combinar as informações em ambas as tabelas. Atribua `burritos` ao resultado da junção das duas tabelas, para que tenhamos uma tabela com as classificações para cada item correspondente do menu de cada restaurante. Cada item do menu tem a mesma classificação do restaurante de onde é originário. **(8 Pontos)**\n",
    "\n",
    "*Nota:* Não importa qual tabela você coloca como argumento para o método da tabela, qualquer ordem funcionará para os testes do autograder.\n",
    "\n",
    "*Dica:* Se você precisa de ajuda para usar o método `join`, consulte a [Folha de Referência Python](http://data8.org/sp22/python-reference.html) ou a [Seção 8.4](https://www.inferentialthinking.com/chapters/08/4/Joining_Tables_by_Columns.html) no livro didático."
   ]
  },
  {
   "cell_type": "code",
   "execution_count": null,
   "metadata": {
    "scrolled": true,
    "tags": []
   },
   "outputs": [],
   "source": [
    "burritos = ...\n",
    "burritos.show(5)"
   ]
  },
  {
   "cell_type": "code",
   "execution_count": null,
   "metadata": {
    "deletable": false,
    "editable": false
   },
   "outputs": [],
   "source": [
    "grader.check(\"q1_1\")"
   ]
  },
  {
   "cell_type": "markdown",
   "metadata": {},
   "source": [
    "<!-- BEGIN QUESTION -->\n",
    "\n",
    "**Questão 2.** Vamos ver como as pontuações do Yelp se comparam às pontuações do Google na tabela `burritos`. Primeiro, atribua `yelp_and_google` a uma tabela contendo apenas as colunas `Yelp` e `Google`. Em seguida, faça um gráfico de dispersão com as pontuações do Yelp no eixo x e as pontuações do Google no eixo y. **(8 Pontos)**\n"
   ]
  },
  {
   "cell_type": "code",
   "execution_count": null,
   "metadata": {
    "tags": []
   },
   "outputs": [],
   "source": [
    "yelp_and_google = ...\n",
    "...\n",
    "\n",
    "# Não altere/edite/remova a linha seguinte.\n",
    "# Para ajudá-lo a tirar conclusões, traçamos uma linha reta no gráfico (y=x).\n",
    "plt.plot(np.arange(2.5,5,.5), np.arange(2.5,5,.5));"
   ]
  },
  {
   "cell_type": "code",
   "execution_count": null,
   "metadata": {
    "deletable": false,
    "editable": false
   },
   "outputs": [],
   "source": [
    "grader.check(\"q1_2\")"
   ]
  },
  {
   "cell_type": "markdown",
   "metadata": {},
   "source": [
    "<!-- END QUESTION -->\n",
    "\n",
    "<!-- BEGIN QUESTION -->\n",
    "\n",
    "**Questão 3.** Olhando para o gráfico de dispersão que você acabou de fazer na Questão 1.2, você percebe algum padrão(s) (ou seja, um dos dois tipos de pontuações é consistentemente maior que o outro)? Se sim, descreva-os **brevemente** na célula abaixo. **(8 Pontos)**\n"
   ]
  },
  {
   "cell_type": "markdown",
   "metadata": {},
   "source": [
    "_Digite sua resposta aqui, substituindo este texto._"
   ]
  },
  {
   "cell_type": "markdown",
   "metadata": {},
   "source": [
    "<!-- END QUESTION -->\n",
    "\n",
    "Aqui está uma revisão de como `.group` funciona! Você pode ler como `.group` funciona no [livro didático](https://www.inferentialthinking.com/chapters/08/2/Classifying_by_One_Variable.html), ou você pode assistir ao vídeo abaixo. O recurso em vídeo foi feito por um ex-membro da equipe, Divyesh Chotai!\n",
    "\n",
    "Você também pode usar o [Visualizador de Funções de Tabela](http://data8.org/interactive_table_functions/) para obter mais experiência prática com a função `.group`."
   ]
  },
  {
   "cell_type": "code",
   "execution_count": null,
   "metadata": {},
   "outputs": [],
   "source": [
    "from IPython.display import YouTubeVideo\n",
    "YouTubeVideo(\"HLoYTCUP0fc\")"
   ]
  },
  {
   "cell_type": "markdown",
   "metadata": {},
   "source": [
    "**Questão 4.** Há tantos tipos de burritos da Califórnia na tabela `burritos`! Sara quer saber qual tipo é o mais bem avaliado em todos os restaurantes. Para efeito destas questões, estamos tratando a classificação de cada item do menu como a do respectivo restaurante, já que não temos a classificação de todos os itens individuais nestes restaurantes. Você não precisa se preocupar com este fato, mas achamos importante mencioná-lo!\n",
    "\n",
    "Crie uma tabela com duas colunas: a primeira coluna deve incluir os nomes dos burritos e a segunda coluna deve conter a classificação geral média desse burrito em todos os restaurantes. **Em seus cálculos, você deve comparar apenas burritos que contêm a palavra \"California\".** Por exemplo, existem burritos \"California\", burritos \"California Breakfast\", burritos \"California Surf And Turf\", etc. **(9 Pontos)**\n",
    "\n",
    "*Dica:* Se vários restaurantes servem o burrito \"California - Chicken\", que método de tabela podemos usar para agregar esses juntos e encontrar a classificação geral média?\n",
    "\n",
    "*Nota:* Para referência, a solução da equipe usou apenas uma linha. No entanto, sinta-se à vontade para dividir a solução em várias linhas e etapas; apenas certifique-se de atribuir a tabela final de saída a `california_burritos`!"
   ]
  },
  {
   "cell_type": "code",
   "execution_count": null,
   "metadata": {
    "tags": []
   },
   "outputs": [],
   "source": [
    "california_burritos = ...\n",
    "california_burritos"
   ]
  },
  {
   "cell_type": "code",
   "execution_count": null,
   "metadata": {
    "deletable": false,
    "editable": false
   },
   "outputs": [],
   "source": [
    "grader.check(\"q1_4\")"
   ]
  },
  {
   "cell_type": "markdown",
   "metadata": {},
   "source": [
    "**Questão 5.** Dada esta nova tabela `california_burritos`, Sara pode descobrir o nome do burrito da Califórnia com a classificação média geral mais alta! Atribua `best_california_burrito` a uma linha de código que produza a string que representa o nome do burrito da Califórnia com a classificação média geral mais alta. Se vários burritos satisfizerem este critério, você pode exibir qualquer um deles. **(8 Pontos)**"
   ]
  },
  {
   "cell_type": "code",
   "execution_count": null,
   "metadata": {
    "tags": []
   },
   "outputs": [],
   "source": [
    "best_california_burrito = ...\n",
    "best_california_burrito"
   ]
  },
  {
   "cell_type": "code",
   "execution_count": null,
   "metadata": {
    "deletable": false,
    "editable": false
   },
   "outputs": [],
   "source": [
    "grader.check(\"q1_5\")"
   ]
  },
  {
   "cell_type": "markdown",
   "metadata": {},
   "source": [
    "<!-- BEGIN QUESTION -->\n",
    "\n",
    "**Questão 6.** Mira acredita que os burritos em San Diego são mais baratos (e têm melhor sabor) do que os burritos em Berkeley. Plote um histograma que visualize a distribuição dos custos dos burritos de San Diego na tabela `burritos`. Também use a variável `bins` fornecida ao fazer seu histograma, para que o histograma seja mais visualmente informativo. **(8 Pontos)**\n"
   ]
  },
  {
   "cell_type": "code",
   "execution_count": null,
   "metadata": {
    "tags": []
   },
   "outputs": [],
   "source": [
    "bins = np.arange(0, 15, 1)\n",
    "# Por favor, também use os bins fornecidos\n",
    "..."
   ]
  },
  {
   "cell_type": "markdown",
   "metadata": {},
   "source": [
    "<!-- END QUESTION -->\n",
    "\n",
    "**Questão 7.** Qual porcentagem de burritos em San Diego custa menos de $6? Atribua `burritos_less_than_6` à sua resposta, que deve estar entre 0 e 100. Você deve usar apenas o histograma acima para responder à pergunta. Não use código na tabela para encontrar a resposta, apenas observe as alturas e use Python para avaliar sua aritmética! **(8 Pontos)**\n",
    "\n",
    "*Nota*: Sua resposta não precisa ser exata, mas deve estar dentro de algumas porcentagens da resposta da equipe.\n"
   ]
  },
  {
   "cell_type": "code",
   "execution_count": null,
   "metadata": {
    "tags": []
   },
   "outputs": [],
   "source": [
    "burritos_less_than_6 = ..."
   ]
  },
  {
   "cell_type": "code",
   "execution_count": null,
   "metadata": {
    "deletable": false,
    "editable": false
   },
   "outputs": [],
   "source": [
    "grader.check(\"q1_7\")"
   ]
  },
  {
   "cell_type": "markdown",
   "metadata": {},
   "source": [
    "## 2. Salários dos Funcionários da Cidade de São Francisco"
   ]
  },
  {
   "cell_type": "markdown",
   "metadata": {},
   "source": [
    "Este exercício é projetado para dar a você prática com o uso dos métodos `.pivot` e `.group` da Tabela. Aqui está um link para a [Folha de Referência Python](http://data8.org/sp22/python-reference.html) caso você precise de uma rápida revisão. O [Visualizador de Funções de Tabela](http://data8.org/interactive_table_functions/) também pode ser uma ferramenta útil.\n",
    "\n",
    "Execute a célula abaixo para ver uma demonstração de como você pode usar pivot em uma tabela. (Obrigado ao ex-membro da equipe Divyesh Chotai!)"
   ]
  },
  {
   "cell_type": "code",
   "execution_count": null,
   "metadata": {
    "scrolled": true
   },
   "outputs": [],
   "source": [
    "from IPython.display import YouTubeVideo\n",
    "YouTubeVideo(\"4WzXo8eKLAg\")"
   ]
  },
  {
   "cell_type": "markdown",
   "metadata": {},
   "source": [
    "A fonte de dados que usaremos nesta parte do trabalho de casa é [publicamente fornecida](https://data.sfgov.org/City-Management-and-Ethics/Employee-Compensation/88g8-5mnd/data) pela Cidade de São Francisco. Filtramos para reter apenas as colunas relevantes e restringimos os dados ao ano civil de 2019. Execute a célula a seguir para carregar nossos dados em uma tabela chamada `full_sf`."
   ]
  },
  {
   "cell_type": "code",
   "execution_count": null,
   "metadata": {},
   "outputs": [],
   "source": [
    "full_sf = Table.read_table(\"sf2019.csv\")\n",
    "full_sf.show(5)"
   ]
  },
  {
   "cell_type": "markdown",
   "metadata": {},
   "source": [
    "A tabela tem uma linha para cada um dos 44.525 funcionários do governo de São Francisco em 2019.\n",
    "\n",
    "As quatro primeiras colunas descrevem o trabalho do funcionário. Por exemplo, o funcionário na terceira linha da tabela tinha um trabalho chamado \"IS Business Analyst-Senior\". Chamaremos isso de *posição* ou *cargo* do funcionário. O trabalho estava em uma Família de Trabalho chamada Sistemas de Informação (daí o IS no título do trabalho), e estava no Departamento de Liberdade Condicional para Adultos que faz parte do Grupo de Organização de Proteção Pública do governo. Você estará trabalhando principalmente com a coluna `Job`.\n",
    "\n",
    "As próximas três colunas contêm os valores em dólares pagos ao funcionário no ano civil de 2019 para salário, horas extras e benefícios. Note que o salário de um funcionário não inclui seus ganhos de horas extras.\n",
    "\n",
    "A última coluna contém a remuneração total paga ao funcionário. É a soma das três colunas anteriores:\n",
    "\n",
    "$$\\text{Remuneração Total} = \\text{Salário} + \\text{Horas Extras} + \\text{Benefícios}$$\n",
    "\n",
    "Para este trabalho de casa, estaremos usando as seguintes colunas:\n",
    "1. `Organization Group`: Um grupo de departamentos. Por exemplo, o Grupo Org. **Proteção Pública** inclui departamentos como Polícia, Bombeiros, Proteção para Adultos, Promotoria, etc.\n",
    "2. `Department`: A unidade organizacional primária usada pela Cidade e Condado de São Francisco.\n",
    "3. `Job`: A posição específica que um determinado trabalhador preenche.\n",
    "4. `Total Compensation`: A soma do salário, horas extras e benefícios de um trabalhador em 2019.\n",
    "\n",
    "Execute a célula a seguir para selecionar as colunas relevantes e criar uma nova tabela chamada `sf`."
   ]
  },
  {
   "cell_type": "code",
   "execution_count": null,
   "metadata": {},
   "outputs": [],
   "source": [
    "sf = full_sf.select(\"Job\", \"Department\", \"Organization Group\",  \"Total Compensation\")\n",
    "sf.show(5)"
   ]
  },
  {
   "cell_type": "markdown",
   "metadata": {},
   "source": [
    "Queremos usar esta tabela para gerar arrays com os títulos dos cargos dos membros de cada **Grupo de Organização**."
   ]
  },
  {
   "cell_type": "markdown",
   "metadata": {},
   "source": [
    "**Questão 1.** Defina `job_titles` como uma tabela com duas colunas. A primeira coluna deve ser chamada `Organization Group` e ter o nome de cada \"Organization Group\" uma vez, e a segunda coluna deve ser chamada `Jobs` com cada linha nessa segunda coluna contendo um *array* com os nomes de todos os títulos de trabalho dentro desse \"Organization Group\". Não se preocupe se houver vários dos mesmos títulos de trabalho. **(9 Pontos)**\n",
    "\n",
    "*Dica:* Pense em como `group` funciona: ele coleta valores em um array e então aplica uma função a esse array. Definimos duas funções abaixo para você, e você precisará usar uma delas em sua chamada para `group`."
   ]
  },
  {
   "cell_type": "code",
   "execution_count": null,
   "metadata": {
    "tags": []
   },
   "outputs": [],
   "source": [
    "# Escolha uma das duas funções definidas abaixo em sua chamada para agrupar.\n",
    "def first_item(array):\n",
    "    '''Retorna o primeiro item'''\n",
    "    return array.item(0)\n",
    "\n",
    "def full_array(array):\n",
    "    '''Retorna o array que é passado'''\n",
    "    return array \n",
    "\n",
    "# Faça uma chamada para agrupar usando uma das funções acima quando você definir job_titles\n",
    "job_titles = ...\n",
    "job_titles"
   ]
  },
  {
   "cell_type": "code",
   "execution_count": null,
   "metadata": {
    "deletable": false,
    "editable": false
   },
   "outputs": [],
   "source": [
    "grader.check(\"q2_1\")"
   ]
  },
  {
   "cell_type": "markdown",
   "metadata": {},
   "source": [
    "#### Entender o código que você acabou de escrever em 2.1 é importante para avançar na aula! Se você fez um palpite sortudo, reserve um tempo para olhar o código, passo a passo. O horário de atendimento é sempre um ótimo recurso!"
   ]
  },
  {
   "cell_type": "markdown",
   "metadata": {},
   "source": [
    "**Questão 2.** No momento, a coluna `Job` da tabela `sf` não está ordenada (sem ordem específica). Os arrays que você gerou na coluna `Jobs` da questão anterior seriam os mesmos se tivéssemos ordenado alfabeticamente antes de gerá-los? Explique sua resposta. Para receber a pontuação total, sua resposta deve referenciar *como* o método `.group` funciona, e como ordenar a coluna `Jobs` afetaria isso. **(8 Pontos)**\n",
    "\n",
    "*Nota:* Dois arrays são **iguais** se contêm o mesmo número de elementos e os elementos localizados nos índices correspondentes nos dois arrays são idênticos. Um exemplo de arrays que NÃO são iguais: `array([1,2]) != array([2,1])`."
   ]
  },
  {
   "cell_type": "markdown",
   "metadata": {},
   "source": [
    "_Digite sua resposta aqui, substituindo este texto._"
   ]
  },
  {
   "cell_type": "markdown",
   "metadata": {},
   "source": [
    "<!-- END QUESTION -->\n",
    "\n",
    "**Questão 3.** Defina `department_ranges` como uma tabela contendo departamentos como as linhas, e os grupos de organização como as colunas. Os valores nas linhas devem corresponder a um intervalo de remuneração total, onde o intervalo é definido como a **diferença entre a remuneração total mais alta e a remuneração total mais baixa no departamento para aquele grupo de organização**. **(9 Pontos)**\n",
    "\n",
    "*Dica 1:* Primeiro, você precisará definir uma nova função `compensation_range` que recebe um array de remunerações e retorna o intervalo de remunerações nesse array.\n",
    "\n",
    "*Dica 2:* Que função de tabela permite especificar as linhas e colunas de uma nova tabela? Você provavelmente assistiu a um vídeo sobre isso anteriormente no trabalho de casa!\n"
   ]
  },
  {
   "cell_type": "code",
   "execution_count": null,
   "metadata": {
    "tags": []
   },
   "outputs": [],
   "source": [
    "# Primeiro defina compensation_range\n",
    "...\n",
    "    ...\n",
    "\n",
    "department_ranges = ...\n",
    "department_ranges"
   ]
  },
  {
   "cell_type": "code",
   "execution_count": null,
   "metadata": {
    "deletable": false,
    "editable": false
   },
   "outputs": [],
   "source": [
    "grader.check(\"q2_3\")"
   ]
  },
  {
   "cell_type": "markdown",
   "metadata": {},
   "source": [
    "<!-- BEGIN QUESTION -->\n",
    "\n",
    "**Questão 4.** Dê uma explicação de por que alguns dos valores das linhas são `0` na tabela `department_ranges` da questão anterior. **(8 Pontos)**\n"
   ]
  },
  {
   "cell_type": "markdown",
   "metadata": {},
   "source": [
    "_Digite sua resposta aqui, substituindo este texto._"
   ]
  },
  {
   "cell_type": "markdown",
   "metadata": {},
   "source": [
    "<!-- END QUESTION -->\n",
    "\n",
    "**Questão 5.** Encontre o número de departamentos que aparecem na tabela `sf` que têm uma remuneração total média superior a 125.000 dólares; atribua este valor à variável `num_over_125k`. **(9 Pontos)**\n",
    "\n",
    "*Dica:* Os nomes das variáveis fornecidas são destinados a ajudar nos passos intermediários e no processo geral de pensamento. Sinta-se à vontade para excluí-los se preferir começar do zero, mas certifique-se de que sua resposta final seja atribuída a `num_over_125k`!"
   ]
  },
  {
   "cell_type": "code",
   "execution_count": null,
   "metadata": {
    "tags": []
   },
   "outputs": [],
   "source": [
    "depts_and_comp = ...\n",
    "avg_of_depts = ...\n",
    "num_over_125k = ...\n",
    "num_over_125k"
   ]
  },
  {
   "cell_type": "code",
   "execution_count": null,
   "metadata": {
    "deletable": false,
    "editable": false
   },
   "outputs": [],
   "source": [
    "grader.check(\"q2_5\")"
   ]
  },
  {
   "cell_type": "markdown",
   "metadata": {},
   "source": [
    "Você terminou o Trabalho de Casa 4!\n",
    "\n",
    "**Passos importantes para a submissão:**\n",
    "1. Execute os testes e verifique se todos passaram.\n",
    "2. Escolha **Salvar Notebook** no menu **Arquivo**, então **execute a última célula**.\n",
    "3. Clique no link para baixar o arquivo zip.\n",
    "4. Em seguida, envie o arquivo zip para a tarefa correspondente de acordo com as instruções do seu instrutor.\n",
    "\n",
    "**É sua responsabilidade garantir que seu trabalho esteja salvo antes de executar a última célula.**"
   ]
  },
  {
   "cell_type": "markdown",
   "metadata": {
    "deletable": false,
    "editable": false
   },
   "source": [
    "## Submissão\n",
    "\n",
    "Certifique-se de ter executado todas as células em seu notebook em ordem antes de executar a célula abaixo, para que todas as imagens/gráficos apareçam na saída. A célula abaixo irá gerar um arquivo zip para você enviar. **Por favor, salve antes de exportar!**"
   ]
  },
  {
   "cell_type": "code",
   "execution_count": null,
   "metadata": {
    "deletable": false,
    "editable": false
   },
   "outputs": [],
   "source": [
    "# Primeiro salve seu notebook, depois execute esta célula para exportar sua submissão.\n",
    "grader.export(pdf=False, run_tests=True)"
   ]
  },
  {
   "cell_type": "markdown",
   "metadata": {},
   "source": [
    " "
   ]
  }
 ],
 "metadata": {
  "kernelspec": {
   "display_name": "Python 3 (ipykernel)",
   "language": "python",
   "name": "python3"
  },
  "language_info": {
   "codemirror_mode": {
    "name": "ipython",
    "version": 3
   },
   "file_extension": ".py",
   "mimetype": "text/x-python",
   "name": "python",
   "nbconvert_exporter": "python",
   "pygments_lexer": "ipython3",
   "version": "3.9.9"
  },
  "otter": {
   "OK_FORMAT": true,
   "tests": {
    "q1_1": {
     "name": "q1_1",
     "points": [
      0,
      0
     ],
     "suites": [
      {
       "cases": [
        {
         "code": ">>> # Make sure you have all the columns from both tables\n>>> set([\"Name\", \"Menu_Item\", \"Yelp\", \"Google\", \"Overall\", \"Cost\"]) == set(burritos.labels)\nTrue",
         "hidden": false,
         "locked": false
        },
        {
         "code": ">>> burritos.num_rows == 212\nTrue",
         "hidden": false,
         "locked": false
        }
       ],
       "scored": true,
       "setup": "",
       "teardown": "",
       "type": "doctest"
      }
     ]
    },
    "q1_2": {
     "name": "q1_2",
     "points": null,
     "suites": [
      {
       "cases": [
        {
         "code": ">>> # Make sure you are using the correct table! \n>>> yelp_and_google.num_rows == 212\nTrue",
         "hidden": false,
         "locked": false
        }
       ],
       "scored": true,
       "setup": "",
       "teardown": "",
       "type": "doctest"
      }
     ]
    },
    "q1_4": {
     "name": "q1_4",
     "points": [
      1,
      1
     ],
     "suites": [
      {
       "cases": [
        {
         "code": ">>> # Number of columns should be 2\n>>> california_burritos.num_columns == 2\nTrue",
         "hidden": false,
         "locked": false
        },
        {
         "code": ">>> # Number of rows should be 19\n>>> california_burritos.num_rows == 19\nTrue",
         "hidden": false,
         "locked": false
        }
       ],
       "scored": true,
       "setup": "",
       "teardown": "",
       "type": "doctest"
      }
     ]
    },
    "q1_5": {
     "name": "q1_5",
     "points": [
      0
     ],
     "suites": [
      {
       "cases": [
        {
         "code": ">>> # Your answer should be a string\n>>> type(best_california_burrito) == str\nTrue",
         "hidden": false,
         "locked": false
        }
       ],
       "scored": true,
       "setup": "",
       "teardown": "",
       "type": "doctest"
      }
     ]
    },
    "q1_7": {
     "name": "q1_7",
     "points": [
      0
     ],
     "suites": [
      {
       "cases": [
        {
         "code": ">>> # Your answer should be between 0 and 100.\n>>> 0 <= burritos_less_than_6 <= 100\nTrue",
         "hidden": false,
         "locked": false
        }
       ],
       "scored": true,
       "setup": "",
       "teardown": "",
       "type": "doctest"
      }
     ]
    },
    "q2_1": {
     "name": "q2_1",
     "points": [
      0,
      0,
      0,
      0
     ],
     "suites": [
      {
       "cases": [
        {
         "code": ">>> job_titles.num_columns\n2",
         "hidden": false,
         "locked": false
        },
        {
         "code": ">>> job_titles.num_rows\n6",
         "hidden": false,
         "locked": false
        },
        {
         "code": ">>> # Make sure that you have the correct column labels!\n>>> np.asarray(job_titles.labels).item(1) != \"Job full_array\"\nTrue",
         "hidden": false,
         "locked": false
        },
        {
         "code": ">>> # Make sure that you have the correct column labels!\n>>> np.asarray(job_titles.labels).item(1) == \"Jobs\"\nTrue",
         "hidden": false,
         "locked": false
        }
       ],
       "scored": true,
       "setup": "",
       "teardown": "",
       "type": "doctest"
      }
     ]
    },
    "q2_3": {
     "name": "q2_3",
     "points": [
      0,
      0,
      2
     ],
     "suites": [
      {
       "cases": [
        {
         "code": ">>> # Double check that your salary_range function is correct\n>>> compensation_range(make_array(5, 1, 20, 1000)) == 999\nTrue",
         "hidden": false,
         "locked": false
        },
        {
         "code": ">>> # Make sure that the table has departments as the rows and organization groups as the columns.\n>>> set([\"Department\", \"Community Health\", \"Culture & Recreation\", \"General Administration & Finance\", \"Human Welfare & Neighborhood Development\", \"Public Protection\", \"Public Works, Transportation & Commerce\"]) == set(department_ranges.labels)\nTrue",
         "hidden": false,
         "locked": false
        },
        {
         "code": ">>> sum(department_ranges.column(1))\n554179.0",
         "hidden": false,
         "locked": false
        }
       ],
       "scored": true,
       "setup": "",
       "teardown": "",
       "type": "doctest"
      }
     ]
    },
    "q2_5": {
     "name": "q2_5",
     "points": [
      2,
      2
     ],
     "suites": [
      {
       "cases": [
        {
         "code": ">>> # Make sure that your final answer is a number\n>>> isinstance(num_over_125k, int)\nTrue",
         "hidden": false,
         "locked": false
        },
        {
         "code": ">>> # Make sure that your answer makes sense given the sf table\n>>> 0 <= num_over_125k <= 51\nTrue",
         "hidden": false,
         "locked": false
        }
       ],
       "scored": true,
       "setup": "",
       "teardown": "",
       "type": "doctest"
      }
     ]
    }
   }
  }
 },
 "nbformat": 4,
 "nbformat_minor": 5
}
