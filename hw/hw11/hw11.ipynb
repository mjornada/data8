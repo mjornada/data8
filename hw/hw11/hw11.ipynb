{
 "cells": [
  {
   "cell_type": "code",
   "execution_count": null,
   "metadata": {
    "deletable": false,
    "editable": false
   },
   "outputs": [],
   "source": [
    "# Inicialize o Otter\n",
    "import otter\n",
    "grader = otter.Notebook(\"hw11.ipynb\")"
   ]
  },
  {
   "cell_type": "markdown",
   "metadata": {},
   "source": [
    "# Lição de Casa 11: Inferência de Regressão"
   ]
  },
  {
   "cell_type": "markdown",
   "metadata": {},
   "source": [
    "**Recurso Útil:**\n",
    "\n",
    "- [Referência Python](http://data8.org/sp22/python-reference.html): Folha de dicas de métodos úteis de array e tabela usados no Data 8!\n",
    "\n",
    "**Leitura Recomendada**: \n",
    "\n",
    "* [Usando Intervalos de Confiança](https://inferentialthinking.com/chapters/13/4/Using_Confidence_Intervals.html)\n",
    "* [A Linha de Regressão](https://inferentialthinking.com/chapters/15/2/Regression_Line.html#the-regression-line-in-standard-units)\n",
    "* [Inferência para Regressão](https://www.inferentialthinking.com/chapters/16/Inference_for_Regression.html)"
   ]
  },
  {
   "cell_type": "markdown",
   "metadata": {},
   "source": [
    "Por favor, complete este caderno preenchendo as células fornecidas. Antes de começar, execute a célula a seguir para configurar o caderno importando algumas bibliotecas úteis. Toda vez que você iniciar seu servidor, precisará executar esta célula novamente.\n",
    "\n",
    "Para todos os problemas nos quais você deve escrever explicações e frases, você **deve** fornecer sua resposta no espaço designado. **Além disso, ao longo desta lição de casa e de todas as futuras, certifique-se de não reatribuir variáveis ao longo do caderno!** Por exemplo, se você usar `max_temperature` em sua resposta para uma questão, não a reatribua posteriormente. Caso contrário, você falhará em testes que pensava ter passado anteriormente!\n",
    "\n",
    "**Nota: Esta lição de casa possui testes ocultos. Isso significa que, mesmo que os testes digam que 100% passaram, não significa que sua nota final será 100%. Nós rodaremos mais testes para correção uma vez que todos entregarem a lição de casa.**\n",
    "\n",
    "Compartilhar respostas diretamente não é permitido, mas discutir problemas com a equipe do curso ou com outros estudantes é encorajado.\n",
    "\n",
    "Você deve começar cedo para que tenha tempo de obter ajuda se estiver com dificuldades."
   ]
  },
  {
   "cell_type": "code",
   "execution_count": null,
   "metadata": {},
   "outputs": [],
   "source": [
    "# Não altere esta célula; apenas execute-a.\n",
    "\n",
    "import numpy as np\n",
    "from datascience import *\n",
    "import d8error\n",
    "\n",
    "# Estas linhas fazem alguma mágica de plotagem sofisticada\n",
    "import matplotlib\n",
    "%matplotlib inline\n",
    "import matplotlib.pyplot as plt\n",
    "plt.style.use('fivethirtyeight')\n",
    "import warnings\n",
    "warnings.simplefilter('ignore')  # Ignora avisos simples\n",
    "from datetime import datetime"
   ]
  },
  {
   "cell_type": "markdown",
   "metadata": {},
   "source": [
    "## Uma Introdução à Inferência de Regressão"
   ]
  },
  {
   "cell_type": "markdown",
   "metadata": {},
   "source": [
    "Anteriormente nesta disciplina, usamos intervalos de confiança para quantificar a incerteza sobre estimativas. Também podemos realizar testes de hipóteses usando um intervalo de confiança seguindo o procedimento abaixo:\n",
    "\n",
    "1. Definir uma hipótese nula e uma hipótese alternativa (elas devem ser da forma \"O parâmetro é X\" e \"O parâmetro não é X\").\n",
    "2. Escolher um corte de valor-p e chamá-lo de $q$.\n",
    "3. Construir um intervalo de $(100-q)\\%$ usando amostragem bootstrap (por exemplo, se seu corte de valor-p é 0,01, ou 1%, então construa um intervalo de confiança de 99%).\n",
    "4. Usando o intervalo de confiança, determinar se seus dados são mais consistentes com sua hipótese nula ou alternativa:\n",
    "   * Se o parâmetro X da hipótese nula estiver no seu intervalo de confiança, os dados são mais consistentes com a hipótese nula.\n",
    "   * Se o parâmetro X da hipótese nula *não* estiver no seu intervalo de confiança, os dados são mais consistentes com a hipótese alternativa.\n",
    "\n",
    "Mais recentemente, discutimos o uso da regressão linear para fazer previsões baseadas em variáveis correlacionadas. Por exemplo, podemos prever a altura das crianças com base nas alturas de seus pais.\n",
    "\n",
    "Podemos combinar esses dois tópicos para fazer declarações poderosas sobre nossa população usando as seguintes técnicas:\n",
    "\n",
    "- Intervalo bootstrap para a verdadeira inclinação\n",
    "- Intervalo de previsão bootstrap para y (dado um valor particular de x)\n",
    "\n",
    "Esta lição de casa explora esses dois métodos."
   ]
  },
  {
   "cell_type": "markdown",
   "metadata": {},
   "source": [
    "## Os Dados\n",
    "O [Batuíra-de-coleira](https://www.audubon.org/field-guide/bird/snowy-plover) é uma pequena ave que vive na costa em partes da Califórnia e em outros lugares. É tão pequeno que é vulnerável a muitos predadores, incluindo pessoas e cães que não olham por onde andam quando vão à praia. É considerado em perigo em muitas partes dos EUA.\n",
    "\n",
    "Os dados são sobre os ovos e filhotes recém-nascidos da Batuíra-de-coleira. Aqui está uma foto de [uma ave adulta incubando seus ovos](http://cescos.fau.edu/jay/eps/articles/snowyplover.html).\n",
    "\n",
    "<img src=\"plover_and_eggs.jpeg\" alt=\"Batuíra-de-coleira e Ovos\">\n",
    "\n",
    "Os dados foram coletados no Parque Nacional de Point Reyes por um ex-[estudante de Berkeley](https://openlibrary.org/books/OL2038693M/BLSS_the_Berkeley_interactive_statistical_system). O objetivo era ver como o tamanho de um ovo poderia ser usado para prever o peso do filhote resultante. Quanto maior o filhote recém-nascido, maior a probabilidade de sobreviver.\n",
    "\n",
    "<img src=\"plover_and_chick.jpeg\" alt=\"Batuíra-de-coleira e Filhote\">\n",
    "\n",
    "Cada linha da tabela abaixo corresponde a um ovo de Batuíra-de-coleira e o filhote resultante. Note como a ave é pequena:\n",
    "\n",
    "- `Egg Length` (Comprimento do Ovo) e `Egg Breadth` (Largura do ovo, diâmetro mais largo) são medidos em milímetros\n",
    "- `Egg Weight` (Peso do Ovo) e `Bird Weight` (Peso do Pássaro) são medidos em gramas; para comparação, um clipe de papel padrão pesa cerca de uma grama"
   ]
  },
  {
   "cell_type": "code",
   "execution_count": null,
   "metadata": {},
   "outputs": [],
   "source": [
    "birds = Table.read_table('snowy_plover.csv')\n",
    "birds"
   ]
  },
  {
   "cell_type": "markdown",
   "metadata": {},
   "source": [
    "Nesta investigação, usaremos o peso do ovo para prever o peso do pássaro. Execute a célula abaixo para criar um gráfico de dispersão dos pesos dos ovos e dos pesos dos pássaros, juntamente com sua linha de melhor ajuste."
   ]
  },
  {
   "cell_type": "code",
   "execution_count": null,
   "metadata": {},
   "outputs": [],
   "source": [
    "# Apenas execute esta célula e examine o gráfico de dispersão.\n",
    "birds.scatter('Egg Weight', \"Bird Weight\", fit_line=True)"
   ]
  },
  {
   "cell_type": "markdown",
   "metadata": {},
   "source": [
    "## 1. Encontrando o Intervalo de Confiança Bootstrap para a Inclinação Verdadeira\n",
    "\n",
    "Olhando para o gráfico de dispersão da nossa amostra, observamos uma relação linear entre o peso do ovo e o peso do pássaro. No entanto, relações que aparecem em uma amostra podem não existir na população da qual a amostra foi retirada.\n",
    "\n",
    "Queremos saber se realmente existe uma relação linear entre o peso do ovo e o peso do pássaro para as Batuíras-de-coleira. Se não houver uma relação linear entre as duas variáveis, então esperaríamos uma correlação de 0. Consequentemente, a inclinação da linha de regressão também seria 0."
   ]
  },
  {
   "cell_type": "markdown",
   "metadata": {},
   "source": [
    "<!-- BEGIN QUESTION -->\n",
    "\n",
    "**Questão 1.1.** Vamos realizar um teste de hipótese usando intervalos de confiança para verificar se existe uma relação linear entre o peso do ovo e o peso do pássaro. Defina as hipóteses nula e alternativa que permitirão conduzir este teste. **(8 pontos)**\n",
    "\n",
    "*Nota:* Por favor, escreva sua resposta **na célula abaixo** no seguinte formato:\n",
    "- **Hipótese Nula:**\n",
    "- **Hipótese Alternativa:**\n",
    "\n"
   ]
  },
  {
   "cell_type": "markdown",
   "metadata": {},
   "source": [
    "_Digite sua resposta aqui, substituindo este texto._"
   ]
  },
  {
   "cell_type": "markdown",
   "metadata": {},
   "source": [
    "**Questão 1.2.** Defina as seguintes duas funções:\n",
    "\n",
    "1. `standard_units`: Esta função recebe um array de números e retorna um array contendo esses números convertidos para unidades padrão.\n",
    "2. `correlation`: Esta função recebe uma tabela e dois nomes de colunas (um para *x* e outro para *y*) e retorna a correlação entre essas colunas.\n",
    "\n",
    "**(8 pontos)**"
   ]
  },
  {
   "cell_type": "code",
   "execution_count": null,
   "metadata": {
    "ExecuteTime": {
     "end_time": "2018-04-11T12:05:50.894154Z",
     "start_time": "2018-04-11T12:05:50.889145Z"
    },
    "deletable": false,
    "tags": []
   },
   "outputs": [],
   "source": [
    "def standard_units(arr):\n",
    "    ...\n",
    "\n",
    "def correlation(tbl, x_col, y_col):\n",
    "    ..."
   ]
  },
  {
   "cell_type": "code",
   "execution_count": null,
   "metadata": {
    "deletable": false,
    "editable": false
   },
   "outputs": [],
   "source": [
    "grader.check(\"q1_2\")"
   ]
  },
  {
   "cell_type": "markdown",
   "metadata": {},
   "source": [
    "**Questão 1.3.** Usando as funções que você acabou de implementar, crie uma função chamada `fit_line`. Ela deve receber uma tabela como `birds` e os nomes das colunas associadas a *x* e *y* como seus argumentos e retornar um *array* contendo a inclinação e a intercepção da linha de regressão (nessa ordem) que prevê a coluna *y* na tabela usando a coluna *x*. **(8 pontos)**"
   ]
  },
  {
   "cell_type": "code",
   "execution_count": null,
   "metadata": {
    "ExecuteTime": {
     "end_time": "2018-04-11T12:05:51.483516Z",
     "start_time": "2018-04-11T12:05:51.472484Z"
    },
    "for_assignment_type": "solution",
    "tags": []
   },
   "outputs": [],
   "source": [
    "def fit_line(tbl, x_col, y_col):\n",
    "    ...\n",
    "\n",
    "fit_line(birds, \"Egg Weight\", \"Bird Weight\")"
   ]
  },
  {
   "cell_type": "code",
   "execution_count": null,
   "metadata": {
    "deletable": false,
    "editable": false
   },
   "outputs": [],
   "source": [
    "grader.check(\"q1_3\")"
   ]
  },
  {
   "cell_type": "markdown",
   "metadata": {},
   "source": [
    "**Execute** esta célula para plotar a linha produzida ao chamar `fit_line` na tabela `birds`.\n",
    "\n",
    "**Nota:** Você não é responsável pelo código na célula abaixo, mas certifique-se de que sua função `fit_line` gerou uma linha razoável para os dados."
   ]
  },
  {
   "cell_type": "code",
   "execution_count": null,
   "metadata": {
    "ExecuteTime": {
     "end_time": "2018-04-11T12:05:51.754766Z",
     "start_time": "2018-04-11T12:05:51.624390Z"
    }
   },
   "outputs": [],
   "source": [
    "# Certifique-se de que sua função fit_line ajusta uma linha razoável\n",
    "# aos dados em birds, usando o gráfico abaixo.\n",
    "\n",
    "# Apenas execute esta célula\n",
    "slope, intercept = fit_line(birds, \"Egg Weight\", \"Bird Weight\")\n",
    "birds.scatter(\"Egg Weight\", \"Bird Weight\")\n",
    "plt.plot([min(birds.column(\"Egg Weight\")), max(birds.column(\"Egg Weight\"))], \n",
    "         [slope*min(birds.column(\"Egg Weight\"))+intercept, slope*max(birds.column(\"Egg Weight\"))+intercept])\n",
    "plt.show()"
   ]
  },
  {
   "cell_type": "markdown",
   "metadata": {},
   "source": [
    "Agora temos todas as ferramentas de que precisamos para criar um intervalo de confiança que quantifica nossa incerteza sobre a verdadeira relação entre o peso do ovo e o peso do pássaro."
   ]
  },
  {
   "cell_type": "markdown",
   "metadata": {},
   "source": [
    "<!-- BEGIN QUESTION -->\n",
    "\n",
    "**Questão 1.4.** Crie um array chamado `resampled_slopes` que contém a inclinação da melhor linha de ajuste para 1000 reamostras bootstrap de `birds`. Plote a distribuição dessas inclinações. **(8 pontos)**"
   ]
  },
  {
   "cell_type": "code",
   "execution_count": null,
   "metadata": {
    "for_assignment_type": "solution",
    "tags": []
   },
   "outputs": [],
   "source": [
    "resampled_slopes = ...\n",
    "\n",
    "for i in np.arange(1000): \n",
    "    birds_bootstrap = ...\n",
    "    bootstrap_line = ...\n",
    "    bootstrap_slope = ...\n",
    "    resampled_slopes = ...\n",
    "    \n",
    "# NÃO ALTERE ESTA LINHA\n",
    "Table().with_column(\"Slope estimate\", resampled_slopes).hist()"
   ]
  },
  {
   "cell_type": "code",
   "execution_count": null,
   "metadata": {
    "deletable": false,
    "editable": false
   },
   "outputs": [],
   "source": [
    "grader.check(\"q1_4\")"
   ]
  },
  {
   "cell_type": "markdown",
   "metadata": {},
   "source": [
    "<!-- END QUESTION -->\n",
    "\n",
    "**Questão 1.5.** Use suas inclinações reamostradas para construir um intervalo de confiança de 95% para o valor verdadeiro da inclinação. **(8 pontos)**\n"
   ]
  },
  {
   "cell_type": "code",
   "execution_count": null,
   "metadata": {
    "ExecuteTime": {
     "end_time": "2018-04-11T12:05:53.077324Z",
     "start_time": "2018-04-11T12:05:53.072310Z"
    },
    "deletable": false,
    "tags": []
   },
   "outputs": [],
   "source": [
    "lower_end = ...\n",
    "upper_end = ...\n",
    "print(\"95% confidence interval for slope: [{:g}, {:g}]\".format(lower_end, upper_end))"
   ]
  },
  {
   "cell_type": "code",
   "execution_count": null,
   "metadata": {
    "deletable": false,
    "editable": false
   },
   "outputs": [],
   "source": [
    "grader.check(\"q1_5\")"
   ]
  },
  {
   "cell_type": "markdown",
   "metadata": {},
   "source": [
    "<!-- BEGIN QUESTION -->\n",
    "\n",
    "**Questão 1.6.** Baseado no seu intervalo de confiança, você aceitaria ou rejeitaria a hipótese nula de que a inclinação verdadeira é 0? Por quê? Qual é o corte de valor-p que você está usando? **(8 pontos)**\n"
   ]
  },
  {
   "cell_type": "markdown",
   "metadata": {},
   "source": [
    "_Digite sua resposta aqui, substituindo este texto._"
   ]
  },
  {
   "cell_type": "markdown",
   "metadata": {},
   "source": [
    "<!-- END QUESTION -->\n",
    "\n",
    "<!-- BEGIN QUESTION -->\n",
    "\n",
    "**Questão 1.7.** Qual você acha que é a inclinação verdadeira? Você não precisa de um número exato. Quão confiante você está dessa estimativa? **(8 pontos)**\n",
    "\n",
    "*Dica:* Você pode fornecer um intervalo no qual acredita que a inclinação verdadeira se encaixa?\n"
   ]
  },
  {
   "cell_type": "markdown",
   "metadata": {},
   "source": [
    "_Digite sua resposta aqui, substituindo este texto._"
   ]
  },
  {
   "cell_type": "markdown",
   "metadata": {},
   "source": [
    "<!-- END QUESTION -->\n",
    "\n",
    "## 2. Encontrando o Intervalo de Previsão Bootstrap"
   ]
  },
  {
   "cell_type": "markdown",
   "metadata": {},
   "source": [
    "Suponha que estamos visitando Point Reyes e nos deparamos com alguns ovos de Batuíra-de-coleira; gostaríamos de saber quão pesados eles serão quando eclodirem. Em outras palavras, queremos usar nossa linha de regressão para fazer previsões sobre o peso de um pássaro com base no peso do ovo correspondente.\n",
    "\n",
    "No entanto, assim como estamos incertos sobre a inclinação da verdadeira linha de regressão, também estamos incertos sobre as previsões feitas com base na verdadeira linha de regressão."
   ]
  },
  {
   "cell_type": "markdown",
   "metadata": {},
   "source": [
    "**Questão 2.1.** Defina a função `fitted_value`. Ela deve receber quatro argumentos:\n",
    "\n",
    "1. `table`: uma tabela como `birds`. Estaremos prevendo os valores na segunda coluna usando a primeira.\n",
    "2. `x_col`: o nome da nossa coluna x dentro da `table` de entrada\n",
    "3. `y_col`: o nome da nossa coluna y dentro da `table` de entrada\n",
    "4. `given_x`: um número, o valor da variável preditora para a qual gostaríamos de fazer uma previsão.\n",
    "  \n",
    "A função deve retornar a previsão da linha para o x dado. **(8 pontos)**\n",
    "\n",
    "*Dica:* Certifique-se de usar a função `fit_line` que você definiu na Questão 1.3."
   ]
  },
  {
   "cell_type": "code",
   "execution_count": null,
   "metadata": {
    "ExecuteTime": {
     "end_time": "2018-04-11T12:05:53.935846Z",
     "start_time": "2018-04-11T12:05:53.927826Z"
    },
    "for_assignment_type": "solution",
    "tags": []
   },
   "outputs": [],
   "source": [
    "def fitted_value(table, x_col, y_col, given_x):\n",
    "    line = ...\n",
    "    slope = ...\n",
    "    intercept = ...\n",
    "    ...\n",
    "\n",
    "# Aqui está um exemplo de como fitted_value é usado. O código abaixo\n",
    "# calcula a previsão para o peso do pássaro, em gramas, baseado em\n",
    "# um peso de ovo de 8 gramas.\n",
    "egg_weight_eight = fitted_value(birds, \"Egg Weight\", \"Bird Weight\", 8)\n",
    "egg_weight_eight"
   ]
  },
  {
   "cell_type": "code",
   "execution_count": null,
   "metadata": {
    "deletable": false,
    "editable": false
   },
   "outputs": [],
   "source": [
    "grader.check(\"q2_1\")"
   ]
  },
  {
   "cell_type": "markdown",
   "metadata": {},
   "source": [
    "**Questão 2.2.** Raymond, o especialista residente em Batuíra-de-coleira em Point Reyes, nos informa que o ovo que ele tem observado cuidadosamente tem um peso de 9 gramas. Usando `fitted_value` acima, atribua a variável `experts_egg` ao peso previsto do pássaro para o ovo de Raymond."
   ]
  },
  {
   "cell_type": "code",
   "execution_count": null,
   "metadata": {
    "ExecuteTime": {
     "end_time": "2018-04-11T12:05:54.430725Z",
     "start_time": "2018-04-11T12:05:54.424720Z"
    },
    "deletable": false,
    "tags": []
   },
   "outputs": [],
   "source": [
    "experts_egg = ...\n",
    "experts_egg"
   ]
  },
  {
   "cell_type": "code",
   "execution_count": null,
   "metadata": {
    "deletable": false,
    "editable": false
   },
   "outputs": [],
   "source": [
    "grader.check(\"q2_2\")"
   ]
  },
  {
   "cell_type": "code",
   "execution_count": null,
   "metadata": {
    "scrolled": true
   },
   "outputs": [],
   "source": [
    "# Vamos olhar o número de linhas na tabela birds.\n",
    "birds.num_rows"
   ]
  },
  {
   "cell_type": "markdown",
   "metadata": {},
   "source": [
    "Um frequentador do parque levanta a seguinte objeção à sua previsão:\n",
    "\n",
    "> \"Sua previsão depende da sua amostra de 44 pássaros. Sua previsão mudaria se você tivesse uma amostra diferente de 44 pássaros?\"\n",
    "\n",
    "Tendo lido a seção [16.3](https://inferentialthinking.com/chapters/16/3/Prediction_Intervals.html) do livro didático, você sabe exatamente como responder! Se a amostra fosse diferente, a linha de regressão também seria diferente. Isso resultaria em uma previsão diferente. Para ver quão boa é nossa previsão, precisamos ter uma ideia de quão variável a previsão pode ser."
   ]
  },
  {
   "cell_type": "markdown",
   "metadata": {},
   "source": [
    "**Questão 2.3.** Defina uma função `compute_resampled_line` que recebe uma tabela `tbl` e dois nomes de colunas, `x_col` e `y_col`, e retorna um array contendo os parâmetros da melhor linha de ajuste (inclinação e interceptação) para uma reamostragem bootstrap da tabela."
   ]
  },
  {
   "cell_type": "code",
   "execution_count": null,
   "metadata": {
    "tags": []
   },
   "outputs": [],
   "source": [
    "def compute_resampled_line(tbl, x_col, y_col):\n",
    "    resample = ...\n",
    "    resampled_line = ...\n",
    "    ..."
   ]
  },
  {
   "cell_type": "code",
   "execution_count": null,
   "metadata": {
    "deletable": false,
    "editable": false
   },
   "outputs": [],
   "source": [
    "grader.check(\"q2_3\")"
   ]
  },
  {
   "cell_type": "markdown",
   "metadata": {},
   "source": [
    "**Execute** a célula a seguir para definir a função `bootstrap_lines`. Ela recebe quatro argumentos:\n",
    "1. `tbl`: uma tabela como `birds`\n",
    "2. `x_col`: o nome da nossa coluna x dentro da tabela de entrada `tbl`\n",
    "3. `y_col`: o nome da nossa coluna y dentro da tabela de entrada `tbl`\n",
    "4. `num_bootstraps`: um inteiro, o número de reamostragens bootstrap a serem realizadas.\n",
    "\n",
    "Ela retorna uma *tabela* com uma linha para cada reamostra bootstrap e as seguintes duas colunas:\n",
    "1. `Slope`: as inclinações obtidas por bootstrap\n",
    "2. `Intercept`: as interceptações correspondentes obtidas por bootstrap"
   ]
  },
  {
   "cell_type": "code",
   "execution_count": null,
   "metadata": {
    "ExecuteTime": {
     "end_time": "2018-04-11T12:05:55.698074Z",
     "start_time": "2018-04-11T12:05:55.243866Z"
    },
    "for_assignment_type": "solution"
   },
   "outputs": [],
   "source": [
    "# Apenas execute esta célula\n",
    "def bootstrap_lines(tbl, x_col, y_col, num_bootstraps):\n",
    "    resampled_slopes = make_array()\n",
    "    resampled_intercepts = make_array() \n",
    "    for i in np.arange(num_bootstraps): \n",
    "        resampled_line = compute_resampled_line(tbl, x_col, y_col) \n",
    "        resampled_slope = resampled_line.item(0) \n",
    "        resampled_intercept = resampled_line.item(1) \n",
    "        resampled_slopes = np.append(resampled_slopes,resampled_slope)\n",
    "        resampled_intercepts = np.append(resampled_intercepts,resampled_intercept)\n",
    "    tbl_lines = Table().with_columns('Slope', resampled_slopes, 'Intercept', resampled_intercepts)\n",
    "    return tbl_lines\n",
    "\n",
    "regression_lines = bootstrap_lines(birds, \"Egg Weight\", \"Bird Weight\", 1000)\n",
    "regression_lines"
   ]
  },
  {
   "cell_type": "markdown",
   "metadata": {},
   "source": [
    "<!-- BEGIN QUESTION -->\n",
    "\n",
    "**Questão 2.4.** Crie um array chamado `predictions_for_eight` que contém os pesos previstos dos pássaros com base em um ovo de 8 gramas para cada linha de regressão em `regression_lines`. **(8 pontos)**\n"
   ]
  },
  {
   "cell_type": "code",
   "execution_count": null,
   "metadata": {
    "ExecuteTime": {
     "end_time": "2018-04-11T12:05:55.991855Z",
     "start_time": "2018-04-11T12:05:55.759236Z"
    },
    "deletable": false,
    "scrolled": true,
    "tags": []
   },
   "outputs": [],
   "source": [
    "predictions_for_eight = ...\n",
    "\n",
    "# Isso criará um histograma das suas previsões:\n",
    "table_of_predictions = Table().with_column('Predictions at Egg Weight=8', predictions_for_eight)\n",
    "table_of_predictions.hist('Predictions at Egg Weight=8', bins=20)"
   ]
  },
  {
   "cell_type": "code",
   "execution_count": null,
   "metadata": {
    "deletable": false,
    "editable": false
   },
   "outputs": [],
   "source": [
    "grader.check(\"q2_4\")"
   ]
  },
  {
   "cell_type": "markdown",
   "metadata": {},
   "source": [
    "<!-- END QUESTION -->\n",
    "\n",
    "**Questão 2.5.** Crie um intervalo de confiança aproximado de 95% para essas previsões. **(6 pontos)**\n"
   ]
  },
  {
   "cell_type": "code",
   "execution_count": null,
   "metadata": {
    "ExecuteTime": {
     "end_time": "2018-04-11T12:05:56.097136Z",
     "start_time": "2018-04-11T12:05:56.089117Z"
    },
    "deletable": false,
    "scrolled": true,
    "tags": []
   },
   "outputs": [],
   "source": [
    "lower_bound = ...\n",
    "upper_bound = ...\n",
    "\n",
    "print('95% Confidence interval for predictions for x=8: (', lower_bound,\",\", upper_bound, ')')"
   ]
  },
  {
   "cell_type": "code",
   "execution_count": null,
   "metadata": {
    "deletable": false,
    "editable": false
   },
   "outputs": [],
   "source": [
    "grader.check(\"q2_5\")"
   ]
  },
  {
   "cell_type": "markdown",
   "metadata": {},
   "source": [
    "**Questão 2.6.** Atribua `plover_statements` a um array de inteiro(s) que corresponda(m) a afirmação(ões) verdadeira(s). **(6 pontos)**\n",
    "\n",
    "1. O intervalo de confiança de 95% cobre 95% dos pesos dos pássaros para ovos que tinham um peso de oito gramas em `birds`.\n",
    "\n",
    "2. O intervalo de confiança de 95% dá uma ideia de quanto os pesos reais diferem da sua previsão.\n",
    "\n",
    "3. O intervalo de confiança de 95% quantifica a incerteza na nossa estimativa do que a verdadeira linha preveria."
   ]
  },
  {
   "cell_type": "code",
   "execution_count": null,
   "metadata": {
    "ExecuteTime": {
     "end_time": "2018-04-11T12:05:56.479878Z",
     "start_time": "2018-04-11T12:05:56.476869Z"
    },
    "deletable": false,
    "tags": []
   },
   "outputs": [],
   "source": [
    "plover_statements = ..."
   ]
  },
  {
   "cell_type": "code",
   "execution_count": null,
   "metadata": {
    "deletable": false,
    "editable": false
   },
   "outputs": [],
   "source": [
    "grader.check(\"q2_6\")"
   ]
  },
  {
   "cell_type": "markdown",
   "metadata": {},
   "source": [
    "Você concluiu a Lição de Casa 11!\n",
    "\n",
    "**Passos importantes para a submissão:**\n",
    "1. Execute os testes e verifique se todos passaram.\n",
    "2. Escolha **Salvar Caderno** no menu **Arquivo**, depois **execute a célula final**.\n",
    "3. Clique no link para baixar o arquivo zip.\n",
    "4. Então, submeta o arquivo zip para a tarefa correspondente de acordo com as instruções do seu instrutor.\n",
    "\n",
    "**É sua responsabilidade garantir que seu trabalho esteja salvo antes de executar a última célula.**"
   ]
  },
  {
   "cell_type": "markdown",
   "metadata": {
    "deletable": false,
    "editable": false
   },
   "source": [
    "## Submissão\n",
    "\n",
    "Certifique-se de ter executado todas as células no seu caderno em ordem antes de executar a célula abaixo, para que todas as imagens/gráficos apareçam na saída. A célula abaixo irá gerar um arquivo zip para você submeter. **Por favor, salve antes de exportar!**"
   ]
  },
  {
   "cell_type": "code",
   "execution_count": null,
   "metadata": {
    "deletable": false,
    "editable": false
   },
   "outputs": [],
   "source": [
    "# Salve seu caderno primeiro, depois execute esta célula para exportar sua submissão.\n",
    "grader.export(pdf=False, run_tests=True)"
   ]
  },
  {
   "cell_type": "markdown",
   "metadata": {},
   "source": [
    " "
   ]
  }
 ],
 "metadata": {
  "kernelspec": {
   "display_name": "Python 3 (ipykernel)",
   "language": "python",
   "name": "python3"
  },
  "language_info": {
   "codemirror_mode": {
    "name": "ipython",
    "version": 3
   },
   "file_extension": ".py",
   "mimetype": "text/x-python",
   "name": "python",
   "nbconvert_exporter": "python",
   "pygments_lexer": "ipython3",
   "version": "3.9.10"
  },
  "otter": {
   "OK_FORMAT": true,
   "tests": {
    "q1_2": {
     "name": "q1_2",
     "points": [
      0
     ],
     "suites": [
      {
       "cases": [
        {
         "code": ">>> # Ensure your correlation function returns one number between -1 and 1\n>>> abs(correlation(Table().with_columns('a', np.random.normal(0, 1, 10),'b', np.random.normal(0, 1, 10)), \"a\", \"b\")) <= 1\nTrue",
         "hidden": false,
         "locked": false
        }
       ],
       "scored": true,
       "setup": "",
       "teardown": "",
       "type": "doctest"
      }
     ]
    },
    "q1_3": {
     "name": "q1_3",
     "points": [
      0,
      0,
      2
     ],
     "suites": [
      {
       "cases": [
        {
         "code": ">>> type(fit_line(Table().with_columns('x', make_array(0, 1), 'y', make_array(1, 3)), \"x\", \"y\")) == np.ndarray\nTrue",
         "hidden": false,
         "locked": false
        },
        {
         "code": ">>> len(fit_line(Table().with_columns('x', make_array(0, 1), 'y', make_array(1, 3)), \"x\", \"y\")) == 2\nTrue",
         "hidden": false,
         "locked": false
        },
        {
         "code": ">>> np.allclose(np.round(fit_line(Table().with_columns('x', make_array(0, 1), 'y', make_array(1, 3)), \"x\", \"y\"), 5), np.array([2, 1]))\nTrue",
         "hidden": false,
         "locked": false
        }
       ],
       "scored": true,
       "setup": "",
       "teardown": "",
       "type": "doctest"
      }
     ]
    },
    "q1_4": {
     "name": "q1_4",
     "points": null,
     "suites": [
      {
       "cases": [
        {
         "code": ">>> len(resampled_slopes) == 1000\nTrue",
         "hidden": false,
         "locked": false
        }
       ],
       "scored": true,
       "setup": "",
       "teardown": "",
       "type": "doctest"
      }
     ]
    },
    "q1_5": {
     "name": "q1_5",
     "points": [
      0,
      0
     ],
     "suites": [
      {
       "cases": [
        {
         "code": ">>> lower_end > 0\nTrue",
         "hidden": false,
         "locked": false
        },
        {
         "code": ">>> upper_end < 4\nTrue",
         "hidden": false,
         "locked": false
        }
       ],
       "scored": true,
       "setup": "",
       "teardown": "",
       "type": "doctest"
      }
     ]
    },
    "q2_1": {
     "name": "q2_1",
     "points": [
      0
     ],
     "suites": [
      {
       "cases": [
        {
         "code": ">>> type(egg_weight_eight) in set([float, np.float32, np.float64])\nTrue",
         "hidden": false,
         "locked": false
        }
       ],
       "scored": true,
       "setup": "",
       "teardown": "",
       "type": "doctest"
      }
     ]
    },
    "q2_2": {
     "name": "q2_2",
     "points": [
      0
     ],
     "suites": [
      {
       "cases": [
        {
         "code": ">>> type(experts_egg) in set([float, np.float32, np.float64])\nTrue",
         "hidden": false,
         "locked": false
        }
       ],
       "scored": true,
       "setup": "",
       "teardown": "",
       "type": "doctest"
      }
     ]
    },
    "q2_3": {
     "name": "q2_3",
     "points": [
      0
     ],
     "suites": [
      {
       "cases": [
        {
         "code": ">>> len(compute_resampled_line(Table().with_columns('x', make_array(0, 1), 'y', make_array(1, 3)), \"x\", \"y\")) == 2\nTrue",
         "hidden": false,
         "locked": false
        }
       ],
       "scored": true,
       "setup": "",
       "teardown": "",
       "type": "doctest"
      }
     ]
    },
    "q2_4": {
     "name": "q2_4",
     "points": null,
     "suites": [
      {
       "cases": [
        {
         "code": ">>> len(predictions_for_eight) == regression_lines.num_rows\nTrue",
         "hidden": false,
         "locked": false
        }
       ],
       "scored": true,
       "setup": "",
       "teardown": "",
       "type": "doctest"
      }
     ]
    },
    "q2_5": {
     "name": "q2_5",
     "points": [
      0,
      0
     ],
     "suites": [
      {
       "cases": [
        {
         "code": ">>> lower_bound > 5\nTrue",
         "hidden": false,
         "locked": false
        },
        {
         "code": ">>> upper_bound < 6.5\nTrue",
         "hidden": false,
         "locked": false
        }
       ],
       "scored": true,
       "setup": "",
       "teardown": "",
       "type": "doctest"
      }
     ]
    },
    "q2_6": {
     "name": "q2_6",
     "points": [
      0
     ],
     "suites": [
      {
       "cases": [
        {
         "code": ">>> type(plover_statements) == np.ndarray\nTrue",
         "hidden": false,
         "locked": false
        }
       ],
       "scored": true,
       "setup": "",
       "teardown": "",
       "type": "doctest"
      }
     ]
    }
   }
  }
 },
 "nbformat": 4,
 "nbformat_minor": 5
}
