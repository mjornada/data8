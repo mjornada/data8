{
 "cells": [
  {
   "cell_type": "code",
   "execution_count": null,
   "metadata": {
    "deletable": false,
    "editable": false
   },
   "outputs": [],
   "source": [
    "# Inicialize Otter\n",
    "import otter\n",
    "grader = otter.Notebook(\"hw02.ipynb\")"
   ]
  },
  {
   "cell_type": "markdown",
   "metadata": {},
   "source": [
    "# Trabalho de Casa 2: Arrays e Tabelas\n",
    "\n",
    "Por favor, complete este notebook preenchendo as células fornecidas. Antes de começar, execute a célula anterior para carregar os testes fornecidos."
   ]
  },
  {
   "cell_type": "code",
   "execution_count": null,
   "metadata": {},
   "outputs": [],
   "source": [
    "# Execute esta célula e ignore a saída. Ela está verificando se você executou a primeira célula!\n",
    "# Se você receber um NameError, por favor, execute a célula no topo deste notebook!\n",
    "\n",
    "grader"
   ]
  },
  {
   "cell_type": "markdown",
   "metadata": {},
   "source": [
    "**Recurso útil:**\n",
    "- [Referência Python](http://data8.org/sp22/python-reference.html): Folha de dicas de métodos úteis de array e tabela usados em Data 8!\n",
    "\n",
    "**Leituras recomendadas:**\n",
    "- [Arrays](https://inferentialthinking.com/chapters/05/1/Arrays.html)\n",
    "- [O que é Ciência de Dados?](http://www.inferentialthinking.com/chapters/01/what-is-data-science.html)\n",
    "- [Causalidade e Experimentos](http://www.inferentialthinking.com/chapters/02/causality-and-experiments.html) \n",
    "- [Programando em Python](http://www.inferentialthinking.com/chapters/03/programming-in-python.html)\n",
    "\n",
    "Para todos os problemas que você deve escrever explicações e frases, você **deve** fornecer sua resposta no espaço designado. Além disso, ao longo deste trabalho de casa e todos os futuros, **por favor, certifique-se de não reatribuir variáveis ao longo do notebook!** Por exemplo, se você usar `max_temperature` em sua resposta a uma pergunta, não a reatribua mais tarde. Caso contrário, você falhará em testes que pensou que estava passando anteriormente!\n",
    "\n",
    "**Nota: Este trabalho de casa tem testes ocultos. Isso significa que mesmo que os testes digam que 100% passaram, isso não significa que sua nota final será 100%. Estaremos executando mais testes de correção depois que todos entregarem o trabalho de casa.**\n",
    "\n",
    "Compartilhar respostas diretamente não é permitido, mas discutir problemas com a equipe do curso ou com outros alunos é incentivado. Consulte a página de políticas para saber mais sobre como aprender de forma cooperativa.\n",
    "\n",
    "Você deve começar cedo para ter tempo de obter ajuda se estiver preso."
   ]
  },
  {
   "cell_type": "markdown",
   "metadata": {},
   "source": [
    "## 1. Criando Arrays"
   ]
  },
  {
   "cell_type": "code",
   "execution_count": null,
   "metadata": {},
   "outputs": [],
   "source": [
    "# Execute esta célula para configurar o notebook, mas por favor, não a altere.\n",
    "\n",
    "import numpy as np\n",
    "from datascience import *\n",
    "import d8error\n",
    "import warnings\n",
    "warnings.simplefilter('ignore', FutureWarning)"
   ]
  },
  {
   "cell_type": "markdown",
   "metadata": {},
   "source": [
    "**Questão 1.** Crie um array chamado `weird_numbers` contendo os seguintes números (na ordem dada) **(4 Pontos)**:\n",
    "\n",
    "1. -2\n",
    "2. o piso de 12.6\n",
    "3. 3\n",
    "4. 5 elevado ao teto de 5.3\n",
    "\n",
    "*Dica:* `floor` e `ceil` são funções do módulo `math`. A importação de módulos é abordada no Laboratório 2!\n",
    "\n",
    "*Nota:* As listas Python são diferentes/se comportam de maneira diferente dos arrays NumPy. Em Data 8, usamos arrays NumPy, então por favor crie um **array**, não uma lista Python."
   ]
  },
  {
   "cell_type": "code",
   "execution_count": null,
   "metadata": {
    "tags": []
   },
   "outputs": [],
   "source": [
    "# Nossa solução envolveu uma linha extra de código antes de criar\n",
    "# weird_numbers.\n",
    "...\n",
    "weird_numbers = ...\n",
    "weird_numbers"
   ]
  },
  {
   "cell_type": "code",
   "execution_count": null,
   "metadata": {
    "deletable": false,
    "editable": false
   },
   "outputs": [],
   "source": [
    "grader.check(\"q1_1\")"
   ]
  },
  {
   "cell_type": "markdown",
   "metadata": {},
   "source": [
    "**Questão 2.** Crie um array chamado `book_title_words` contendo as seguintes três strings: \"Eats\", \"Shoots\" e \"Leaves\". **(4 Pontos)**"
   ]
  },
  {
   "cell_type": "code",
   "execution_count": null,
   "metadata": {
    "tags": []
   },
   "outputs": [],
   "source": [
    "book_title_words = ...\n",
    "book_title_words"
   ]
  },
  {
   "cell_type": "code",
   "execution_count": null,
   "metadata": {
    "deletable": false,
    "editable": false
   },
   "outputs": [],
   "source": [
    "grader.check(\"q1_2\")"
   ]
  },
  {
   "cell_type": "markdown",
   "metadata": {},
   "source": [
    "As strings têm um método chamado `join`. `join` recebe um argumento, um array de strings. Ele retorna uma única string. Especificamente, o valor de `a_string.join(an_array)` é uma única string que é a [concatenação](https://en.wikipedia.org/wiki/Concatenation) (\"juntando\") de todas as strings em `an_array`, **exceto** `a_string` é inserida entre cada string.\n",
    "\n",
    "**Questão 3.** Use o array `book_title_words` e o método `join` para fazer duas strings **(4 Pontos)**:\n",
    "\n",
    "1. \"Eats, Shoots, and Leaves\" (chame esta de `with_commas`)\n",
    "2. \"Eats Shoots and Leaves\" (chame esta de `without_commas`)\n",
    "\n",
    "*Dica:* Se você não tem certeza do que `join` faz, primeiro tente apenas chamar, por exemplo, `\"data8\".join(book_title_words)`."
   ]
  },
  {
   "cell_type": "code",
   "execution_count": null,
   "metadata": {
    "tags": []
   },
   "outputs": [],
   "source": [
    "with_commas = ...\n",
    "without_commas = ...\n",
    "\n",
    "# Estas linhas são fornecidas apenas para imprimir suas respostas.\n",
    "print('with_commas:', with_commas) \n",
    "print('without_commas:', without_commas)"
   ]
  },
  {
   "cell_type": "code",
   "execution_count": null,
   "metadata": {
    "deletable": false,
    "editable": false
   },
   "outputs": [],
   "source": [
    "grader.check(\"q1_3\")"
   ]
  },
  {
   "cell_type": "markdown",
   "metadata": {},
   "source": [
    "## 2. Indexando Arrays"
   ]
  },
  {
   "cell_type": "markdown",
   "metadata": {},
   "source": [
    "Estes exercícios oferecem prática no acesso a elementos individuais de arrays. Em Python (e em muitas linguagens de programação), cada elemento é acessado por seu *índice*; por exemplo, o primeiro elemento é o elemento no índice 0. Os índices devem ser **inteiros**.\n",
    "\n",
    "***Nota:* Se você tem experiência prévia em codificação, pode estar familiarizado com a notação de colchetes. NÃO use a notação de colchetes ao indexar (ou seja, `arr[0]`), pois isso pode produzir diferentes tipos de dados de saída do que o que estaremos esperando. Isso pode fazer com que você falhe em um teste do corretor automático.**\n",
    "\n",
    "Certifique-se de consultar a [Referência Python](http://data8.org/sp22/python-reference.html) no site se você se sentir preso!"
   ]
  },
  {
   "cell_type": "markdown",
   "metadata": {},
   "source": [
    "**Questão 1.** A célula abaixo cria um array de alguns números. Defina `third_element` como o terceiro elemento de `some_numbers`. **(4 Pontos)**"
   ]
  },
  {
   "cell_type": "code",
   "execution_count": null,
   "metadata": {
    "tags": []
   },
   "outputs": [],
   "source": [
    "some_numbers = make_array(-1, -3, -6, -10, -15)\n",
    "\n",
    "third_element = ...\n",
    "third_element"
   ]
  },
  {
   "cell_type": "code",
   "execution_count": null,
   "metadata": {
    "deletable": false,
    "editable": false
   },
   "outputs": [],
   "source": [
    "grader.check(\"q2_1\")"
   ]
  },
  {
   "cell_type": "markdown",
   "metadata": {},
   "source": [
    "**Questão 2.** A próxima célula cria uma tabela que exibe algumas informações sobre os elementos de `some_numbers` e sua ordem. Execute a célula para ver a tabela parcialmente preenchida, em seguida, preencha as informações em falta (as células que dizem \"Ellipsis\") atribuindo `blank_a`, `blank_b`, `blank_c`, e `blank_d` aos elementos corretos na tabela. **(4 Pontos)**\n",
    "\n",
    "*Dica:* Substitua os `...` por strings ou números. Como lembrete, os índices devem ser **inteiros**."
   ]
  },
  {
   "cell_type": "code",
   "execution_count": null,
   "metadata": {
    "for_assignment_type": "student",
    "tags": []
   },
   "outputs": [],
   "source": [
    "blank_a = ...\n",
    "blank_b = ...\n",
    "blank_c = ...\n",
    "blank_d = ...\n",
    "elements_of_some_numbers = Table().with_columns(\n",
    "    \"English name for position\", make_array(\"first\", \"second\", blank_a, blank_b, \"fifth\"),\n",
    "    \"Index\",                     make_array(blank_c, 1, 2, blank_d, 4),\n",
    "    \"Element\",                   some_numbers)\n",
    "elements_of_some_numbers"
   ]
  },
  {
   "cell_type": "code",
   "execution_count": null,
   "metadata": {
    "deletable": false,
    "editable": false
   },
   "outputs": [],
   "source": [
    "grader.check(\"q2_2\")"
   ]
  },
  {
   "cell_type": "markdown",
   "metadata": {},
   "source": [
    "**Questão 3.** Às vezes, você vai querer encontrar o **último** elemento de um array. Suponha que um array tenha 142 elementos. Qual é o índice do último elemento? **(4 Pontos)**"
   ]
  },
  {
   "cell_type": "code",
   "execution_count": null,
   "metadata": {
    "tags": []
   },
   "outputs": [],
   "source": [
    "index_of_last_element = ..."
   ]
  },
  {
   "cell_type": "code",
   "execution_count": null,
   "metadata": {
    "deletable": false,
    "editable": false
   },
   "outputs": [],
   "source": [
    "grader.check(\"q2_3\")"
   ]
  },
  {
   "cell_type": "markdown",
   "metadata": {},
   "source": [
    "Muitas vezes, você não sabe o número de elementos em um array, seu *comprimento*. (Por exemplo, pode ser um grande conjunto de dados que você encontrou na Internet.) A função `len` recebe um único argumento, um array, e retorna um número inteiro que representa o `comprimento` desse array.\n",
    "\n",
    "**Questão 4.** A célula abaixo carrega um array chamado `president_birth_years`. Chamar `tbl.column(...)` em uma tabela retorna um array da coluna especificada, neste caso a coluna `Birth Year` da tabela `president_births`. O último elemento desse array é o mais recente entre os anos de nascimento de todos os presidentes falecidos. Atribua esse ano a `most_recent_birth_year`. **(4 Pontos)**"
   ]
  },
  {
   "cell_type": "code",
   "execution_count": null,
   "metadata": {
    "tags": []
   },
   "outputs": [],
   "source": [
    "president_birth_years = Table.read_table(\"president_births.csv\").column('Birth Year')\n",
    "\n",
    "most_recent_birth_year = ...\n",
    "most_recent_birth_year"
   ]
  },
  {
   "cell_type": "code",
   "execution_count": null,
   "metadata": {
    "deletable": false,
    "editable": false
   },
   "outputs": [],
   "source": [
    "grader.check(\"q2_4\")"
   ]
  },
  {
   "cell_type": "markdown",
   "metadata": {},
   "source": [
    "**Questão 5.** Finalmente, atribua `min_of_birth_years` ao mínimo entre os anos de nascimento do primeiro, décimo sexto e último presidente listados em `president_birth_years`. **(4 Pontos)**"
   ]
  },
  {
   "cell_type": "code",
   "execution_count": null,
   "metadata": {
    "tags": []
   },
   "outputs": [],
   "source": [
    "min_of_birth_years = ...\n",
    "min_of_birth_years"
   ]
  },
  {
   "cell_type": "code",
   "execution_count": null,
   "metadata": {
    "deletable": false,
    "editable": false
   },
   "outputs": [],
   "source": [
    "grader.check(\"q2_5\")"
   ]
  },
  {
   "cell_type": "markdown",
   "metadata": {},
   "source": [
    "## 3. Aritmética Básica de Arrays"
   ]
  },
  {
   "cell_type": "markdown",
   "metadata": {},
   "source": [
    "**Questão 1.** Multiplique os números 42, -4224, 424224242 e 250 por 157. Atribua cada variável abaixo de forma que `first_product` seja atribuído ao resultado de $42 * 157$, `second_product` seja atribuído ao resultado de $-4224 * 157$, e assim por diante. **(4 Pontos)**\n",
    "\n",
    "*Nota*: Para esta questão, **não** use arrays."
   ]
  },
  {
   "cell_type": "code",
   "execution_count": null,
   "metadata": {
    "tags": []
   },
   "outputs": [],
   "source": [
    "first_product = ...\n",
    "second_product = ...\n",
    "third_product = ...\n",
    "fourth_product = ...\n",
    "print(\"First Product:\", first_product)\n",
    "print(\"Second Product:\", second_product)\n",
    "print(\"Third Product:\", third_product)\n",
    "print(\"Fourth Product:\", fourth_product)"
   ]
  },
  {
   "cell_type": "code",
   "execution_count": null,
   "metadata": {
    "deletable": false,
    "editable": false
   },
   "outputs": [],
   "source": [
    "grader.check(\"q3_1\")"
   ]
  },
  {
   "cell_type": "markdown",
   "metadata": {},
   "source": [
    "**Questão 2.** Agora, faça o mesmo cálculo, mas usando um array chamado `numbers` e apenas um único operador de multiplicação (`*`). Armazene os 4 resultados em um array chamado `products`. **(4 Pontos)**"
   ]
  },
  {
   "cell_type": "code",
   "execution_count": null,
   "metadata": {
    "tags": []
   },
   "outputs": [],
   "source": [
    "numbers = ...\n",
    "products = ...\n",
    "products"
   ]
  },
  {
   "cell_type": "code",
   "execution_count": null,
   "metadata": {
    "deletable": false,
    "editable": false
   },
   "outputs": [],
   "source": [
    "grader.check(\"q3_2\")"
   ]
  },
  {
   "cell_type": "markdown",
   "metadata": {},
   "source": [
    "**Questão 3.** Ops, cometemos um erro de digitação! Em vez de 157, queríamos multiplicar cada número por 1577. Calcule os produtos corretos na célula abaixo usando aritmética de array. Observe que seu trabalho é realmente fácil se você definiu anteriormente um array contendo os 4 números. **(4 Pontos)**"
   ]
  },
  {
   "cell_type": "code",
   "execution_count": null,
   "metadata": {
    "tags": []
   },
   "outputs": [],
   "source": [
    "correct_products = ...\n",
    "correct_products"
   ]
  },
  {
   "cell_type": "code",
   "execution_count": null,
   "metadata": {
    "deletable": false,
    "editable": false
   },
   "outputs": [],
   "source": [
    "grader.check(\"q3_3\")"
   ]
  },
  {
   "cell_type": "markdown",
   "metadata": {},
   "source": [
    "**Questão 4.** Carregamos um array de temperaturas na próxima célula. Cada número é a temperatura mais alta observada em um dia em uma estação de observação climática, principalmente dos EUA. Como são da agência governamental dos EUA [NOAA](https://www.noaa.gov/), todas as temperaturas estão em Fahrenheit.\n",
    "\n",
    "Converta todas as temperaturas para Celsius subtraindo primeiro 32 delas, depois multiplicando os resultados por $\\frac{5}{9}$, ou seja, $C = (F - 32) * \\frac{5}{9}$. Após converter as temperaturas para Celsius, certifique-se de **ARREDONDAR** o resultado final para o inteiro mais próximo usando a função `np.round`. **(4 Pontos)**"
   ]
  },
  {
   "cell_type": "code",
   "execution_count": null,
   "metadata": {
    "tags": []
   },
   "outputs": [],
   "source": [
    "max_temperatures = Table.read_table(\"temperatures.csv\").column(\"Daily Max Temperature\")\n",
    "\n",
    "celsius_max_temperatures = ...\n",
    "celsius_max_temperatures"
   ]
  },
  {
   "cell_type": "code",
   "execution_count": null,
   "metadata": {
    "deletable": false,
    "editable": false
   },
   "outputs": [],
   "source": [
    "grader.check(\"q3_4\")"
   ]
  },
  {
   "cell_type": "markdown",
   "metadata": {},
   "source": [
    "**Questão 5.** A célula abaixo carrega todas as *menores* temperaturas de cada dia (em Fahrenheit). Calcule a variação de temperatura diária para cada dia. Ou seja, calcule a diferença entre cada temperatura máxima diária e a correspondente temperatura mínima diária. **Preste atenção nas unidades e dê sua resposta em Celsius!** Certifique-se de **NÃO** arredondar sua resposta para esta questão! **(4 Pontos)**\n",
    "\n",
    "*Nota:* Lembre-se de que na Questão 4, `celsius_max_temperatures` foi arredondado, então você pode não querer usar essa variável nesta questão."
   ]
  },
  {
   "cell_type": "code",
   "execution_count": null,
   "metadata": {
    "tags": []
   },
   "outputs": [],
   "source": [
    "min_temperatures = Table.read_table(\"temperatures.csv\").column(\"Daily Min Temperature\")\n",
    "\n",
    "celsius_temperature_ranges = ...\n",
    "celsius_temperature_ranges"
   ]
  },
  {
   "cell_type": "code",
   "execution_count": null,
   "metadata": {
    "deletable": false,
    "editable": false
   },
   "outputs": [],
   "source": [
    "grader.check(\"q3_5\")"
   ]
  },
  {
   "cell_type": "markdown",
   "metadata": {},
   "source": [
    "## 4. Velho Fiel"
   ]
  },
  {
   "cell_type": "markdown",
   "metadata": {},
   "source": [
    "Old Faithful is a geyser in Yellowstone that erupts every 44 to 125 minutes (according to [Wikipedia](https://en.wikipedia.org/wiki/Old_Faithful)). People are [often told that the geyser erupts every hour](http://yellowstone.net/geysers/old-faithful/), but in fact the waiting time between eruptions is more variable. Let's take a look.\n",
    "\n",
    "O Velho Fiel é um gêiser em Yellowstone que entra em erupção a cada 44 a 125 minutos (de acordo com a [Wikipedia](https://en.wikipedia.org/wiki/Old_Faithful)). As pessoas são [frequentemente informadas de que o gêiser entra em erupção a cada hora](http://yellowstone.net/geysers/old-faithful/), mas na verdade o tempo de espera entre as erupções é mais variável. Vamos dar uma olhada."
   ]
  },
  {
   "cell_type": "markdown",
   "metadata": {},
   "source": [
    "**Questão 1.** A primeira linha abaixo atribui `waiting_times` a um array de 272 tempos de espera consecutivos entre erupções, retirados de um clássico conjunto de dados de 1938. Atribua os nomes `shortest`, `longest` e `average` para que a instrução `print` esteja correta. **(4 Pontos)**"
   ]
  },
  {
   "cell_type": "code",
   "execution_count": null,
   "metadata": {
    "tags": []
   },
   "outputs": [],
   "source": [
    "waiting_times = Table.read_table('old_faithful.csv').column('waiting')\n",
    "\n",
    "shortest = ...\n",
    "longest = ...\n",
    "average = ...\n",
    "\n",
    "print(\"Old Faithful erupts every\", shortest, \"to\", longest, \"minutes and every\", average, \"minutes on average.\")"
   ]
  },
  {
   "cell_type": "code",
   "execution_count": null,
   "metadata": {
    "deletable": false,
    "editable": false
   },
   "outputs": [],
   "source": [
    "grader.check(\"q4_1\")"
   ]
  },
  {
   "cell_type": "markdown",
   "metadata": {},
   "source": [
    "**Questão 2.** Atribua `biggest_decrease` à maior diminuição no tempo de espera entre duas erupções consecutivas. Por exemplo, a terceira erupção ocorreu após 74 minutos e a quarta após 62 minutos, então a diminuição no tempo de espera foi de 74 - 62 = 12 minutos. **(4 Pontos)**\n",
    "\n",
    "*Dica*: Queremos retornar o valor absoluto da maior diminuição.\n",
    "\n",
    "*Nota*: `np.diff()` calcula a diferença entre valores subsequentes em um array. Por exemplo, chamar `np.diff()` no array `make_array(1, 8, 3, 5)` avalia para `array([8 - 1, 3 - 8, 5 - 3])`, ou `array([7, -5, 2])`."
   ]
  },
  {
   "cell_type": "code",
   "execution_count": null,
   "metadata": {
    "tags": []
   },
   "outputs": [],
   "source": [
    "# np.diff() calcula a diferença entre valores subsequentes\n",
    "# em um array NumPy.\n",
    "differences = np.diff(waiting_times)\n",
    "biggest_decrease = ...\n",
    "biggest_decrease"
   ]
  },
  {
   "cell_type": "code",
   "execution_count": null,
   "metadata": {
    "deletable": false,
    "editable": false
   },
   "outputs": [],
   "source": [
    "grader.check(\"q4_2\")"
   ]
  },
  {
   "cell_type": "markdown",
   "metadata": {},
   "source": [
    "**Questão 3.** A tabela `faithful_with_eruption_nums` contém duas colunas: `eruption_number`, que representa o número daquela erupção, e `waiting`, que representa o tempo gasto esperando após aquela erupção. Por exemplo, pegue as duas primeiras linhas da tabela:\n",
    "\n",
    "| número da erupção | espera |\n",
    "|-------------------|--------|\n",
    "| 1                 | 79     |\n",
    "| 2                 | 54     |\n",
    "\n",
    "Podemos ler isso da seguinte forma: após a primeira erupção, esperamos 79 minutos pela segunda erupção. Então, após a segunda erupção, esperamos 54 minutos pela terceira erupção.\n",
    "\n",
    "Suponha que Oscar e Wendy começaram a assistir ao Velho Fiel no início da primeira erupção. Suponha que eles assistam até o final da décima erupção. Durante parte desse tempo, eles estarão assistindo às erupções, e pelo resto do tempo, eles estarão esperando o Velho Fiel entrar em erupção. Quantos minutos eles passarão esperando pelas erupções? **(4 Pontos)**\n",
    "\n",
    "*Dica #1:* Uma maneira de abordar este problema é usar o método `take` ou `where` na tabela `faithful_with_eruption_nums`.\n",
    "\n",
    "*Dica #2:* `first_nine_waiting_times` deve ser um array."
   ]
  },
  {
   "cell_type": "code",
   "execution_count": null,
   "metadata": {
    "tags": []
   },
   "outputs": [],
   "source": [
    "# As duas linhas seguintes carregam nossa tabela faithful_with_eruption_nums\n",
    "faithful = Table.read_table('old_faithful.csv').drop(\"eruptions\")\n",
    "faithful_with_eruption_nums = faithful.with_column(\"eruption number\", np.arange(faithful.num_rows) + 1).select(1, 0)\n",
    "\n",
    "first_nine_waiting_times = ...\n",
    "total_waiting_time_until_tenth = ...\n",
    "total_waiting_time_until_tenth"
   ]
  },
  {
   "cell_type": "code",
   "execution_count": null,
   "metadata": {
    "deletable": false,
    "editable": false
   },
   "outputs": [],
   "source": [
    "grader.check(\"q4_3\")"
   ]
  },
  {
   "cell_type": "markdown",
   "metadata": {},
   "source": [
    "**Questão 4.** Vamos imaginar que seu palpite para o próximo tempo de espera fosse sempre apenas a duração do tempo de espera anterior. Se você sempre adivinhasse o tempo de espera anterior, qual seria o seu erro médio ao adivinhar os tempos de espera? **(4 Pontos)**\n",
    "\n",
    "Por exemplo, como os primeiros quatro tempos de espera são 79, 54, 74 e 62, a diferença média entre seu palpite e o tempo real para apenas as segunda, terceira e quarta erupções seria $\\frac{|79-54|+ |54-74|+ |74-62|}{3} = 19$."
   ]
  },
  {
   "cell_type": "code",
   "execution_count": null,
   "metadata": {
    "tags": []
   },
   "outputs": [],
   "source": [
    "differences = np.diff(waiting_times)\n",
    "average_error = ...\n",
    "average_error"
   ]
  },
  {
   "cell_type": "code",
   "execution_count": null,
   "metadata": {
    "deletable": false,
    "editable": false
   },
   "outputs": [],
   "source": [
    "grader.check(\"q4_4\")"
   ]
  },
  {
   "cell_type": "markdown",
   "metadata": {},
   "source": [
    "## 5. Tabelas"
   ]
  },
  {
   "cell_type": "markdown",
   "metadata": {},
   "source": [
    "**Questão 1.** Suponha que você tenha 4 maçãs, 3 laranjas e 3 abacaxis. (Talvez você esteja usando Python para resolver um problema de álgebra do ensino médio.) Crie uma tabela que contenha essas informações. Ela deve ter duas colunas: `fruit name` e `count`. Atribua a nova tabela à variável `fruits`. **(4 Pontos)**\n",
    "\n",
    "*Nota:* Use palavras em minúsculas e no singular para o nome de cada fruta, como `\"apple\"`.\n"
   ]
  },
  {
   "cell_type": "code",
   "execution_count": null,
   "metadata": {
    "tags": []
   },
   "outputs": [],
   "source": [
    "# Nossa solução usa 1 instrução dividida em 3 linhas.\n",
    "frutas = ...\n",
    "        ...\n",
    "        ...\n",
    "frutas"
   ]
  },
  {
   "cell_type": "code",
   "execution_count": null,
   "metadata": {
    "deletable": false,
    "editable": false
   },
   "outputs": [],
   "source": [
    "grader.check(\"q5_1\")"
   ]
  },
  {
   "cell_type": "markdown",
   "metadata": {},
   "source": [
    "**Questão 2.** O arquivo `inventory.csv` contém informações sobre o inventário de uma banca de frutas. Cada linha representa o conteúdo de uma caixa de frutas. Carregue-o como uma tabela chamada `inventory` usando a função `Table.read_table()`. `Table.read_table(...)` recebe um argumento (nome do arquivo de dados em formato de string) e retorna uma tabela. **(4 Pontos)**"
   ]
  },
  {
   "cell_type": "code",
   "execution_count": null,
   "metadata": {
    "tags": []
   },
   "outputs": [],
   "source": [
    "inventory = ...\n",
    "inventory"
   ]
  },
  {
   "cell_type": "code",
   "execution_count": null,
   "metadata": {
    "deletable": false,
    "editable": false
   },
   "outputs": [],
   "source": [
    "grader.check(\"q5_2\")"
   ]
  },
  {
   "cell_type": "markdown",
   "metadata": {},
   "source": [
    "**Questão 3.** Cada caixa na banca de frutas contém uma fruta diferente? Defina `all_different` como `True` se cada caixa contiver uma fruta diferente ou como `False` se várias caixas contiverem a mesma fruta. **(4 Pontos)**\n",
    "\n",
    "*Dica:* Você não precisa escrever código para calcular o valor Verdadeiro/Falso para `all_different`. Basta olhar para a tabela `inventory` e atribuir `all_different` a `True` ou `False` de acordo com o que você pode ver da tabela ao responder à pergunta."
   ]
  },
  {
   "cell_type": "code",
   "execution_count": null,
   "metadata": {
    "tags": []
   },
   "outputs": [],
   "source": [
    "all_different = ...\n",
    "all_different"
   ]
  },
  {
   "cell_type": "code",
   "execution_count": null,
   "metadata": {
    "deletable": false,
    "editable": false
   },
   "outputs": [],
   "source": [
    "grader.check(\"q5_3\")"
   ]
  },
  {
   "cell_type": "markdown",
   "metadata": {},
   "source": [
    "**Questão 4.** O arquivo `sales.csv` contém o número de frutas vendidas de cada caixa no último sábado. Ele tem uma coluna extra chamada `price per fruit ($)` que é o preço *por item de fruta* para a fruta naquela caixa. As linhas estão na mesma ordem que a tabela `inventory`. Carregue esses dados em uma tabela chamada `sales`. **(5 Pontos)**"
   ]
  },
  {
   "cell_type": "code",
   "execution_count": null,
   "metadata": {
    "tags": []
   },
   "outputs": [],
   "source": [
    "sales = ...\n",
    "sales"
   ]
  },
  {
   "cell_type": "code",
   "execution_count": null,
   "metadata": {
    "deletable": false,
    "editable": false
   },
   "outputs": [],
   "source": [
    "grader.check(\"q5_4\")"
   ]
  },
  {
   "cell_type": "markdown",
   "metadata": {},
   "source": [
    "**Questão 5.** Quantas frutas a loja vendeu no total naquele dia? **(5 Pontos)**\n"
   ]
  },
  {
   "cell_type": "code",
   "execution_count": null,
   "metadata": {
    "tags": []
   },
   "outputs": [],
   "source": [
    "total_fruits_sold = ...\n",
    "total_fruits_sold"
   ]
  },
  {
   "cell_type": "code",
   "execution_count": null,
   "metadata": {
    "deletable": false,
    "editable": false
   },
   "outputs": [],
   "source": [
    "grader.check(\"q5_5\")"
   ]
  },
  {
   "cell_type": "markdown",
   "metadata": {},
   "source": [
    "**Questão 6.** Qual foi a receita total da loja (o preço total de todas as frutas vendidas) naquele dia? **(5 Pontos)**\n",
    "\n",
    "*Dica:* Se você estiver preso, pense primeiro em como calcularia a receita total apenas das vendas de uvas."
   ]
  },
  {
   "cell_type": "code",
   "execution_count": null,
   "metadata": {
    "tags": []
   },
   "outputs": [],
   "source": [
    "total_revenue = ...\n",
    "total_revenue"
   ]
  },
  {
   "cell_type": "code",
   "execution_count": null,
   "metadata": {
    "deletable": false,
    "editable": false
   },
   "outputs": [],
   "source": [
    "grader.check(\"q5_6\")"
   ]
  },
  {
   "cell_type": "markdown",
   "metadata": {},
   "source": [
    "**Questão 7.** Crie uma nova tabela chamada `remaining_inventory`. Ela deve ter as mesmas linhas e colunas que `inventory`, exceto que a quantidade de frutas vendidas de cada caixa deve ser subtraída da contagem **original** daquela caixa, de modo que a coluna `count` seja **atualizada para ser** a quantidade de frutas restantes após o sábado. **(5 Pontos)**"
   ]
  },
  {
   "cell_type": "code",
   "execution_count": null,
   "metadata": {
    "tags": []
   },
   "outputs": [],
   "source": [
    "remaining_inventory = ...\n",
    "    ...\n",
    "    ...\n",
    "    ...\n",
    "remaining_inventory"
   ]
  },
  {
   "cell_type": "code",
   "execution_count": null,
   "metadata": {
    "deletable": false,
    "editable": false
   },
   "outputs": [],
   "source": [
    "grader.check(\"q5_7\")"
   ]
  },
  {
   "cell_type": "markdown",
   "metadata": {},
   "source": [
    "Você terminou o Trabalho de Casa 2!\n",
    "\n",
    "**Passos importantes para a submissão:**\n",
    "1. Execute os testes e verifique se todos passaram.\n",
    "2. Escolha **Salvar Notebook** no menu **Arquivo**, então **execute a última célula**.\n",
    "3. Clique no link para baixar o arquivo zip.\n",
    "4. Em seguida, envie o arquivo zip para a tarefa correspondente de acordo com as instruções do seu professor.\n",
    "\n",
    "**É sua responsabilidade garantir que seu trabalho esteja salvo antes de executar a última célula.**"
   ]
  },
  {
   "cell_type": "markdown",
   "metadata": {
    "deletable": false,
    "editable": false
   },
   "source": [
    "## Submissão\n",
    "\n",
    "Certifique-se de ter executado todas as células em seu notebook em ordem antes de executar a célula abaixo, para que todas as imagens/gráficos apareçam na saída. A célula abaixo irá gerar um arquivo zip para você enviar. **Por favor, salve antes de exportar!**"
   ]
  },
  {
   "cell_type": "code",
   "execution_count": null,
   "metadata": {
    "deletable": false,
    "editable": false
   },
   "outputs": [],
   "source": [
    "# Salve seu notebook primeiro, depois execute esta célula para exportar sua submissão.\n",
    "grader.export(pdf=False, run_tests=True)"
   ]
  },
  {
   "cell_type": "markdown",
   "metadata": {},
   "source": [
    " "
   ]
  }
 ],
 "metadata": {
  "kernelspec": {
   "display_name": "Python 3 (ipykernel)",
   "language": "python",
   "name": "python3"
  },
  "language_info": {
   "codemirror_mode": {
    "name": "ipython",
    "version": 3
   },
   "file_extension": ".py",
   "mimetype": "text/x-python",
   "name": "python",
   "nbconvert_exporter": "python",
   "pygments_lexer": "ipython3",
   "version": "3.9.9"
  },
  "otter": {
   "OK_FORMAT": true,
   "tests": {
    "q1_1": {
     "name": "q1_1",
     "points": [
      0,
      0
     ],
     "suites": [
      {
       "cases": [
        {
         "code": ">>> import numpy as np\n>>> # It looks like you didn't make an array.\n>>> type(weird_numbers) == np.ndarray\nTrue",
         "hidden": false,
         "locked": false
        },
        {
         "code": ">>> len(weird_numbers) == 4\nTrue",
         "hidden": false,
         "locked": false
        }
       ],
       "scored": true,
       "setup": "",
       "teardown": "",
       "type": "doctest"
      }
     ]
    },
    "q1_2": {
     "name": "q1_2",
     "points": [
      0,
      0,
      0,
      0,
      4
     ],
     "suites": [
      {
       "cases": [
        {
         "code": ">>> import numpy as np\n>>> # It looks like you didn't make an array.\n>>> type(book_title_words) == np.ndarray\nTrue",
         "hidden": false,
         "locked": false
        },
        {
         "code": ">>> # It looks like you included commas in the text.\n>>> # The three pieces of text in the array should be:\n>>> #   \"Eats\"\n>>> #   \"Shoots\"\n>>> #   \"and Leaves\"\n>>> not any([',' in text for text in book_title_words])\nTrue",
         "hidden": false,
         "locked": false
        },
        {
         "code": ">>> # It looks like you didn't include both words in the\n>>> # last piece of text.  It should be the actual string:\n>>> #   \"and Leaves\"\n>>> 'and ' in book_title_words.item(2)\nTrue",
         "hidden": false,
         "locked": false
        },
        {
         "code": ">>> len(book_title_words)\n3",
         "hidden": false,
         "locked": false
        },
        {
         "code": ">>> book_title_words.item(0) == 'Eats' and book_title_words.item(1) == 'Shoots' and book_title_words.item(2) == 'and Leaves'\nTrue",
         "hidden": false,
         "locked": false
        }
       ],
       "scored": true,
       "setup": "",
       "teardown": "",
       "type": "doctest"
      }
     ]
    },
    "q1_3": {
     "name": "q1_3",
     "points": [
      2,
      2
     ],
     "suites": [
      {
       "cases": [
        {
         "code": ">>> with_commas == 'Eats, Shoots, and Leaves'\nTrue",
         "hidden": false,
         "locked": false
        },
        {
         "code": ">>> without_commas == 'Eats Shoots and Leaves'\nTrue",
         "hidden": false,
         "locked": false
        }
       ],
       "scored": true,
       "setup": "",
       "teardown": "",
       "type": "doctest"
      }
     ]
    },
    "q2_1": {
     "name": "q2_1",
     "points": [
      0,
      4
     ],
     "suites": [
      {
       "cases": [
        {
         "code": ">>> # It looks like you wrote:\n>>> #   some_numbers.item(3)\n>>> # But the third element has index 2, not 3.\n>>> third_element != -10\nTrue",
         "hidden": false,
         "locked": false
        },
        {
         "code": ">>> third_element == -6\nTrue",
         "hidden": false,
         "locked": false
        }
       ],
       "scored": true,
       "setup": "",
       "teardown": "",
       "type": "doctest"
      }
     ]
    },
    "q2_2": {
     "name": "q2_2",
     "points": [
      1,
      1,
      1,
      1
     ],
     "suites": [
      {
       "cases": [
        {
         "code": ">>> elements_of_some_numbers.column(0).item(2) == \"third\"\nTrue",
         "hidden": false,
         "locked": false
        },
        {
         "code": ">>> elements_of_some_numbers.column(0).item(3) == \"fourth\"\nTrue",
         "hidden": false,
         "locked": false
        },
        {
         "code": ">>> elements_of_some_numbers.column(1).item(0) == 0\nTrue",
         "hidden": false,
         "locked": false
        },
        {
         "code": ">>> elements_of_some_numbers.column(1).item(3) == 3\nTrue",
         "hidden": false,
         "locked": false
        }
       ],
       "scored": true,
       "setup": "",
       "teardown": "",
       "type": "doctest"
      }
     ]
    },
    "q2_3": {
     "name": "q2_3",
     "points": [
      4
     ],
     "suites": [
      {
       "cases": [
        {
         "code": ">>> index_of_last_element == 141\nTrue",
         "hidden": false,
         "locked": false
        }
       ],
       "scored": true,
       "setup": "",
       "teardown": "",
       "type": "doctest"
      }
     ]
    },
    "q2_4": {
     "name": "q2_4",
     "points": [
      4
     ],
     "suites": [
      {
       "cases": [
        {
         "code": ">>> most_recent_birth_year == 1917\nTrue",
         "hidden": false,
         "locked": false
        }
       ],
       "scored": true,
       "setup": "",
       "teardown": "",
       "type": "doctest"
      }
     ]
    },
    "q2_5": {
     "name": "q2_5",
     "points": [
      0
     ],
     "suites": [
      {
       "cases": [
        {
         "code": ">>> min_of_birth_years > 0\nTrue",
         "hidden": false,
         "locked": false
        }
       ],
       "scored": true,
       "setup": "",
       "teardown": "",
       "type": "doctest"
      }
     ]
    },
    "q3_1": {
     "name": "q3_1",
     "points": [
      0
     ],
     "suites": [
      {
       "cases": [
        {
         "code": ">>> first_product > 0, second_product < 0, third_product > 0, fourth_product > 0\n(True, True, True, True)",
         "hidden": false,
         "locked": false
        }
       ],
       "scored": true,
       "setup": "",
       "teardown": "",
       "type": "doctest"
      }
     ]
    },
    "q3_2": {
     "name": "q3_2",
     "points": [
      0
     ],
     "suites": [
      {
       "cases": [
        {
         "code": ">>> # products should be an array!\n>>> len(products) == 4\nTrue",
         "hidden": false,
         "locked": false
        }
       ],
       "scored": true,
       "setup": "",
       "teardown": "",
       "type": "doctest"
      }
     ]
    },
    "q3_3": {
     "name": "q3_3",
     "points": [
      0
     ],
     "suites": [
      {
       "cases": [
        {
         "code": ">>> len(correct_products) == 4\nTrue",
         "hidden": false,
         "locked": false
        }
       ],
       "scored": true,
       "setup": "",
       "teardown": "",
       "type": "doctest"
      }
     ]
    },
    "q3_4": {
     "name": "q3_4",
     "points": [
      1,
      1,
      1,
      1
     ],
     "suites": [
      {
       "cases": [
        {
         "code": ">>> # It looks like you multiplied and subtracted in the wrong\n>>> # order.\n>>> sum(celsius_max_temperatures) != 356705.0\nTrue",
         "hidden": false,
         "locked": false
        },
        {
         "code": ">>> sum(celsius_max_temperatures)\n1280677.0",
         "hidden": false,
         "locked": false
        },
        {
         "code": ">>> len(celsius_max_temperatures)\n65000",
         "hidden": false,
         "locked": false
        },
        {
         "code": ">>> celsius_max_temperatures.item(2003)\n20.0",
         "hidden": false,
         "locked": false
        }
       ],
       "scored": true,
       "setup": "",
       "teardown": "",
       "type": "doctest"
      }
     ]
    },
    "q3_5": {
     "name": "q3_5",
     "points": [
      0,
      4,
      0
     ],
     "suites": [
      {
       "cases": [
        {
         "code": ">>> # celsius_temperature_ranges should be an array\n>>> type(celsius_temperature_ranges) is np.ndarray\nTrue",
         "hidden": false,
         "locked": false
        },
        {
         "code": ">>> np.isclose(round(sum(celsius_temperature_ranges)), 768487)\nTrue",
         "hidden": false,
         "locked": false
        },
        {
         "code": ">>> len(celsius_temperature_ranges)\n65000",
         "hidden": false,
         "locked": false
        }
       ],
       "scored": true,
       "setup": "",
       "teardown": "",
       "type": "doctest"
      }
     ]
    },
    "q4_1": {
     "name": "q4_1",
     "points": [
      0,
      0
     ],
     "suites": [
      {
       "cases": [
        {
         "code": ">>> # Hint: shortest is a number between 40 and 50.\n>>> 40 <= shortest <= 50\nTrue",
         "hidden": false,
         "locked": false
        },
        {
         "code": ">>> # Hint: the average is between the shortest and the longest\n>>> shortest <= average <= longest\nTrue",
         "hidden": false,
         "locked": false
        }
       ],
       "scored": true,
       "setup": "",
       "teardown": "",
       "type": "doctest"
      }
     ]
    },
    "q4_2": {
     "name": "q4_2",
     "points": [
      0,
      0
     ],
     "suites": [
      {
       "cases": [
        {
         "code": ">>> # Hint: If you are getting 47 as your answer, you might be computing the biggest change \n>>> # rather than the biggest decrease!\n>>> biggest_decrease == 47\nFalse",
         "hidden": false,
         "locked": false
        },
        {
         "code": ">>> # Hint: biggest decrease is above 30, but not 47.\n>>> 30 <= biggest_decrease < 47\nTrue",
         "hidden": false,
         "locked": false
        }
       ],
       "scored": true,
       "setup": "",
       "teardown": "",
       "type": "doctest"
      }
     ]
    },
    "q4_3": {
     "name": "q4_3",
     "points": [
      0,
      4
     ],
     "suites": [
      {
       "cases": [
        {
         "code": ">>> len(first_nine_waiting_times)\n9",
         "hidden": false,
         "locked": false
        },
        {
         "code": ">>> total_waiting_time_until_tenth\n633",
         "hidden": false,
         "locked": false
        }
       ],
       "scored": true,
       "setup": "",
       "teardown": "",
       "type": "doctest"
      }
     ]
    },
    "q4_4": {
     "name": "q4_4",
     "points": [
      0
     ],
     "suites": [
      {
       "cases": [
        {
         "code": ">>> 15 <= average_error <= 25\nTrue",
         "hidden": false,
         "locked": false
        }
       ],
       "scored": true,
       "setup": "",
       "teardown": "",
       "type": "doctest"
      }
     ]
    },
    "q5_1": {
     "name": "q5_1",
     "points": [
      4
     ],
     "suites": [
      {
       "cases": [
        {
         "code": ">>> fruits.sort(0)\nfruit name | count\napple      | 4\norange     | 3\npineapple  | 3",
         "hidden": false,
         "locked": false
        }
       ],
       "scored": true,
       "setup": "",
       "teardown": "",
       "type": "doctest"
      }
     ]
    },
    "q5_2": {
     "name": "q5_2",
     "points": [
      4
     ],
     "suites": [
      {
       "cases": [
        {
         "code": ">>> inventory.sort(0).column(0).item(0)\n25274",
         "hidden": false,
         "locked": false
        }
       ],
       "scored": true,
       "setup": "",
       "teardown": "",
       "type": "doctest"
      }
     ]
    },
    "q5_3": {
     "name": "q5_3",
     "points": [
      0
     ],
     "suites": [
      {
       "cases": [
        {
         "code": ">>> all_different in {True, False}\nTrue",
         "hidden": false,
         "locked": false
        }
       ],
       "scored": true,
       "setup": "",
       "teardown": "",
       "type": "doctest"
      }
     ]
    },
    "q5_4": {
     "name": "q5_4",
     "points": [
      5
     ],
     "suites": [
      {
       "cases": [
        {
         "code": ">>> sales.sort(0)\nbox ID | fruit name | count sold | price per fruit ($)\n25274  | apple      | 0          | 0.8\n26187  | strawberry | 25         | 0.15\n43566  | peach      | 17         | 0.8\n48800  | orange     | 35         | 0.6\n52357  | strawberry | 102        | 0.25\n53686  | kiwi       | 3          | 0.5\n57181  | strawberry | 101        | 0.2\n57930  | grape      | 355        | 0.06",
         "hidden": false,
         "locked": false
        }
       ],
       "scored": true,
       "setup": "",
       "teardown": "",
       "type": "doctest"
      }
     ]
    },
    "q5_5": {
     "name": "q5_5",
     "points": [
      0
     ],
     "suites": [
      {
       "cases": [
        {
         "code": ">>> # We're asking for the number of *pieces* of fruit, not the\n>>> # number of kinds of fruit or the number of boxes from which\n>>> # there were sales.\n>>> total_fruits_sold > 10\nTrue",
         "hidden": false,
         "locked": false
        }
       ],
       "scored": true,
       "setup": "",
       "teardown": "",
       "type": "doctest"
      }
     ]
    },
    "q5_6": {
     "name": "q5_6",
     "points": [
      0
     ],
     "suites": [
      {
       "cases": [
        {
         "code": ">>> # If you're stuck, here's a hint: You want to multiply the count\n>>> # sold in each box by the per-item price of fruits in that box.\n>>> # You can use elementwise multiplication for that.\n>>> # Then you want the sum of those products.  Use sum().\n>>> 50 <= total_revenue <= 150\nTrue",
         "hidden": false,
         "locked": false
        }
       ],
       "scored": true,
       "setup": "",
       "teardown": "",
       "type": "doctest"
      }
     ]
    },
    "q5_7": {
     "name": "q5_7",
     "points": [
      0,
      2,
      3
     ],
     "suites": [
      {
       "cases": [
        {
         "code": ">>> # It looks like your table doesn't have all 3 columns that are\n>>> # in the inventory table.\n>>> remaining_inventory.num_columns\n3",
         "hidden": false,
         "locked": false
        },
        {
         "code": ">>> #It looks like you forgot to subtract off the sales.\n>>> remaining_inventory.column(\"count\").item(0) != 45\nTrue",
         "hidden": false,
         "locked": false
        },
        {
         "code": ">>> remaining_inventory.where(1, 'grape')\nbox ID | fruit name | count\n57930  | grape      | 162",
         "hidden": false,
         "locked": false
        }
       ],
       "scored": true,
       "setup": "",
       "teardown": "",
       "type": "doctest"
      }
     ]
    }
   }
  }
 },
 "nbformat": 4,
 "nbformat_minor": 5
}
