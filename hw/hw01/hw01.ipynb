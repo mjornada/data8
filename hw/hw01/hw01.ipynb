{
 "cells": [
  {
   "cell_type": "code",
   "execution_count": null,
   "metadata": {
    "deletable": false,
    "editable": false
   },
   "outputs": [],
   "source": [
    "# Inicialize o otter\n",
    "import otter\n",
    "grader = otter.Notebook(\"hw01.ipynb\")"
   ]
  },
  {
   "cell_type": "markdown",
   "metadata": {},
   "source": [
    "# Tarefa 1: Causalidade e Expressões\n",
    "\n",
    "Por favor, complete este notebook preenchendo as células fornecidas. Antes de começar, execute a célula anterior para carregar os testes fornecidos."
   ]
  },
  {
   "cell_type": "markdown",
   "metadata": {},
   "source": [
    "**Leituras Recomendadas:**\n",
    "\n",
    "- [O que é Ciência de Dados?](http://www.inferentialthinking.com/chapters/01/what-is-data-science.html)\n",
    "- [Causalidade e Experimentos](http://www.inferentialthinking.com/chapters/02/causality-and-experiments.html) \n",
    "- [Programação em Python](http://www.inferentialthinking.com/chapters/03/programming-in-python.html)\n",
    "\n",
    "Para todos os problemas nos quais você deve escrever explicações e frases, você **deve** fornecer sua resposta no espaço designado. Além disso, ao longo desta tarefa e de todas as futuras, certifique-se de não reatribuir variáveis ao longo do notebook! Por exemplo, se você usar `max_temperature` em sua resposta para uma pergunta, não o reatribua posteriormente. Caso contrário, você falhará nos testes que pensou ter passado anteriormente!\n",
    "\n",
    "\n",
    "**Observação: Esta tarefa possui testes ocultos. Isso significa que, mesmo que os testes digam que 100% foram aprovados, isso não significa que sua nota final será 100%. Iremos executar mais testes ocultos para corretude assim que todos entregarem a tarefa.**\n",
    "\n",
    "Compartilhar respostas diretamente não é permitido, mas discutir problemas com a equipe do curso ou com outros estudantes é incentivado.\n",
    "\n",
    "Você deve começar cedo para ter tempo de obter ajuda se estiver com dificuldades."
   ]
  },
  {
   "cell_type": "markdown",
   "metadata": {},
   "source": [
    "## 1. Aritmética Assustadora"
   ]
  },
  {
   "cell_type": "markdown",
   "metadata": {},
   "source": [
    "<!-- BEGIN QUESTION -->\n",
    "\n",
    "Um anúncio para os Sistemas de Segurança ADT diz:\n",
    "\n",
    "> \"Quando você sai de férias, os ladrões vão trabalhar [...] De acordo com estatísticas do FBI, mais de 25% dos arrombamentos domiciliares ocorrem entre o Memorial Day e o Labor Day.\"\n",
    "\n",
    "Os dados no anúncio sustentam a afirmação de que os ladrões têm mais probabilidade de trabalhar durante o período entre o Memorial Day e o Labor Day? Por favor, explique sua resposta. **(6 Pontos)**\n",
    "\n",
    "**Nota:** Você pode assumir que \"mais de 25%\" significa apenas ligeiramente acima. Se fosse muito mais alto, digamos mais próximo de 30%, então os profissionais de marketing teriam dito isso.\n",
    "\n",
    "**Nota:** O Memorial Day é observado no último Monday de maio e o Labor Day é observado no primeiro Monday de setembro.\n",
    "\n"
   ]
  },
  {
   "cell_type": "markdown",
   "metadata": {},
   "source": [
    "_Digite sua resposta aqui, substituindo este texto._"
   ]
  },
  {
   "cell_type": "markdown",
   "metadata": {},
   "source": [
    "<!-- END QUESTION -->\n",
    "\n",
    "## 2. Personagens em Little Women\n"
   ]
  },
  {
   "cell_type": "markdown",
   "metadata": {},
   "source": [
    "Na aula, contamos o número de vezes que os personagens literários foram nomeados em cada capítulo do livro clássico [*Little Women*](https://inferentialthinking.com/chapters/01/3/1/Literary_Characters.html?highlight=little%20women). Na ciência da computação, a palavra \"caractere\" também se refere a uma letra, dígito, espaço ou sinal de pontuação; qualquer elemento individual de um texto. O código a seguir gera um gráfico de dispersão no qual cada ponto corresponde a um capítulo de *Mulherzinhas*. A posição horizontal de um ponto mede o número de pontos finais no capítulo. A posição vertical mede o número total de caracteres."
   ]
  },
  {
   "cell_type": "code",
   "execution_count": null,
   "metadata": {
    "scrolled": true,
    "tags": []
   },
   "outputs": [],
   "source": [
    "# Apenas execute esta célula.\n",
    "\n",
    "# Esta célula contém código que ainda não foi abordado no curso,\n",
    "# mas você deverá ser capaz de interpretar o gráfico de dispersão que ele gera.\n",
    "\n",
    "from datascience import *\n",
    "from urllib.request import urlopen\n",
    "import numpy as np\n",
    "import d8error\n",
    "%matplotlib inline\n",
    "\n",
    "little_women_url = 'https://www.inferentialthinking.com/data/little_women.txt'\n",
    "chapters = urlopen(little_women_url).read().decode().split('CHAPTER ')[1:]\n",
    "text = Table().with_column('Chapters', chapters)\n",
    "Table().with_columns(\n",
    "    'Periods',    np.char.count(chapters, '.'),\n",
    "    'Characters', text.apply(len, 0)\n",
    "    ).scatter(0)"
   ]
  },
  {
   "cell_type": "markdown",
   "metadata": {},
   "source": [
    "**Questão 1.** Aproximadamente quantos pontos finais existem no capítulo com mais caracteres? Atribua 1, 2, 3, 4 ou 5 ao nome `characters_q1` abaixo. **(4 Pontos)**\n",
    "\n",
    "1. 250\n",
    "2. 390\n",
    "3. 440\n",
    "4. 32.000\n",
    "5. 40.000\n",
    "\n",
    "**Nota:** Se você encontrar um erro `NameError: name 'grader' is not defined` na célula de autograder abaixo (e em qualquer atribuição), por favor, execute novamente a primeira célula no topo deste notebook!\n"
   ]
  },
  {
   "cell_type": "code",
   "execution_count": null,
   "metadata": {
    "tags": []
   },
   "outputs": [],
   "source": [
    "characters_q1 = ..."
   ]
  },
  {
   "cell_type": "code",
   "execution_count": null,
   "metadata": {
    "deletable": false,
    "editable": false
   },
   "outputs": [],
   "source": [
    "grader.check(\"q2_1\")"
   ]
  },
  {
   "cell_type": "markdown",
   "metadata": {},
   "source": [
    "O teste acima verifica se suas respostas estão no formato correto. **Este teste não verifica se você respondeu corretamente**, apenas se atribuiu um número com sucesso em cada célula de resposta de múltipla escolha."
   ]
  },
  {
   "cell_type": "markdown",
   "metadata": {},
   "source": [
    "**Questão 2.** Qual dos seguintes capítulos tem mais caracteres por ponto final? Atribua 1, 2 ou 3 ao nome `characters_q2` abaixo. **(4 Pontos)**\n",
    "\n",
    "1. O capítulo com cerca de 60 pontos finais\n",
    "2. O capítulo com cerca de 350 pontos finais\n",
    "3. O capítulo com cerca de 440 pontos finais\n"
   ]
  },
  {
   "cell_type": "code",
   "execution_count": null,
   "metadata": {
    "tags": []
   },
   "outputs": [],
   "source": [
    "characters_q2 = ..."
   ]
  },
  {
   "cell_type": "code",
   "execution_count": null,
   "metadata": {
    "deletable": false,
    "editable": false
   },
   "outputs": [],
   "source": [
    "grader.check(\"q2_2\")"
   ]
  },
  {
   "cell_type": "markdown",
   "metadata": {},
   "source": [
    "Mais uma vez, o teste acima verifica se suas respostas estão no formato correto, mas não se você respondeu corretamente."
   ]
  },
  {
   "cell_type": "markdown",
   "metadata": {},
   "source": [
    "Para descobrir mais fatos interessantes deste gráfico, confira [Seção 1.3.2](https://inferentialthinking.com/chapters/01/3/2/Another_Kind_Of_Character.html) no livro didático."
   ]
  },
  {
   "cell_type": "markdown",
   "metadata": {},
   "source": [
    "## 3. Nomes e Declarações de Atribuição"
   ]
  },
  {
   "cell_type": "markdown",
   "metadata": {},
   "source": [
    "**Questão 1.** Quando você executa a célula a seguir, o Python produz uma mensagem de erro críptica."
   ]
  },
  {
   "cell_type": "code",
   "execution_count": null,
   "metadata": {
    "tags": [
     "raises-exception"
    ]
   },
   "outputs": [],
   "source": [
    "4 = 2 + 2"
   ]
  },
  {
   "cell_type": "markdown",
   "metadata": {},
   "source": [
    "Escolha a melhor explicação do que há de errado com o código e, em seguida, atribua 1, 2, 3 ou 4 ao `names_q1` abaixo para indicar sua resposta. **(4 Pontos)**\n",
    "\n",
    "1. Python é inteligente e já sabe que `4 = 2 + 2`.\n",
    "\n",
    "2. Em Python, é uma regra que o sinal `=` deve ter um nome de variável à sua esquerda, e `4` não é um nome de variável.\n",
    "\n",
    "3. Deveria ser `2 + 2 = 4`.\n",
    "\n",
    "4. Não recebo uma mensagem de erro. Esta é uma pergunta de pegadinha."
   ]
  },
  {
   "cell_type": "code",
   "execution_count": null,
   "metadata": {
    "tags": []
   },
   "outputs": [],
   "source": [
    "names_q1 = ..."
   ]
  },
  {
   "cell_type": "code",
   "execution_count": null,
   "metadata": {
    "deletable": false,
    "editable": false
   },
   "outputs": [],
   "source": [
    "grader.check(\"q3_1\")"
   ]
  },
  {
   "cell_type": "markdown",
   "metadata": {},
   "source": [
    "**Questão 2.** Quando você executa a célula a seguir, o Python produzirá outra mensagem de erro críptica."
   ]
  },
  {
   "cell_type": "code",
   "execution_count": null,
   "metadata": {
    "tags": [
     "raises-exception"
    ]
   },
   "outputs": [],
   "source": [
    "two = 3\n",
    "six = two plus two"
   ]
  },
  {
   "cell_type": "markdown",
   "metadata": {},
   "source": [
    "Escolha a melhor explicação do que há de errado com o código e atribua 1, 2, 3 ou 4 ao `names_q2` abaixo para indicar sua resposta. **(4 Pontos)**\n",
    "\n",
    "1. A operação `plus` só se aplica a números, não à palavra \"two\".\n",
    "\n",
    "2. O nome \"two\" não pode ser atribuído ao número 3.\n",
    "\n",
    "3. Dois mais dois são quatro, não seis.\n",
    "\n",
    "4. O nome `plus` não é um operador embutido; em vez disso, a adição usa `+`."
   ]
  },
  {
   "cell_type": "code",
   "execution_count": null,
   "metadata": {
    "tags": []
   },
   "outputs": [],
   "source": [
    "names_q2 = ..."
   ]
  },
  {
   "cell_type": "code",
   "execution_count": null,
   "metadata": {
    "deletable": false,
    "editable": false
   },
   "outputs": [],
   "source": [
    "grader.check(\"q3_2\")"
   ]
  },
  {
   "cell_type": "markdown",
   "metadata": {},
   "source": [
    "**Questão 3.** Execute a célula a seguir."
   ]
  },
  {
   "cell_type": "code",
   "execution_count": null,
   "metadata": {
    "tags": [
     "raises-exception"
    ]
   },
   "outputs": [],
   "source": [
    "x = 2\n",
    "y = 3 * x\n",
    "x = 4"
   ]
  },
  {
   "cell_type": "markdown",
   "metadata": {},
   "source": [
    "Qual é o valor de `y` após a execução desta célula e por quê? Escolha a melhor explicação e atribua 1, 2, 3 ou 4 ao `names_q3` abaixo para indicar sua resposta. **(4 Pontos)**\n",
    "\n",
    "1. `y` é igual a 6, porque o segundo `x = 4` não tem efeito uma vez que `x` já estava definido.\n",
    "\n",
    "2. `y` é igual a 6, porque `x` era 2 quando `y` foi atribuído, e 3 * 2 é 6.\n",
    "\n",
    "3. `y` é igual a 12, porque `x` é 4 e 3 * 4 é 12.\n",
    "\n",
    "4. `y` é igual a 12, porque atribuir `x` para 4 atualizará `y` para 12, já que `y` foi definido em termos de `x`."
   ]
  },
  {
   "cell_type": "code",
   "execution_count": null,
   "metadata": {
    "tags": []
   },
   "outputs": [],
   "source": [
    "names_q3 = ..."
   ]
  },
  {
   "cell_type": "code",
   "execution_count": null,
   "metadata": {
    "deletable": false,
    "editable": false
   },
   "outputs": [],
   "source": [
    "grader.check(\"q3_3\")"
   ]
  },
  {
   "cell_type": "markdown",
   "metadata": {},
   "source": [
    "## 4. Diferenças Entre Cursos"
   ]
  },
  {
   "cell_type": "markdown",
   "metadata": {},
   "source": [
    "O Escritório de Planejamento e Análise da Universidade de Berkeley fornece dados sobre vários aspectos do campus. Adaptada do site da OPA, a tabela abaixo exibe o número de formandos em três cursos nos anos acadêmicos de 2008-2009 e 2017-2018.\n",
    "\n",
    "| Curso                              | 2008-2009    | 2017-2018   |\n",
    "|------------------------------------|--------------|-------------|\n",
    "| Estudos de Gênero e Mulheres       |      17      |    28       |\n",
    "| Linguística                        |      49      |    67       |\n",
    "| Retórica                           |      113     |    56       |"
   ]
  },
  {
   "cell_type": "markdown",
   "metadata": {},
   "source": [
    "**Questão 1.** Suponha que você queira encontrar a maior diferença absoluta entre o número de formandos nos dois anos, entre os três cursos.\n",
    "\n",
    "Na célula abaixo, calcule esse valor e chame-o de `biggest_change`. Use uma única expressão (uma única linha de código) para calcular a resposta. Deixe o Python realizar toda a aritmética (como subtrair 49 de 67) em vez de simplificar a expressão você mesmo. A função embutida `abs` recebe uma entrada numérica e retorna o valor absoluto. A função embutida `max` pode receber 3 argumentos e retorna o máximo dos três números. **(5 Pontos)**"
   ]
  },
  {
   "cell_type": "code",
   "execution_count": null,
   "metadata": {
    "deletable": false,
    "tags": []
   },
   "outputs": [],
   "source": [
    "biggest_change = ...\n",
    "biggest_change"
   ]
  },
  {
   "cell_type": "code",
   "execution_count": null,
   "metadata": {
    "deletable": false,
    "editable": false
   },
   "outputs": [],
   "source": [
    "grader.check(\"q4_1\")"
   ]
  },
  {
   "cell_type": "markdown",
   "metadata": {},
   "source": [
    "**Questão 2.** Qual dos três cursos teve a **menor** diferença absoluta? Atribua `smallest_change_major` como 1, 2 ou 3, onde cada número corresponde ao seguinte curso:\n",
    "\n",
    "1. Estudos de Gênero e Mulheres  \n",
    "2. Linguística  \n",
    "3. Retórica\n",
    "\n",
    "Escolha o número que corresponde ao curso com a menor diferença absoluta.\n",
    "\n",
    "Você deve ser capaz de responder por meio de um cálculo mental aproximado, sem precisar calcular o valor exato para cada curso. **(4 Pontos)** "
   ]
  },
  {
   "cell_type": "code",
   "execution_count": null,
   "metadata": {
    "deletable": false,
    "tags": []
   },
   "outputs": [],
   "source": [
    "smallest_change_major = ...\n",
    "smallest_change_major"
   ]
  },
  {
   "cell_type": "code",
   "execution_count": null,
   "metadata": {
    "deletable": false,
    "editable": false
   },
   "outputs": [],
   "source": [
    "grader.check(\"q4_2\")"
   ]
  },
  {
   "cell_type": "markdown",
   "metadata": {},
   "source": [
    "**Questão 3.** Para cada grande área, defina a \"mudança relativa\" da seguinte maneira: $\\large{\\frac{\\text{diferença absoluta}}{\\text{valor em 2008-2009}} * 100}$\n",
    "\n",
    "Preencha o código abaixo de modo que `gws_relative_change`, `linguistics_relative_change` e `rhetoric_relative_change` sejam atribuídos às mudanças relativas de suas respectivas áreas principais. **(5 Pontos)**"
   ]
  },
  {
   "cell_type": "code",
   "execution_count": null,
   "metadata": {
    "deletable": false,
    "for_assignment_type": "student",
    "tags": []
   },
   "outputs": [],
   "source": [
    "gws_relative_change = (abs(...) / 17) * 100\n",
    "linguistics_relative_change = ...\n",
    "rhetoric_relative_change = ...\n",
    "gws_relative_change, linguistics_relative_change, rhetoric_relative_change"
   ]
  },
  {
   "cell_type": "code",
   "execution_count": null,
   "metadata": {
    "deletable": false,
    "editable": false
   },
   "outputs": [],
   "source": [
    "grader.check(\"q4_3\")"
   ]
  },
  {
   "cell_type": "markdown",
   "metadata": {},
   "source": [
    "**Questão 4.** Atribua `biggest_rel_change_major` como 1, 2 ou 3, onde cada número corresponde ao seguinte:\n",
    "\n",
    "1. Estudos de Gênero e Mulheres\n",
    "2. Linguística\n",
    "3. Retórica\n",
    "\n",
    "Escolha o número que corresponde à área principal com a maior mudança relativa. **(4 Pontos)**"
   ]
  },
  {
   "cell_type": "code",
   "execution_count": null,
   "metadata": {
    "deletable": false,
    "tags": []
   },
   "outputs": [],
   "source": [
    "biggest_rel_change_major = ...\n",
    "biggest_rel_change_major"
   ]
  },
  {
   "cell_type": "code",
   "execution_count": null,
   "metadata": {
    "deletable": false,
    "editable": false
   },
   "outputs": [],
   "source": [
    "grader.check(\"q4_4\")"
   ]
  },
  {
   "cell_type": "markdown",
   "metadata": {},
   "source": [
    "## 5. Estudo sobre Miopia"
   ]
  },
  {
   "cell_type": "markdown",
   "metadata": {},
   "source": [
    "[Miopia](https://pt.wikipedia.org/wiki/Miopia) resulta de uma série de fatores genéticos e ambientais. Em 1999, Quinn et al. estudaram a relação entre miopia e iluminação ambiente à noite (por exemplo, de luzes noturnas ou luzes de ambiente) durante a infância."
   ]
  },
  {
   "cell_type": "markdown",
   "metadata": {},
   "source": [
    "<!-- BEGIN QUESTION -->\n",
    "\n",
    "**Questão 1.** Os dados foram coletados pelo seguinte procedimento, relatado no estudo. \"Entre janeiro e junho de 1998, os pais de crianças com idades entre 2 e 16 anos [...] que foram atendidas como pacientes ambulatoriais em uma clínica de oftalmologia pediátrica universitária completaram um questionário sobre a exposição à luz da criança tanto no presente quanto antes dos 2 anos de idade.\" Este estudo foi observacional ou foi um experimento controlado? Explique. **(5 Pontos)**\n"
   ]
  },
  {
   "cell_type": "markdown",
   "metadata": {},
   "source": [
    "_Escreva sua resposta aqui. Substituindo este texto._"
   ]
  },
  {
   "cell_type": "markdown",
   "metadata": {},
   "source": [
    "<!-- END QUESTION -->\n",
    "\n",
    "<!-- BEGIN QUESTION -->\n",
    "\n",
    "**Questão 2.** O estudo descobriu que, das crianças que dormiram com a luz do quarto acesa antes dos 2 anos, 55% eram míopes. Das crianças que dormiram com uma luz noturna antes dos 2 anos, 34% eram míopes. Das crianças que dormiram no escuro antes dos 2 anos, 10% eram míopes. O estudo concluiu o seguinte: \"A prevalência de miopia [...] durante a infância estava fortemente associada à exposição à luz ambiente durante o sono à noite nos primeiros dois anos após o nascimento.\"\n",
    "\n",
    "Os dados suportam esta afirmação? Por quê ou por que não? Você pode interpretar \"fortemente\" de qualquer maneira qualitativa razoável. **(5 Pontos)**\n"
   ]
  },
  {
   "cell_type": "markdown",
   "metadata": {},
   "source": [
    "_Escreva sua resposta aqui, substituindo este texto._"
   ]
  },
  {
   "cell_type": "markdown",
   "metadata": {},
   "source": [
    "<!-- END QUESTION -->\n",
    "\n",
    "<!-- BEGIN QUESTION -->\n",
    "\n",
    "**Questão 3.** Em 13 de maio de 1999, a CNN relatou os resultados deste estudo sob a manchete, \"Luz noturna pode levar à miopia.\" A conclusão do estudo afirma que a luz noturna causa miopia? **(5 Pontos)**\n"
   ]
  },
  {
   "cell_type": "markdown",
   "metadata": {},
   "source": [
    "_Escreva sua resposta aqui, substituindo este texto._"
   ]
  },
  {
   "cell_type": "markdown",
   "metadata": {},
   "source": [
    "<!-- END QUESTION -->\n",
    "\n",
    "<!-- BEGIN QUESTION -->\n",
    "\n",
    "**Questão 4.** O último parágrafo do relatório da CNN mencionou que \"vários especialistas em olhos\" apontaram que o estudo deveria ter levado em conta a hereditariedade.\n",
    "\n",
    "A miopia é transmitida de pais para filhos. Pais míopes têm maior probabilidade de ter filhos míopes e podem também ter maior probabilidade de deixar as luzes acesas habitualmente (já que os pais têm visão ruim). De que maneira o conhecimento dessa possível ligação genética afeta a forma como interpretamos os dados do estudo? Explique. **(5 Pontos)**\n"
   ]
  },
  {
   "cell_type": "markdown",
   "metadata": {},
   "source": [
    "_Escreva sua resposta aqui, substituindo este texto._"
   ]
  },
  {
   "cell_type": "markdown",
   "metadata": {},
   "source": [
    "<!-- END QUESTION -->\n",
    "\n",
    "## 6. Estudando os Sobreviventes"
   ]
  },
  {
   "cell_type": "markdown",
   "metadata": {},
   "source": [
    "O Reverendo Henry Whitehead estava cético em relação à conclusão de John Snow sobre a bomba de água da Broad Street. Após o término da epidemia de cólera na Broad Street, Whitehead tentou provar que Snow estava errado. (A história do evento está detalhada [aqui](http://www.ncbi.nlm.nih.gov/pmc/articles/PMC1034367/pdf/medhist00183-0026.pdf).)\n",
    "\n",
    "Ele percebeu que Snow havia focado sua análise quase inteiramente naqueles que haviam morrido. Whitehead, portanto, investigou os hábitos de consumo de água das pessoas na área da Broad Street que não morreram durante o surto.\n",
    "\n",
    "Qual é a principal razão pela qual era importante estudar esse grupo? Atribua 1, 2 ou 3 ao nome `survivor_answer` abaixo. **(4 Pontos)**\n",
    "\n",
    "1. Se Whitehead tivesse descoberto que muitas pessoas beberam água da bomba da Broad Street e não contraíram cólera, isso seria uma evidência contra a hipótese de Snow.\n",
    "\n",
    "2. Os sobreviventes poderiam fornecer informações adicionais sobre o que mais poderia ter causado a cólera, potencialmente descobrindo outra causa.\n",
    "\n",
    "3. Ao considerar os sobreviventes, Whitehead poderia ter identificado uma cura para a cólera."
   ]
  },
  {
   "cell_type": "code",
   "execution_count": null,
   "metadata": {
    "deletable": false,
    "tags": []
   },
   "outputs": [],
   "source": [
    "survivor_answer = ..."
   ]
  },
  {
   "cell_type": "code",
   "execution_count": null,
   "metadata": {
    "deletable": false,
    "editable": false
   },
   "outputs": [],
   "source": [
    "grader.check(\"q6_1\")"
   ]
  },
  {
   "cell_type": "markdown",
   "metadata": {},
   "source": [
    "**Nota:** Whitehead acabou encontrando mais provas de que a bomba da Broad Street desempenhou um papel central na disseminação da doença entre as pessoas que viviam nas proximidades. Eventualmente, ele se tornou um dos maiores defensores de Snow."
   ]
  },
  {
   "cell_type": "markdown",
   "metadata": {},
   "source": [
    "Você concluiu a Tarefa de Casa 1!\n",
    "\n",
    "**Passos importantes para a submissão:**\n",
    "1. Execute os testes e verifique se todos estão passando.\n",
    "2. Escolha **Salvar Notebook** no menu **Arquivo**, em seguida, **execute a célula final**.\n",
    "3. Clique no link para baixar o arquivo zip.\n",
    "4. Em seguida, envie o arquivo zip para a tarefa correspondente de acordo com as instruções do seu instrutor.\n",
    "\n",
    "**É sua responsabilidade garantir que seu trabalho esteja salvo antes de executar a última célula.**"
   ]
  },
  {
   "cell_type": "markdown",
   "metadata": {
    "deletable": false,
    "editable": false
   },
   "source": [
    "## Submissão\n",
    "\n",
    "Certifique-se de ter executado todas as células em seu notebook na ordem correta antes de rodar a célula abaixo, para que todas as imagens/gráficos apareçam na saída. A célula abaixo irá gerar um arquivo zip para você enviar. **Por favor, salve antes de exportar!**"
   ]
  },
  {
   "cell_type": "code",
   "execution_count": null,
   "metadata": {
    "deletable": false,
    "editable": false
   },
   "outputs": [],
   "source": [
    "# Primeiro, salve seu notebook e depois execute esta célula para exportar sua submissão.\n",
    "grader.export(pdf=False, run_tests=True)"
   ]
  },
  {
   "cell_type": "markdown",
   "metadata": {},
   "source": [
    " "
   ]
  }
 ],
 "metadata": {
  "kernelspec": {
   "display_name": "Python 3 (ipykernel)",
   "language": "python",
   "name": "python3"
  },
  "language_info": {
   "codemirror_mode": {
    "name": "ipython",
    "version": 3
   },
   "file_extension": ".py",
   "mimetype": "text/x-python",
   "name": "python",
   "nbconvert_exporter": "python",
   "pygments_lexer": "ipython3",
   "version": "3.9.9"
  },
  "otter": {
   "OK_FORMAT": true,
   "tests": {
    "q2_1": {
     "name": "q2_1",
     "points": [
      0
     ],
     "suites": [
      {
       "cases": [
        {
         "code": ">>> 1 <= characters_q1 <= 5\nTrue",
         "hidden": false,
         "locked": false
        }
       ],
       "scored": true,
       "setup": "",
       "teardown": "",
       "type": "doctest"
      }
     ]
    },
    "q2_2": {
     "name": "q2_2",
     "points": [
      0
     ],
     "suites": [
      {
       "cases": [
        {
         "code": ">>> 1 <= characters_q2 <= 3\nTrue",
         "hidden": false,
         "locked": false
        }
       ],
       "scored": true,
       "setup": "",
       "teardown": "",
       "type": "doctest"
      }
     ]
    },
    "q3_1": {
     "name": "q3_1",
     "points": [
      0
     ],
     "suites": [
      {
       "cases": [
        {
         "code": ">>> 1 <= names_q1 <= 4\nTrue",
         "hidden": false,
         "locked": false
        }
       ],
       "scored": true,
       "setup": "",
       "teardown": "",
       "type": "doctest"
      }
     ]
    },
    "q3_2": {
     "name": "q3_2",
     "points": [
      0
     ],
     "suites": [
      {
       "cases": [
        {
         "code": ">>> 1 <= names_q2 <= 4\nTrue",
         "hidden": false,
         "locked": false
        }
       ],
       "scored": true,
       "setup": "",
       "teardown": "",
       "type": "doctest"
      }
     ]
    },
    "q3_3": {
     "name": "q3_3",
     "points": [
      0
     ],
     "suites": [
      {
       "cases": [
        {
         "code": ">>> 1 <= names_q3 <= 4\nTrue",
         "hidden": false,
         "locked": false
        }
       ],
       "scored": true,
       "setup": "",
       "teardown": "",
       "type": "doctest"
      }
     ]
    },
    "q4_1": {
     "name": "q4_1",
     "points": [
      0
     ],
     "suites": [
      {
       "cases": [
        {
         "code": ">>> isinstance(biggest_change, (int, float))\nTrue",
         "hidden": false,
         "locked": false
        }
       ],
       "scored": true,
       "setup": "",
       "teardown": "",
       "type": "doctest"
      }
     ]
    },
    "q4_2": {
     "name": "q4_2",
     "points": [
      0
     ],
     "suites": [
      {
       "cases": [
        {
         "code": ">>> isinstance(smallest_change_major, (int, float))\nTrue",
         "hidden": false,
         "locked": false
        }
       ],
       "scored": true,
       "setup": "",
       "teardown": "",
       "type": "doctest"
      }
     ]
    },
    "q4_3": {
     "name": "q4_3",
     "points": [
      0,
      0,
      0
     ],
     "suites": [
      {
       "cases": [
        {
         "code": ">>> isinstance(gws_relative_change, (int, float))\nTrue",
         "hidden": false,
         "locked": false
        },
        {
         "code": ">>> isinstance(linguistics_relative_change, (int, float))\nTrue",
         "hidden": false,
         "locked": false
        },
        {
         "code": ">>> isinstance(rhetoric_relative_change, (int, float))\nTrue",
         "hidden": false,
         "locked": false
        }
       ],
       "scored": true,
       "setup": "",
       "teardown": "",
       "type": "doctest"
      }
     ]
    },
    "q4_4": {
     "name": "q4_4",
     "points": [
      0
     ],
     "suites": [
      {
       "cases": [
        {
         "code": ">>> isinstance(biggest_rel_change_major, (int, float))\nTrue",
         "hidden": false,
         "locked": false
        }
       ],
       "scored": true,
       "setup": "",
       "teardown": "",
       "type": "doctest"
      }
     ]
    },
    "q6_1": {
     "name": "q6_1",
     "points": [
      0
     ],
     "suites": [
      {
       "cases": [
        {
         "code": ">>> 1 <= survivor_answer <= 3\nTrue",
         "hidden": false,
         "locked": false
        }
       ],
       "scored": true,
       "setup": "",
       "teardown": "",
       "type": "doctest"
      }
     ]
    }
   }
  }
 },
 "nbformat": 4,
 "nbformat_minor": 5
}
