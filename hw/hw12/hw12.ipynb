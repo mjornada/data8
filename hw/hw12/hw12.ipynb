{
 "cells": [
  {
   "cell_type": "code",
   "execution_count": null,
   "metadata": {
    "deletable": false,
    "editable": false
   },
   "outputs": [],
   "source": [
    "# Inicialize o Otter\n",
    "import otter\n",
    "grader = otter.Notebook(\"hw12.ipynb\")"
   ]
  },
  {
   "cell_type": "markdown",
   "metadata": {},
   "source": [
    "# Lição de Casa 12: Classificação"
   ]
  },
  {
   "cell_type": "markdown",
   "metadata": {},
   "source": [
    "**Recurso Útil:**\n",
    "\n",
    "- [Referência Python](http://data8.org/sp22/python-reference.html): Folha de dicas de métodos úteis para arrays e tabelas usados em Data 8!\n",
    "\n",
    "**Leitura Recomendada**: \n",
    "\n",
    "* [Classificação](https://www.inferentialthinking.com/chapters/17/Classification.html)"
   ]
  },
  {
   "cell_type": "markdown",
   "metadata": {},
   "source": [
    "Por favor, complete este caderno preenchendo as células fornecidas. Antes de começar, execute a célula a seguir para configurar o caderno importando algumas bibliotecas úteis. Toda vez que você iniciar seu servidor, precisará executar esta célula novamente.\n",
    "\n",
    "Para todos os problemas em que você deve escrever explicações e frases, você **deve** fornecer sua resposta no espaço designado. **Além disso, ao longo desta lição de casa e de todas as futuras, certifique-se de não reatribuir variáveis ao longo do caderno!** Por exemplo, se você usar `max_temperature` na sua resposta para uma pergunta, não o reatribua mais tarde. Caso contrário, você falhará em testes que pensou ter passado anteriormente!\n",
    "\n",
    "**Nota: Esta lição de casa tem testes ocultos. Isso significa que, mesmo que os testes digam que 100% passaram, não significa que sua nota final será 100%. Nós executaremos mais testes para correção uma vez que todos entreguem a lição de casa.**\n",
    "\n",
    "Compartilhar diretamente as respostas não é permitido, mas discutir problemas com a equipe do curso ou com outros alunos é encorajado.\n",
    "\n",
    "Você deve começar cedo para que tenha tempo de obter ajuda se estiver com dificuldades."
   ]
  },
  {
   "cell_type": "code",
   "execution_count": null,
   "metadata": {},
   "outputs": [],
   "source": [
    "# Não altere esta célula; apenas execute-a.\n",
    "\n",
    "import numpy as np\n",
    "from datascience import *\n",
    "import d8error\n",
    "\n",
    "# Estas linhas fazem alguma mágica de plotagem sofisticada\n",
    "import matplotlib\n",
    "%matplotlib inline\n",
    "import matplotlib.pyplot as plt\n",
    "plt.style.use('fivethirtyeight')\n",
    "import warnings\n",
    "warnings.simplefilter('ignore')  # Ignora avisos simples\n",
    "from datetime import datetime"
   ]
  },
  {
   "cell_type": "markdown",
   "metadata": {},
   "source": [
    "## 1. Coordenadas das Escolas da Área da Baía com Classificação"
   ]
  },
  {
   "cell_type": "markdown",
   "metadata": {},
   "source": [
    "Bem-vindo à Lição de Casa 12! Esta lição de casa é sobre a classificação k-Vizinhos Mais Próximos (k-NN). Como este tópico é abordado em profundidade no Projeto 3, o propósito desta lição de casa é reforçar os conceitos básicos deste método. Você pode e deve reutilizar muito do código que escreveu para o Projeto 3 nesta lição de casa, ou usar código desta lição de casa no Projeto 3!"
   ]
  },
  {
   "cell_type": "markdown",
   "metadata": {},
   "source": [
    "### Nossos Queridos Vizinhos"
   ]
  },
  {
   "cell_type": "markdown",
   "metadata": {},
   "source": [
    "Carol está tentando classificar estudantes como frequentadores da UC Berkeley ou como frequentadores da Universidade de Stanford. Para classificar os estudantes, Carol tem acesso às coordenadas do local onde eles moram durante o ano letivo. Primeiro, carregue a tabela `coordinates`."
   ]
  },
  {
   "cell_type": "code",
   "execution_count": null,
   "metadata": {
    "deletable": false,
    "editable": false
   },
   "outputs": [],
   "source": [
    "# Apenas execute esta célula\n",
    "coordinates = Table.read_table('coordinates.csv')\n",
    "coordinates.show(5)"
   ]
  },
  {
   "cell_type": "markdown",
   "metadata": {},
   "source": [
    "Como de costume, vamos investigar nossos dados visualmente antes de realizar qualquer tipo de análise numérica."
   ]
  },
  {
   "cell_type": "code",
   "execution_count": null,
   "metadata": {
    "deletable": false,
    "editable": false
   },
   "outputs": [],
   "source": [
    "# Apenas execute esta célula\n",
    "coordinates.scatter(\"longitude\", \"latitude\", group=\"school\")"
   ]
  },
  {
   "cell_type": "markdown",
   "metadata": {},
   "source": [
    "Os locais dos pontos neste gráfico de dispersão podem ser familiares - execute a célula a seguir para ver a que eles correspondem."
   ]
  },
  {
   "cell_type": "code",
   "execution_count": null,
   "metadata": {
    "deletable": false,
    "editable": false,
    "scrolled": true
   },
   "outputs": [],
   "source": [
    "# Apenas execute esta célula\n",
    "colors = {\"Berkeley\":\"blue\", \"Stanford\":\"red\"}\n",
    "t = Table().with_columns(\"lat\", coordinates.column(0), \n",
    "                                      \"lon\", coordinates.column(1), \n",
    "                                      \"color\", coordinates.apply(colors.get, 2)\n",
    "                        )\n",
    "Circle.map_table(t, radius=5, fill_opacity=1)"
   ]
  },
  {
   "cell_type": "markdown",
   "metadata": {},
   "source": [
    "**Questão 1.1.** Vamos começar a implementar o algoritmo k-Vizinhos Mais Próximos. Defina a função `distance`, que recebe dois argumentos: um array de características numéricas (`arr1`) e um array diferente de características numéricas (`arr2`). A função deve retornar a [distância Euclidiana](https://pt.wikipedia.org/wiki/Dist%C3%A2ncia_euclidiana) entre os dois arrays. A distância Euclidiana é frequentemente referida como a fórmula da distância em linha reta que você pode ter aprendido anteriormente. **(10 pontos)**"
   ]
  },
  {
   "cell_type": "code",
   "execution_count": null,
   "metadata": {
    "deletable": false,
    "tags": []
   },
   "outputs": [],
   "source": [
    "def distance(arr1, arr2):\n",
    "    ...\n",
    "\n",
    "# Não altere o código da célula abaixo desta linha\n",
    "distance_example = distance(make_array(1, 2, 3), make_array(4, 5, 6))\n",
    "distance_example"
   ]
  },
  {
   "cell_type": "code",
   "execution_count": null,
   "metadata": {
    "deletable": false,
    "editable": false
   },
   "outputs": [],
   "source": [
    "grader.check(\"q1_1\")"
   ]
  },
  {
   "cell_type": "markdown",
   "metadata": {},
   "source": [
    "### Dividindo o Conjunto de Dados\n",
    "Faremos dois tipos diferentes de coisas com o conjunto de dados `coordinates`:\n",
    "\n",
    "1. Construiremos um classificador usando coordenadas para as quais conhecemos o rótulo associado; isso o ensinará a reconhecer rótulos de valores de coordenadas similares. Esse processo é conhecido como *treinamento*.\n",
    "2. Avaliaremos ou *testaremos* a precisão do classificador que construímos em dados que não vimos"
   ]
  },
  {
   "cell_type": "markdown",
   "metadata": {},
   "source": [
    "**Questão 1.2.** A seguir, vamos dividir nosso conjunto de dados em um conjunto de treinamento e um conjunto de teste. Como `coordinates` tem 100 linhas, vamos criar um conjunto de treinamento com as primeiras 75 linhas e um conjunto de teste com as 25 linhas restantes. Lembre-se de que a atribuição a cada grupo deve ser aleatória, então devemos embaralhar a tabela primeiro. **(10 pontos)**\n",
    "\n",
    "*Dica:* Como primeiro passo, podemos embaralhar todas as linhas e, em seguida, usar a função `tbl.take` para dividir as linhas de cada tabela."
   ]
  },
  {
   "cell_type": "code",
   "execution_count": null,
   "metadata": {
    "for_assignment_type": "solution",
    "tags": []
   },
   "outputs": [],
   "source": [
    "shuffled_table = ...\n",
    "train = ...\n",
    "test = ...\n",
    "\n",
    "print(\"Training set:\\t\",   train.num_rows, \"examples\")\n",
    "print(\"Test set:\\t\",       test.num_rows, \"examples\")\n",
    "train.show(5), test.show(5);"
   ]
  },
  {
   "cell_type": "code",
   "execution_count": null,
   "metadata": {
    "deletable": false,
    "editable": false
   },
   "outputs": [],
   "source": [
    "grader.check(\"q1_2\")"
   ]
  },
  {
   "cell_type": "markdown",
   "metadata": {},
   "source": [
    "**Questão 1.3.** Atribua `features` a um array de nomes de colunas (strings) das características da tabela `coordinates`. **(10 pontos)**\n",
    "\n",
    "*Dica:* Quais dos nomes de colunas na tabela `coordinates` são as características, e quais dos nomes de colunas correspondem à classe que estamos tentando prever?\n",
    "\n",
    "*Dica:* Não é necessário modificar nenhuma tabela, apenas crie manualmente um array com os nomes das características!"
   ]
  },
  {
   "cell_type": "code",
   "execution_count": null,
   "metadata": {
    "deletable": false,
    "tags": []
   },
   "outputs": [],
   "source": [
    "features = ...\n",
    "features"
   ]
  },
  {
   "cell_type": "code",
   "execution_count": null,
   "metadata": {
    "deletable": false,
    "editable": false
   },
   "outputs": [],
   "source": [
    "grader.check(\"q1_3\")"
   ]
  },
  {
   "cell_type": "markdown",
   "metadata": {},
   "source": [
    "**Questão 1.4.** Agora defina a função `classify`. Esta função deve receber uma `test_row` de uma tabela como `test` e classificá-la usando os k-Vizinhos Mais Próximos com base nas `features` corretas e nos dados em `train`. Uma revisão sobre k-Vizinhos Mais Próximos pode ser encontrada [aqui](https://www.inferentialthinking.com/chapters/17/4/Implementing_the_Classifier.html). **(10 pontos)**\n",
    "\n",
    "\n",
    "*Dica 1:* A função `distance` que definimos anteriormente recebe arrays como entrada, então use a função `row_to_array` que definimos para você para converter linhas em arrays de características.\n",
    "\n",
    "*Dica 2:* O código esqueleto que fornecemos itera por cada linha no conjunto de treinamento."
   ]
  },
  {
   "cell_type": "code",
   "execution_count": null,
   "metadata": {
    "deletable": false,
    "manual_grade": true,
    "manual_problem_id": "sign_lang_2",
    "tags": []
   },
   "outputs": [],
   "source": [
    "def row_to_array(row, features):\n",
    "    \"\"\"Converts a row to an array of its features.\"\"\"\n",
    "    arr = make_array()\n",
    "    for feature in features:\n",
    "        arr = np.append(arr, row.item(feature))\n",
    "    return arr\n",
    "\n",
    "def classify(test_row, k, train):\n",
    "    test_row_features_array = row_to_array(test_row, features)\n",
    "    distances = make_array()\n",
    "    for train_row in train.rows:\n",
    "        train_row_features_array = ...\n",
    "        row_distance = ...\n",
    "        distances = ...\n",
    "    train_with_distances = ...\n",
    "    nearest_neighbors = ...\n",
    "    most_common_label = ...\n",
    "    ...\n",
    "\n",
    "# Não altere o código abaixo\n",
    "first_test = classify(test.row(0), 5, train)\n",
    "first_test"
   ]
  },
  {
   "cell_type": "code",
   "execution_count": null,
   "metadata": {
    "deletable": false,
    "editable": false
   },
   "outputs": [],
   "source": [
    "grader.check(\"q1_4\")"
   ]
  },
  {
   "cell_type": "markdown",
   "metadata": {},
   "source": [
    "**Questão 1.5.** Defina a função `three_classify` que recebe uma `row` de `test` como argumento e classifica a linha usando 3-Vizinhos Mais Próximos. Use esta função para encontrar a `accuracy` (precisão) de um classificador 3-NN no conjunto `test`. `accuracy` deve ser uma proporção (não uma porcentagem) das escolas que foram corretamente previstas. **(10 pontos)**\n",
    "\n",
    "\n",
    "*Dica:* Você deve usar uma função que acabou de criar!\n",
    "\n",
    "*Nota:* Geralmente, antes de usar um classificador em um conjunto de teste, classificaríamos primeiro em um conjunto de \"validação\", o qual poderíamos então modificar nosso conjunto de treinamento novamente, se necessário, antes de realmente testar no conjunto de teste. Você não precisa fazer isso para esta questão, mas aprenderá mais sobre isso em Data 100."
   ]
  },
  {
   "cell_type": "code",
   "execution_count": null,
   "metadata": {
    "deletable": false,
    "manual_grade": true,
    "manual_problem_id": "sign_lang_3",
    "tags": []
   },
   "outputs": [],
   "source": [
    "def three_classify(row):\n",
    "    ...\n",
    "\n",
    "test_with_prediction = ...\n",
    "labels_correct = ...\n",
    "accuracy = ...\n",
    "accuracy"
   ]
  },
  {
   "cell_type": "code",
   "execution_count": null,
   "metadata": {
    "deletable": false,
    "editable": false
   },
   "outputs": [],
   "source": [
    "grader.check(\"q1_5\")"
   ]
  },
  {
   "cell_type": "markdown",
   "metadata": {},
   "source": [
    "**Questão 1.6.** Existem 77 linhas de estudantes da UC Berkeley e 23 linhas de estudantes da Universidade de Stanford na tabela `coordinates`. Se usássemos a tabela `coordinates` inteira como o conjunto de treinamento, qual é o menor valor de k que garantiria que um classificador k-Vizinhos Mais Próximos *sempre* preveria Berkeley como a classe? Atribua o valor a `k`. **(10 pontos)**"
   ]
  },
  {
   "cell_type": "code",
   "execution_count": null,
   "metadata": {
    "tags": []
   },
   "outputs": [],
   "source": [
    "k = ...\n",
    "k"
   ]
  },
  {
   "cell_type": "code",
   "execution_count": null,
   "metadata": {
    "deletable": false,
    "editable": false
   },
   "outputs": [],
   "source": [
    "grader.check(\"q1_6\")"
   ]
  },
  {
   "cell_type": "markdown",
   "metadata": {},
   "source": [
    "<!-- BEGIN QUESTION -->\n",
    "\n",
    "**Questão 1.7.** Por que dividimos nossos dados em um conjunto de treinamento e um conjunto de teste? Qual é o propósito de um conjunto de teste, e por que queremos usar o conjunto de teste apenas uma vez? Explique sua resposta em 3 frases ou menos. **(10 pontos)**\n",
    "\n",
    "*Dica:* Confira esta [seção](https://inferentialthinking.com/chapters/17/2/Training_and_Testing.html) no livro didático."
   ]
  },
  {
   "cell_type": "markdown",
   "metadata": {},
   "source": [
    "_Digite sua resposta aqui, substituindo este texto._"
   ]
  },
  {
   "cell_type": "markdown",
   "metadata": {},
   "source": [
    "<!-- END QUESTION -->\n",
    "\n",
    "<!-- BEGIN QUESTION -->\n",
    "\n",
    "**Questão 1.8.** Por que usamos um número ímpar para `k` em k-NN? Explique. **(10 pontos)**"
   ]
  },
  {
   "cell_type": "markdown",
   "metadata": {},
   "source": [
    "_Digite sua resposta aqui, substituindo este texto._"
   ]
  },
  {
   "cell_type": "markdown",
   "metadata": {},
   "source": [
    "<!-- END QUESTION -->\n",
    "\n",
    "**Questão 1.9.0. Configuração**\n",
    "\n",
    "Thomas elaborou um esquema para dividir o conjunto de teste e o conjunto de treinamento. Para cada linha de `coordinates`:\n",
    "- Linhas de estudantes de Stanford têm 50% de chance de serem colocadas no conjunto de treinamento e 50% de chance de serem colocadas no conjunto de teste.\n",
    "- Linhas de estudantes de Berkeley têm 80% de chance de serem colocadas no conjunto de treinamento e 20% de chance de serem colocadas no conjunto de teste.\n",
    "\n",
    "*Dica 1:* Lembre-se de que há 77 estudantes de Berkeley e 23 estudantes de Stanford em coordinates.\n",
    "\n",
    "*Dica 2:* O sobrenome de Thomas é Bayes. (Então, a [Seção 18.1](https://inferentialthinking.com/chapters/18/1/More_Likely_than_Not_Binary_Classifier.html#bayes-rule) do livro didático pode ser útil aqui!)\n",
    "\n",
    "*Dica 3:* O seguinte diagrama de árvore pode ser útil nas Questões 1.9.1 e 1.9.2!\n",
    "\n",
    "<img src=\"tree_diagram.png\" width=\"450\">"
   ]
  },
  {
   "cell_type": "markdown",
   "metadata": {},
   "source": [
    "**Questão 1.9.1.** Dado que uma linha está no conjunto de teste, qual é a probabilidade de que ela corresponda a um estudante de Stanford? Atribua essa probabilidade a `prob_furd`. **(10 pontos)**"
   ]
  },
  {
   "cell_type": "code",
   "execution_count": null,
   "metadata": {
    "tags": []
   },
   "outputs": [],
   "source": [
    "prob_furd = ...\n",
    "prob_furd"
   ]
  },
  {
   "cell_type": "code",
   "execution_count": null,
   "metadata": {
    "deletable": false,
    "editable": false
   },
   "outputs": [],
   "source": [
    "grader.check(\"q1_9_1\")"
   ]
  },
  {
   "cell_type": "markdown",
   "metadata": {},
   "source": [
    "**Questão 1.9.2.** Dado que uma linha é de Stanford, qual é a probabilidade de que o estudante esteja no conjunto de teste? Atribua essa probabilidade a `prob_test`. **(10 pontos)**"
   ]
  },
  {
   "cell_type": "code",
   "execution_count": null,
   "metadata": {
    "tags": []
   },
   "outputs": [],
   "source": [
    "prob_test = ...\n",
    "prob_test"
   ]
  },
  {
   "cell_type": "code",
   "execution_count": null,
   "metadata": {
    "deletable": false,
    "editable": false
   },
   "outputs": [],
   "source": [
    "grader.check(\"q1_9_2\")"
   ]
  },
  {
   "cell_type": "markdown",
   "metadata": {},
   "source": [
    "## (OPCIONAL, FORA DO ESCOPO): k-NN para Classificação Não Binária"
   ]
  },
  {
   "cell_type": "markdown",
   "metadata": {
    "deletable": false
   },
   "source": [
    "**ISSO NÃO ESTÁ NO ESCOPO**. Não há testes de correção automática para isso ou código para você escrever. Isso apenas depende da função `classify` na Questão 1.4. Siga em frente e leia esta seção e execute as células a seguir!\n",
    "\n",
    "Nesta classe, ensinamos você a usar o algoritmo k-NN para classificar dados como uma de duas classes. No entanto, grande parte dos dados que você encontrará no mundo real não se encaixará perfeitamente em uma de duas categorias.\n",
    "\n",
    "**Como podemos classificar dados com classes não binárias?** Acontece que ainda podemos usar k-NN! Ou seja, encontramos a distância entre um ponto e todos os seus vizinhos, encontramos os vizinhos mais próximos e fazemos uma votação majoritária entre os vizinhos para determinar a classe deste ponto.\n",
    "\n",
    "A única diferença é que agora os pontos vizinhos têm mais de duas classes possíveis. Isso introduz dificuldade porque agora não temos como garantir que não encontraremos empates entre as classes. No caso de encontrarmos um empate, podemos simplesmente escolher arbitrariamente uma das classes.\n",
    "\n",
    "Na verdade, você nem precisa modificar o código que escreveu antes para habilitar a classificação multiclasse!"
   ]
  },
  {
   "cell_type": "markdown",
   "metadata": {
    "deletable": false,
    "editable": false
   },
   "source": [
    "Vamos adicionar mais dados à nossa tabela de treinamento, desta vez para outra classe de estudantes, estudantes do San Jose Community College (SJCC)."
   ]
  },
  {
   "cell_type": "code",
   "execution_count": null,
   "metadata": {
    "deletable": false,
    "editable": false
   },
   "outputs": [],
   "source": [
    "coordinates_multi = coordinates.with_rows([\n",
    "                              [37.304346, -121.915401, \"SJCC\"],\n",
    "                              [37.316275, -121.913879, \"SJCC\"],\n",
    "                              [37.409435, -121.951379, \"SJCC\"],\n",
    "                              [37.349387, -121.960771, \"SJCC\"],\n",
    "                              [37.329083, -121.928479, \"SJCC\"],\n",
    "                              [37.313017, -121.866730, \"SJCC\"],\n",
    "                              [37.346525, -121.894767, \"SJCC\"],\n",
    "                              [37.364157, -121.955717, \"SJCC\"],\n",
    "                              [37.383362, -121.925776, \"SJCC\"],\n",
    "                              [37.329545, -121.880639, \"SJCC\"]                             \n",
    "])"
   ]
  },
  {
   "cell_type": "code",
   "execution_count": null,
   "metadata": {
    "deletable": false,
    "editable": false
   },
   "outputs": [],
   "source": [
    "classify(coordinates_multi.row(0), 5, coordinates_multi)"
   ]
  },
  {
   "cell_type": "code",
   "execution_count": null,
   "metadata": {
    "deletable": false,
    "editable": false
   },
   "outputs": [],
   "source": [
    "classify(coordinates_multi.row(91), 5, coordinates_multi)"
   ]
  },
  {
   "cell_type": "code",
   "execution_count": null,
   "metadata": {
    "deletable": false,
    "editable": false
   },
   "outputs": [],
   "source": [
    "classify(coordinates_multi.row(105), 5, coordinates_multi)"
   ]
  },
  {
   "cell_type": "markdown",
   "metadata": {},
   "source": [
    "Nosso classificador pode classificar linhas como pertencentes a uma de três classes!\n",
    "\n",
    "A classificação é um dos campos mais importantes em estatística, ciência de dados e aprendizado de máquina. Existem milhares de algoritmos de classificação diferentes e modificações de algoritmos! Há muitos que você aprenderá se continuar no caminho para se tornar um cientista de dados!"
   ]
  },
  {
   "cell_type": "markdown",
   "metadata": {},
   "source": [
    "Você concluiu a Lição de Casa 12! :,)\n",
    "\n",
    "**Passos importantes para a submissão:** \n",
    "1. Execute os testes e verifique se todos passaram.\n",
    "2. Escolha **Salvar Caderno** no menu **Arquivo**, depois **execute a célula final**.\n",
    "3. Clique no link para baixar o arquivo zip.\n",
    "4. Então, submeta o arquivo zip para a tarefa correspondente de acordo com as instruções do seu instrutor.\n",
    "\n",
    "**É sua responsabilidade garantir que seu trabalho esteja salvo antes de executar a última célula.**"
   ]
  },
  {
   "cell_type": "markdown",
   "metadata": {
    "deletable": false,
    "editable": false
   },
   "source": [
    "## Submissão\n",
    "\n",
    "Certifique-se de ter executado todas as células no seu caderno em ordem antes de executar a célula abaixo, para que todas as imagens/gráficos apareçam na saída. A célula abaixo irá gerar um arquivo zip para você submeter. **Por favor, salve antes de exportar!**"
   ]
  },
  {
   "cell_type": "code",
   "execution_count": null,
   "metadata": {
    "deletable": false,
    "editable": false
   },
   "outputs": [],
   "source": [
    "# Salve seu caderno primeiro, depois execute esta célula para exportar sua submissão.\n",
    "grader.export(pdf=False, run_tests=True)"
   ]
  },
  {
   "cell_type": "markdown",
   "metadata": {},
   "source": [
    " "
   ]
  }
 ],
 "metadata": {
  "kernelspec": {
   "display_name": "Python 3",
   "language": "python",
   "name": "python3"
  },
  "language_info": {
   "codemirror_mode": {
    "name": "ipython",
    "version": 3
   },
   "file_extension": ".py",
   "mimetype": "text/x-python",
   "name": "python",
   "nbconvert_exporter": "python",
   "pygments_lexer": "ipython3",
   "version": "3.9.10"
  },
  "otter": {
   "OK_FORMAT": true,
   "tests": {
    "q1_1": {
     "name": "q1_1",
     "points": [
      0
     ],
     "suites": [
      {
       "cases": [
        {
         "code": ">>> type(distance_example) in set([float, np.float32, np.float64])\nTrue",
         "hidden": false,
         "locked": false
        }
       ],
       "scored": true,
       "setup": "",
       "teardown": "",
       "type": "doctest"
      }
     ]
    },
    "q1_2": {
     "name": "q1_2",
     "points": [
      0,
      0
     ],
     "suites": [
      {
       "cases": [
        {
         "code": ">>> # Double check that you have the correct number of rows for the `train` table.\n>>> train.num_rows == 75\nTrue",
         "hidden": false,
         "locked": false
        },
        {
         "code": ">>> # Double check that you have the correct number of rows for the `test` table.\n>>> test.num_rows == 25\nTrue",
         "hidden": false,
         "locked": false
        }
       ],
       "scored": true,
       "setup": "",
       "teardown": "",
       "type": "doctest"
      }
     ]
    },
    "q1_3": {
     "name": "q1_3",
     "points": [
      0
     ],
     "suites": [
      {
       "cases": [
        {
         "code": ">>> type(features) == np.ndarray\nTrue",
         "hidden": false,
         "locked": false
        }
       ],
       "scored": true,
       "setup": "",
       "teardown": "",
       "type": "doctest"
      }
     ]
    },
    "q1_4": {
     "name": "q1_4",
     "points": [
      0
     ],
     "suites": [
      {
       "cases": [
        {
         "code": ">>> type(first_test) == str or type(first_test) == np.str_\nTrue",
         "hidden": false,
         "locked": false
        }
       ],
       "scored": true,
       "setup": "",
       "teardown": "",
       "type": "doctest"
      }
     ]
    },
    "q1_5": {
     "name": "q1_5",
     "points": [
      4
     ],
     "suites": [
      {
       "cases": [
        {
         "code": ">>> sorted_coordinates = coordinates.sort(\"school\")\n>>> classify(sorted_coordinates.row(29), 3, train) == three_classify(sorted_coordinates.row(29))\nTrue",
         "hidden": false,
         "locked": false
        }
       ],
       "scored": true,
       "setup": "",
       "teardown": "",
       "type": "doctest"
      }
     ]
    },
    "q1_6": {
     "name": "q1_6",
     "points": [
      0
     ],
     "suites": [
      {
       "cases": [
        {
         "code": ">>> # `k` should be an int\n>>> type(k) == int\nTrue",
         "hidden": false,
         "locked": false
        }
       ],
       "scored": true,
       "setup": "",
       "teardown": "",
       "type": "doctest"
      }
     ]
    },
    "q1_9_1": {
     "name": "q1_9_1",
     "points": [
      0,
      0
     ],
     "suites": [
      {
       "cases": [
        {
         "code": ">>> type(prob_furd) in set([float, np.float32, np.float64])\nTrue",
         "hidden": false,
         "locked": false
        },
        {
         "code": ">>> # Should be a decimal, not a percentage\n>>> 0 <= prob_furd <= 1\nTrue",
         "hidden": false,
         "locked": false
        }
       ],
       "scored": true,
       "setup": "",
       "teardown": "",
       "type": "doctest"
      }
     ]
    },
    "q1_9_2": {
     "name": "q1_9_2",
     "points": [
      0,
      0
     ],
     "suites": [
      {
       "cases": [
        {
         "code": ">>> type(prob_test) in set([float, np.float32, np.float64])\nTrue",
         "hidden": false,
         "locked": false
        },
        {
         "code": ">>> # Should be a decimal, not a percentage\n>>> 0 <= prob_test <= 1\nTrue",
         "hidden": false,
         "locked": false
        }
       ],
       "scored": true,
       "setup": "",
       "teardown": "",
       "type": "doctest"
      }
     ]
    }
   }
  }
 },
 "nbformat": 4,
 "nbformat_minor": 5
}
