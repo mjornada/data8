{
 "cells": [
  {
   "cell_type": "code",
   "execution_count": null,
   "metadata": {
    "deletable": false,
    "editable": false
   },
   "outputs": [],
   "source": [
    "# Inicialize o Otter\n",
    "import otter\n",
    "grader = otter.Notebook(\"hw07.ipynb\")"
   ]
  },
  {
   "cell_type": "markdown",
   "metadata": {},
   "source": [
    "# Trabalho de Casa 7: Testando Hipóteses\n",
    "\n",
    "Por favor, complete este notebook preenchendo as células fornecidas. Antes de começar, execute a célula anterior para carregar os testes fornecidos."
   ]
  },
  {
   "cell_type": "markdown",
   "metadata": {},
   "source": [
    "**Recurso útil:**\n",
    "\n",
    "- [Referência Python](http://data8.org/sp22/python-reference.html): Folha de dicas de métodos úteis de array e tabela usados em Data 8!\n",
    "\n",
    "**Leituras recomendadas**: \n",
    "\n",
    "* [Guia de Métodos de Amostragem](https://drive.google.com/file/d/1UtNdxDdI5XphWvwgTjODiAUFwArpZtoK/view)\n",
    "* [Testando Hipóteses](https://www.inferentialthinking.com/chapters/11/Testing_Hypotheses.html)\n",
    "* [Teste A/B](https://inferentialthinking.com/chapters/12/1/AB_Testing.html)"
   ]
  },
  {
   "cell_type": "markdown",
   "metadata": {},
   "source": [
    "Por favor, complete este notebook preenchendo as células fornecidas. Antes de começar, execute a célula seguinte para configurar o notebook importando algumas bibliotecas úteis. Cada vez que você iniciar seu servidor, precisará executar esta célula novamente.\n",
    "\n",
    "Para todos os problemas que você deve escrever explicações e frases, você **deve** fornecer sua resposta no espaço designado. **Além disso, durante este trabalho de casa e todos os futuros, certifique-se de não reatribuir variáveis ao longo do notebook!** Por exemplo, se você usar `max_temperature` em sua resposta para uma pergunta, não a reatribua mais tarde. Caso contrário, você falhará em testes que pensou que estava passando anteriormente!\n",
    "\n",
    "**Nota: Este trabalho de casa tem testes ocultos. Isso significa que mesmo que os testes digam que 100% passaram, isso não significa que sua nota final será 100%. Estaremos executando mais testes de correção uma vez que todos entreguem o trabalho de casa.**\n",
    "\n",
    "Compartilhar respostas diretamente não é permitido, mas discutir problemas com a equipe do curso ou com outros alunos é incentivado.\n",
    "\n",
    "Você deve começar cedo para ter tempo de obter ajuda se estiver preso."
   ]
  },
  {
   "cell_type": "code",
   "execution_count": null,
   "metadata": {},
   "outputs": [],
   "source": [
    "# Execute esta célula para configurar o notebook, mas por favor não altere.\n",
    "\n",
    "# Estas linhas importam os módulos Numpy e Datascience.\n",
    "import numpy as np\n",
    "from datascience import *\n",
    "import d8error\n",
    "\n",
    "# Estas linhas fazem algumas mágicas de plotagem.\n",
    "import matplotlib\n",
    "%matplotlib inline\n",
    "import matplotlib.pyplot as plt\n",
    "plt.style.use('fivethirtyeight')\n",
    "import warnings\n",
    "warnings.simplefilter('ignore', FutureWarning)"
   ]
  },
  {
   "cell_type": "markdown",
   "metadata": {},
   "source": [
    "## 1. Vacinações em Todo o País\n",
    "\n",
    "Uma clínica de vacinação tem dois tipos de vacinas contra uma doença. Cada pessoa que vem para ser vacinada recebe a Vacina 1 ou a Vacina 2. Em uma semana, todos que vieram na segunda, quarta e sexta-feira receberam a Vacina 1. Todos que vieram na terça e quinta-feira receberam a Vacina 2. A clínica é fechada nos finais de semana.\n",
    "\n",
    "O Doutor DeNero na clínica disse: \"Uau, é como jogar uma moeda que cai na cara com chance de $\\frac{3}{5}$. Cara você recebe a Vacina 1 e Coroa você recebe a Vacina 2.\"\n",
    "\n",
    "Mas o Doutor Sahai disse: \"Não, não é. Não estamos fazendo nada como jogar uma moeda.\"\n",
    "\n",
    "Naquela semana, a clínica deu a Vacina 1 para 211 pessoas e a Vacina 2 para 107 pessoas. Realize um teste de hipóteses para ver qual posição do médico é melhor apoiada pelos dados."
   ]
  },
  {
   "cell_type": "markdown",
   "metadata": {},
   "source": [
    "**Questão 1.1.** Dada a informação acima, qual foi o tamanho da amostra para os dados, e qual foi a porcentagem de pessoas que receberam a **Vacina 1?** **(4 pontos)**\n",
    "\n",
    "*Nota*: Sua porcentagem deve ser um número entre 0 e 100."
   ]
  },
  {
   "cell_type": "code",
   "execution_count": null,
   "metadata": {
    "tags": []
   },
   "outputs": [],
   "source": [
    "sample_size = ...\n",
    "percent_V1 = ...\n",
    "\n",
    "print(f\"Sample Size: {sample_size}\")\n",
    "print(f\"Vaccine 1 Percent: {percent_V1}\")"
   ]
  },
  {
   "cell_type": "code",
   "execution_count": null,
   "metadata": {
    "deletable": false,
    "editable": false
   },
   "outputs": [],
   "source": [
    "grader.check(\"q1_1\")"
   ]
  },
  {
   "cell_type": "markdown",
   "metadata": {},
   "source": [
    "<!-- BEGIN QUESTION -->\n",
    "\n",
    "**Questão 1.2.** Declare a hipótese nula. Ela deve refletir a posição do Dr. DeNero ou do Dr. Sahai. **(4 pontos)**\n",
    "\n",
    "*Nota:* Confira [11.3](https://inferentialthinking.com/chapters/11/3/Decisions_and_Uncertainty.html#step-1-the-hypotheses) para relembrar sobre hipóteses.\n"
   ]
  },
  {
   "cell_type": "markdown",
   "metadata": {},
   "source": [
    "_Digite sua resposta aqui, substituindo este texto._"
   ]
  },
  {
   "cell_type": "markdown",
   "metadata": {},
   "source": [
    "<!-- END QUESTION -->\n",
    "\n",
    "<!-- BEGIN QUESTION -->\n",
    "\n",
    "**Questão 1.3.** Declare a hipótese alternativa. Ela deve refletir a posição do médico que você não escolheu para representar na Questão 1.2. **(4 pontos)**\n",
    "\n",
    "*Nota:* Confira [11.3](https://inferentialthinking.com/chapters/11/3/Decisions_and_Uncertainty.html#step-1-the-hypotheses) para relembrar sobre hipóteses.\n"
   ]
  },
  {
   "cell_type": "markdown",
   "metadata": {},
   "source": [
    "_Digite sua resposta aqui, substituindo este texto._"
   ]
  },
  {
   "cell_type": "markdown",
   "metadata": {},
   "source": [
    "<!-- END QUESTION -->\n",
    "\n",
    "**Questão 1.4.** Uma das estatísticas de teste abaixo é apropriada para testar essas hipóteses. Atribua a variável `valid_test_stat` ao número correspondente à estatística de teste correta. **(4 pontos)**\n",
    "\n",
    "1. percent of heads - 60\n",
    "2. percent of heads - 50\n",
    "3. |percent of heads - 60|\n",
    "4. |percent of heads - 50|\n"
   ]
  },
  {
   "cell_type": "code",
   "execution_count": null,
   "metadata": {
    "tags": []
   },
   "outputs": [],
   "source": [
    "valid_test_stat = ...\n",
    "valid_test_stat"
   ]
  },
  {
   "cell_type": "code",
   "execution_count": null,
   "metadata": {
    "deletable": false,
    "editable": false
   },
   "outputs": [],
   "source": [
    "grader.check(\"q1_4\")"
   ]
  },
  {
   "cell_type": "markdown",
   "metadata": {},
   "source": [
    "**Questão 1.5.** Usando sua resposta das Questões 1.1 e 1.4, encontre o valor observado da estatística de teste e atribua-o à variável `observed_statistic`. **(4 pontos)**"
   ]
  },
  {
   "cell_type": "code",
   "execution_count": null,
   "metadata": {
    "tags": []
   },
   "outputs": [],
   "source": [
    "observed_statistic = ...\n",
    "observed_statistic"
   ]
  },
  {
   "cell_type": "code",
   "execution_count": null,
   "metadata": {
    "deletable": false,
    "editable": false
   },
   "outputs": [],
   "source": [
    "grader.check(\"q1_5\")"
   ]
  },
  {
   "cell_type": "markdown",
   "metadata": {},
   "source": [
    "**Questão 1.6.** Para realizar este teste de hipóteses, você deve simular a estatística de teste. Das quatro opções abaixo, escolha a suposição necessária para esta simulação. Atribua `assumption_needed` a um número inteiro correspondente à suposição. **(4 pontos)**\n",
    "\n",
    "1. A estatística deve ser simulada sob a hipótese nula.\n",
    "2. A estatística deve ser simulada sob a hipótese alternativa.\n",
    "3. A estatística deve ser simulada sob ambas as hipóteses.\n",
    "4. Nenhuma suposição é necessária. Podemos apenas simular a estatística."
   ]
  },
  {
   "cell_type": "code",
   "execution_count": null,
   "metadata": {
    "tags": []
   },
   "outputs": [],
   "source": [
    "assumption_needed = ...\n",
    "assumption_needed"
   ]
  },
  {
   "cell_type": "code",
   "execution_count": null,
   "metadata": {
    "deletable": false,
    "editable": false
   },
   "outputs": [],
   "source": [
    "grader.check(\"q1_6\")"
   ]
  },
  {
   "cell_type": "markdown",
   "metadata": {},
   "source": [
    "<!-- BEGIN QUESTION -->\n",
    "\n",
    "**Questão 1.7.** Simule 20.000 valores da estatística de teste sob a suposição que você escolheu na Questão 1.6. **(4 pontos)** \n",
    "\n",
    "Como de costume, comece definindo uma função que simula um valor da estatística. Sua função deve usar `sample_proportions`. (Você pode achar útil uma variável definida na Questão 1.1 aqui!) Em seguida, escreva um loop `for` para simular múltiplos valores e colete-os no array `simulated_statistics`.\n",
    "\n",
    "Use quantas linhas de código precisar. Incluímos o código que visualiza a distribuição dos valores simulados. O ponto vermelho representa a estatística observada que você encontrou na Questão 1.5.\n"
   ]
  },
  {
   "cell_type": "code",
   "execution_count": null,
   "metadata": {
    "tags": []
   },
   "outputs": [],
   "source": [
    "def one_simulated_statistic():\n",
    "    ...\n",
    "\n",
    "num_simulations = 20000\n",
    "\n",
    "simulated_statistics = ...\n",
    "for ... in ...:\n",
    "    ...\n",
    "\n",
    "# Execute esta célula algumas vezes para ver como a estatística simulada muda\n",
    "one_simulated_statistic()"
   ]
  },
  {
   "cell_type": "markdown",
   "metadata": {},
   "source": [
    "<!-- END QUESTION -->\n",
    "\n"
   ]
  },
  {
   "cell_type": "code",
   "execution_count": null,
   "metadata": {},
   "outputs": [],
   "source": [
    "# Execute esta célula para produzir um histograma das estatísticas simuladas\n",
    "\n",
    "Table().with_columns('Simulated Statistic', simulated_statistics).hist()\n",
    "plt.scatter(observed_statistic, -0.002, color='red', s=40);"
   ]
  },
  {
   "cell_type": "markdown",
   "metadata": {},
   "source": [
    "**Questão 1.8.** Usando `simulated_statistics`, `observed_statistic` e `num_simulations`, encontre o valor p empírico baseado na simulação. **(4 pontos)**"
   ]
  },
  {
   "cell_type": "code",
   "execution_count": null,
   "metadata": {
    "tags": []
   },
   "outputs": [],
   "source": [
    "p_value = ...\n",
    "p_value"
   ]
  },
  {
   "cell_type": "code",
   "execution_count": null,
   "metadata": {
    "deletable": false,
    "editable": false
   },
   "outputs": [],
   "source": [
    "grader.check(\"q1_8\")"
   ]
  },
  {
   "cell_type": "markdown",
   "metadata": {},
   "source": [
    "**Questão 1.9.** Atribua `correct_doctor` ao número correspondente à afirmação correta abaixo. Use o limite de 5% para o valor p. **(4 pontos)**\n",
    "\n",
    "1. Os dados apoiam mais a posição do Dr. DeNero do que a do Dr. Sahai.\n",
    "2. Os dados apoiam mais a posição do Dr. Sahai do que a do Dr. DeNero.\n",
    "\n",
    "Como lembrete, aqui estão as duas afirmações feitas pelo Dr. DeNero e pelo Dr. Sahai:\n",
    "> **Doutor DeNero:** \"Uau, é como jogar uma moeda que cai na cara com chance de $\\frac{3}{5}$. Cara você recebe a Vacina 1 e Coroa você recebe a Vacina 2.\"\n",
    "\n",
    ">**Doutor Sahai:** \"Não, não é. Não estamos fazendo nada como jogar uma moeda.\""
   ]
  },
  {
   "cell_type": "code",
   "execution_count": null,
   "metadata": {
    "tags": []
   },
   "outputs": [],
   "source": [
    "correct_doctor = ...\n",
    "correct_doctor"
   ]
  },
  {
   "cell_type": "code",
   "execution_count": null,
   "metadata": {
    "deletable": false,
    "editable": false
   },
   "outputs": [],
   "source": [
    "grader.check(\"q1_9\")"
   ]
  },
  {
   "cell_type": "markdown",
   "metadata": {},
   "source": [
    "## 2. Usando TVD como Estatística de Teste\n",
    "\n",
    "Antes de começar esta seção, por favor leia [esta seção](https://inferentialthinking.com/chapters/11/2/Multiple_Categories.html#a-new-statistic-the-distance-between-two-distributions) do livro-texto sobre TVD!"
   ]
  },
  {
   "cell_type": "markdown",
   "metadata": {},
   "source": [
    "**A distância total de variação (TVD)** é um tipo especial de estatística de teste que usamos quando queremos comparar duas distribuições de *dados categóricos*. É frequentemente usada quando observamos que um conjunto de proporções/probabilidades observadas é diferente do que esperamos sob o modelo nulo.\n",
    "\n",
    "Considere um dado de seis faces que jogamos 6.000 vezes. Se o dado for justo, esperaríamos que cada face aparecesse $\\frac{1}{6}$ do tempo. Por acaso, um dado justo nem sempre resultará em proporções iguais (ou seja, não obteremos exatamente 1.000 de cada face). No entanto, se suspeitarmos que o dado pode ser injusto com base nos dados, podemos realizar um teste de hipóteses usando TVD para comparar a distribuição esperada [$\\frac{1}{6}$, $\\frac{1}{6}$, $\\frac{1}{6}$, $\\frac{1}{6}$, $\\frac{1}{6}$, $\\frac{1}{6}$] com o que é realmente observado.\n",
    "\n",
    "Nesta parte do trabalho de casa, veremos como podemos usar o TVD para determinar o efeito que diferentes fatores têm sobre a felicidade.\n",
    "\n",
    "Trabalharemos com dados da [Pesquisa Mundial Gallup](https://www.gallup.com/analytics/349487/gallup-global-happiness-center.aspx#:~:text=World%20Happiness%20Report&text=Using%20the%20Gallup%20World%20Poll,about%20the%20World%20Happiness%20Report.) que é apresentada no Relatório Mundial de Felicidade, uma pesquisa sobre o estado da felicidade global. A pesquisa classificou 155 países por felicidade geral e estimou a influência que a produção econômica, o apoio social, a expectativa de vida, a liberdade, a ausência de corrupção e a generosidade tiveram sobre a felicidade da população. O estudo foi repetido por vários anos, mas estaremos olhando para os dados da pesquisa de 2016.\n",
    "\n",
    "Execute a célula abaixo para carregar a tabela `happiness_scores`."
   ]
  },
  {
   "cell_type": "code",
   "execution_count": null,
   "metadata": {},
   "outputs": [],
   "source": [
    "happiness_scores = Table.read_table(\"happiness_scores.csv\")\n",
    "happiness_scores.show(5)"
   ]
  },
  {
   "cell_type": "markdown",
   "metadata": {},
   "source": [
    "Os participantes do estudo foram solicitados a avaliar sua satisfação com a vida em uma escala de 0 (pior vida possível) a 10 (melhor vida possível). As respostas para cada país foram calculadas para criar o `Happiness Score`.\n",
    "\n",
    "As colunas `Economy (GDP per Capita)`, `Family`, `Health (Life Expectancy)`, `Freedom`, `Trust (Government Corruption)` e `Generosity` estimam a extensão em que cada fator influencia a felicidade, tanto para melhor quanto para pior. O índice de felicidade é a soma desses fatores; quanto maior um fator, mais ele contribui para a felicidade geral. [Em outras palavras, se você somar todos os fatores (além de um valor \"Diferença da Distopia\" que excluímos no conjunto de dados), você obtém o índice de felicidade.]\n",
    "\n",
    "Vamos olhar para os diferentes fatores que afetam a felicidade nos Estados Unidos. Execute a célula abaixo para visualizar a linha em `us_happiness` que contém dados para os Estados Unidos."
   ]
  },
  {
   "cell_type": "code",
   "execution_count": null,
   "metadata": {},
   "outputs": [],
   "source": [
    "us_happiness = happiness_scores.where(\"Country\", \"United States\")\n",
    "us_happiness"
   ]
  },
  {
   "cell_type": "markdown",
   "metadata": {},
   "source": [
    "**Para comparar os diferentes fatores, vamos olhar para a proporção do índice de felicidade que é atribuída a cada variável. \n",
    "Você pode encontrar essas proporções na tabela `us_happiness_factors` após executar a célula abaixo.**\n",
    "\n",
    "*Nota:* Os fatores mostrados em `us_happiness` não somam exatamente ao índice de felicidade, então ajustamos as proporções para contabilizar apenas os dados aos quais temos acesso. As proporções foram encontradas dividindo cada valor do Fator de Felicidade pela soma de todos os valores do Fator de Felicidade em `us_happiness`."
   ]
  },
  {
   "cell_type": "code",
   "execution_count": null,
   "metadata": {},
   "outputs": [],
   "source": [
    "us_happiness_factors = Table().read_table(\"us_happiness_factors.csv\")\n",
    "us_happiness_factors"
   ]
  },
  {
   "cell_type": "markdown",
   "metadata": {},
   "source": [
    "<!-- BEGIN QUESTION -->\n",
    "\n",
    "**Questão 2.1.** Suponha que queremos testar se cada fator contribui igualmente para a pontuação geral de Felicidade. Defina a hipótese nula, a hipótese alternativa e a estatística de teste na célula abaixo. Sinta-se à vontade para verificar seu trabalho com outro estudante ou com a equipe do curso. **(4 pontos)**\n",
    "\n",
    "*Nota:* Por favor, formate sua resposta da seguinte maneira:\n",
    "- Null Hypothesis: ...  \n",
    "- Alternative Hypothesis: ...  \n",
    "- Test Statistic: ...  \n",
    "\n"
   ]
  },
  {
   "cell_type": "markdown",
   "metadata": {},
   "source": [
    "_Digite sua resposta aqui, substituindo este texto._"
   ]
  },
  {
   "cell_type": "markdown",
   "metadata": {},
   "source": [
    "<!-- END QUESTION -->\n",
    "\n",
    "**Questão 2.2.** Escreva uma função `calculate_tvd` que recebe a distribuição observada (`obs_dist`) e a distribuição esperada sob a hipótese nula (`null_dist`) e calcula a distância total de variação. Use esta função para definir `observed_tvd` como igual à estatística de teste observada. **(4 pontos)**\n"
   ]
  },
  {
   "cell_type": "code",
   "execution_count": null,
   "metadata": {
    "tags": []
   },
   "outputs": [],
   "source": [
    "null_distribution = np.ones(6) * (1/6)\n",
    "\n",
    "def calculate_tvd(obs_dist, null_dist):\n",
    "    ...\n",
    "    \n",
    "observed_tvd = ...\n",
    "observed_tvd"
   ]
  },
  {
   "cell_type": "code",
   "execution_count": null,
   "metadata": {
    "deletable": false,
    "editable": false
   },
   "outputs": [],
   "source": [
    "grader.check(\"q2_2\")"
   ]
  },
  {
   "cell_type": "markdown",
   "metadata": {},
   "source": [
    "**Questão 2.3.** Crie um array chamado `simulated_tvds` que contém 10.000 valores simulados sob a hipótese nula. Suponha que a amostra original consistia de 1.000 indivíduos. **(4 pontos)**\n",
    "\n",
    "*Dica:* A função `sample_proportions` pode ser útil para você. Consulte a [Folha de Referência Python](http://data8.org/sp22/python-reference.html#:~:text=sample_proportions(sample_size%2C%20model_proportions)) para ler mais sobre ela!"
   ]
  },
  {
   "cell_type": "code",
   "execution_count": null,
   "metadata": {
    "tags": []
   },
   "outputs": [],
   "source": [
    "simulated_tvds = ...\n",
    "\n",
    "..."
   ]
  },
  {
   "cell_type": "code",
   "execution_count": null,
   "metadata": {
    "deletable": false,
    "editable": false
   },
   "outputs": [],
   "source": [
    "grader.check(\"q2_3\")"
   ]
  },
  {
   "cell_type": "markdown",
   "metadata": {},
   "source": [
    "Execute a célula abaixo para plotar um histograma de suas estatísticas de teste simuladas, bem como um ponto vermelho representando o valor observado da estatística de teste."
   ]
  },
  {
   "cell_type": "code",
   "execution_count": null,
   "metadata": {},
   "outputs": [],
   "source": [
    "Table().with_column(\"Simulated TVDs\", simulated_tvds).hist()\n",
    "plt.scatter(observed_tvd, 0, color='red', s=70, zorder=2);\n",
    "plt.show();"
   ]
  },
  {
   "cell_type": "markdown",
   "metadata": {},
   "source": [
    "**Questão 2.4.** Use suas estatísticas simuladas para calcular o valor p do seu teste. Certifique-se de que este número seja consistente com o que você observou no histograma acima. **(4 pontos)**"
   ]
  },
  {
   "cell_type": "code",
   "execution_count": null,
   "metadata": {
    "tags": []
   },
   "outputs": [],
   "source": [
    "p_value_tvd = ...\n",
    "p_value_tvd"
   ]
  },
  {
   "cell_type": "code",
   "execution_count": null,
   "metadata": {
    "deletable": false,
    "editable": false
   },
   "outputs": [],
   "source": [
    "grader.check(\"q2_4\")"
   ]
  },
  {
   "cell_type": "markdown",
   "metadata": {},
   "source": [
    "<!-- BEGIN QUESTION -->\n",
    "\n",
    "**Questão 2.5.** O que você pode concluir sobre como cada fator contribui para a pontuação geral de felicidade nos EUA? Explique sua resposta usando os resultados do seu teste de hipóteses. Assuma um corte de valor p de 5%. **(4 pontos)**\n"
   ]
  },
  {
   "cell_type": "markdown",
   "metadata": {},
   "source": [
    "_Digite sua resposta aqui, substituindo este texto._"
   ]
  },
  {
   "cell_type": "markdown",
   "metadata": {},
   "source": [
    "<!-- END QUESTION -->\n",
    "\n",
    "## 3. Quem é mais velho?\n",
    "\n",
    "Cientistas de dados selecionaram uma amostra aleatória simples de 500 pessoas de uma grande população de adultos. Cada membro da população se identificou como \"masculino\" ou \"feminino\". Dados foram coletados sobre vários atributos das pessoas amostradas, incluindo idade. A tabela `sampled_ages` contém uma linha para cada pessoa na amostra, com colunas contendo a identidade de gênero do indivíduo."
   ]
  },
  {
   "cell_type": "code",
   "execution_count": null,
   "metadata": {},
   "outputs": [],
   "source": [
    "sampled_ages = Table.read_table('age.csv')\n",
    "sampled_ages.show(5)"
   ]
  },
  {
   "cell_type": "markdown",
   "metadata": {},
   "source": [
    "**Questão 3.1.** Quantas mulheres havia em nossa amostra? Por favor, use o esqueleto de código fornecido. **(4 pontos)**\n",
    "\n",
    "*Dica:* Lembre-se de que `.group` classifica as categorias em ordem alfabética!"
   ]
  },
  {
   "cell_type": "code",
   "execution_count": null,
   "metadata": {
    "tags": []
   },
   "outputs": [],
   "source": [
    "num_females = sampled_ages.group(...)...\n",
    "num_females"
   ]
  },
  {
   "cell_type": "code",
   "execution_count": null,
   "metadata": {
    "deletable": false,
    "editable": false
   },
   "outputs": [],
   "source": [
    "grader.check(\"q3_1\")"
   ]
  },
  {
   "cell_type": "markdown",
   "metadata": {},
   "source": [
    "**Questão 3.2.** Complete a célula abaixo para que `avg_male_vs_female` seja `True` se os homens amostrados forem mais velhos do que as mulheres amostradas em média, e `False` caso contrário. Use código Python para conseguir isso. **(4 pontos)**"
   ]
  },
  {
   "cell_type": "code",
   "execution_count": null,
   "metadata": {
    "tags": []
   },
   "outputs": [],
   "source": [
    "group_mean_tbl = sampled_ages.group(...)\n",
    "group_means = group_mean_tbl...       # array of mean ages\n",
    "avg_male_vs_female = group_means... > group_means...\n",
    "avg_male_vs_female"
   ]
  },
  {
   "cell_type": "code",
   "execution_count": null,
   "metadata": {
    "deletable": false,
    "editable": false
   },
   "outputs": [],
   "source": [
    "grader.check(\"q3_2\")"
   ]
  },
  {
   "cell_type": "markdown",
   "metadata": {},
   "source": [
    "**Questão 3.3.** Os cientistas de dados querem usar os dados para testar se os homens são mais velhos do que as mulheres - ou, em outras palavras, se as idades dos dois grupos têm a mesma distribuição. Uma das seguintes afirmações é a hipótese nula deles e outra é a hipótese alternativa. Atribua `null_statement_number` e `alternative_statement_number` aos números das afirmações corretas na célula de código abaixo. **(4 pontos)**\n",
    "\n",
    "1. Na amostra, os homens e as mulheres têm a mesma distribuição de idades; as médias amostrais dos dois grupos são diferentes devido ao acaso.\n",
    "2. Na população, os homens e as mulheres têm a mesma distribuição de idades; as médias amostrais dos dois grupos são diferentes devido ao acaso.\n",
    "3. As distribuições de idade de homens e mulheres na população são diferentes devido ao acaso.\n",
    "4. Os homens na amostra são mais velhos do que as mulheres, em média.\n",
    "5. Os homens na população são mais velhos do que as mulheres, em média.\n",
    "6. As idades médias dos homens e mulheres na população são diferentes."
   ]
  },
  {
   "cell_type": "code",
   "execution_count": null,
   "metadata": {
    "tags": []
   },
   "outputs": [],
   "source": [
    "null_statement_number = ...\n",
    "alternative_statement_number = ..."
   ]
  },
  {
   "cell_type": "code",
   "execution_count": null,
   "metadata": {
    "deletable": false,
    "editable": false
   },
   "outputs": [],
   "source": [
    "grader.check(\"q3_3\")"
   ]
  },
  {
   "cell_type": "markdown",
   "metadata": {},
   "source": [
    "**Questão 3.4.** Os cientistas de dados decidiram usar um teste de permutação. Atribua `permutation_test_reason` ao número correspondente à razão pela qual eles fizeram essa escolha. **(4 pontos)**\n",
    "\n",
    "1. Como a idade de uma pessoa não deve estar relacionada ao seu gênero, não importa quem é rotulado como \"masculino\" e quem é rotulado como \"feminino\", então você pode usar permutações.\n",
    "2. Sob a hipótese nula, permutar os rótulos na tabela `sampled_ages` é equivalente a tirar uma nova amostra aleatória com o mesmo número de homens e mulheres que na amostra original.\n",
    "3. Sob a hipótese nula, permutar as linhas da tabela `sampled_ages` é equivalente a tirar uma nova amostra aleatória com o mesmo número de homens e mulheres que na amostra original."
   ]
  },
  {
   "cell_type": "code",
   "execution_count": null,
   "metadata": {
    "tags": []
   },
   "outputs": [],
   "source": [
    "permutation_test_reason = ...\n",
    "permutation_test_reason"
   ]
  },
  {
   "cell_type": "code",
   "execution_count": null,
   "metadata": {
    "deletable": false,
    "editable": false
   },
   "outputs": [],
   "source": [
    "grader.check(\"q3_4\")"
   ]
  },
  {
   "cell_type": "markdown",
   "metadata": {},
   "source": [
    "**Questão 3.5.** Para testar suas hipóteses, os cientistas de dados seguiram o conselho do nosso livro didático e escolheram uma estatística de teste onde a seguinte afirmação é verdadeira: Valores grandes da estatística de teste favorecem a hipótese alternativa.\n",
    "\n",
    "A estatística de teste dos cientistas de dados é uma das duas opções abaixo. Qual delas é? Atribua o número apropriado à variável `correct_test_stat`. **(4 pontos)**\n",
    "\n",
    "1. \"média de idade masculina - média de idade feminina\" em uma amostra criada ao embaralhar aleatoriamente os rótulos masculino/feminino\n",
    "2. \"|média de idade masculina - média de idade feminina|\" em uma amostra criada ao embaralhar aleatoriamente os rótulos masculino/feminino"
   ]
  },
  {
   "cell_type": "code",
   "execution_count": null,
   "metadata": {
    "tags": []
   },
   "outputs": [],
   "source": [
    "correct_test_stat = ...\n",
    "correct_test_stat"
   ]
  },
  {
   "cell_type": "code",
   "execution_count": null,
   "metadata": {
    "deletable": false,
    "editable": false
   },
   "outputs": [],
   "source": [
    "grader.check(\"q3_5\")"
   ]
  },
  {
   "cell_type": "markdown",
   "metadata": {},
   "source": [
    "**Questão 3.6.** Complete a célula abaixo para que `observed_statistic_ab` seja avaliado como o valor observado da estatística de teste dos cientistas de dados. Use quantas linhas de código precisar, e lembre-se de que você pode usar qualquer quantidade, tabela ou array que criou anteriormente. **(4 pontos)**"
   ]
  },
  {
   "cell_type": "code",
   "execution_count": null,
   "metadata": {
    "tags": []
   },
   "outputs": [],
   "source": [
    "observed_statistic_ab = ...\n",
    "observed_statistic_ab"
   ]
  },
  {
   "cell_type": "code",
   "execution_count": null,
   "metadata": {
    "deletable": false,
    "editable": false
   },
   "outputs": [],
   "source": [
    "grader.check(\"q3_6\")"
   ]
  },
  {
   "cell_type": "markdown",
   "metadata": {},
   "source": [
    "**Questão 3.7.** Atribua `shuffled_labels` a um array de rótulos masculino/feminino embaralhados. O restante do código coloca o array em uma tabela junto com os dados em `sampled_ages`. **(4 pontos)**\n",
    "\n",
    "*Nota:* Confira [12.1](https://inferentialthinking.com/chapters/12/1/AB_Testing.html#predicting-the-statistic-under-the-null-hypothesis) para relembrar sobre permutações aleatórias."
   ]
  },
  {
   "cell_type": "code",
   "execution_count": null,
   "metadata": {
    "tags": []
   },
   "outputs": [],
   "source": [
    "shuffled_labels = ...\n",
    "original_with_shuffled_labels = sampled_ages.with_columns('Shuffled Label', shuffled_labels)\n",
    "original_with_shuffled_labels"
   ]
  },
  {
   "cell_type": "code",
   "execution_count": null,
   "metadata": {
    "deletable": false,
    "editable": false
   },
   "outputs": [],
   "source": [
    "grader.check(\"q3_7\")"
   ]
  },
  {
   "cell_type": "markdown",
   "metadata": {},
   "source": [
    "**Questão 3.8.** A comparação abaixo usa o array `shuffled_labels` da Questão 3.7 e a contagem `num_females` da Questão 3.1.\n",
    "\n",
    "Para esta comparação, atribua o número correto de uma das seguintes opções à variável `correct_q8`. **Pretenda que este é um problema de prova intermediária e resolva-o sem fazer o cálculo em uma célula de código.** **(4 pontos)**\n",
    "\n",
    "`comp = np.count_nonzero(shuffled_labels == 'female') == num_females`\n",
    "\n",
    "1. `comp` é definido como `True`.\n",
    "2. `comp` é definido como `False`.\n",
    "3. `comp` é definido como `True` ou `False`, dependendo de como o embaralhamento ocorreu."
   ]
  },
  {
   "cell_type": "code",
   "execution_count": null,
   "metadata": {
    "tags": []
   },
   "outputs": [],
   "source": [
    "correct_q8 = ...\n",
    "correct_q8"
   ]
  },
  {
   "cell_type": "code",
   "execution_count": null,
   "metadata": {
    "deletable": false,
    "editable": false
   },
   "outputs": [],
   "source": [
    "grader.check(\"q3_8\")"
   ]
  },
  {
   "cell_type": "markdown",
   "metadata": {},
   "source": [
    "**Questão 3.9.** Defina uma função `simulate_one_statistic` que não recebe argumentos e retorna um valor simulado da estatística de teste. Nós fornecemos um esqueleto, mas sinta-se à vontade para abordar esta questão de uma maneira que faça sentido para você. Use quantas linhas de código precisar. Consulte o código que você já escreveu neste problema, pois você pode ser capaz de reutilizar parte dele. **(4 pontos)**"
   ]
  },
  {
   "cell_type": "code",
   "execution_count": null,
   "metadata": {
    "tags": []
   },
   "outputs": [],
   "source": [
    "def simulate_one_statistic():\n",
    "    \"Returns one value of our simulated test statistic\"\n",
    "    shuffled_labels = ...\n",
    "    shuffled_tbl = ...\n",
    "    group_means = ...\n",
    "    ..."
   ]
  },
  {
   "cell_type": "code",
   "execution_count": null,
   "metadata": {
    "deletable": false,
    "editable": false
   },
   "outputs": [],
   "source": [
    "grader.check(\"q3_9\")"
   ]
  },
  {
   "cell_type": "markdown",
   "metadata": {},
   "source": [
    "Depois de definir sua função, execute a célula a seguir algumas vezes para ver como a estatística varia."
   ]
  },
  {
   "cell_type": "code",
   "execution_count": null,
   "metadata": {},
   "outputs": [],
   "source": [
    "simulate_one_statistic()"
   ]
  },
  {
   "cell_type": "markdown",
   "metadata": {},
   "source": [
    "**Questão 3.10.** Complete a célula para simular 4.000 valores da estatística. Incluímos o código que desenha a distribuição empírica da estatística e mostra o valor de `observed_statistic_ab` da Questão 3.6. Sinta-se à vontade para usar quantas linhas de código precisar. **(4 pontos)**\n",
    "\n",
    "*Nota:* Esta célula levará cerca de um minuto para ser executada."
   ]
  },
  {
   "cell_type": "code",
   "execution_count": null,
   "metadata": {
    "scrolled": true,
    "tags": []
   },
   "outputs": [],
   "source": [
    "repetitions = 4000\n",
    "\n",
    "simulated_statistics_ab = make_array()\n",
    "...\n",
    "    simulated_statistics_ab = ...\n",
    "\n",
    "# Não altere estas linhas\n",
    "Table().with_columns('Simulated Statistic', simulated_statistics_ab).hist()\n",
    "plt.scatter(observed_statistic_ab, -0.002, color='red', s=70);"
   ]
  },
  {
   "cell_type": "code",
   "execution_count": null,
   "metadata": {
    "deletable": false,
    "editable": false
   },
   "outputs": [],
   "source": [
    "grader.check(\"q3_10\")"
   ]
  },
  {
   "cell_type": "markdown",
   "metadata": {},
   "source": [
    "**Questão 3.11.** Use a simulação para encontrar uma aproximação empírica para o valor p. Atribua `p_val` ao valor p apropriado desta simulação. Em seguida, atribua `conclusion` a `null_hyp` ou `alt_hyp`. **(4 pontos)** \n",
    "\n",
    "*Nota:* Suponha que usamos o corte de 5% para o valor p."
   ]
  },
  {
   "cell_type": "code",
   "execution_count": null,
   "metadata": {
    "tags": []
   },
   "outputs": [],
   "source": [
    "# Estas são variáveis fornecidas para você usar.\n",
    "null_hyp = 'The data are consistent with the null hypothesis.'\n",
    "alt_hyp = 'The data support the alternative more than the null.'\n",
    "\n",
    "p_val = ...\n",
    "conclusion = ...\n",
    "\n",
    "p_val, conclusion # Não altere esta linha"
   ]
  },
  {
   "cell_type": "code",
   "execution_count": null,
   "metadata": {
    "deletable": false,
    "editable": false
   },
   "outputs": [],
   "source": [
    "grader.check(\"q3_11\")"
   ]
  },
  {
   "cell_type": "markdown",
   "metadata": {},
   "source": [
    "Você terminou o Trabalho de Casa 7!\n",
    "\n",
    "**Passos importantes para a submissão:**\n",
    "1. Execute os testes e verifique se todos passaram.\n",
    "2. Escolha **Salvar Notebook** no menu **Arquivo**, então **execute a última célula**.\n",
    "3. Clique no link para baixar o arquivo zip.\n",
    "4. Em seguida, envie o arquivo zip para a tarefa correspondente de acordo com as instruções do seu professor.\n",
    "\n",
    "**É sua responsabilidade garantir que seu trabalho esteja salvo antes de executar a última célula.**"
   ]
  },
  {
   "cell_type": "markdown",
   "metadata": {
    "deletable": false,
    "editable": false
   },
   "source": [
    "## Submissão\n",
    "\n",
    "Certifique-se de ter executado todas as células em seu notebook em ordem antes de executar a célula abaixo, para que todas as imagens/gráficos apareçam na saída. A célula abaixo irá gerar um arquivo zip para você enviar. **Por favor, salve antes de exportar!**"
   ]
  },
  {
   "cell_type": "code",
   "execution_count": null,
   "metadata": {
    "deletable": false,
    "editable": false
   },
   "outputs": [],
   "source": [
    "# Salve seu notebook primeiro, depois execute esta célula para exportar sua submissão.\n",
    "grader.export(pdf=False, run_tests=True)"
   ]
  },
  {
   "cell_type": "markdown",
   "metadata": {},
   "source": [
    " "
   ]
  }
 ],
 "metadata": {
  "kernelspec": {
   "display_name": "Python 3 (ipykernel)",
   "language": "python",
   "name": "python3"
  },
  "language_info": {
   "codemirror_mode": {
    "name": "ipython",
    "version": 3
   },
   "file_extension": ".py",
   "mimetype": "text/x-python",
   "name": "python",
   "nbconvert_exporter": "python",
   "pygments_lexer": "ipython3",
   "version": "3.7.3"
  },
  "otter": {
   "OK_FORMAT": true,
   "tests": {
    "q1_1": {
     "name": "q1_1",
     "points": [
      0,
      0,
      0,
      0
     ],
     "suites": [
      {
       "cases": [
        {
         "code": ">>> type(sample_size) == int\nTrue",
         "hidden": false,
         "locked": false
        },
        {
         "code": ">>> type(percent_V1) == float or type(percent_V1) == int\nTrue",
         "hidden": false,
         "locked": false
        },
        {
         "code": ">>> 100 <= sample_size <= 500\nTrue",
         "hidden": false,
         "locked": false
        },
        {
         "code": ">>> 0 <= percent_V1 <= 100\nTrue",
         "hidden": false,
         "locked": false
        }
       ],
       "scored": true,
       "setup": "",
       "teardown": "",
       "type": "doctest"
      }
     ]
    },
    "q1_4": {
     "name": "q1_4",
     "points": [
      0,
      0
     ],
     "suites": [
      {
       "cases": [
        {
         "code": ">>> type(valid_test_stat) == int\nTrue",
         "hidden": false,
         "locked": false
        },
        {
         "code": ">>> any((valid_test_stat == x for x in np.arange(1,5)))\nTrue",
         "hidden": false,
         "locked": false
        }
       ],
       "scored": true,
       "setup": "",
       "teardown": "",
       "type": "doctest"
      }
     ]
    },
    "q1_5": {
     "name": "q1_5",
     "points": [
      0,
      0
     ],
     "suites": [
      {
       "cases": [
        {
         "code": ">>> type(observed_statistic) == float\nTrue",
         "hidden": false,
         "locked": false
        },
        {
         "code": ">>> 0 <= observed_statistic <= 100\nTrue",
         "hidden": false,
         "locked": false
        }
       ],
       "scored": true,
       "setup": "",
       "teardown": "",
       "type": "doctest"
      }
     ]
    },
    "q1_6": {
     "name": "q1_6",
     "points": [
      0,
      0
     ],
     "suites": [
      {
       "cases": [
        {
         "code": ">>> type(assumption_needed) == int\nTrue",
         "hidden": false,
         "locked": false
        },
        {
         "code": ">>> 1 <= assumption_needed <= 4\nTrue",
         "hidden": false,
         "locked": false
        }
       ],
       "scored": true,
       "setup": "",
       "teardown": "",
       "type": "doctest"
      }
     ]
    },
    "q1_8": {
     "name": "q1_8",
     "points": [
      0,
      0
     ],
     "suites": [
      {
       "cases": [
        {
         "code": ">>> import numpy as np\n>>> type(p_value) == float or type(p_value) == np.float64\nTrue",
         "hidden": false,
         "locked": false
        },
        {
         "code": ">>> 0 <= p_value <= 1\nTrue",
         "hidden": false,
         "locked": false
        }
       ],
       "scored": true,
       "setup": "",
       "teardown": "",
       "type": "doctest"
      }
     ]
    },
    "q1_9": {
     "name": "q1_9",
     "points": [
      0,
      0
     ],
     "suites": [
      {
       "cases": [
        {
         "code": ">>> type(correct_doctor) == int\nTrue",
         "hidden": false,
         "locked": false
        },
        {
         "code": ">>> any((correct_doctor == x for x in (1,2)))\nTrue",
         "hidden": false,
         "locked": false
        }
       ],
       "scored": true,
       "setup": "",
       "teardown": "",
       "type": "doctest"
      }
     ]
    },
    "q2_2": {
     "name": "q2_2",
     "points": [
      2,
      2
     ],
     "suites": [
      {
       "cases": [
        {
         "code": ">>> import numpy as np\n>>> type(observed_tvd) in set([float, np.float32, np.float64])\nTrue",
         "hidden": false,
         "locked": false
        },
        {
         "code": ">>> np.isclose(round(observed_tvd, 6), 0.262086)\nTrue",
         "hidden": false,
         "locked": false
        }
       ],
       "scored": true,
       "setup": "",
       "teardown": "",
       "type": "doctest"
      }
     ]
    },
    "q2_3": {
     "name": "q2_3",
     "points": [
      1,
      1,
      1,
      1
     ],
     "suites": [
      {
       "cases": [
        {
         "code": ">>> len(simulated_tvds) == 10000\nTrue",
         "hidden": false,
         "locked": false
        },
        {
         "code": ">>> all(simulated_tvds >= 0)\nTrue",
         "hidden": false,
         "locked": false
        },
        {
         "code": ">>> # Make sure that your test statistic is not always the same value \n>>> len(np.unique(simulated_tvds)) != 1\nTrue",
         "hidden": false,
         "locked": false
        },
        {
         "code": ">>> # Make sure you're simulating under the null hypothesis\n>>> np.mean(simulated_tvds) < 0.1\nTrue",
         "hidden": false,
         "locked": false
        }
       ],
       "scored": true,
       "setup": "",
       "teardown": "",
       "type": "doctest"
      }
     ]
    },
    "q2_4": {
     "name": "q2_4",
     "points": [
      4
     ],
     "suites": [
      {
       "cases": [
        {
         "code": ">>> 0 <= p_value_tvd <= 1\nTrue",
         "hidden": false,
         "locked": false
        }
       ],
       "scored": true,
       "setup": "",
       "teardown": "",
       "type": "doctest"
      }
     ]
    },
    "q3_1": {
     "name": "q3_1",
     "points": [
      0
     ],
     "suites": [
      {
       "cases": [
        {
         "code": ">>> 0 <= num_females <= 500\nTrue",
         "hidden": false,
         "locked": false
        }
       ],
       "scored": true,
       "setup": "",
       "teardown": "",
       "type": "doctest"
      }
     ]
    },
    "q3_10": {
     "name": "q3_10",
     "points": [
      4
     ],
     "suites": [
      {
       "cases": [
        {
         "code": ">>> len(simulated_statistics_ab) == 4000\nTrue",
         "hidden": false,
         "locked": false
        }
       ],
       "scored": true,
       "setup": "",
       "teardown": "",
       "type": "doctest"
      }
     ]
    },
    "q3_11": {
     "name": "q3_11",
     "points": [
      0,
      0,
      0
     ],
     "suites": [
      {
       "cases": [
        {
         "code": ">>> import numpy as np\n>>> type(p_val) in set([float, np.float32, np.float64])\nTrue",
         "hidden": false,
         "locked": false
        },
        {
         "code": ">>> 0 <= p_val <= 1\nTrue",
         "hidden": false,
         "locked": false
        },
        {
         "code": ">>> type(conclusion) == str\nTrue",
         "hidden": false,
         "locked": false
        }
       ],
       "scored": true,
       "setup": "",
       "teardown": "",
       "type": "doctest"
      }
     ]
    },
    "q3_2": {
     "name": "q3_2",
     "points": [
      0
     ],
     "suites": [
      {
       "cases": [
        {
         "code": ">>> import numpy as np\n>>> type(avg_male_vs_female) in set([bool, np.bool_])\nTrue",
         "hidden": false,
         "locked": false
        }
       ],
       "scored": true,
       "setup": "",
       "teardown": "",
       "type": "doctest"
      }
     ]
    },
    "q3_3": {
     "name": "q3_3",
     "points": [
      0,
      0,
      0,
      0,
      0
     ],
     "suites": [
      {
       "cases": [
        {
         "code": ">>> type(null_statement_number) == int\nTrue",
         "hidden": false,
         "locked": false
        },
        {
         "code": ">>> type(alternative_statement_number) == int\nTrue",
         "hidden": false,
         "locked": false
        },
        {
         "code": ">>> any(null_statement_number == x for x in np.arange(1,7))\nTrue",
         "hidden": false,
         "locked": false
        },
        {
         "code": ">>> any(alternative_statement_number == x for x in np.arange(1,7))\nTrue",
         "hidden": false,
         "locked": false
        },
        {
         "code": ">>> null_statement_number != alternative_statement_number\nTrue",
         "hidden": false,
         "locked": false
        }
       ],
       "scored": true,
       "setup": "",
       "teardown": "",
       "type": "doctest"
      }
     ]
    },
    "q3_4": {
     "name": "q3_4",
     "points": [
      0,
      0
     ],
     "suites": [
      {
       "cases": [
        {
         "code": ">>> type(permutation_test_reason) == int\nTrue",
         "hidden": false,
         "locked": false
        },
        {
         "code": ">>> any(permutation_test_reason == x for x in np.arange(1,4))\nTrue",
         "hidden": false,
         "locked": false
        }
       ],
       "scored": true,
       "setup": "",
       "teardown": "",
       "type": "doctest"
      }
     ]
    },
    "q3_5": {
     "name": "q3_5",
     "points": [
      0,
      0
     ],
     "suites": [
      {
       "cases": [
        {
         "code": ">>> type(correct_test_stat) == int\nTrue",
         "hidden": false,
         "locked": false
        },
        {
         "code": ">>> any(correct_test_stat == x for x in np.arange(1,3))\nTrue",
         "hidden": false,
         "locked": false
        }
       ],
       "scored": true,
       "setup": "",
       "teardown": "",
       "type": "doctest"
      }
     ]
    },
    "q3_6": {
     "name": "q3_6",
     "points": [
      0,
      0
     ],
     "suites": [
      {
       "cases": [
        {
         "code": ">>> type(observed_statistic_ab) == float\nTrue",
         "hidden": false,
         "locked": false
        },
        {
         "code": ">>> observed_statistic_ab >= 0\nTrue",
         "hidden": false,
         "locked": false
        }
       ],
       "scored": true,
       "setup": "",
       "teardown": "",
       "type": "doctest"
      }
     ]
    },
    "q3_7": {
     "name": "q3_7",
     "points": [
      0,
      0,
      0
     ],
     "suites": [
      {
       "cases": [
        {
         "code": ">>> type(original_with_shuffled_labels) == Table\nTrue",
         "hidden": false,
         "locked": false
        },
        {
         "code": ">>> original_with_shuffled_labels.labels == (\"Gender\", \"Age\", \"Shuffled Label\")\nTrue",
         "hidden": false,
         "locked": false
        },
        {
         "code": ">>> original_with_shuffled_labels.num_rows == 500\nTrue",
         "hidden": false,
         "locked": false
        }
       ],
       "scored": true,
       "setup": "",
       "teardown": "",
       "type": "doctest"
      }
     ]
    },
    "q3_8": {
     "name": "q3_8",
     "points": [
      0,
      0
     ],
     "suites": [
      {
       "cases": [
        {
         "code": ">>> type(correct_q8) == int\nTrue",
         "hidden": false,
         "locked": false
        },
        {
         "code": ">>> any(correct_q8 == x for x in np.arange(1,4))\nTrue",
         "hidden": false,
         "locked": false
        }
       ],
       "scored": true,
       "setup": "",
       "teardown": "",
       "type": "doctest"
      }
     ]
    },
    "q3_9": {
     "name": "q3_9",
     "points": [
      4
     ],
     "suites": [
      {
       "cases": [
        {
         "code": ">>> -5 < simulate_one_statistic() < 5\nTrue",
         "hidden": false,
         "locked": false
        }
       ],
       "scored": true,
       "setup": "",
       "teardown": "",
       "type": "doctest"
      }
     ]
    }
   }
  }
 },
 "nbformat": 4,
 "nbformat_minor": 5
}
