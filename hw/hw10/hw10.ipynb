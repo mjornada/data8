{
 "cells": [
  {
   "cell_type": "code",
   "execution_count": null,
   "metadata": {
    "deletable": false,
    "editable": false
   },
   "outputs": [],
   "source": [
    "# Inicialize o Otter\n",
    "import otter\n",
    "grader = otter.Notebook(\"hw10.ipynb\")"
   ]
  },
  {
   "cell_type": "markdown",
   "metadata": {},
   "source": [
    "# Tarefa de Casa 10: Regressão Linear"
   ]
  },
  {
   "cell_type": "markdown",
   "metadata": {},
   "source": [
    "**Recurso Útil:**\n",
    "\n",
    "- [Referência Python](http://data8.org/sp22/python-reference.html): Folha de dicas com métodos úteis de array e tabela usados no Data 8!\n",
    "\n",
    "**Leituras Recomendadas**: \n",
    "\n",
    "* [A Linha de Regressão](https://www.inferentialthinking.com/chapters/15/2/Regression_Line.html)\n",
    "* [Método dos Mínimos Quadrados](https://www.inferentialthinking.com/chapters/15/3/Method_of_Least_Squares.html)\n",
    "* [Regressão por Mínimos Quadrados](https://www.inferentialthinking.com/chapters/15/4/Least_Squares_Regression.html)"
   ]
  },
  {
   "cell_type": "markdown",
   "metadata": {},
   "source": [
    "Por favor, complete este caderno preenchendo as células fornecidas. Antes de começar, execute a célula a seguir para configurar o caderno importando algumas bibliotecas úteis. Toda vez que você iniciar seu servidor, precisará executar esta célula novamente.\n",
    "\n",
    "Para todos os problemas em que você deve escrever explicações e frases, você **deve** fornecer sua resposta no espaço designado. **Além disso, ao longo desta tarefa de casa e de todas as futuras, certifique-se de não reatribuir variáveis ao longo do caderno!** Por exemplo, se você usar `max_temperature` em sua resposta para uma questão, não o reatribua mais tarde. Caso contrário, você falhará em testes que pensou ter passado anteriormente!\n",
    "\n",
    "**Nota: Esta tarefa de casa tem testes ocultos. Isso significa que, mesmo que os testes digam que 100% passaram, não significa que sua nota final será 100%. Nós rodaremos mais testes para correção uma vez que todos entreguem a tarefa de casa.**\n",
    "\n",
    "Compartilhar respostas diretamente não é permitido, mas discutir problemas com a equipe do curso ou com outros estudantes é encorajado.\n",
    "\n",
    "Você deve começar cedo para que tenha tempo de obter ajuda se estiver com dificuldades."
   ]
  },
  {
   "cell_type": "code",
   "execution_count": null,
   "metadata": {},
   "outputs": [],
   "source": [
    "# Execute esta célula para configurar o caderno, mas por favor não a altere.\n",
    "\n",
    "import numpy as np\n",
    "from datascience import *\n",
    "\n",
    "# Estas linhas fazem alguma mágica de plotagem sofisticada.\n",
    "import matplotlib\n",
    "%matplotlib inline\n",
    "import matplotlib.pyplot as plt\n",
    "plt.style.use('fivethirtyeight')\n",
    "import warnings\n",
    "warnings.simplefilter('ignore', FutureWarning)\n",
    "from datetime import datetime"
   ]
  },
  {
   "cell_type": "markdown",
   "metadata": {},
   "source": [
    "## 1. Distâncias do Salto Triplo vs. Alturas do Salto Vertical"
   ]
  },
  {
   "cell_type": "markdown",
   "metadata": {},
   "source": [
    "A habilidade em um esporte implica habilidade em um esporte relacionado? A resposta pode ser diferente para diferentes atividades. Vamos descobrir se isso é verdade para o [salto triplo](https://en.wikipedia.org/wiki/Triple_jump) (um salto horizontal semelhante ao salto em distância) e o [salto vertical](https://en.wikipedia.org/wiki/Vertical_jump). Como estamos aprendendo sobre regressão linear, vamos procurar especificamente por uma associação *linear* entre o nível de habilidade nos dois esportes.\n",
    "\n",
    "Os seguintes dados foram coletados observando 40 jogadores de futebol universitário. As distâncias de cada atleta em ambos os eventos foram medidas em centímetros. Execute a célula abaixo para carregar os dados."
   ]
  },
  {
   "cell_type": "code",
   "execution_count": null,
   "metadata": {
    "ExecuteTime": {
     "end_time": "2018-04-03T22:42:22.463984Z",
     "start_time": "2018-04-03T22:42:22.455963Z"
    }
   },
   "outputs": [],
   "source": [
    "# Execute esta célula para carregar os dados\n",
    "jumps = Table.read_table('triple_vertical.csv')\n",
    "jumps"
   ]
  },
  {
   "cell_type": "markdown",
   "metadata": {},
   "source": [
    "**Questão 1.1.** Crie uma função `standard_units` que converte os valores no array `data` para unidades padrão. **(5 pontos)**"
   ]
  },
  {
   "cell_type": "code",
   "execution_count": null,
   "metadata": {
    "tags": []
   },
   "outputs": [],
   "source": [
    "def standard_units(data):\n",
    "    ..."
   ]
  },
  {
   "cell_type": "code",
   "execution_count": null,
   "metadata": {
    "deletable": false,
    "editable": false
   },
   "outputs": [],
   "source": [
    "grader.check(\"q1_1\")"
   ]
  },
  {
   "cell_type": "markdown",
   "metadata": {},
   "source": [
    "**Questão 1.2.** Agora, usando a função `standard_units`, defina a função `correlation` que calcula a correlação entre `x` e `y`. **(5 pontos)**"
   ]
  },
  {
   "cell_type": "code",
   "execution_count": null,
   "metadata": {
    "tags": []
   },
   "outputs": [],
   "source": [
    "def correlation(x, y):\n",
    "    ..."
   ]
  },
  {
   "cell_type": "code",
   "execution_count": null,
   "metadata": {
    "deletable": false,
    "editable": false
   },
   "outputs": [],
   "source": [
    "grader.check(\"q1_2\")"
   ]
  },
  {
   "cell_type": "markdown",
   "metadata": {},
   "source": [
    "<!-- BEGIN QUESTION -->\n",
    "\n",
    "**Questão 1.3.** Antes de executar uma regressão, é importante ver como os dados se parecem, porque nossos olhos são bons em identificar padrões incomuns nos dados. Desenhe um gráfico de dispersão, **que inclua a linha de regressão**, com as distâncias do salto triplo no eixo horizontal e as alturas do salto vertical no eixo vertical. **(5 pontos)**\n",
    "\n",
    "Consulte a documentação de `scatter` [aqui](http://data8.org/datascience/_autosummary/datascience.tables.Table.scatter.html#datascience.tables.Table.scatter) para instruções sobre como fazer o Python desenhar automaticamente a linha de regressão.\n",
    "\n",
    "*Dica:* O argumento `fit_line` pode ser útil aqui!\n"
   ]
  },
  {
   "cell_type": "code",
   "execution_count": null,
   "metadata": {
    "ExecuteTime": {
     "end_time": "2018-04-03T07:28:04.288689Z",
     "start_time": "2018-04-03T07:28:04.108660Z"
    },
    "deletable": false,
    "manual_problem_id": "jumping_1",
    "tags": []
   },
   "outputs": [],
   "source": [
    "..."
   ]
  },
  {
   "cell_type": "markdown",
   "metadata": {},
   "source": [
    "<!-- END QUESTION -->\n",
    "\n",
    "<!-- BEGIN QUESTION -->\n",
    "\n",
    "**Questão 1.4.** O coeficiente de correlação $r$ parece mais próximo de 0, .5, ou -.5? Explique. **(5 pontos)**\n"
   ]
  },
  {
   "cell_type": "markdown",
   "metadata": {},
   "source": [
    "_Digite sua resposta aqui, substituindo este texto._"
   ]
  },
  {
   "cell_type": "markdown",
   "metadata": {},
   "source": [
    "<!-- END QUESTION -->\n",
    "\n",
    "**Questão 1.5.** Crie uma função chamada `parameter_estimates` que recebe como argumento `tbl`, uma tabela de duas colunas onde a primeira coluna é o eixo x e a segunda coluna é o eixo y. Ela deve retornar um array com três elementos: o **(1) coeficiente de correlação** das duas colunas e a **(2) inclinação** e **(3) intercepto** da linha de regressão que prevê a segunda coluna a partir da primeira, em unidades originais. **(5 pontos)**\n",
    "\n",
    "*Dica:* Esta é uma rara ocasião onde é melhor implementar a função usando índices de colunas em vez de nomes de colunas, para ser capaz de chamar esta função em qualquer tabela. Se você precisar de um lembrete sobre como usar índices de colunas para extrair colunas individuais, por favor, consulte [esta](https://www.inferentialthinking.com/chapters/06/Tables.html#accessing-the-data-in-a-column) seção do livro didático.\n"
   ]
  },
  {
   "cell_type": "code",
   "execution_count": null,
   "metadata": {
    "ExecuteTime": {
     "end_time": "2018-04-03T22:42:28.451495Z",
     "start_time": "2018-04-03T22:42:28.441469Z"
    },
    "for_assignment_type": "solution",
    "tags": []
   },
   "outputs": [],
   "source": [
    "def parameter_estimates(tbl):\n",
    "    ...\n",
    "    return make_array(r, slope, intercept)\n",
    "\n",
    "parameters = parameter_estimates(jumps) \n",
    "print('r:', parameters.item(0), '; slope:', parameters.item(1), '; intercept:', parameters.item(2))"
   ]
  },
  {
   "cell_type": "code",
   "execution_count": null,
   "metadata": {
    "deletable": false,
    "editable": false
   },
   "outputs": [],
   "source": [
    "grader.check(\"q1_5\")"
   ]
  },
  {
   "cell_type": "markdown",
   "metadata": {},
   "source": [
    "**Questão 1.6.** Agora suponha que você queira fazer o contrário e prever a distância do salto triplo dada uma distância de salto vertical. Quais seriam os parâmetros de regressão deste modelo linear? Como eles se comparam aos parâmetros de regressão do modelo onde você estava prevendo a distância do salto vertical dado a distância do salto triplo (na Questão 1.5)? **(5 pontos)**\n",
    "\n",
    "Defina `regression_changes` como um array de 3 elementos, com cada elemento correspondendo a se o item correspondente retornado por `parameter_estimates` muda ou não ao trocar vertical e triplo como $x$ e $y$. Por exemplo, se $r$ muda, a inclinação muda, mas o intercepto não muda, `regression_changes` seria atribuído a `make_array(True, True, False)`."
   ]
  },
  {
   "cell_type": "code",
   "execution_count": null,
   "metadata": {
    "tags": []
   },
   "outputs": [],
   "source": [
    "regression_changes = ...\n",
    "regression_changes"
   ]
  },
  {
   "cell_type": "code",
   "execution_count": null,
   "metadata": {
    "deletable": false,
    "editable": false
   },
   "outputs": [],
   "source": [
    "grader.check(\"q1_6\")"
   ]
  },
  {
   "cell_type": "markdown",
   "metadata": {},
   "source": [
    "**Questão 1.7.** Vamos usar `parameters` (da Questão 1.5) para prever a altura do salto vertical de certos atletas dada a distância de seus saltos triplos. **(5 pontos)**\n",
    "\n",
    "O recorde mundial para a distância do salto triplo é de 18.29 *metros* por Johnathan Edwards. Qual é a previsão para o salto vertical de Edwards usando esta linha?\n",
    "\n",
    "*Dica:* Certifique-se de converter de metros para centímetros!"
   ]
  },
  {
   "cell_type": "code",
   "execution_count": null,
   "metadata": {
    "deletable": false,
    "tags": []
   },
   "outputs": [],
   "source": [
    "triple_record_vert_est = ...\n",
    "print(\"Predicted vertical jump distance: {:f} centimeters\".format(triple_record_vert_est))"
   ]
  },
  {
   "cell_type": "code",
   "execution_count": null,
   "metadata": {
    "deletable": false,
    "editable": false
   },
   "outputs": [],
   "source": [
    "grader.check(\"q1_7\")"
   ]
  },
  {
   "cell_type": "markdown",
   "metadata": {},
   "source": [
    "<!-- BEGIN QUESTION -->\n",
    "\n",
    "**Questão 1.8.** Você acha que faz sentido usar esta linha para prever o salto vertical de Edwards? **(5 pontos)**\n",
    "\n",
    "*Dica:* Compare a distância do salto triplo de Edwards com as distâncias do salto triplo em `jumps`. Ela é relativamente semelhante ao restante dos dados (mostrados na Questão 1.3)?\n"
   ]
  },
  {
   "cell_type": "markdown",
   "metadata": {},
   "source": [
    "_Digite sua resposta aqui, substituindo este texto._"
   ]
  },
  {
   "cell_type": "markdown",
   "metadata": {},
   "source": [
    "<!-- END QUESTION -->\n",
    "\n",
    "## 2. Criptomoedas"
   ]
  },
  {
   "cell_type": "markdown",
   "metadata": {},
   "source": [
    "Imagine que você é um investidor em dezembro de 2017. As criptomoedas, moedas online respaldadas por software seguro, estão se tornando extremamente valiosas, e você quer participar da ação!\n",
    "\n",
    "As duas criptomoedas mais valiosas são Bitcoin (BTC) e Ethereum (ETH). Cada uma tem um preço em dólares associado a ela em qualquer momento. Por exemplo, em 1º de dezembro de 2017, um BTC custa $10,859.56 e um ETH custa $424.64.\n",
    "\n",
    "Por diversão, aqui estão os preços atuais do [Bitcoin](https://www.coinbase.com/price/bitcoin) e do [Ethereum](https://www.coinbase.com/price/ethereum)!\n",
    "\n",
    "**Você quer prever o preço do ETH em algum momento no futuro com base no preço do BTC.** Abaixo, carregamos duas [tabelas](https://www.kaggle.com/jessevent/all-crypto-currencies/data) chamadas `btc` e `eth`. Cada uma tem 5 colunas:\n",
    "* `date`, a data\n",
    "* `open`, o valor da moeda no início do dia\n",
    "* `close`, o valor da moeda no final do dia\n",
    "* `market`, o valor de mercado ou valor total em dólares investido na moeda\n",
    "* `day`, o número de dias desde o início dos nossos dados"
   ]
  },
  {
   "cell_type": "code",
   "execution_count": null,
   "metadata": {
    "ExecuteTime": {
     "end_time": "2018-04-04T09:57:46.445990Z",
     "start_time": "2018-04-04T09:57:46.433958Z"
    }
   },
   "outputs": [],
   "source": [
    "btc = Table.read_table('btc.csv')\n",
    "btc.show(5)"
   ]
  },
  {
   "cell_type": "code",
   "execution_count": null,
   "metadata": {
    "ExecuteTime": {
     "end_time": "2018-04-04T09:57:46.458022Z",
     "start_time": "2018-04-04T09:57:46.446994Z"
    }
   },
   "outputs": [],
   "source": [
    "eth = Table.read_table('eth.csv')\n",
    "eth.show(5)"
   ]
  },
  {
   "cell_type": "markdown",
   "metadata": {},
   "source": [
    "<!-- BEGIN QUESTION -->\n",
    "\n",
    "**Questão 2.1.** Na célula abaixo, crie um gráfico de linhas sobrepostas que visualiza os preços de abertura do BTC e do ETH como uma função do dia. Os preços de abertura do BTC e do ETH devem ser plotados no mesmo gráfico. **(5 pontos)**\n",
    "\n",
    "*Dica*: [Seção 7.3](https://inferentialthinking.com/chapters/07/3/Overlaid_Graphs.html#overlaid-line-plots) no livro didático pode ser útil!\n"
   ]
  },
  {
   "cell_type": "code",
   "execution_count": null,
   "metadata": {
    "deletable": false,
    "for_assignment_type": "student",
    "tags": []
   },
   "outputs": [],
   "source": [
    "# Crie um gráfico de linha dos preços de abertura de btc e eth como função do tempo\n",
    "..."
   ]
  },
  {
   "cell_type": "markdown",
   "metadata": {},
   "source": [
    "<!-- END QUESTION -->\n",
    "\n",
    "**Questão 2.2.** Agora, calcule o coeficiente de correlação entre os preços de abertura do BTC e do ETH usando a função `correlation` que você definiu anteriormente. **(5 pontos)**\n"
   ]
  },
  {
   "cell_type": "code",
   "execution_count": null,
   "metadata": {
    "ExecuteTime": {
     "end_time": "2018-04-04T09:57:57.365938Z",
     "start_time": "2018-04-04T09:57:57.357879Z"
    },
    "deletable": false,
    "tags": []
   },
   "outputs": [],
   "source": [
    "r = ...\n",
    "r"
   ]
  },
  {
   "cell_type": "code",
   "execution_count": null,
   "metadata": {
    "deletable": false,
    "editable": false
   },
   "outputs": [],
   "source": [
    "grader.check(\"q2_2\")"
   ]
  },
  {
   "cell_type": "markdown",
   "metadata": {},
   "source": [
    "**Questão 2.3.** Escreva uma função `eth_predictor` que recebe um preço de abertura do BTC e prevê o preço de abertura do ETH. Novamente, será útil usar a função `parameter_estimates` que você definiu anteriormente nesta tarefa de casa. **(5 pontos)**\n",
    "\n",
    "*Dica*: Verifique novamente como deve ser a entrada `tbl` para `parameter_estimates`!\n",
    "\n",
    "*Nota:* Certifique-se de que seu `eth_predictor` esteja usando regressão linear dos mínimos quadrados."
   ]
  },
  {
   "cell_type": "code",
   "execution_count": null,
   "metadata": {
    "deletable": false,
    "tags": []
   },
   "outputs": [],
   "source": [
    "def eth_predictor(btc_price):\n",
    "    parameters = ...\n",
    "    slope = ...\n",
    "    intercept = ...\n",
    "    ..."
   ]
  },
  {
   "cell_type": "code",
   "execution_count": null,
   "metadata": {
    "deletable": false,
    "editable": false
   },
   "outputs": [],
   "source": [
    "grader.check(\"q2_3\")"
   ]
  },
  {
   "cell_type": "markdown",
   "metadata": {},
   "source": [
    "<!-- BEGIN QUESTION -->\n",
    "\n",
    "**Questão 2.4.** Agora, usando a função `eth_predictor` que você acabou de definir, faça um gráfico de dispersão com os preços do BTC no eixo x e tanto os preços reais quanto os previstos do ETH no eixo y. A cor dos pontos para os preços reais do ETH deve ser diferente da cor para os preços previstos do ETH. **(5 pontos)**\n",
    "\n",
    "*Dica 1:* Um exemplo de tal gráfico de dispersão pode ser encontrado [aqui](https://inferentialthinking.com/chapters/15/2/Regression_Line.html).\n",
    "\n",
    "*Dica 2:* Pense sobre a tabela que deve ser produzida e usada para gerar este gráfico de dispersão. O que os dados das colunas devem representar? Com base nos dados de que você precisa, quantas colunas devem estar presentes nesta tabela? Além disso, o que cada linha deve representar? Construir a tabela será a principal parte desta questão; uma vez que você tenha esta tabela, gerar o gráfico de dispersão deve ser direto como de costume.\n"
   ]
  },
  {
   "cell_type": "code",
   "execution_count": null,
   "metadata": {
    "for_assignment_type": "solution",
    "tags": []
   },
   "outputs": [],
   "source": [
    "btc_open = ...\n",
    "eth_pred = ...\n",
    "eth_pred_actual = ...\n",
    "..."
   ]
  },
  {
   "cell_type": "markdown",
   "metadata": {},
   "source": [
    "<!-- END QUESTION -->\n",
    "\n",
    "<!-- BEGIN QUESTION -->\n",
    "\n",
    "**Questão 2.5.** Considerando a forma do gráfico de dispersão dos dados reais, o modelo que usamos é razoável? Se sim, quais características ou aspectos tornam este modelo razoável? Se não, quais características ou aspectos o tornam irrazoável? **(5 pontos)**"
   ]
  },
  {
   "cell_type": "markdown",
   "metadata": {},
   "source": [
    "_Digite sua resposta aqui, substituindo este texto._"
   ]
  },
  {
   "cell_type": "markdown",
   "metadata": {},
   "source": [
    "<!-- END QUESTION -->\n",
    "\n",
    "## 3. Avaliando Previsões de Jogos da NBA"
   ]
  },
  {
   "cell_type": "markdown",
   "metadata": {},
   "source": [
    "#### Uma Breve Introdução às Apostas Esportivas\n",
    "\n",
    "Em um jogo de basquete, cada equipe marca um certo número de pontos. Convencionalmente, a equipe que joga em sua própria arena é chamada de \"equipe da casa\", e seu oponente é chamado de \"equipe visitante\". O vencedor é a equipe com mais pontos ao final do jogo.\n",
    "\n",
    "Podemos resumir o que aconteceu em um jogo pelo \"**resultado**\", definido como **a pontuação da equipe visitante menos a pontuação da equipe da casa**:\n",
    "\n",
    "$$\\text{resultado} = \\text{pontos marcados pela equipe visitante} - \\text{pontos marcados pela equipe da casa}$$\n",
    "\n",
    "Se este número for positivo, a equipe visitante venceu. Se for negativo, a equipe da casa venceu.\n",
    "\n",
    "Para facilitar as apostas nos jogos, analistas de cassinos tentam prever o resultado do jogo. Essa previsão do resultado é chamada de **spread.**"
   ]
  },
  {
   "cell_type": "code",
   "execution_count": null,
   "metadata": {},
   "outputs": [],
   "source": [
    "spreads = Table.read_table(\"spreads.csv\")\n",
    "spreads"
   ]
  },
  {
   "cell_type": "markdown",
   "metadata": {},
   "source": [
    "Aqui está um gráfico de dispersão dos resultados e dos spreads, com os spreads no eixo horizontal."
   ]
  },
  {
   "cell_type": "code",
   "execution_count": null,
   "metadata": {},
   "outputs": [],
   "source": [
    "spreads.scatter(\"Spread\", \"Outcome\")"
   ]
  },
  {
   "cell_type": "markdown",
   "metadata": {},
   "source": [
    "Do gráfico de dispersão, você pode ver que o spread e o resultado quase nunca são 0, exceto em um caso de o spread ser 0. Isso ocorre porque um jogo de basquete nunca termina em empate. Uma equipe tem que vencer, então o resultado nunca pode ser 0. O spread quase nunca é 0 porque é escolhido para estimar o resultado."
   ]
  },
  {
   "cell_type": "markdown",
   "metadata": {},
   "source": [
    "Vamos investigar quão bem os cassinos estão prevendo os resultados dos jogos.\n",
    "\n",
    "Uma pergunta que podemos fazer é: A previsão do cassino está correta, em média? Em outras palavras, para cada valor do spread, a média do resultado dos jogos atribuídos a esse spread é igual ao spread? Se não, o cassino aparentemente estaria cometendo um erro sistemático em suas previsões."
   ]
  },
  {
   "cell_type": "markdown",
   "metadata": {},
   "source": [
    "**Questão 3.1.** Calcule o coeficiente de correlação entre os resultados e os spreads. **(5 pontos)**\n",
    "\n",
    "*Nota:* Pode ser útil usar a função `correlation`."
   ]
  },
  {
   "cell_type": "code",
   "execution_count": null,
   "metadata": {
    "deletable": false,
    "tags": []
   },
   "outputs": [],
   "source": [
    "spread_r = ...\n",
    "spread_r"
   ]
  },
  {
   "cell_type": "code",
   "execution_count": null,
   "metadata": {
    "deletable": false,
    "editable": false
   },
   "outputs": [],
   "source": [
    "grader.check(\"q3_1\")"
   ]
  },
  {
   "cell_type": "markdown",
   "metadata": {},
   "source": [
    "**Questão 3.2.** Entre os jogos com um spread entre 3.5 e 6.5 (incluindo ambos 3.5 e 6.5), qual foi o resultado médio? **(5 pontos)**"
   ]
  },
  {
   "cell_type": "code",
   "execution_count": null,
   "metadata": {
    "deletable": false,
    "tags": []
   },
   "outputs": [],
   "source": [
    "spreads_around_5 = ...\n",
    "spread_5_outcome_average = ...\n",
    "print(\"Average outcome for spreads around 5:\", spread_5_outcome_average)"
   ]
  },
  {
   "cell_type": "code",
   "execution_count": null,
   "metadata": {
    "deletable": false,
    "editable": false
   },
   "outputs": [],
   "source": [
    "grader.check(\"q3_2\")"
   ]
  },
  {
   "cell_type": "markdown",
   "metadata": {},
   "source": [
    "**Questão 3.3.** Use a função `parameter_estimates` que você definiu anteriormente para calcular a linha de regressão linear dos mínimos quadrados que prevê resultados a partir de spreads, em unidades originais. Fornecemos para você uma tabela de duas colunas na célula abaixo, com a primeira coluna representando `Spread` (x) e a segunda coluna representando `Outcome` (y), que você deve usar como argumento para a função. **(5 pontos)**"
   ]
  },
  {
   "cell_type": "code",
   "execution_count": null,
   "metadata": {
    "deletable": false,
    "scrolled": true,
    "tags": []
   },
   "outputs": [],
   "source": [
    "compute_tbl = spreads.select('Spread', 'Outcome')\n",
    "estimates = ...\n",
    "spread_slope = ...\n",
    "spread_intercept = ...\n",
    "print(\"Slope:\", round(spread_slope, 3))\n",
    "print(\"Intercept\", round(spread_intercept, 3))"
   ]
  },
  {
   "cell_type": "code",
   "execution_count": null,
   "metadata": {
    "deletable": false,
    "editable": false
   },
   "outputs": [],
   "source": [
    "grader.check(\"q3_3\")"
   ]
  },
  {
   "cell_type": "markdown",
   "metadata": {},
   "source": [
    "<!-- BEGIN QUESTION -->\n",
    "\n",
    "**Questão 3.4.** Suponha que criamos outro modelo que simplesmente prevê o resultado médio, independentemente do valor do spread. Esse novo modelo minimiza o erro quadrático médio? Por que sim ou por que não? **(5 pontos)**\n"
   ]
  },
  {
   "cell_type": "markdown",
   "metadata": {},
   "source": [
    "_Digite sua resposta aqui, substituindo este texto._"
   ]
  },
  {
   "cell_type": "markdown",
   "metadata": {},
   "source": [
    "<!-- END QUESTION -->\n",
    "\n",
    "### Ajustando uma Linha de Regressão de Mínimos Quadrados\n",
    "\n",
    "Lembre-se de que a linha de regressão de mínimos quadrados é a única linha reta que minimiza o erro quadrático médio (RMSE) entre todas as possíveis linhas de ajuste. Usando essa propriedade, podemos encontrar a equação da linha de regressão encontrando o par de valores de inclinação e interceptação que minimizam o erro quadrático médio."
   ]
  },
  {
   "cell_type": "markdown",
   "metadata": {},
   "source": [
    "**Questão 3.5.** Defina uma função chamada `errors`. Ela deve receber três argumentos:\n",
    "1. uma tabela `tbl` como `spreads` (com os mesmos nomes e significados de colunas, mas não necessariamente os mesmos dados)\n",
    "2. a `slope` (inclinação) de uma linha (um número)\n",
    "3. a `intercept` (interceptação) de uma linha (um número).\n",
    "\n",
    "Ela deve **retornar um array dos erros** cometidos quando uma linha com essa inclinação e interceptação é usada para prever o resultado a partir do spread para cada jogo na tabela fornecida. **(3 pontos)**\n",
    "\n",
    "*Nota*: Certifique-se de que você está retornando um array dos erros, e não o RMSE."
   ]
  },
  {
   "cell_type": "code",
   "execution_count": null,
   "metadata": {
    "tags": []
   },
   "outputs": [],
   "source": [
    "def errors(tbl, slope, intercept):\n",
    "    ..."
   ]
  },
  {
   "cell_type": "code",
   "execution_count": null,
   "metadata": {
    "deletable": false,
    "editable": false
   },
   "outputs": [],
   "source": [
    "grader.check(\"q3_5\")"
   ]
  },
  {
   "cell_type": "markdown",
   "metadata": {},
   "source": [
    "**Questão 3.6.** Usando `errors`, calcule os erros para a linha com inclinação `0.5` e interceptação `25` no conjunto de dados `spreads`. Nomeie esse array de `outcome_errors`. Em seguida, faça um gráfico de dispersão dos erros. **(3 pontos)**\n",
    "\n",
    "*Dica:* Para fazer um gráfico de dispersão dos erros, plote o erro para cada resultado no conjunto de dados. Coloque o spread real no eixo horizontal e o erro do resultado no eixo vertical."
   ]
  },
  {
   "cell_type": "code",
   "execution_count": null,
   "metadata": {
    "scrolled": true,
    "tags": []
   },
   "outputs": [],
   "source": [
    "outcome_errors = ...\n",
    "..."
   ]
  },
  {
   "cell_type": "code",
   "execution_count": null,
   "metadata": {
    "deletable": false,
    "editable": false
   },
   "outputs": [],
   "source": [
    "grader.check(\"q3_6\")"
   ]
  },
  {
   "cell_type": "markdown",
   "metadata": {},
   "source": [
    "Você deve descobrir que os erros são quase todos negativos. Isso significa que nossa linha não é o melhor ajuste para nossos dados. Vamos encontrar uma melhor."
   ]
  },
  {
   "cell_type": "markdown",
   "metadata": {},
   "source": [
    "**Questão 3.7.** Defina uma função chamada `fit_line`. Ela deve receber uma tabela como `spreads` (com os mesmos nomes e significados de colunas) como seu argumento. Deve retornar um array contendo a inclinação (como o primeiro elemento) e a interceptação (como o segundo elemento) da linha de regressão de mínimos quadrados que prevê o resultado a partir do spread para essa tabela. **(3 pontos)**\n",
    "\n",
    "*Dica*: Defina uma função `rmse` dentro de `fit_line` que recebe uma inclinação e interceptação como seus argumentos. `rmse` usará a tabela passada para `fit_line` para calcular os resultados previstos e então retornará o erro quadrático médio entre os resultados previstos e os reais. Dentro de `fit_line`, você pode chamar `rmse` da maneira que chamaria qualquer outra função.\n",
    "\n",
    "Se você ainda não tentou usar a função `minimize` [função](http://data8.org/sp22/python-reference.html) ainda, agora é um ótimo momento para praticar. Aqui está um [exemplo do livro didático](https://www.inferentialthinking.com/chapters/15/3/Method_of_Least_Squares.html#numerical-optimization)."
   ]
  },
  {
   "cell_type": "code",
   "execution_count": null,
   "metadata": {
    "tags": []
   },
   "outputs": [],
   "source": [
    "def fit_line(tbl):\n",
    "    # Seu código pode precisar de mais de 1 linha abaixo desta.\n",
    "    def rmse(..., ...):\n",
    "        return ... \n",
    "    return ... \n",
    "    \n",
    "# Aqui está um exemplo de chamada para sua função. Para testar sua função,\n",
    "# descubra a inclinação e interceptação corretas manualmente.\n",
    "example_table = Table().with_columns(\n",
    "    \"Spread\", make_array(0, 1),\n",
    "    \"Outcome\", make_array(1, 3))\n",
    "fit_line(example_table)"
   ]
  },
  {
   "cell_type": "code",
   "execution_count": null,
   "metadata": {
    "deletable": false,
    "editable": false
   },
   "outputs": [],
   "source": [
    "grader.check(\"q3_7\")"
   ]
  },
  {
   "cell_type": "markdown",
   "metadata": {},
   "source": [
    "**Questão 3.8.** Use `fit_line` para ajustar uma linha a `spreads`, e atribua a saída a `best_line`. Atribua o primeiro e o segundo elementos em `best_line` a `best_line_slope` e `best_line_intercept`, respectivamente.\n",
    "\n",
    "Em seguida, defina `new_errors` como o array de erros que obtemos ao chamar `errors` com nossa nova linha. O código fornecido irá grafar o correspondente gráfico de resíduos com uma linha de melhor ajuste. **(3 pontos)**\n",
    "\n",
    "*Dica:* Certifique-se de que o gráfico de resíduos faça sentido. Quais qualidades a linha de melhor ajuste de um gráfico de resíduos deve ter?"
   ]
  },
  {
   "cell_type": "code",
   "execution_count": null,
   "metadata": {
    "tags": []
   },
   "outputs": [],
   "source": [
    "best_line = ...\n",
    "best_line_slope = ...\n",
    "best_line_intercept = ...\n",
    "\n",
    "new_errors = ...\n",
    "\n",
    "# Este código exibe o gráfico de resíduos, dados seus valores para best_line_slope e best_line_intercept\n",
    "Table().with_columns(\"Spread\", \n",
    "                    spreads.column(\"Spread\"), \n",
    "                    \"Outcome errors\", \n",
    "                    new_errors\n",
    "                   ).scatter(\"Spread\", \"Outcome errors\", fit_line=True)\n",
    "\n",
    "# Isso apenas imprime sua inclinação e interceptação\n",
    "\"Slope: {:g} | Intercept: {:g}\".format(best_line_slope, best_line_intercept)"
   ]
  },
  {
   "cell_type": "code",
   "execution_count": null,
   "metadata": {
    "deletable": false,
    "editable": false
   },
   "outputs": [],
   "source": [
    "grader.check(\"q3_8\")"
   ]
  },
  {
   "cell_type": "markdown",
   "metadata": {},
   "source": [
    "<!-- BEGIN QUESTION -->\n",
    "\n",
    "**Questão 3.9.** O par de inclinação e interceptação que você encontrou na Questão 3.8 deve ser muito semelhante aos valores que você encontrou na Questão 3.3. Por que conseguimos minimizar o RMSE para encontrar a mesma inclinação e interceptação das fórmulas anteriores? **(3 pontos)**\n"
   ]
  },
  {
   "cell_type": "markdown",
   "metadata": {},
   "source": [
    "_Digite sua resposta aqui, substituindo este texto._"
   ]
  },
  {
   "cell_type": "markdown",
   "metadata": {},
   "source": [
    "<!-- END QUESTION -->\n",
    "\n",
    "Você terminou a Lição de Casa 10!\n",
    "\n",
    "**Passos importantes para a submissão:**\n",
    "1. Execute os testes e verifique se todos passaram.\n",
    "2. Escolha **Salvar Caderno** no menu **Arquivo**, depois **execute a célula final**.\n",
    "3. Clique no link para baixar o arquivo zip.\n",
    "4. Então, submeta o arquivo zip para a tarefa correspondente de acordo com as instruções do seu instrutor.\n",
    "\n",
    "**É sua responsabilidade garantir que seu trabalho esteja salvo antes de executar a última célula.**"
   ]
  },
  {
   "cell_type": "markdown",
   "metadata": {
    "deletable": false,
    "editable": false
   },
   "source": [
    "## Submissão\n",
    "\n",
    "Certifique-se de ter executado todas as células no seu caderno em ordem antes de executar a célula abaixo, para que todas as imagens/gráficos apareçam na saída. A célula abaixo irá gerar um arquivo zip para você submeter. **Por favor, salve antes de exportar!**"
   ]
  },
  {
   "cell_type": "code",
   "execution_count": null,
   "metadata": {
    "deletable": false,
    "editable": false
   },
   "outputs": [],
   "source": [
    "# Salve seu caderno primeiro, depois execute esta célula para exportar sua submissão.\n",
    "grader.export(pdf=False, run_tests=True)"
   ]
  },
  {
   "cell_type": "markdown",
   "metadata": {},
   "source": [
    " "
   ]
  }
 ],
 "metadata": {
  "kernelspec": {
   "display_name": "Python 3 (ipykernel)",
   "language": "python",
   "name": "python3"
  },
  "language_info": {
   "codemirror_mode": {
    "name": "ipython",
    "version": 3
   },
   "file_extension": ".py",
   "mimetype": "text/x-python",
   "name": "python",
   "nbconvert_exporter": "python",
   "pygments_lexer": "ipython3",
   "version": "3.7.3"
  },
  "otter": {
   "OK_FORMAT": true,
   "tests": {
    "q1_1": {
     "name": "q1_1",
     "points": [
      0,
      0,
      0
     ],
     "suites": [
      {
       "cases": [
        {
         "code": ">>> standard_units([1,2,3,4,5])\narray([-1.41421356, -0.70710678,  0.        ,  0.70710678,  1.41421356])",
         "hidden": false,
         "locked": false
        },
        {
         "code": ">>> np.isclose(np.mean(standard_units([1,2,3,4,5])), 0)\nTrue",
         "hidden": false,
         "locked": false
        },
        {
         "code": ">>> np.isclose(np.std(standard_units([1,2,3,4,5])), 0.9999999999999999)\nTrue",
         "hidden": false,
         "locked": false
        }
       ],
       "scored": true,
       "setup": "",
       "teardown": "",
       "type": "doctest"
      }
     ]
    },
    "q1_2": {
     "name": "q1_2",
     "points": [
      0
     ],
     "suites": [
      {
       "cases": [
        {
         "code": ">>> np.isclose(correlation([1,2,3], [4,5,6]), 0.9999999999999999)\nTrue",
         "hidden": false,
         "locked": false
        }
       ],
       "scored": true,
       "setup": "",
       "teardown": "",
       "type": "doctest"
      }
     ]
    },
    "q1_5": {
     "name": "q1_5",
     "points": [
      0,
      0,
      0
     ],
     "suites": [
      {
       "cases": [
        {
         "code": ">>> len(parameters) == 3\nTrue",
         "hidden": false,
         "locked": false
        },
        {
         "code": ">>> # Make sure your function is returning an array!\n>>> type(parameters) == np.ndarray\nTrue",
         "hidden": false,
         "locked": false
        },
        {
         "code": ">>> np.isclose(parameters.item(0), 0.8343076972837598)\nTrue",
         "hidden": false,
         "locked": false
        }
       ],
       "scored": true,
       "setup": "",
       "teardown": "",
       "type": "doctest"
      }
     ]
    },
    "q1_6": {
     "name": "q1_6",
     "points": [
      0,
      0
     ],
     "suites": [
      {
       "cases": [
        {
         "code": ">>> # Make sure regression_changes is a numpy array with 3 items!\n>>> len(regression_changes) == 3 and type(regression_changes) == np.ndarray\nTrue",
         "hidden": false,
         "locked": false
        },
        {
         "code": ">>> regression_changes.item(0) in set([0, 1, False, True])\nTrue",
         "hidden": false,
         "locked": false
        }
       ],
       "scored": true,
       "setup": "",
       "teardown": "",
       "type": "doctest"
      }
     ]
    },
    "q1_7": {
     "name": "q1_7",
     "points": [
      0
     ],
     "suites": [
      {
       "cases": [
        {
         "code": ">>> 100 <= triple_record_vert_est <= 200\nTrue",
         "hidden": false,
         "locked": false
        }
       ],
       "scored": true,
       "setup": "",
       "teardown": "",
       "type": "doctest"
      }
     ]
    },
    "q2_2": {
     "name": "q2_2",
     "points": [
      0,
      0
     ],
     "suites": [
      {
       "cases": [
        {
         "code": ">>> # Correlation is a number between -1 and 1\n>>> -1 <= r <= 1\nTrue",
         "hidden": false,
         "locked": false
        },
        {
         "code": ">>> # It appears that you implemented std_units, but did so incorrectly\n>>> standard_units(np.arange(5)) is None or np.allclose(standard_units(np.arange(5)), [-1.41421356, -0.70710678,  0,  0.70710678,  1.41421356])\nTrue",
         "hidden": false,
         "locked": false
        }
       ],
       "scored": true,
       "setup": "",
       "teardown": "",
       "type": "doctest"
      }
     ]
    },
    "q2_3": {
     "name": "q2_3",
     "points": [
      0
     ],
     "suites": [
      {
       "cases": [
        {
         "code": ">>> 0 < eth_predictor(10) < 100\nTrue",
         "hidden": false,
         "locked": false
        }
       ],
       "scored": true,
       "setup": "",
       "teardown": "",
       "type": "doctest"
      }
     ]
    },
    "q3_1": {
     "name": "q3_1",
     "points": [
      0
     ],
     "suites": [
      {
       "cases": [
        {
         "code": ">>> -1 <= spread_r <= 1\nTrue",
         "hidden": false,
         "locked": false
        }
       ],
       "scored": true,
       "setup": "",
       "teardown": "",
       "type": "doctest"
      }
     ]
    },
    "q3_2": {
     "name": "q3_2",
     "points": [
      0
     ],
     "suites": [
      {
       "cases": [
        {
         "code": ">>> 4 <= spread_5_outcome_average <= 6\nTrue",
         "hidden": false,
         "locked": false
        }
       ],
       "scored": true,
       "setup": "",
       "teardown": "",
       "type": "doctest"
      }
     ]
    },
    "q3_3": {
     "name": "q3_3",
     "points": [
      0,
      0
     ],
     "suites": [
      {
       "cases": [
        {
         "code": ">>> 0 <= spread_slope < 1\nTrue",
         "hidden": false,
         "locked": false
        },
        {
         "code": ">>> spread_intercept > 0\nTrue",
         "hidden": false,
         "locked": false
        }
       ],
       "scored": true,
       "setup": "",
       "teardown": "",
       "type": "doctest"
      }
     ]
    },
    "q3_5": {
     "name": "q3_5",
     "points": [
      0,
      0
     ],
     "suites": [
      {
       "cases": [
        {
         "code": ">>> type(errors(spreads, 0, 0).item(0)) in set([float, np.float32, np.float64])\nTrue",
         "hidden": false,
         "locked": false
        },
        {
         "code": ">>> len(errors(spreads, 0, 0)) == 1230\nTrue",
         "hidden": false,
         "locked": false
        }
       ],
       "scored": true,
       "setup": "",
       "teardown": "",
       "type": "doctest"
      }
     ]
    },
    "q3_6": {
     "name": "q3_6",
     "points": [
      3
     ],
     "suites": [
      {
       "cases": [
        {
         "code": ">>> # If you're not passing this test, double check your errors function!\n>>> np.round(outcome_errors.item(0), 2) == -25.25\nTrue",
         "hidden": false,
         "locked": false
        }
       ],
       "scored": true,
       "setup": "",
       "teardown": "",
       "type": "doctest"
      }
     ]
    },
    "q3_7": {
     "name": "q3_7",
     "points": [
      0,
      0
     ],
     "suites": [
      {
       "cases": [
        {
         "code": ">>> type(fit_line(example_table)) == np.ndarray\nTrue",
         "hidden": false,
         "locked": false
        },
        {
         "code": ">>> type(fit_line(example_table).item(0)) in set([float, np.float32, np.float64])\nTrue",
         "hidden": false,
         "locked": false
        }
       ],
       "scored": true,
       "setup": "",
       "teardown": "",
       "type": "doctest"
      }
     ]
    },
    "q3_8": {
     "name": "q3_8",
     "points": [
      0
     ],
     "suites": [
      {
       "cases": [
        {
         "code": ">>> len(new_errors) == 1230\nTrue",
         "hidden": false,
         "locked": false
        }
       ],
       "scored": true,
       "setup": "",
       "teardown": "",
       "type": "doctest"
      }
     ]
    }
   }
  }
 },
 "nbformat": 4,
 "nbformat_minor": 5
}
