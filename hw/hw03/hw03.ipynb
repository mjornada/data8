{
 "cells": [
  {
   "cell_type": "code",
   "execution_count": null,
   "metadata": {
    "deletable": false,
    "editable": false
   },
   "outputs": [],
   "source": [
    "# Inicialize o Otter\n",
    "import otter\n",
    "grader = otter.Notebook(\"hw03.ipynb\")"
   ]
  },
  {
   "cell_type": "markdown",
   "metadata": {},
   "source": [
    "# Trabalho de Casa 3: Manipulação e Visualização de Tabelas\n",
    "\n",
    "Por favor, complete este notebook preenchendo as células fornecidas. Antes de começar, execute a célula anterior para carregar os testes fornecidos."
   ]
  },
  {
   "cell_type": "markdown",
   "metadata": {},
   "source": [
    "**Recurso útil:**\n",
    "- [Referência Python](http://data8.org/sp22/python-reference.html): Folha de dicas de métodos úteis de array e tabela usados em Data 8!\n",
    "\n",
    "**Leitura recomendada**: \n",
    "* [Visualização](https://inferentialthinking.com/chapters/07/Visualization.html)"
   ]
  },
  {
   "cell_type": "markdown",
   "metadata": {},
   "source": [
    "Para todos os problemas em que você deve escrever explicações e frases, você **deve** fornecer sua resposta no espaço designado. **Além disso, durante este trabalho de casa e todos os futuros, certifique-se de não reatribuir variáveis ao longo do notebook!** Por exemplo, se você usar `max_temperature` em sua resposta para uma pergunta, não a reatribua mais tarde. Caso contrário, você falhará nos testes que pensou que estava passando anteriormente!\n",
    "\n",
    "\n",
    "**Nota: Este trabalho de casa tem testes ocultos. Isso significa que mesmo que os testes digam que 100% passaram, não significa que sua nota final será 100%. Estaremos executando mais testes de correção assim que todos entregarem o trabalho de casa.**\n",
    "\n",
    "\n",
    "Compartilhar respostas diretamente não é permitido, mas discutir problemas com a equipe do curso ou com outros alunos é incentivado.\n",
    "\n",
    "Você deve começar cedo para ter tempo de obter ajuda se estiver preso."
   ]
  },
  {
   "cell_type": "code",
   "execution_count": null,
   "metadata": {},
   "outputs": [],
   "source": [
    "# Não altere esta célula; apenas execute-a.\n",
    "\n",
    "import numpy as np\n",
    "from datascience import *\n",
    "import d8error\n",
    "import warnings\n",
    "warnings.simplefilter('ignore', FutureWarning)\n",
    "\n",
    "# Estas linhas fazem alguma mágica de plotagem sofisticada.\n",
    "import matplotlib\n",
    "%matplotlib inline\n",
    "import matplotlib.pyplot as plots\n",
    "plots.style.use('fivethirtyeight')"
   ]
  },
  {
   "cell_type": "markdown",
   "metadata": {},
   "source": [
    "## 1. Desemprego"
   ]
  },
  {
   "cell_type": "markdown",
   "metadata": {},
   "source": [
    "A Grande Recessão de 2008-2009 foi um período de declínio econômico observado globalmente, com escala e cronograma variando de país para país. Nos Estados Unidos, resultou em um rápido aumento do desemprego que afetou indústrias e grupos populacionais em diferentes extensões.\n",
    "\n",
    "O Federal Reserve Bank de St. Louis publica dados sobre empregos nos EUA. Abaixo, carregamos dados sobre o desemprego nos Estados Unidos. Existem muitas maneiras de definir o desemprego, e nosso conjunto de dados inclui duas noções da taxa de desemprego:\n",
    "\n",
    "1. Entre as pessoas que são capazes de trabalhar e estão procurando um emprego em tempo integral, a porcentagem que não consegue encontrar um emprego. Isso é chamado de Índice de Não Emprego, ou NEI.\n",
    "2. Entre as pessoas que são capazes de trabalhar e estão procurando um emprego em tempo integral, a porcentagem que não consegue encontrar nenhum emprego *ou* estão trabalhando apenas em um emprego de meio período. O último grupo é chamado de \"Meio período por razões econômicas\", então a sigla para este índice é NEI-PTER. (Os economistas são ótimos em marketing.)\n",
    "\n",
    "A fonte dos dados está [aqui](https://fred.stlouisfed.org/categories/33509)."
   ]
  },
  {
   "cell_type": "markdown",
   "metadata": {},
   "source": [
    "**Questão 1.** Os dados estão em um arquivo CSV chamado `unemployment.csv`. Carregue esse arquivo em uma tabela chamada `unemployment`. **(4 Pontos)**"
   ]
  },
  {
   "cell_type": "code",
   "execution_count": null,
   "metadata": {
    "tags": []
   },
   "outputs": [],
   "source": [
    "unemployment = ...\n",
    "unemployment"
   ]
  },
  {
   "cell_type": "code",
   "execution_count": null,
   "metadata": {
    "deletable": false,
    "editable": false
   },
   "outputs": [],
   "source": [
    "grader.check(\"q1_1\")"
   ]
  },
  {
   "cell_type": "markdown",
   "metadata": {},
   "source": [
    "**Questão 2.** Ordene os dados em ordem decrescente por NEI, nomeando a tabela ordenada como `by_nei`. Crie outra tabela chamada `by_nei_pter` que seja ordenada em ordem decrescente por NEI-PTER. **(4 Pontos)**"
   ]
  },
  {
   "cell_type": "code",
   "execution_count": null,
   "metadata": {
    "tags": []
   },
   "outputs": [],
   "source": [
    "by_nei = ...\n",
    "by_nei_pter = ..."
   ]
  },
  {
   "cell_type": "code",
   "execution_count": null,
   "metadata": {
    "deletable": false,
    "editable": false
   },
   "outputs": [],
   "source": [
    "grader.check(\"q1_2\")"
   ]
  },
  {
   "cell_type": "code",
   "execution_count": null,
   "metadata": {},
   "outputs": [],
   "source": [
    "# Execute esta célula para verificar sua tabela by_nei. Você não precisa alterar o código.\n",
    "by_nei.show(5)"
   ]
  },
  {
   "cell_type": "code",
   "execution_count": null,
   "metadata": {},
   "outputs": [],
   "source": [
    "# Execute esta célula para verificar sua tabela by_nei_pter. Você não precisa alterar o código.\n",
    "by_nei_pter.show(5)"
   ]
  },
  {
   "cell_type": "markdown",
   "metadata": {},
   "source": [
    "**Questão 3.** Use `take` para criar uma tabela contendo os dados dos 11 trimestres em que o NEI foi maior. Nomeie essa tabela como `greatest_nei`.\n",
    "\n",
    "`greatest_nei` deve ser ordenada em ordem decrescente de `NEI`. Note que cada linha de `unemployment` representa um trimestre. **(4 Pontos)**"
   ]
  },
  {
   "cell_type": "code",
   "execution_count": null,
   "metadata": {
    "tags": []
   },
   "outputs": [],
   "source": [
    "greatest_nei = ...\n",
    "greatest_nei"
   ]
  },
  {
   "cell_type": "code",
   "execution_count": null,
   "metadata": {
    "deletable": false,
    "editable": false
   },
   "outputs": [],
   "source": [
    "grader.check(\"q1_3\")"
   ]
  },
  {
   "cell_type": "markdown",
   "metadata": {},
   "source": [
    "**Questão 4.** Acredita-se que muitas pessoas se tornaram PTER (lembre-se: \"Meio período por razões econômicas\") na \"Grande Recessão\" de 2008-2009. NEI-PTER é a porcentagem de pessoas que estão desempregadas (incluídas no NEI) mais a porcentagem de pessoas que são PTER.\n",
    "\n",
    "Calcule um array contendo a porcentagem de pessoas que eram PTER em cada trimestre. (O primeiro elemento do array deve corresponder à primeira linha de `unemployment`, e assim por diante.) **(4 Pontos)**\n",
    "\n",
    "*Nota:* Use a tabela `unemployment` original para isso."
   ]
  },
  {
   "cell_type": "code",
   "execution_count": null,
   "metadata": {
    "tags": []
   },
   "outputs": [],
   "source": [
    "pter = ...\n",
    "pter"
   ]
  },
  {
   "cell_type": "code",
   "execution_count": null,
   "metadata": {
    "deletable": false,
    "editable": false
   },
   "outputs": [],
   "source": [
    "grader.check(\"q1_4\")"
   ]
  },
  {
   "cell_type": "markdown",
   "metadata": {},
   "source": [
    "**Questão 5.** Adicione `pter` como uma coluna em `unemployment` (nomeie a coluna `PTER`) e ordene a tabela resultante por essa coluna em ordem decrescente. Nomeie a tabela resultante como `by_pter`.\n",
    "\n",
    "Tente fazer isso com uma única linha de código, se puder. **(4 Pontos)**"
   ]
  },
  {
   "cell_type": "code",
   "execution_count": null,
   "metadata": {
    "tags": []
   },
   "outputs": [],
   "source": [
    "by_pter = ...\n",
    "by_pter"
   ]
  },
  {
   "cell_type": "code",
   "execution_count": null,
   "metadata": {
    "deletable": false,
    "editable": false
   },
   "outputs": [],
   "source": [
    "grader.check(\"q1_5\")"
   ]
  },
  {
   "cell_type": "markdown",
   "metadata": {},
   "source": [
    "**Questão 6.** Crie um gráfico de linha de PTER ao longo do tempo. Para fazer isso, crie uma nova tabela chamada `pter_over_time` fazendo uma cópia da tabela `unemployment` e adicionando duas novas colunas: `Year` e `PTER` usando o array `year` e o array `pter`, respectivamente. Em seguida, gere um gráfico de linha usando um dos métodos de tabela que você aprendeu na aula.\n",
    "\n",
    "A ordem das colunas importa para nossos testes de correção, então certifique-se de que `Year` venha antes de `PTER`. **(4 Pontos)**\n",
    "\n",
    "*Nota:* Ao construir `pter_over_time`, não adicione apenas a coluna `year` à tabela `by_pter`. Por favor, siga as instruções na pergunta acima."
   ]
  },
  {
   "cell_type": "code",
   "execution_count": null,
   "metadata": {
    "tags": []
   },
   "outputs": [],
   "source": [
    "year = 1994 + np.arange(by_pter.num_rows)/4\n",
    "pter_over_time = ...\n",
    "...\n",
    "plots.ylim(0,2); # Não altere esta linha"
   ]
  },
  {
   "cell_type": "code",
   "execution_count": null,
   "metadata": {
    "deletable": false,
    "editable": false
   },
   "outputs": [],
   "source": [
    "grader.check(\"q1_6\")"
   ]
  },
  {
   "cell_type": "markdown",
   "metadata": {},
   "source": [
    "**Questão 7.** As taxas de PTER foram altas durante a Grande Recessão (ou seja, as taxas de PTER foram particularmente altas nos anos de 2008 a 2011)? Atribua `highPTER` a `True` se você acha que as taxas de PTER foram altas neste período, ou `False` se você acha que não foram. **(4 Pontos)**"
   ]
  },
  {
   "cell_type": "code",
   "execution_count": null,
   "metadata": {
    "tags": []
   },
   "outputs": [],
   "source": [
    "highPTER = ..."
   ]
  },
  {
   "cell_type": "code",
   "execution_count": null,
   "metadata": {
    "deletable": false,
    "editable": false
   },
   "outputs": [],
   "source": [
    "grader.check(\"q1_7\")"
   ]
  },
  {
   "cell_type": "markdown",
   "metadata": {},
   "source": [
    "## 2. Taxas de Nascimento"
   ]
  },
  {
   "cell_type": "markdown",
   "metadata": {},
   "source": [
    "A tabela a seguir fornece estimativas de população baseadas no Censo para cada estado dos EUA em 1º de julho de 2015 e 1º de julho de 2016. As últimas quatro colunas descrevem os componentes da mudança estimada na população durante este intervalo de tempo. **Para todas as perguntas abaixo, assuma que a palavra \"estados\" se refere a todas as 52 linhas, incluindo Porto Rico e o Distrito de Columbia.**\n",
    "\n",
    "Os dados foram retirados [daqui](http://www2.census.gov/programs-surveys/popest/datasets/2010-2016/national/totals/nst-est2016-alldata.csv). (Nota: Se não baixar para você quando você clicar no link, por favor, copie e cole na sua barra de endereços!) Se você quiser ler mais sobre as diferentes descrições das colunas, clique [aqui](http://www2.census.gov/programs-surveys/popest/datasets/2010-2015/national/totals/nst-est2015-alldata.pdf).\n",
    "\n",
    "Os dados brutos são um pouco bagunçados - execute a célula abaixo para limpar a tabela e torná-la mais fácil de trabalhar."
   ]
  },
  {
   "cell_type": "code",
   "execution_count": null,
   "metadata": {},
   "outputs": [],
   "source": [
    "# Não altere esta célula; apenas execute-a.\n",
    "pop = Table.read_table('nst-est2016-alldata.csv').where('SUMLEV', 40).select([1, 4, 12, 13, 27, 34, 62, 69])\n",
    "pop = pop.relabeled('POPESTIMATE2015', '2015').relabeled('POPESTIMATE2016', '2016')\n",
    "pop = pop.relabeled('BIRTHS2016', 'BIRTHS').relabeled('DEATHS2016', 'DEATHS')\n",
    "pop = pop.relabeled('NETMIG2016', 'MIGRATION').relabeled('RESIDUAL2016', 'OTHER')\n",
    "pop = pop.with_columns(\"REGION\", np.array([int(region) if region != \"X\" else 0 for region in pop.column(\"REGION\")]))\n",
    "pop.set_format([2, 3, 4, 5, 6, 7], NumberFormatter(decimals=0)).show(5)"
   ]
  },
  {
   "cell_type": "markdown",
   "metadata": {},
   "source": [
    "**Questão 1.** Atribua `us_birth_rate` à taxa de natalidade anual total dos EUA durante este intervalo de tempo. A taxa de natalidade anual para um período de um ano é o número total de nascimentos nesse período como uma proporção do tamanho total da população no início do período de tempo. **(4 Pontos)**\n",
    "\n",
    "*Dica:* Qual ano corresponde ao início do período de tempo?"
   ]
  },
  {
   "cell_type": "code",
   "execution_count": null,
   "metadata": {
    "tags": []
   },
   "outputs": [],
   "source": [
    "us_birth_rate = ...\n",
    "us_birth_rate"
   ]
  },
  {
   "cell_type": "code",
   "execution_count": null,
   "metadata": {
    "deletable": false,
    "editable": false
   },
   "outputs": [],
   "source": [
    "grader.check(\"q2_1\")"
   ]
  },
  {
   "cell_type": "markdown",
   "metadata": {},
   "source": [
    "**Questão 2.** Atribua `movers` ao número de estados para os quais o **valor absoluto** da **taxa anual de migração** foi maior que 1%. A taxa anual de migração para um período de um ano é o número líquido de migrações (entradas e saídas) como uma proporção do tamanho da população no início do período. A coluna `MIGRATION` contém estimativas anuais de contagens líquidas de migração por estado. **(4 Pontos)**\n",
    "\n",
    "*Dica*: `migration_rates` deve ser uma tabela e `movers` deve ser um número."
   ]
  },
  {
   "cell_type": "code",
   "execution_count": null,
   "metadata": {
    "tags": []
   },
   "outputs": [],
   "source": [
    "migration_rates = ...\n",
    "movers = ...\n",
    "movers"
   ]
  },
  {
   "cell_type": "code",
   "execution_count": null,
   "metadata": {
    "deletable": false,
    "editable": false
   },
   "outputs": [],
   "source": [
    "grader.check(\"q2_2\")"
   ]
  },
  {
   "cell_type": "markdown",
   "metadata": {},
   "source": [
    "**Questão 3.** Atribua `west_births` ao número total de nascimentos que ocorreram na região 4 (oeste dos EUA). **(4 Pontos)**\n",
    "\n",
    "*Dica:* Certifique-se de verificar o tipo dos valores na coluna `REGION` e filtre adequadamente (ou seja, os tipos devem corresponder!)."
   ]
  },
  {
   "cell_type": "code",
   "execution_count": null,
   "metadata": {
    "tags": []
   },
   "outputs": [],
   "source": [
    "west_births = ...\n",
    "west_births"
   ]
  },
  {
   "cell_type": "code",
   "execution_count": null,
   "metadata": {
    "deletable": false,
    "editable": false
   },
   "outputs": [],
   "source": [
    "grader.check(\"q2_3\")"
   ]
  },
  {
   "cell_type": "markdown",
   "metadata": {},
   "source": [
    "**Questão 4.** Na próxima pergunta, você estará criando uma visualização para entender a relação entre as taxas de nascimento e morte. A taxa de mortalidade anual para um período de um ano é o número total de mortes nesse período como uma proporção do tamanho da população no início do período de tempo.\n",
    "\n",
    "Qual visualização é mais apropriada para ver se há uma associação entre as taxas de nascimento e morte durante um determinado intervalo de tempo?\n",
    "\n",
    "1. Gráfico de Linha\n",
    "2. Gráfico de Barras\n",
    "3. Gráfico de Dispersão\n",
    "\n",
    "Atribua `visualization` abaixo ao número correspondente à visualização correta. **(4 Pontos)**"
   ]
  },
  {
   "cell_type": "code",
   "execution_count": null,
   "metadata": {
    "tags": []
   },
   "outputs": [],
   "source": [
    "visualization = ..."
   ]
  },
  {
   "cell_type": "code",
   "execution_count": null,
   "metadata": {
    "deletable": false,
    "editable": false
   },
   "outputs": [],
   "source": [
    "grader.check(\"q2_4\")"
   ]
  },
  {
   "cell_type": "markdown",
   "metadata": {},
   "source": [
    "<!-- BEGIN QUESTION -->\n",
    "\n",
    "**Questão 5.** Na célula de código abaixo, crie uma visualização que nos ajudará a determinar se há uma associação entre a taxa de nascimento e a taxa de mortalidade durante este intervalo de tempo. Pode ser útil criar uma tabela intermediária aqui. **(4 Pontos)**\n",
    "\n",
    "Coisas para considerar:\n",
    "\n",
    "- Que tipo de gráfico nos ajudará a ilustrar uma associação entre 2 variáveis?\n",
    "- Como você pode manipular uma determinada tabela para ajudar a gerar seu gráfico?\n",
    "- Confira a leitura recomendada para este trabalho de casa!"
   ]
  },
  {
   "cell_type": "code",
   "execution_count": null,
   "metadata": {
    "deletable": false,
    "manual_problem_id": "birth_death_rates_graph",
    "tags": []
   },
   "outputs": [],
   "source": [
    "# Nesta célula, use birth_rates e death_rates para gerar sua visualização\n",
    "birth_rates = pop.column('BIRTHS') / pop.column('2015')\n",
    "death_rates = pop.column('DEATHS') / pop.column('2015')\n",
    "..."
   ]
  },
  {
   "cell_type": "markdown",
   "metadata": {},
   "source": [
    "<!-- END QUESTION -->\n",
    "\n",
    "**Questão 6.** Verdadeiro ou Falso: Existe uma associação entre a taxa de nascimento e a taxa de mortalidade durante este intervalo de tempo.\n",
    "\n",
    "Atribua `assoc` a `True` ou `False` na célula abaixo. **(4 Pontos)**\n"
   ]
  },
  {
   "cell_type": "code",
   "execution_count": null,
   "metadata": {
    "tags": []
   },
   "outputs": [],
   "source": [
    "assoc = ..."
   ]
  },
  {
   "cell_type": "code",
   "execution_count": null,
   "metadata": {
    "deletable": false,
    "editable": false
   },
   "outputs": [],
   "source": [
    "grader.check(\"q2_6\")"
   ]
  },
  {
   "cell_type": "markdown",
   "metadata": {},
   "source": [
    "## 3. Uber"
   ]
  },
  {
   "cell_type": "markdown",
   "metadata": {},
   "source": [
    "Abaixo, carregamos tabelas contendo 200.000 viagens de Uber durante a semana nas áreas metropolitanas de Manila, Filipinas, e Boston, Massachusetts, do projeto [Uber Movement](https://movement.uber.com). As colunas `sourceid` e `dstid` contêm códigos correspondentes aos locais de início e fim de cada viagem. A coluna `hod` contém códigos correspondentes à hora do dia em que a viagem ocorreu. A coluna `ride time` contém a duração da viagem em minutos."
   ]
  },
  {
   "cell_type": "code",
   "execution_count": null,
   "metadata": {
    "for_question_type": "solution",
    "scrolled": true
   },
   "outputs": [],
   "source": [
    "boston = Table.read_table(\"boston.csv\")\n",
    "manila = Table.read_table(\"manila.csv\")\n",
    "print(\"Boston Table\")\n",
    "boston.show(4)\n",
    "print(\"Manila Table\")\n",
    "manila.show(4)"
   ]
  },
  {
   "cell_type": "markdown",
   "metadata": {},
   "source": [
    "<!-- BEGIN QUESTION -->\n",
    "\n",
    "**Questão 1.** Produza um histograma que visualize as distribuições de todos os tempos de viagem em Boston usando os bins fornecidos em `equal_bins`. **(4 Pontos)**\n"
   ]
  },
  {
   "cell_type": "code",
   "execution_count": null,
   "metadata": {
    "deletable": false,
    "manual_problem_id": "uber_1",
    "scrolled": true,
    "tags": []
   },
   "outputs": [],
   "source": [
    "equal_bins = np.arange(0, 120, 5)\n",
    "..."
   ]
  },
  {
   "cell_type": "markdown",
   "metadata": {},
   "source": [
    "<!-- END QUESTION -->\n",
    "\n",
    "<!-- BEGIN QUESTION -->\n",
    "\n",
    "**Questão 2.** Agora, produza um histograma que visualize a distribuição de todos os tempos de viagem em Manila usando os bins fornecidos. **(4 Pontos)**\n"
   ]
  },
  {
   "cell_type": "code",
   "execution_count": null,
   "metadata": {
    "scrolled": true,
    "tags": []
   },
   "outputs": [],
   "source": [
    "equal_bins = np.arange(0, 120, 5)\n",
    "...\n",
    "\n",
    "# Não delete a próxima linha!\n",
    "plots.ylim(0, 0.05);"
   ]
  },
  {
   "cell_type": "markdown",
   "metadata": {},
   "source": [
    "<!-- END QUESTION -->\n",
    "\n",
    "**Questão 3.** Vamos dar uma olhada mais de perto no rótulo do eixo y. Atribua `unit_meaning` a um número inteiro (1, 2, 3) que corresponda à \"unidade\" em \"Percentual por unidade\". **(4 Pontos)**\n",
    "\n",
    "1. minuto  \n",
    "2. tempo de viagem  \n",
    "3. segundo\n"
   ]
  },
  {
   "cell_type": "code",
   "execution_count": null,
   "metadata": {
    "tags": []
   },
   "outputs": [],
   "source": [
    "unit_meaning = ...\n",
    "unit_meaning"
   ]
  },
  {
   "cell_type": "code",
   "execution_count": null,
   "metadata": {
    "deletable": false,
    "editable": false
   },
   "outputs": [],
   "source": [
    "grader.check(\"q3_3\")"
   ]
  },
  {
   "cell_type": "markdown",
   "metadata": {},
   "source": [
    "**Questão 4.** Atribua `boston_under_15` e `manila_under_15` à porcentagem de viagens que duram menos de 15 minutos em suas respectivas áreas metropolitanas. Use as variáveis de altura fornecidas abaixo para calcular as porcentagens. Sua solução deve usar apenas variáveis de altura, números e operações matemáticas. Você **não** deve acessar as tabelas `boston` e `manila` de maneira alguma. **(4 Pontos)**"
   ]
  },
  {
   "cell_type": "code",
   "execution_count": null,
   "metadata": {
    "deletable": false,
    "manual_problem_id": "uber_2",
    "tags": []
   },
   "outputs": [],
   "source": [
    "boston_under_5_height = 1.2\n",
    "manila_under_5_height = 0.6\n",
    "boston_5_to_under_10_height = 3.2\n",
    "manila_5_to_under_10_height = 1.4\n",
    "boston_10_to_under_15_height = 4.9\n",
    "manila_10_to_under_15_height = 2.2\n",
    "\n",
    "boston_under_15 = ...\n",
    "manila_under_15 = ...\n",
    "\n",
    "boston_under_15, manila_under_15"
   ]
  },
  {
   "cell_type": "code",
   "execution_count": null,
   "metadata": {
    "deletable": false,
    "editable": false
   },
   "outputs": [],
   "source": [
    "grader.check(\"q3_4\")"
   ]
  },
  {
   "cell_type": "markdown",
   "metadata": {},
   "source": [
    "**Questão 5.** Vamos dar uma olhada mais de perto na distribuição dos tempos de viagem em Boston. Atribua `boston_median_bin` a um número inteiro (1, 2, 3 ou 4) que corresponda ao bin que contém o tempo mediano. **(4 Pontos)**\n",
    "\n",
    "1. 0-8 minutos  \n",
    "2. 8-14 minutos  \n",
    "3. 14-20 minutos  \n",
    "4. 20-40 minutos  \n",
    "\n",
    "*Dica:* A mediana de uma lista ordenada tem metade dos elementos da lista à sua esquerda e metade à sua direita."
   ]
  },
  {
   "cell_type": "code",
   "execution_count": null,
   "metadata": {
    "tags": []
   },
   "outputs": [],
   "source": [
    "boston_median_bin = ...\n",
    "boston_median_bin"
   ]
  },
  {
   "cell_type": "code",
   "execution_count": null,
   "metadata": {
    "deletable": false,
    "editable": false
   },
   "outputs": [],
   "source": [
    "grader.check(\"q3_5\")"
   ]
  },
  {
   "cell_type": "markdown",
   "metadata": {},
   "source": [
    "<!-- BEGIN QUESTION -->\n",
    "\n",
    "**Questão 6.** Identifique uma diferença entre os histogramas, em termos das propriedades estatísticas. Você pode comentar sobre a média e/ou assimetria de cada histograma? **(4 Pontos)**\n",
    "\n",
    "*Dica*: A melhor maneira de fazer isso é comparar visualmente os dois histogramas (de 3.1 e 3.2).\n"
   ]
  },
  {
   "cell_type": "markdown",
   "metadata": {},
   "source": [
    "_Digite sua resposta aqui, substituindo este texto._"
   ]
  },
  {
   "cell_type": "markdown",
   "metadata": {},
   "source": [
    "<!-- END QUESTION -->\n",
    "\n",
    "<!-- BEGIN QUESTION -->\n",
    "\n",
    "**Questão 7.** Por que a sua solução na Questão 6 é o caso? Com base em uma das duas leituras a seguir, por que as distribuições para Boston e Manila são diferentes? **(4 Pontos)**\n",
    "\n",
    "- [Leitura sobre Boston](https://www.climatestotravel.com/climate/united-states/boston)\n",
    "- [Leitura sobre Manila](https://manilafyi.com/why-is-manila-traffic-so-bad/)\n",
    "\n",
    "*Dica:* Tente pensar sobre fatores externos das duas cidades que podem estar causando a diferença! Pode haver vários fatores diferentes que entram em jogo.\n"
   ]
  },
  {
   "cell_type": "markdown",
   "metadata": {},
   "source": [
    "_Digite sua resposta aqui, substituindo este texto._"
   ]
  },
  {
   "cell_type": "markdown",
   "metadata": {
    "tags": []
   },
   "source": [
    "<!-- END QUESTION -->\n",
    "\n",
    "## 4. Histogramas"
   ]
  },
  {
   "cell_type": "markdown",
   "metadata": {},
   "source": [
    "Considere o seguinte gráfico de dispersão:\n",
    "\n",
    "![](scatter.png)\n",
    "\n",
    "Os eixos do gráfico representam os valores de duas variáveis: $x$ e $y$."
   ]
  },
  {
   "cell_type": "markdown",
   "metadata": {},
   "source": [
    "Suponha que temos uma tabela chamada `t` que tem duas colunas:\n",
    "\n",
    "- `x`: uma coluna contendo os valores x dos pontos no gráfico de dispersão\n",
    "- `y`: uma coluna contendo os valores y dos pontos no gráfico de dispersão"
   ]
  },
  {
   "cell_type": "markdown",
   "metadata": {},
   "source": [
    "Abaixo, são fornecidos três histogramas - um corresponde à coluna `x`, um corresponde à coluna `y`, e um não corresponde a nenhuma das colunas."
   ]
  },
  {
   "cell_type": "markdown",
   "metadata": {},
   "source": [
    "**Histograma A:**\n",
    "\n",
    "![](var3.png)\n",
    "\n",
    "**Histograma B:**\n",
    "\n",
    "![](var1.png)\n",
    "\n",
    "**Histograma C:**\n",
    "\n",
    "![](var2.png)"
   ]
  },
  {
   "cell_type": "markdown",
   "metadata": {},
   "source": [
    "**Questão 1.** Suponha que executamos `t.hist('x')`. A qual histograma este código se refere? Atribua `histogram_column_x` a 1, 2 ou 3. **(5 Pontos)**\n",
    "\n",
    "1. Histograma A\n",
    "2. Histograma B\n",
    "3. Histograma C\n"
   ]
  },
  {
   "cell_type": "code",
   "execution_count": null,
   "metadata": {
    "tags": []
   },
   "outputs": [],
   "source": [
    "histogram_column_x = ..."
   ]
  },
  {
   "cell_type": "code",
   "execution_count": null,
   "metadata": {
    "deletable": false,
    "editable": false
   },
   "outputs": [],
   "source": [
    "grader.check(\"q4_1\")"
   ]
  },
  {
   "cell_type": "markdown",
   "metadata": {},
   "source": [
    "<!-- BEGIN QUESTION -->\n",
    "\n",
    "**Questão 2.** Indique pelo menos um motivo pelo qual você escolheu o histograma da Questão 1. **Certifique-se de indicar claramente qual histograma você selecionou** (ex: \"Eu escolhi o histograma A porque ...\"). **(5 Pontos)**\n"
   ]
  },
  {
   "cell_type": "markdown",
   "metadata": {},
   "source": [
    "_Digite sua resposta aqui, substituindo este texto._"
   ]
  },
  {
   "cell_type": "markdown",
   "metadata": {},
   "source": [
    "<!-- END QUESTION -->\n",
    "\n",
    "**Questão 3.** Suponha que executamos `t.hist('y')`. A qual histograma este código se refere? Atribua `histogram_column_y` a 1, 2 ou 3. **(5 Pontos)**\n",
    "\n",
    "1. Histograma A\n",
    "2. Histograma B\n",
    "3. Histograma C\n",
    "\n"
   ]
  },
  {
   "cell_type": "code",
   "execution_count": null,
   "metadata": {
    "tags": []
   },
   "outputs": [],
   "source": [
    "histogram_column_y = ..."
   ]
  },
  {
   "cell_type": "code",
   "execution_count": null,
   "metadata": {
    "deletable": false,
    "editable": false
   },
   "outputs": [],
   "source": [
    "grader.check(\"q4_3\")"
   ]
  },
  {
   "cell_type": "markdown",
   "metadata": {},
   "source": [
    "<!-- BEGIN QUESTION -->\n",
    "\n",
    "**Questão 4.** Indique pelo menos um motivo pelo qual você escolheu o histograma da Questão 3. **Certifique-se de indicar claramente qual histograma você selecionou** (ex: \"Eu escolhi o histograma A porque ...\"). **(5 Pontos)**\n"
   ]
  },
  {
   "cell_type": "markdown",
   "metadata": {},
   "source": [
    "_Digite sua resposta aqui, substituindo este texto._"
   ]
  },
  {
   "cell_type": "markdown",
   "metadata": {},
   "source": [
    "<!-- END QUESTION -->\n",
    "\n",
    "Você terminou o Trabalho de Casa 3!\n",
    "\n",
    "**Passos importantes para a submissão:**\n",
    "1. Execute os testes e verifique se todos passaram.\n",
    "2. Escolha **Salvar Notebook** no menu **Arquivo**, então **execute a última célula**.\n",
    "3. Clique no link para baixar o arquivo zip.\n",
    "4. Em seguida, envie o arquivo zip para a tarefa correspondente de acordo com as instruções do seu professor.\n",
    "\n",
    "**É sua responsabilidade garantir que seu trabalho esteja salvo antes de executar a última célula.**"
   ]
  },
  {
   "cell_type": "markdown",
   "metadata": {
    "deletable": false,
    "editable": false
   },
   "source": [
    "## Submissão\n",
    "\n",
    "Certifique-se de ter executado todas as células em seu notebook em ordem antes de executar a célula abaixo, para que todas as imagens/gráficos apareçam na saída. A célula abaixo irá gerar um arquivo zip para você enviar. **Por favor, salve antes de exportar!**"
   ]
  },
  {
   "cell_type": "code",
   "execution_count": null,
   "metadata": {
    "deletable": false,
    "editable": false
   },
   "outputs": [],
   "source": [
    "# Primeiro salve seu notebook, depois execute esta célula para exportar sua submissão.\n",
    "grader.export(pdf=False, run_tests=True)"
   ]
  },
  {
   "cell_type": "markdown",
   "metadata": {},
   "source": [
    " "
   ]
  }
 ],
 "metadata": {
  "kernelspec": {
   "display_name": "Python 3 (ipykernel)",
   "language": "python",
   "name": "python3"
  },
  "language_info": {
   "codemirror_mode": {
    "name": "ipython",
    "version": 3
   },
   "file_extension": ".py",
   "mimetype": "text/x-python",
   "name": "python",
   "nbconvert_exporter": "python",
   "pygments_lexer": "ipython3",
   "version": "3.9.9"
  },
  "otter": {
   "OK_FORMAT": true,
   "tests": {
    "q1_1": {
     "name": "q1_1",
     "points": [
      4
     ],
     "suites": [
      {
       "cases": [
        {
         "code": ">>> unemployment.select('Date', 'NEI', 'NEI-PTER').take(0)\nDate       | NEI     | NEI-PTER\n1994-01-01 | 10.0974 | 11.172",
         "hidden": false,
         "locked": false
        }
       ],
       "scored": true,
       "setup": "",
       "teardown": "",
       "type": "doctest"
      }
     ]
    },
    "q1_2": {
     "name": "q1_2",
     "points": [
      2,
      2
     ],
     "suites": [
      {
       "cases": [
        {
         "code": ">>> by_nei.take(0)\nDate       | NEI     | NEI-PTER\n2009-10-01 | 10.9698 | 12.8557",
         "hidden": false,
         "locked": false
        },
        {
         "code": ">>> by_nei_pter.take(0)\nDate       | NEI     | NEI-PTER\n2009-10-01 | 10.9698 | 12.8557",
         "hidden": false,
         "locked": false
        }
       ],
       "scored": true,
       "setup": "",
       "teardown": "",
       "type": "doctest"
      }
     ]
    },
    "q1_3": {
     "name": "q1_3",
     "points": [
      2
     ],
     "suites": [
      {
       "cases": [
        {
         "code": ">>> greatest_nei.take(0)\nDate       | NEI     | NEI-PTER\n2009-10-01 | 10.9698 | 12.8557",
         "hidden": false,
         "locked": false
        }
       ],
       "scored": true,
       "setup": "",
       "teardown": "",
       "type": "doctest"
      }
     ]
    },
    "q1_4": {
     "name": "q1_4",
     "points": [
      1,
      3
     ],
     "suites": [
      {
       "cases": [
        {
         "code": ">>> # It looks like you subtracted in the wrong order.\n>>> round(pter.item(6), 4) != -1.1282\nTrue",
         "hidden": false,
         "locked": false
        },
        {
         "code": ">>> round(pter.item(6), 4)\n1.1282",
         "hidden": false,
         "locked": false
        }
       ],
       "scored": true,
       "setup": "",
       "teardown": "",
       "type": "doctest"
      }
     ]
    },
    "q1_5": {
     "name": "q1_5",
     "points": [
      4
     ],
     "suites": [
      {
       "cases": [
        {
         "code": ">>> by_pter.take(0)\nDate       | NEI     | NEI-PTER | PTER\n2009-07-01 | 10.8089 | 12.7404  | 1.9315",
         "hidden": false,
         "locked": false
        }
       ],
       "scored": true,
       "setup": "",
       "teardown": "",
       "type": "doctest"
      }
     ]
    },
    "q1_6": {
     "name": "q1_6",
     "points": [
      0
     ],
     "suites": [
      {
       "cases": [
        {
         "code": ">>> pter_over_time.take(0)\nDate       | NEI     | NEI-PTER | Year | PTER\n1994-01-01 | 10.0974 | 11.172   | 1994 | 1.0746",
         "hidden": false,
         "locked": false
        }
       ],
       "scored": true,
       "setup": "",
       "teardown": "",
       "type": "doctest"
      }
     ]
    },
    "q1_7": {
     "name": "q1_7",
     "points": [
      0
     ],
     "suites": [
      {
       "cases": [
        {
         "code": ">>> highPTER == True or highPTER == False\nTrue",
         "hidden": false,
         "locked": false
        }
       ],
       "scored": true,
       "setup": "",
       "teardown": "",
       "type": "doctest"
      }
     ]
    },
    "q2_1": {
     "name": "q2_1",
     "points": [
      0
     ],
     "suites": [
      {
       "cases": [
        {
         "code": ">>> 0 < us_birth_rate < 1\nTrue",
         "hidden": false,
         "locked": false
        }
       ],
       "scored": true,
       "setup": "",
       "teardown": "",
       "type": "doctest"
      }
     ]
    },
    "q2_2": {
     "name": "q2_2",
     "points": [
      0
     ],
     "suites": [
      {
       "cases": [
        {
         "code": ">>> 0 < movers <= 52\nTrue",
         "hidden": false,
         "locked": false
        }
       ],
       "scored": true,
       "setup": "",
       "teardown": "",
       "type": "doctest"
      }
     ]
    },
    "q2_3": {
     "name": "q2_3",
     "points": [
      0
     ],
     "suites": [
      {
       "cases": [
        {
         "code": ">>> 5e5 < west_births < 1e6\nTrue",
         "hidden": false,
         "locked": false
        }
       ],
       "scored": true,
       "setup": "",
       "teardown": "",
       "type": "doctest"
      }
     ]
    },
    "q2_4": {
     "name": "q2_4",
     "points": [
      0,
      0
     ],
     "suites": [
      {
       "cases": [
        {
         "code": ">>> # visualization should be assigned to an integer.\n>>> type(visualization) == int\nTrue",
         "hidden": false,
         "locked": false
        },
        {
         "code": ">>> # Make sure visualization is assigned to 1, 2 or 3.\n>>> 1 <= visualization <= 3\nTrue",
         "hidden": false,
         "locked": false
        }
       ],
       "scored": true,
       "setup": "",
       "teardown": "",
       "type": "doctest"
      }
     ]
    },
    "q2_6": {
     "name": "q2_6",
     "points": [
      0
     ],
     "suites": [
      {
       "cases": [
        {
         "code": ">>> type(assoc) is bool\nTrue",
         "hidden": false,
         "locked": false
        }
       ],
       "scored": true,
       "setup": "",
       "teardown": "",
       "type": "doctest"
      }
     ]
    },
    "q3_3": {
     "name": "q3_3",
     "points": [
      0
     ],
     "suites": [
      {
       "cases": [
        {
         "code": ">>> 1 <= unit_meaning <= 3\nTrue",
         "hidden": false,
         "locked": false
        }
       ],
       "scored": true,
       "setup": "",
       "teardown": "",
       "type": "doctest"
      }
     ]
    },
    "q3_4": {
     "name": "q3_4",
     "points": [
      0,
      0
     ],
     "suites": [
      {
       "cases": [
        {
         "code": ">>> boston_under_15 >= 0 and boston_under_15 <= 100\nTrue",
         "hidden": false,
         "locked": false
        },
        {
         "code": ">>> manila_under_15 >= 0 and manila_under_15 <= 100\nTrue",
         "hidden": false,
         "locked": false
        }
       ],
       "scored": true,
       "setup": "",
       "teardown": "",
       "type": "doctest"
      }
     ]
    },
    "q3_5": {
     "name": "q3_5",
     "points": [
      0
     ],
     "suites": [
      {
       "cases": [
        {
         "code": ">>> # Make sure boston_median_bin is assigned to 1, 2, 3, or 4.\n>>> 1 <= boston_median_bin <= 4\nTrue",
         "hidden": false,
         "locked": false
        }
       ],
       "scored": true,
       "setup": "",
       "teardown": "",
       "type": "doctest"
      }
     ]
    },
    "q4_1": {
     "name": "q4_1",
     "points": [
      0,
      1
     ],
     "suites": [
      {
       "cases": [
        {
         "code": ">>> # Make sure you assign histogram_column_x to either 1 or 2!\n>>> type(histogram_column_x) == int\nTrue",
         "hidden": false,
         "locked": false
        },
        {
         "code": ">>> histogram_column_x == 1 or histogram_column_x == 2 or histogram_column_x == 3\nTrue",
         "hidden": false,
         "locked": false
        }
       ],
       "scored": true,
       "setup": "",
       "teardown": "",
       "type": "doctest"
      }
     ]
    },
    "q4_3": {
     "name": "q4_3",
     "points": [
      0,
      1
     ],
     "suites": [
      {
       "cases": [
        {
         "code": ">>> # Make sure you assign histogram_column_y to either 1 or 2!\n>>> type(histogram_column_y) == int\nTrue",
         "hidden": false,
         "locked": false
        },
        {
         "code": ">>> # Make sure histogram_column_y is assigned to 1, 2 or 3.\n>>> histogram_column_y == 1 or histogram_column_y == 2 or histogram_column_y == 3\nTrue",
         "hidden": false,
         "locked": false
        }
       ],
       "scored": true,
       "setup": "",
       "teardown": "",
       "type": "doctest"
      }
     ]
    }
   }
  }
 },
 "nbformat": 4,
 "nbformat_minor": 5
}
