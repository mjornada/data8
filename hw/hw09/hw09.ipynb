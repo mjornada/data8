{
 "cells": [
  {
   "cell_type": "code",
   "execution_count": null,
   "id": "66f11528",
   "metadata": {
    "deletable": false,
    "editable": false
   },
   "outputs": [],
   "source": [
    "# Inicialize o Otter\n",
    "import otter\n",
    "grader = otter.Notebook(\"hw09.ipynb\")"
   ]
  },
  {
   "cell_type": "markdown",
   "id": "691db2ad",
   "metadata": {},
   "source": [
    "# Tarefa de Casa 9: Tamanhos de Amostra e Intervalos de Confiança"
   ]
  },
  {
   "cell_type": "markdown",
   "id": "ef76897f",
   "metadata": {},
   "source": [
    "**Recurso Útil:**\n",
    "\n",
    "- [Referência Python](http://data8.org/sp22/python-reference.html): Folha de dicas de métodos úteis de arrays e tabelas usados no Data 8!\n",
    "\n",
    "**Leituras Recomendadas**: \n",
    "\n",
    "* [Estimação](https://inferentialthinking.com/chapters/13/Estimation.html)\n",
    "* [Por Que a Média Importa](https://inferentialthinking.com/chapters/14/Why_the_Mean_Matters.html)"
   ]
  },
  {
   "cell_type": "markdown",
   "id": "fe74b407",
   "metadata": {},
   "source": [
    "Por favor, complete este caderno preenchendo as células fornecidas. Antes de começar, execute a célula a seguir para configurar o caderno importando algumas bibliotecas úteis. Cada vez que você iniciar seu servidor, precisará executar esta célula novamente.\n",
    "\n",
    "Para todos os problemas nos quais você deve escrever explicações e frases, você **deve** fornecer sua resposta no espaço designado. **Além disso, ao longo desta tarefa de casa e de todas as futuras, certifique-se de não reatribuir variáveis ao longo do caderno!** Por exemplo, se você usar `max_temperature` na sua resposta para uma questão, não a reatribua mais tarde. Caso contrário, você falhará em testes que pensava ter passado anteriormente!\n",
    "\n",
    "**Nota: Esta tarefa de casa possui testes ocultos. Isso significa que, mesmo que os testes digam que 100% passaram, não significa que sua nota final será 100%. Nós rodaremos mais testes para correção uma vez que todos entreguem a tarefa de casa.**\n",
    "\n",
    "Compartilhar diretamente as respostas não é permitido, mas discutir os problemas com a equipe do curso ou com outros estudantes é encorajado.\n",
    "\n",
    "Você deve começar cedo para que tenha tempo de obter ajuda se estiver com dificuldades."
   ]
  },
  {
   "cell_type": "code",
   "execution_count": null,
   "id": "1b503330",
   "metadata": {
    "execution": {
     "iopub.execute_input": "2022-03-31T07:51:20.039914Z",
     "iopub.status.busy": "2022-03-31T07:51:20.039629Z",
     "iopub.status.idle": "2022-03-31T07:51:21.455818Z",
     "shell.execute_reply": "2022-03-31T07:51:21.455028Z"
    }
   },
   "outputs": [],
   "source": [
    "# Não altere esta célula; apenas execute-a.\n",
    "import numpy as np\n",
    "from datascience import *\n",
    "\n",
    "# Essas linhas fazem alguma mágica sofisticada de plotagem.\n",
    "import matplotlib\n",
    "%matplotlib inline\n",
    "import matplotlib.pyplot as plt\n",
    "plt.style.use('fivethirtyeight')\n",
    "import warnings\n",
    "warnings.simplefilter('ignore', FutureWarning)"
   ]
  },
  {
   "cell_type": "markdown",
   "id": "62db3068",
   "metadata": {},
   "source": [
    "## 1. Limitando a Cauda de uma Distribuição\n",
    "\n",
    "Uma comunidade tem uma idade média de 45 anos com um desvio padrão de 5 anos.\n",
    "\n",
    "Em cada parte abaixo, preencha o espaço em branco com um percentual que torne a afirmação verdadeira **sem mais suposições**, e explique sua resposta.\n",
    "\n",
    "*Nota:* Não será concedido crédito para limites vagos como \"pelo menos 0%\" ou \"no máximo 100%\". Dê a melhor resposta possível com as informações fornecidas."
   ]
  },
  {
   "cell_type": "markdown",
   "id": "beb1ff68",
   "metadata": {},
   "source": [
    "<!-- BEGIN QUESTION -->\n",
    "\n",
    "**Questão 1.1.** Pelo menos _______% das pessoas têm entre 25 e 65 anos de idade. **(6 Pontos)**"
   ]
  },
  {
   "cell_type": "markdown",
   "id": "68f9f17f",
   "metadata": {},
   "source": [
    "_Digite sua resposta aqui, substituindo este texto._"
   ]
  },
  {
   "cell_type": "markdown",
   "id": "fd375ea2",
   "metadata": {},
   "source": [
    "<!-- END QUESTION -->\n",
    "\n",
    "<!-- BEGIN QUESTION -->\n",
    "\n",
    "**Question 1.2.** At most _______% of the people have ages that are not in the range 25 years to 65 years. **(6 Points)**\n"
   ]
  },
  {
   "cell_type": "markdown",
   "id": "939c452e",
   "metadata": {},
   "source": [
    "_Digite sua resposta aqui, substituindo este texto._"
   ]
  },
  {
   "cell_type": "markdown",
   "id": "248c0620",
   "metadata": {},
   "source": [
    "<!-- END QUESTION -->\n",
    "\n",
    "<!-- BEGIN QUESTION -->\n",
    "\n",
    "**Questão 1.3.** No máximo _______% das pessoas têm mais de 65 anos de idade. **(6 Pontos)**\n",
    "\n",
    "*Dica:* Se você estiver com dificuldades, tente imaginar como a distribuição pode parecer neste caso."
   ]
  },
  {
   "cell_type": "markdown",
   "id": "2e8f890b",
   "metadata": {},
   "source": [
    "_Digite sua resposta aqui, substituindo este texto._"
   ]
  },
  {
   "cell_type": "markdown",
   "id": "e6225673",
   "metadata": {},
   "source": [
    "<!-- END QUESTION -->\n",
    "\n",
    "## 2. Tamanho da Amostra e Nível de Confiança\n",
    "\n",
    "Uma turma de ciência de dados na grande Universidade Data 8 quer estimar o percentual de usuários do Facebook entre os estudantes da escola. Para fazer isso, eles precisam coletar uma amostra aleatória de estudantes. Você pode assumir que o método de amostragem deles é equivalente a sortear aleatoriamente com reposição entre os estudantes da escola.\n",
    "\n",
    "***Por favor, revise a [Seção 14.6](https://inferentialthinking.com/chapters/14/6/Choosing_a_Sample_Size.html#) do livro didático antes de prosseguir com esta seção. Seu trabalho será muito mais rápido dessa forma!***"
   ]
  },
  {
   "cell_type": "markdown",
   "id": "696f2e45",
   "metadata": {},
   "source": [
    "**Questão 2.1.** Atribua a `smallest` o menor número de estudantes que eles devem amostrar para garantir que um intervalo de confiança de **95%** para o parâmetro tenha uma largura de no máximo 6% de uma extremidade à outra. **(6 pontos)**\n",
    "\n",
    "*Dica:* Como nossos dados podem ser representados para mostrar se um estudante na amostra é um usuário do Facebook? Dado isso, quais suposições podemos fazer sobre o DP da população? A [Seção 14.6](https://inferentialthinking.com/chapters/14/6/Choosing_a_Sample_Size.html#) pode ser útil!\n",
    "\n",
    "*Nota:* Embora o verdadeiro menor tamanho de amostra tenha que ser um inteiro, por favor, deixe sua resposta em formato decimal para os nossos testes."
   ]
  },
  {
   "cell_type": "code",
   "execution_count": null,
   "id": "fe3f4278",
   "metadata": {
    "execution": {
     "iopub.execute_input": "2022-03-31T07:51:21.459968Z",
     "iopub.status.busy": "2022-03-31T07:51:21.459741Z",
     "iopub.status.idle": "2022-03-31T07:51:21.466213Z",
     "shell.execute_reply": "2022-03-31T07:51:21.465532Z"
    },
    "tags": []
   },
   "outputs": [],
   "source": [
    "smallest = ...\n",
    "smallest"
   ]
  },
  {
   "cell_type": "code",
   "execution_count": null,
   "id": "fc3c7bdb",
   "metadata": {
    "deletable": false,
    "editable": false
   },
   "outputs": [],
   "source": [
    "grader.check(\"q2_1\")"
   ]
  },
  {
   "cell_type": "markdown",
   "id": "36e030a5",
   "metadata": {},
   "source": [
    "<!-- BEGIN QUESTION -->\n",
    "\n",
    "**Questão 2.2.** Suponha que a turma de ciência de dados decida construir um intervalo de confiança de 90% em vez de um intervalo de 95%, mas ainda exija que a largura do intervalo não seja maior que 6% da extremidade esquerda à direita. Eles precisarão do mesmo tamanho de amostra que em 2.1? Escolha a resposta correta e explique mais sem cálculo. **(6 Pontos)**\n",
    "\n",
    "1. Sim, eles devem usar o mesmo tamanho de amostra.\n",
    "2. Não, um tamanho de amostra menor funcionará.\n",
    "3. Não, eles precisarão de uma amostra maior."
   ]
  },
  {
   "cell_type": "markdown",
   "id": "d49bd43b",
   "metadata": {},
   "source": [
    "_Digite sua resposta aqui, substituindo este texto._"
   ]
  },
  {
   "cell_type": "markdown",
   "id": "b9023890",
   "metadata": {},
   "source": [
    "<!-- END QUESTION -->\n",
    "\n",
    "**Questão 2.3.** O professor informa à turma que um intervalo de confiança de 90% para o parâmetro é construído exatamente como um intervalo de 95%, exceto que você precisa ir apenas 1,65 desvios padrão de cada lado da estimativa (±1,65) em vez de 2 desvios padrão de cada lado (±2). Atribua a `smallest_num` o menor número de estudantes que eles devem amostrar para garantir que um intervalo de confiança de **90%** para o parâmetro tenha uma largura de no máximo 6% da extremidade esquerda à direita. **(6 pontos)**\n",
    "\n",
    "*Nota:* Embora o verdadeiro menor tamanho de amostra tenha que ser um inteiro, por favor, deixe sua resposta em formato decimal para os nossos testes."
   ]
  },
  {
   "cell_type": "code",
   "execution_count": null,
   "id": "d2aab03a",
   "metadata": {
    "execution": {
     "iopub.execute_input": "2022-03-31T07:51:21.487624Z",
     "iopub.status.busy": "2022-03-31T07:51:21.487428Z",
     "iopub.status.idle": "2022-03-31T07:51:21.491671Z",
     "shell.execute_reply": "2022-03-31T07:51:21.491149Z"
    },
    "tags": []
   },
   "outputs": [],
   "source": [
    "smallest_num = ...\n",
    "smallest_num"
   ]
  },
  {
   "cell_type": "code",
   "execution_count": null,
   "id": "e739fc7b",
   "metadata": {
    "deletable": false,
    "editable": false
   },
   "outputs": [],
   "source": [
    "grader.check(\"q2_3\")"
   ]
  },
  {
   "cell_type": "markdown",
   "id": "60baa403",
   "metadata": {},
   "source": [
    "Para este próximo exercício, consulte a [Seção 14.3.4](https://inferentialthinking.com/chapters/14/3/SD_and_the_Normal_Curve.html#the-standard-normal-cdf) do livro didático para exemplos similares.\n",
    "\n",
    "Os estudantes estão curiosos sobre como a professora chegou ao valor 1.65 na Questão 2.3. Ela diz que executou as duas células de código a seguir. A primeira chama a função `plot_normal_cdf` da biblioteca `datascience`, que exibe a proporção que é no máximo o número especificado de DP acima da média sob a curva normal plotada com unidades padrão no eixo horizontal. Você pode encontrar a documentação [aqui](http://data8.org/datascience/util.html#datascience.util.plot_normal_cdf).\n",
    "\n",
    "*Nota:* A sigla `cdf` significa `função de distribuição cumulativa`. Ela mede a proporção à esquerda de um ponto especificado sob um histograma de probabilidade."
   ]
  },
  {
   "cell_type": "code",
   "execution_count": null,
   "id": "467fe3ef",
   "metadata": {
    "execution": {
     "iopub.execute_input": "2022-03-31T07:51:21.508257Z",
     "iopub.status.busy": "2022-03-31T07:51:21.508045Z",
     "iopub.status.idle": "2022-03-31T07:51:21.942839Z",
     "shell.execute_reply": "2022-03-31T07:51:21.942128Z"
    }
   },
   "outputs": [],
   "source": [
    "plot_normal_cdf(1.65)"
   ]
  },
  {
   "cell_type": "markdown",
   "id": "0c4028e6",
   "metadata": {},
   "source": [
    "Para executar a segunda célula, a professora teve que primeiro importar uma biblioteca Python para probabilidade e estatística:"
   ]
  },
  {
   "cell_type": "code",
   "execution_count": null,
   "id": "6d58890a",
   "metadata": {
    "execution": {
     "iopub.execute_input": "2022-03-31T07:51:21.946387Z",
     "iopub.status.busy": "2022-03-31T07:51:21.945746Z",
     "iopub.status.idle": "2022-03-31T07:51:21.949406Z",
     "shell.execute_reply": "2022-03-31T07:51:21.948604Z"
    }
   },
   "outputs": [],
   "source": [
    "# Apenas execute esta célula.\n",
    "from scipy import stats"
   ]
  },
  {
   "cell_type": "markdown",
   "id": "ace5247f",
   "metadata": {},
   "source": [
    "Em seguida, ela usou o método `norm.cdf` na biblioteca para encontrar a proporção de ouro acima."
   ]
  },
  {
   "cell_type": "code",
   "execution_count": null,
   "id": "64f38893",
   "metadata": {
    "execution": {
     "iopub.execute_input": "2022-03-31T07:51:21.952739Z",
     "iopub.status.busy": "2022-03-31T07:51:21.952229Z",
     "iopub.status.idle": "2022-03-31T07:51:21.957224Z",
     "shell.execute_reply": "2022-03-31T07:51:21.956624Z"
    }
   },
   "outputs": [],
   "source": [
    "# Apenas execute esta célula.\n",
    "stats.norm.cdf(1.65)"
   ]
  },
  {
   "cell_type": "markdown",
   "id": "6726ca47",
   "metadata": {},
   "source": [
    "*Nota*: Você não precisa entender como a biblioteca `scipy` funciona ou como usar o método por conta própria."
   ]
  },
  {
   "cell_type": "markdown",
   "id": "8fe711f2",
   "metadata": {},
   "source": [
    "<!-- BEGIN QUESTION -->\n",
    "\n",
    "**Questão 2.4.** Isso mostra que a porcentagem em uma distribuição normal que está no máximo 1,65 desvios padrão acima da média é de cerca de **95%**. Explique por que 1,65 é o número correto de desvios padrão a ser usado ao construir um intervalo de confiança de **90%**. **(6 Pontos)**"
   ]
  },
  {
   "cell_type": "markdown",
   "id": "154f2bec",
   "metadata": {},
   "source": [
    "_Digite sua resposta aqui, substituindo este texto._"
   ]
  },
  {
   "cell_type": "markdown",
   "id": "955c0a15",
   "metadata": {},
   "source": [
    "<!-- END QUESTION -->\n",
    "\n"
   ]
  },
  {
   "cell_type": "code",
   "execution_count": null,
   "id": "1ac6c50b",
   "metadata": {
    "execution": {
     "iopub.execute_input": "2022-03-31T07:51:21.960089Z",
     "iopub.status.busy": "2022-03-31T07:51:21.959795Z",
     "iopub.status.idle": "2022-03-31T07:51:21.964749Z",
     "shell.execute_reply": "2022-03-31T07:51:21.964094Z"
    }
   },
   "outputs": [],
   "source": [
    "# Apenas execute esta célula, não altere.\n",
    "stats.norm.cdf(2.33)"
   ]
  },
  {
   "cell_type": "markdown",
   "id": "32a6cf2a",
   "metadata": {},
   "source": [
    "**Questão 2.5.** A célula acima mostra que a proporção que está no máximo 2,33 desvios padrão acima da média em uma distribuição normal é de 99%. Atribua `option` à opção correta para preencher o espaço em branco: **(6 pontos)**\n",
    "\n",
    "Se você começar na estimativa e for 2,33 desvios padrão para cada lado, então você obterá um intervalo de confiança de _______% para o parâmetro.\n",
    "\n",
    "1. 99,5\n",
    "2. 99\n",
    "3. 98,5\n",
    "4. 98"
   ]
  },
  {
   "cell_type": "code",
   "execution_count": null,
   "id": "dcdb3f3b",
   "metadata": {
    "execution": {
     "iopub.execute_input": "2022-03-31T07:51:21.981433Z",
     "iopub.status.busy": "2022-03-31T07:51:21.980754Z",
     "iopub.status.idle": "2022-03-31T07:51:21.985506Z",
     "shell.execute_reply": "2022-03-31T07:51:21.984809Z"
    },
    "tags": []
   },
   "outputs": [],
   "source": [
    "option = ...\n",
    "option"
   ]
  },
  {
   "cell_type": "code",
   "execution_count": null,
   "id": "9c3aeee2",
   "metadata": {
    "deletable": false,
    "editable": false
   },
   "outputs": [],
   "source": [
    "grader.check(\"q2_5\")"
   ]
  },
  {
   "cell_type": "markdown",
   "id": "172ffd6d",
   "metadata": {},
   "source": [
    "## 3. Polling e a Distribuição Normal"
   ]
  },
  {
   "cell_type": "code",
   "execution_count": null,
   "id": "b436d66b",
   "metadata": {
    "ExecuteTime": {
     "end_time": "2018-03-20T04:34:23.368185Z",
     "start_time": "2018-03-20T04:34:20.823771Z"
    },
    "execution": {
     "iopub.execute_input": "2022-03-31T07:51:22.002027Z",
     "iopub.status.busy": "2022-03-31T07:51:22.001803Z",
     "iopub.status.idle": "2022-03-31T07:51:22.007374Z",
     "shell.execute_reply": "2022-03-31T07:51:22.006738Z"
    }
   },
   "outputs": [],
   "source": [
    "# Não altere esta célula; apenas execute-a.\n",
    "import numpy as np\n",
    "from datascience import *\n",
    "\n",
    "# Essas linhas fazem alguma mágica sofisticada de plotagem.\n",
    "import matplotlib\n",
    "%matplotlib inline\n",
    "import matplotlib.pyplot as plt\n",
    "plt.style.use('fivethirtyeight')\n",
    "import warnings\n",
    "warnings.simplefilter('ignore', FutureWarning)"
   ]
  },
  {
   "cell_type": "markdown",
   "id": "247292a5",
   "metadata": {},
   "source": [
    "Michelle é uma consultora estatística e trabalha para um grupo que apoia a Proposição 68 (que exigiria a rotulagem de todos os eixos horizontais e verticais) chamado Sim na 68. Eles querem saber quantos californianos votarão a favor da proposição.\n",
    "\n",
    "Michelle faz uma pesquisa com uma amostra aleatória uniforme de todos os eleitores da Califórnia e descobre que 210 dos 400 eleitores amostrados votarão a favor da proposição. Fornecemos uma tabela para você abaixo, que tem 3 colunas: as duas primeiras colunas são idênticas à `sample`. A terceira coluna contém a proporção de eleitores totais que escolheram cada opção."
   ]
  },
  {
   "cell_type": "code",
   "execution_count": null,
   "id": "d997b56c",
   "metadata": {
    "ExecuteTime": {
     "end_time": "2018-03-20T04:34:23.388186Z",
     "start_time": "2018-03-20T04:34:23.372185Z"
    },
    "deletable": false,
    "execution": {
     "iopub.execute_input": "2022-03-31T07:51:22.009883Z",
     "iopub.status.busy": "2022-03-31T07:51:22.009698Z",
     "iopub.status.idle": "2022-03-31T07:51:22.015818Z",
     "shell.execute_reply": "2022-03-31T07:51:22.015246Z"
    },
    "manual_problem_id": "sample_with_proportions"
   },
   "outputs": [],
   "source": [
    "sample = Table().with_columns(\n",
    "    \"Vote\",  make_array(\"Yes\", \"No\"),\n",
    "    \"Count\", make_array(210,   190))\n",
    "\n",
    "sample_size = sum(sample.column(\"Count\"))\n",
    "sample_with_proportions = sample.with_column(\"Proportion\", sample.column(\"Count\") / sample_size)\n",
    "sample_with_proportions"
   ]
  },
  {
   "cell_type": "markdown",
   "id": "40466d2b",
   "metadata": {},
   "source": [
    "**Questão 3.1.** Michelle deseja usar 10.000 reamostragens bootstrap para calcular um intervalo de confiança para a proporção de todos os eleitores da Califórnia que votarão Sim.\n",
    "\n",
    "Preencha a próxima célula para simular uma distribuição empírica de proporções de Sim. Use reamostragem bootstrap para simular 10.000 resultados de eleição, e atribua `resample_yes_proportions` para conter a proporção de Sim de cada reamostragem bootstrap. Em seguida, visualize `resample_yes_proportions` com um histograma. **Você deve ver uma curva em forma de sino centrada perto da proporção de Sim na amostra original.** **(6 pontos)**\n",
    "\n",
    "*Dica:* `sample_proportions` pode ser útil aqui!"
   ]
  },
  {
   "cell_type": "code",
   "execution_count": null,
   "id": "fca8d663",
   "metadata": {
    "ExecuteTime": {
     "end_time": "2018-03-20T04:35:22.190065Z",
     "start_time": "2018-03-20T04:35:21.777769Z"
    },
    "deletable": false,
    "execution": {
     "iopub.execute_input": "2022-03-31T07:51:22.018480Z",
     "iopub.status.busy": "2022-03-31T07:51:22.018291Z",
     "iopub.status.idle": "2022-03-31T07:51:22.526779Z",
     "shell.execute_reply": "2022-03-31T07:51:22.526038Z"
    },
    "manual_problem_id": "resample_yes_proportions",
    "tags": []
   },
   "outputs": [],
   "source": [
    "resample_yes_proportions = make_array()\n",
    "for i in np.arange(10000):\n",
    "    resample = ...\n",
    "    resample_yes_proportions = ...\n",
    "Table().with_column(\"Resample Yes proportion\", resample_yes_proportions).hist(bins=np.arange(.2, .8, .01))"
   ]
  },
  {
   "cell_type": "code",
   "execution_count": null,
   "id": "ce3b7c02",
   "metadata": {
    "deletable": false,
    "editable": false
   },
   "outputs": [],
   "source": [
    "grader.check(\"q3_1\")"
   ]
  },
  {
   "cell_type": "markdown",
   "id": "b49de60a",
   "metadata": {},
   "source": [
    "<!-- BEGIN QUESTION -->\n",
    "\n",
    "**Questão 3.2.** Por que o Teorema do Limite Central (TLC) se aplica nesta situação, e como ele explica a distribuição que vemos acima? **(6 pontos)**"
   ]
  },
  {
   "cell_type": "markdown",
   "id": "4f1d231a",
   "metadata": {},
   "source": [
    "_Digite sua resposta aqui, substituindo este texto._"
   ]
  },
  {
   "cell_type": "markdown",
   "id": "187ad19a",
   "metadata": {},
   "source": [
    "<!-- END QUESTION -->\n",
    "\n",
    "Em uma população cujos membros são 0 e 1, existe uma fórmula simples para o **desvio padrão dessa população**:\n",
    "\n",
    "$$\\text{desvio padrão da população} = \\sqrt{(\\text{proporção de 0s}) \\times (\\text{proporção de 1s})}$$\n",
    "\n",
    "(Descobrir essa fórmula, partindo da definição de desvio padrão, é um exercício divertido para aqueles que gostam de álgebra.)"
   ]
  },
  {
   "cell_type": "markdown",
   "id": "825913ac",
   "metadata": {},
   "source": [
    "**Questão 3.3.** Usando apenas o Teorema do Limite Central e os números de eleitores Sim e Não em nossa amostra de 400, *algebricamente* calcule o desvio padrão previsto do array `resample_yes_proportions`. Atribua este número a `approximate_sd`. **Não acesse os dados em `resample_yes_proportions` de forma alguma.** **(6 pontos)**\n",
    "\n",
    "Lembre-se de que o desvio padrão das médias da amostra pode ser calculado a partir do desvio padrão da população e do tamanho da amostra (a fórmula acima pode ser útil). Se não soubermos o desvio padrão"
   ]
  },
  {
   "cell_type": "code",
   "execution_count": null,
   "id": "b32edcce",
   "metadata": {
    "ExecuteTime": {
     "end_time": "2018-03-20T04:35:33.660846Z",
     "start_time": "2018-03-20T04:35:33.652810Z"
    },
    "deletable": false,
    "execution": {
     "iopub.execute_input": "2022-03-31T07:51:22.548498Z",
     "iopub.status.busy": "2022-03-31T07:51:22.547840Z",
     "iopub.status.idle": "2022-03-31T07:51:22.553529Z",
     "shell.execute_reply": "2022-03-31T07:51:22.552853Z"
    },
    "manual_problem_id": "approximate_sd",
    "tags": []
   },
   "outputs": [],
   "source": [
    "approx_pop_sd = ...\n",
    "approximate_sd = ...\n",
    "approximate_sd"
   ]
  },
  {
   "cell_type": "code",
   "execution_count": null,
   "id": "722115d9",
   "metadata": {
    "deletable": false,
    "editable": false
   },
   "outputs": [],
   "source": [
    "grader.check(\"q3_3\")"
   ]
  },
  {
   "cell_type": "markdown",
   "id": "364056f5",
   "metadata": {},
   "source": [
    "**Questão 3.4.** Calcule o desvio padrão do array `resample_yes_proportions`, que servirá como uma aproximação para o verdadeiro desvio padrão das proporções amostrais possíveis. Isso ajudará a verificar se sua resposta para a questão 3.3 está aproximadamente correta. **(6 pontos)**"
   ]
  },
  {
   "cell_type": "code",
   "execution_count": null,
   "id": "357210f4",
   "metadata": {
    "ExecuteTime": {
     "end_time": "2018-03-20T04:35:34.753988Z",
     "start_time": "2018-03-20T04:35:34.745953Z"
    },
    "deletable": false,
    "execution": {
     "iopub.execute_input": "2022-03-31T07:51:22.593367Z",
     "iopub.status.busy": "2022-03-31T07:51:22.593118Z",
     "iopub.status.idle": "2022-03-31T07:51:22.598680Z",
     "shell.execute_reply": "2022-03-31T07:51:22.598082Z"
    },
    "manual_problem_id": "exact_sd",
    "tags": []
   },
   "outputs": [],
   "source": [
    "exact_sd = ...\n",
    "exact_sd"
   ]
  },
  {
   "cell_type": "code",
   "execution_count": null,
   "id": "e5508704",
   "metadata": {
    "deletable": false,
    "editable": false
   },
   "outputs": [],
   "source": [
    "grader.check(\"q3_4\")"
   ]
  },
  {
   "cell_type": "markdown",
   "id": "95313070",
   "metadata": {},
   "source": [
    "**Questão 3.5.** **Novamente, sem acessar `resample_yes_proportions` de forma alguma**, calcule um intervalo de confiança aproximado de 95% para a proporção de eleitores Sim na Califórnia. **(6 pontos)**\n",
    "\n",
    "A célula abaixo desenha seu intervalo como uma barra vermelha abaixo do histograma de `resample_yes_proportions`; use isso para verificar se sua resposta parece correta.\n",
    "\n",
    "*Dica:* Quantos desvios padrão correspondem a 95% da distribuição prometida pelo TLC? Relembre a discussão no livro didático [aqui](https://inferentialthinking.com/chapters/14/3/SD_and_the_Normal_Curve.html).\n",
    "\n",
    "*Dica:* A variável `approximate_sd` que você definiu anteriormente pode ser útil!"
   ]
  },
  {
   "cell_type": "code",
   "execution_count": null,
   "id": "59247d58",
   "metadata": {
    "ExecuteTime": {
     "end_time": "2018-03-20T04:35:42.572582Z",
     "start_time": "2018-03-20T04:35:42.560545Z"
    },
    "deletable": false,
    "execution": {
     "iopub.execute_input": "2022-03-31T07:51:22.616458Z",
     "iopub.status.busy": "2022-03-31T07:51:22.616257Z",
     "iopub.status.idle": "2022-03-31T07:51:22.620975Z",
     "shell.execute_reply": "2022-03-31T07:51:22.620228Z"
    },
    "manual_problem_id": "ci_without_data",
    "tags": []
   },
   "outputs": [],
   "source": [
    "lower_limit = ...\n",
    "upper_limit = ...\n",
    "print('lower:', lower_limit, 'upper:', upper_limit)"
   ]
  },
  {
   "cell_type": "code",
   "execution_count": null,
   "id": "9f72a7ab",
   "metadata": {
    "deletable": false,
    "editable": false
   },
   "outputs": [],
   "source": [
    "grader.check(\"q3_5\")"
   ]
  },
  {
   "cell_type": "code",
   "execution_count": null,
   "id": "d2e32d66",
   "metadata": {
    "deletable": false,
    "editable": false,
    "execution": {
     "iopub.execute_input": "2022-03-31T07:51:22.646169Z",
     "iopub.status.busy": "2022-03-31T07:51:22.645942Z",
     "iopub.status.idle": "2022-03-31T07:51:23.029199Z",
     "shell.execute_reply": "2022-03-31T07:51:23.028329Z"
    }
   },
   "outputs": [],
   "source": [
    "# Execute esta célula para plotar seu intervalo de confiança.\n",
    "Table().with_column(\"Resample Yes proportion\", resample_yes_proportions).hist(bins=np.arange(.2, .8, .01))\n",
    "plt.plot(make_array(lower_limit, upper_limit), make_array(0, 0), c='r', lw=10);"
   ]
  },
  {
   "cell_type": "markdown",
   "id": "dfd119cc",
   "metadata": {},
   "source": [
    "Seu intervalo de confiança deve sobrepor o número 0,5. Isso significa que não podemos ter certeza se a Proposição 68 está ganhando, mesmo que a proporção de Sim na amostra esteja um pouco acima de 0,5.\n",
    "\n",
    "A campanha Sim na 68 realmente precisa saber se está ganhando. É impossível ter certeza absoluta sem pesquisar toda a população, mas eles ficariam satisfeitos se o desvio padrão da média da amostra fosse apenas 0,005. Eles pedem a Michelle para realizar uma nova pesquisa com um tamanho de amostra grande o suficiente para alcançar isso. (As pesquisas são caras, então a amostra também não deve ser maior do que o necessário.)\n",
    "\n",
    "Michelle consulta o Capítulo 14 do seu livro didático. Em vez de fazer a suposição conservadora de que o desvio padrão da população é 0,5 (codificando os eleitores Sim como 1 e os eleitores Não como 0), ela decide assumir que é igual ao desvio padrão da amostra,\n",
    "\n",
    "$$\\sqrt{(\\text{Proporção de Sim na amostra}) \\times (\\text{Proporção de Não na amostra})}.$$\n",
    "\n",
    "Com essa suposição, Michelle decide que uma amostra de 9.975 seria suficiente."
   ]
  },
  {
   "cell_type": "markdown",
   "id": "fe7ed4cd",
   "metadata": {},
   "source": [
    "**Questão 3.6.** O tamanho da amostra de Michelle alcança o desvio padrão desejado das médias da amostra? Que desvio padrão você alcançaria com um tamanho de amostra menor? Um tamanho de amostra maior?\n",
    "\n",
    "Para explorar isso, primeiro calcule o desvio padrão das médias da amostra obtido usando o tamanho da amostra de Michelle. **(6 pontos)**"
   ]
  },
  {
   "cell_type": "code",
   "execution_count": null,
   "id": "5c4fcd7e",
   "metadata": {
    "ExecuteTime": {
     "end_time": "2018-03-20T04:35:45.882794Z",
     "start_time": "2018-03-20T04:35:45.870760Z"
    },
    "deletable": false,
    "execution": {
     "iopub.execute_input": "2022-03-31T07:51:23.032801Z",
     "iopub.status.busy": "2022-03-31T07:51:23.032579Z",
     "iopub.status.idle": "2022-03-31T07:51:23.038119Z",
     "shell.execute_reply": "2022-03-31T07:51:23.037353Z"
    },
    "manual_problem_id": "michelle_sample_mean_sd",
    "scrolled": true,
    "tags": []
   },
   "outputs": [],
   "source": [
    "estimated_population_sd = ...\n",
    "michelle_sample_size = ...\n",
    "michelle_sample_mean_sd = ...\n",
    "print(\"With Michelle's sample size, you would predict a sample mean SD of %f.\" % michelle_sample_mean_sd)"
   ]
  },
  {
   "cell_type": "code",
   "execution_count": null,
   "id": "a7c54e7a",
   "metadata": {
    "deletable": false,
    "editable": false
   },
   "outputs": [],
   "source": [
    "grader.check(\"q3_6\")"
   ]
  },
  {
   "cell_type": "markdown",
   "id": "74dde20c",
   "metadata": {},
   "source": [
    "**Questão 3.7.** Em seguida, calcule o desvio padrão das médias da amostra que você obteria de um tamanho de amostra menor. Idealmente, você deve escolher um número significativamente menor, mas qualquer tamanho de amostra menor que o de Michelle servirá. **(5 pontos)**"
   ]
  },
  {
   "cell_type": "code",
   "execution_count": null,
   "id": "af48a64f",
   "metadata": {
    "ExecuteTime": {
     "end_time": "2018-03-20T04:35:47.010246Z",
     "start_time": "2018-03-20T04:35:47.002724Z"
    },
    "deletable": false,
    "execution": {
     "iopub.execute_input": "2022-03-31T07:51:23.090325Z",
     "iopub.status.busy": "2022-03-31T07:51:23.090060Z",
     "iopub.status.idle": "2022-03-31T07:51:23.095558Z",
     "shell.execute_reply": "2022-03-31T07:51:23.094729Z"
    },
    "manual_problem_id": "smaller_sample_size",
    "tags": []
   },
   "outputs": [],
   "source": [
    "smaller_sample_size = ...\n",
    "smaller_sample_mean_sd = ...\n",
    "print(\"With this smaller sample size, you would predict a sample mean SD of %f\" % smaller_sample_mean_sd)"
   ]
  },
  {
   "cell_type": "code",
   "execution_count": null,
   "id": "694075d6",
   "metadata": {
    "deletable": false,
    "editable": false
   },
   "outputs": [],
   "source": [
    "grader.check(\"q3_7\")"
   ]
  },
  {
   "cell_type": "markdown",
   "id": "f3732971",
   "metadata": {},
   "source": [
    "**Questão 3.8.** Finalmente, calcule o desvio padrão das médias da amostra que você obteria de um tamanho de amostra maior. Aqui, um número significativamente maior faria qualquer diferença mais óbvia, mas qualquer tamanho de amostra maior que o de Michelle servirá. **(5 pontos)**"
   ]
  },
  {
   "cell_type": "code",
   "execution_count": null,
   "id": "83a59627",
   "metadata": {
    "ExecuteTime": {
     "end_time": "2018-03-20T04:35:48.098047Z",
     "start_time": "2018-03-20T04:35:48.089414Z"
    },
    "deletable": false,
    "execution": {
     "iopub.execute_input": "2022-03-31T07:51:23.114512Z",
     "iopub.status.busy": "2022-03-31T07:51:23.114289Z",
     "iopub.status.idle": "2022-03-31T07:51:23.118941Z",
     "shell.execute_reply": "2022-03-31T07:51:23.118241Z"
    },
    "manual_problem_id": "larger_sample_mean_sd",
    "tags": []
   },
   "outputs": [],
   "source": [
    "larger_sample_size = ...\n",
    "larger_sample_mean_sd = ...\n",
    "print(\"With this larger sample size, you would predict a sample mean SD of %f\" % larger_sample_mean_sd)"
   ]
  },
  {
   "cell_type": "code",
   "execution_count": null,
   "id": "a48f0315",
   "metadata": {
    "deletable": false,
    "editable": false
   },
   "outputs": [],
   "source": [
    "grader.check(\"q3_8\")"
   ]
  },
  {
   "cell_type": "markdown",
   "id": "3b99736a",
   "metadata": {},
   "source": [
    "**Questão 3.9.** Com base nisso, o tamanho da amostra de Michelle era aproximadamente o mínimo suficiente, dado sua suposição de que o desvio padrão da amostra é o mesmo que o desvio padrão da população? Atribua `min_sufficient` a `True` se 9.975 foi de fato aproximadamente o mínimo suficiente, e `False` se não foi. **(4 pontos)**"
   ]
  },
  {
   "cell_type": "code",
   "execution_count": null,
   "id": "4382b7e6",
   "metadata": {
    "ExecuteTime": {
     "end_time": "2018-03-20T04:35:49.134092Z",
     "start_time": "2018-03-20T04:35:49.126066Z"
    },
    "deletable": false,
    "execution": {
     "iopub.execute_input": "2022-03-31T07:51:23.137161Z",
     "iopub.status.busy": "2022-03-31T07:51:23.136495Z",
     "iopub.status.idle": "2022-03-31T07:51:23.141040Z",
     "shell.execute_reply": "2022-03-31T07:51:23.140466Z"
    },
    "manual_problem_id": "min_sufficient",
    "tags": []
   },
   "outputs": [],
   "source": [
    "min_sufficient = ...\n",
    "min_sufficient"
   ]
  },
  {
   "cell_type": "code",
   "execution_count": null,
   "id": "f11d869e",
   "metadata": {
    "deletable": false,
    "editable": false
   },
   "outputs": [],
   "source": [
    "grader.check(\"q3_9\")"
   ]
  },
  {
   "cell_type": "markdown",
   "id": "725f7f58",
   "metadata": {},
   "source": [
    "Você concluiu a Lição de Casa 9!\n",
    "\n",
    "**Passos importantes para a submissão:**\n",
    "1. Execute os testes e verifique se todos passaram.\n",
    "2. Escolha **Salvar Caderno** no menu **Arquivo**, depois **execute a última célula**.\n",
    "3. Clique no link para baixar o arquivo zip.\n",
    "4. Então, submeta o arquivo zip para a tarefa correspondente de acordo com as instruções do seu instrutor.\n",
    "\n",
    "**É sua responsabilidade garantir que seu trabalho esteja salvo antes de executar a última célula.**"
   ]
  },
  {
   "cell_type": "markdown",
   "id": "308759cf",
   "metadata": {
    "deletable": false,
    "editable": false
   },
   "source": [
    "## Submissão\n",
    "\n",
    "Certifique-se de ter executado todas as células no seu caderno em ordem antes de executar a célula abaixo, para que todas as imagens/gráficos apareçam na saída. A célula abaixo irá gerar um arquivo zip para você submeter. **Por favor, salve antes de exportar!**"
   ]
  },
  {
   "cell_type": "code",
   "execution_count": null,
   "id": "457e69c5",
   "metadata": {
    "deletable": false,
    "editable": false
   },
   "outputs": [],
   "source": [
    "# Salve seu caderno primeiro, depois execute esta célula para exportar sua submissão.\n",
    "grader.export(pdf=False, run_tests=True)"
   ]
  },
  {
   "cell_type": "markdown",
   "id": "9ac1f812",
   "metadata": {},
   "source": [
    " "
   ]
  }
 ],
 "metadata": {
  "kernelspec": {
   "display_name": "Python 3 (ipykernel)",
   "language": "python",
   "name": "python3"
  },
  "language_info": {
   "codemirror_mode": {
    "name": "ipython",
    "version": 3
   },
   "file_extension": ".py",
   "mimetype": "text/x-python",
   "name": "python",
   "nbconvert_exporter": "python",
   "pygments_lexer": "ipython3",
   "version": "3.9.10"
  },
  "otter": {
   "OK_FORMAT": true,
   "tests": {
    "q2_1": {
     "name": "q2_1",
     "points": [
      0
     ],
     "suites": [
      {
       "cases": [
        {
         "code": ">>> 1100 <= smallest <= 1150\nTrue",
         "hidden": false,
         "locked": false
        }
       ],
       "scored": true,
       "setup": "",
       "teardown": "",
       "type": "doctest"
      }
     ]
    },
    "q2_3": {
     "name": "q2_3",
     "points": [
      0
     ],
     "suites": [
      {
       "cases": [
        {
         "code": ">>> 700 <= smallest_num <= 800\nTrue",
         "hidden": false,
         "locked": false
        }
       ],
       "scored": true,
       "setup": "",
       "teardown": "",
       "type": "doctest"
      }
     ]
    },
    "q2_5": {
     "name": "q2_5",
     "points": [
      0
     ],
     "suites": [
      {
       "cases": [
        {
         "code": ">>> type(option) == int\nTrue",
         "hidden": false,
         "locked": false
        }
       ],
       "scored": true,
       "setup": "",
       "teardown": "",
       "type": "doctest"
      }
     ]
    },
    "q3_1": {
     "name": "q3_1",
     "points": [
      1,
      5
     ],
     "suites": [
      {
       "cases": [
        {
         "code": ">>> len(resample_yes_proportions) == 10000\nTrue",
         "hidden": false,
         "locked": false
        },
        {
         "code": ">>> abs(np.mean(resample_yes_proportions) - .525) < .025 and np.std(resample_yes_proportions) < .08\nTrue",
         "hidden": false,
         "locked": false
        }
       ],
       "scored": true,
       "setup": "",
       "teardown": "",
       "type": "doctest"
      }
     ]
    },
    "q3_3": {
     "name": "q3_3",
     "points": [
      0
     ],
     "suites": [
      {
       "cases": [
        {
         "code": ">>> approximate_sd < 0.025\nTrue",
         "hidden": false,
         "locked": false
        }
       ],
       "scored": true,
       "setup": "",
       "teardown": "",
       "type": "doctest"
      }
     ]
    },
    "q3_4": {
     "name": "q3_4",
     "points": [
      0
     ],
     "suites": [
      {
       "cases": [
        {
         "code": ">>> exact_sd < 0.05\nTrue",
         "hidden": false,
         "locked": false
        }
       ],
       "scored": true,
       "setup": "",
       "teardown": "",
       "type": "doctest"
      }
     ]
    },
    "q3_5": {
     "name": "q3_5",
     "points": [
      0
     ],
     "suites": [
      {
       "cases": [
        {
         "code": ">>> 0.4 <= lower_limit < upper_limit <= 0.7\nTrue",
         "hidden": false,
         "locked": false
        }
       ],
       "scored": true,
       "setup": "",
       "teardown": "",
       "type": "doctest"
      }
     ]
    },
    "q3_6": {
     "name": "q3_6",
     "points": [
      0
     ],
     "suites": [
      {
       "cases": [
        {
         "code": ">>> type(michelle_sample_size) == int\nTrue",
         "hidden": false,
         "locked": false
        }
       ],
       "scored": true,
       "setup": "",
       "teardown": "",
       "type": "doctest"
      }
     ]
    },
    "q3_7": {
     "name": "q3_7",
     "points": [
      1
     ],
     "suites": [
      {
       "cases": [
        {
         "code": ">>> smaller_sample_size < michelle_sample_size\nTrue",
         "hidden": false,
         "locked": false
        }
       ],
       "scored": true,
       "setup": "",
       "teardown": "",
       "type": "doctest"
      }
     ]
    },
    "q3_8": {
     "name": "q3_8",
     "points": [
      1
     ],
     "suites": [
      {
       "cases": [
        {
         "code": ">>> larger_sample_size > michelle_sample_size\nTrue",
         "hidden": false,
         "locked": false
        }
       ],
       "scored": true,
       "setup": "",
       "teardown": "",
       "type": "doctest"
      }
     ]
    },
    "q3_9": {
     "name": "q3_9",
     "points": [
      0
     ],
     "suites": [
      {
       "cases": [
        {
         "code": ">>> min_sufficient or not min_sufficient \nTrue",
         "hidden": false,
         "locked": false
        }
       ],
       "scored": true,
       "setup": "",
       "teardown": "",
       "type": "doctest"
      }
     ]
    }
   }
  }
 },
 "nbformat": 4,
 "nbformat_minor": 5
}
