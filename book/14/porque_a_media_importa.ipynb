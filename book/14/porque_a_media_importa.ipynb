{
 "cells": [
  {
   "cell_type": "markdown",
   "metadata": {},
   "source": [
    "# Por que a média é importante\n",
    "Neste curso estudamos diversas estatísticas diferentes, incluindo a distância de variação total, o máximo, a mediana e também a média. Sob suposições claras sobre aleatoriedade, traçamos distribuições empíricas de todas essas estatísticas. Algumas, como o máximo e o a distância de variação total, têm distribuições que são claramente distorcidas em uma direção ou outra. Mas a distribuição empírica da média amostral quase sempre se mostrou próxima do formato de sino, independentemente da população que está sendo estudada.\n",
    "\n",
    "Se uma propriedade de amostras aleatórias for verdadeira *independentemente da população*, ela se torna uma ferramenta poderosa para inferência porque raramente sabemos muito sobre os dados de toda a população. A distribuição da média de uma grande amostra aleatória se enquadra nesta categoria de propriedades. É por isso que as médias de amostras aleatórias são amplamente utilizadas na ciência de dados.\n",
    "\n",
    "Neste capítulo, estudaremos os meios e o que podemos dizer sobre eles com apenas suposições mínimas sobre as populações subjacentes. As questões que abordaremos incluem:\n",
    "\n",
    "- O que exatamente a média mede?\n",
    "- Quão próximos da média estão a maioria dos dados?\n",
    "- Como o tamanho da amostra está relacionado à variabilidade da média amostral?\n",
    "- Por que distribuições empíricas de médias amostrais aleatórias têm formato de sino?\n",
    "- Como podemos usar médias amostrais de forma eficaz para inferência?"
   ]
  }
 ],
 "metadata": {
  "kernelspec": {
   "display_name": "Python 3",
   "language": "python",
   "name": "python3"
  },
  "language_info": {
   "codemirror_mode": {
    "name": "ipython",
    "version": 3
   },
   "file_extension": ".py",
   "mimetype": "text/x-python",
   "name": "python",
   "nbconvert_exporter": "python",
   "pygments_lexer": "ipython3",
   "version": "3.7.8"
  }
 },
 "nbformat": 4,
 "nbformat_minor": 1
}
