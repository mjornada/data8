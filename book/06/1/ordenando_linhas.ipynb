{
 "cells": [
  {
   "cell_type": "code",
   "execution_count": 1,
   "metadata": {
    "tags": [
     "remove-input"
    ]
   },
   "outputs": [],
   "source": [
    "from datascience import *\n",
    "import numpy as np\n",
    "path_data = '../../../assets/data/'\n",
    "np.set_printoptions(threshold=50)"
   ]
  },
  {
   "cell_type": "markdown",
   "metadata": {},
   "source": [
    "# Ordenando Linhas\n",
    "\n",
    "\"A NBA é a liga esportiva profissional mais bem paga do mundo,\" [relatou a CNN](http://edition.cnn.com/2015/12/04/sport/gallery/highest-paid-nba-players/) em março de 2016. A tabela `nba_salaries` contém os salários de todos os jogadores da National Basketball Association na temporada 2015-2016.\n",
    "\n",
    "Cada linha representa um jogador. As colunas são:\n",
    "\n",
    "| **Rótulo da Coluna**   | Descrição                                         |\n",
    "|--------------------|-----------------------------------------------------|\n",
    "| `JOGADOR`           | Nome do jogador                                   |\n",
    "| `POSICAO`         | Posição do jogador na equipe                      |\n",
    "| `EQUIPE`             | Nome da equipe                                    |\n",
    "|`'15-'16 SALARIO`    | Salário do jogador em 2015-2016, em milhões de dólares|\n",
    " \n",
    "O código para as posições é PG (Armador), SG (Ala-armador), PF (Ala-pivô), SF (Ala) e C (Pivô). Mas o que segue não envolve detalhes sobre como o basquete é jogado.\n",
    "\n",
    "A primeira linha mostra que Paul Millsap, Ala-pivô do Atlanta Hawks, tinha um salário de quase $18.7 milhões em 2015-2016."
   ]
  },
  {
   "cell_type": "code",
   "execution_count": 2,
   "metadata": {},
   "outputs": [
    {
     "data": {
      "text/html": [
       "<table border=\"1\" class=\"dataframe\">\n",
       "    <thead>\n",
       "        <tr>\n",
       "            <th>PLAYER</th> <th>POSITION</th> <th>TEAM</th> <th>'15-'16 SALARY</th>\n",
       "        </tr>\n",
       "    </thead>\n",
       "    <tbody>\n",
       "        <tr>\n",
       "            <td>Paul Millsap    </td> <td>PF      </td> <td>Atlanta Hawks</td> <td>18.6717       </td>\n",
       "        </tr>\n",
       "        <tr>\n",
       "            <td>Al Horford      </td> <td>C       </td> <td>Atlanta Hawks</td> <td>12            </td>\n",
       "        </tr>\n",
       "        <tr>\n",
       "            <td>Tiago Splitter  </td> <td>C       </td> <td>Atlanta Hawks</td> <td>9.75625       </td>\n",
       "        </tr>\n",
       "        <tr>\n",
       "            <td>Jeff Teague     </td> <td>PG      </td> <td>Atlanta Hawks</td> <td>8             </td>\n",
       "        </tr>\n",
       "        <tr>\n",
       "            <td>Kyle Korver     </td> <td>SG      </td> <td>Atlanta Hawks</td> <td>5.74648       </td>\n",
       "        </tr>\n",
       "        <tr>\n",
       "            <td>Thabo Sefolosha </td> <td>SF      </td> <td>Atlanta Hawks</td> <td>4             </td>\n",
       "        </tr>\n",
       "        <tr>\n",
       "            <td>Mike Scott      </td> <td>PF      </td> <td>Atlanta Hawks</td> <td>3.33333       </td>\n",
       "        </tr>\n",
       "        <tr>\n",
       "            <td>Kent Bazemore   </td> <td>SF      </td> <td>Atlanta Hawks</td> <td>2             </td>\n",
       "        </tr>\n",
       "        <tr>\n",
       "            <td>Dennis Schroder </td> <td>PG      </td> <td>Atlanta Hawks</td> <td>1.7634        </td>\n",
       "        </tr>\n",
       "        <tr>\n",
       "            <td>Tim Hardaway Jr.</td> <td>SG      </td> <td>Atlanta Hawks</td> <td>1.30452       </td>\n",
       "        </tr>\n",
       "    </tbody>\n",
       "</table>\n",
       "<p>... (407 rows omitted)</p>"
      ],
      "text/plain": [
       "PLAYER           | POSITION | TEAM          | '15-'16 SALARY\n",
       "Paul Millsap     | PF       | Atlanta Hawks | 18.6717\n",
       "Al Horford       | C        | Atlanta Hawks | 12\n",
       "Tiago Splitter   | C        | Atlanta Hawks | 9.75625\n",
       "Jeff Teague      | PG       | Atlanta Hawks | 8\n",
       "Kyle Korver      | SG       | Atlanta Hawks | 5.74648\n",
       "Thabo Sefolosha  | SF       | Atlanta Hawks | 4\n",
       "Mike Scott       | PF       | Atlanta Hawks | 3.33333\n",
       "Kent Bazemore    | SF       | Atlanta Hawks | 2\n",
       "Dennis Schroder  | PG       | Atlanta Hawks | 1.7634\n",
       "Tim Hardaway Jr. | SG       | Atlanta Hawks | 1.30452\n",
       "... (407 rows omitted)"
      ]
     },
     "execution_count": 2,
     "metadata": {},
     "output_type": "execute_result"
    }
   ],
   "source": [
    "# Esta tabela pode ser encontrada online: https://www.statcrunch.com/app/index.php?dataid=1843341\n",
    "nba_salaries = Table.read_table(path_data + 'nba_salaries.csv')\n",
    "nba_salaries"
   ]
  },
  {
   "cell_type": "markdown",
   "metadata": {},
   "source": [
    "A tabela contém 417 linhas, uma para cada jogador. Apenas 10 das linhas são exibidas. O método `show` nos permite especificar o número de linhas, com o padrão (sem especificação) sendo todas as linhas da tabela."
   ]
  },
  {
   "cell_type": "code",
   "execution_count": 3,
   "metadata": {},
   "outputs": [
    {
     "data": {
      "text/html": [
       "<table border=\"1\" class=\"dataframe\">\n",
       "    <thead>\n",
       "        <tr>\n",
       "            <th>PLAYER</th> <th>POSITION</th> <th>TEAM</th> <th>'15-'16 SALARY</th>\n",
       "        </tr>\n",
       "    </thead>\n",
       "    <tbody>\n",
       "        <tr>\n",
       "            <td>Paul Millsap  </td> <td>PF      </td> <td>Atlanta Hawks</td> <td>18.6717       </td>\n",
       "        </tr>\n",
       "        <tr>\n",
       "            <td>Al Horford    </td> <td>C       </td> <td>Atlanta Hawks</td> <td>12            </td>\n",
       "        </tr>\n",
       "        <tr>\n",
       "            <td>Tiago Splitter</td> <td>C       </td> <td>Atlanta Hawks</td> <td>9.75625       </td>\n",
       "        </tr>\n",
       "    </tbody>\n",
       "</table>\n",
       "<p>... (414 rows omitted)</p>"
      ],
      "text/plain": [
       "<IPython.core.display.HTML object>"
      ]
     },
     "metadata": {},
     "output_type": "display_data"
    }
   ],
   "source": [
    "nba_salaries.show(3)"
   ]
  },
  {
   "cell_type": "markdown",
   "metadata": {},
   "source": [
    "Passe rapidamente por cerca de 20 linhas ou mais e você verá que as linhas estão em ordem alfabética pelo nome da equipe. Também é possível listar as mesmas linhas em ordem alfabética pelo nome do jogador usando o método `sort`. O argumento para `sort` é um rótulo de coluna ou índice."
   ]
  },
  {
   "cell_type": "code",
   "execution_count": 4,
   "metadata": {},
   "outputs": [
    {
     "data": {
      "text/html": [
       "<table border=\"1\" class=\"dataframe\">\n",
       "    <thead>\n",
       "        <tr>\n",
       "            <th>PLAYER</th> <th>POSITION</th> <th>TEAM</th> <th>'15-'16 SALARY</th>\n",
       "        </tr>\n",
       "    </thead>\n",
       "    <tbody>\n",
       "        <tr>\n",
       "            <td>Aaron Brooks  </td> <td>PG      </td> <td>Chicago Bulls         </td> <td>2.25          </td>\n",
       "        </tr>\n",
       "        <tr>\n",
       "            <td>Aaron Gordon  </td> <td>PF      </td> <td>Orlando Magic         </td> <td>4.17168       </td>\n",
       "        </tr>\n",
       "        <tr>\n",
       "            <td>Aaron Harrison</td> <td>SG      </td> <td>Charlotte Hornets     </td> <td>0.525093      </td>\n",
       "        </tr>\n",
       "        <tr>\n",
       "            <td>Adreian Payne </td> <td>PF      </td> <td>Minnesota Timberwolves</td> <td>1.93884       </td>\n",
       "        </tr>\n",
       "        <tr>\n",
       "            <td>Al Horford    </td> <td>C       </td> <td>Atlanta Hawks         </td> <td>12            </td>\n",
       "        </tr>\n",
       "    </tbody>\n",
       "</table>\n",
       "<p>... (412 rows omitted)</p>"
      ],
      "text/plain": [
       "<IPython.core.display.HTML object>"
      ]
     },
     "metadata": {},
     "output_type": "display_data"
    }
   ],
   "source": [
    "nba_salaries.sort('PLAYER').show(5)"
   ]
  },
  {
   "cell_type": "markdown",
   "metadata": {},
   "source": [
    "Para examinar os salários dos jogadores, seria muito mais útil se os dados fossem ordenados por salário.\n",
    "\n",
    "Para fazer isso, primeiro simplificaremos o rótulo da coluna de salários (apenas por conveniência) e depois ordenaremos pelo novo rótulo `SALARY`. \n",
    "\n",
    "Isso organiza todas as linhas da tabela em ordem *crescente* de salário, com o salário mais baixo aparecendo primeiro. A saída é uma nova tabela com as mesmas colunas da original, mas com as linhas reorganizadas."
   ]
  },
  {
   "cell_type": "code",
   "execution_count": 5,
   "metadata": {},
   "outputs": [
    {
     "data": {
      "text/html": [
       "<table border=\"1\" class=\"dataframe\">\n",
       "    <thead>\n",
       "        <tr>\n",
       "            <th>PLAYER</th> <th>POSITION</th> <th>TEAM</th> <th>SALARY</th>\n",
       "        </tr>\n",
       "    </thead>\n",
       "    <tbody>\n",
       "        <tr>\n",
       "            <td>Thanasis Antetokounmpo</td> <td>SF      </td> <td>New York Knicks     </td> <td>0.030888</td>\n",
       "        </tr>\n",
       "        <tr>\n",
       "            <td>Jordan McRae          </td> <td>SG      </td> <td>Phoenix Suns        </td> <td>0.049709</td>\n",
       "        </tr>\n",
       "        <tr>\n",
       "            <td>Cory Jefferson        </td> <td>PF      </td> <td>Phoenix Suns        </td> <td>0.049709</td>\n",
       "        </tr>\n",
       "        <tr>\n",
       "            <td>Elliot Williams       </td> <td>SG      </td> <td>Memphis Grizzlies   </td> <td>0.055722</td>\n",
       "        </tr>\n",
       "        <tr>\n",
       "            <td>Orlando Johnson       </td> <td>SG      </td> <td>Phoenix Suns        </td> <td>0.055722</td>\n",
       "        </tr>\n",
       "        <tr>\n",
       "            <td>Phil Pressey          </td> <td>PG      </td> <td>Phoenix Suns        </td> <td>0.055722</td>\n",
       "        </tr>\n",
       "        <tr>\n",
       "            <td>Keith Appling         </td> <td>PG      </td> <td>Orlando Magic       </td> <td>0.061776</td>\n",
       "        </tr>\n",
       "        <tr>\n",
       "            <td>Sean Kilpatrick       </td> <td>SG      </td> <td>Denver Nuggets      </td> <td>0.099418</td>\n",
       "        </tr>\n",
       "        <tr>\n",
       "            <td>Erick Green           </td> <td>PG      </td> <td>Utah Jazz           </td> <td>0.099418</td>\n",
       "        </tr>\n",
       "        <tr>\n",
       "            <td>Jeff Ayres            </td> <td>PF      </td> <td>Los Angeles Clippers</td> <td>0.111444</td>\n",
       "        </tr>\n",
       "    </tbody>\n",
       "</table>\n",
       "<p>... (407 rows omitted)</p>"
      ],
      "text/plain": [
       "PLAYER                 | POSITION | TEAM                 | SALARY\n",
       "Thanasis Antetokounmpo | SF       | New York Knicks      | 0.030888\n",
       "Jordan McRae           | SG       | Phoenix Suns         | 0.049709\n",
       "Cory Jefferson         | PF       | Phoenix Suns         | 0.049709\n",
       "Elliot Williams        | SG       | Memphis Grizzlies    | 0.055722\n",
       "Orlando Johnson        | SG       | Phoenix Suns         | 0.055722\n",
       "Phil Pressey           | PG       | Phoenix Suns         | 0.055722\n",
       "Keith Appling          | PG       | Orlando Magic        | 0.061776\n",
       "Sean Kilpatrick        | SG       | Denver Nuggets       | 0.099418\n",
       "Erick Green            | PG       | Utah Jazz            | 0.099418\n",
       "Jeff Ayres             | PF       | Los Angeles Clippers | 0.111444\n",
       "... (407 rows omitted)"
      ]
     },
     "execution_count": 5,
     "metadata": {},
     "output_type": "execute_result"
    }
   ],
   "source": [
    "nba = nba_salaries.relabeled(\"'15-'16 SALARY\", 'SALARY')\n",
    "nba.sort('SALARY')"
   ]
  },
  {
   "cell_type": "markdown",
   "metadata": {},
   "source": [
    "Esses números são um tanto difíceis de comparar, pois alguns desses jogadores mudaram de equipe durante a temporada e receberam salários de mais de uma equipe; apenas o salário da última equipe aparece na tabela. O armador Phil Pressey, por exemplo, mudou de Filadélfia para Phoenix durante o ano e pode estar se mudando novamente para o Golden State Warriors. \n",    
    "\n",
    "O relatório da CNN trata do outro extremo da escala salarial - os jogadores que estão entre os mais bem pagos do mundo. \n",
    "\n",
    "Para ordenar as linhas da tabela em *ordem decrescente* de salário, devemos usar `sort` com a opção `descending=True`."
   ]
  },
  {
   "cell_type": "code",
   "execution_count": 6,
   "metadata": {},
   "outputs": [
    {
     "data": {
      "text/html": [
       "<table border=\"1\" class=\"dataframe\">\n",
       "    <thead>\n",
       "        <tr>\n",
       "            <th>PLAYER</th> <th>POSITION</th> <th>TEAM</th> <th>SALARY</th>\n",
       "        </tr>\n",
       "    </thead>\n",
       "    <tbody>\n",
       "        <tr>\n",
       "            <td>Kobe Bryant    </td> <td>SF      </td> <td>Los Angeles Lakers   </td> <td>25     </td>\n",
       "        </tr>\n",
       "        <tr>\n",
       "            <td>Joe Johnson    </td> <td>SF      </td> <td>Brooklyn Nets        </td> <td>24.8949</td>\n",
       "        </tr>\n",
       "        <tr>\n",
       "            <td>LeBron James   </td> <td>SF      </td> <td>Cleveland Cavaliers  </td> <td>22.9705</td>\n",
       "        </tr>\n",
       "        <tr>\n",
       "            <td>Carmelo Anthony</td> <td>SF      </td> <td>New York Knicks      </td> <td>22.875 </td>\n",
       "        </tr>\n",
       "        <tr>\n",
       "            <td>Dwight Howard  </td> <td>C       </td> <td>Houston Rockets      </td> <td>22.3594</td>\n",
       "        </tr>\n",
       "        <tr>\n",
       "            <td>Chris Bosh     </td> <td>PF      </td> <td>Miami Heat           </td> <td>22.1927</td>\n",
       "        </tr>\n",
       "        <tr>\n",
       "            <td>Chris Paul     </td> <td>PG      </td> <td>Los Angeles Clippers </td> <td>21.4687</td>\n",
       "        </tr>\n",
       "        <tr>\n",
       "            <td>Kevin Durant   </td> <td>SF      </td> <td>Oklahoma City Thunder</td> <td>20.1586</td>\n",
       "        </tr>\n",
       "        <tr>\n",
       "            <td>Derrick Rose   </td> <td>PG      </td> <td>Chicago Bulls        </td> <td>20.0931</td>\n",
       "        </tr>\n",
       "        <tr>\n",
       "            <td>Dwyane Wade    </td> <td>SG      </td> <td>Miami Heat           </td> <td>20     </td>\n",
       "        </tr>\n",
       "    </tbody>\n",
       "</table>\n",
       "<p>... (407 rows omitted)</p>"
      ],
      "text/plain": [
       "PLAYER          | POSITION | TEAM                  | SALARY\n",
       "Kobe Bryant     | SF       | Los Angeles Lakers    | 25\n",
       "Joe Johnson     | SF       | Brooklyn Nets         | 24.8949\n",
       "LeBron James    | SF       | Cleveland Cavaliers   | 22.9705\n",
       "Carmelo Anthony | SF       | New York Knicks       | 22.875\n",
       "Dwight Howard   | C        | Houston Rockets       | 22.3594\n",
       "Chris Bosh      | PF       | Miami Heat            | 22.1927\n",
       "Chris Paul      | PG       | Los Angeles Clippers  | 21.4687\n",
       "Kevin Durant    | SF       | Oklahoma City Thunder | 20.1586\n",
       "Derrick Rose    | PG       | Chicago Bulls         | 20.0931\n",
       "Dwyane Wade     | SG       | Miami Heat            | 20\n",
       "... (407 rows omitted)"
      ]
     },
     "execution_count": 6,
     "metadata": {},
     "output_type": "execute_result"
    }
   ],
   "source": [
    "nba.sort('SALARY', descending=True)"
   ]
  },
  {
   "cell_type": "markdown",
   "metadata": {},
   "source": [
    "Kobe Bryant, in his final season with the Lakers, was the highest paid at a salary of $\\$25$ million. Notice that the MVP Stephen Curry doesn't appear among the top 10. He is quite a bit further down the list, as we will see later." 
   ]
  },
  {
   "cell_type": "markdown",
   "metadata": {},
   "source": [
    "## Argumentos Nomeados\n",
    "\n",
    "A parte `descending=True` desta expressão de chamada é chamada de *argumento nomeado*. Quando uma função ou método é chamado, cada argumento possui tanto uma posição quanto um nome. Ambos são evidentes no texto de ajuda de uma função ou método."   ]
  },
  {
   "cell_type": "code",
   "execution_count": 7,
   "metadata": {},
   "outputs": [
    {
     "name": "stdout",
     "output_type": "stream",
     "text": [
      "Ajuda sobre classificação de método no módulo datascience.tables:\n",
      "\n",
      "sort(column_or_label, descendente=False, distinto=False) método de datascience.tables.Table instance\n",
      "    Retorna uma tabela de linhas ordenadas de acordo com os valores de uma coluna.\n",
      "    \n",
      "    Args:\n",
      "        ``column_or_label``: a coluna cujos valores são usados ​​para classificação.\n",
      "    \n",
      "        ``descending``: se True, a classificação será decrescente, em vez de\n",
      "            crescente.\n",
      "    \n",
      "        ``distinct``: se True, valores repetidos em ``column_or_label`` irão\n",
      "            ser omitidos\n",
      "    \n",
      "    Returns:\n",
      "        Uma instância de ``Table`` contendo linhas ordenadas com base nos valores\n",
      "        de ``column_or_label``.\n",
      "    \n",
      "    >>> marbles = Table().with_columns(\n",
      "    ...    \"Color\", make_array(\"Red\", \"Green\", \"Blue\", \"Red\", \"Green\", \"Green\"),\n",
      "    ...    \"Shape\", make_array(\"Round\", \"Rectangular\", \"Rectangular\", \"Round\", \"Rectangular\", \"Round\"),\n",
      "    ...    \"Amount\", make_array(4, 6, 12, 7, 9, 2),\n",
      "    ...    \"Price\", make_array(1.30, 1.30, 2.00, 1.75, 1.40, 1.00))\n",
      "    >>> marbles\n",
      "    Color | Shape       | Amount | Price\n",
      "    Red   | Round       | 4      | 1.3\n",
      "    Green | Rectangular | 6      | 1.3\n",
      "    Blue  | Rectangular | 12     | 2\n",
      "    Red   | Round       | 7      | 1.75\n",
      "    Green | Rectangular | 9      | 1.4\n",
      "    Green | Round       | 2      | 1\n",
      "    >>> marbles.sort(\"Amount\")\n",
      "    Color | Shape       | Amount | Price\n",
      "    Green | Round       | 2      | 1\n",
      "    Red   | Round       | 4      | 1.3\n",
      "    Green | Rectangular | 6      | 1.3\n",
      "    Red   | Round       | 7      | 1.75\n",
      "    Green | Rectangular | 9      | 1.4\n",
      "    Blue  | Rectangular | 12     | 2\n",
      "    >>> marbles.sort(\"Amount\", descending = True)\n",
      "    Color | Shape       | Amount | Price\n",
      "    Blue  | Rectangular | 12     | 2\n",
      "    Green | Rectangular | 9      | 1.4\n",
      "    Red   | Round       | 7      | 1.75\n",
      "    Green | Rectangular | 6      | 1.3\n",
      "    Red   | Round       | 4      | 1.3\n",
      "    Green | Round       | 2      | 1\n",
      "    >>> marbles.sort(3) # the Price column\n",
      "    Color | Shape       | Amount | Price\n",
      "    Green | Round       | 2      | 1\n",
      "    Red   | Round       | 4      | 1.3\n",
      "    Green | Rectangular | 6      | 1.3\n",
      "    Green | Rectangular | 9      | 1.4\n",
      "    Red   | Round       | 7      | 1.75\n",
      "    Blue  | Rectangular | 12     | 2\n",
      "    >>> marbles.sort(3, distinct = True)\n",
      "    Color | Shape       | Amount | Price\n",
      "    Green | Round       | 2      | 1\n",
      "    Red   | Round       | 4      | 1.3\n",
      "    Green | Rectangular | 9      | 1.4\n",
      "    Red   | Round       | 7      | 1.75\n",
      "    Blue  | Rectangular | 12     | 2\n",
      "\n"
     ]
    }
   ],
   "source": [
    "help(nba.sort)"
   ]
  },
  {
   "cell_type": "markdown",
   "metadata": {},
   "source": [
    "No topo deste texto de `help`, aparece a *assinatura* do método `sort`:\n",
    "\n",
    "    sort(column_or_label, descending=False, distinct=False)\n",
    "    \n",
    "Isso descreve as posições, nomes e valores padrão dos três argumentos para sort. Ao chamar este método, você pode usar argumentos posicionais ou nomeados, então as seguintes três chamadas fazem exatamente a mesma coisa.\n",
    "\n",
    "    sort('SALARY', True)\n",
    "    sort('SALARY', descending=True)\n",
    "    sort(column_or_label='SALARY', descending=True)\n",
    "    \n",
    "Quando um argumento é simplesmente `True` ou `False`, é uma convenção útil incluir o nome do argumento para que seja mais óbvio o que o valor do argumento significa."   
   ]
  }
 ],
 "metadata": {
  "anaconda-cloud": {},
  "kernelspec": {
   "display_name": "Python 3",
   "language": "python",
   "name": "python3"
  },
  "language_info": {
   "codemirror_mode": {
    "name": "ipython",
    "version": 3
   },
   "file_extension": ".py",
   "mimetype": "text/x-python",
   "name": "python",
   "nbconvert_exporter": "python",
   "pygments_lexer": "ipython3",
   "version": "3.7.8"
  }
 },
 "nbformat": 4,
 "nbformat_minor": 2
}
