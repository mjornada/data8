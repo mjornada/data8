{
 "cells": [
  {
   "cell_type": "code",
   "execution_count": 1,
   "metadata": {
    "tags": [
     "remove-input"
    ]
   },
   "outputs": [],
   "source": [
    "import matplotlib\n",
    "from datascience import *\n",
    "path_data = '../../assets/data/'\n",
    "%matplotlib inline\n",
    "import matplotlib.pyplot as plots\n",
    "from mpl_toolkits.mplot3d import Axes3D\n",
    "import numpy as np\n",
    "import math\n",
    "import scipy.stats as stats\n",
    "plots.style.use('fivethirtyeight')"
   ]
  },
  {
   "cell_type": "markdown",
   "metadata": {},
   "source": [
    "# Comparando Duas Amostras\n",
    "Vimos vários exemplos de avaliação se uma única amostra se parece com sorteios aleatórios de um modelo de chance especificado.\n",
    "- Os painéis de júri do Condado de Alameda se parecem com uma amostra aleatória da população de jurados elegíveis?\n",
    "- As plantas de ervilha que Mendel cultivou têm cores consistentes com as chances que ele especificou em seu modelo?\n",
    "\n",
    "Em todos esses casos, havia apenas uma amostra aleatória, e estávamos tentando decidir como ela foi gerada. Mas frequentemente, cientistas de dados têm que comparar duas amostras aleatórias entre si. Por exemplo, eles podem ter que comparar os resultados de pacientes que foram atribuídos aleatoriamente a um grupo de tratamento e um grupo de controle. Ou eles podem ter aleatorizado usuários da internet para receber duas versões diferentes de um site, após o qual eles gostariam de comparar as ações dos dois grupos aleatórios.\n",
    "\n",
    "Neste capítulo, desenvolvemos uma maneira de usar Python para comparar duas amostras aleatórias e responder a perguntas sobre as semelhanças e diferenças entre elas. Você verá que os métodos que desenvolvemos têm diversas aplicações. Nossos exemplos são da área de medicina, saúde pública e até futebol!"
   ]
  }
 ],
 "metadata": {
  "anaconda-cloud": {},
  "kernelspec": {
   "display_name": "Python 3",
   "language": "python",
   "name": "python3"
  },
  "language_info": {
   "codemirror_mode": {
    "name": "ipython",
    "version": 3
   },
   "file_extension": ".py",
   "mimetype": "text/x-python",
   "name": "python",
   "nbconvert_exporter": "python",
   "pygments_lexer": "ipython3",
   "version": "3.7.8"
  }
 },
 "nbformat": 4,
 "nbformat_minor": 1
}
