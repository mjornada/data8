{
 "cells": [
  {
   "cell_type": "markdown",
   "metadata": {},
   "source": [
    "# Comparações\n",
    "\n",
    "Valores booleanos surgem mais frequentemente a partir de operadores de comparação. Python inclui uma variedade de operadores que comparam valores. Por exemplo, `3` é maior do que `1 + 1`."
   ]
  },
  {
   "cell_type": "code",
   "execution_count": 1,
   "metadata": {},
   "outputs": [
    {
     "data": {
      "text/plain": [
       "True"
      ]
     },
     "execution_count": 1,
     "metadata": {},
     "output_type": "execute_result"
    }
   ],
   "source": [
    "3 > 1 + 1"
   ]
  },
  {
   "cell_type": "markdown",
   "metadata": {},
   "source": [
    "O valor `True` indica que a comparação é válida; Python confirmou esse simples fato sobre a relação entre `3` e `1+1`. O conjunto completo de operadores de comparação comuns está listado abaixo.\n",
    "\n",
    "| Comparação         | Operador | Exemplo Verdadeiro | Exemplo Falso |\n",
    "|--------------------|----------|--------------|---------------|\n",
    "| Menor que          | <        | 2 < 3        | 2 < 2         |\n",
    "| Maior que          | >        | 3>2          | 3>3           |\n",
    "| Menor ou igual     | <=       | 2 <= 2       | 3 <= 2        |\n",
    "| Maior ou igual     | >=       | 3 >= 3       | 2 >= 3        |\n",
    "| Igual              | ==       | 3 == 3       | 3 == 2        |\n",
    "| Diferente          | !=       | 3 != 2       | 2 != 2        |"
   ]
  },
  {
   "cell_type": "markdown",
   "metadata": {},
   "source": [
    "Uma expressão pode conter várias comparações, e todas devem ser verdadeiras para que toda a expressão seja `True`. Por exemplo, podemos expressar que `1+1` está entre `1` e `3` usando a seguinte expressão."
   ]
  },
  {
   "cell_type": "code",
   "execution_count": 2,
   "metadata": {},
   "outputs": [
    {
     "data": {
      "text/plain": [
       "True"
      ]
     },
     "execution_count": 2,
     "metadata": {},
     "output_type": "execute_result"
    }
   ],
   "source": [
    "1 < 1 + 1 < 3"
   ]
  },
  {
   "cell_type": "markdown",
   "metadata": {},
   "source": [
    "A média de dois números está sempre entre o número menor e o número maior. Expressamos essa relação para os números `x` e `y` abaixo. Você pode experimentar diferentes valores de `x` e `y` para confirmar essa relação."
   ]
  },
  {
   "cell_type": "code",
   "execution_count": 3,
   "metadata": {},
   "outputs": [
    {
     "data": {
      "text/plain": [
       "True"
      ]
     },
     "execution_count": 3,
     "metadata": {},
     "output_type": "execute_result"
    }
   ],
   "source": [
    "x = 12\n",
    "y = 5\n",
    "min(x, y) <= (x+y)/2 <= max(x, y)"
   ]
  },
  {
   "cell_type": "markdown",
   "metadata": {},
   "source": [
    "Strings também podem ser comparadas, e sua ordem é alfabética. Uma string mais curta é menor que uma string mais longa que começa com a string mais curta."
   ]
  },
  {
   "cell_type": "code",
   "execution_count": 4,
   "metadata": {},
   "outputs": [
    {
     "data": {
      "text/plain": [
       "True"
      ]
     },
     "execution_count": 4,
     "metadata": {},
     "output_type": "execute_result"
    }
   ],
   "source": [
    "\"Dog\" > \"Catastrophe\" > \"Cat\""
   ]
  }
 ],
 "metadata": {
  "kernelspec": {
   "display_name": "Python 3",
   "language": "python",
   "name": "python3"
  },
  "language_info": {
   "codemirror_mode": {
    "name": "ipython",
    "version": 3
   },
   "file_extension": ".py",
   "mimetype": "text/x-python",
   "name": "python",
   "nbconvert_exporter": "python",
   "pygments_lexer": "ipython3",
   "version": "3.7.8"
  }
 },
 "nbformat": 4,
 "nbformat_minor": 2
}
