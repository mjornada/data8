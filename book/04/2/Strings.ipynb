{
 "cells": [
  {
   "cell_type": "markdown",
   "metadata": {},
   "source": [
    "# Strings\n",
    "\n",
    "Grande parte dos dados do mundo é texto, e um pedaço de texto representado em um computador é chamado de *string*. Uma string pode representar uma palavra, uma frase ou até mesmo o conteúdo de todos os livros em uma biblioteca. Como o texto pode incluir números (como este: 5) ou valores booleanos (Verdadeiro), uma string também pode descrever essas coisas.\n",
    "\n",
    "O significado de uma expressão depende tanto de sua estrutura quanto dos tipos de valores que estão sendo combinados. Portanto, por exemplo, adicionar duas strings produz outra string. Esta expressão ainda é uma expressão de adição, mas está combinando um tipo diferente de valor."
   ]
  },
  {
   "cell_type": "code",
   "execution_count": 1,
   "metadata": {},
   "outputs": [
    {
     "data": {
      "text/plain": [
       "'datascience'"
      ]
     },
     "execution_count": 1,
     "metadata": {},
     "output_type": "execute_result"
    }
   ],
   "source": [
    "\"data\" + \"science\""
   ]
  },
  {
   "cell_type": "markdown",
   "metadata": {},
   "source": [
    "A adição é completamente literal; ela combina essas duas strings sem considerar seu conteúdo. Não adiciona um espaço porque estas são palavras diferentes; isso cabe ao programador (você) especificar."
   ]
  },
  {
   "cell_type": "code",
   "execution_count": 2,
   "metadata": {},
   "outputs": [
    {
     "data": {
      "text/plain": [
       "'data science'"
      ]
     },
     "execution_count": 2,
     "metadata": {},
     "output_type": "execute_result"
    }
   ],
   "source": [
    "\"data\" + \" \" + \"science\""
   ]
  },
  {
   "cell_type": "markdown",
   "metadata": {},
   "source": [
    "Aspas simples e duplas podem ser usadas para criar strings: `'oi'` e `\"oi\"` são expressões idênticas. As aspas duplas são frequentemente preferidas porque permitem incluir apóstrofos dentro de strings."
   ]
  },
  {
   "cell_type": "code",
   "execution_count": 3,
   "metadata": {},
   "outputs": [
    {
     "data": {
      "text/plain": [
       "\"Isso não funcionará com uma string entre aspas simples!\""
      ]
     },
     "execution_count": 3,
     "metadata": {},
     "output_type": "execute_result"
    }
   ],
   "source": [
    "\"Isso não funcionará com uma string entre aspas simples!\""
   ]
  },
  {
   "cell_type": "markdown",
   "metadata": {},
   "source": [
    "Por quê? Experimente."
   ]
  },
  {
   "cell_type": "markdown",
   "metadata": {},
   "source": [
    "A função `str` retorna uma representação de string de qualquer valor. Usando esta função, strings podem ser construídas com valores embutidos."
   ]
  },
  {
   "cell_type": "code",
   "execution_count": 4,
   "metadata": {},
   "outputs": [
    {
     "data": {
      "text/plain": [
       "\"That's 2 True\""
      ]
     },
     "execution_count": 4,
     "metadata": {},
     "output_type": "execute_result"
    }
   ],
   "source": [
    "\"That's \" + str(1 + 1) + ' ' + str(True)"
   ]
  }
 ],
 "metadata": {
  "anaconda-cloud": {},
  "kernelspec": {
   "display_name": "Python 3",
   "language": "python",
   "name": "python3"
  },
  "language_info": {
   "codemirror_mode": {
    "name": "ipython",
    "version": 3
   },
   "file_extension": ".py",
   "mimetype": "text/x-python",
   "name": "python",
   "nbconvert_exporter": "python",
   "pygments_lexer": "ipython3",
   "version": "3.7.8"
  }
 },
 "nbformat": 4,
 "nbformat_minor": 2
}
