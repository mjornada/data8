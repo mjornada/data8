{
 "cells": [
  {
   "cell_type": "markdown",
   "metadata": {},
   "source": [
    "# Exemplo: Taxas de Crescimento\n",
    "\n",
    "A relação entre duas medições da mesma quantidade feitas em diferentes momentos é frequentemente expressa como uma *taxa de crescimento*. Por exemplo, o governo federal dos Estados Unidos [empregava](http://www.bls.gov/opub/mlr/2013/article/industry-employment-and-output-projections-to-2022.htm) 2.766.000 pessoas em 2002 e 2.814.000 pessoas em 2012. Para calcular uma taxa de crescimento, primeiro devemos decidir qual valor tratar como o `inicial`. Para valores ao longo do tempo, o valor mais antigo é uma escolha natural. Em seguida, dividimos a diferença entre o `alterado` e o `inicial` pelo `inicial`."
   ]
  },
  {
   "cell_type": "code",
   "execution_count": 1,
   "metadata": {
    "scrolled": true
   },
   "outputs": [
    {
     "data": {
      "text/plain": [
       "0.01735357917570499"
      ]
     },
     "execution_count": 1,
     "metadata": {},
     "output_type": "execute_result"
    }
   ],
   "source": [
    "inicial = 2766000\n",
    "alterado = 2814000\n",
    "(alterado - inicial) / inicial"
   ]
  },
  {
   "cell_type": "markdown",
   "metadata": {},
   "source": [
    "Também é típico subtrair um do quociente das duas medições, o que gera o mesmo valor."
   ]
  },
  {
   "cell_type": "code",
   "execution_count": 2,
   "metadata": {},
   "outputs": [
    {
     "data": {
      "text/plain": [
       "0.017353579175704903"
      ]
     },
     "execution_count": 2,
     "metadata": {},
     "output_type": "execute_result"
    }
   ],
   "source": [
    "(alterado/inicial) - 1"
   ]
  },
  {
   "cell_type": "markdown",
   "metadata": {},
   "source": [
    "Este valor é a taxa de crescimento ao longo de 10 anos. Uma propriedade útil das taxas de crescimento é que elas não mudam mesmo que os valores sejam expressos em unidades diferentes. Portanto, por exemplo, podemos expressar a mesma relação entre milhares de pessoas em 2002 e 2012."
   ]
  },
  {
   "cell_type": "code",
   "execution_count": 3,
   "metadata": {},
   "outputs": [
    {
     "data": {
      "text/plain": [
       "0.017353579175704903"
      ]
     },
     "execution_count": 3,
     "metadata": {},
     "output_type": "execute_result"
    }
   ],
   "source": [
    "inicial = 2766\n",
    "alterado = 2814\n",
    "(alterado/inicial) - 1"
   ]
  },
  {
   "cell_type": "markdown",
   "metadata": {},
   "source": [
    "Em 10 anos, o número de funcionários do governo federal dos EUA aumentou apenas 1,74%. Nesse tempo, os gastos totais do governo federal dos EUA aumentaram de \\$2,37 trilhões para \\$3,38 trilhões em 2012."
   ]
  },
  {
   "cell_type": "code",
   "execution_count": 4,
   "metadata": {},
   "outputs": [
    {
     "data": {
      "text/plain": [
       "0.4261603375527425"
      ]
     },
     "execution_count": 4,
     "metadata": {},
     "output_type": "execute_result"
    }
   ],
   "source": [
    "inicial = 2.37\n",
    "alterado = 3.38\n",
    "(alterado/inicial) - 1"
   ]
  },
  {
   "cell_type": "markdown",
   "metadata": {},
   "source": [
    "Um aumento de 42,6% no orçamento federal é muito maior do que o aumento de 1,74% no número de funcionários federais. Na verdade, o número de funcionários federais cresceu muito mais lentamente do que a população dos Estados Unidos, que aumentou 9,21% no mesmo período de tempo, passando de 287,6 milhões de pessoas em 2002 para 314,1 milhões em 2012."
   ]
  },
  {
   "cell_type": "code",
   "execution_count": 5,
   "metadata": {},
   "outputs": [
    {
     "data": {
      "text/plain": [
       "0.09214186369958277"
      ]
     },
     "execution_count": 5,
     "metadata": {},
     "output_type": "execute_result"
    }
   ],
   "source": [
    "inicial = 287.6\n",
    "alterado = 314.1\n",
    "(alterado/inicial) - 1"
   ]
  },
  {
   "cell_type": "markdown",
   "metadata": {},
   "source": [
    "Uma taxa de crescimento pode ser negativa, representando uma diminuição em algum valor. Por exemplo, o número de empregos na indústria nos EUA diminuiu de 15,3 milhões em 2002 para 11,9 milhões em 2012, uma taxa de crescimento de -22,2%."
   ]
  },
  {
   "cell_type": "code",
   "execution_count": 6,
   "metadata": {},
   "outputs": [
    {
     "data": {
      "text/plain": [
       "-0.2222222222222222"
      ]
     },
     "execution_count": 6,
     "metadata": {},
     "output_type": "execute_result"
    }
   ],
   "source": [
    "inicial = 15.3\n",
    "alterado = 11.9\n",
    "(alterado/inicial) - 1"
   ]
  },
  {
   "cell_type": "markdown",
   "metadata": {},
   "source": [
    "Uma taxa de crescimento anual é uma taxa de crescimento de alguma quantidade ao longo de um único ano. Uma taxa de crescimento anual de 0,035, acumulada a cada ano por 10 anos, dá uma taxa de crescimento de 10 anos muito maior de 0,41 (ou 41%)."
   ]
  },
  {
   "cell_type": "code",
   "execution_count": 7,
   "metadata": {},
   "outputs": [
    {
     "data": {
      "text/plain": [
       "0.410598760621121"
      ]
     },
     "execution_count": 7,
     "metadata": {},
     "output_type": "execute_result"
    }
   ],
   "source": [
    "1.035 * 1.035 * 1.035 * 1.035 * 1.035 * 1.035 * 1.035 * 1.035 * 1.035 * 1.035 - 1"
   ]
  },
  {
   "cell_type": "markdown",
   "metadata": {},
   "source": [
    "Essa mesma computação pode ser expressa usando nomes e expoentes."
   ]
  },
  {
   "cell_type": "code",
   "execution_count": 8,
   "metadata": {},
   "outputs": [
    {
     "data": {
      "text/plain": [
       "0.410598760621121"
      ]
     },
     "execution_count": 8,
     "metadata": {},
     "output_type": "execute_result"
    }
   ],
   "source": [
    "taxa_crescimento_anual = 0.035\n",
    "taxa_crescimento_dez_anos = (1 + taxa_crescimento_anual) ** 10 - 1\n",
    "taxa_crescimento_dez_anos"
   ]
  },
  {
   "cell_type": "markdown",
   "metadata": {},
   "source": [
    "Da mesma forma, uma taxa de crescimento de 10 anos pode ser usada para calcular uma taxa de crescimento anual equivalente. Abaixo, `t` é o número de anos que se passaram entre as medições. O seguinte calcula a taxa de crescimento anual dos gastos federais nos últimos 10 anos."
   ]
  },
  {
   "cell_type": "code",
   "execution_count": 9,
   "metadata": {},
   "outputs": [
    {
     "data": {
      "text/plain": [
       "0.03613617208346853"
      ]
     },
     "execution_count": 9,
     "metadata": {},
     "output_type": "execute_result"
    }
   ],
   "source": [
    "inicial = 2.37\n",
    "alterado = 3.38\n",
    "t = 10\n",
    "(alterado/inicial) ** (1/t) - 1"
   ]
  },
  {
   "cell_type": "markdown",
   "metadata": {},
   "source": [
    "O crescimento total ao longo de 10 anos é equivalente a um aumento de 3,6% ao ano."
   ]
  },
  {
   "cell_type": "markdown",
   "metadata": {},
   "source": [
    "Em resumo, uma taxa de crescimento `g` é usada para descrever o tamanho relativo de um valor `inicial` e um valor `alterado` após algum tempo `t`. Para calcular $alterado$, aplique a taxa de crescimento `g` repetidamente, `t` vezes usando exponenciação.\n",
    "\n",
    "`inicial * (1 + g) ** t`\n",
    "\n",
    "Para calcular `g`, eleve o crescimento total à potência de `1/t` e subtraia um.\n",
    "\n",
    "`(alterado/inicial) ** (1/t) - 1`"
   ]
  }
 ],
 "metadata": {
  "kernelspec": {
   "display_name": "Python 3",
   "language": "python",
   "name": "python3"
  },
  "language_info": {
   "codemirror_mode": {
    "name": "ipython",
    "version": 3
   },
   "file_extension": ".py",
   "mimetype": "text/x-python",
   "name": "python",
   "nbconvert_exporter": "python",
   "pygments_lexer": "ipython3",
   "version": "3.7.8"
  }
 },
 "nbformat": 4,
 "nbformat_minor": 2
}
