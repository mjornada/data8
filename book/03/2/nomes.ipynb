{
 "cells": [
  {
   "cell_type": "markdown",
   "metadata": {},
   "source": [
    "# Nomes\n",
    "\n",
    "Nomes são atribuídos a valores em Python usando uma declaração de *atribuição*. Em uma atribuição, um nome é seguido por `=`, que é seguido por qualquer expressão. O valor da expressão à direita de `=` é *atribuído* ao nome. Uma vez que um nome tenha um valor atribuído a ele, o valor será substituído por esse nome em expressões futuras."
   ]
  },
  {
   "cell_type": "code",
   "execution_count": 1,
   "metadata": {},
   "outputs": [
    {
     "data": {
      "text/plain": [
       "30"
      ]
     },
     "execution_count": 1,
     "metadata": {},
     "output_type": "execute_result"
    }
   ],
   "source": [
    "a = 10\n",
    "b = 20\n",
    "a + b"
   ]
  },
  {
   "cell_type": "markdown",
   "metadata": {},
   "source": [
    "Um nome previamente atribuído pode ser usado na expressão à direita de `=`."
   ]
  },
  {
   "cell_type": "code",
   "execution_count": 2,
   "metadata": {},
   "outputs": [
    {
     "data": {
      "text/plain": [
       "0.5"
      ]
     },
     "execution_count": 2,
     "metadata": {},
     "output_type": "execute_result"
    }
   ],
   "source": [
    "quarto = 1/4\n",
    "meio = 2 * quarto\n",
    "meio"
   ]
  },
  {
   "cell_type": "markdown",
   "metadata": {},
   "source": [
    "No entanto, apenas o valor atual de uma expressão é atribuído a um nome. Se esse valor mudar mais tarde, os nomes que foram definidos em termos desse valor não mudarão automaticamente."
   ]
  },
  {
   "cell_type": "code",
   "execution_count": 3,
   "metadata": {},
   "outputs": [
    {
     "data": {
      "text/plain": [
       "0.5"
      ]
     },
     "execution_count": 3,
     "metadata": {},
     "output_type": "execute_result"
    }
   ],
   "source": [
    "quarto = 4\n",
    "meio"
   ]
  },
  {
   "cell_type": "markdown",
   "metadata": {},
   "source": [
    "Os nomes devem começar com uma letra, mas podem conter letras e números. Um nome não pode conter um espaço; em vez disso, é comum usar um caractere de sublinhado `_` para substituir cada espaço. Os nomes são tão úteis quanto você os faz; cabe ao programador escolher nomes que sejam fáceis de interpretar. Tipicamente, nomes mais significativos podem ser inventados do que `a` e `b`. Por exemplo, para descrever o imposto sobre vendas em uma compra de $5 em Berkeley, CA, os seguintes nomes esclarecem o significado das várias quantidades envolvidas."
   ]
  },
  {
   "cell_type": "code",
   "execution_count": 4,
   "metadata": {},
   "outputs": [
    {
     "data": {
      "text/plain": [
       "0.475"
      ]
     },
     "execution_count": 4,
     "metadata": {},
     "output_type": "execute_result"
    }
   ],
   "source": [
    "preco_compra = 5\n",
    "taxa_imposto_estadual = 0.075\n",
    "taxa_imposto_municipal = 0.02\n",
    "taxa_imposto_cidade = 0\n",
    "taxa_imposto_vendas = taxa_imposto_estadual + taxa_imposto_municipal + taxa_imposto_cidade\n",
    "imposto_vendas = preco_compra * taxa_imposto_vendas\n",
    "imposto_vendas"
   ]
  }
 ],
 "metadata": {
  "anaconda-cloud": {},
  "kernelspec": {
   "display_name": "Python 3",
   "language": "python",
   "name": "python3"
  },
  "language_info": {
   "codemirror_mode": {
    "name": "ipython",
    "version": 3
   },
   "file_extension": ".py",
   "mimetype": "text/x-python",
   "name": "python",
   "nbconvert_exporter": "python",
   "pygments_lexer": "ipython3",
   "version": "3.7.8"
  }
 },
 "nbformat": 4,
 "nbformat_minor": 2
}
