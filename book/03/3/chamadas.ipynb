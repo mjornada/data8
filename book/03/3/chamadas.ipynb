
{
 "cells": [
  {
   "cell_type": "markdown",
   "metadata": {},
   "source": [
    "# Expressões de Chamada\n",
    "\n",
    "As *expressões de chamada* invocam funções, que são operações nomeadas. O nome da função aparece primeiro, seguido por expressões entre parênteses."
   ]
  },
  {
   "cell_type": "code",
   "execution_count": 1,
   "metadata": {},
   "outputs": [
    {
     "data": {
      "text/plain": [
       "12"
      ]
     },
     "execution_count": 1,
     "metadata": {},
     "output_type": "execute_result"
    }
   ],
   "source": [
    "abs(-12)"
   ]
  },
  {
   "cell_type": "code",
   "execution_count": 2,
   "metadata": {},
   "outputs": [
    {
     "data": {
      "text/plain": [
       "4"
      ]
     },
     "execution_count": 2,
     "metadata": {},
     "output_type": "execute_result"
    }
   ],
   "source": [
    "round(5 - 1.3)"
   ]
  },
  {
   "cell_type": "code",
   "execution_count": 3,
   "metadata": {},
   "outputs": [
    {
     "data": {
      "text/plain": [
       "5"
      ]
     },
     "execution_count": 3,
     "metadata": {},
     "output_type": "execute_result"
    }
   ],
   "source": [
    "max(2, 2 + 3, 4)"
   ]
  },
  {
   "cell_type": "markdown",
   "metadata": {},
   "source": [
    "Neste último exemplo, a função `max` é *chamada* com três *argumentos*: 2, 5 e 4. O valor de cada expressão dentro dos parênteses é passado para a função, e a função *retorna* o valor final da expressão de chamada completa. A função `max` pode receber qualquer número de argumentos e retorna o máximo.\n",
    "\n",
    "Algumas funções estão disponíveis por padrão, como `abs` e `round`, mas a maioria das funções que são integradas à linguagem Python estão armazenadas em uma coleção de funções chamada *módulo*. Uma *instrução de importação* é usada para fornecer acesso a um módulo, como `math` ou `operator`."
   ]
  },
  {
   "cell_type": "code",
   "execution_count": 4,
   "metadata": {},
   "outputs": [
    {
     "data": {
      "text/plain": [
       "3.0"
      ]
     },
     "execution_count": 4,
     "metadata": {},
     "output_type": "execute_result"
    }
   ],
   "source": [
    "import math\n",
    "import operator\n",
    "math.sqrt(operator.add(4, 5))"
   ]
  },
  {
   "cell_type": "markdown",
   "metadata": {},
   "source": [
    "Uma expressão equivalente poderia ser expressa usando os operadores `+` e `**` em vez disso."
   ]
  },
  {
   "cell_type": "code",
   "execution_count": 5,
   "metadata": {},
   "outputs": [
    {
     "data": {
      "text/plain": [
       "3.0"
      ]
     },
     "execution_count": 5,
     "metadata": {},
     "output_type": "execute_result"
    }
   ],
   "source": [
    "(4 + 5) ** 0.5"
   ]
  },
  {
   "cell_type": "markdown",
   "metadata": {},
   "source": [
    "Operadores e expressões de chamada podem ser usados juntos em uma expressão. A *diferença percentual* entre dois valores é usada para comparar valores para os quais nenhum é claramente `inicial` ou `alterado`. Por exemplo, em 2014, as fazendas da Flórida produziram 2,72 bilhões de ovos, enquanto as fazendas de Iowa produziram 16,25 bilhões de ovos (http://quickstats.nass.usda.gov/). A diferença percentual é 100 vezes o valor absoluto da diferença entre os valores, dividido pela média deles. Neste caso, a diferença é maior que a média, então a diferença percentual é maior que 100."
   ]
  },
  {
   "cell_type": "code",
   "execution_count": 6,
   "metadata": {},
   "outputs": [
    {
     "data": {
      "text/plain": [
       "142.6462836056932"
      ]
     },
     "execution_count": 6,
     "metadata": {},
     "output_type": "execute_result"
    }
   ],
   "source": [
    "florida = 2.72\n",
    "iowa = 16.25\n",
    "100*abs(florida-iowa)/((florida+iowa)/2)"
   ]
  },
  {
   "cell_type": "markdown",
   "metadata": {},
   "source": [
    "Aprender como diferentes funções se comportam é uma parte importante da aprendizagem de uma linguagem de programação. Um notebook Jupyter pode ajudar a lembrar os nomes e os efeitos das diferentes funções. Ao editar uma célula de código, pressione a tecla *tab* depois de digitar o início de um nome para exibir uma lista de maneiras de completar esse nome. Por exemplo, pressione *tab* após `math.` para ver todas as funções disponíveis no módulo `math`. A digitação irá reduzir a lista de opções. Para aprender mais sobre uma função, coloque um `?` depois do seu nome. Por exemplo, digitar `math.log?` irá exibir uma descrição da função `log` no módulo `math`."
   ]
  },
  {
   "cell_type": "code",
   "execution_count": 7,
   "metadata": {},
   "outputs": [],
   "source": [
    "math.log?"
   ]
  },
  {
   "cell_type": "markdown",
   "metadata": {},
   "source": [
    "    log(x[, base])\n",
    "\n",
    "    Retorna o logaritmo de x para a base fornecida.\n",
    "    Se a base não for especificada, retorna o logaritmo natural (base e) de x."
   ]
  },
  {
   "cell_type": "markdown",
   "metadata": {},
   "source": [
    "Os colchetes no exemplo de chamada indicam que um argumento é opcional. Ou seja, `log` pode ser chamado com um ou dois argumentos."
   ]
  },
  {
   "cell_type": "code",
   "execution_count": 8,
   "metadata": {},
   "outputs": [
    {
     "data": {
      "text/plain": [
       "4.0"
      ]
     },
     "execution_count": 8,
     "metadata": {},
     "output_type": "execute_result"
    }
   ],
   "source": [
    "math.log(16, 2)"
   ]
  },
  {
   "cell_type": "code",
   "execution_count": 9,
   "metadata": {},
   "outputs": [
    {
     "data": {
      "text/plain": [
       "4.0"
      ]
     },
     "execution_count": 9,
     "metadata": {},
     "output_type": "execute_result"
    }
   ],
   "source": [
    "math.log(16)/math.log(2)"
   ]
  },
  {
   "cell_type": "markdown",
   "metadata": {},
   "source": [
    "A lista de [funções integradas do Python](https://docs.python.org/3/library/functions.html) é bastante extensa e inclui muitas funções que nunca são necessárias em aplicações de ciência de dados. A lista de [funções matemáticas no módulo `math`](https://docs.python.org/3/library/math.html) é igualmente longa. Este texto irá introduzir as funções mais importantes no contexto, em vez de esperar que o leitor memorize ou entenda essas listas."
   ]
  }
 ],
 "metadata": {
  "anaconda-cloud": {},
  "kernelspec": {
   "display_name": "Python 3",
   "language": "python",
   "name": "python3"
  },
  "language_info": {
   "codemirror_mode": {
    "name": "ipython",
    "version": 3
   },
   "file_extension": ".py",
   "mimetype": "text/x-python",
   "name": "python",
   "nbconvert_exporter": "python",
   "pygments_lexer": "ipython3",
   "version": "3.7.8"
  }
 },
 "nbformat": 4,
 "nbformat_minor": 2
}
