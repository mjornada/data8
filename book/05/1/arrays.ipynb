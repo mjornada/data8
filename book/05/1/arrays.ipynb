{
 "cells": [
  {
   "cell_type": "code",
   "execution_count": 1,
   "metadata": {
    "tags": [
     "remove-input"
    ]
   },
   "outputs": [],
   "source": [
    "from datascience import *\n",
    "path_data = '../../../assets/data/'"
   ]
  },
  {
   "cell_type": "markdown",
   "metadata": {},
   "source": [
    "# Arrays\n",
    "\n",
    "Enquanto existem muitos tipos de coleções em Python, trabalharemos principalmente com arrays nesta aula. Já vimos que a função `make_array` pode ser usada para criar arrays de números.\n",
    "\n",
    "Arrays também podem conter strings ou outros tipos de valores, mas um único array só pode conter um único tipo de dados. (Normalmente não faz sentido agrupar dados diferentes de qualquer maneira.) Por exemplo:"
   ]
  },
  {
   "cell_type": "code",
   "execution_count": 2,
   "metadata": {},
   "outputs": [
    {
     "data": {
      "text/plain": [
       "array(['noun', 'pronoun', 'verb', 'adverb', 'adjective', 'conjunction',\n",
       "       'preposition', 'interjection'], dtype='<U12')"
      ]
     },
     "execution_count": 2,
     "metadata": {},
     "output_type": "execute_result"
    }
   ],
   "source": [
    "english_parts_of_speech = make_array(\"noun\", \"pronoun\", \"verb\", \"adverb\", \"adjective\", \"conjunction\", \"preposition\", \"interjection\")\n",
    "english_parts_of_speech"
   ]
  },
  {
   "cell_type": "markdown",
   "metadata": {},
   "source": [
    "Voltando aos dados de temperatura, criamos arrays de temperaturas médias diárias [altas](http://berkeleyearth.lbl.gov/auto/Regional/TMAX/Text/global-land-TMAX-Trend.txt) para as décadas em torno de 1850, 1900, 1950 e 2000."
   ]
  },
  {
   "cell_type": "code",
   "execution_count": 3,
   "metadata": {},
   "outputs": [
    {
     "data": {
      "text/plain": [
       "array([13.6  , 14.387, 14.585, 15.164])"
      ]
     },
     "execution_count": 3,
     "metadata": {},
     "output_type": "execute_result"
    }
   ],
   "source": [
    "baseline_high = 14.48\n",
    "highs = make_array(baseline_high - 0.880, \n",
    "                   baseline_high - 0.093,\n",
    "                   baseline_high + 0.105, \n",
    "                   baseline_high + 0.684)\n",
    "highs"
   ]
  },
  {
   "cell_type": "markdown",
   "metadata": {},
   "source": [
    "Arrays podem ser usados em expressões aritméticas para computar sobre seus conteúdos. Quando um array é combinado com um único número, esse número é combinado com cada elemento do array. Portanto, podemos converter todas essas temperaturas para Fahrenheit escrevendo a fórmula de conversão familiar."
   ]
  },
  {
   "cell_type": "code",
   "execution_count": 4,
   "metadata": {},
   "outputs": [
    {
     "data": {
      "text/plain": [
       "array([56.48  , 57.8966, 58.253 , 59.2952])"
      ]
     },
     "execution_count": 4,
     "metadata": {},
     "output_type": "execute_result"
    }
   ],
   "source": [
    "(9/5) * highs + 32"
   ]
  },
  {
   "cell_type": "markdown",
   "metadata": {},
   "source": [
    "![array arithmetic](../../../images/array_arithmetic.png)"
   ]
  },
  {
   "cell_type": "markdown",
   "metadata": {},
   "source": [
    "Arrays também têm *métodos*, que são funções que operam nos valores do array. A `mean` de uma coleção de números é seu valor médio: a soma dividida pelo comprimento. Cada par de parênteses nos exemplos abaixo faz parte de uma expressão de chamada; está chamando uma função sem argumentos para realizar um cálculo no array chamado `highs`."
   ]
  },
  {
   "cell_type": "code",
   "execution_count": 5,
   "metadata": {},
   "outputs": [
    {
     "data": {
      "text/plain": [
       "4"
      ]
     },
     "execution_count": 5,
     "metadata": {},
     "output_type": "execute_result"
    }
   ],
   "source": [
    "highs.size"
   ]
  },
  {
   "cell_type": "code",
   "execution_count": 6,
   "metadata": {},
   "outputs": [
    {
     "data": {
      "text/plain": [
       "57.736000000000004"
      ]
     },
     "execution_count": 6,
     "metadata": {},
     "output_type": "execute_result"
    }
   ],
   "source": [
    "highs.sum()"
   ]
  },
  {
   "cell_type": "code",
   "execution_count": 7,
   "metadata": {},
   "outputs": [
    {
     "data": {
      "text/plain": [
       "14.434000000000001"
      ]
     },
     "execution_count": 7,
     "metadata": {},
     "output_type": "execute_result"
    }
   ],
   "source": [
    "highs.mean()"
   ]
  },
  {
   "cell_type": "markdown",
   "metadata": {},
   "source": [
    "## Funções em Arrays\n",
    "O pacote `numpy`, abreviado como `np` em programas, fornece aos programadores Python funções convenientes e poderosas para criar e manipular arrays."
   ]
  },
  {
   "cell_type": "code",
   "execution_count": 8,
   "metadata": {},
   "outputs": [],
   "source": [
    "import numpy as np"
   ]
  },
  {
   "cell_type": "markdown",
   "metadata": {},
   "source": [
    "Por exemplo, a função `diff` calcula a diferença entre cada par adjacente de elementos em um array. O primeiro elemento da `diff` é o segundo elemento menos o primeiro. "
   ]
  },
  {
   "cell_type": "code",
   "execution_count": 9,
   "metadata": {},
   "outputs": [
    {
     "data": {
      "text/plain": [
       "array([0.787, 0.198, 0.579])"
      ]
     },
     "execution_count": 9,
     "metadata": {},
     "output_type": "execute_result"
    }
   ],
   "source": [
    "np.diff(highs)"
   ]
  },
  {
   "cell_type": "markdown",
   "metadata": {},
   "source": [
    "A [referência completa do Numpy](http://docs.scipy.org/doc/numpy/reference/) lista exaustivamente essas funções, mas apenas um pequeno subconjunto é comumente usado para aplicações de processamento de dados. Estes são agrupados em diferentes pacotes dentro de `np`. Aprender esse vocabulário é uma parte importante da aprendizagem da linguagem Python, então consulte esta lista com frequência enquanto trabalha em exemplos e problemas.\n",
    "\n",
    "No entanto, você **não precisa memorizar esses**. Use isso como referência.\n",
    "\n",
    "Cada uma dessas funções recebe um array como argumento e retorna um único valor.\n",
    "\n",
    "| **Função**       | Descrição                                                          |\n",
    "|--------------------|----------------------------------------------------------------------|\n",
    "| `np.prod`          | Multiplica todos os elementos juntos                                       |\n",
    "| `np.sum`           | Adiciona todos os elementos juntos                                            |\n",
    "| `np.all`           | Testa se todos os elementos são valores verdadeiros (números diferentes de zero são verdade)|\n",
    "| `np.any`           | Testa se alguns elementos são valores verdadeiros (números diferentes de zero são verdade)|\n",
    "| `np.count_nonzero` | Conta o número de elementos diferentes de zero                               |\n",
    "\n",
    "Cada uma dessas funções recebe um array como argumento e retorna um array de valores.\n",
    "\n",
    "| **Função**       | Descrição                                                          |\n",
    "|--------------------|----------------------------------------------------------------------|\n",
    "| `np.diff`          | Diferença entre elementos adjacentes                                 |\n",
    "| `np.round`         | Arredonda cada número para o inteiro mais próximo              |\n",
    "| `np.cumprod`       | Um produto acumulado: para cada elemento, multiplique todos os elementos até agora |\n",
    "| `np.cumsum`        | Uma soma cumulativa: para cada elemento, adicione todos os elementos até agora          |\n",
    "| `np.exp`           | Exponencie cada elemento                                            |\n",
    "| `np.log`           | Tire o logaritmo natural de cada elemento                           |\n",
    "| `np.sqrt`          | Tire a raiz quadrada de cada elemento                                 |\n",
    "| `np.sort`          | Classificar os elementos                                                    |\n",
    "\n",
    "Cada uma dessas funções recebe um array de strings e retorna um array.\n",
    "\n",
    "| **Função**        | **Descrição**                                              |\n",
    "|---------------------|--------------------------------------------------------------|\n",
    "| `np.char.lower`     | Letras minúsculas de cada elemento                                       |\n",
    "| `np.char.upper`     | Letras maiúsculas de cada elemento                                       |\n",
    "| `np.char.strip`     | Remover espaços no início ou no final de cada elemento        |\n",
    "| `np.char.isalpha`   | Se cada elemento contém apenas letras (sem números ou símbolos) |\n",
    "| `np.char.isnumeric` | Se cada elemento contém apenas números (sem letras)  \n",
    "\n",
    "Cada uma dessas funções recebe tanto um array de strings quanto uma *string de pesquisa*; cada uma retorna um array.\n",
    "\n",
    "| **Função**         | **Descrição**                                                                  |\n",
    "|----------------------|----------------------------------------------------------------------------------|\n",
    "| `np.char.count`      | Contar o número de vezes que uma string de pesquisa aparece entre os elementos de um array |\n",
    "| `np.char.find`       | A posição dentro de cada elemento em que uma string de pesquisa é encontrada primeiro |\n",
    "| `np.char.rfind`      | A posição dentro de cada elemento em que uma string de pesquisa é encontrada por último |\n",
    "| `np.char.startswith` | Se cada elemento começa com a string de pesquisa  \n",
    "\n"
   ]
  }
 ],
 "metadata": {
  "anaconda-cloud": {},
  "kernelspec": {
   "display_name": "Python 3",
   "language": "python",
   "name": "python3"
  },
  "language_info": {
   "codemirror_mode": {
    "name": "ipython",
    "version": 3
   },
   "file_extension": ".py",
   "mimetype": "text/x-python",
   "name": "python",
   "nbconvert_exporter": "python",
   "pygments_lexer": "ipython3",
   "version": "3.7.9"
  }
 },
 "nbformat": 4,
 "nbformat_minor": 2
}
