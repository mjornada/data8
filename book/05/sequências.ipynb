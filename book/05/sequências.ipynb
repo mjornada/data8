{
 "cells": [
  {
   "cell_type": "code",
   "execution_count": 1,
   "metadata": {
    "tags": [
     "remove-input"
    ]
   },
   "outputs": [],
   "source": [
    "from datascience import *\n",
    "path_data = '../../assets/data/'"
   ]
  },
  {
   "cell_type": "markdown",
   "metadata": {},
   "source": [
    "# Sequências\n",
    "\n",
    "Os valores podem ser agrupados em coleções, o que permite aos programadores organizar esses valores e referir-se a todos eles com um único nome. Ao agrupar valores, podemos escrever um código que realiza um cálculo em muitos dados de uma só vez.\n",
    "\n",
    "Chamar a função `make_array` em vários valores os coloca em um *array*, que é um tipo de coleção sequencial. Abaixo, coletamos quatro temperaturas diferentes em um array chamado `highs`. Estas são as [temperaturas médias diárias máximas estimadas](http://berkeleyearth.lbl.gov/regions/global-land) sobre toda a terra na Terra (em graus Celsius) para as décadas em torno de 1850, 1900, 1950 e 2000, respectivamente, expressas como desvios da temperatura média absoluta máxima entre 1951 e 1980, que foi de 14.48 graus."
   ]
  },
  {
   "cell_type": "code",
   "execution_count": 2,
   "metadata": {},
   "outputs": [
    {
     "data": {
      "text/plain": [
       "array([13.6  , 14.387, 14.585, 15.164])"
      ]
     },
     "execution_count": 2,
     "metadata": {},
     "output_type": "execute_result"
    }
   ],
   "source": [
    "baseline_high = 14.48\n",
    "highs = make_array(baseline_high - 0.880, baseline_high - 0.093,\n",
    "                   baseline_high + 0.105, baseline_high + 0.684)\n",
    "highs"
   ]
  },
  {
   "cell_type": "markdown",
   "metadata": {},
   "source": [
    "Coleções nos permitem passar múltiplos valores para uma função usando um único nome. Por exemplo, a função `sum` calcula a soma de todos os valores em uma coleção, e a função `len` calcula o seu comprimento. (Isso é o número de valores que colocamos nela.) Usando-as juntas, podemos calcular a média de uma coleção."
   ]
  },
  {
   "cell_type": "code",
   "execution_count": 3,
   "metadata": {},
   "outputs": [
    {
     "data": {
      "text/plain": [
       "14.434000000000001"
      ]
     },
     "execution_count": 3,
     "metadata": {},
     "output_type": "execute_result"
    }
   ],
   "source": [
    "sum(highs)/len(highs)"
   ]
  },
  {
   "cell_type": "markdown",
   "metadata": {},
   "source": [
    "O gráfico completo das temperaturas máximas e mínimas diárias aparece abaixo. \n",
    "\n",
    "<h2>Média de alta temperatura diária</h2>\n",
    "\n",
    "![Mean of Daily High Temperature](../../images/global-land-TMAX-Trend.png)\n",
    "\n",
    "<h2>Média de temperatura baixa diária</h2>\n",
    "\n",
    "![Mean of Daily Low Temperature](../../images/global-land-TMIN-Trend.png)"
   ]
  }
 ],
 "metadata": {
  "kernelspec": {
   "display_name": "Python 3",
   "language": "python",
   "name": "python3"
  },
  "language_info": {
   "codemirror_mode": {
    "name": "ipython",
    "version": 3
   },
   "file_extension": ".py",
   "mimetype": "text/x-python",
   "name": "python",
   "nbconvert_exporter": "python",
   "pygments_lexer": "ipython3",
   "version": "3.8.5"
  }
 },
 "nbformat": 4,
 "nbformat_minor": 2
}
