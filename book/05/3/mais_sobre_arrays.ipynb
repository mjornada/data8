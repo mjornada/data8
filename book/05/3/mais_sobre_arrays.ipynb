{
 "cells": [
  {
   "cell_type": "code",
   "execution_count": 1,
   "metadata": {
    "tags": [
     "remove-input"
    ]
   },
   "outputs": [],
   "source": [
    "from datascience import *\n",
    "import numpy as np\n",
    "path_data = '../../../assets/data/'"
   ]
  },
  {
   "cell_type": "markdown",
   "metadata": {},
   "source": [
    "# Mais sobre Arrays\n",
    "Muitas vezes, é necessário calcular algo que envolve dados de mais de um array. Se dois arrays têm o mesmo tamanho, o Python facilita a realização de cálculos envolvendo ambos os arrays.\n",
    "\n",
    "Para o nosso primeiro exemplo, voltamos mais uma vez aos dados de temperatura. Desta vez, criamos arrays de médias diárias de [temperaturas máximas](http://berkeleyearth.lbl.gov/auto/Regional/TMAX/Text/global-land-TMAX-Trend.txt) e [mínimas](http://berkeleyearth.lbl.gov/auto/Regional/TMIN/Text/global-land-TMIN-Trend.txt) para as décadas em torno de 1850, 1900, 1950 e 2000."
   ]
  },
  {
   "cell_type": "code",
   "execution_count": 2,
   "metadata": {},
   "outputs": [
    {
     "data": {
      "text/plain": [
       "array([13.6  , 14.387, 14.585, 15.164])"
      ]
     },
     "execution_count": 2,
     "metadata": {},
     "output_type": "execute_result"
    }
   ],
   "source": [
    "baseline_high = 14.48\n",
    "highs = make_array(baseline_high - 0.880, \n",
    "                   baseline_high - 0.093,\n",
    "                   baseline_high + 0.105, \n",
    "                   baseline_high + 0.684)\n",
    "highs"
   ]
  },
  {
   "cell_type": "code",
   "execution_count": 3,
   "metadata": {},
   "outputs": [
    {
     "data": {
      "text/plain": [
       "array([2.128, 2.371, 2.874, 3.728])"
      ]
     },
     "execution_count": 3,
     "metadata": {},
     "output_type": "execute_result"
    }
   ],
   "source": [
    "baseline_low = 3.00\n",
    "lows = make_array(baseline_low - 0.872, baseline_low - 0.629,\n",
    "                  baseline_low - 0.126, baseline_low + 0.728)\n",
    "lows"
   ]
  },
  {
   "cell_type": "markdown",
   "metadata": {},
   "source": [
    "Suponha que gostaríamos de calcular a média diária de *alcance* de temperaturas para cada década. Ou seja, queremos subtrair a média diária de alta nos anos 1850 da média diária de baixa nos anos 1850, e o mesmo para cada outra década.\n",
    "\n",
    "Poderíamos escrever isso laboriosamente usando `.item`:"
   ]
  },
  {
   "cell_type": "code",
   "execution_count": 4,
   "metadata": {},
   "outputs": [
    {
     "data": {
      "text/plain": [
       "array([11.472, 12.016, 11.711, 11.436])"
      ]
     },
     "execution_count": 4,
     "metadata": {},
     "output_type": "execute_result"
    }
   ],
   "source": [
    "make_array(\n",
    "    highs.item(0) - lows.item(0),\n",
    "    highs.item(1) - lows.item(1),\n",
    "    highs.item(2) - lows.item(2),\n",
    "    highs.item(3) - lows.item(3)\n",
    ")"
   ]
  },
  {
   "cell_type": "markdown",
   "metadata": {},
   "source": [
    "Como quando convertemos um array de temperaturas de Celsius para Fahrenheit, o Python fornece uma maneira muito mais limpa de escrever isso:"
   ]
  },
  {
   "cell_type": "code",
   "execution_count": 5,
   "metadata": {},
   "outputs": [
    {
     "data": {
      "text/plain": [
       "array([11.472, 12.016, 11.711, 11.436])"
      ]
     },
     "execution_count": 5,
     "metadata": {},
     "output_type": "execute_result"
    }
   ],
   "source": [
    "highs - lows"
   ]
  },
  {
   "cell_type": "markdown",
   "metadata": {},
   "source": [
    "![array subtraction](../../../images/array_subtraction.png)"
   ]
  },
  {
   "cell_type": "markdown",
   "metadata": {},
   "source": [
    "O que vimos nesses exemplos são casos especiais de uma característica geral dos arrays."
   ]
  },
  {
   "cell_type": "markdown",
   "metadata": {},
   "source": [
    "## Aritmética elemento a elemento em pares de arrays numéricos\n",
    "Se um operador aritmético age sobre dois arrays do mesmo tamanho, então a operação é realizada em cada par correspondente de elementos nos dois arrays. O resultado final é um array. \n",
    "\n",
    "Por exemplo, se `array1` e `array2` têm o mesmo número de elementos, então o valor de `array1 * array2` é um array. Seu primeiro elemento é o primeiro elemento de `array1` vezes o primeiro elemento de `array2`, seu segundo elemento é o segundo elemento de `array1` vezes o segundo elemento de `array2`, e assim por diante."
   ]
  },
  {
   "cell_type": "markdown",
   "metadata": {},
   "source": [
    "## Exemplo: Fórmula de Wallis para $\\pi$ ###\n",
    "O número $\\pi$ é importante em muitas áreas diferentes da matemática. Séculos antes que os computadores fossem inventados, os matemáticos trabalhavam para encontrar maneiras simples de aproximar o valor numérico de $\\pi$. Já vimos a fórmula de Leibniz para $\\pi$. Cerca de meio século antes de Leibniz, o matemático inglês [John Wallis](https://en.wikipedia.org/wiki/John_Wallis) (1616-1703) também expressou $\\pi$ em termos de frações simples, como um produto infinito.\n",
    "\n",
    "$$\n",
    "\\pi = 2 \\cdot \\left( \\frac{2}{1}\\cdot\\frac{2}{3}\\cdot\\frac{4}{3}\\cdot\\frac{4}{5}\\cdot\\frac{6}{5}\\cdot\\frac{6}{7}\\dots \\right)\n",
    "$$"
   ]
  },
  {
   "cell_type": "markdown",
   "metadata": {},
   "source": [
    "Este é um produto de frações \"par/impar\". Vamos usar arrays para multiplicar um milhão delas e ver se o produto está próximo de $\\pi$."
   ]
  },
  {
   "cell_type": "markdown",
   "metadata": {},
   "source": [
    "Lembre-se de que a multiplicação pode ser feita em qualquer ordem [[1]](#footnotes), então podemos ajustar nosso cálculo para:\n",
    "\n",
    "$$\\pi \\approx 2 \\cdot \\left( \\frac{2}{1} \\cdot \\frac{4}{3} \\cdot \\frac{6}{5} \\cdots \\frac{1,000,000}{999999} \\right) \\cdot \\left( \\frac{2}{3} \\cdot \\frac{4}{5} \\cdot \\frac{6}{7} \\cdots \\frac{1,000,000}{1,000,001} \\right)$$"
   ]
  },
  {
   "cell_type": "markdown",
   "metadata": {},
   "source": [
    "Agora estamos prontos para fazer o cálculo. Começamos criando um array de números pares 2, 4, 6, e assim por diante até 1,000,000. Em seguida, criamos duas listas de números ímpares: 1, 3, 5, 7, ... até 999,999, e 3, 5, 7, ... até 1,000,001."
   ]
  },
  {
   "cell_type": "code",
   "execution_count": 6,
   "metadata": {},
   "outputs": [],
   "source": [
    "even = np.arange(2, 1000001, 2)\n",
    "one_below_even = even - 1\n",
    "one_above_even = even + 1"
   ]
  },
  {
   "cell_type": "markdown",
   "metadata": {},
   "source": [
    "Lembre-se de que `np.prod` multiplica todos os elementos de um array juntos. Agora podemos calcular o produto de Wallis, para uma boa aproximação."
   ]
  },
  {
   "cell_type": "code",
   "execution_count": 7,
   "metadata": {},
   "outputs": [
    {
     "data": {
      "text/plain": [
       "3.1415910827951143"
      ]
     },
     "execution_count": 7,
     "metadata": {},
     "output_type": "execute_result"
    }
   ],
   "source": [
    "2 * np.prod(even/one_below_even) * np.prod(even/one_above_even)"
   ]
  },
  {
   "cell_type": "markdown",
   "metadata": {},
   "source": [
    "Isso é $\\pi$ corrigido para cinco casas decimais. Wallis claramente criou uma grande fórmula."
   ]
  },
  {
   "cell_type": "markdown",
   "metadata": {},
   "source": [
    "<a id='footnotes'></a>\n",
    "## Notas de rodapé\n",
    "[1] Como vimos no exemplo sobre a fórmula de Leibniz, quando adicionamos *infinitamente* muitas frações, a ordem pode importar. O mesmo acontece com a multiplicação de frações, como estamos fazendo aqui. Mas nossa aproximação para $\\pi$ usa apenas um grande número finito de frações, então está tudo bem multiplicar os termos em qualquer ordem conveniente."
   ]
  }
 ],
 "metadata": {
  "anaconda-cloud": {},
  "kernelspec": {
   "display_name": "Python 3",
   "language": "python",
   "name": "python3"
  },
  "language_info": {
   "codemirror_mode": {
    "name": "ipython",
    "version": 3
   },
   "file_extension": ".py",
   "mimetype": "text/x-python",
   "name": "python",
   "nbconvert_exporter": "python",
   "pygments_lexer": "ipython3",
   "version": "3.7.9"
  }
 },
 "nbformat": 4,
 "nbformat_minor": 2
}
