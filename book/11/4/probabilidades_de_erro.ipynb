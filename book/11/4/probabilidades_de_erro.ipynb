{
 "cells": [
  {
   "cell_type": "code",
   "execution_count": 1,
   "metadata": {
    "tags": [
     "remove-input"
    ]
   },
   "outputs": [],
   "source": [
    "from datascience import *\n",
    "%matplotlib inline\n",
    "import matplotlib.pyplot as plots\n",
    "plots.style.use('fivethirtyeight')\n",
    "import numpy as np"
   ]
  },
  {
   "cell_type": "markdown",
   "metadata": {},
   "source": [
    "# Probabilidades de Erro\n",
    "\n",
    "No processo pelo qual decidimos qual das duas hipóteses é melhor suportada pelos nossos dados, o passo final envolve um julgamento sobre a consistência dos dados e a hipótese nula. Embora este passo resulte em uma decisão correta na grande maioria das vezes, às vezes pode nos levar ao erro. O motivo é a variação aleatória. Por exemplo, mesmo quando a hipótese nula é verdadeira, a variação aleatória pode fazer com que a amostra pareça bastante diferente do que a hipótese nula prevê."
   ]
  },
  {
   "cell_type": "markdown",
   "metadata": {},
   "source": [
    "## Conclusões Erradas\n",
    "\n",
    "Se você está testando uma hipótese nula contra a alternativa de que a hipótese nula não é verdadeira, então há quatro maneiras de classificar a realidade e o resultado do teste.\n",
    "\n",
    "|     | Teste Favorece a Nula | Teste Favorece a Alternativa |\n",
    "|----:|:-----------------------|:------------------------|\n",
    "|**Nula é Verdadeira**| Resultado Correto | Erro |\n",
    "|**Alternativa é Verdadeira**| Erro | Resultado Correto |\n",
    "\n",
    "Em duas das quatro células desta tabela, o resultado do teste está errado. Um tipo de erro ocorre se o teste favorece a hipótese alternativa quando, na verdade, a hipótese nula é verdadeira. O outro tipo de erro ocorre se o teste favorece a hipótese nula quando, na verdade, a hipótese alternativa é verdadeira.\n",
    "\n",
    "Como a hipótese nula é um modelo de chance completamente especificado, o primeiro tipo de erro tem uma probabilidade que podemos estimar. A resposta acaba sendo essencialmente o valor de corte que usamos para o valor-p. Vamos ver como."
   ]
  },
  {
   "cell_type": "markdown",
   "metadata": {},
   "source": [
    "## A Chance de um Erro\n",
    "Suponha que você queira testar se uma moeda é justa ou não. Então, as hipóteses são:\n",
    "\n",
    "**Nula:** A moeda é justa. Ou seja, os resultados são como sorteios feitos aleatoriamente com reposição de *Cara, Coroa*.\n",
    "\n",
    "**Alternativa:** A moeda não é justa.\n",
    "\n",
    "Suponha que você vai testar essa hipótese com base em 2000 lançamentos da moeda. Você esperaria que uma moeda justa caísse com a cara para cima 1000 vezes em 2000, então uma estatística de teste razoável para usar é\n",
    "\n",
    "$$\n",
    "\\text{estatística de teste} ~ = ~ \\big{\\vert} ~ \\text{número de caras} - 1000 ~ \\big{\\vert}\n",
    "$$\n",
    "\n",
    "Valores pequenos desta estatística favorecem a hipótese nula, e valores grandes favorecem a alternativa.\n",
    "\n",
    "Nós simulamos esta estatística sob a hipótese nula muitas vezes e traçamos sua distribuição empírica."
   ]
  },
  {
   "cell_type": "code",
   "execution_count": 4,
   "metadata": {
    "tags": [
     "remove-input"
    ]
   },
   "outputs": [
    {
     "data": {
      "image/png": "[encoded data removed]",
      "text/plain": [
       "<Figure size 432x288 with 1 Axes>"
      ]
     },
     "metadata": {},
     "output_type": "display_data"
    }
   ],
   "source": [
    "fair_coin = [0.5, 0.5]\n",
    "\n",
    "def one_simulated_statistic():\n",
    "    number_of_heads = 2000 * sample_proportions(2000, fair_coin).item(0)\n",
    "    return abs(number_of_heads - 1000)\n",
    "\n",
    "repetitions = 50000\n",
    "\n",
    "statistics = make_array()\n",
    "for i in np.arange(50000):\n",
    "    statistics = np.append(statistics, one_simulated_statistic())\n",
    "\n",
    "results = Table().with_column('|Number of Heads - 1000|', statistics)\n",
    "results.hist(bins = np.arange(0, 101, 5), left_end=45)\n",
    "plots.title('2000 Tosses');"
   ]
  },
  {
   "cell_type": "markdown",
   "metadata": {},
   "source": [
    "A área à direita de 45, dourada, está pouco menos de 5%."
   ]
  },
  {
   "cell_type": "code",
   "execution_count": 5,
   "metadata": {},
   "outputs": [
    {
     "data": {
      "text/plain": [
       "0.04654"
      ]
     },
     "execution_count": 5,
     "metadata": {},
     "output_type": "execute_result"
    }
   ],
   "source": [
    "np.count_nonzero(statistics >= 45) / repetitions"
   ]
  },
  {
   "cell_type": "markdown",
   "metadata": {},
   "source": [
    "Grandes valores da estatística de teste favorecem a hipótese alternativa. Portanto, se você quiser usar um limite de 5% para o valor-p, sua regra de decisão seria concluir que a moeda é injusta se a estatística de teste for 45 ou mais.\n",
    "\n",
    "No entanto, como mostra a figura, uma moeda justa pode produzir estatísticas de teste com valores de 45 ou mais. De fato, isso ocorre com uma chance aproximadamente de 5%.\n",
    "\n",
    "Resumo: *Se a moeda for justa* e nosso teste usar um limite de 5% para decidir se é justa ou não, então há cerca de 5% de chance de o teste concluir erroneamente que a moeda é injusta."
   ]
  },
  {
   "cell_type": "markdown",
   "metadata": {},
   "source": [
    "## O Limite para o Valor-p é uma Probabilidade de Erro\n",
    "O exemplo acima é um caso especial de um fato geral:\n",
    "\n",
    "**Se você usar um limite de $p$% para o valor-p, e a hipótese nula acontece de ser verdadeira, então há cerca de $p$% de chance de que seu teste concluirá que a hipótese alternativa é verdadeira.**\n",
    "\n",
    "Aqui está a tabela dos quatro possíveis resultados da realidade/teste novamente. As probabilidades na linha superior são calculadas sob a suposição de que a hipótese nula é verdadeira. O valor-p é a probabilidade do erro mostrado em vermelho.\n",
    "\n",
    "|     | Teste Favorece a Hipótese Nula | Teste Favorece a Hipótese Alternativa |\n",
    "|----:|:-----------------------|:------------------------|\n",
    "|**Nula é Verdadeira**| Resultado Correto | <p style=\"color:red;\"><b>Erro</b></p> |\n",
    "|**Alternativa é Verdadeira**| Erro | Resultado Correto |\n",
    "\n",
    "### Controle para o Erro ###\n",
    "O limite de 1% é, portanto, mais conservador do que o de 5%. Com o limite de 1%, há menos chance de concluir \"alternativa\" se a nulidade acontecer de ser verdadeira. Por esse motivo, ensaios clínicos randomizados de tratamentos médicos geralmente usam 1% como o limite para decidir entre as duas seguintes hipóteses:\n",
    "\n",
    "**Nula:** O tratamento não tem efeito; as diferenças observadas entre os resultados dos grupos de tratamento e controle de pacientes são devido à randomização.\n",
    "\n",
    "**Alternativa:** O tratamento tem um efeito.\n",
    "\n",
    "A ideia é controlar a chance de concluir que o tratamento faz algo se, na verdade, ele não faz nada. Isso reduz o risco de dar aos pacientes um tratamento inútil.\n",
    "\n",
    "Ainda assim, mesmo que você defina o limite tão baixo quanto 1%, e o tratamento não faça nada, há cerca de 1% de chance de concluir que o tratamento faz algo. Isso se deve à variação aleatória. Existe uma pequena chance de que dados de amostras aleatórias acabem te levando ao erro. A vantagem da amostragem aleatória é que você pode encontrar essa chance."
   ]
  },
  {
   "cell_type": "markdown",
   "metadata": {},
   "source": [
    "## Data Snooping e p-Hacking\n",
    "A discussão acima implica que se cada um dos 100 diferentes grupos de pesquisa executar um experimento controlado randomizado separado sobre o efeito de um tratamento que na verdade não tem efeito, e cada experimento usar um limite de 1% para o valor-p, então, por variação aleatória, espera-se que um dos experimentos conclua erroneamente que o tratamento tem efeito.\n",
    "\n",
    "Infelizmente, esse pode ser o experimento que será publicado. Por isso, é importante que os experimentos sejam *replicados*. Ou seja, outros pesquisadores devem ser capazes de realizar o experimento e ver se obtêm resultados semelhantes.\n",
    "\n",
    "Não é incomum que os pesquisadores testem múltiplas hipóteses usando os mesmos dados. Por exemplo, em um ensaio clínico randomizado sobre o efeito de um medicamento, os pesquisadores podem testar se o medicamento tem efeito sobre várias doenças diferentes.\n",
    "\n",
    "Agora suponha que o medicamento não tenha efeito em nada. Apenas por variação aleatória, uma pequena porcentagem dos testes pode concluir que ele tem um efeito. Portanto, ao ler um estudo que usa testes de hipóteses e conclui que um tratamento tem efeito, sempre pergunte quantos efeitos diferentes foram testados antes dos pesquisadores encontrarem aquele que foi relatado.\n",
    "\n",
    "Se os pesquisadores executaram múltiplos testes diferentes antes de encontrar um que deu um resultado \"altamente estatisticamente significativo\", use o resultado com cautela. O estudo pode estar prejudicado pelo *data snooping*, que essencialmente significa torturar os dados para obter uma falsa confissão. Isso às vezes também é chamado de *p-hacking*.\n",
    "\n",
    "Em tal situação, uma maneira de validar o resultado relatado é replicar o experimento e testar apenas esse efeito particular. Se ele continuar sendo significativo, isso validará a conclusão original."
   ]
  },
  {
   "cell_type": "markdown",
   "metadata": {},
   "source": [
    "## Nota Técnica: O Outro Tipo de Erro\n",
    "Há, é claro, outro tipo de erro: concluir que o tratamento não faz nada quando na verdade faz algo. Discussões sobre esse erro estão fora do escopo deste curso. Apenas esteja ciente de que a vida não é fácil: se você configurar seu teste para reduzir um dos dois erros, quase sempre aumentará o outro."
   ]
  }
 ],
 "metadata": {
  "anaconda-cloud": {},
  "kernelspec": {
   "display_name": "Python 3",
   "language": "python",
   "name": "python3"
  },
  "language_info": {
   "codemirror_mode": {
    "name": "ipython",
    "version": 3
   },
   "file_extension": ".py",
   "mimetype": "text/x-python",
   "name": "python",
   "nbconvert_exporter": "python",
   "pygments_lexer": "ipython3",
   "version": "3.8.3"
  }
 },
 "nbformat": 4,
 "nbformat_minor": 1
}
