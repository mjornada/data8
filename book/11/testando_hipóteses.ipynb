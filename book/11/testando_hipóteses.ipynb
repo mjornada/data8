{
 "cells": [
  {
   "cell_type": "markdown",
   "metadata": {},
   "source": [
    "# Testando Hipóteses\n",
    "\n",
    "Cientistas de dados frequentemente se deparam com perguntas de sim-não sobre o mundo. Você já viu alguns exemplos de tais perguntas neste curso:\n",
    "\n",
    "- O chocolate é bom para você?\n",
    "- A água da bomba da Broad Street causou cólera?\n",
    "- As demografias na Califórnia mudaram na última década?\n",
    "\n",
    "Se respondermos a perguntas como essas depende dos dados que temos. Dados do censo sobre a Califórnia podem resolver questões sobre demografia com pouca incerteza sobre a resposta. Sabemos que a água da bomba da Broad Street foi contaminada por resíduos de vítimas de cólera, então podemos fazer uma boa suposição sobre se ela causou cólera. \n",
    "\n",
    "Se o chocolate ou qualquer outro tratamento é bom para você quase certamente terá que ser decidido por especialistas médicos, mas um passo inicial consiste em usar a ciência de dados para analisar dados de estudos e experimentos randomizados. \n",
    "\n",
    "Neste capítulo, tentaremos responder a essas perguntas de sim-não, baseando nossas conclusões em amostras aleatórias e distribuições empíricas."
   ]
  }
 ],
 "metadata": {
  "anaconda-cloud": {},
  "kernelspec": {
   "display_name": "Python 3",
   "language": "python",
   "name": "python3"
  },
  "language_info": {
   "codemirror_mode": {
    "name": "ipython",
    "version": 3
   },
   "file_extension": ".py",
   "mimetype": "text/x-python",
   "name": "python",
   "nbconvert_exporter": "python",
   "pygments_lexer": "ipython3",
   "version": "3.7.8"
  }
 },
 "nbformat": 4,
 "nbformat_minor": 1
}
