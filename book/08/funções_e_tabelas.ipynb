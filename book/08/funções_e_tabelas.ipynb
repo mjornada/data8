{
 "cells": [
  {
   "cell_type": "code",
   "execution_count": 1,
   "metadata": {
    "tags": [
     "remove-input"
    ]
   },
   "outputs": [],
   "source": [
    "from datascience import *\n",
    "import matplotlib\n",
    "path_data = '../../assets/data/'\n",
    "matplotlib.use('Agg')\n",
    "%matplotlib inline\n",
    "import matplotlib.pyplot as plots\n",
    "plots.style.use('fivethirtyeight')\n",
    "import numpy as np"
   ]
  },
  {
   "cell_type": "markdown",
   "metadata": {},
   "source": [
    "# Funções e Tabelas"
   ]
  },
  {
   "cell_type": "markdown",
   "metadata": {},
   "source": [
    "Estamos construindo um inventário útil de técnicas para identificar padrões e temas em um conjunto de dados usando funções já disponíveis em Python. Agora vamos explorar um recurso central da linguagem de programação Python: a definição de funções.\n",
    "\n",
    "Já usamos funções extensivamente neste texto, mas nunca definimos uma função própria. O objetivo de definir uma função é dar um nome a um processo computacional que pode ser aplicado várias vezes. Existem muitas situações na computação que exigem cálculos repetidos. Por exemplo, frequentemente queremos realizar a mesma manipulação em cada valor em uma coluna de uma tabela."
   ]
  },
  {
   "cell_type": "markdown",
   "metadata": {},
   "source": [
    "<h2>Definindo uma Função</h2>\n",
    "\n",
    "A definição da função `double` abaixo simplesmente duplica um número."
   ]
  },
  {
   "cell_type": "code",
   "execution_count": 2,
   "metadata": {},
   "outputs": [],
   "source": [
    "# Nossa primeira definição de função\n",
    "\n",
    "def double(x):\n",
    "    \"\"\" Double x \"\"\"\n",
    "    return 2*x"
   ]
  },
  {
   "cell_type": "markdown",
   "metadata": {},
   "source": [
    "Começamos qualquer definição de função escrevendo `def`. Aqui está um detalhamento das outras partes (a *sintaxe*) desta pequena função:\n",
    "\n",
    "![function syntax](../../images/function_definition.jpg)"
   ]
  },
  {
   "cell_type": "markdown",
   "metadata": {},
   "source": [
    "Quando executamos a célula acima, nenhum número específico é duplicado, e o código dentro do corpo de `double` ainda não é avaliado. Nesse aspecto, nossa função é análoga a uma *receita*. Cada vez que seguimos as instruções em uma receita, precisamos começar com ingredientes. Cada vez que queremos usar nossa função para dobrar um número, precisamos especificar um número.\n",
    "\n",
    "Podemos chamar `double` exatamente da mesma forma que chamamos outras funções. Cada vez que fazemos isso, o código no corpo é executado, com o valor do argumento recebendo o nome `x`."
   ]
  },
  {
   "cell_type": "code",
   "execution_count": 3,
   "metadata": {},
   "outputs": [
    {
     "data": {
      "text/plain": [
       "34"
      ]
     },
     "execution_count": 3,
     "metadata": {},
     "output_type": "execute_result"
    }
   ],
   "source": [
    "double(17)"
   ]
  },
  {
   "cell_type": "code",
   "execution_count": 4,
   "metadata": {},
   "outputs": [
    {
     "data": {
      "text/plain": [
       "-0.3"
      ]
     },
     "execution_count": 4,
     "metadata": {},
     "output_type": "execute_result"
    }
   ],
   "source": [
    "double(-0.6/4)"
   ]
  },
  {
   "cell_type": "markdown",
   "metadata": {},
   "source": [
    "As duas expressões acima são ambas *expressões de chamada*. Na segunda, o valor da expressão `-0.6/4` é calculado e então passado como o argumento nomeado `x` para a função `double`. Cada expressão de chamada resulta na execução do corpo de `double`, mas com um valor diferente de `x`.\n",
    "\n",
    "O corpo de `double` tem apenas uma única linha:\n",
    "\n",
    "`return 2*x`\n",
    "\n",
    "Executar esta *instrução `return`* completa a execução do corpo da função `double` e calcula o valor da expressão de chamada.\n",
    "\n",
    "O argumento para `double` pode ser qualquer expressão, desde que seu valor seja um número. Por exemplo, pode ser um nome. A função `double` não sabe ou se importa com a forma como seu argumento é calculado ou armazenado; seu único trabalho é executar seu próprio corpo usando os valores dos argumentos passados para ela."
   ]
  },
  {
   "cell_type": "code",
   "execution_count": 5,
   "metadata": {},
   "outputs": [
    {
     "data": {
      "text/plain": [
       "84"
      ]
     },
     "execution_count": 5,
     "metadata": {},
     "output_type": "execute_result"
    }
   ],
   "source": [
    "any_name = 42\n",
    "double(any_name)"
   ]
  },
  {
   "cell_type": "markdown",
   "metadata": {},
   "source": [
    "O argumento também pode ser qualquer valor que possa ser duplicado. Por exemplo, uma matriz inteira de números pode ser passada como argumento para `double` e o resultado será outra matriz."
   ]
  },
  {
   "cell_type": "code",
   "execution_count": 6,
   "metadata": {},
   "outputs": [
    {
     "data": {
      "text/plain": [
       "array([ 6,  8, 10])"
      ]
     },
     "execution_count": 6,
     "metadata": {},
     "output_type": "execute_result"
    }
   ],
   "source": [
    "double(make_array(3, 4, 5))"
   ]
  },
  {
   "cell_type": "markdown",
   "metadata": {},
   "source": [
    "No entanto, nomes que são definidos dentro de uma função, incluindo argumentos como `x` de `double`, têm apenas uma existência passageira. Eles são definidos apenas enquanto a função está sendo chamada e só são acessíveis dentro do corpo da função. Não podemos nos referir a `x` fora do corpo de `double`. A terminologia técnica é que `x` tem *escopo local*.\n",
    "\n",
    "Portanto, o nome `x` não é reconhecido fora do corpo da função, mesmo que tenhamos chamado `double` nas células acima."
   ]
  },
  {
   "cell_type": "code",
   "execution_count": 7,
   "metadata": {
    "tags": [
     "raises-exception"
    ]
   },
   "outputs": [
    {
     "ename": "NameError",
     "evalue": "name 'x' is not defined",
     "output_type": "error",
     "traceback": [
      "\u001b[0;31m---------------------------------------------------------------------------\u001b[0m",
      "\u001b[0;31mNameError\u001b[0m                                 Traceback (most recent call last)",
      "\u001b[0;32m<ipython-input-7-6fcf9dfbd479>\u001b[0m in \u001b[0;36m<module>\u001b[0;34m\u001b[0m\n\u001b[0;32m----> 1\u001b[0;31m \u001b[0mx\u001b[0m\u001b[0;34m\u001b[0m\u001b[0;34m\u001b[0m\u001b[0m\n\u001b[0m",
      "\u001b[0;31mNameError\u001b[0m: name 'x' is not defined"
     ]
    }
   ],
   "source": [
    "x"
   ]
  },
  {
   "cell_type": "markdown",
   "metadata": {},
   "source": [
    "**Docstrings.** Embora `double` seja relativamente fácil de entender, muitas funções realizam tarefas complicadas e são difíceis de usar sem explicação. (Você pode ter descoberto isso por si mesmo!) Portanto, uma função bem elaborada tem um nome que evoca seu comportamento, bem como documentação. Em Python, isso é chamado de *docstring* — uma descrição de seu comportamento e expectativas sobre seus argumentos. A docstring também pode mostrar chamadas de exemplo para a função, onde a chamada é precedida por `>>>`.\n",
    "\n",
    "Uma docstring pode ser qualquer string, desde que seja a primeira coisa no corpo de uma função. Docstrings geralmente são definidas usando aspas triplas no início e no fim, o que permite que uma string abranja várias linhas. A primeira linha é convencionalmente uma descrição completa, mas curta, da função, enquanto as linhas seguintes fornecem orientação adicional para futuros usuários da função.\n",
    "\n",
    "Aqui está uma definição de uma função chamada `percent` que recebe dois argumentos. A definição inclui uma docstring."
   ]
  },
  {
   "cell_type": "code",
   "execution_count": 8,
   "metadata": {},
   "outputs": [],
   "source": [
    "# Uma função com mais de um argumento\n",
    "\n",
    "def percent(x, total):\n",
    "    \"\"\"Converte x em uma porcentagem do total.\n",
    "    \n",
    "    Mais precisamente, esta função divide x por total,\n",
    "    multiplica o resultado por 100 e arredonda o resultado\n",
    "    para duas casas decimais.\n",
    "    \n",
    "    >>> percent(4, 16)\n",
    "    25.0\n",
    "    >>> percent(1, 6)\n",
    "    16.67\n",
    "    \"\"\"\n",
    "    return round((x/total)*100, 2)"
   ]
  },
  {
   "cell_type": "code",
   "execution_count": 9,
   "metadata": {},
   "outputs": [
    {
     "data": {
      "text/plain": [
       "16.5"
      ]
     },
     "execution_count": 9,
     "metadata": {},
     "output_type": "execute_result"
    }
   ],
   "source": [
    "percent(33, 200)"
   ]
  },
  {
   "cell_type": "markdown",
   "metadata": {},
   "source": [
    "Compare a função `percent` definida acima com a função `percents` definida abaixo. Esta última toma uma matriz como argumento e converte todos os números da matriz em porcentagens do total dos valores na matriz. As porcentagens são todos arredondados para duas casas decimais, desta vez substituindo `round` por `np.round` porque o argumento é uma matriz e não um número."
   ]
  },
  {
   "cell_type": "code",
   "execution_count": 10,
   "metadata": {},
   "outputs": [],
   "source": [
    "def percents(counts):\n",
    "    \"\"\"Converta os valores em array_x em porcentagens do total de array_x.\"\"\"\n",
    "    total = counts.sum()\n",
    "    return np.round((counts/total)*100, 2)"
   ]
  },
  {
   "cell_type": "markdown",
   "metadata": {},
   "source": [
    "A função `percents` retorna uma matriz de porcentagens que somam 100, sem arredondamento."
   ]
  },
  {
   "cell_type": "code",
   "execution_count": 11,
   "metadata": {},
   "outputs": [
    {
     "data": {
      "text/plain": [
       "array([33.33, 47.62, 19.05])"
      ]
     },
     "execution_count": 11,
     "metadata": {},
     "output_type": "execute_result"
    }
   ],
   "source": [
    "some_array = make_array(7, 10, 4)\n",
    "percents(some_array)"
   ]
  },
  {
   "cell_type": "markdown",
   "metadata": {},
   "source": [
    "É útil entender as etapas que o Python executa para executar uma função. Para facilitar isso, colocamos uma definição de função e uma chamada para essa função na mesma célula abaixo."
   ]
  },
  {
   "cell_type": "code",
   "execution_count": 12,
   "metadata": {},
   "outputs": [
    {
     "name": "stdout",
     "output_type": "stream",
     "text": [
      "The biggest difference is 5\n"
     ]
    }
   ],
   "source": [
    "def biggest_difference(array_x):\n",
    "    \"\"\"Encontre a maior diferença em valor absoluto entre dois elementos adjacentes de array_x.\"\"\"\n",
    "    diffs = np.diff(array_x)\n",
    "    absolute_diffs = abs(diffs)\n",
    "    return max(absolute_diffs)\n",
    "\n",
    "some_numbers = make_array(2, 4, 5, 6, 4, -1, 1)\n",
    "big_diff = biggest_difference(some_numbers)\n",
    "print(\"The biggest difference is\", big_diff)"
   ]
  },
  {
   "cell_type": "markdown",
   "metadata": {},
   "source": [
    "Aqui está o que acontece quando executamos aquela célula:\n",
    "\n",
    "![function execution](../../images/function_execution.jpg)"
   ]
  },
  {
   "cell_type": "markdown",
   "metadata": {},
   "source": [
    "<h2>Argumentos Múltiplos</h2>"
   ]
  },
  {
   "cell_type": "markdown",
   "metadata": {},
   "source": [
    "Pode haver várias maneiras de generalizar uma expressão ou bloco de código e, portanto, uma função pode receber vários argumentos, cada um determinando diferentes aspectos do resultado. Por exemplo, a função `percents` que definimos anteriormente, arredondada para duas casas decimais a cada vez . A definição de dois argumentos a seguir permite que chamadas diferentes sejam arredondadas para valores diferentes."
   ]
  },
  {
   "cell_type": "code",
   "execution_count": 13,
   "metadata": {},
   "outputs": [
    {
     "name": "stdout",
     "output_type": "stream",
     "text": [
      "Rounded to 1 decimal place:  [28.6 14.3 57.1]\n",
      "Rounded to 2 decimal places: [28.57 14.29 57.14]\n",
      "Rounded to 3 decimal places: [28.571 14.286 57.143]\n"
     ]
    }
   ],
   "source": [
    "def percents(counts, decimal_places):\n",
    "    \"\"\"Convert the values in array_x to percents out of the total of array_x.\"\"\"\n",
    "    total = counts.sum()\n",
    "    return np.round((counts/total)*100, decimal_places)\n",
    "\n",
    "parts = make_array(2, 1, 4)\n",
    "print(\"Rounded to 1 decimal place: \", percents(parts, 1))\n",
    "print(\"Rounded to 2 decimal places:\", percents(parts, 2))\n",
    "print(\"Rounded to 3 decimal places:\", percents(parts, 3))"
   ]
  },
  {
   "cell_type": "markdown",
   "metadata": {},
   "source": [
    "A flexibilidade desta nova definição tem um preço pequeno: cada vez que a função é chamada, o número de casas decimais deve ser especificado. Os valores padrão dos argumentos permitem que uma função seja chamada com um número variável de argumentos; qualquer argumento que seja especificado na expressão de chamada recebe seu valor padrão, que é indicado na primeira linha da instrução `def`. Por exemplo, nesta definição final de `percents`, o argumento opcional `decimal_places` recebe um valor padrão de 2."
   ]
  },
  {
   "cell_type": "code",
   "execution_count": 14,
   "metadata": {},
   "outputs": [
    {
     "name": "stdout",
     "output_type": "stream",
     "text": [
      "Rounded to 1 decimal place: [28.6 14.3 57.1]\n",
      "Rounded to the default number of decimal places: [28.57 14.29 57.14]\n"
     ]
    }
   ],
   "source": [
    "def percents(counts, decimal_places=2):\n",
    "    \"\"\"Converta os valores em array_x em porcentagens do total de array_x.\"\"\"\n",
    "    total = counts.sum()\n",
    "    return np.round((counts/total)*100, decimal_places)\n",
    "\n",
    "parts = make_array(2, 1, 4)\n",
    "print(\"Rounded to 1 decimal place:\", percents(parts, 1))\n",
    "print(\"Rounded to the default number of decimal places:\", percents(parts))"
   ]
  },
  {
   "cell_type": "markdown",
   "metadata": {},
   "source": [
    "<h2>Nota: Métodos</h2>\n",
    "\n",
    "As funções são chamadas colocando expressões de argumento entre parênteses após o nome da função. Qualquer função definida isoladamente é chamada desta forma. Você também viu exemplos de métodos, que são como funções, mas são chamados usando notação de ponto, como `some_table.sort(some_label)`. As funções que você define sempre serão chamadas usando o nome da função primeiro, passando todos os argumentos."
   ]
  }
 ],
 "metadata": {
  "anaconda-cloud": {},
  "kernelspec": {
   "display_name": "Python 3",
   "language": "python",
   "name": "python3"
  },
  "language_info": {
   "codemirror_mode": {
    "name": "ipython",
    "version": 3
   },
   "file_extension": ".py",
   "mimetype": "text/x-python",
   "name": "python",
   "nbconvert_exporter": "python",
   "pygments_lexer": "ipython3",
   "version": "3.7.9"
  }
 },
 "nbformat": 4,
 "nbformat_minor": 2
}
