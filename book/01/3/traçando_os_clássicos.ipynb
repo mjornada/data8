{
 "cells": [
  {
   "cell_type": "code",
   "execution_count": 1,
   "metadata": {
    "tags": [
     "remove-input"
    ]
   },
   "outputs": [],
   "source": [
    "from datascience import *\n",
    "from datascience.predicates import are\n",
    "path_data = '../../../../data/'\n",
    "import numpy as np\n",
    "import matplotlib\n",
    "matplotlib.use('Agg')\n",
    "%matplotlib inline\n",
    "import matplotlib.pyplot as plots\n",
    "plots.style.use('fivethirtyeight')\n",
    "import warnings\n",
    "warnings.simplefilter(action=\"ignore\", category=FutureWarning)\n",
    "\n",
    "from urllib.request import urlopen \n",
    "import re\n",
    "def read_url(url): \n",
    "    return re.sub('\\\\s+', ' ', urlopen(url).read().decode())"
   ]
  },
  {
   "cell_type": "markdown",
   "metadata": {},
   "source": [
    "# Traçando os clássicos\n",
    "\n",
    "Neste exemplo, exploraremos estatísticas de dois romances clássicos: As Aventuras de Huckleberry Finn , de Mark Twain, e Pequenas Mulheres , de Louisa May Alcott. O texto de qualquer livro pode ser lido por um computador em grande velocidade. Os livros publicados antes de 1923 são atualmente de domínio público , o que significa que todos têm o direito de copiar ou utilizar o texto de qualquer forma. [Project Gutenberg](http://www.gutenberg.org/) é um site que publica livros online de domínio público. Usando Python, podemos carregar o texto desses livros diretamente da web.\n",
    "\n",
    "Este exemplo pretende ilustrar alguns dos temas gerais deste texto. Não se preocupe se os detalhes do programa ainda não fizerem sentido. Em vez disso, concentre-se na interpretação das imagens geradas abaixo. As seções posteriores do texto descreverão a maioria dos recursos da linguagem de programação Python usada abaixo.\n",
    "\n",
    "Primeiro, lemos o texto de ambos os livros em listas de capítulos, chamados `huck_finn_chapters` e `little_women_chapters`. Em Python, um nome não pode conter espaços e, portanto, frequentemente usaremos um sublinhado `_` para substituir um espaço. O `=` nas linhas abaixo dão um nome à esquerda ao resultado de algum cálculo descrito à direita. Um *localizador uniforme* de recursos ou *URL* é um endereço na Internet para algum conteúdo; neste caso, o texto de um livro. O `#` símbolo inicia um comentário, que é ignorado pelo computador, mas útil para quem lê o código."
   ]
  },
  {
   "cell_type": "code",
   "execution_count": 2,
   "metadata": {},
   "outputs": [],
   "source": [
    "# Leia dois livros, rápido!\n",
    "\n",
    "huck_finn_url = 'https://www.inferentialthinking.com/data/huck_finn.txt'\n",
    "huck_finn_text = read_url(huck_finn_url)\n",
    "huck_finn_chapters = huck_finn_text.split('CHAPTER ')[44:]\n",
    "\n",
    "little_women_url = 'https://www.inferentialthinking.com/data/little_women.txt'\n",
    "little_women_text = read_url(little_women_url)\n",
    "little_women_chapters = little_women_text.split('CHAPTER ')[1:]"
   ]
  },
  {
   "cell_type": "markdown",
   "metadata": {},
   "source": [
    "Embora um computador não consiga compreender o texto de um livro, ele pode nos fornecer algumas informações sobre a estrutura do texto. O nome `huck_finn_chapters` está atualmente vinculado a uma lista de todos os capítulos do livro. Podemos colocá-los em uma tabela para ver como cada capítulo começa."
   ]
  },
  {
   "cell_type": "code",
   "execution_count": 3,
   "metadata": {},
   "outputs": [
    {
     "data": {
      "text/html": [
       "<table border=\"1\" class=\"dataframe\">\n",
       "    <thead>\n",
       "        <tr>\n",
       "            <th>Chapters</th>\n",
       "        </tr>\n",
       "    </thead>\n",
       "    <tbody>\n",
       "        <tr>\n",
       "            <td>I. YOU don't know about me without you have read a book  ...</td>\n",
       "        </tr>\n",
       "        <tr>\n",
       "            <td>II. WE went tiptoeing along a path amongst the trees bac ...</td>\n",
       "        </tr>\n",
       "        <tr>\n",
       "            <td>III. WELL, I got a good going-over in the morning from o ...</td>\n",
       "        </tr>\n",
       "        <tr>\n",
       "            <td>IV. WELL, three or four months run along, and it was wel ...</td>\n",
       "        </tr>\n",
       "        <tr>\n",
       "            <td>V. I had shut the door to. Then I turned around and ther ...</td>\n",
       "        </tr>\n",
       "        <tr>\n",
       "            <td>VI. WELL, pretty soon the old man was up and around agai ...</td>\n",
       "        </tr>\n",
       "        <tr>\n",
       "            <td>VII. \"GIT up! What you 'bout?\" I opened my eyes and look ...</td>\n",
       "        </tr>\n",
       "        <tr>\n",
       "            <td>VIII. THE sun was up so high when I waked that I judged  ...</td>\n",
       "        </tr>\n",
       "        <tr>\n",
       "            <td>IX. I wanted to go and look at a place right about the m ...</td>\n",
       "        </tr>\n",
       "        <tr>\n",
       "            <td>X. AFTER breakfast I wanted to talk about the dead man a ...</td>\n",
       "        </tr>\n",
       "    </tbody>\n",
       "</table>\n",
       "<p>... (33 rows omitted)</p>"
      ],
      "text/plain": [
       "Chapters\n",
       "I. VOCÊ não sabe sobre mim sem ter lido um livro ...\n",
       "II. NÓS fomos na ponta dos pés por um caminho entre as árvores atrás ...\n",
       "III. BEM, tive uma boa reviravolta pela manhã de ...\n",
       "IV. BEM, três ou quatro meses se passaram, e foi bem ...\n",
       "V. EU tinha fechado a porta. Aí eu me virei e lá ...\n",
       "VI.  BEM, logo o velho se levantou e voltou a andar ...\n",
       "VII. ACORDE! O que você está fazendo? Abri os olhos e olhei ...\n",
       "VIII. O sol estava tão alto quando acordei que julguei  ...\n",
       "IX. EU queria ir e dar uma olhada em um lugar bem perto da m ...\n",
       "X. DEPOIS do café da manhã eu queria falar sobre o morto e ...\n",
       "... (33 rows omitted)"
      ]
     },
     "execution_count": 3,
     "metadata": {},
     "output_type": "execute_result"
    }
   ],
   "source": [
    "# Exiba os capítulos de Huckleberry Finn em uma tabela.\n",
    "\n",
    "Table().with_column('Chapters', huck_finn_chapters)"
   ]
  },
  {
   "cell_type": "markdown",
   "metadata": {},
   "source": [
    "Cada capítulo começa com um número de capítulo em algarismos romanos, seguido pela primeira frase do capítulo. O Projeto Gutenberg imprimiu a primeira palavra de cada capítulo em maiúsculas. "
   ]
  }
 ],
 "metadata": {
  "kernelspec": {
   "display_name": "Python 3",
   "language": "python",
   "name": "python3"
  },
  "language_info": {
   "codemirror_mode": {
    "name": "ipython",
    "version": 3
   },
   "file_extension": ".py",
   "mimetype": "text/x-python",
   "name": "python",
   "nbconvert_exporter": "python",
   "pygments_lexer": "ipython3",
   "version": "3.8.5"
  }
 },
 "nbformat": 4,
 "nbformat_minor": 2
}
