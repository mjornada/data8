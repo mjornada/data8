{
 "cells": [
  {
   "cell_type": "code",
   "execution_count": 1,
   "metadata": {
    "tags": [
     "remove-input"
    ]
   },
   "outputs": [],
   "source": [
    "from datascience import *\n",
    "path_data = '../../../assets/data/'\n",
    "import matplotlib\n",
    "matplotlib.use('Agg')\n",
    "%matplotlib inline\n",
    "import matplotlib.pyplot as plots\n",
    "plots.style.use('fivethirtyeight')\n",
    "import numpy as np"
   ]
  },
  {
   "cell_type": "markdown",
   "metadata": {},
   "source": [
    "# Declarações Condicionais\n",
    "Em muitas situações, ações e resultados dependem de um conjunto específico de condições sendo satisfeitas. Por exemplo, indivíduos em ensaios clínicos randomizados recebem o tratamento se foram designados para o grupo de tratamento. Um jogador ganha dinheiro se vencer sua aposta.\n",
    "\n",
    "Nesta seção, aprenderemos como descrever tais situações usando código. Uma *declaração condicional* é uma declaração de várias linhas que permite ao Python escolher entre diferentes alternativas com base no valor verdade de uma expressão. Embora as declarações condicionais possam aparecer em qualquer lugar, elas aparecem mais frequentemente dentro do corpo de uma função para expressar comportamentos alternativos dependendo dos valores dos argumentos.\n",
    "\n",
    "Uma declaração condicional sempre começa com um cabeçalho `if`, que é uma única linha seguida por um corpo recuado. O corpo só é executado se a expressão imediatamente após o `if` (chamada de *expressão if*) avaliar para um valor verdadeiro. Se a *expressão if* avaliar para um valor falso, então o corpo do `if` é pulado.\n",
    "\n",
    "Vamos começar definindo uma função que retorna o sinal de um número."
   ]
  },
  {
   "cell_type": "code",
   "execution_count": 2,
   "metadata": {},
   "outputs": [],
   "source": [
    "def sign(x):\n",
    "    \n",
    "    if x > 0:\n",
    "        return 'Positive'"
   ]
  },
  {
   "cell_type": "code",
   "execution_count": 3,
   "metadata": {},
   "outputs": [
    {
     "data": {
      "text/plain": [
       "'Positive'"
      ]
     },
     "execution_count": 3,
     "metadata": {},
     "output_type": "execute_result"
    }
   ],
   "source": [
    "sign(3)"
   ]
  },
  {
   "cell_type": "markdown",
   "metadata": {},
   "source": [
    "Esta função retorna o sinal correto se a entrada for um número positivo. Mas se a entrada não for um número positivo, então a expressão *if* será avaliada como um valor falso e, portanto, a instrução `return` será ignorada e a chamada de função não tem valor."
   ]
  },
  {
   "cell_type": "code",
   "execution_count": 4,
   "metadata": {},
   "outputs": [],
   "source": [
    "sign(-3)"
   ]
  },
  {
   "cell_type": "markdown",
   "metadata": {},
   "source": [
    "Então, vamos refinar nossa função para retornar `Negative` se a entrada for um número negativo. Podemos fazer isso adicionando uma cláusula `elif`, onde `elif` if é a abreviação do Python para a frase \"else, if\". "
   ]
  },
  {
   "cell_type": "code",
   "execution_count": 5,
   "metadata": {},
   "outputs": [],
   "source": [
    "def sign(x):\n",
    "    \n",
    "    if x > 0:\n",
    "        return 'Positive'\n",
    "    \n",
    "    elif x < 0:\n",
    "        return 'Negative'"
   ]
  },
  {
   "cell_type": "markdown",
   "metadata": {},
   "source": [
    "Agora `sign` retorna a resposta correta quando a entrada é -3:"
   ]
  },
  {
   "cell_type": "code",
   "execution_count": 6,
   "metadata": {},
   "outputs": [
    {
     "data": {
      "text/plain": [
       "'Negative'"
      ]
     },
     "execution_count": 6,
     "metadata": {},
     "output_type": "execute_result"
    }
   ],
   "source": [
    "sign(-3)"
   ]
  },
  {
   "cell_type": "markdown",
   "metadata": {},
   "source": [
    "E se a entrada for 0? Para lidar com este caso, podemos adicionar outra cláusula `elif`:"
   ]
  },
  {
   "cell_type": "code",
   "execution_count": 7,
   "metadata": {},
   "outputs": [],
   "source": [
    "def sign(x):\n",
    "    \n",
    "    if x > 0:\n",
    "        return 'Positive'\n",
    "    \n",
    "    elif x < 0:\n",
    "        return 'Negative'\n",
    "    \n",
    "    elif x == 0:\n",
    "        return 'Neither positive nor negative'"
   ]
  },
  {
   "cell_type": "code",
   "execution_count": 8,
   "metadata": {},
   "outputs": [
    {
     "data": {
      "text/plain": [
       "'Neither positive nor negative'"
      ]
     },
     "execution_count": 8,
     "metadata": {},
     "output_type": "execute_result"
    }
   ],
   "source": [
    "sign(0)"
   ]
  },
  {
   "cell_type": "markdown",
   "metadata": {},
   "source": [
    "Equivalentemente, podemos substituir a cláusula final `elif` por uma cláusula `else`, cujo corpo será executado apenas se todas as comparações anteriores forem falsas; isto é, se o valor de entrada for igual a 0."
   ]
  },
  {
   "cell_type": "code",
   "execution_count": 9,
   "metadata": {},
   "outputs": [],
   "source": [
    "def sign(x):\n",
    "    \n",
    "    if x > 0:\n",
    "        return 'Positive'\n",
    "    \n",
    "    elif x < 0:\n",
    "        return 'Negative'\n",
    "    \n",
    "    else:\n",
    "        return 'Neither positive nor negative'"
   ]
  },
  {
   "cell_type": "code",
   "execution_count": 10,
   "metadata": {},
   "outputs": [
    {
     "data": {
      "text/plain": [
       "'Neither positive nor negative'"
      ]
     },
     "execution_count": 10,
     "metadata": {},
     "output_type": "execute_result"
    }
   ],
   "source": [
    "sign(0)"
   ]
  },
  {
   "cell_type": "markdown",
   "metadata": {},
   "source": [
    "## O Formulário Geral\n",
    "Uma instrução condicional também pode ter múltiplas cláusulas com múltiplos corpos, e apenas um desses corpos pode ser executado. O formato geral de uma instrução condicional com múltiplas cláusulas aparece abaixo.\n",
    "\n",
    "    if <if expression>:\n",
    "        <if body>\n",
    "    elif <elif expression 0>:\n",
    "        <elif body 0>\n",
    "    elif <elif expression 1>:\n",
    "        <elif body 1>\n",
    "    ...\n",
    "    else:\n",
    "        <else body>\n",
    "        \n",
    "Sempre há exatamente uma cláusula `if`, mas pode haver qualquer número de cláusulas `elif`. Python avaliará as expressões `if` e `elif` nos cabeçalhos em ordem até que seja encontrada uma que seja um valor verdadeiro, então execute o corpo correspondente. A cláusula `else` é opcional. Quando um cabeçalho `else` é fornecido, seu *corpo else* é executado apenas se nenhuma das expressões de cabeçalho das cláusulas anteriores for verdadeira. sempre vem no final (ou não chega)."
   ]
  },
  {
   "cell_type": "markdown",
   "metadata": {},
   "source": [
    "## Exemplo: Aposta em um Dado\n",
    "Suponha que eu aposto em um lançamento de um dado justo. As regras do jogo:\n",
    "\n",
    "- Se o dado mostrar 1 ponto ou 2 pontos, eu perco um dólar.\n",
    "- Se o dado mostrar 3 pontos ou 4 pontos, nem perco nem ganho dinheiro.\n",
    "- Se o dado mostrar 5 pontos ou 6 pontos, eu ganho um dólar.\n",
    "\n",
    "Agora usaremos declarações condicionais para definir uma função `uma_aposta` que recebe o número de pontos no lançamento e retorna o meu ganho líquido."
   ]
  },
  {
   "cell_type": "code",
   "execution_count": 11,
   "metadata": {},
   "outputs": [],
   "source": [
    "def one_bet(x):\n",
    "    \"\"\"Retorna meu ganho líquido se o dado mostrar x pontos\"\"\"\n",
    "    if x <= 2:\n",
    "        return -1\n",
    "    elif x <= 4:\n",
    "        return 0\n",
    "    elif x <= 6:\n",
    "        return 1"
   ]
  },
  {
   "cell_type": "markdown",
   "metadata": {},
   "source": [
    "Vamos verificar se a função faz a coisa certa para cada número diferente de pontos."
   ]
  },
  {
   "cell_type": "code",
   "execution_count": 12,
   "metadata": {},
   "outputs": [
    {
     "data": {
      "text/plain": [
       "(-1, -1, 0, 0, 1, 1)"
      ]
     },
     "execution_count": 12,
     "metadata": {},
     "output_type": "execute_result"
    }
   ],
   "source": [
    "one_bet(1), one_bet(2), one_bet(3), one_bet (4), one_bet(5), one_bet(6)"
   ]
  },
  {
   "cell_type": "markdown",
   "metadata": {},
   "source": [
    "Como uma revisão de como funcionam as declarações condicionais, vamos ver o que `uma_aposta` faz quando a entrada é 3.\n",
    "\n",
    "- Primeiro, ele avalia a expressão `if`, que é `3 <= 2`, que é `False`. Então `uma_aposta` não executa o corpo do `if`.\n",
    "- Em seguida, ele avalia a primeira expressão `elif`, que é `3 <= 4`, que é `True`. Portanto, `uma_aposta` executa o corpo do primeiro `elif` e retorna 0.\n",
    "- Uma vez que o corpo foi executado, o processo está completo. A próxima expressão `elif` não é avaliada.\n",
    "\n",
    "Se, por algum motivo, usarmos uma entrada maior que 6, a expressão `if` será avaliada como `False`, assim como as duas expressões `elif`. Portanto, `uma_aposta` não executa o corpo do `if` nem os dois corpos do `elif`, e não haverá valor quando você fizer a chamada abaixo."
   ]
  },
  {
   "cell_type": "code",
   "execution_count": 13,
   "metadata": {},
   "outputs": [],
   "source": [
    "one_bet(17)"
   ]
  },
  {
   "cell_type": "markdown",
   "metadata": {},
   "source": [
    "Para jogar o jogo baseado em um lançamento de dado, você pode usar `np.random.choice` para gerar o número de pontos e então usar isso como argumento para `one_bet`. Execute a célula algumas vezes para ver como a saída muda."
   ]
  },
  {
   "cell_type": "code",
   "execution_count": 14,
   "metadata": {},
   "outputs": [
    {
     "data": {
      "text/plain": [
       "-1"
      ]
     },
     "execution_count": 14,
     "metadata": {},
     "output_type": "execute_result"
    }
   ],
   "source": [
    "one_bet(np.random.choice(np.arange(1, 7)))"
   ]
  },
  {
   "cell_type": "markdown",
   "metadata": {},
   "source": [
    "Neste ponto é natural querermos coletar os resultados de todas as apostas para que possamos analisá-los. Na próxima seção desenvolvemos uma maneira de fazer isso sem executar a célula repetidas vezes."
   ]
  }
 ],
 "metadata": {
  "anaconda-cloud": {},
  "kernelspec": {
   "display_name": "Python 3",
   "language": "python",
   "name": "python3"
  },
  "language_info": {
   "codemirror_mode": {
    "name": "ipython",
    "version": 3
   },
   "file_extension": ".py",
   "mimetype": "text/x-python",
   "name": "python",
   "nbconvert_exporter": "python",
   "pygments_lexer": "ipython3",
   "version": "3.7.8"
  }
 },
 "nbformat": 4,
 "nbformat_minor": 1
}
