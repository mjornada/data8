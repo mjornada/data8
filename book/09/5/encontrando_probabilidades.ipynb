{
 "cells": [
  {
   "cell_type": "code",
   "execution_count": 1,
   "metadata": {
    "tags": [
     "remove-input"
    ]
   },
   "outputs": [],
   "source": [
    "from datascience import *\n",
    "path_data = '../../../assets/data/'\n",
    "import numpy as np\n",
    "import matplotlib.pyplot as plots\n",
    "plots.style.use('fivethirtyeight')\n",
    "%matplotlib inline"
   ]
  },
  {
   "cell_type": "markdown",
   "metadata": {},
   "source": [
    "# Encontrando Probabilidades\n",
    "Ao longo dos séculos, houve um considerável debate filosófico sobre o que são probabilidades. Algumas pessoas pensam que probabilidades são frequências relativas; outras pensam que são frequências relativas de longo prazo; outras ainda pensam que probabilidades são uma medida subjetiva de seu próprio grau pessoal de incerteza.\n",
    "\n",
    "Neste curso, a maioria das probabilidades será de frequências relativas, embora muitas tenham interpretações subjetivas. Independentemente disso, as maneiras pelas quais as probabilidades são calculadas e combinadas são consistentes entre as diferentes interpretações.\n",
    "\n",
    "Por convenção, as probabilidades são números entre 0 e 1, ou, de forma equivalente, 0% e 100%. Eventos impossíveis têm probabilidade 0. Eventos que são certos têm probabilidade 1.\n",
    "\n",
    "A matemática é a principal ferramenta para encontrar probabilidades exatamente, embora os computadores sejam úteis para esse propósito também. A simulação pode fornecer excelentes aproximações, com alta probabilidade. Nesta seção, desenvolveremos informalmente algumas regras simples que governam o cálculo de probabilidades. Nas seções subsequentes, retornaremos às simulações para aproximar as probabilidades de eventos complexos.\n",
    "\n",
    "Usaremos a notação padrão $P(\\mbox{evento})$ para denotar a probabilidade de que o \"evento\" aconteça, e usaremos as palavras \"chance\" e \"probabilidade\" de forma intercambiável."
   ]
  },
  {
   "cell_type": "markdown",
   "metadata": {},
   "source": [
    "## Quando um Evento Não Acontece\n",
    "Se a chance de um evento acontecer é 40%, então a chance de que ele não aconteça é 60%. Este cálculo natural pode ser descrito de forma geral como segue:\n",
    "\n",
    "$$\n",
    "P(\\mbox{um evento não acontece}) ~=~ 1 - P(\\mbox{o evento acontece})\n",
    "$$"
   ]
  },
  {
   "cell_type": "markdown",
   "metadata": {},
   "source": [
    "## Quando Todos os Resultados são Igualmente Prováveis\n",
    "Se você estiver lançando um dado comum, uma suposição natural é que todas as seis faces são igualmente prováveis. Sob essa suposição, as probabilidades de como um lançamento sai podem ser facilmente calculadas como uma proporção. Por exemplo, a chance de o dado mostrar um número par é\n",
    "\n",
    "$$\n",
    "\\frac{\\mbox{número de faces pares}}{\\mbox{número de todas as faces}}\n",
    "~=~ \\frac{\\#\\{2, 4, 6\\}}{\\#\\{1, 2, 3, 4, 5, 6\\}}\n",
    "~=~ \\frac{3}{6}\n",
    "$$\n",
    "\n",
    "Semelhantemente,\n",
    "\n",
    "$$\n",
    "P(\\mbox{dado mostra um múltiplo de 3}) ~=~\n",
    "\\frac{\\#\\{3, 6\\}}{\\#\\{1, 2, 3, 4, 5, 6\\}}\n",
    "~=~ \\frac{2}{6}\n",
    "$$"
   ]
  },
  {
   "cell_type": "markdown",
   "metadata": {},
   "source": [
    "Em geral, **se todos os resultados são igualmente prováveis**,\n",
    "\n",
    "$$\n",
    "P(\\mbox{um evento acontece}) ~=~\n",
    "\\frac{\\#\\{\\mbox{resultados que fazem o evento acontecer}\\}}\n",
    "{\\#\\{\\mbox{todos os resultados}\\}}\n",
    "$$\n"
   ]
  },
  {
   "cell_type": "markdown",
   "metadata": {},
   "source": [
    "Nem todos os fenômenos aleatórios são tão simples quanto o lançamento de um dado. As duas regras principais de probabilidade, desenvolvidas a seguir, permitem que os matemáticos encontrem probabilidades mesmo em situações complexas."
   ]
  },
  {
   "cell_type": "markdown",
   "metadata": {},
   "source": [
    "## Quando Dois Eventos Devem Acontecer Ambos\n",
    "Suponha que você tenha uma caixa que contém três bilhetes: um vermelho, um azul e um verde. Suponha que você tire dois bilhetes aleatoriamente sem reposição; ou seja, você embaralha os três bilhetes, tira um, embaralha os dois restantes e tira outro desses dois. Qual é a chance de obter o bilhete verde primeiro, seguido pelo vermelho?\n",
    "\n",
    "Existem seis pares possíveis de cores: RB, BR, RG, GR, BG, GB (abreviamos os nomes de cada cor para apenas sua primeira letra). Todos esses pares são igualmente prováveis pelo esquema de amostragem, e apenas um deles (GR) faz o evento acontecer. Portanto,\n",
    "\n",
    "$$\n",
    "P(\\mbox{verde primeiro, depois vermelho}) ~=~ \n",
    "\\frac{\\#\\{\\mbox{GR}\\}}{\\#\\{\\mbox{RB, BR, RG, GR, BG, GB}\\}} ~=~ \\frac{1}{6}\n",
    "$$"
   ]
  },
  {
   "cell_type": "markdown",
   "metadata": {},
   "source": [
    "Mas há outra maneira de chegar à resposta, pensando no evento em duas etapas. Primeiro, o bilhete verde precisa ser tirado. Isso tem chance de $1/3$, o que significa que o bilhete verde é tirado primeiro em cerca de $1/3$ de todas as repetições do experimento. Mas isso não completa o evento. *Entre os 1/3 das repetições em que o verde é tirado primeiro*, o bilhete vermelho precisa ser tirado em seguida. Isso acontece em cerca de $1/2$ dessas repetições, e então:\n",
    "\n",
    "$$\n",
    "P(\\mbox{verde primeiro, depois vermelho}) ~=~ \\frac{1}{2} ~\\mbox{de}~ \\frac{1}{3}\n",
    "~=~ \\frac{1}{6}\n",
    "$$\n",
    "\n",
    "Este cálculo é geralmente escrito \"em ordem cronológica,\" como segue.\n",
    "\n",
    "$$\n",
    "P(\\mbox{verde primeiro, depois vermelho}) ~=~ \\frac{1}{3} ~\\times~ \\frac{1}{2}\n",
    "~=~ \\frac{1}{6}\n",
    "$$"
   ]
  },
  {
   "cell_type": "markdown",
   "metadata": {},
   "source": [
    "O fator de $1/2$ é chamado de \"a chance condicional de que o bilhete vermelho apareça em segundo lugar, dado que o bilhete verde apareceu primeiro.\"\n",
    "\n",
    "Em geral, temos a **regra de multiplicação**:\n",
    "\n",
    "$$\n",
    "P(\\mbox{dois eventos acontecem ambos})\n",
    "~=~ P(\\mbox{um evento acontece}) \\times \n",
    "P(\\mbox{o outro evento acontece, dado que o primeiro aconteceu})\n",
    "$$\n",
    "\n",
    "Assim, quando há duas condições – um evento deve acontecer, bem como outro – a chance é *uma fração de uma fração*, que é menor do que qualquer uma das duas frações componentes. Quanto mais condições precisam ser satisfeitas, menos provável é que todas sejam satisfeitas."
   ]
  },
  {
   "cell_type": "markdown",
   "metadata": {},
   "source": [
    "## Quando um Evento Pode Acontecer de Duas Maneiras Diferentes\n",
    "Suponha agora que queremos a chance de um dos dois bilhetes ser verde e o outro vermelho. Este evento não especifica a ordem em que as cores devem aparecer. Então elas podem aparecer em qualquer ordem. \n",
    "\n",
    "Uma maneira boa de lidar com problemas como esse é *particionar* o evento para que ele possa acontecer exatamente de uma entre várias maneiras diferentes. A partição natural de \"um verde e um vermelho\" é: GR, RG. \n",
    "\n",
    "Cada uma de GR e RG tem chance $1/6$ pelo cálculo acima. Então você pode calcular a chance de \"um verde e um vermelho\" somando-os.\n",
    "\n",
    "$$\n",
    "P(\\mbox{um verde e um vermelho}) ~=~ P(\\mbox{GR}) + P(\\mbox{RG}) ~=~ \n",
    "\\frac{1}{6} + \\frac{1}{6} ~=~ \\frac{2}{6}\n",
    "$$\n",
    "\n",
    "Em geral, temos a **regra da adição**:\n",
    "\n",
    "$$\n",
    "P(\\mbox{um evento acontece}) ~=~\n",
    "P(\\mbox{primeira maneira como pode acontecer}) + P(\\mbox{segunda maneira como pode acontecer}) ~~~\n",
    "\\mbox{}\n",
    "$$\n",
    "\n",
    "desde que o evento aconteça exatamente de uma das duas maneiras.\n",
    "\n",
    "Assim, quando um evento pode acontecer de duas maneiras diferentes, a chance de que isso aconteça é uma soma de chances, e portanto maior do que a chance de qualquer uma das maneiras individuais."
   ]
  },
  {
   "cell_type": "markdown",
   "metadata": {},
   "source": [
    "A regra da multiplicação tem uma extensão natural para mais de dois eventos, como veremos abaixo. Da mesma forma, a regra da adição tem uma extensão natural para eventos que podem acontecer de várias maneiras diferentes.\n",
    "\n",
    "Encerramos a seção com exemplos que usam combinações de todas essas regras."
   ]
  },
  {
   "cell_type": "markdown",
   "metadata": {},
   "source": [
    "## Pelo Menos Um Sucesso\n",
    "Os cientistas de dados frequentemente trabalham com amostras aleatórias de populações. Uma questão que às vezes surge é sobre a probabilidade de que um indivíduo específico na população seja selecionado para estar na amostra. Para calcular a chance, esse indivíduo é chamado de \"sucesso,\" e o problema é encontrar a probabilidade de que a amostra contenha um sucesso.\n",
    "\n",
    "Para entender como essas chances podem ser calculadas, começamos com uma configuração mais simples: lançar uma moeda duas vezes.\n",
    "\n",
    "Se você lançar uma moeda duas vezes, existem quatro resultados igualmente prováveis: HH, HT, TH e TT. Nós abreviamos \"Cara\" para C e \"Coroa\" para T. A chance de obter pelo menos uma cara em dois lançamentos, portanto, é de 3/4.\n",
    "\n",
    "Outra maneira de chegar a essa resposta é calcular o que acontece se você *não* obter pelo menos uma cara. Isso é quando ambos os lançamentos resultam em coroas. Então\n",
    "\n",
    "$$\n",
    "P(\\mbox{pelo menos uma cara em dois lançamentos}) ~=~ 1 - P(\\mbox{ambos coroas}) ~=~ 1 - \\frac{1}{4}\n",
    "~=~ \\frac{3}{4}\n",
    "$$\n",
    "\n",
    "Observe também que \n",
    "\n",
    "$$\n",
    "P(\\mbox{ambos coroas}) ~=~ \\frac{1}{4} ~=~ \\frac{1}{2} \\cdot \\frac{1}{2} ~=~ \\left(\\frac{1}{2}\\right)^2\n",
    "$$\n",
    "pela regra da multiplicação.\n",
    "\n",
    "Essas duas observações nos permitem encontrar a chance de pelo menos uma cara em qualquer número dado de lançamentos. Por exemplo,\n",
    "\n",
    "$$\n",
    "P(\\mbox{pelo menos uma cara em 17 lançamentos}) ~=~ 1 - P(\\mbox{todos os 17 são coroas})\n",
    "~=~ 1 - \\left(\\frac{1}{2}\\right)^{17}\n",
    "$$\n",
    "\n",
    "E agora estamos em posição de encontrar a chance de que o lado com seis pontos apareça pelo menos uma vez em jogadas de um dado. \n",
    "\n",
    "Por exemplo,\n",
    "\n",
    "$$\n",
    "P(\\mbox{um único lançamento não é 6}) ~=~ 1 - P(6)\n",
    "~=~ \\frac{5}{6}\n",
    "$$\n",
    "\n",
    "Portanto,\n",
    "\n",
    "$$\n",
    "P(\\mbox{pelo menos um 6 em dois lançamentos}) ~=~ 1 - P(\\mbox{ambos os lançamentos não são 6})\n",
    "~=~ 1 - \\left(\\frac{5}{6}\\right)^2\n",
    "$$\n",
    "\n",
    "e\n",
    "\n",
    "$$\n",
    "P(\\mbox{pelo menos um 6 em 17 lançamentos})\n",
    "~=~ 1 - \\left(\\frac{5}{6}\\right)^{17}\n",
    "$$\n",
    "\n",
    "A tabela abaixo mostra essas probabilidades à medida que o número de lançamentos aumenta de 1 para 50."
   ]
  },
  {
   "cell_type": "code",
   "execution_count": 2,
   "metadata": {},
   "outputs": [
    {
     "data": {
      "text/html": [
       "<table border=\"1\" class=\"dataframe\">\n",
       "    <thead>\n",
       "        <tr>\n",
       "            <th>Rolls</th> <th>Chance of at least one 6</th>\n",
       "        </tr>\n",
       "    </thead>\n",
       "    <tbody>\n",
       "        <tr>\n",
       "            <td>1    </td> <td>0.166667                </td>\n",
       "        </tr>\n",
       "        <tr>\n",
       "            <td>2    </td> <td>0.305556                </td>\n",
       "        </tr>\n",
       "        <tr>\n",
       "            <td>3    </td> <td>0.421296                </td>\n",
       "        </tr>\n",
       "        <tr>\n",
       "            <td>4    </td> <td>0.517747                </td>\n",
       "        </tr>\n",
       "        <tr>\n",
       "            <td>5    </td> <td>0.598122                </td>\n",
       "        </tr>\n",
       "        <tr>\n",
       "            <td>6    </td> <td>0.665102                </td>\n",
       "        </tr>\n",
       "        <tr>\n",
       "            <td>7    </td> <td>0.720918                </td>\n",
       "        </tr>\n",
       "        <tr>\n",
       "            <td>8    </td> <td>0.767432                </td>\n",
       "        </tr>\n",
       "        <tr>\n",
       "            <td>9    </td> <td>0.806193                </td>\n",
       "        </tr>\n",
       "        <tr>\n",
       "            <td>10   </td> <td>0.838494                </td>\n",
       "        </tr>\n",
       "    </tbody>\n",
       "</table>\n",
       "<p>... (40 rows omitted)</p>"
      ],
      "text/plain": [
       "Rolls | Chance of at least one 6\n",
       "1     | 0.166667\n",
       "2     | 0.305556\n",
       "3     | 0.421296\n",
       "4     | 0.517747\n",
       "5     | 0.598122\n",
       "6     | 0.665102\n",
       "7     | 0.720918\n",
       "8     | 0.767432\n",
       "9     | 0.806193\n",
       "10    | 0.838494\n",
       "... (40 rows omitted)"
      ]
     },
     "execution_count": 2,
     "metadata": {},
     "output_type": "execute_result"
    }
   ],
   "source": [
    "rolls = np.arange(1, 51, 1)\n",
    "results = Table().with_columns(\n",
    "    'Rolls', rolls,\n",
    "    'Chance of at least one 6', 1 - (5/6)**rolls\n",
    ")\n",
    "results"
   ]
  },
  {
   "cell_type": "markdown",
   "metadata": {},
   "source": [
    "A chance de um 6 aparecer pelo menos uma vez aumenta rapidamente à medida que o número de lançamentos aumenta."
   ]
  },
  {
   "cell_type": "code",
   "execution_count": 3,
   "metadata": {},
   "outputs": [
    {
     "data": {
      "image/png": "[encoded data removed]",
      "text/plain": [
       "<Figure size 360x360 with 1 Axes>"
      ]
     },
     "metadata": {
      "needs_background": "light"
     },
     "output_type": "display_data"
    }
   ],
   "source": [
    "results.scatter('Rolls')"
   ]
  },
  {
   "cell_type": "markdown",
   "metadata": {},
   "source": [
    "Em 50 lançamentos, é quase certo que você obterá pelo menos um 6."
   ]
  },
  {
   "cell_type": "code",
   "execution_count": 4,
   "metadata": {},
   "outputs": [
    {
     "data": {
      "text/html": [
       "<table border=\"1\" class=\"dataframe\">\n",
       "    <thead>\n",
       "        <tr>\n",
       "            <th>Rolls</th> <th>Chance of at least one 6</th>\n",
       "        </tr>\n",
       "    </thead>\n",
       "    <tbody>\n",
       "        <tr>\n",
       "            <td>50   </td> <td>0.99989                 </td>\n",
       "        </tr>\n",
       "    </tbody>\n",
       "</table>"
      ],
      "text/plain": [
       "Rolls | Chance of at least one 6\n",
       "50    | 0.99989"
      ]
     },
     "execution_count": 4,
     "metadata": {},
     "output_type": "execute_result"
    }
   ],
   "source": [
    "results.where('Rolls', are.equal_to(50))"
   ]
  },
  {
   "cell_type": "markdown",
   "metadata": {},
   "source": [
    "Cálculos como esses podem ser usados ​​para encontrar a chance de um determinado indivíduo ser selecionado em uma amostra aleatória. O cálculo exato dependerá do esquema de amostragem. Mas o que observamos acima geralmente pode ser generalizado: aumentar o tamanho da amostra aleatória aumenta a chance de um indivíduo ser selecionado."
   ]
  }
 ],
 "metadata": {
  "anaconda-cloud": {},
  "kernelspec": {
   "display_name": "Python 3",
   "language": "python",
   "name": "python3"
  },
  "language_info": {
   "codemirror_mode": {
    "name": "ipython",
    "version": 3
   },
   "file_extension": ".py",
   "mimetype": "text/x-python",
   "name": "python",
   "nbconvert_exporter": "python",
   "pygments_lexer": "ipython3",
   "version": "3.8.3"
  }
 },
 "nbformat": 4,
 "nbformat_minor": 1
}
